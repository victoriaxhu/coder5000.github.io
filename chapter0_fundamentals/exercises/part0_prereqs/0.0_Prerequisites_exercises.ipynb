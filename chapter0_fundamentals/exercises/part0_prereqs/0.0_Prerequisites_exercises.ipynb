{
  "cells": [
    {
      "cell_type": "markdown",
      "metadata": {
        "id": "7vfUbARE0kJ1"
      },
      "source": [
        "# [0.0] - Prerequisites (exercises)\n",
        "\n",
        "> **ARENA [Streamlit Page](https://arena-chapter0-fundamentals.streamlit.app/00_[0.0]_Prerequisites)**\n",
        ">\n",
        "> **Colab: [exercises](https://colab.research.google.com/github/callummcdougall/ARENA_3.0/blob/main/chapter0_fundamentals/exercises/part0_prereqs/0.0_Prerequisites_exercises.ipynb?t=20250206) | [solutions](https://colab.research.google.com/github/callummcdougall/ARENA_3.0/blob/main/chapter0_fundamentals/exercises/part0_prereqs/0.0_Prerequisites_solutions.ipynb?t=20250206)**\n",
        "\n",
        "Please send any problems / bugs on the `#errata` channel in the [Slack group](https://join.slack.com/t/arena-uk/shared_invite/zt-2zick19fl-6GY1yoGaoUozyM3wObwmnQ), and ask any questions on the dedicated channels for this chapter of material.\n",
        "\n",
        "You can collapse each section so only the headers are visible, by clicking the arrow symbol on the left hand side of the markdown header cells.\n",
        "\n",
        "Links to all other chapters: [(0) Fundamentals](https://arena-chapter0-fundamentals.streamlit.app/), [(1) Transformer Interpretability](https://arena-chapter1-transformer-interp.streamlit.app/), [(2) RL](https://arena-chapter2-rl.streamlit.app/)."
      ]
    },
    {
      "cell_type": "markdown",
      "metadata": {
        "id": "uNx7u6vK0kJ2"
      },
      "source": [
        "<img src=\"https://raw.githubusercontent.com/info-arena/ARENA_img/main/misc/headers/header-00.png\" width=\"350\">"
      ]
    },
    {
      "cell_type": "markdown",
      "metadata": {
        "id": "yyb0ag-W0kJ2"
      },
      "source": [
        "# Introduction"
      ]
    },
    {
      "cell_type": "markdown",
      "metadata": {
        "id": "0iulgYmO0kJ2"
      },
      "source": [
        "This page contains important prerequisites for the rest of the material in this chapter. The first page **Core Concepts / Knowledge** is a long list of important concepts and libraries that you should be familiar with before starting the rest of the material. The second page **Einops, Einsum & Tensor Manipulation** provides some coding exercises to help you get familiar with the `einops` and `einsum` libraries, as well as some exercises on indexing and other aspects of tensor manipulation. We anticipate adding more exercises here in the future, in the style of the second page.\n",
        "\n",
        "See the homepage for more instructions on how to set up your environment, and install all the dependencies you need to run the exercises."
      ]
    },
    {
      "cell_type": "markdown",
      "metadata": {
        "id": "rKP1tupA0kJ3"
      },
      "source": [
        "## Content & Learning Objectives\n",
        "\n",
        "### 1️⃣ Core Concepts / Knowledge\n",
        "\n",
        "This section doesn't have exercises; it goes through a list of important concepts with associated reading material and questions to check your understanding. We cover all the core material that you'll need for the rest of the course such as neural networks, linear algebra, probability, and calculus.\n",
        "\n",
        "> ##### Learning Objectives\n",
        ">\n",
        "> - Understand the structure and function of neural networks\n",
        "> - Learn essential linear algebra concepts like matrix operations and transformations\n",
        "> - Understand core principles of probability and statistics, including expected value and variance\n",
        "> - Learn how calculus concepts (particularly differentiation) are applied in optimization tasks\n",
        "> - Cover some foundational information theory concepts, such as entropy and KL divergence\n",
        "> - Enhance Python programming skills, focusing on NumPy and PyTorch basics\n",
        "\n",
        "### 2️⃣ Einops, Einsum & Tensor Manipulation\n",
        "\n",
        "These sections will introduce you to a third party library which you'll find very useful for the rest of this course, and will also require you to engage with various tensor operations (something else that will come up repeatedly during this course).\n",
        "\n",
        "> ##### Learning Objectives\n",
        ">\n",
        "> - Understand the basics of Einstein summation convention\n",
        "> - Learn how to use `einops` to perform basic tensor rearrangement, and `einsum` to to perform standard linear algebra operations on tensors"
      ]
    },
    {
      "cell_type": "markdown",
      "metadata": {
        "id": "ok_8wCBe0kJ3"
      },
      "source": [
        "# 1️⃣ Core Concepts / Knowledge\n",
        "\n",
        "> ##### Learning Objectives\n",
        ">\n",
        "> - Understand the structure and function of neural networks\n",
        "> - Learn essential linear algebra concepts like matrix operations and transformations\n",
        "> - Understand core principles of probability and statistics, including expected value and variance\n",
        "> - Learn how calculus concepts (particularly differentiation) are applied in optimization tasks\n",
        "> - Cover some foundational information theory concepts, such as entropy and KL divergence\n",
        "> - Enhance Python programming skills, focusing on NumPy and PyTorch basics"
      ]
    },
    {
      "cell_type": "markdown",
      "metadata": {
        "id": "sD0POsI40kJ3"
      },
      "source": [
        "This page contains a list of all prerequisites we think will be helpful to learn before studying the ARENA program material. You can return to this page while you study. None of it is compulsory and some resources are likely to be much more helpful than others. We denote very high and high-priority resources with a double and single asterisk respectively, so if you have limited time then prioritise these. It is strongly recommended to at least read over everything with a double asterisk. Also, you should try and prioritise areas you think you might be weaker in than others (for instance, if you have a strong SWE background but less maths experience then you might want to spend more time on the maths sections). You can also return to this document throughout the programme, if there are any areas you want to brush up on.\n",
        "\n",
        "The content is partially inspired by a similar doc handed out by Redwood to participants before the start of MLAB, as well as by pre-prerequisite material provided by Jacob Hilton on his [GitHub page](https://github.com/jacobhilton/deep_learning_curriculum).\n",
        "\n",
        "> Throughout this document, there are some questions thrown in (denoted with boxes like these). It's not essential to answer all of these questions, but you should be able to answer most (or at least know how you might go about answering them).\n",
        "\n",
        "If you are reading this, and know of any good material for these topics which we've missed out, please let us know and we might be able to add it in!"
      ]
    },
    {
      "cell_type": "markdown",
      "metadata": {
        "id": "uFuYWsfK0kJ3"
      },
      "source": [
        "## Maths\n",
        "\n",
        "### Neural Networks**\n",
        "\n",
        "We won't assume any deep knowledge of neural networks or machine learning before the programme starts, but it's useful to have an idea of the basis so that the first week doesn't have quite as steep a learning curve. The best introductory resources here are 3B1B's videos on neural networks:\n",
        "\n",
        "* [But what is a neural network? | Chapter 1, Deep learning](https://www.youtube.com/watch?v=aircAruvnKk)\n",
        "* [Gradient descent, how neural networks learn | Chapter 2, Deep learning](https://www.youtube.com/watch?v=IHZwWFHWa-w)\n",
        "* [What is backpropagation really doing? | Chapter 3, Deep learning](https://www.youtube.com/watch?v=Ilg3gGewQ5U)\n",
        "\n",
        "You should prioritise the first two videos in this sequence.\n",
        "\n",
        "<blockquote>\n",
        "\n",
        "**What makes neural networks more powerful than basic statistical methods like linear regression?**\n",
        "\n",
        "<details>\n",
        "<summary>Answer</summary>\n",
        "\n",
        "Some possible answers / points to consider:\n",
        "\n",
        "* Neural networks exploit **nonlinearity**, which allows them to express a much wider set of possible functions, whereas linear regression is relatively limited.\n",
        "* Neural networks are learned using gradient descent, meaning their power isn't upper-bounded by the algorithms which programmers or mathematicians can feasibly design by hand.\n",
        "\n",
        "</details>\n",
        "\n",
        "</blockquote>\n",
        "&nbsp;\n",
        "<blockquote>\n",
        "\n",
        "**What are the advantages of ReLU activations over sigmoids?**\n",
        "\n",
        "<details>\n",
        "<summary>Answer</summary>\n",
        "\n",
        "Some possible answers / points to consider:\n",
        "\n",
        "* ReLU more effectively avoids the **vanishing gradient problem**, which is common in sigmoids.\n",
        "* ReLU is more **computationally efficient** to evaluate than sigmoid.\n",
        "\n",
        "However, an important point about ReLU and much of ML in general - the better empirical results often come before the theoretical justifications! A lot of ML is built on the philosophy of \"experiment until you find something that works, *then* figure out why it works.\"\n",
        "\n",
        "</details>\n",
        "\n",
        "</blockquote>"
      ]
    },
    {
      "cell_type": "markdown",
      "metadata": {
        "id": "rUntBU6B0kJ3"
      },
      "source": [
        "### Linear Algebra**\n",
        "\n",
        "Linear algebra lies at the core of a lot of machine learning.\n",
        "\n",
        "<img src = \"https://lh3.googleusercontent.com/lc5-ykchkkSylhM77XrLuCzfthg8bEtdUTV5EUcArilVKPlh9NZQDWkVnp55s35HftZAWdmyVmh3h5g83HtkOscn1g7x4wS5JO8s4mujPV8N2RbBqoCKiY0K_lVRJgVj7zuSyqPV4SIkbsjaWUQkqJY\" width=\"360\">\n",
        "\n",
        "Here is a list of topics you should be comfortable with:\n",
        "\n",
        "*   Linear transformations - what they are, and why they are important\n",
        "    *   See [this](https://www.youtube.com/watch?v=kYB8IZa5AuE) video from 3B1B\n",
        "*   How [matrix multiplication works](http://mlwiki.org/index.php/Matrix-Matrix_Multiplication)\n",
        "*   Basic matrix properties: rank, trace, determinant, transpose\n",
        "*   Bases, and basis transformations\n",
        "\n",
        "Some other non-essential topics that we also weakly recommend:\n",
        "\n",
        "*   [Singular value decomposition](https://www.lesswrong.com/posts/iupCxk3ddiJBAJkts/six-and-a-half-intuitions-for-svd)\n",
        "*   Eigenvalues and eigenvectors\n",
        "*   Different types of matrix, and their significance (e.g. symmetric, orthogonal, identity, rotation matrices)\n",
        "\n",
        "[This video series](https://www.youtube.com/playlist?list=PLZHQObOWTQDPD3MizzM2xVFitgF8hE_ab) by 3B1B provides a good overview of these core topics (although you can probably skip it if you already have a reasonably strong mathematical background).\n",
        "\n",
        "If you have a lot more time, [Linear Algebra Done Right](https://link.springer.com/book/10.1007/978-3-319-11080-6) is the canonical textbook for covering this topic (although it will probably cover much more than you need to know). Alternatively, Neel Nanda has two [YouTube](https://www.youtube.com/watch?v=GkPhwnvRe-8) [videos](https://www.youtube.com/watch?v=0EB23unfLSU) covering linear algebra extensively.\n",
        "\n",
        "<blockquote>\n",
        "\n",
        "**What is the problem in trying to create a neural network using only linear transformations?**\n",
        "\n",
        "<details>\n",
        "<summary>Answer</summary>\n",
        "\n",
        "The composition of linear transformations is also linear, so if you only use linear transformations then you can only create linear functions. This is a problem because many functions we want to learn are not linear.\n",
        "\n",
        "Composing linear and nonlinear transformations however, we can learn basically anything!\n",
        "\n",
        "</details>\n",
        "\n",
        "</blockquote>\n",
        "&nbsp;\n",
        "<blockquote>\n",
        "\n",
        "**Matrices $A$ and $B$ have shapes $(n, m)$ and $(m, l)$. What is the maximum possible rank of the matrix $AB$?**\n",
        "\n",
        "<details>\n",
        "<summary>Answer</summary>\n",
        "\n",
        "The rank of $AB$ is upper-bounded by the minimum of the ranks of $A$ and $B$, and the rank of a matrix is upper-bounded by the minimum of its row number and column number (since matrix rank equals the dimensionality of its column span, and also equals the dimensionality of its row span). So $\\text{rank}(AB) \\leq \\min(\\text{rank}(A), \\text{rank}(B)) \\leq \\min(n, m, l)$.\n",
        "\n",
        "Note - in **transformer language models**, we often have cases where $m \\ll n, l$, so we have a large, low-rank matrix $AB$. We use tools like singular value decomposition to understand these matrices (e.g. see [this post](https://www.lesswrong.com/posts/mkbGjzxD8d8XqKHzA/the-singular-value-decompositions-of-transformer-weight)), since SVD is a common tool for large low-rank matrices.\n",
        "\n",
        "</details>\n",
        "\n",
        "</blockquote>"
      ]
    },
    {
      "cell_type": "markdown",
      "metadata": {
        "id": "3MZUTtaR0kJ4"
      },
      "source": [
        "### Probability & Statistics**\n",
        "\n",
        "It's essential to understand the rules of probability, expected value and standard deviation, and helpful to understand independence and the normal distribution.\n",
        "\n",
        "[This link](https://medium.com/jun94-devpblog/prob-stats-3-expected-value-variance-and-standard-deviation-bce9303d8da8) covers some of the essentials.\n",
        "\n",
        "\n",
        "<blockquote>\n",
        "\n",
        "**What is the expected value and variance of the sum of two independent normally distributed random variables $X_1 \\sim N(\\mu_1, \\sigma_1^2)$ and $X_2 \\sim N(\\mu_2, \\sigma_2^2)$? Are either of these different if they're correlated? (We don't necessarily expect you to be able to derive this kind of result.)**\n",
        "\n",
        "<details>\n",
        "<summary>Answer</summary>\n",
        "\n",
        "For indepdenent variables, the expected value and variances are both additive, in other words $\\mu_1 + \\mu_2$ and $\\sigma_1^2 + \\sigma_2^2$ respectively.\n",
        "\n",
        "If the variables are correlated, the mean is the same, but the variance will be different: larger if they're correlated, smaller if they're anticorrelated. For some intuition: if they're perfectly correlated then you're basically just doubling a single value so you'll quadruple the variance, whereas if they're perfectly anticorrelated then the sum is always zero, so variance is zero.\n",
        "\n",
        "</details>\n",
        "\n",
        "</blockquote>"
      ]
    },
    {
      "cell_type": "markdown",
      "metadata": {
        "id": "zhOREKH_0kJ4"
      },
      "source": [
        "### Calculus**\n",
        "\n",
        "It's essential to understand differentiation and partial differentiation, and helpful to understand the basics of vector calculus including the chain rule and Taylor series.\n",
        "\n",
        "Again, 3Blue1Brown has a good [video series](https://www.3blue1brown.com/topics/calculus) on this.\n",
        "\n",
        "<blockquote>\n",
        "\n",
        "**What is the derivative of quadratic loss $L(x, y) = \\frac{1}{2}(x-y)^2$ wrt the input $x$ (assuming all variables are scalars, not vectors)? How about for cross entropy loss $L(x, y) = -(y\\log{x} + (1-y)\\log{(1-x)})$, assuming that $x \\in (0, 1)$ and $y$ is a binary classification label with value either zero or one? What will be the qualitative behaviour of performing gradient descent on $x$ with these loss functions?**\n",
        "\n",
        "<details>\n",
        "<summary>Answer</summary>\n",
        "\n",
        "**MSE loss**\n",
        "\n",
        "The derivative of $L$ wrt $x$ is $x-y$. Qualitatively, this means $x$ will be increased if $x < y$, and decreased if $x > y$, with the size of the increase / decrease proportional to the difference between them.\n",
        "\n",
        "Qualitatively, this loss function will push $x_n$ downwards if $x_n > y_n$ (with the size of the gradient proportional to the difference between them).\n",
        "\n",
        "**BCE loss**\n",
        "\n",
        "The derivative of $L$ wrt $x$ is $-\\frac{y}{x} + \\frac{1-y}{1-x}$, which equals $-\\frac{1}{x}$ when $y=1$ and $\\frac{1}{1-x}$ when $y=0$. Qualitatively, this means that $x$ will be increased if $y=1$, and decreased if $y=0$, with the size of the increase / decrease getting unboundedly large when $x$ is close to $1-y$ (i.e. far from the correct value).\n",
        "\n",
        "Note - in this case, $x$ is the probability output by our model, which is probably the result of applying a sigmoid or softmax function to the model's **logit output**. So the gradient of $L$ wrt $x$ being unbounded doesn't mean the gradient on the model's weights will be unbounded.\n",
        "\n",
        "</details>\n",
        "\n",
        "</blockquote>"
      ]
    },
    {
      "cell_type": "markdown",
      "metadata": {
        "id": "VQKt77lR0kJ4"
      },
      "source": [
        "### Information theory\n",
        "\n",
        "It's helpful to understand information, entropy and KL divergence. These play key roles in interpreting loss functions.\n",
        "\n",
        "[Elements of Information Theory](http://staff.ustc.edu.cn/~cgong821/Wiley.Interscience.Elements.of.Information.Theory.Jul.2006.eBook-DDU.pdf) by Thomas M. Cover is the textbook recommended by Jacob Hilton. It will probably cover more than you need to know, and this need not be prioritised over other items on the list.\n",
        "\n",
        "For an overview of Kullback Leibler divergence (an important concept in information theory and machine learning), see [Six (and a half) intuitions for KL divergence](https://www.lesswrong.com/posts/no5jDTut5Byjqb4j5/six-and-a-half-intuitions-for-kl-divergence). Note that this probably won't make sense if you don't already have a solid grasp of what entropy is.\n",
        "\n",
        "<blockquote>\n",
        "\n",
        "**Suppose $P$ is the probability distribution of which word comes next in natural language, and $Q$ is a language model's estimated probability distribution. What will the cross entropy $H(P, Q)$ be if the model is guessing words uniformly? What will the cross entropy be if the model can predict words with the exact right frequency?**\n",
        "\n",
        "<details>\n",
        "<summary>Answer</summary>\n",
        "\n",
        "If the model is guessing uniformly, then:\n",
        "\n",
        "$$\n",
        "H(P, Q) = -\\sum_x P(x) \\log Q(x) = -\\sum_x P(x) \\log \\frac{1}{|V|} = \\log |V|\n",
        "$$\n",
        "\n",
        "where $V$ is the vocabulary set, and $|V|$ is the number of words in the vocabulary.\n",
        "\n",
        "If the model is guessing with the exact right frequency, then:\n",
        "\n",
        "$$\n",
        "H(P, Q) = -\\sum_x P(x) \\log Q(x) = -\\sum_x P(x) \\log P(x) = H(P)\n",
        "$$\n",
        "\n",
        "in other words, cross entropy just reduces to the entropy of natural language.\n",
        "</details>\n",
        "\n",
        "</blockquote>"
      ]
    },
    {
      "cell_type": "markdown",
      "metadata": {
        "id": "176DtjM50kJ4"
      },
      "source": [
        "## Programming\n",
        "\n",
        "### Python**\n",
        "\n",
        "It's important to be strong in Python, because this is the language we'll be using during the programme. As a rough indication, we expect you to be comfortable with at least 80-90% of the material [**here**](https://book.pythontips.com/en/latest/), up to section **\"21. for/else\"**. For a more thorough treatment of Python's core functionality, see [**here**](https://docs.python.org/3/tutorial/)."
      ]
    },
    {
      "cell_type": "markdown",
      "metadata": {
        "id": "-F21CQbm0kJ4"
      },
      "source": [
        "### Libraries\n",
        "\n",
        "The following libraries would be useful to know to at least a basic level, before the course starts.\n",
        "\n",
        "#### [NumPy](https://numpy.org/)**\n",
        "\n",
        "Being familiar with NumPy is a staple for working with high-performance Python. Additionally, the syntax for working with NumPy arrays is very similar to how you work with PyTorch tensors (often there are only minor differences, e.g. Torch tends to use the keyword dim where NumPy uses axis). Working through [these 100 basic NumPy exercises](https://github.com/rougier/numpy-100/blob/master/100_Numpy_exercises.ipynb) would be a good idea, or if you're comfortable with NumPy already then you could try doing them in PyTorch (see below).\n",
        "\n",
        "#### [PyTorch](https://pytorch.org/)**\n",
        "\n",
        "We will be starting chapter 0 of the programme with some structured exercises designed to get everyone familiar with working in PyTorch. However, the more comfortable you are with PyTorch going in, the easier you'll probably find this. PyTorch has several useful tutorials, and to get comfortable working with tensors you might want to implement the 100 basic NumPy exercises linked to above, using PyTorch instead. Another option would be this [Learn the Basics](https://pytorch.org/tutorials/beginner/basics/intro.html) tutorial. You can skip this if you can clearly explain:\n",
        "\n",
        "> * **At a high level, what is a `torch.Tensor`?**\n",
        "> * **What is a `nn.Parameter`, and `nn.Module`?**\n",
        "> * **When you call `.backward()`, where are your gradients stored?**\n",
        "> * **What is a loss function? In general, what does it take for arguments, and what does it return?**\n",
        "> * **What does an optimization algorithm do?**\n",
        "> * **What is a hyperparameter, and how does it differ from a regular parameter?**\n",
        "> * **What are some examples of hyperparameters?**\n",
        "\n",
        "#### [Einops](https://einops.rocks/1-einops-basics) and [Einsum](https://einops.rocks/api/einsum/)*\n",
        "\n",
        "These are great libraries to get comfortable with, when manipulating tensors. If you're comfortable using them, then you can say goodbye to awkward NumPy/PyTorch methods like transpose, permute and squeeze! We'll have a few einops and einsum exercises on the second day of the fundamentals chapter, but the more comfortable you are with these libraries the faster you'll be.\n",
        "\n",
        "For einops, you can read through the examples up to \"Fancy examples in random order\". It's worth trying to play around with these in your own Jupyter notebook, to get more comfortable with them.\n",
        "\n",
        "For einsum, [this page](https://rockt.github.io/2018/04/30/einsum) provides a basic intro to einstein summation convention, and shows some example tensor implementations. Note that we'll be using the einsum function from the einops library, which allows you to refer to dimensions by name rather than by a single letter.\n",
        "\n",
        "#### [Typing](https://docs.python.org/3/library/typing.html)*\n",
        "\n",
        "Type-checking Python functions that you write is a great way to catch bugs, and keep your code clear and readable. Python isn't a strongly-typed language so you won't get errors from using incorrect type specifications unless you use a library like MyPy. However, if you're using VSCode then you can pair this library with a really useful automatic type checker (see next section).\n",
        "\n",
        "#### [Plotly](https://plotly.com/python)\n",
        "\n",
        "Plotly is an interactive graphing library which is great for presenting results and investigating data. If you're already very familiar with a different Python plotting library (e.g. matplotlib) then I wouldn't recommend re-learning Plotly, but if you aren't already very familiar with matplotlib or you're open to learning Plotly, I'd strongly recommend giving it a try!\n",
        "\n",
        "#### [Streamlit](https://share.streamlit.io)\n",
        "\n",
        "Streamlit is a cool library for building and sharing data-based applications. It integrates very nicely with Plotly (see above), can be hosted on your personal GitHub, and is very intuitive & easy to learn relative to other libraries with similar features (e.g. Dash). This is not compulsory, but if you like the look of Streamlit then you might want to think about using it as a way to submit (or even make public) your end-of-week or capstone projects. See [this page](https://copy-suppression.streamlit.app/) I (Callum) made for presenting the results from the Copy Suppression paper I worked on during SERI MATS, as an example of what Streamlit can do."
      ]
    },
    {
      "cell_type": "markdown",
      "metadata": {
        "id": "mE4dbb8W0kJ5"
      },
      "source": [
        "## Software Engineering\n",
        "\n",
        "### Basic coding skills**\n",
        "\n",
        "If you've been accepted into this programme, then you probably already have this box ticked! However, polishing this area can't hurt. LeetCode is a good place to keep basic coding skills sharp, in particular practising the planning and implementation of functions in the medium-hard sections of LeetCode might be helpful. Practising problems on [Project Euler](https://projecteuler.net/) is another idea."
      ]
    },
    {
      "cell_type": "markdown",
      "metadata": {
        "id": "sN3Dbleu0kJ5"
      },
      "source": [
        "### VSCode**\n",
        "\n",
        "Although many of you might already be familiar with Jupyter Notebooks, we recommend working through structured exercises using VSCode. This is a powerful text editor which provides more features than Jupyter Notebooks. Some features it has are:\n",
        "\n",
        "* **Shortcuts**  \n",
        "    These are much more powerful than anything offered in Jupyter Notebooks. Below is a table of some particularly useful ones (see [this link](https://www.geeksforgeeks.org/visual-studio-code-shortcuts-for-windows-and-mac/) for more detail on how each of them works).\n",
        "    |       Commands       |                   Windows/Linux                   |                         MAC                         |\n",
        "    |:--------------------:|:-------------------------------------------------:|:---------------------------------------------------:|\n",
        "    |      Delete Line     |                  Ctrl + Shift + K                 |                   Cmd + Shift + K                   |\n",
        "    | Copy Line Up or Down | Shift + Alt + Up arrow or Shift +Alt + Down arrow | Opt + Shift + Up arrow or  Opt + Shift + Down arrow |\n",
        "    |      Global Find     |                  Ctrl + Shift + F                 |                   Cmd + Shift + F                   |\n",
        "    |       Copilot*       |             Ctrl + i / Ctrl + Shift + i           |              Cmd + i / Cmd + Shift + i              |\n",
        "    | Toggle Block Comment |                  Ctrl + Shift + /                 |                   Cmd + Shift + /                   |\n",
        "    |    Command Palette   |                  Ctrl + Shift + P                 |                   Cmd + Shift + P                   |\n",
        "    |  Toggle Line Comment |                      Ctrl + /                     |                       Cmd + /                       |\n",
        "    |  Trigger Suggestion  |                    Ctrl + Space                   |                     Cmd + Space                     |\n",
        "    |    Toggle Sidebar    |                      Ctrl + B                     |                       Cmd + B                       |\n",
        "    |  Multi Select Cursor |                      Ctrl + D                     |                       Cmd + D                       |\n",
        "    |      Quick Open      |                      Ctrl + P                     |                       Cmd + P                       |\n",
        "<br>\n",
        "\n",
        "* **Type checking**      \n",
        "    We discussed the typing module in a section above. This is particularly powerful when used alongside VSCode's type checker extension. You can activate typing by going to the `settings.json` file in VSCode, and adding this line:  \n",
        "    \n",
        "    ```json\n",
        "    {\n",
        "        \"python.analysis.typeCheckingMode\": \"basic\"\n",
        "    }\n",
        "    ```\n",
        "\n",
        "    You can open the `settings.json` file by first opening VSCode's Command Palette (see the shortcuts above), then finding the option Preferences: Open User Settings (JSON). We won't be using type checking like this in the course, because it can be a bit too strict sometimes, but it's a useful thing to know about.\n",
        "\n",
        "* **Notebook functionality**  \n",
        "Although VSCode does provide an extension which acts just like a Jupyter Notebook, it actually has a much more useful feature. Python files can also be made to act like notebooks, by adding the line #%% which act as cell dividers. In this way, you can separate chunks of code and run them individually (and see their output in a new window). See [this page](https://code.visualstudio.com/docs/python/jupyter-support-py) for a further explanation.  \n",
        "  \n",
        "* **Debugger**  \n",
        "The VSCode debugger is a great tool, and can be much more powerful and efficient than the standard practice of adding lines to print information about your output! You can set breakpoints in your code, and closely examine the local variables which are stored at that point in the program. More information can be found on [this page](https://lightrun.com/debugging/debug-python-in-vscode/).  \n",
        "  \n",
        "* **Testing**  \n",
        "VSCode provides ways to easily keep track of and run tests which are written using the pytest or unittest libraries. We'll have a look at the former during the course.  \n",
        "  \n",
        "* **Remote machines**  \n",
        "VSCode offers easy ways to execute code on remote machines over SSH.  \n",
        "  \n",
        "* **Copilot**  \n",
        "GitHub Copilot uses the OpenAI Codex to suggest code and entire functions in real-time, right from your editor. We will be encouraging (although not requiring) use of copilot during the program. It can't do everything, but it's very helpful in abstracting away the annoying low-level details and allowing you to focus on the higher-level concepts and structures.  \n",
        "  \n",
        "* **Local imports**  \n",
        "If you're getting squiggly yellow lines under local imports (or local imports aren't working), add this to the workspace JSON file (you can access it by searching \"workspace JSON\" into the command palette):\n",
        "\n",
        "    ```json\n",
        "    {\n",
        "        \"python.analysis.extraPaths\": [\n",
        "            \"extrapath\"\n",
        "        ],\n",
        "        \"python.analysis.include\": [\n",
        "            \"extrapath\"\n",
        "        ]\n",
        "    }\n",
        "    ```\n",
        "    where `extrapath` is the path you want to add (e.g. `./chapter0_fundamentals/exercises`, if you're running imports like `import part1_raytracing.solutions as solutions`)."
      ]
    },
    {
      "cell_type": "markdown",
      "metadata": {
        "id": "GCrzmv6a0kJ5"
      },
      "source": [
        "### Jupyter Notebook / Colab**\n",
        "\n",
        "Despite the overall awesomeness of VSCode, Jupyter Notebooks still have some advantages over VSCode, primarily in exploration and visualisation. Several of the advantages listed in the previous section also apply to .ipynb files created and edited in VSCode; the main reason we're not encouraging this for the ARENA in-person program is because we want participants to be able to write code that they can import from previous days (and because using .py files can help encourage better coding practices, rather than just creating a huge number of cells and dropping them under different headings, losing track of what code is where!).\n",
        "\n",
        "Colab has a similar structure to Jupyter Notebooks, but it provides several additional features, most importantly GPU access. For anyone following this material virtually, we unfortunately won't be able to provide compute, so (assuming you don't have any way of accessing better compute yourselves e.g. via Lambda Labs) Colab might be the best option for you."
      ]
    },
    {
      "cell_type": "markdown",
      "metadata": {
        "id": "FLjP-ve20kJ5"
      },
      "source": [
        "### Git*\n",
        "\n",
        "Git is a piece of version control software, designed for tracking and managing changes in a set of files. It can be very powerful, but also a bit of a headache to use.\n",
        "\n",
        "If you're following this course from the [repo](https://github.com/callummcdougall/ARENA_3.0), you'll need to be comfortable using Git to push and pull files. We also love to see participants contributing to open-source libraries during the program or capstone projects (e.g. TransformerLens or nnsight) as well as using GitHub for collaboration during their capstone projects. These will also require comfort working with Git.\n",
        "\n",
        "![](https://lh3.googleusercontent.com/jpF1jPI7VGb9ssE-Lzn58nB_d4CQlZItqxhFFU_ZLTL3bv_x_82WVmgyIHQRDyemS7Ne5zpj4-rGVRkpACfR_u7Cw8DTGrMr8H_Sm7w74k03gfcJ2nkAwyk2CElLhMonZ6nhQiirM43DP40BIw1Id0k)\n",
        "\n",
        "If you already have a strong SWE background then you might not need to spend as much time on this section. Otherwise, we recommend the [Learn Git Branching](https://learngitbranching.js.org/) tutorial series, for an intuitive and interactive set of exercises on Git. A few other resources which have been recommended (which will probably have a lot of overlap):\n",
        "\n",
        "* [An Intro to Git and GitHub for Beginners](https://product.hubspot.com/blog/git-and-github-tutorial-for-beginners)\n",
        "* [Git Immersion](https://gitimmersion.com/index.html)\n",
        "* [Git cheat sheet](https://www.atlassian.com/git/tutorials/atlassian-git-cheatsheet)\n",
        "\n",
        "Ideally, you should feel comfortable with the following:\n",
        "\n",
        "* Cloning a repository\n",
        "* Creating and switching between branches\n",
        "* Staging and committing changes\n",
        "* Pushing branches"
      ]
    },
    {
      "cell_type": "markdown",
      "metadata": {
        "id": "3gN3ZiW40kJ5"
      },
      "source": [
        "### Conda*\n",
        "\n",
        "Virtual environments are a common way to manage dependencies when working across multiple different projects and are standard practice in all professional development contexts. During ARENA, we expect that participants will be working inside likely one, but possibly more environments.\n",
        "\n",
        "If you haven't used them already, please ensure that you have conda installed and know how to activate it. See: [Getting started with conda](https://conda.io/projects/conda/en/latest/user-guide/getting-started.html)."
      ]
    },
    {
      "cell_type": "markdown",
      "metadata": {
        "id": "dz6Givsq0kJ5"
      },
      "source": [
        "### Unix\n",
        "\n",
        "This won't matter a huge amount for this course (at least for the minimal versions of it), but it's an important part of your development as an engineer. [UC Berkeley's UNIX Tutorial](https://people.ischool.berkeley.edu/~kevin/unix-tutorial/toc.html) provides a comprehensive introduction (up to & including section 4 should suffice for most things you might be doing during this course). [Surrey University's UNIX Tutorial](https://users.cs.duke.edu/~alvy/courses/unixtut/) is also a good resource - up to tutorial 2 should be sufficient.\n",
        "\n",
        "Also, you can use the instructions on [this page](https://cs50.readthedocs.io/terminal/) to set up a UNIX terminal to experiment with the methods covered in the above tutorials."
      ]
    },
    {
      "cell_type": "markdown",
      "metadata": {
        "id": "atZ2gEZJ0kJ5"
      },
      "source": [
        "## Optional Reading\n",
        "\n",
        "We will teach the course assuming you haven't read any of these, but they are all useful and relevant things to know and will allow you to understand the material more deeply and/or tackle a more advanced Week 4 project.\n",
        "\n",
        "#### [**100 NumPy Exercises**](https://github.com/rougier/numpy-100)\n",
        "\n",
        "After you've done the pre-course exercises, if you want more practice with this sort of thing, try these. Some of these are a lot more interesting than others - pick out some that sound fun and challenging and try solving them in PyTorch.\n",
        "\n",
        "#### [**What is torch.nn really?**](https://pytorch.org/tutorials/beginner/nn_tutorial.html) **by Jeremy Howard**\n",
        "\n",
        "You'll be implementing a lot of functionality of torch.nn and torch.optim yourself during the course. This is a good introduction to what functionality is in these packages. If you don't learn this now, you can pick it up during the course, though perhaps less deeply.\n",
        "\n",
        "#### [**NLP Demystified**](https://www.nlpdemystified.org/) **by Nitin Punjabi**\n",
        "\n",
        "An introduction to natural language processing assuming zero ML background.\n",
        "\n",
        "*   If you've never done NLP before, it's worth skimming to get a general idea of the field.\n",
        "*   If you've never built a basic feedforward neural network (MLP) from scratch, the section \"Neural Networks I” has a good exercise on this.\n",
        "\n",
        "#### [**Visualising Representations: Deep Learning and Human Beings**](https://colah.github.io/posts/2015-01-Visualizing-Representations/) **by Chris Olah**\n",
        "\n",
        "Builds intuition with nice pictures about what deep networks are doing inside.\n",
        "\n",
        "#### [**Spinning Up in Deep RL**](https://spinningup.openai.com/en/latest/) **by OpenAI**\n",
        "\n",
        "Introduction to using deep learning for reinforcement learning. ARENA will assume zero RL experience, but having some understanding already means you'll have an easier time and can tackle more advanced versions of things in the course.\n",
        "\n",
        "#### [**Introduction to Reinforcement Learning**](https://www.youtube.com/watch?v=2pWv7GOvuf0) **with David Silver**\n",
        "\n",
        "This video course is fairly old (2015) and the state of the art has come a long way, but this is still useful to cover the basics. I would recommend Spinning Up in Deep RL over this unless you learn better from video lectures than reading.\n",
        "\n",
        "#### [**The Matrix Cookbook**](https://www.math.uwaterloo.ca/~hwolkowi/matrixcookbook.pdf) **by Petersen and Pedersen**\n",
        "\n",
        "A densely packed reference of facts and identities about matrices. Definitely not intended to teach topics, but a good place to look up something you need. It's worth memorising identities 1-6, 11-16, and 18-23 from Page 6.\n",
        "\n",
        "#### [**Zoom In: An Introduction to Circuits**](https://distill.pub/2020/circuits/zoom-in/) **by Chris Olah et al**\n",
        "\n",
        "A very fun article on interpretability in neural networks trained for computer vision.\n",
        "\n",
        "#### [**Why Momentum Really Works**](https://distill.pub/2017/momentum/) **by Gabriel Goh**\n",
        "\n",
        "Variations of gradient descent that use momentum are extremely common. We'll teach the basics of momentum in the course, but if you want a richer and deeper understanding then this is a good article to read and reread.\n",
        "\n",
        "#### [**The Matrix Calculus You Need for Deep Learning**](https://explained.ai/matrix-calculus/) **by Terence Parr and Jeremy Howard**\n",
        "\n",
        "Takes you from knowing introductory calculus to calculus on matrices. This will be helpful for the backpropagation material, on day 3 of the course.\n",
        "\n",
        "#### [**A Mathematical Framework for Transformer Circuits**](https://transformer-circuits.pub/2021/framework/index.html) **by Anthropic**\n",
        "\n",
        "Analyses transformers starting with the simplest toy models and working up. A heavy read but very good for building intuition about what transformers can do. This will form the cornerstone of the mechanistic interpretability chapter.\n",
        "\n",
        "#### [**In-context Learning and Induction Heads**](https://transformer-circuits.pub/2022/in-context-learning-and-induction-heads/index.html) **by Anthropic**\n",
        "\n",
        "Describes and analyses \"induction heads\", an important circuit learned by transformers.\n",
        "\n",
        "#### [**Neural Networks and Deep Learning**](http://neuralnetworksanddeeplearning.com/) **by Michael Nielsen**"
      ]
    },
    {
      "cell_type": "markdown",
      "metadata": {
        "id": "eF_vjDoC0kJ5"
      },
      "source": [
        "# 2️⃣ Einops, Einsum & Tensor Manipulation\n",
        "\n",
        "> ##### Learning Objectives\n",
        ">\n",
        "> - Understand the basics of Einstein summation convention\n",
        "> - Learn how to use `einops` to perform basic tensor rearrangement, and `einsum` to to perform standard linear algebra operations on tensors"
      ]
    },
    {
      "cell_type": "markdown",
      "metadata": {
        "id": "gCuD8j3F0kJ5"
      },
      "source": [
        "Note - this section contains a large number of exercises. You should feel free to skim through them if you feel comfortable with the basic ideas."
      ]
    },
    {
      "cell_type": "markdown",
      "metadata": {
        "id": "dgzcqMD30kJ5"
      },
      "source": [
        "## Reading\n",
        "\n",
        "* Read about the benefits of the `einops` library [here](https://www.blopig.com/blog/2022/05/einops-powerful-library-for-tensor-operations-in-deep-learning/).\n",
        "* If you haven't already, then review the [Einops basics tutorial](https://einops.rocks/1-einops-basics/) (up to the \"fancy examples\" section).\n",
        "* Read [einsum is all you need](https://rockt.github.io/2018/04/30/einsum) (or [watch it](https://www.youtube.com/watch?v=pkVwUVEHmfI)) for a brief overview of the `einsum` function and how it works. (You don't need to read past section 2.10.)"
      ]
    },
    {
      "cell_type": "markdown",
      "metadata": {
        "id": "XRWUslKC0kJ5"
      },
      "source": [
        "## Setup"
      ]
    },
    {
      "cell_type": "code",
      "execution_count": 1,
      "metadata": {
        "id": "LLNSCnl-0kJ5",
        "outputId": "410fe52f-bfd4-49f3-8271-595830335f56",
        "colab": {
          "base_uri": "https://localhost:8080/"
        }
      },
      "outputs": [
        {
          "output_type": "stream",
          "name": "stdout",
          "text": [
            "--2025-06-17 03:48:40--  https://github.com/callummcdougall/ARENA_3.0/archive/refs/heads/main.zip\n",
            "Resolving github.com (github.com)... 140.82.116.4\n",
            "Connecting to github.com (github.com)|140.82.116.4|:443... connected.\n",
            "HTTP request sent, awaiting response... 302 Found\n",
            "Location: https://codeload.github.com/callummcdougall/ARENA_3.0/zip/refs/heads/main [following]\n",
            "--2025-06-17 03:48:40--  https://codeload.github.com/callummcdougall/ARENA_3.0/zip/refs/heads/main\n",
            "Resolving codeload.github.com (codeload.github.com)... 140.82.116.10\n",
            "Connecting to codeload.github.com (codeload.github.com)|140.82.116.10|:443... connected.\n",
            "HTTP request sent, awaiting response... 200 OK\n",
            "Length: unspecified [application/zip]\n",
            "Saving to: ‘/content/main.zip’\n",
            "\n",
            "main.zip                [          <=>       ]  21.12M  9.48MB/s    in 2.2s    \n",
            "\n",
            "2025-06-17 03:48:42 (9.48 MB/s) - ‘/content/main.zip’ saved [22148217]\n",
            "\n",
            "Archive:  /content/main.zip\n",
            "3780356ba8b3f4d2d2aaea907d6a024cd63820bc\n",
            "   creating: /content/ARENA_3.0-main/chapter0_fundamentals/exercises/\n",
            "   creating: /content/ARENA_3.0-main/chapter0_fundamentals/exercises/part0_prereqs/\n",
            "  inflating: /content/ARENA_3.0-main/chapter0_fundamentals/exercises/part0_prereqs/0.0_Prerequisites_exercises.ipynb  \n",
            "  inflating: /content/ARENA_3.0-main/chapter0_fundamentals/exercises/part0_prereqs/0.0_Prerequisites_solutions.ipynb  \n",
            "  inflating: /content/ARENA_3.0-main/chapter0_fundamentals/exercises/part0_prereqs/numbers.npy  \n",
            "  inflating: /content/ARENA_3.0-main/chapter0_fundamentals/exercises/part0_prereqs/solutions.py  \n",
            "  inflating: /content/ARENA_3.0-main/chapter0_fundamentals/exercises/part0_prereqs/tests.py  \n",
            "  inflating: /content/ARENA_3.0-main/chapter0_fundamentals/exercises/part0_prereqs/utils.py  \n",
            "   creating: /content/ARENA_3.0-main/chapter0_fundamentals/exercises/part1_ray_tracing/\n",
            "  inflating: /content/ARENA_3.0-main/chapter0_fundamentals/exercises/part1_ray_tracing/0.1_Ray_Tracing_exercises.ipynb  \n",
            "  inflating: /content/ARENA_3.0-main/chapter0_fundamentals/exercises/part1_ray_tracing/0.1_Ray_Tracing_solutions.ipynb  \n",
            "  inflating: /content/ARENA_3.0-main/chapter0_fundamentals/exercises/part1_ray_tracing/pikachu.pt  \n",
            "  inflating: /content/ARENA_3.0-main/chapter0_fundamentals/exercises/part1_ray_tracing/pikachu.stl  \n",
            "  inflating: /content/ARENA_3.0-main/chapter0_fundamentals/exercises/part1_ray_tracing/solutions.py  \n",
            "  inflating: /content/ARENA_3.0-main/chapter0_fundamentals/exercises/part1_ray_tracing/test_with_pytest.py  \n",
            "  inflating: /content/ARENA_3.0-main/chapter0_fundamentals/exercises/part1_ray_tracing/tests.py  \n",
            "  inflating: /content/ARENA_3.0-main/chapter0_fundamentals/exercises/part1_ray_tracing/utils.py  \n",
            "   creating: /content/ARENA_3.0-main/chapter0_fundamentals/exercises/part2_cnns/\n",
            "  inflating: /content/ARENA_3.0-main/chapter0_fundamentals/exercises/part2_cnns/0.2_CNNs_&_ResNets_exercises.ipynb  \n",
            "  inflating: /content/ARENA_3.0-main/chapter0_fundamentals/exercises/part2_cnns/0.2_CNNs_&_ResNets_solutions.ipynb  \n",
            "  inflating: /content/ARENA_3.0-main/chapter0_fundamentals/exercises/part2_cnns/imagenet_labels.json  \n",
            "   creating: /content/ARENA_3.0-main/chapter0_fundamentals/exercises/part2_cnns/resnet_inputs/\n",
            "  inflating: /content/ARENA_3.0-main/chapter0_fundamentals/exercises/part2_cnns/resnet_inputs/astronaut.jpg  \n",
            "  inflating: /content/ARENA_3.0-main/chapter0_fundamentals/exercises/part2_cnns/resnet_inputs/chimpanzee.jpg  \n",
            "  inflating: /content/ARENA_3.0-main/chapter0_fundamentals/exercises/part2_cnns/resnet_inputs/dragonfly.jpg  \n",
            "  inflating: /content/ARENA_3.0-main/chapter0_fundamentals/exercises/part2_cnns/resnet_inputs/fireworks.jpg  \n",
            "  inflating: /content/ARENA_3.0-main/chapter0_fundamentals/exercises/part2_cnns/resnet_inputs/frogs.jpg  \n",
            "  inflating: /content/ARENA_3.0-main/chapter0_fundamentals/exercises/part2_cnns/resnet_inputs/golden_retriever.jpg  \n",
            "  inflating: /content/ARENA_3.0-main/chapter0_fundamentals/exercises/part2_cnns/resnet_inputs/goofy.jpg  \n",
            "  inflating: /content/ARENA_3.0-main/chapter0_fundamentals/exercises/part2_cnns/resnet_inputs/hourglass.jpg  \n",
            "  inflating: /content/ARENA_3.0-main/chapter0_fundamentals/exercises/part2_cnns/resnet_inputs/iguana.jpg  \n",
            "  inflating: /content/ARENA_3.0-main/chapter0_fundamentals/exercises/part2_cnns/resnet_inputs/platypus.jpg  \n",
            "  inflating: /content/ARENA_3.0-main/chapter0_fundamentals/exercises/part2_cnns/resnet_inputs/volcano.jpg  \n",
            "  inflating: /content/ARENA_3.0-main/chapter0_fundamentals/exercises/part2_cnns/solutions.py  \n",
            "  inflating: /content/ARENA_3.0-main/chapter0_fundamentals/exercises/part2_cnns/tests.py  \n",
            "  inflating: /content/ARENA_3.0-main/chapter0_fundamentals/exercises/part2_cnns/utils.py  \n",
            "   creating: /content/ARENA_3.0-main/chapter0_fundamentals/exercises/part3_optimization/\n",
            "  inflating: /content/ARENA_3.0-main/chapter0_fundamentals/exercises/part3_optimization/0.3_Optimization_exercises.ipynb  \n",
            "  inflating: /content/ARENA_3.0-main/chapter0_fundamentals/exercises/part3_optimization/0.3_Optimization_solutions.ipynb  \n",
            "  inflating: /content/ARENA_3.0-main/chapter0_fundamentals/exercises/part3_optimization/solutions.py  \n",
            "  inflating: /content/ARENA_3.0-main/chapter0_fundamentals/exercises/part3_optimization/tests.py  \n",
            "  inflating: /content/ARENA_3.0-main/chapter0_fundamentals/exercises/part3_optimization/utils.py  \n",
            "   creating: /content/ARENA_3.0-main/chapter0_fundamentals/exercises/part4_backprop/\n",
            "  inflating: /content/ARENA_3.0-main/chapter0_fundamentals/exercises/part4_backprop/0.4_Backprop_exercises.ipynb  \n",
            "  inflating: /content/ARENA_3.0-main/chapter0_fundamentals/exercises/part4_backprop/0.4_Backprop_solutions.ipynb  \n",
            "  inflating: /content/ARENA_3.0-main/chapter0_fundamentals/exercises/part4_backprop/solutions.py  \n",
            "  inflating: /content/ARENA_3.0-main/chapter0_fundamentals/exercises/part4_backprop/tests.py  \n",
            "  inflating: /content/ARENA_3.0-main/chapter0_fundamentals/exercises/part4_backprop/utils.py  \n",
            "   creating: /content/ARENA_3.0-main/chapter0_fundamentals/exercises/part5_vaes_and_gans/\n",
            "  inflating: /content/ARENA_3.0-main/chapter0_fundamentals/exercises/part5_vaes_and_gans/0.5_VAEs_&_GANs_exercises.ipynb  \n",
            "  inflating: /content/ARENA_3.0-main/chapter0_fundamentals/exercises/part5_vaes_and_gans/0.5_VAEs_&_GANs_solutions.ipynb  \n",
            "  inflating: /content/ARENA_3.0-main/chapter0_fundamentals/exercises/part5_vaes_and_gans/solutions.py  \n",
            "  inflating: /content/ARENA_3.0-main/chapter0_fundamentals/exercises/part5_vaes_and_gans/tests.py  \n",
            "  inflating: /content/ARENA_3.0-main/chapter0_fundamentals/exercises/part5_vaes_and_gans/utils.py  \n",
            "  inflating: /content/ARENA_3.0-main/chapter0_fundamentals/exercises/plotly_utils.py  \n"
          ]
        }
      ],
      "source": [
        "import os\n",
        "import sys\n",
        "from pathlib import Path\n",
        "\n",
        "IN_COLAB = \"google.colab\" in sys.modules\n",
        "\n",
        "chapter = \"chapter0_fundamentals\"\n",
        "repo = \"ARENA_3.0\"\n",
        "branch = \"main\"\n",
        "\n",
        "# Install dependencies\n",
        "try:\n",
        "    import einops\n",
        "except:\n",
        "    %pip install einops jaxtyping\n",
        "\n",
        "# Get root directory, handling 3 different cases: (1) Colab, (2) notebook not in ARENA repo, (3) notebook in ARENA repo\n",
        "root = (\n",
        "    \"/content\"\n",
        "    if IN_COLAB\n",
        "    else \"/root\"\n",
        "    if repo not in os.getcwd()\n",
        "    else str(next(p for p in Path.cwd().parents if p.name == repo))\n",
        ")\n",
        "\n",
        "if Path(root).exists() and not Path(f\"{root}/{chapter}\").exists():\n",
        "    if not IN_COLAB:\n",
        "        !sudo apt-get install unzip\n",
        "        %pip install jupyter ipython --upgrade\n",
        "\n",
        "    if not os.path.exists(f\"{root}/{chapter}\"):\n",
        "        !wget -P {root} https://github.com/callummcdougall/ARENA_3.0/archive/refs/heads/{branch}.zip\n",
        "        !unzip {root}/{branch}.zip '{repo}-{branch}/{chapter}/exercises/*' -d {root}\n",
        "        !mv {root}/ARENA_3.0-{branch}/{chapter} {root}/{chapter}\n",
        "        !rm {root}/{branch}.zip\n",
        "        !rmdir {root}/ARENA_3.0-{branch}\n",
        "\n",
        "\n",
        "if f\"{root}/{chapter}/exercises\" not in sys.path:\n",
        "    sys.path.append(f\"{root}/{chapter}/exercises\")\n",
        "\n",
        "os.chdir(f\"{root}/{chapter}/exercises\")"
      ]
    },
    {
      "cell_type": "code",
      "execution_count": 2,
      "metadata": {
        "id": "AoJieapv0kJ6"
      },
      "outputs": [],
      "source": [
        "import math\n",
        "import os\n",
        "import sys\n",
        "from pathlib import Path\n",
        "\n",
        "import einops\n",
        "import numpy as np\n",
        "import torch as t\n",
        "from torch import Tensor\n",
        "\n",
        "# Make sure exercises are in the path\n",
        "chapter = \"chapter0_fundamentals\"\n",
        "section = \"part0_prereqs\"\n",
        "root_dir = next(p for p in Path.cwd().parents if (p / chapter).exists())\n",
        "exercises_dir = root_dir / chapter / \"exercises\"\n",
        "section_dir = exercises_dir / section\n",
        "if str(exercises_dir) not in sys.path:\n",
        "    sys.path.append(str(exercises_dir))\n",
        "\n",
        "import part0_prereqs.tests as tests\n",
        "from part0_prereqs.utils import display_array_as_img, display_soln_array_as_img\n",
        "\n",
        "MAIN = __name__ == \"__main__\""
      ]
    },
    {
      "cell_type": "markdown",
      "metadata": {
        "id": "K0fO9ozv0kJ6"
      },
      "source": [
        "## Einops"
      ]
    },
    {
      "cell_type": "code",
      "execution_count": 3,
      "metadata": {
        "id": "vlNWc7aX0kJ6"
      },
      "outputs": [],
      "source": [
        "arr = np.load(section_dir / \"numbers.npy\")"
      ]
    },
    {
      "cell_type": "markdown",
      "metadata": {
        "id": "fXxLd-Xl0kJ6"
      },
      "source": [
        "`arr` is a 4D numpy array. The first axes corresponds to the number, and the next three axes are channels (i.e. RGB), height and width respectively. You have the function `utils.display_array_as_img` which takes in a numpy array and displays it as an image. There are two possible ways this function can be run:\n",
        "\n",
        "* If the input is three-dimensional, the dimensions are interpreted as `(channel, height, width)` - in other words, as an RGB image.\n",
        "* If the input is two-dimensional, the dimensions are interpreted as `(height, width)` - i.e. a monochrome image.\n",
        "\n",
        "For example:"
      ]
    },
    {
      "cell_type": "code",
      "execution_count": 4,
      "metadata": {
        "id": "Vrs5k-Ft0kJ6",
        "outputId": "cc101285-2050-4654-9e74-1326c4a2b8e5",
        "colab": {
          "base_uri": "https://localhost:8080/",
          "height": 185
        }
      },
      "outputs": [
        {
          "output_type": "stream",
          "name": "stdout",
          "text": [
            "(3, 150, 150)\n"
          ]
        },
        {
          "output_type": "display_data",
          "data": {
            "text/html": [
              "<html>\n",
              "<head><meta charset=\"utf-8\" /></head>\n",
              "<body>\n",
              "    <div>            <script src=\"https://cdnjs.cloudflare.com/ajax/libs/mathjax/2.7.5/MathJax.js?config=TeX-AMS-MML_SVG\"></script><script type=\"text/javascript\">if (window.MathJax && window.MathJax.Hub && window.MathJax.Hub.Config) {window.MathJax.Hub.Config({SVG: {font: \"STIX-Web\"}});}</script>                <script type=\"text/javascript\">window.PlotlyConfig = {MathJaxConfig: 'local'};</script>\n",
              "        <script charset=\"utf-8\" src=\"https://cdn.plot.ly/plotly-2.35.2.min.js\"></script>                <div id=\"e1611c37-0881-4ca2-af91-095aa199aacb\" class=\"plotly-graph-div\" style=\"height:150px; width:150px;\"></div>            <script type=\"text/javascript\">                                    window.PLOTLYENV=window.PLOTLYENV || {};                                    if (document.getElementById(\"e1611c37-0881-4ca2-af91-095aa199aacb\")) {                    Plotly.newPlot(                        \"e1611c37-0881-4ca2-af91-095aa199aacb\",                        [{\"name\":\"0\",\"source\":\"data:image\\u002fpng;base64,iVBORw0KGgoAAAANSUhEUgAAAJYAAACWCAIAAACzY+a1AAAKCElEQVR4Xu2deVBV1x3Hf7zH+nysiiigIigqi8Qt7lqXpC5pjUlxmzpjdKqmsY1b1WTSZGpaNdMkLtGpNmnj1DpGI6ZOOxg1SFBcIwoiSRAEFUEQRNne4630D+Z2zK+c6\\u002fO+9+zvZ8\\u002fnz+\\u002fPOZ65n3veXc65B5+2vI9BwhkdDiTckArZIxWyRypkj1TIHqmQPVIhe6RC9kiF7JEK2SMVskcqZI9UyB6pkD1SIXukQvZIheyRCtkjFbJHKmSPVMgeqZA9UiF7pEL2SIXskQrZIxWyRypkj1TIHqmQPVIhe6RC9kiF7JEK2SMVskcqZI9UyB6pkD1SIXt8ccAWi9V+6nJJbn5JwbXbZZW1VbUPWswWq81hCPQPMQZ2CQtOiu+e1Dt6\\u002fJDEUWkJet3Tc+76PAVbB50puL4zI+fQiUstZguudUR4iGHmhMHL501O7RODawzhrTC\\u002fuGLlhweyL36PC64xdXTK5lWz+\\u002fXqhgus4KrQ7nC+s\\u002fPwe7u\\u002fdDiduPY4BPj7vrlw2luLXtDpfHCNCSwVNpssM1ZuP\\u002fGNxsH330wdnbJvw+JQYxAucIDfVb2h2fz8a5s96A8Ajpy+OnbRe\\u002fWNLbjAAWYKW8yWSUs\\u002fOHvlOi64TWFp5dRlW5tNLt0QkYLZQ8WSP+zJ++4mTn9Iz24R08akPpPYIzoyLCjAv7HFfP127bnCsi\\u002fPXDW1WvG\\u002ffogLReWL1u\\u002fev2kJLtCGk8JdGTl7j5zH6UMMTYpbv3TGlFHJPj4d3Ju0mC27Mk5u\\u002fDSz7kEzrikcOH5x0rMDFr80DhcIw+Z25vrt2uT0ty1WOy4AAIBO5\\u002fPuqy+uWzD1kTeWd+ubFq3f\\u002fa9TV3BBwWgIKD70++jIMFygCptr4dptB0X+9Drdvg2L31w47ZH+AKBrRPDhD5e9PncSLig0myxrth7EKWF4KDxdUJqRdQmnCtvXzpv13FCcitHpfLasnrP0Z+NxQWHvkfOPvOLSgYfCddsycKQw+\\u002flhKjJU+GjNvPFDEnGqsPHTTBxRhYHCKyW3c\\u002fNLcQoAAEZDwAcrZuHUNXz1uj3vLjIE+uMCAAB8kX352s0anJKEgcJdGTk4Uvj1nEkxXcNw6jI9oiLWvTIVpwAA4HS2\\u002ffnQSZyShLpCU6v175kdP0j46nW\\u002fTJ+A08dk2ayJQQF+OAUAgL1Hzrv5AvbJQF3h4a\\u002fzG1vMOAUAgBfGprkzBNsJDzHMnTIcpwAAUH2v4djZb3FKD\\u002fIKc\\u002fJxpDBzwiAcaeLlSYNxpKDyv9OBtMK2trZj54pwCgAAep1u+thUnGpi4rD+opuazNxCHNGDtMIrJbfvN5pwCgAAA\\u002fvGdg414lQTgf5+o9P64BQAACpq6gtLK3FKDNIKTxcIZyRGpSXgyA2eTemNI4VTl0twRAzSClVekYxIjceRGwwXKzxXWIYjYpBWmF98C0cKKQmeXLmUFB+NIwWVPhCBtMJiwfsRHx+fxF5ROHWDuOjOfr56nAIAQPHNGuJPh3QVVt59IFpU2CMqXHQPqQ29Ttc7pgtOAQDAarPfulOPU0rQVVheVYcjhV7dO+PIbXpEReBI4cYdYU8oQFdhRbXw3PfGfGy3ziE4Uqiovo8jStBVWFkrPHDeURiKI4U7dQ04ogRdhXfrm3CkEBUhHDGa6RoRjCMFlbU2FKCrUGVVpzfW7IZ0Erap0hMKEFbYIDxwIcZAHLmN0RCAIwXRVAkR6CpUWZWrMmI0E2wQnhaNza04ogRdhSrLdlVGjGY6BQnbbLXacEQJugrNFqFCX33Hb1LcQa8XLmBstUiFmrDZHThS8NV7vtsqp4VKTyjg+WPhKRzONhwpeEehsE1nm7AnFBD2+3+OU\\u002fxyWWXEaEalTYdD2BMK0FWodkzFdjVjdwh\\u002fLfXiAUoBup3z9xMqtHthWKi0qfIbSwG6nfP3E344pzJiNKPSplSoEdEcLADY7cIRoxmHQ3jPEhTgyblJj0NXocqBU3nq14xoehlUn\\u002fopQFdhRKgBRwpNJs+\\u002f8VJp0xsvgzwIXYUqy0SbWoSHWzMqCsNDhCcTBVgq9MbUgcppodITChBWGNYJRwoqs8GaqalvxJFCZLhwNpgCdBXGRIbjSKH6nudXQlTXCRXGeGGdhwehqzA+tuNVgaA6YjSjclrERglPJgrQVZgQG4kjhVvixW2aUWkzPkbYEwrQVRjSKSgipOPL4fWKWqd4HkMDdofzhmDZaqgxSGVlFAXoKgSA5ISOP3VotdoqaoSDRgPllXWid6T946jvVkpa4ZABvXCkUFRWhSM3KCoTfkQ4qH9PHBGDtMJhyXE4UrhwtRxHbnC+UNja4P7C04gItBUmCT\\u002f7u1AkPOgaUGlttEe\\u002fRfUGpBX27dlVdEOfe7nUaut4S7bHxdRqFW1wGhkePKB3d5wSg7RCAJgyMgVHAADQZGr9Oq8Yp5r46vx3ZsEatR+P7HhfTFJQVzhtjHBbi8+P5+FIEwezhO38ZFwajuhBXeFzw5NE03X7jl5oaHb3fXfdg+bPj1\\u002fEKQAAhAUbpEIPYDQEpE8eglMAAGgxW3YcyMbpY7JtX5Zosfb86SNEe3uRgrpCAPjFzHE4Utjw18zKuw9w6jI3qu69v+coThW4bO\\u002fMQOGotIRn+vXAKQAAtJgt83\\u002f7F21rEm12x8\\u002ff+kR0IzNucKJnN9XwHgwUAsDvlszAkUL2xe+Xv78fpy7w2qa9pws63uYUADb96iUcUYWHwp+OT1PZ3Wf7\\u002fhO\\u002f2XKwzeVl805n2+t\\u002f\\u002fOzjL07hgkL65KEjB1J\\u002fov8PPBQCwJbVc1T+Yt37e46mr93pyue4tfebXly1Y9tnWbigEOjvt5HPEARGCkekxq9dMAWnD5GRdSnp5bd3HMgW3WGaLbat+7KS09\\u002f558kCXHuIbWvmqkxVEoTN36kAAJvdMXrhpm+KbuDCDwnpFDR9bOrwlPi47p2NhoBmk6W8qu5cYVlmbqHKMrV25k8f+bf1C3FKG04KAaCmvnHkgo3llR1Pz7rJsOS47F2rRW8SyMLmh7SdqIiQo9tXeGP3p1FpCV\\u002f9aSU7f8BOIQD07dn17O43BvXz5EzsxGH9j+1Y4Y1dGJ4A\\u002fBQCQPcuoWd2r1s+b7L70wh6ne6NV6Yd3bGC4\\u002fhrh9m1EHGusGzdRxk5eddwwTXGD0ncvGq2Zwf0k4e3wnZOXrr2yT9yM7LyXPziyRDoP3PCoFfTfyTakpsXT4PCdlqtttP5pTl5174tryq5dbf6XkOzydJqtfn56o1BgdGRofGxkQP7xI4Z1Gfc4MRAfwZTEC7y9Cj8v4Xl7YzkYaRC9kiF7JEK2SMVskcqZI9UyB6pkD1SIXukQvZIheyRCtkjFbJHKmSPVMgeqZA9UiF7pEL2SIXskQrZIxWyRypkj1TIHqmQPVIhe6RC9kiF7JEK2SMVskcqZI9UyB6pkD1SIXukQvZIheyRCtnzb7g89Ic5zpDzAAAAAElFTkSuQmCC\",\"type\":\"image\",\"xaxis\":\"x\",\"yaxis\":\"y\",\"hovertemplate\":\"x: %{x}\\u003cbr\\u003ey: %{y}\\u003cbr\\u003ecolor: [%{z[0]}, %{z[1]}, %{z[2]}]\\u003cextra\\u003e\\u003c\\u002fextra\\u003e\"}],                        {\"template\":{\"data\":{\"histogram2dcontour\":[{\"type\":\"histogram2dcontour\",\"colorbar\":{\"outlinewidth\":0,\"ticks\":\"\"},\"colorscale\":[[0.0,\"#0d0887\"],[0.1111111111111111,\"#46039f\"],[0.2222222222222222,\"#7201a8\"],[0.3333333333333333,\"#9c179e\"],[0.4444444444444444,\"#bd3786\"],[0.5555555555555556,\"#d8576b\"],[0.6666666666666666,\"#ed7953\"],[0.7777777777777778,\"#fb9f3a\"],[0.8888888888888888,\"#fdca26\"],[1.0,\"#f0f921\"]]}],\"choropleth\":[{\"type\":\"choropleth\",\"colorbar\":{\"outlinewidth\":0,\"ticks\":\"\"}}],\"histogram2d\":[{\"type\":\"histogram2d\",\"colorbar\":{\"outlinewidth\":0,\"ticks\":\"\"},\"colorscale\":[[0.0,\"#0d0887\"],[0.1111111111111111,\"#46039f\"],[0.2222222222222222,\"#7201a8\"],[0.3333333333333333,\"#9c179e\"],[0.4444444444444444,\"#bd3786\"],[0.5555555555555556,\"#d8576b\"],[0.6666666666666666,\"#ed7953\"],[0.7777777777777778,\"#fb9f3a\"],[0.8888888888888888,\"#fdca26\"],[1.0,\"#f0f921\"]]}],\"heatmap\":[{\"type\":\"heatmap\",\"colorbar\":{\"outlinewidth\":0,\"ticks\":\"\"},\"colorscale\":[[0.0,\"#0d0887\"],[0.1111111111111111,\"#46039f\"],[0.2222222222222222,\"#7201a8\"],[0.3333333333333333,\"#9c179e\"],[0.4444444444444444,\"#bd3786\"],[0.5555555555555556,\"#d8576b\"],[0.6666666666666666,\"#ed7953\"],[0.7777777777777778,\"#fb9f3a\"],[0.8888888888888888,\"#fdca26\"],[1.0,\"#f0f921\"]]}],\"heatmapgl\":[{\"type\":\"heatmapgl\",\"colorbar\":{\"outlinewidth\":0,\"ticks\":\"\"},\"colorscale\":[[0.0,\"#0d0887\"],[0.1111111111111111,\"#46039f\"],[0.2222222222222222,\"#7201a8\"],[0.3333333333333333,\"#9c179e\"],[0.4444444444444444,\"#bd3786\"],[0.5555555555555556,\"#d8576b\"],[0.6666666666666666,\"#ed7953\"],[0.7777777777777778,\"#fb9f3a\"],[0.8888888888888888,\"#fdca26\"],[1.0,\"#f0f921\"]]}],\"contourcarpet\":[{\"type\":\"contourcarpet\",\"colorbar\":{\"outlinewidth\":0,\"ticks\":\"\"}}],\"contour\":[{\"type\":\"contour\",\"colorbar\":{\"outlinewidth\":0,\"ticks\":\"\"},\"colorscale\":[[0.0,\"#0d0887\"],[0.1111111111111111,\"#46039f\"],[0.2222222222222222,\"#7201a8\"],[0.3333333333333333,\"#9c179e\"],[0.4444444444444444,\"#bd3786\"],[0.5555555555555556,\"#d8576b\"],[0.6666666666666666,\"#ed7953\"],[0.7777777777777778,\"#fb9f3a\"],[0.8888888888888888,\"#fdca26\"],[1.0,\"#f0f921\"]]}],\"surface\":[{\"type\":\"surface\",\"colorbar\":{\"outlinewidth\":0,\"ticks\":\"\"},\"colorscale\":[[0.0,\"#0d0887\"],[0.1111111111111111,\"#46039f\"],[0.2222222222222222,\"#7201a8\"],[0.3333333333333333,\"#9c179e\"],[0.4444444444444444,\"#bd3786\"],[0.5555555555555556,\"#d8576b\"],[0.6666666666666666,\"#ed7953\"],[0.7777777777777778,\"#fb9f3a\"],[0.8888888888888888,\"#fdca26\"],[1.0,\"#f0f921\"]]}],\"mesh3d\":[{\"type\":\"mesh3d\",\"colorbar\":{\"outlinewidth\":0,\"ticks\":\"\"}}],\"scatter\":[{\"fillpattern\":{\"fillmode\":\"overlay\",\"size\":10,\"solidity\":0.2},\"type\":\"scatter\"}],\"parcoords\":[{\"type\":\"parcoords\",\"line\":{\"colorbar\":{\"outlinewidth\":0,\"ticks\":\"\"}}}],\"scatterpolargl\":[{\"type\":\"scatterpolargl\",\"marker\":{\"colorbar\":{\"outlinewidth\":0,\"ticks\":\"\"}}}],\"bar\":[{\"error_x\":{\"color\":\"#2a3f5f\"},\"error_y\":{\"color\":\"#2a3f5f\"},\"marker\":{\"line\":{\"color\":\"#E5ECF6\",\"width\":0.5},\"pattern\":{\"fillmode\":\"overlay\",\"size\":10,\"solidity\":0.2}},\"type\":\"bar\"}],\"scattergeo\":[{\"type\":\"scattergeo\",\"marker\":{\"colorbar\":{\"outlinewidth\":0,\"ticks\":\"\"}}}],\"scatterpolar\":[{\"type\":\"scatterpolar\",\"marker\":{\"colorbar\":{\"outlinewidth\":0,\"ticks\":\"\"}}}],\"histogram\":[{\"marker\":{\"pattern\":{\"fillmode\":\"overlay\",\"size\":10,\"solidity\":0.2}},\"type\":\"histogram\"}],\"scattergl\":[{\"type\":\"scattergl\",\"marker\":{\"colorbar\":{\"outlinewidth\":0,\"ticks\":\"\"}}}],\"scatter3d\":[{\"type\":\"scatter3d\",\"line\":{\"colorbar\":{\"outlinewidth\":0,\"ticks\":\"\"}},\"marker\":{\"colorbar\":{\"outlinewidth\":0,\"ticks\":\"\"}}}],\"scattermapbox\":[{\"type\":\"scattermapbox\",\"marker\":{\"colorbar\":{\"outlinewidth\":0,\"ticks\":\"\"}}}],\"scatterternary\":[{\"type\":\"scatterternary\",\"marker\":{\"colorbar\":{\"outlinewidth\":0,\"ticks\":\"\"}}}],\"scattercarpet\":[{\"type\":\"scattercarpet\",\"marker\":{\"colorbar\":{\"outlinewidth\":0,\"ticks\":\"\"}}}],\"carpet\":[{\"aaxis\":{\"endlinecolor\":\"#2a3f5f\",\"gridcolor\":\"white\",\"linecolor\":\"white\",\"minorgridcolor\":\"white\",\"startlinecolor\":\"#2a3f5f\"},\"baxis\":{\"endlinecolor\":\"#2a3f5f\",\"gridcolor\":\"white\",\"linecolor\":\"white\",\"minorgridcolor\":\"white\",\"startlinecolor\":\"#2a3f5f\"},\"type\":\"carpet\"}],\"table\":[{\"cells\":{\"fill\":{\"color\":\"#EBF0F8\"},\"line\":{\"color\":\"white\"}},\"header\":{\"fill\":{\"color\":\"#C8D4E3\"},\"line\":{\"color\":\"white\"}},\"type\":\"table\"}],\"barpolar\":[{\"marker\":{\"line\":{\"color\":\"#E5ECF6\",\"width\":0.5},\"pattern\":{\"fillmode\":\"overlay\",\"size\":10,\"solidity\":0.2}},\"type\":\"barpolar\"}],\"pie\":[{\"automargin\":true,\"type\":\"pie\"}]},\"layout\":{\"autotypenumbers\":\"strict\",\"colorway\":[\"#636efa\",\"#EF553B\",\"#00cc96\",\"#ab63fa\",\"#FFA15A\",\"#19d3f3\",\"#FF6692\",\"#B6E880\",\"#FF97FF\",\"#FECB52\"],\"font\":{\"color\":\"#2a3f5f\"},\"hovermode\":\"closest\",\"hoverlabel\":{\"align\":\"left\"},\"paper_bgcolor\":\"white\",\"plot_bgcolor\":\"#E5ECF6\",\"polar\":{\"bgcolor\":\"#E5ECF6\",\"angularaxis\":{\"gridcolor\":\"white\",\"linecolor\":\"white\",\"ticks\":\"\"},\"radialaxis\":{\"gridcolor\":\"white\",\"linecolor\":\"white\",\"ticks\":\"\"}},\"ternary\":{\"bgcolor\":\"#E5ECF6\",\"aaxis\":{\"gridcolor\":\"white\",\"linecolor\":\"white\",\"ticks\":\"\"},\"baxis\":{\"gridcolor\":\"white\",\"linecolor\":\"white\",\"ticks\":\"\"},\"caxis\":{\"gridcolor\":\"white\",\"linecolor\":\"white\",\"ticks\":\"\"}},\"coloraxis\":{\"colorbar\":{\"outlinewidth\":0,\"ticks\":\"\"}},\"colorscale\":{\"sequential\":[[0.0,\"#0d0887\"],[0.1111111111111111,\"#46039f\"],[0.2222222222222222,\"#7201a8\"],[0.3333333333333333,\"#9c179e\"],[0.4444444444444444,\"#bd3786\"],[0.5555555555555556,\"#d8576b\"],[0.6666666666666666,\"#ed7953\"],[0.7777777777777778,\"#fb9f3a\"],[0.8888888888888888,\"#fdca26\"],[1.0,\"#f0f921\"]],\"sequentialminus\":[[0.0,\"#0d0887\"],[0.1111111111111111,\"#46039f\"],[0.2222222222222222,\"#7201a8\"],[0.3333333333333333,\"#9c179e\"],[0.4444444444444444,\"#bd3786\"],[0.5555555555555556,\"#d8576b\"],[0.6666666666666666,\"#ed7953\"],[0.7777777777777778,\"#fb9f3a\"],[0.8888888888888888,\"#fdca26\"],[1.0,\"#f0f921\"]],\"diverging\":[[0,\"#8e0152\"],[0.1,\"#c51b7d\"],[0.2,\"#de77ae\"],[0.3,\"#f1b6da\"],[0.4,\"#fde0ef\"],[0.5,\"#f7f7f7\"],[0.6,\"#e6f5d0\"],[0.7,\"#b8e186\"],[0.8,\"#7fbc41\"],[0.9,\"#4d9221\"],[1,\"#276419\"]]},\"xaxis\":{\"gridcolor\":\"white\",\"linecolor\":\"white\",\"ticks\":\"\",\"title\":{\"standoff\":15},\"zerolinecolor\":\"white\",\"automargin\":true,\"zerolinewidth\":2},\"yaxis\":{\"gridcolor\":\"white\",\"linecolor\":\"white\",\"ticks\":\"\",\"title\":{\"standoff\":15},\"zerolinecolor\":\"white\",\"automargin\":true,\"zerolinewidth\":2},\"scene\":{\"xaxis\":{\"backgroundcolor\":\"#E5ECF6\",\"gridcolor\":\"white\",\"linecolor\":\"white\",\"showbackground\":true,\"ticks\":\"\",\"zerolinecolor\":\"white\",\"gridwidth\":2},\"yaxis\":{\"backgroundcolor\":\"#E5ECF6\",\"gridcolor\":\"white\",\"linecolor\":\"white\",\"showbackground\":true,\"ticks\":\"\",\"zerolinecolor\":\"white\",\"gridwidth\":2},\"zaxis\":{\"backgroundcolor\":\"#E5ECF6\",\"gridcolor\":\"white\",\"linecolor\":\"white\",\"showbackground\":true,\"ticks\":\"\",\"zerolinecolor\":\"white\",\"gridwidth\":2}},\"shapedefaults\":{\"line\":{\"color\":\"#2a3f5f\"}},\"annotationdefaults\":{\"arrowcolor\":\"#2a3f5f\",\"arrowhead\":0,\"arrowwidth\":1},\"geo\":{\"bgcolor\":\"white\",\"landcolor\":\"#E5ECF6\",\"subunitcolor\":\"white\",\"showland\":true,\"showlakes\":true,\"lakecolor\":\"white\"},\"title\":{\"x\":0.05},\"mapbox\":{\"style\":\"light\"}}},\"xaxis\":{\"anchor\":\"y\",\"domain\":[0.0,1.0],\"showticklabels\":false},\"yaxis\":{\"anchor\":\"x\",\"domain\":[0.0,1.0],\"showticklabels\":false},\"margin\":{\"t\":0,\"b\":0,\"l\":0,\"r\":0},\"coloraxis\":{\"showscale\":false},\"height\":150,\"width\":150},                        {\"displayModeBar\": false, \"responsive\": true}                    ).then(function(){\n",
              "                            \n",
              "var gd = document.getElementById('e1611c37-0881-4ca2-af91-095aa199aacb');\n",
              "var x = new MutationObserver(function (mutations, observer) {{\n",
              "        var display = window.getComputedStyle(gd).display;\n",
              "        if (!display || display === 'none') {{\n",
              "            console.log([gd, 'removed!']);\n",
              "            Plotly.purge(gd);\n",
              "            observer.disconnect();\n",
              "        }}\n",
              "}});\n",
              "\n",
              "// Listen for the removal of the full notebook cells\n",
              "var notebookContainer = gd.closest('#notebook-container');\n",
              "if (notebookContainer) {{\n",
              "    x.observe(notebookContainer, {childList: true});\n",
              "}}\n",
              "\n",
              "// Listen for the clearing of the current output cell\n",
              "var outputEl = gd.closest('.output');\n",
              "if (outputEl) {{\n",
              "    x.observe(outputEl, {childList: true});\n",
              "}}\n",
              "\n",
              "                        })                };                            </script>        </div>\n",
              "</body>\n",
              "</html>"
            ]
          },
          "metadata": {}
        }
      ],
      "source": [
        "print(arr[0].shape)\n",
        "display_array_as_img(arr[0])  # plotting the first image in the batch"
      ]
    },
    {
      "cell_type": "code",
      "execution_count": 5,
      "metadata": {
        "id": "88vR-Jkb0kJ6",
        "outputId": "9f62f7c8-d979-4b6d-cc4d-5069157284fc",
        "colab": {
          "base_uri": "https://localhost:8080/",
          "height": 185
        }
      },
      "outputs": [
        {
          "output_type": "stream",
          "name": "stdout",
          "text": [
            "(150, 150)\n"
          ]
        },
        {
          "output_type": "display_data",
          "data": {
            "text/html": [
              "<html>\n",
              "<head><meta charset=\"utf-8\" /></head>\n",
              "<body>\n",
              "    <div>            <script src=\"https://cdnjs.cloudflare.com/ajax/libs/mathjax/2.7.5/MathJax.js?config=TeX-AMS-MML_SVG\"></script><script type=\"text/javascript\">if (window.MathJax && window.MathJax.Hub && window.MathJax.Hub.Config) {window.MathJax.Hub.Config({SVG: {font: \"STIX-Web\"}});}</script>                <script type=\"text/javascript\">window.PlotlyConfig = {MathJaxConfig: 'local'};</script>\n",
              "        <script charset=\"utf-8\" src=\"https://cdn.plot.ly/plotly-2.35.2.min.js\"></script>                <div id=\"c2a133ef-bff8-4de3-b625-201c23ceac35\" class=\"plotly-graph-div\" style=\"height:150px; width:150px;\"></div>            <script type=\"text/javascript\">                                    window.PLOTLYENV=window.PLOTLYENV || {};                                    if (document.getElementById(\"c2a133ef-bff8-4de3-b625-201c23ceac35\")) {                    Plotly.newPlot(                        \"c2a133ef-bff8-4de3-b625-201c23ceac35\",                        [{\"coloraxis\":\"coloraxis\",\"name\":\"0\",\"z\":[[255,255,255,255,255,255,255,255,255,255,255,255,255,255,255,255,255,255,255,255,255,255,255,255,255,255,255,255,255,255,255,255,255,255,255,255,255,255,255,255,255,255,255,255,255,255,255,255,255,255,255,255,255,255,255,255,255,255,255,255,255,255,255,255,255,255,255,255,255,255,255,255,255,255,255,255,255,255,255,255,255,255,255,255,255,255,255,255,255,255,255,255,255,255,255,255,255,255,255,255,255,255,255,255,255,255,255,255,255,255,255,255,255,255,255,255,255,255,255,255,255,255,255,255,255,255,255,255,255,255,255,255,255,255,255,255,255,255,255,255,255,255,255,255,255,255,255,255,255,255],[255,255,255,255,255,255,255,255,255,255,255,255,255,255,255,255,255,255,255,255,255,255,255,255,255,255,255,255,255,255,255,255,255,255,255,255,255,255,255,255,255,255,255,255,255,255,255,255,255,255,255,255,255,255,255,255,255,255,255,255,255,255,255,255,255,255,255,255,255,255,255,255,255,255,255,255,255,255,255,255,255,255,255,255,255,255,255,255,255,255,255,255,255,255,255,255,255,255,255,255,255,255,255,255,255,255,255,255,255,255,255,255,255,255,255,255,255,255,255,255,255,255,255,255,255,255,255,255,255,255,255,255,255,255,255,255,255,255,255,255,255,255,255,255,255,255,255,255,255,255],[255,255,255,255,255,255,255,255,255,255,255,255,255,255,255,255,255,255,255,255,255,255,255,255,255,255,255,255,255,255,255,255,255,255,255,255,255,255,255,255,255,255,255,255,255,255,255,255,255,255,255,255,255,255,255,255,255,255,255,255,255,255,255,255,255,255,255,255,255,255,255,255,255,255,255,255,255,255,255,255,255,255,255,255,255,255,255,255,255,255,255,255,255,255,255,255,255,255,255,255,255,255,255,255,255,255,255,255,255,255,255,255,255,255,255,255,255,255,255,255,255,255,255,255,255,255,255,255,255,255,255,255,255,255,255,255,255,255,255,255,255,255,255,255,255,255,255,255,255,255],[255,255,255,255,255,255,255,255,255,255,255,255,255,255,255,255,255,255,255,255,255,255,255,255,255,255,255,255,255,255,255,255,255,255,255,255,255,255,255,255,255,255,255,255,255,255,255,255,255,255,255,255,255,255,255,255,255,255,255,255,255,255,255,255,255,255,255,255,255,255,255,255,255,255,255,255,255,255,255,255,255,255,255,255,255,255,255,255,255,255,255,255,255,255,255,255,255,255,255,255,255,255,255,255,255,255,255,255,255,255,255,255,255,255,255,255,255,255,255,255,255,255,255,255,255,255,255,255,255,255,255,255,255,255,255,255,255,255,255,255,255,255,255,255,255,255,255,255,255,255],[255,255,255,255,255,255,255,255,255,255,255,255,255,255,255,255,255,255,255,255,255,255,255,255,255,255,255,255,255,255,255,255,255,255,255,255,255,255,255,255,255,255,255,255,255,255,255,255,255,255,255,255,255,255,255,255,255,255,255,255,255,255,255,255,255,255,255,255,255,255,255,255,255,255,255,255,255,255,255,255,255,255,255,255,255,255,255,255,255,255,255,255,255,255,255,255,255,255,255,255,255,255,255,255,255,255,255,255,255,255,255,255,255,255,255,255,255,255,255,255,255,255,255,255,255,255,255,255,255,255,255,255,255,255,255,255,255,255,255,255,255,255,255,255,255,255,255,255,255,255],[255,255,255,255,255,255,255,255,255,255,255,255,255,255,255,255,255,255,255,255,255,255,255,255,255,255,255,255,255,255,255,255,255,255,255,255,255,255,255,255,255,255,255,255,255,255,255,255,255,255,255,255,255,255,255,255,255,255,255,255,255,255,255,255,255,255,255,255,255,255,255,255,255,255,255,255,255,255,255,255,255,255,255,255,255,255,255,255,255,255,255,255,255,255,255,255,255,255,255,255,255,255,255,255,255,255,255,255,255,255,255,255,255,255,255,255,255,255,255,255,255,255,255,255,255,255,255,255,255,255,255,255,255,255,255,255,255,255,255,255,255,255,255,255,255,255,255,255,255,255],[255,255,255,255,255,255,255,255,255,255,255,255,255,255,255,255,255,255,255,255,255,255,255,255,255,255,255,255,255,255,255,255,255,255,255,255,255,255,255,255,255,255,255,255,255,255,255,255,255,255,255,255,255,255,255,255,255,255,255,255,255,255,255,255,255,255,255,255,255,255,255,255,255,255,255,255,255,255,255,255,255,255,255,255,255,255,255,255,255,255,255,255,255,255,255,255,255,255,255,255,255,255,255,255,255,255,255,255,255,255,255,255,255,255,255,255,255,255,255,255,255,255,255,255,255,255,255,255,255,255,255,255,255,255,255,255,255,255,255,255,255,255,255,255,255,255,255,255,255,255],[255,255,255,255,255,255,255,255,255,255,255,255,255,255,255,255,255,255,255,255,255,255,255,255,255,255,255,255,255,255,255,255,255,255,255,255,255,255,255,255,255,255,255,255,255,255,255,255,255,255,255,255,255,255,255,255,255,255,255,255,255,255,255,255,255,255,255,255,255,255,255,255,255,255,255,255,255,255,255,255,255,255,255,255,255,255,255,255,255,255,255,255,255,255,255,255,255,255,255,255,255,255,255,255,255,255,255,255,255,255,255,255,255,255,255,255,255,255,255,255,255,255,255,255,255,255,255,255,255,255,255,255,255,255,255,255,255,255,255,255,255,255,255,255,255,255,255,255,255,255],[255,255,255,255,255,255,255,255,255,255,255,255,255,255,255,255,255,255,255,255,255,255,255,255,255,255,255,255,255,255,255,255,255,255,255,255,255,255,255,255,255,255,255,255,255,255,255,255,255,255,255,255,255,255,255,255,255,255,255,255,255,255,255,255,255,255,255,255,255,255,255,255,255,255,255,255,255,255,255,255,255,255,255,255,255,255,255,255,255,255,255,255,255,255,255,255,255,255,255,255,255,255,255,255,255,255,255,255,255,255,255,255,255,255,255,255,255,255,255,255,255,255,255,255,255,255,255,255,255,255,255,255,255,255,255,255,255,255,255,255,255,255,255,255,255,255,255,255,255,255],[255,255,255,255,255,255,255,255,255,255,255,255,255,255,255,255,255,255,255,255,255,255,255,255,255,255,255,255,255,255,255,255,255,255,255,255,255,255,255,255,255,255,255,255,255,255,255,255,255,255,255,255,255,255,255,255,255,255,255,255,255,255,255,255,255,255,255,255,255,255,255,255,255,255,255,255,255,255,255,255,255,255,255,255,255,255,255,255,255,255,255,255,255,255,255,255,255,255,255,255,255,255,255,255,255,255,255,255,255,255,255,255,255,255,255,255,255,255,255,255,255,255,255,255,255,255,255,255,255,255,255,255,255,255,255,255,255,255,255,255,255,255,255,255,255,255,255,255,255,255],[255,255,255,255,255,255,255,255,255,255,255,255,255,255,255,255,255,255,255,255,255,255,255,255,255,255,255,255,255,255,255,255,255,255,255,255,255,255,255,255,255,255,255,255,255,255,255,255,255,255,255,255,255,255,255,255,255,255,255,255,255,255,255,255,255,255,255,255,255,255,255,255,255,255,255,255,255,255,255,255,255,255,255,255,255,255,255,255,255,255,255,255,255,255,255,255,255,255,255,255,255,255,255,255,255,255,255,255,255,255,255,255,255,255,255,255,255,255,255,255,255,255,255,255,255,255,255,255,255,255,255,255,255,255,255,255,255,255,255,255,255,255,255,255,255,255,255,255,255,255],[255,255,255,255,255,255,255,255,255,255,255,255,255,255,255,255,255,255,255,255,255,255,255,255,255,255,255,255,255,255,255,255,255,255,255,255,255,255,255,255,255,255,255,255,255,255,255,255,255,255,255,255,255,255,255,255,255,255,255,255,255,255,255,255,255,255,255,255,255,255,255,255,255,255,255,255,255,255,255,255,255,255,255,255,255,255,255,255,255,255,255,255,255,255,255,255,255,255,255,255,255,255,255,255,255,255,255,255,255,255,255,255,255,255,255,255,255,255,255,255,255,255,255,255,255,255,255,255,255,255,255,255,255,255,255,255,255,255,255,255,255,255,255,255,255,255,255,255,255,255],[255,255,255,255,255,255,255,255,255,255,255,255,255,255,255,255,255,255,255,255,255,255,255,255,255,255,255,255,255,255,255,255,255,255,255,255,255,255,255,255,255,255,255,255,255,255,255,255,255,255,255,255,255,255,255,255,255,255,255,255,255,255,255,255,255,255,255,255,255,255,255,255,255,255,255,255,255,255,255,255,255,255,255,255,255,255,255,255,255,255,255,255,255,255,255,255,255,255,255,255,255,255,255,255,255,255,255,255,255,255,255,255,255,255,255,255,255,255,255,255,255,255,255,255,255,255,255,255,255,255,255,255,255,255,255,255,255,255,255,255,255,255,255,255,255,255,255,255,255,255],[255,255,255,255,255,255,255,255,255,255,255,255,255,255,255,255,255,255,255,255,255,255,255,255,255,255,255,255,255,255,255,255,255,255,255,255,255,255,255,255,255,255,255,255,255,255,255,255,255,255,255,255,255,255,255,255,255,255,255,255,255,255,255,255,255,255,255,255,255,255,255,255,255,255,255,255,255,255,255,255,255,255,255,255,255,255,255,255,255,255,255,255,255,255,255,255,255,255,255,255,255,255,255,255,255,255,255,255,255,255,255,255,255,255,255,255,255,255,255,255,255,255,255,255,255,255,255,255,255,255,255,255,255,255,255,255,255,255,255,255,255,255,255,255,255,255,255,255,255,255],[255,255,255,255,255,255,255,255,255,255,255,255,255,255,255,255,255,255,255,255,255,255,255,255,255,255,255,255,255,255,255,255,255,255,255,255,255,255,255,255,255,255,255,255,255,255,255,255,255,255,255,255,255,255,255,255,255,255,255,255,255,255,255,255,255,255,255,255,255,255,255,255,255,255,255,255,255,255,255,255,255,255,255,255,255,255,255,255,255,255,255,255,255,255,255,255,255,255,255,255,255,255,255,255,255,255,255,255,255,255,255,255,255,255,255,255,255,255,255,255,255,255,255,255,255,255,255,255,255,255,255,255,255,255,255,255,255,255,255,255,255,255,255,255,255,255,255,255,255,255],[255,255,255,255,255,255,255,255,255,255,255,255,255,255,255,255,255,255,255,255,255,255,255,255,255,255,255,255,255,255,255,255,255,255,255,255,255,255,255,255,255,255,255,255,255,255,255,255,255,255,255,255,255,255,255,255,255,255,255,255,255,255,255,255,255,255,255,255,255,255,255,255,255,255,255,255,255,255,255,255,255,255,255,255,255,255,255,255,255,255,255,255,255,255,255,255,255,255,255,255,255,255,255,255,255,255,255,255,255,255,255,255,255,255,255,255,255,255,255,255,255,255,255,255,255,255,255,255,255,255,255,255,255,255,255,255,255,255,255,255,255,255,255,255,255,255,255,255,255,255],[255,255,255,255,255,255,255,255,255,255,255,255,255,255,255,255,255,255,255,255,255,255,255,255,255,255,255,255,255,255,255,255,255,255,255,255,255,255,255,255,255,255,255,255,255,255,255,255,255,255,255,255,255,255,255,255,255,255,255,255,255,255,255,255,255,255,255,255,255,255,255,255,255,255,255,255,255,255,255,255,255,255,255,255,255,255,255,255,255,255,255,255,255,255,255,255,255,255,255,255,255,255,255,255,255,255,255,255,255,255,255,255,255,255,255,255,255,255,255,255,255,255,255,255,255,255,255,255,255,255,255,255,255,255,255,255,255,255,255,255,255,255,255,255,255,255,255,255,255,255],[255,255,255,255,255,255,255,255,255,255,255,255,255,255,255,255,255,255,255,255,255,255,255,255,255,255,255,255,255,255,255,255,255,255,255,255,255,255,255,255,255,255,255,255,255,255,255,255,255,255,255,255,255,255,255,255,255,255,255,255,255,255,255,255,255,255,255,255,255,255,255,255,255,255,255,255,255,255,255,255,255,255,255,255,255,255,255,255,255,255,255,255,255,255,255,255,255,255,255,255,255,255,255,255,255,255,255,255,255,255,255,255,255,255,255,255,255,255,255,255,255,255,255,255,255,255,255,255,255,255,255,255,255,255,255,255,255,255,255,255,255,255,255,255,255,255,255,255,255,255],[255,255,255,255,255,255,255,255,255,255,255,255,255,255,255,255,255,255,255,255,255,255,255,255,255,255,255,255,255,255,255,255,255,255,255,255,255,255,255,255,255,255,255,255,255,255,255,255,255,255,255,255,255,255,255,255,255,255,255,255,255,255,255,255,255,255,255,255,255,255,255,255,255,255,255,255,255,255,255,255,255,255,255,255,255,255,255,255,255,255,255,255,255,255,255,255,255,255,255,255,255,255,255,255,255,255,255,255,255,255,255,255,255,255,255,255,255,255,255,255,255,255,255,255,255,255,255,255,255,255,255,255,255,255,255,255,255,255,255,255,255,255,255,255,255,255,255,255,255,255],[255,255,255,255,255,255,255,255,255,255,255,255,255,255,255,255,255,255,255,255,255,255,255,255,255,255,255,255,255,255,255,255,255,255,255,255,255,255,255,255,255,255,255,255,255,255,255,255,255,255,255,255,255,255,255,255,255,255,255,255,255,255,255,255,255,255,255,255,255,255,255,255,255,255,255,255,255,255,255,255,255,255,255,255,255,255,255,255,255,255,255,255,255,255,255,255,255,255,255,255,255,255,255,255,255,255,255,255,255,255,255,255,255,255,255,255,255,255,255,255,255,255,255,255,255,255,255,255,255,255,255,255,255,255,255,255,255,255,255,255,255,255,255,255,255,255,255,255,255,255],[255,255,255,255,255,255,255,255,255,255,255,255,255,255,255,255,255,255,255,255,255,255,255,255,255,255,255,255,255,255,255,255,255,255,255,255,255,255,255,255,255,255,255,255,255,255,255,255,255,255,255,255,255,255,255,255,255,255,255,255,255,255,255,255,255,255,255,255,255,255,255,255,255,255,255,255,255,255,255,255,255,255,255,255,255,255,255,255,255,255,255,255,255,255,255,255,255,255,255,255,255,255,255,255,255,255,255,255,255,255,255,255,255,255,255,255,255,255,255,255,255,255,255,255,255,255,255,255,255,255,255,255,255,255,255,255,255,255,255,255,255,255,255,255,255,255,255,255,255,255],[255,255,255,255,255,255,255,255,255,255,255,255,255,255,255,255,255,255,255,255,255,255,255,255,255,255,255,255,255,255,255,255,255,255,255,255,255,255,255,255,255,255,255,255,255,255,255,255,255,255,255,255,255,255,255,255,255,255,255,255,255,255,255,255,255,255,255,255,255,255,255,255,255,255,255,255,255,255,255,255,255,255,255,255,255,255,255,255,255,255,255,255,255,255,255,255,255,255,255,255,255,255,255,255,255,255,255,255,255,255,255,255,255,255,255,255,255,255,255,255,255,255,255,255,255,255,255,255,255,255,255,255,255,255,255,255,255,255,255,255,255,255,255,255,255,255,255,255,255,255],[255,255,255,255,255,255,255,255,255,255,255,255,255,255,255,255,255,255,255,255,255,255,255,255,255,255,255,255,255,255,255,255,255,255,255,255,255,255,255,255,255,255,255,255,255,255,255,255,255,255,255,255,255,255,255,255,255,255,255,255,255,255,255,255,255,255,255,255,255,255,255,255,255,255,255,255,255,255,255,255,255,255,255,255,255,255,255,255,255,255,255,255,255,255,255,255,255,255,255,255,255,255,255,255,255,255,255,255,255,255,255,255,255,255,255,255,255,255,255,255,255,255,255,255,255,255,255,255,255,255,255,255,255,255,255,255,255,255,255,255,255,255,255,255,255,255,255,255,255,255],[255,255,255,255,255,255,255,255,255,255,255,255,255,255,255,255,255,255,255,255,255,255,255,255,255,255,255,255,255,255,255,255,255,255,255,255,255,255,255,255,255,255,255,255,255,255,255,255,255,255,255,255,255,255,255,255,255,255,255,255,255,255,255,255,255,255,255,255,255,255,255,255,255,255,255,255,255,255,255,255,255,255,255,255,255,255,255,255,255,255,255,255,255,255,255,255,255,255,255,255,255,255,255,255,255,255,255,255,255,255,255,255,255,255,255,255,255,255,255,255,255,255,255,255,255,255,255,255,255,255,255,255,255,255,255,255,255,255,255,255,255,255,255,255,255,255,255,255,255,255],[255,255,255,255,255,255,255,255,255,255,255,255,255,255,255,255,255,255,255,255,255,255,255,255,255,255,255,255,255,255,255,255,255,255,255,255,255,255,255,255,255,255,255,255,255,255,255,255,255,255,255,255,255,255,255,255,255,255,255,255,255,255,255,255,255,255,255,255,255,255,255,255,255,255,255,255,255,255,255,255,255,255,255,255,255,255,255,255,255,255,255,255,255,255,255,255,255,255,255,255,255,255,255,255,255,255,255,255,255,255,255,255,255,255,255,255,255,255,255,255,255,255,255,255,255,255,255,255,255,255,255,255,255,255,255,255,255,255,255,255,255,255,255,255,255,255,255,255,255,255],[255,255,255,255,255,255,255,255,255,255,255,255,255,255,255,255,255,255,255,255,255,255,255,255,255,255,255,255,255,255,255,255,255,255,255,255,255,255,255,255,255,255,255,255,255,255,255,255,255,255,255,255,255,255,255,255,255,255,255,255,255,255,255,255,255,255,255,255,255,255,255,255,255,255,255,255,255,255,255,255,255,255,255,255,255,255,255,255,255,255,255,255,255,255,255,255,255,255,255,255,255,255,255,255,255,255,255,255,255,255,255,255,255,255,255,255,255,255,255,255,255,255,255,255,255,255,255,255,255,255,255,255,255,255,255,255,255,255,255,255,255,255,255,255,255,255,255,255,255,255],[255,255,255,255,255,255,255,255,255,255,255,255,255,255,255,255,255,255,255,255,255,255,255,255,255,255,255,255,255,255,255,255,255,255,255,255,255,255,255,255,255,255,255,255,255,255,255,255,255,255,255,255,255,255,255,255,255,255,255,255,255,255,255,255,255,255,255,255,255,255,255,255,255,255,255,255,255,255,255,255,255,255,255,255,255,255,255,255,255,255,255,255,255,255,255,255,255,255,255,255,255,255,255,255,255,255,255,255,255,255,255,255,255,255,255,255,255,255,255,255,255,255,255,255,255,255,255,255,255,255,255,255,255,255,255,255,255,255,255,255,255,255,255,255,255,255,255,255,255,255],[255,255,255,255,255,255,255,255,255,255,255,255,255,255,255,255,255,255,255,255,255,255,255,255,255,255,255,255,255,255,255,255,255,255,255,255,255,255,255,255,255,255,255,255,255,255,255,255,255,255,255,255,255,255,255,255,255,255,255,255,255,255,255,255,255,255,255,255,255,255,255,255,255,255,255,255,255,255,255,255,255,255,255,255,255,255,255,255,255,255,255,255,255,255,255,255,255,255,255,255,255,255,255,255,255,255,255,255,255,255,255,255,255,255,255,255,255,255,255,255,255,255,255,255,255,255,255,255,255,255,255,255,255,255,255,255,255,255,255,255,255,255,255,255,255,255,255,255,255,255],[255,255,255,255,255,255,255,255,255,255,255,255,255,255,255,255,255,255,255,255,255,255,255,255,255,255,255,255,255,255,255,255,255,255,255,255,255,255,255,255,255,255,255,255,255,255,255,255,255,255,255,255,255,255,255,255,255,255,255,255,255,255,255,255,255,255,255,255,255,255,255,255,255,255,255,255,255,255,255,255,255,255,255,255,255,255,255,255,255,255,255,255,255,255,255,255,255,255,255,255,255,255,255,255,255,255,255,255,255,255,255,255,255,255,255,255,255,255,255,255,255,255,255,255,255,255,255,255,255,255,255,255,255,255,255,255,255,255,255,255,255,255,255,255,255,255,255,255,255,255],[255,255,255,255,255,255,255,255,255,255,255,255,255,255,255,255,255,255,255,255,255,255,255,255,255,255,255,255,255,255,255,255,255,255,255,255,255,255,255,255,255,255,255,255,255,255,255,255,255,255,255,255,255,255,255,255,255,255,255,255,255,255,255,255,255,255,255,255,255,255,255,255,255,255,255,255,255,255,255,255,255,255,255,255,255,255,255,255,255,255,255,255,255,255,255,255,255,255,255,255,255,255,255,255,255,255,255,255,255,255,255,255,255,255,255,255,255,255,255,255,255,255,255,255,255,255,255,255,255,255,255,255,255,255,255,255,255,255,255,255,255,255,255,255,255,255,255,255,255,255],[255,255,255,255,255,255,255,255,255,255,255,255,255,255,255,255,255,255,255,255,255,255,255,255,255,255,255,255,255,255,255,255,255,255,255,255,255,255,255,255,255,255,255,255,255,255,255,255,255,255,255,255,255,255,255,255,255,255,255,255,255,255,255,255,255,255,255,255,255,255,255,255,255,255,255,255,255,255,255,255,255,255,255,255,255,255,255,255,255,255,255,255,255,255,255,255,255,255,255,255,255,255,255,255,255,255,255,255,255,255,255,255,255,255,255,255,255,255,255,255,255,255,255,255,255,255,255,255,255,255,255,255,255,255,255,255,255,255,255,255,255,255,255,255,255,255,255,255,255,255],[255,255,255,255,255,255,255,255,255,255,255,255,255,255,255,255,255,255,255,255,255,255,255,255,255,255,255,255,255,255,255,255,255,255,255,255,255,255,255,255,255,255,255,255,255,255,255,255,255,255,255,255,255,255,255,255,255,255,255,255,255,255,255,255,255,255,255,255,255,255,255,255,255,255,255,255,255,255,255,255,255,255,255,255,255,255,255,255,255,255,255,255,255,255,255,255,255,255,255,255,255,255,255,255,255,255,255,255,255,255,255,255,255,255,255,255,255,255,255,255,255,255,255,255,255,255,255,255,255,255,255,255,255,255,255,255,255,255,255,255,255,255,255,255,255,255,255,255,255,255],[255,255,255,255,255,255,255,255,255,255,255,255,255,255,255,255,255,255,255,255,255,255,255,255,255,255,255,255,255,255,255,255,255,255,255,255,255,255,255,255,255,255,255,255,255,255,255,255,255,255,255,255,255,255,255,255,255,255,255,255,255,255,255,255,255,255,255,255,255,255,255,255,255,255,255,255,255,255,255,255,255,255,255,255,255,255,255,255,255,255,255,255,255,255,255,255,255,255,255,255,255,255,255,255,255,255,255,255,255,255,255,255,255,255,255,255,255,255,255,255,255,255,255,255,255,255,255,255,255,255,255,255,255,255,255,255,255,255,255,255,255,255,255,255,255,255,255,255,255,255],[255,255,255,255,255,255,255,255,255,255,255,255,255,255,255,255,255,255,255,255,255,255,255,255,255,255,255,255,255,255,255,255,255,255,255,255,255,255,255,255,255,255,255,255,255,255,255,255,255,255,255,255,255,255,255,255,255,255,255,255,255,255,255,255,255,255,255,255,255,255,255,255,255,255,255,255,255,255,255,255,255,255,255,255,255,255,255,255,255,255,255,255,255,255,255,255,255,255,255,255,255,255,255,255,255,255,255,255,255,255,255,255,255,255,255,255,255,255,255,255,255,255,255,255,255,255,255,255,255,255,255,255,255,255,255,255,255,255,255,255,255,255,255,255,255,255,255,255,255,255],[255,255,255,255,255,255,255,255,255,255,255,255,255,255,255,255,255,255,255,255,255,255,255,255,255,255,255,255,255,255,255,255,255,255,255,255,255,255,255,255,255,255,255,255,255,255,255,255,255,255,255,255,255,255,255,255,255,255,255,255,255,255,255,255,255,255,255,255,255,255,255,255,255,255,255,255,255,255,255,255,255,255,255,255,255,255,255,255,255,255,255,255,255,255,255,255,255,255,255,255,255,255,255,255,255,255,255,255,255,255,255,255,255,255,255,255,255,255,255,255,255,255,255,255,255,255,255,255,255,255,255,255,255,255,255,255,255,255,255,255,255,255,255,255,255,255,255,255,255,255],[255,255,255,255,255,255,255,255,255,255,255,255,255,255,255,255,255,255,255,255,255,255,255,255,255,255,255,255,255,255,255,255,255,255,255,255,255,255,255,255,255,255,255,255,255,255,255,255,255,255,255,255,255,255,255,255,255,255,255,255,255,255,255,255,255,255,255,255,255,255,255,255,255,255,255,255,255,255,255,255,255,255,255,255,255,255,255,255,255,255,255,255,255,255,255,255,255,255,255,255,255,255,255,255,255,255,255,255,255,255,255,255,255,255,255,255,255,255,255,255,255,255,255,255,255,255,255,255,255,255,255,255,255,255,255,255,255,255,255,255,255,255,255,255,255,255,255,255,255,255],[255,255,255,255,255,255,255,255,255,255,255,255,255,255,255,255,255,255,255,255,255,255,255,255,255,255,255,255,255,255,255,255,255,255,255,255,255,255,255,255,255,255,255,255,255,255,255,255,255,255,255,255,255,255,255,255,255,255,255,255,255,255,255,255,255,255,255,255,255,255,255,255,255,255,255,255,255,255,255,255,255,255,255,255,255,255,255,255,255,255,255,255,255,255,255,255,255,255,255,255,255,255,255,255,255,255,255,255,255,255,255,255,255,255,255,255,255,255,255,255,255,255,255,255,255,255,255,255,255,255,255,255,255,255,255,255,255,255,255,255,255,255,255,255,255,255,255,255,255,255],[255,255,255,255,255,255,255,255,255,255,255,255,255,255,255,255,255,255,255,255,255,255,255,255,255,255,255,255,255,255,255,255,255,255,255,255,255,255,255,255,255,255,255,255,255,255,255,255,255,255,255,255,255,255,255,255,255,255,255,255,255,255,255,255,255,255,255,255,255,255,255,255,255,255,255,255,255,255,255,255,255,255,255,255,255,255,255,255,255,255,255,255,255,255,255,255,255,255,255,255,255,255,255,255,255,255,255,255,255,255,255,255,255,255,255,255,255,255,255,255,255,255,255,255,255,255,255,255,255,255,255,255,255,255,255,255,255,255,255,255,255,255,255,255,255,255,255,255,255,255],[255,255,255,255,255,255,255,255,255,255,255,255,255,255,255,255,255,255,255,255,255,255,255,255,255,255,255,255,255,255,255,255,255,255,255,255,255,255,255,255,255,255,255,255,255,255,255,255,255,255,255,255,255,255,255,255,255,255,255,255,255,255,255,255,255,255,255,255,255,255,255,255,255,255,255,255,255,255,255,255,255,255,255,255,255,255,255,255,255,255,255,255,255,255,255,255,255,255,255,255,255,255,255,255,255,255,255,255,255,255,255,255,255,255,255,255,255,255,255,255,255,255,255,255,255,255,255,255,255,255,255,255,255,255,255,255,255,255,255,255,255,255,255,255,255,255,255,255,255,255],[255,255,255,255,255,255,255,255,255,255,255,255,255,255,255,255,255,255,255,255,255,255,255,255,255,255,255,255,255,255,255,255,255,255,255,255,255,255,255,255,255,255,255,255,255,255,255,255,255,255,255,255,255,255,255,255,255,255,255,255,255,255,255,255,255,255,255,255,255,255,255,255,255,255,255,255,255,255,255,255,255,255,255,255,255,255,255,255,255,255,255,255,255,255,255,255,255,255,255,255,255,255,255,255,255,255,255,255,255,255,255,255,255,255,255,255,255,255,255,255,255,255,255,255,255,255,255,255,255,255,255,255,255,255,255,255,255,255,255,255,255,255,255,255,255,255,255,255,255,255],[255,255,255,255,255,255,255,255,255,255,255,255,255,255,255,255,255,255,255,255,255,255,255,255,255,255,255,255,255,255,255,255,255,255,255,255,255,255,255,255,255,255,255,255,255,255,255,255,255,255,255,255,255,255,255,255,255,255,255,255,255,255,255,255,255,255,255,248,187,127,80,46,20,9,3,13,27,47,89,131,194,252,255,255,255,255,255,255,255,255,255,255,255,255,255,255,255,255,255,255,255,255,255,255,255,255,255,255,255,255,255,255,255,255,255,255,255,255,255,255,255,255,255,255,255,255,255,255,255,255,255,255,255,255,255,255,255,255,255,255,255,255,255,255,255,255,255,255,255,255],[255,255,255,255,255,255,255,255,255,255,255,255,255,255,255,255,255,255,255,255,255,255,255,255,255,255,255,255,255,255,255,255,255,255,255,255,255,255,255,255,255,255,255,255,255,255,255,255,255,255,255,255,255,255,255,255,255,255,255,255,255,255,255,255,255,197,93,11,0,0,0,0,0,0,0,0,0,0,0,0,0,17,98,210,255,255,255,255,255,255,255,255,255,255,255,255,255,255,255,255,255,255,255,255,255,255,255,255,255,255,255,255,255,255,255,255,255,255,255,255,255,255,255,255,255,255,255,255,255,255,255,255,255,255,255,255,255,255,255,255,255,255,255,255,255,255,255,255,255,255],[255,255,255,255,255,255,255,255,255,255,255,255,255,255,255,255,255,255,255,255,255,255,255,255,255,255,255,255,255,255,255,255,255,255,255,255,255,255,255,255,255,255,255,255,255,255,255,255,255,255,255,255,255,255,255,255,255,255,255,255,255,255,255,207,65,0,0,0,0,0,0,0,0,0,0,0,0,0,0,0,0,0,0,0,73,216,255,255,255,255,255,255,255,255,255,255,255,255,255,255,255,255,255,255,255,255,255,255,255,255,255,255,255,255,255,255,255,255,255,255,255,255,255,255,255,255,255,255,255,255,255,255,255,255,255,255,255,255,255,255,255,255,255,255,255,255,255,255,255,255],[255,255,255,255,255,255,255,255,255,255,255,255,255,255,255,255,255,255,255,255,255,255,255,255,255,255,255,255,255,255,255,255,255,255,255,255,255,255,255,255,255,255,255,255,255,255,255,255,255,255,255,255,255,255,255,255,255,255,255,255,255,251,122,3,0,0,0,0,0,0,0,0,0,0,0,0,0,0,0,0,0,0,0,0,0,7,129,253,255,255,255,255,255,255,255,255,255,255,255,255,255,255,255,255,255,255,255,255,255,255,255,255,255,255,255,255,255,255,255,255,255,255,255,255,255,255,255,255,255,255,255,255,255,255,255,255,255,255,255,255,255,255,255,255,255,255,255,255,255,255],[255,255,255,255,255,255,255,255,255,255,255,255,255,255,255,255,255,255,255,255,255,255,255,255,255,255,255,255,255,255,255,255,255,255,255,255,255,255,255,255,255,255,255,255,255,255,255,255,255,255,255,255,255,255,255,255,255,255,255,255,243,66,0,0,0,0,0,0,0,0,0,0,0,0,0,0,0,0,0,0,0,0,0,0,0,0,0,73,240,255,255,255,255,255,255,255,255,255,255,255,255,255,255,255,255,255,255,255,255,255,255,255,255,255,255,255,255,255,255,255,255,255,255,255,255,255,255,255,255,255,255,255,255,255,255,255,255,255,255,255,255,255,255,255,255,255,255,255,255,255],[255,255,255,255,255,255,255,255,255,255,255,255,255,255,255,255,255,255,255,255,255,255,255,255,255,255,255,255,255,255,255,255,255,255,255,255,255,255,255,255,255,255,255,255,255,255,255,255,255,255,255,255,255,255,255,255,255,255,255,240,57,0,0,0,0,0,0,0,0,0,0,0,0,0,0,0,0,0,0,0,0,0,0,0,0,0,0,0,45,237,255,255,255,255,255,255,255,255,255,255,255,255,255,255,255,255,255,255,255,255,255,255,255,255,255,255,255,255,255,255,255,255,255,255,255,255,255,255,255,255,255,255,255,255,255,255,255,255,255,255,255,255,255,255,255,255,255,255,255,255],[255,255,255,255,255,255,255,255,255,255,255,255,255,255,255,255,255,255,255,255,255,255,255,255,255,255,255,255,255,255,255,255,255,255,255,255,255,255,255,255,255,255,255,255,255,255,255,255,255,255,255,255,255,255,255,255,255,255,244,51,0,0,0,0,0,0,0,0,0,0,0,0,0,0,0,0,0,0,0,0,0,0,0,0,0,0,0,0,0,54,243,255,255,255,255,255,255,255,255,255,255,255,255,255,255,255,255,255,255,255,255,255,255,255,255,255,255,255,255,255,255,255,255,255,255,255,255,255,255,255,255,255,255,255,255,255,255,255,255,255,255,255,255,255,255,255,255,255,255,255],[255,255,255,255,255,255,255,255,255,255,255,255,255,255,255,255,255,255,255,255,255,255,255,255,255,255,255,255,255,255,255,255,255,255,255,255,255,255,255,255,255,255,255,255,255,255,255,255,255,255,255,255,255,255,255,255,255,255,91,0,0,0,0,0,0,0,0,0,0,0,30,104,152,178,187,173,138,82,10,0,0,0,0,0,0,0,0,0,0,0,86,255,255,255,255,255,255,255,255,255,255,255,255,255,255,255,255,255,255,255,255,255,255,255,255,255,255,255,255,255,255,255,255,255,255,255,255,255,255,255,255,255,255,255,255,255,255,255,255,255,255,255,255,255,255,255,255,255,255,255],[255,255,255,255,255,255,255,255,255,255,255,255,255,255,255,255,255,255,255,255,255,255,255,255,255,255,255,255,255,255,255,255,255,255,255,255,255,255,255,255,255,255,255,255,255,255,255,255,255,255,255,255,255,255,255,255,255,152,0,0,0,0,0,0,0,0,0,0,52,182,254,255,255,255,255,255,255,255,244,141,20,0,0,0,0,0,0,0,0,0,0,153,255,255,255,255,255,255,255,255,255,255,255,255,255,255,255,255,255,255,255,255,255,255,255,255,255,255,255,255,255,255,255,255,255,255,255,255,255,255,255,255,255,255,255,255,255,255,255,255,255,255,255,255,255,255,255,255,255,255],[255,255,255,255,255,255,255,255,255,255,255,255,255,255,255,255,255,255,255,255,255,255,255,255,255,255,255,255,255,255,255,255,255,255,255,255,255,255,255,255,255,255,255,255,255,255,255,255,255,255,255,255,255,255,255,255,220,7,0,0,0,0,0,0,0,0,2,133,253,255,255,255,255,255,255,255,255,255,255,255,233,76,0,0,0,0,0,0,0,0,0,12,229,255,255,255,255,255,255,255,255,255,255,255,255,255,255,255,255,255,255,255,255,255,255,255,255,255,255,255,255,255,255,255,255,255,255,255,255,255,255,255,255,255,255,255,255,255,255,255,255,255,255,255,255,255,255,255,255,255],[255,255,255,255,255,255,255,255,255,255,255,255,255,255,255,255,255,255,255,255,255,255,255,255,255,255,255,255,255,255,255,255,255,255,255,255,255,255,255,255,255,255,255,255,255,255,255,255,255,255,255,255,255,255,255,255,83,0,0,0,0,0,0,0,0,3,169,255,255,255,255,255,255,255,255,255,255,255,255,255,255,253,111,0,0,0,0,0,0,0,0,0,91,255,255,255,255,255,255,255,255,255,255,255,255,255,255,255,255,255,255,255,255,255,255,255,255,255,255,255,255,255,255,255,255,255,255,255,255,255,255,255,255,255,255,255,255,255,255,255,255,255,255,255,255,255,255,255,255,255],[255,255,255,255,255,255,255,255,255,255,255,255,255,255,255,255,255,255,255,255,255,255,255,255,255,255,255,255,255,255,255,255,255,255,255,255,255,255,255,255,255,255,255,255,255,255,255,255,255,255,255,255,255,255,255,196,0,0,0,0,0,0,0,0,0,151,255,255,255,255,255,255,255,255,255,255,255,255,255,255,255,255,255,104,0,0,0,0,0,0,0,0,0,204,255,255,255,255,255,255,255,255,255,255,255,255,255,255,255,255,255,255,255,255,255,255,255,255,255,255,255,255,255,255,255,255,255,255,255,255,255,255,255,255,255,255,255,255,255,255,255,255,255,255,255,255,255,255,255,255],[255,255,255,255,255,255,255,255,255,255,255,255,255,255,255,255,255,255,255,255,255,255,255,255,255,255,255,255,255,255,255,255,255,255,255,255,255,255,255,255,255,255,255,255,255,255,255,255,255,255,255,255,255,255,255,60,0,0,0,0,0,0,0,0,87,255,255,255,255,255,255,255,255,255,255,255,255,255,255,255,255,255,255,251,63,0,0,0,0,0,0,0,0,83,255,255,255,255,255,255,255,255,255,255,255,255,255,255,255,255,255,255,255,255,255,255,255,255,255,255,255,255,255,255,255,255,255,255,255,255,255,255,255,255,255,255,255,255,255,255,255,255,255,255,255,255,255,255,255,255],[255,255,255,255,255,255,255,255,255,255,255,255,255,255,255,255,255,255,255,255,255,255,255,255,255,255,255,255,255,255,255,255,255,255,255,255,255,255,255,255,255,255,255,255,255,255,255,255,255,255,255,255,255,255,209,0,0,0,0,0,0,0,0,12,228,255,255,255,255,255,255,255,255,255,255,255,255,255,255,255,255,255,255,255,226,10,0,0,0,0,0,0,0,2,217,255,255,255,255,255,255,255,255,255,255,255,255,255,255,255,255,255,255,255,255,255,255,255,255,255,255,255,255,255,255,255,255,255,255,255,255,255,255,255,255,255,255,255,255,255,255,255,255,255,255,255,255,255,255,255],[255,255,255,255,255,255,255,255,255,255,255,255,255,255,255,255,255,255,255,255,255,255,255,255,255,255,255,255,255,255,255,255,255,255,255,255,255,255,255,255,255,255,255,255,255,255,255,255,255,255,255,255,255,255,106,0,0,0,0,0,0,0,0,122,255,255,255,255,255,255,255,255,255,255,255,255,255,255,255,255,255,255,255,255,255,130,0,0,0,0,0,0,0,0,115,255,255,255,255,255,255,255,255,255,255,255,255,255,255,255,255,255,255,255,255,255,255,255,255,255,255,255,255,255,255,255,255,255,255,255,255,255,255,255,255,255,255,255,255,255,255,255,255,255,255,255,255,255,255,255],[255,255,255,255,255,255,255,255,255,255,255,255,255,255,255,255,255,255,255,255,255,255,255,255,255,255,255,255,255,255,255,255,255,255,255,255,255,255,255,255,255,255,255,255,255,255,255,255,255,255,255,255,255,245,14,0,0,0,0,0,0,0,4,228,255,255,255,255,255,255,255,255,255,255,255,255,255,255,255,255,255,255,255,255,255,238,9,0,0,0,0,0,0,0,24,252,255,255,255,255,255,255,255,255,255,255,255,255,255,255,255,255,255,255,255,255,255,255,255,255,255,255,255,255,255,255,255,255,255,255,255,255,255,255,255,255,255,255,255,255,255,255,255,255,255,255,255,255,255,255],[255,255,255,255,255,255,255,255,255,255,255,255,255,255,255,255,255,255,255,255,255,255,255,255,255,255,255,255,255,255,255,255,255,255,255,255,255,255,255,255,255,255,255,255,255,255,255,255,255,255,255,255,255,166,0,0,0,0,0,0,0,0,80,255,255,255,255,255,255,255,255,255,255,255,255,255,255,255,255,255,255,255,255,255,255,255,98,0,0,0,0,0,0,0,0,182,255,255,255,255,255,255,255,255,255,255,255,255,255,255,255,255,255,255,255,255,255,255,255,255,255,255,255,255,255,255,255,255,255,255,255,255,255,255,255,255,255,255,255,255,255,255,255,255,255,255,255,255,255,255],[255,255,255,255,255,255,255,255,255,255,255,255,255,255,255,255,255,255,255,255,255,255,255,255,255,255,255,255,255,255,255,255,255,255,255,255,255,255,255,255,255,255,255,255,255,255,255,255,255,255,255,255,255,87,0,0,0,0,0,0,0,0,161,255,255,255,255,255,255,255,255,255,255,255,255,255,255,255,255,255,255,255,255,255,255,255,181,0,0,0,0,0,0,0,0,103,255,255,255,255,255,255,255,255,255,255,255,255,255,255,255,255,255,255,255,255,255,255,255,255,255,255,255,255,255,255,255,255,255,255,255,255,255,255,255,255,255,255,255,255,255,255,255,255,255,255,255,255,255,255],[255,255,255,255,255,255,255,255,255,255,255,255,255,255,255,255,255,255,255,255,255,255,255,255,255,255,255,255,255,255,255,255,255,255,255,255,255,255,255,255,255,255,255,255,255,255,255,255,255,255,255,255,254,17,0,0,0,0,0,0,0,3,236,255,255,255,255,255,255,255,255,255,255,255,255,255,255,255,255,255,255,255,255,255,255,255,247,10,0,0,0,0,0,0,0,29,255,255,255,255,255,255,255,255,255,255,255,255,255,255,255,255,255,255,255,255,255,255,255,255,255,255,255,255,255,255,255,255,255,255,255,255,255,255,255,255,255,255,255,255,255,255,255,255,255,255,255,255,255,255],[255,255,255,255,255,255,255,255,255,255,255,255,255,255,255,255,255,255,255,255,255,255,255,255,255,255,255,255,255,255,255,255,255,255,255,255,255,255,255,255,255,255,255,255,255,255,255,255,255,255,255,255,208,0,0,0,0,0,0,0,0,49,255,255,255,255,255,255,255,255,255,255,255,255,255,255,255,255,255,255,255,255,255,255,255,255,255,69,0,0,0,0,0,0,0,0,210,255,255,255,255,255,255,255,255,255,255,255,255,255,255,255,255,255,255,255,255,255,255,255,255,255,255,255,255,255,255,255,255,255,255,255,255,255,255,255,255,255,255,255,255,255,255,255,255,255,255,255,255,255],[255,255,255,255,255,255,255,255,255,255,255,255,255,255,255,255,255,255,255,255,255,255,255,255,255,255,255,255,255,255,255,255,255,255,255,255,255,255,255,255,255,255,255,255,255,255,255,255,255,255,255,255,149,0,0,0,0,0,0,0,0,107,255,255,255,255,255,255,255,255,255,255,255,255,255,255,255,255,255,255,255,255,255,255,255,255,255,123,0,0,0,0,0,0,0,0,149,255,255,255,255,255,255,255,255,255,255,255,255,255,255,255,255,255,255,255,255,255,255,255,255,255,255,255,255,255,255,255,255,255,255,255,255,255,255,255,255,255,255,255,255,255,255,255,255,255,255,255,255,255],[255,255,255,255,255,255,255,255,255,255,255,255,255,255,255,255,255,255,255,255,255,255,255,255,255,255,255,255,255,255,255,255,255,255,255,255,255,255,255,255,255,255,255,255,255,255,255,255,255,255,255,255,98,0,0,0,0,0,0,0,0,163,255,255,255,255,255,255,255,255,255,255,255,255,255,255,255,255,255,255,255,255,255,255,255,255,255,178,0,0,0,0,0,0,0,0,93,255,255,255,255,255,255,255,255,255,255,255,255,255,255,255,255,255,255,255,255,255,255,255,255,255,255,255,255,255,255,255,255,255,255,255,255,255,255,255,255,255,255,255,255,255,255,255,255,255,255,255,255,255],[255,255,255,255,255,255,255,255,255,255,255,255,255,255,255,255,255,255,255,255,255,255,255,255,255,255,255,255,255,255,255,255,255,255,255,255,255,255,255,255,255,255,255,255,255,255,255,255,255,255,255,255,50,0,0,0,0,0,0,0,0,207,255,255,255,255,255,255,255,255,255,255,255,255,255,255,255,255,255,255,255,255,255,255,255,255,255,220,0,0,0,0,0,0,0,0,45,255,255,255,255,255,255,255,255,255,255,255,255,255,255,255,255,255,255,255,255,255,255,255,255,255,255,255,255,255,255,255,255,255,255,255,255,255,255,255,255,255,255,255,255,255,255,255,255,255,255,255,255,255],[255,255,255,255,255,255,255,255,255,255,255,255,255,255,255,255,255,255,255,255,255,255,255,255,255,255,255,255,255,255,255,255,255,255,255,255,255,255,255,255,255,255,255,255,255,255,255,255,255,255,255,255,11,0,0,0,0,0,0,0,1,245,255,255,255,255,255,255,255,255,255,255,255,255,255,255,255,255,255,255,255,255,255,255,255,255,255,252,5,0,0,0,0,0,0,0,6,252,255,255,255,255,255,255,255,255,255,255,255,255,255,255,255,255,255,255,255,255,255,255,255,255,255,255,255,255,255,255,255,255,255,255,255,255,255,255,255,255,255,255,255,255,255,255,255,255,255,255,255,255],[255,255,255,255,255,255,255,255,255,255,255,255,255,255,255,255,255,255,255,255,255,255,255,255,255,255,255,255,255,255,255,255,255,255,255,255,255,255,255,255,255,255,255,255,255,255,255,255,255,255,255,228,0,0,0,0,0,0,0,0,30,255,255,255,255,255,255,255,255,255,255,255,255,255,255,255,255,255,255,255,255,255,255,255,255,255,255,255,38,0,0,0,0,0,0,0,0,222,255,255,255,255,255,255,255,255,255,255,255,255,255,255,255,255,255,255,255,255,255,255,255,255,255,255,255,255,255,255,255,255,255,255,255,255,255,255,255,255,255,255,255,255,255,255,255,255,255,255,255,255],[255,255,255,255,255,255,255,255,255,255,255,255,255,255,255,255,255,255,255,255,255,255,255,255,255,255,255,255,255,255,255,255,255,255,255,255,255,255,255,255,255,255,255,255,255,255,255,255,255,255,255,195,0,0,0,0,0,0,0,0,61,255,255,255,255,255,255,255,255,255,255,255,255,255,255,255,255,255,255,255,255,255,255,255,255,255,255,255,67,0,0,0,0,0,0,0,0,190,255,255,255,255,255,255,255,255,255,255,255,255,255,255,255,255,255,255,255,255,255,255,255,255,255,255,255,255,255,255,255,255,255,255,255,255,255,255,255,255,255,255,255,255,255,255,255,255,255,255,255,255],[255,255,255,255,255,255,255,255,255,255,255,255,255,255,255,255,255,255,255,255,255,255,255,255,255,255,255,255,255,255,255,255,255,255,255,255,255,255,255,255,255,255,255,255,255,255,255,255,255,255,255,166,0,0,0,0,0,0,0,0,87,255,255,255,255,255,255,255,255,255,255,255,255,255,255,255,255,255,255,255,255,255,255,255,255,255,255,255,91,0,0,0,0,0,0,0,0,161,255,255,255,255,255,255,255,255,255,255,255,255,255,255,255,255,255,255,255,255,255,255,255,255,255,255,255,255,255,255,255,255,255,255,255,255,255,255,255,255,255,255,255,255,255,255,255,255,255,255,255,255],[255,255,255,255,255,255,255,255,255,255,255,255,255,255,255,255,255,255,255,255,255,255,255,255,255,255,255,255,255,255,255,255,255,255,255,255,255,255,255,255,255,255,255,255,255,255,255,255,255,255,255,139,0,0,0,0,0,0,0,0,113,255,255,255,255,255,255,255,255,255,255,255,255,255,255,255,255,255,255,255,255,255,255,255,255,255,255,255,115,0,0,0,0,0,0,0,0,136,255,255,255,255,255,255,255,255,255,255,255,255,255,255,255,255,255,255,255,255,255,255,255,255,255,255,255,255,255,255,255,255,255,255,255,255,255,255,255,255,255,255,255,255,255,255,255,255,255,255,255,255],[255,255,255,255,255,255,255,255,255,255,255,255,255,255,255,255,255,255,255,255,255,255,255,255,255,255,255,255,255,255,255,255,255,255,255,255,255,255,255,255,255,255,255,255,255,255,255,255,255,255,255,117,0,0,0,0,0,0,0,0,136,255,255,255,255,255,255,255,255,255,255,255,255,255,255,255,255,255,255,255,255,255,255,255,255,255,255,255,137,0,0,0,0,0,0,0,0,116,255,255,255,255,255,255,255,255,255,255,255,255,255,255,255,255,255,255,255,255,255,255,255,255,255,255,255,255,255,255,255,255,255,255,255,255,255,255,255,255,255,255,255,255,255,255,255,255,255,255,255,255],[255,255,255,255,255,255,255,255,255,255,255,255,255,255,255,255,255,255,255,255,255,255,255,255,255,255,255,255,255,255,255,255,255,255,255,255,255,255,255,255,255,255,255,255,255,255,255,255,255,255,255,99,0,0,0,0,0,0,0,0,151,255,255,255,255,255,255,255,255,255,255,255,255,255,255,255,255,255,255,255,255,255,255,255,255,255,255,255,151,0,0,0,0,0,0,0,0,98,255,255,255,255,255,255,255,255,255,255,255,255,255,255,255,255,255,255,255,255,255,255,255,255,255,255,255,255,255,255,255,255,255,255,255,255,255,255,255,255,255,255,255,255,255,255,255,255,255,255,255,255],[255,255,255,255,255,255,255,255,255,255,255,255,255,255,255,255,255,255,255,255,255,255,255,255,255,255,255,255,255,255,255,255,255,255,255,255,255,255,255,255,255,255,255,255,255,255,255,255,255,255,255,81,0,0,0,0,0,0,0,0,165,255,255,255,255,255,255,255,255,255,255,255,255,255,255,255,255,255,255,255,255,255,255,255,255,255,255,255,163,0,0,0,0,0,0,0,0,84,255,255,255,255,255,255,255,255,255,255,255,255,255,255,255,255,255,255,255,255,255,255,255,255,255,255,255,255,255,255,255,255,255,255,255,255,255,255,255,255,255,255,255,255,255,255,255,255,255,255,255,255],[255,255,255,255,255,255,255,255,255,255,255,255,255,255,255,255,255,255,255,255,255,255,255,255,255,255,255,255,255,255,255,255,255,255,255,255,255,255,255,255,255,255,255,255,255,255,255,255,255,255,255,69,0,0,0,0,0,0,0,0,179,255,255,255,255,255,255,255,255,255,255,255,255,255,255,255,255,255,255,255,255,255,255,255,255,255,255,255,176,0,0,0,0,0,0,0,0,70,255,255,255,255,255,255,255,255,255,255,255,255,255,255,255,255,255,255,255,255,255,255,255,255,255,255,255,255,255,255,255,255,255,255,255,255,255,255,255,255,255,255,255,255,255,255,255,255,255,255,255,255],[255,255,255,255,255,255,255,255,255,255,255,255,255,255,255,255,255,255,255,255,255,255,255,255,255,255,255,255,255,255,255,255,255,255,255,255,255,255,255,255,255,255,255,255,255,255,255,255,255,255,255,59,0,0,0,0,0,0,0,0,191,255,255,255,255,255,255,255,255,255,255,255,255,255,255,255,255,255,255,255,255,255,255,255,255,255,255,255,187,0,0,0,0,0,0,0,0,62,255,255,255,255,255,255,255,255,255,255,255,255,255,255,255,255,255,255,255,255,255,255,255,255,255,255,255,255,255,255,255,255,255,255,255,255,255,255,255,255,255,255,255,255,255,255,255,255,255,255,255,255],[255,255,255,255,255,255,255,255,255,255,255,255,255,255,255,255,255,255,255,255,255,255,255,255,255,255,255,255,255,255,255,255,255,255,255,255,255,255,255,255,255,255,255,255,255,255,255,255,255,255,255,50,0,0,0,0,0,0,0,0,195,255,255,255,255,255,255,255,255,255,255,255,255,255,255,255,255,255,255,255,255,255,255,255,255,255,255,255,190,0,0,0,0,0,0,0,0,54,255,255,255,255,255,255,255,255,255,255,255,255,255,255,255,255,255,255,255,255,255,255,255,255,255,255,255,255,255,255,255,255,255,255,255,255,255,255,255,255,255,255,255,255,255,255,255,255,255,255,255,255],[255,255,255,255,255,255,255,255,255,255,255,255,255,255,255,255,255,255,255,255,255,255,255,255,255,255,255,255,255,255,255,255,255,255,255,255,255,255,255,255,255,255,255,255,255,255,255,255,255,255,255,45,0,0,0,0,0,0,0,0,199,255,255,255,255,255,255,255,255,255,255,255,255,255,255,255,255,255,255,255,255,255,255,255,255,255,255,255,194,0,0,0,0,0,0,0,0,49,255,255,255,255,255,255,255,255,255,255,255,255,255,255,255,255,255,255,255,255,255,255,255,255,255,255,255,255,255,255,255,255,255,255,255,255,255,255,255,255,255,255,255,255,255,255,255,255,255,255,255,255],[255,255,255,255,255,255,255,255,255,255,255,255,255,255,255,255,255,255,255,255,255,255,255,255,255,255,255,255,255,255,255,255,255,255,255,255,255,255,255,255,255,255,255,255,255,255,255,255,255,255,255,42,0,0,0,0,0,0,0,0,203,255,255,255,255,255,255,255,255,255,255,255,255,255,255,255,255,255,255,255,255,255,255,255,255,255,255,255,198,0,0,0,0,0,0,0,0,47,255,255,255,255,255,255,255,255,255,255,255,255,255,255,255,255,255,255,255,255,255,255,255,255,255,255,255,255,255,255,255,255,255,255,255,255,255,255,255,255,255,255,255,255,255,255,255,255,255,255,255,255],[255,255,255,255,255,255,255,255,255,255,255,255,255,255,255,255,255,255,255,255,255,255,255,255,255,255,255,255,255,255,255,255,255,255,255,255,255,255,255,255,255,255,255,255,255,255,255,255,255,255,255,40,0,0,0,0,0,0,0,0,207,255,255,255,255,255,255,255,255,255,255,255,255,255,255,255,255,255,255,255,255,255,255,255,255,255,255,255,202,0,0,0,0,0,0,0,0,44,255,255,255,255,255,255,255,255,255,255,255,255,255,255,255,255,255,255,255,255,255,255,255,255,255,255,255,255,255,255,255,255,255,255,255,255,255,255,255,255,255,255,255,255,255,255,255,255,255,255,255,255],[255,255,255,255,255,255,255,255,255,255,255,255,255,255,255,255,255,255,255,255,255,255,255,255,255,255,255,255,255,255,255,255,255,255,255,255,255,255,255,255,255,255,255,255,255,255,255,255,255,255,255,44,0,0,0,0,0,0,0,0,204,255,255,255,255,255,255,255,255,255,255,255,255,255,255,255,255,255,255,255,255,255,255,255,255,255,255,255,198,0,0,0,0,0,0,0,0,47,255,255,255,255,255,255,255,255,255,255,255,255,255,255,255,255,255,255,255,255,255,255,255,255,255,255,255,255,255,255,255,255,255,255,255,255,255,255,255,255,255,255,255,255,255,255,255,255,255,255,255,255],[255,255,255,255,255,255,255,255,255,255,255,255,255,255,255,255,255,255,255,255,255,255,255,255,255,255,255,255,255,255,255,255,255,255,255,255,255,255,255,255,255,255,255,255,255,255,255,255,255,255,255,50,0,0,0,0,0,0,0,0,200,255,255,255,255,255,255,255,255,255,255,255,255,255,255,255,255,255,255,255,255,255,255,255,255,255,255,255,194,0,0,0,0,0,0,0,0,51,255,255,255,255,255,255,255,255,255,255,255,255,255,255,255,255,255,255,255,255,255,255,255,255,255,255,255,255,255,255,255,255,255,255,255,255,255,255,255,255,255,255,255,255,255,255,255,255,255,255,255,255],[255,255,255,255,255,255,255,255,255,255,255,255,255,255,255,255,255,255,255,255,255,255,255,255,255,255,255,255,255,255,255,255,255,255,255,255,255,255,255,255,255,255,255,255,255,255,255,255,255,255,255,56,0,0,0,0,0,0,0,0,196,255,255,255,255,255,255,255,255,255,255,255,255,255,255,255,255,255,255,255,255,255,255,255,255,255,255,255,190,0,0,0,0,0,0,0,0,55,255,255,255,255,255,255,255,255,255,255,255,255,255,255,255,255,255,255,255,255,255,255,255,255,255,255,255,255,255,255,255,255,255,255,255,255,255,255,255,255,255,255,255,255,255,255,255,255,255,255,255,255],[255,255,255,255,255,255,255,255,255,255,255,255,255,255,255,255,255,255,255,255,255,255,255,255,255,255,255,255,255,255,255,255,255,255,255,255,255,255,255,255,255,255,255,255,255,255,255,255,255,255,255,61,0,0,0,0,0,0,0,0,192,255,255,255,255,255,255,255,255,255,255,255,255,255,255,255,255,255,255,255,255,255,255,255,255,255,255,255,187,0,0,0,0,0,0,0,0,64,255,255,255,255,255,255,255,255,255,255,255,255,255,255,255,255,255,255,255,255,255,255,255,255,255,255,255,255,255,255,255,255,255,255,255,255,255,255,255,255,255,255,255,255,255,255,255,255,255,255,255,255],[255,255,255,255,255,255,255,255,255,255,255,255,255,255,255,255,255,255,255,255,255,255,255,255,255,255,255,255,255,255,255,255,255,255,255,255,255,255,255,255,255,255,255,255,255,255,255,255,255,255,255,70,0,0,0,0,0,0,0,0,182,255,255,255,255,255,255,255,255,255,255,255,255,255,255,255,255,255,255,255,255,255,255,255,255,255,255,255,176,0,0,0,0,0,0,0,0,75,255,255,255,255,255,255,255,255,255,255,255,255,255,255,255,255,255,255,255,255,255,255,255,255,255,255,255,255,255,255,255,255,255,255,255,255,255,255,255,255,255,255,255,255,255,255,255,255,255,255,255,255],[255,255,255,255,255,255,255,255,255,255,255,255,255,255,255,255,255,255,255,255,255,255,255,255,255,255,255,255,255,255,255,255,255,255,255,255,255,255,255,255,255,255,255,255,255,255,255,255,255,255,255,88,0,0,0,0,0,0,0,0,169,255,255,255,255,255,255,255,255,255,255,255,255,255,255,255,255,255,255,255,255,255,255,255,255,255,255,255,163,0,0,0,0,0,0,0,0,87,255,255,255,255,255,255,255,255,255,255,255,255,255,255,255,255,255,255,255,255,255,255,255,255,255,255,255,255,255,255,255,255,255,255,255,255,255,255,255,255,255,255,255,255,255,255,255,255,255,255,255,255],[255,255,255,255,255,255,255,255,255,255,255,255,255,255,255,255,255,255,255,255,255,255,255,255,255,255,255,255,255,255,255,255,255,255,255,255,255,255,255,255,255,255,255,255,255,255,255,255,255,255,255,107,0,0,0,0,0,0,0,0,156,255,255,255,255,255,255,255,255,255,255,255,255,255,255,255,255,255,255,255,255,255,255,255,255,255,255,255,150,0,0,0,0,0,0,0,0,104,255,255,255,255,255,255,255,255,255,255,255,255,255,255,255,255,255,255,255,255,255,255,255,255,255,255,255,255,255,255,255,255,255,255,255,255,255,255,255,255,255,255,255,255,255,255,255,255,255,255,255,255],[255,255,255,255,255,255,255,255,255,255,255,255,255,255,255,255,255,255,255,255,255,255,255,255,255,255,255,255,255,255,255,255,255,255,255,255,255,255,255,255,255,255,255,255,255,255,255,255,255,255,255,126,0,0,0,0,0,0,0,0,142,255,255,255,255,255,255,255,255,255,255,255,255,255,255,255,255,255,255,255,255,255,255,255,255,255,255,255,137,0,0,0,0,0,0,0,0,123,255,255,255,255,255,255,255,255,255,255,255,255,255,255,255,255,255,255,255,255,255,255,255,255,255,255,255,255,255,255,255,255,255,255,255,255,255,255,255,255,255,255,255,255,255,255,255,255,255,255,255,255],[255,255,255,255,255,255,255,255,255,255,255,255,255,255,255,255,255,255,255,255,255,255,255,255,255,255,255,255,255,255,255,255,255,255,255,255,255,255,255,255,255,255,255,255,255,255,255,255,255,255,255,145,0,0,0,0,0,0,0,0,120,255,255,255,255,255,255,255,255,255,255,255,255,255,255,255,255,255,255,255,255,255,255,255,255,255,255,255,114,0,0,0,0,0,0,0,0,144,255,255,255,255,255,255,255,255,255,255,255,255,255,255,255,255,255,255,255,255,255,255,255,255,255,255,255,255,255,255,255,255,255,255,255,255,255,255,255,255,255,255,255,255,255,255,255,255,255,255,255,255],[255,255,255,255,255,255,255,255,255,255,255,255,255,255,255,255,255,255,255,255,255,255,255,255,255,255,255,255,255,255,255,255,255,255,255,255,255,255,255,255,255,255,255,255,255,255,255,255,255,255,255,172,0,0,0,0,0,0,0,0,96,255,255,255,255,255,255,255,255,255,255,255,255,255,255,255,255,255,255,255,255,255,255,255,255,255,255,255,90,0,0,0,0,0,0,0,0,171,255,255,255,255,255,255,255,255,255,255,255,255,255,255,255,255,255,255,255,255,255,255,255,255,255,255,255,255,255,255,255,255,255,255,255,255,255,255,255,255,255,255,255,255,255,255,255,255,255,255,255,255],[255,255,255,255,255,255,255,255,255,255,255,255,255,255,255,255,255,255,255,255,255,255,255,255,255,255,255,255,255,255,255,255,255,255,255,255,255,255,255,255,255,255,255,255,255,255,255,255,255,255,255,206,0,0,0,0,0,0,0,0,73,255,255,255,255,255,255,255,255,255,255,255,255,255,255,255,255,255,255,255,255,255,255,255,255,255,255,255,66,0,0,0,0,0,0,0,0,199,255,255,255,255,255,255,255,255,255,255,255,255,255,255,255,255,255,255,255,255,255,255,255,255,255,255,255,255,255,255,255,255,255,255,255,255,255,255,255,255,255,255,255,255,255,255,255,255,255,255,255,255],[255,255,255,255,255,255,255,255,255,255,255,255,255,255,255,255,255,255,255,255,255,255,255,255,255,255,255,255,255,255,255,255,255,255,255,255,255,255,255,255,255,255,255,255,255,255,255,255,255,255,255,241,0,0,0,0,0,0,0,0,43,255,255,255,255,255,255,255,255,255,255,255,255,255,255,255,255,255,255,255,255,255,255,255,255,255,255,255,36,0,0,0,0,0,0,0,0,233,255,255,255,255,255,255,255,255,255,255,255,255,255,255,255,255,255,255,255,255,255,255,255,255,255,255,255,255,255,255,255,255,255,255,255,255,255,255,255,255,255,255,255,255,255,255,255,255,255,255,255,255],[255,255,255,255,255,255,255,255,255,255,255,255,255,255,255,255,255,255,255,255,255,255,255,255,255,255,255,255,255,255,255,255,255,255,255,255,255,255,255,255,255,255,255,255,255,255,255,255,255,255,255,255,18,0,0,0,0,0,0,0,8,253,255,255,255,255,255,255,255,255,255,255,255,255,255,255,255,255,255,255,255,255,255,255,255,255,255,251,4,0,0,0,0,0,0,0,15,255,255,255,255,255,255,255,255,255,255,255,255,255,255,255,255,255,255,255,255,255,255,255,255,255,255,255,255,255,255,255,255,255,255,255,255,255,255,255,255,255,255,255,255,255,255,255,255,255,255,255,255,255],[255,255,255,255,255,255,255,255,255,255,255,255,255,255,255,255,255,255,255,255,255,255,255,255,255,255,255,255,255,255,255,255,255,255,255,255,255,255,255,255,255,255,255,255,255,255,255,255,255,255,255,255,61,0,0,0,0,0,0,0,0,224,255,255,255,255,255,255,255,255,255,255,255,255,255,255,255,255,255,255,255,255,255,255,255,255,255,218,0,0,0,0,0,0,0,0,55,255,255,255,255,255,255,255,255,255,255,255,255,255,255,255,255,255,255,255,255,255,255,255,255,255,255,255,255,255,255,255,255,255,255,255,255,255,255,255,255,255,255,255,255,255,255,255,255,255,255,255,255,255],[255,255,255,255,255,255,255,255,255,255,255,255,255,255,255,255,255,255,255,255,255,255,255,255,255,255,255,255,255,255,255,255,255,255,255,255,255,255,255,255,255,255,255,255,255,255,255,255,255,255,255,255,112,0,0,0,0,0,0,0,0,181,255,255,255,255,255,255,255,255,255,255,255,255,255,255,255,255,255,255,255,255,255,255,255,255,255,175,0,0,0,0,0,0,0,0,104,255,255,255,255,255,255,255,255,255,255,255,255,255,255,255,255,255,255,255,255,255,255,255,255,255,255,255,255,255,255,255,255,255,255,255,255,255,255,255,255,255,255,255,255,255,255,255,255,255,255,255,255,255],[255,255,255,255,255,255,255,255,255,255,255,255,255,255,255,255,255,255,255,255,255,255,255,255,255,255,255,255,255,255,255,255,255,255,255,255,255,255,255,255,255,255,255,255,255,255,255,255,255,255,255,255,165,0,0,0,0,0,0,0,0,127,255,255,255,255,255,255,255,255,255,255,255,255,255,255,255,255,255,255,255,255,255,255,255,255,255,120,0,0,0,0,0,0,0,0,154,255,255,255,255,255,255,255,255,255,255,255,255,255,255,255,255,255,255,255,255,255,255,255,255,255,255,255,255,255,255,255,255,255,255,255,255,255,255,255,255,255,255,255,255,255,255,255,255,255,255,255,255,255],[255,255,255,255,255,255,255,255,255,255,255,255,255,255,255,255,255,255,255,255,255,255,255,255,255,255,255,255,255,255,255,255,255,255,255,255,255,255,255,255,255,255,255,255,255,255,255,255,255,255,255,255,218,0,0,0,0,0,0,0,0,73,255,255,255,255,255,255,255,255,255,255,255,255,255,255,255,255,255,255,255,255,255,255,255,255,255,66,0,0,0,0,0,0,0,0,213,255,255,255,255,255,255,255,255,255,255,255,255,255,255,255,255,255,255,255,255,255,255,255,255,255,255,255,255,255,255,255,255,255,255,255,255,255,255,255,255,255,255,255,255,255,255,255,255,255,255,255,255,255],[255,255,255,255,255,255,255,255,255,255,255,255,255,255,255,255,255,255,255,255,255,255,255,255,255,255,255,255,255,255,255,255,255,255,255,255,255,255,255,255,255,255,255,255,255,255,255,255,255,255,255,255,255,28,0,0,0,0,0,0,0,13,249,255,255,255,255,255,255,255,255,255,255,255,255,255,255,255,255,255,255,255,255,255,255,255,245,9,0,0,0,0,0,0,0,21,254,255,255,255,255,255,255,255,255,255,255,255,255,255,255,255,255,255,255,255,255,255,255,255,255,255,255,255,255,255,255,255,255,255,255,255,255,255,255,255,255,255,255,255,255,255,255,255,255,255,255,255,255,255],[255,255,255,255,255,255,255,255,255,255,255,255,255,255,255,255,255,255,255,255,255,255,255,255,255,255,255,255,255,255,255,255,255,255,255,255,255,255,255,255,255,255,255,255,255,255,255,255,255,255,255,255,255,100,0,0,0,0,0,0,0,0,185,255,255,255,255,255,255,255,255,255,255,255,255,255,255,255,255,255,255,255,255,255,255,255,177,0,0,0,0,0,0,0,0,92,255,255,255,255,255,255,255,255,255,255,255,255,255,255,255,255,255,255,255,255,255,255,255,255,255,255,255,255,255,255,255,255,255,255,255,255,255,255,255,255,255,255,255,255,255,255,255,255,255,255,255,255,255,255],[255,255,255,255,255,255,255,255,255,255,255,255,255,255,255,255,255,255,255,255,255,255,255,255,255,255,255,255,255,255,255,255,255,255,255,255,255,255,255,255,255,255,255,255,255,255,255,255,255,255,255,255,255,174,0,0,0,0,0,0,0,0,100,255,255,255,255,255,255,255,255,255,255,255,255,255,255,255,255,255,255,255,255,255,255,255,93,0,0,0,0,0,0,0,0,169,255,255,255,255,255,255,255,255,255,255,255,255,255,255,255,255,255,255,255,255,255,255,255,255,255,255,255,255,255,255,255,255,255,255,255,255,255,255,255,255,255,255,255,255,255,255,255,255,255,255,255,255,255,255],[255,255,255,255,255,255,255,255,255,255,255,255,255,255,255,255,255,255,255,255,255,255,255,255,255,255,255,255,255,255,255,255,255,255,255,255,255,255,255,255,255,255,255,255,255,255,255,255,255,255,255,255,255,243,11,0,0,0,0,0,0,0,11,240,255,255,255,255,255,255,255,255,255,255,255,255,255,255,255,255,255,255,255,255,255,235,8,0,0,0,0,0,0,0,16,246,255,255,255,255,255,255,255,255,255,255,255,255,255,255,255,255,255,255,255,255,255,255,255,255,255,255,255,255,255,255,255,255,255,255,255,255,255,255,255,255,255,255,255,255,255,255,255,255,255,255,255,255,255,255],[255,255,255,255,255,255,255,255,255,255,255,255,255,255,255,255,255,255,255,255,255,255,255,255,255,255,255,255,255,255,255,255,255,255,255,255,255,255,255,255,255,255,255,255,255,255,255,255,255,255,255,255,255,255,96,0,0,0,0,0,0,0,0,133,255,255,255,255,255,255,255,255,255,255,255,255,255,255,255,255,255,255,255,255,255,125,0,0,0,0,0,0,0,0,109,255,255,255,255,255,255,255,255,255,255,255,255,255,255,255,255,255,255,255,255,255,255,255,255,255,255,255,255,255,255,255,255,255,255,255,255,255,255,255,255,255,255,255,255,255,255,255,255,255,255,255,255,255,255,255],[255,255,255,255,255,255,255,255,255,255,255,255,255,255,255,255,255,255,255,255,255,255,255,255,255,255,255,255,255,255,255,255,255,255,255,255,255,255,255,255,255,255,255,255,255,255,255,255,255,255,255,255,255,255,197,0,0,0,0,0,0,0,0,11,228,255,255,255,255,255,255,255,255,255,255,255,255,255,255,255,255,255,255,255,223,9,0,0,0,0,0,0,0,0,211,255,255,255,255,255,255,255,255,255,255,255,255,255,255,255,255,255,255,255,255,255,255,255,255,255,255,255,255,255,255,255,255,255,255,255,255,255,255,255,255,255,255,255,255,255,255,255,255,255,255,255,255,255,255,255],[255,255,255,255,255,255,255,255,255,255,255,255,255,255,255,255,255,255,255,255,255,255,255,255,255,255,255,255,255,255,255,255,255,255,255,255,255,255,255,255,255,255,255,255,255,255,255,255,255,255,255,255,255,255,255,48,0,0,0,0,0,0,0,0,65,252,255,255,255,255,255,255,255,255,255,255,255,255,255,255,255,255,255,250,59,0,0,0,0,0,0,0,0,62,255,255,255,255,255,255,255,255,255,255,255,255,255,255,255,255,255,255,255,255,255,255,255,255,255,255,255,255,255,255,255,255,255,255,255,255,255,255,255,255,255,255,255,255,255,255,255,255,255,255,255,255,255,255,255,255],[255,255,255,255,255,255,255,255,255,255,255,255,255,255,255,255,255,255,255,255,255,255,255,255,255,255,255,255,255,255,255,255,255,255,255,255,255,255,255,255,255,255,255,255,255,255,255,255,255,255,255,255,255,255,255,177,0,0,0,0,0,0,0,0,0,108,255,255,255,255,255,255,255,255,255,255,255,255,255,255,255,255,255,101,0,0,0,0,0,0,0,0,0,198,255,255,255,255,255,255,255,255,255,255,255,255,255,255,255,255,255,255,255,255,255,255,255,255,255,255,255,255,255,255,255,255,255,255,255,255,255,255,255,255,255,255,255,255,255,255,255,255,255,255,255,255,255,255,255,255],[255,255,255,255,255,255,255,255,255,255,255,255,255,255,255,255,255,255,255,255,255,255,255,255,255,255,255,255,255,255,255,255,255,255,255,255,255,255,255,255,255,255,255,255,255,255,255,255,255,255,255,255,255,255,255,255,55,0,0,0,0,0,0,0,0,0,116,254,255,255,255,255,255,255,255,255,255,255,255,255,255,253,110,0,0,0,0,0,0,0,0,0,85,255,255,255,255,255,255,255,255,255,255,255,255,255,255,255,255,255,255,255,255,255,255,255,255,255,255,255,255,255,255,255,255,255,255,255,255,255,255,255,255,255,255,255,255,255,255,255,255,255,255,255,255,255,255,255,255,255],[255,255,255,255,255,255,255,255,255,255,255,255,255,255,255,255,255,255,255,255,255,255,255,255,255,255,255,255,255,255,255,255,255,255,255,255,255,255,255,255,255,255,255,255,255,255,255,255,255,255,255,255,255,255,255,255,199,3,0,0,0,0,0,0,0,0,0,83,237,255,255,255,255,255,255,255,255,255,255,255,234,77,0,0,0,0,0,0,0,0,0,8,220,255,255,255,255,255,255,255,255,255,255,255,255,255,255,255,255,255,255,255,255,255,255,255,255,255,255,255,255,255,255,255,255,255,255,255,255,255,255,255,255,255,255,255,255,255,255,255,255,255,255,255,255,255,255,255,255,255],[255,255,255,255,255,255,255,255,255,255,255,255,255,255,255,255,255,255,255,255,255,255,255,255,255,255,255,255,255,255,255,255,255,255,255,255,255,255,255,255,255,255,255,255,255,255,255,255,255,255,255,255,255,255,255,255,255,122,0,0,0,0,0,0,0,0,0,0,23,148,247,255,255,255,255,255,255,255,246,144,21,0,0,0,0,0,0,0,0,0,0,154,255,255,255,255,255,255,255,255,255,255,255,255,255,255,255,255,255,255,255,255,255,255,255,255,255,255,255,255,255,255,255,255,255,255,255,255,255,255,255,255,255,255,255,255,255,255,255,255,255,255,255,255,255,255,255,255,255,255],[255,255,255,255,255,255,255,255,255,255,255,255,255,255,255,255,255,255,255,255,255,255,255,255,255,255,255,255,255,255,255,255,255,255,255,255,255,255,255,255,255,255,255,255,255,255,255,255,255,255,255,255,255,255,255,255,255,250,53,0,0,0,0,0,0,0,0,0,0,0,14,89,144,176,188,176,143,87,13,0,0,0,0,0,0,0,0,0,0,0,93,255,255,255,255,255,255,255,255,255,255,255,255,255,255,255,255,255,255,255,255,255,255,255,255,255,255,255,255,255,255,255,255,255,255,255,255,255,255,255,255,255,255,255,255,255,255,255,255,255,255,255,255,255,255,255,255,255,255,255],[255,255,255,255,255,255,255,255,255,255,255,255,255,255,255,255,255,255,255,255,255,255,255,255,255,255,255,255,255,255,255,255,255,255,255,255,255,255,255,255,255,255,255,255,255,255,255,255,255,255,255,255,255,255,255,255,255,255,232,33,0,0,0,0,0,0,0,0,0,0,0,0,0,0,0,0,0,0,0,0,0,0,0,0,0,0,0,0,0,53,244,255,255,255,255,255,255,255,255,255,255,255,255,255,255,255,255,255,255,255,255,255,255,255,255,255,255,255,255,255,255,255,255,255,255,255,255,255,255,255,255,255,255,255,255,255,255,255,255,255,255,255,255,255,255,255,255,255,255,255],[255,255,255,255,255,255,255,255,255,255,255,255,255,255,255,255,255,255,255,255,255,255,255,255,255,255,255,255,255,255,255,255,255,255,255,255,255,255,255,255,255,255,255,255,255,255,255,255,255,255,255,255,255,255,255,255,255,255,255,218,31,0,0,0,0,0,0,0,0,0,0,0,0,0,0,0,0,0,0,0,0,0,0,0,0,0,0,0,58,241,255,255,255,255,255,255,255,255,255,255,255,255,255,255,255,255,255,255,255,255,255,255,255,255,255,255,255,255,255,255,255,255,255,255,255,255,255,255,255,255,255,255,255,255,255,255,255,255,255,255,255,255,255,255,255,255,255,255,255,255],[255,255,255,255,255,255,255,255,255,255,255,255,255,255,255,255,255,255,255,255,255,255,255,255,255,255,255,255,255,255,255,255,255,255,255,255,255,255,255,255,255,255,255,255,255,255,255,255,255,255,255,255,255,255,255,255,255,255,255,255,230,49,0,0,0,0,0,0,0,0,0,0,0,0,0,0,0,0,0,0,0,0,0,0,0,0,0,66,244,255,255,255,255,255,255,255,255,255,255,255,255,255,255,255,255,255,255,255,255,255,255,255,255,255,255,255,255,255,255,255,255,255,255,255,255,255,255,255,255,255,255,255,255,255,255,255,255,255,255,255,255,255,255,255,255,255,255,255,255,255],[255,255,255,255,255,255,255,255,255,255,255,255,255,255,255,255,255,255,255,255,255,255,255,255,255,255,255,255,255,255,255,255,255,255,255,255,255,255,255,255,255,255,255,255,255,255,255,255,255,255,255,255,255,255,255,255,255,255,255,255,255,247,112,1,0,0,0,0,0,0,0,0,0,0,0,0,0,0,0,0,0,0,0,0,0,3,121,251,255,255,255,255,255,255,255,255,255,255,255,255,255,255,255,255,255,255,255,255,255,255,255,255,255,255,255,255,255,255,255,255,255,255,255,255,255,255,255,255,255,255,255,255,255,255,255,255,255,255,255,255,255,255,255,255,255,255,255,255,255,255],[255,255,255,255,255,255,255,255,255,255,255,255,255,255,255,255,255,255,255,255,255,255,255,255,255,255,255,255,255,255,255,255,255,255,255,255,255,255,255,255,255,255,255,255,255,255,255,255,255,255,255,255,255,255,255,255,255,255,255,255,255,255,255,199,63,0,0,0,0,0,0,0,0,0,0,0,0,0,0,0,0,0,0,0,63,206,255,255,255,255,255,255,255,255,255,255,255,255,255,255,255,255,255,255,255,255,255,255,255,255,255,255,255,255,255,255,255,255,255,255,255,255,255,255,255,255,255,255,255,255,255,255,255,255,255,255,255,255,255,255,255,255,255,255,255,255,255,255,255,255],[255,255,255,255,255,255,255,255,255,255,255,255,255,255,255,255,255,255,255,255,255,255,255,255,255,255,255,255,255,255,255,255,255,255,255,255,255,255,255,255,255,255,255,255,255,255,255,255,255,255,255,255,255,255,255,255,255,255,255,255,255,255,255,255,255,193,93,10,0,0,0,0,0,0,0,0,0,0,0,0,0,10,91,196,255,255,255,255,255,255,255,255,255,255,255,255,255,255,255,255,255,255,255,255,255,255,255,255,255,255,255,255,255,255,255,255,255,255,255,255,255,255,255,255,255,255,255,255,255,255,255,255,255,255,255,255,255,255,255,255,255,255,255,255,255,255,255,255,255,255],[255,255,255,255,255,255,255,255,255,255,255,255,255,255,255,255,255,255,255,255,255,255,255,255,255,255,255,255,255,255,255,255,255,255,255,255,255,255,255,255,255,255,255,255,255,255,255,255,255,255,255,255,255,255,255,255,255,255,255,255,255,255,255,255,255,255,255,247,188,125,83,46,22,10,2,7,19,45,79,125,185,247,255,255,255,255,255,255,255,255,255,255,255,255,255,255,255,255,255,255,255,255,255,255,255,255,255,255,255,255,255,255,255,255,255,255,255,255,255,255,255,255,255,255,255,255,255,255,255,255,255,255,255,255,255,255,255,255,255,255,255,255,255,255,255,255,255,255,255,255],[255,255,255,255,255,255,255,255,255,255,255,255,255,255,255,255,255,255,255,255,255,255,255,255,255,255,255,255,255,255,255,255,255,255,255,255,255,255,255,255,255,255,255,255,255,255,255,255,255,255,255,255,255,255,255,255,255,255,255,255,255,255,255,255,255,255,255,255,255,255,255,255,255,255,255,255,255,255,255,255,255,255,255,255,255,255,255,255,255,255,255,255,255,255,255,255,255,255,255,255,255,255,255,255,255,255,255,255,255,255,255,255,255,255,255,255,255,255,255,255,255,255,255,255,255,255,255,255,255,255,255,255,255,255,255,255,255,255,255,255,255,255,255,255,255,255,255,255,255,255],[255,255,255,255,255,255,255,255,255,255,255,255,255,255,255,255,255,255,255,255,255,255,255,255,255,255,255,255,255,255,255,255,255,255,255,255,255,255,255,255,255,255,255,255,255,255,255,255,255,255,255,255,255,255,255,255,255,255,255,255,255,255,255,255,255,255,255,255,255,255,255,255,255,255,255,255,255,255,255,255,255,255,255,255,255,255,255,255,255,255,255,255,255,255,255,255,255,255,255,255,255,255,255,255,255,255,255,255,255,255,255,255,255,255,255,255,255,255,255,255,255,255,255,255,255,255,255,255,255,255,255,255,255,255,255,255,255,255,255,255,255,255,255,255,255,255,255,255,255,255],[255,255,255,255,255,255,255,255,255,255,255,255,255,255,255,255,255,255,255,255,255,255,255,255,255,255,255,255,255,255,255,255,255,255,255,255,255,255,255,255,255,255,255,255,255,255,255,255,255,255,255,255,255,255,255,255,255,255,255,255,255,255,255,255,255,255,255,255,255,255,255,255,255,255,255,255,255,255,255,255,255,255,255,255,255,255,255,255,255,255,255,255,255,255,255,255,255,255,255,255,255,255,255,255,255,255,255,255,255,255,255,255,255,255,255,255,255,255,255,255,255,255,255,255,255,255,255,255,255,255,255,255,255,255,255,255,255,255,255,255,255,255,255,255,255,255,255,255,255,255],[255,255,255,255,255,255,255,255,255,255,255,255,255,255,255,255,255,255,255,255,255,255,255,255,255,255,255,255,255,255,255,255,255,255,255,255,255,255,255,255,255,255,255,255,255,255,255,255,255,255,255,255,255,255,255,255,255,255,255,255,255,255,255,255,255,255,255,255,255,255,255,255,255,255,255,255,255,255,255,255,255,255,255,255,255,255,255,255,255,255,255,255,255,255,255,255,255,255,255,255,255,255,255,255,255,255,255,255,255,255,255,255,255,255,255,255,255,255,255,255,255,255,255,255,255,255,255,255,255,255,255,255,255,255,255,255,255,255,255,255,255,255,255,255,255,255,255,255,255,255],[255,255,255,255,255,255,255,255,255,255,255,255,255,255,255,255,255,255,255,255,255,255,255,255,255,255,255,255,255,255,255,255,255,255,255,255,255,255,255,255,255,255,255,255,255,255,255,255,255,255,255,255,255,255,255,255,255,255,255,255,255,255,255,255,255,255,255,255,255,255,255,255,255,255,255,255,255,255,255,255,255,255,255,255,255,255,255,255,255,255,255,255,255,255,255,255,255,255,255,255,255,255,255,255,255,255,255,255,255,255,255,255,255,255,255,255,255,255,255,255,255,255,255,255,255,255,255,255,255,255,255,255,255,255,255,255,255,255,255,255,255,255,255,255,255,255,255,255,255,255],[255,255,255,255,255,255,255,255,255,255,255,255,255,255,255,255,255,255,255,255,255,255,255,255,255,255,255,255,255,255,255,255,255,255,255,255,255,255,255,255,255,255,255,255,255,255,255,255,255,255,255,255,255,255,255,255,255,255,255,255,255,255,255,255,255,255,255,255,255,255,255,255,255,255,255,255,255,255,255,255,255,255,255,255,255,255,255,255,255,255,255,255,255,255,255,255,255,255,255,255,255,255,255,255,255,255,255,255,255,255,255,255,255,255,255,255,255,255,255,255,255,255,255,255,255,255,255,255,255,255,255,255,255,255,255,255,255,255,255,255,255,255,255,255,255,255,255,255,255,255],[255,255,255,255,255,255,255,255,255,255,255,255,255,255,255,255,255,255,255,255,255,255,255,255,255,255,255,255,255,255,255,255,255,255,255,255,255,255,255,255,255,255,255,255,255,255,255,255,255,255,255,255,255,255,255,255,255,255,255,255,255,255,255,255,255,255,255,255,255,255,255,255,255,255,255,255,255,255,255,255,255,255,255,255,255,255,255,255,255,255,255,255,255,255,255,255,255,255,255,255,255,255,255,255,255,255,255,255,255,255,255,255,255,255,255,255,255,255,255,255,255,255,255,255,255,255,255,255,255,255,255,255,255,255,255,255,255,255,255,255,255,255,255,255,255,255,255,255,255,255],[255,255,255,255,255,255,255,255,255,255,255,255,255,255,255,255,255,255,255,255,255,255,255,255,255,255,255,255,255,255,255,255,255,255,255,255,255,255,255,255,255,255,255,255,255,255,255,255,255,255,255,255,255,255,255,255,255,255,255,255,255,255,255,255,255,255,255,255,255,255,255,255,255,255,255,255,255,255,255,255,255,255,255,255,255,255,255,255,255,255,255,255,255,255,255,255,255,255,255,255,255,255,255,255,255,255,255,255,255,255,255,255,255,255,255,255,255,255,255,255,255,255,255,255,255,255,255,255,255,255,255,255,255,255,255,255,255,255,255,255,255,255,255,255,255,255,255,255,255,255],[255,255,255,255,255,255,255,255,255,255,255,255,255,255,255,255,255,255,255,255,255,255,255,255,255,255,255,255,255,255,255,255,255,255,255,255,255,255,255,255,255,255,255,255,255,255,255,255,255,255,255,255,255,255,255,255,255,255,255,255,255,255,255,255,255,255,255,255,255,255,255,255,255,255,255,255,255,255,255,255,255,255,255,255,255,255,255,255,255,255,255,255,255,255,255,255,255,255,255,255,255,255,255,255,255,255,255,255,255,255,255,255,255,255,255,255,255,255,255,255,255,255,255,255,255,255,255,255,255,255,255,255,255,255,255,255,255,255,255,255,255,255,255,255,255,255,255,255,255,255],[255,255,255,255,255,255,255,255,255,255,255,255,255,255,255,255,255,255,255,255,255,255,255,255,255,255,255,255,255,255,255,255,255,255,255,255,255,255,255,255,255,255,255,255,255,255,255,255,255,255,255,255,255,255,255,255,255,255,255,255,255,255,255,255,255,255,255,255,255,255,255,255,255,255,255,255,255,255,255,255,255,255,255,255,255,255,255,255,255,255,255,255,255,255,255,255,255,255,255,255,255,255,255,255,255,255,255,255,255,255,255,255,255,255,255,255,255,255,255,255,255,255,255,255,255,255,255,255,255,255,255,255,255,255,255,255,255,255,255,255,255,255,255,255,255,255,255,255,255,255],[255,255,255,255,255,255,255,255,255,255,255,255,255,255,255,255,255,255,255,255,255,255,255,255,255,255,255,255,255,255,255,255,255,255,255,255,255,255,255,255,255,255,255,255,255,255,255,255,255,255,255,255,255,255,255,255,255,255,255,255,255,255,255,255,255,255,255,255,255,255,255,255,255,255,255,255,255,255,255,255,255,255,255,255,255,255,255,255,255,255,255,255,255,255,255,255,255,255,255,255,255,255,255,255,255,255,255,255,255,255,255,255,255,255,255,255,255,255,255,255,255,255,255,255,255,255,255,255,255,255,255,255,255,255,255,255,255,255,255,255,255,255,255,255,255,255,255,255,255,255],[255,255,255,255,255,255,255,255,255,255,255,255,255,255,255,255,255,255,255,255,255,255,255,255,255,255,255,255,255,255,255,255,255,255,255,255,255,255,255,255,255,255,255,255,255,255,255,255,255,255,255,255,255,255,255,255,255,255,255,255,255,255,255,255,255,255,255,255,255,255,255,255,255,255,255,255,255,255,255,255,255,255,255,255,255,255,255,255,255,255,255,255,255,255,255,255,255,255,255,255,255,255,255,255,255,255,255,255,255,255,255,255,255,255,255,255,255,255,255,255,255,255,255,255,255,255,255,255,255,255,255,255,255,255,255,255,255,255,255,255,255,255,255,255,255,255,255,255,255,255],[255,255,255,255,255,255,255,255,255,255,255,255,255,255,255,255,255,255,255,255,255,255,255,255,255,255,255,255,255,255,255,255,255,255,255,255,255,255,255,255,255,255,255,255,255,255,255,255,255,255,255,255,255,255,255,255,255,255,255,255,255,255,255,255,255,255,255,255,255,255,255,255,255,255,255,255,255,255,255,255,255,255,255,255,255,255,255,255,255,255,255,255,255,255,255,255,255,255,255,255,255,255,255,255,255,255,255,255,255,255,255,255,255,255,255,255,255,255,255,255,255,255,255,255,255,255,255,255,255,255,255,255,255,255,255,255,255,255,255,255,255,255,255,255,255,255,255,255,255,255],[255,255,255,255,255,255,255,255,255,255,255,255,255,255,255,255,255,255,255,255,255,255,255,255,255,255,255,255,255,255,255,255,255,255,255,255,255,255,255,255,255,255,255,255,255,255,255,255,255,255,255,255,255,255,255,255,255,255,255,255,255,255,255,255,255,255,255,255,255,255,255,255,255,255,255,255,255,255,255,255,255,255,255,255,255,255,255,255,255,255,255,255,255,255,255,255,255,255,255,255,255,255,255,255,255,255,255,255,255,255,255,255,255,255,255,255,255,255,255,255,255,255,255,255,255,255,255,255,255,255,255,255,255,255,255,255,255,255,255,255,255,255,255,255,255,255,255,255,255,255],[255,255,255,255,255,255,255,255,255,255,255,255,255,255,255,255,255,255,255,255,255,255,255,255,255,255,255,255,255,255,255,255,255,255,255,255,255,255,255,255,255,255,255,255,255,255,255,255,255,255,255,255,255,255,255,255,255,255,255,255,255,255,255,255,255,255,255,255,255,255,255,255,255,255,255,255,255,255,255,255,255,255,255,255,255,255,255,255,255,255,255,255,255,255,255,255,255,255,255,255,255,255,255,255,255,255,255,255,255,255,255,255,255,255,255,255,255,255,255,255,255,255,255,255,255,255,255,255,255,255,255,255,255,255,255,255,255,255,255,255,255,255,255,255,255,255,255,255,255,255],[255,255,255,255,255,255,255,255,255,255,255,255,255,255,255,255,255,255,255,255,255,255,255,255,255,255,255,255,255,255,255,255,255,255,255,255,255,255,255,255,255,255,255,255,255,255,255,255,255,255,255,255,255,255,255,255,255,255,255,255,255,255,255,255,255,255,255,255,255,255,255,255,255,255,255,255,255,255,255,255,255,255,255,255,255,255,255,255,255,255,255,255,255,255,255,255,255,255,255,255,255,255,255,255,255,255,255,255,255,255,255,255,255,255,255,255,255,255,255,255,255,255,255,255,255,255,255,255,255,255,255,255,255,255,255,255,255,255,255,255,255,255,255,255,255,255,255,255,255,255],[255,255,255,255,255,255,255,255,255,255,255,255,255,255,255,255,255,255,255,255,255,255,255,255,255,255,255,255,255,255,255,255,255,255,255,255,255,255,255,255,255,255,255,255,255,255,255,255,255,255,255,255,255,255,255,255,255,255,255,255,255,255,255,255,255,255,255,255,255,255,255,255,255,255,255,255,255,255,255,255,255,255,255,255,255,255,255,255,255,255,255,255,255,255,255,255,255,255,255,255,255,255,255,255,255,255,255,255,255,255,255,255,255,255,255,255,255,255,255,255,255,255,255,255,255,255,255,255,255,255,255,255,255,255,255,255,255,255,255,255,255,255,255,255,255,255,255,255,255,255],[255,255,255,255,255,255,255,255,255,255,255,255,255,255,255,255,255,255,255,255,255,255,255,255,255,255,255,255,255,255,255,255,255,255,255,255,255,255,255,255,255,255,255,255,255,255,255,255,255,255,255,255,255,255,255,255,255,255,255,255,255,255,255,255,255,255,255,255,255,255,255,255,255,255,255,255,255,255,255,255,255,255,255,255,255,255,255,255,255,255,255,255,255,255,255,255,255,255,255,255,255,255,255,255,255,255,255,255,255,255,255,255,255,255,255,255,255,255,255,255,255,255,255,255,255,255,255,255,255,255,255,255,255,255,255,255,255,255,255,255,255,255,255,255,255,255,255,255,255,255],[255,255,255,255,255,255,255,255,255,255,255,255,255,255,255,255,255,255,255,255,255,255,255,255,255,255,255,255,255,255,255,255,255,255,255,255,255,255,255,255,255,255,255,255,255,255,255,255,255,255,255,255,255,255,255,255,255,255,255,255,255,255,255,255,255,255,255,255,255,255,255,255,255,255,255,255,255,255,255,255,255,255,255,255,255,255,255,255,255,255,255,255,255,255,255,255,255,255,255,255,255,255,255,255,255,255,255,255,255,255,255,255,255,255,255,255,255,255,255,255,255,255,255,255,255,255,255,255,255,255,255,255,255,255,255,255,255,255,255,255,255,255,255,255,255,255,255,255,255,255],[255,255,255,255,255,255,255,255,255,255,255,255,255,255,255,255,255,255,255,255,255,255,255,255,255,255,255,255,255,255,255,255,255,255,255,255,255,255,255,255,255,255,255,255,255,255,255,255,255,255,255,255,255,255,255,255,255,255,255,255,255,255,255,255,255,255,255,255,255,255,255,255,255,255,255,255,255,255,255,255,255,255,255,255,255,255,255,255,255,255,255,255,255,255,255,255,255,255,255,255,255,255,255,255,255,255,255,255,255,255,255,255,255,255,255,255,255,255,255,255,255,255,255,255,255,255,255,255,255,255,255,255,255,255,255,255,255,255,255,255,255,255,255,255,255,255,255,255,255,255],[255,255,255,255,255,255,255,255,255,255,255,255,255,255,255,255,255,255,255,255,255,255,255,255,255,255,255,255,255,255,255,255,255,255,255,255,255,255,255,255,255,255,255,255,255,255,255,255,255,255,255,255,255,255,255,255,255,255,255,255,255,255,255,255,255,255,255,255,255,255,255,255,255,255,255,255,255,255,255,255,255,255,255,255,255,255,255,255,255,255,255,255,255,255,255,255,255,255,255,255,255,255,255,255,255,255,255,255,255,255,255,255,255,255,255,255,255,255,255,255,255,255,255,255,255,255,255,255,255,255,255,255,255,255,255,255,255,255,255,255,255,255,255,255,255,255,255,255,255,255],[255,255,255,255,255,255,255,255,255,255,255,255,255,255,255,255,255,255,255,255,255,255,255,255,255,255,255,255,255,255,255,255,255,255,255,255,255,255,255,255,255,255,255,255,255,255,255,255,255,255,255,255,255,255,255,255,255,255,255,255,255,255,255,255,255,255,255,255,255,255,255,255,255,255,255,255,255,255,255,255,255,255,255,255,255,255,255,255,255,255,255,255,255,255,255,255,255,255,255,255,255,255,255,255,255,255,255,255,255,255,255,255,255,255,255,255,255,255,255,255,255,255,255,255,255,255,255,255,255,255,255,255,255,255,255,255,255,255,255,255,255,255,255,255,255,255,255,255,255,255],[255,255,255,255,255,255,255,255,255,255,255,255,255,255,255,255,255,255,255,255,255,255,255,255,255,255,255,255,255,255,255,255,255,255,255,255,255,255,255,255,255,255,255,255,255,255,255,255,255,255,255,255,255,255,255,255,255,255,255,255,255,255,255,255,255,255,255,255,255,255,255,255,255,255,255,255,255,255,255,255,255,255,255,255,255,255,255,255,255,255,255,255,255,255,255,255,255,255,255,255,255,255,255,255,255,255,255,255,255,255,255,255,255,255,255,255,255,255,255,255,255,255,255,255,255,255,255,255,255,255,255,255,255,255,255,255,255,255,255,255,255,255,255,255,255,255,255,255,255,255],[255,255,255,255,255,255,255,255,255,255,255,255,255,255,255,255,255,255,255,255,255,255,255,255,255,255,255,255,255,255,255,255,255,255,255,255,255,255,255,255,255,255,255,255,255,255,255,255,255,255,255,255,255,255,255,255,255,255,255,255,255,255,255,255,255,255,255,255,255,255,255,255,255,255,255,255,255,255,255,255,255,255,255,255,255,255,255,255,255,255,255,255,255,255,255,255,255,255,255,255,255,255,255,255,255,255,255,255,255,255,255,255,255,255,255,255,255,255,255,255,255,255,255,255,255,255,255,255,255,255,255,255,255,255,255,255,255,255,255,255,255,255,255,255,255,255,255,255,255,255],[255,255,255,255,255,255,255,255,255,255,255,255,255,255,255,255,255,255,255,255,255,255,255,255,255,255,255,255,255,255,255,255,255,255,255,255,255,255,255,255,255,255,255,255,255,255,255,255,255,255,255,255,255,255,255,255,255,255,255,255,255,255,255,255,255,255,255,255,255,255,255,255,255,255,255,255,255,255,255,255,255,255,255,255,255,255,255,255,255,255,255,255,255,255,255,255,255,255,255,255,255,255,255,255,255,255,255,255,255,255,255,255,255,255,255,255,255,255,255,255,255,255,255,255,255,255,255,255,255,255,255,255,255,255,255,255,255,255,255,255,255,255,255,255,255,255,255,255,255,255],[255,255,255,255,255,255,255,255,255,255,255,255,255,255,255,255,255,255,255,255,255,255,255,255,255,255,255,255,255,255,255,255,255,255,255,255,255,255,255,255,255,255,255,255,255,255,255,255,255,255,255,255,255,255,255,255,255,255,255,255,255,255,255,255,255,255,255,255,255,255,255,255,255,255,255,255,255,255,255,255,255,255,255,255,255,255,255,255,255,255,255,255,255,255,255,255,255,255,255,255,255,255,255,255,255,255,255,255,255,255,255,255,255,255,255,255,255,255,255,255,255,255,255,255,255,255,255,255,255,255,255,255,255,255,255,255,255,255,255,255,255,255,255,255,255,255,255,255,255,255],[255,255,255,255,255,255,255,255,255,255,255,255,255,255,255,255,255,255,255,255,255,255,255,255,255,255,255,255,255,255,255,255,255,255,255,255,255,255,255,255,255,255,255,255,255,255,255,255,255,255,255,255,255,255,255,255,255,255,255,255,255,255,255,255,255,255,255,255,255,255,255,255,255,255,255,255,255,255,255,255,255,255,255,255,255,255,255,255,255,255,255,255,255,255,255,255,255,255,255,255,255,255,255,255,255,255,255,255,255,255,255,255,255,255,255,255,255,255,255,255,255,255,255,255,255,255,255,255,255,255,255,255,255,255,255,255,255,255,255,255,255,255,255,255,255,255,255,255,255,255],[255,255,255,255,255,255,255,255,255,255,255,255,255,255,255,255,255,255,255,255,255,255,255,255,255,255,255,255,255,255,255,255,255,255,255,255,255,255,255,255,255,255,255,255,255,255,255,255,255,255,255,255,255,255,255,255,255,255,255,255,255,255,255,255,255,255,255,255,255,255,255,255,255,255,255,255,255,255,255,255,255,255,255,255,255,255,255,255,255,255,255,255,255,255,255,255,255,255,255,255,255,255,255,255,255,255,255,255,255,255,255,255,255,255,255,255,255,255,255,255,255,255,255,255,255,255,255,255,255,255,255,255,255,255,255,255,255,255,255,255,255,255,255,255,255,255,255,255,255,255],[255,255,255,255,255,255,255,255,255,255,255,255,255,255,255,255,255,255,255,255,255,255,255,255,255,255,255,255,255,255,255,255,255,255,255,255,255,255,255,255,255,255,255,255,255,255,255,255,255,255,255,255,255,255,255,255,255,255,255,255,255,255,255,255,255,255,255,255,255,255,255,255,255,255,255,255,255,255,255,255,255,255,255,255,255,255,255,255,255,255,255,255,255,255,255,255,255,255,255,255,255,255,255,255,255,255,255,255,255,255,255,255,255,255,255,255,255,255,255,255,255,255,255,255,255,255,255,255,255,255,255,255,255,255,255,255,255,255,255,255,255,255,255,255,255,255,255,255,255,255],[255,255,255,255,255,255,255,255,255,255,255,255,255,255,255,255,255,255,255,255,255,255,255,255,255,255,255,255,255,255,255,255,255,255,255,255,255,255,255,255,255,255,255,255,255,255,255,255,255,255,255,255,255,255,255,255,255,255,255,255,255,255,255,255,255,255,255,255,255,255,255,255,255,255,255,255,255,255,255,255,255,255,255,255,255,255,255,255,255,255,255,255,255,255,255,255,255,255,255,255,255,255,255,255,255,255,255,255,255,255,255,255,255,255,255,255,255,255,255,255,255,255,255,255,255,255,255,255,255,255,255,255,255,255,255,255,255,255,255,255,255,255,255,255,255,255,255,255,255,255],[255,255,255,255,255,255,255,255,255,255,255,255,255,255,255,255,255,255,255,255,255,255,255,255,255,255,255,255,255,255,255,255,255,255,255,255,255,255,255,255,255,255,255,255,255,255,255,255,255,255,255,255,255,255,255,255,255,255,255,255,255,255,255,255,255,255,255,255,255,255,255,255,255,255,255,255,255,255,255,255,255,255,255,255,255,255,255,255,255,255,255,255,255,255,255,255,255,255,255,255,255,255,255,255,255,255,255,255,255,255,255,255,255,255,255,255,255,255,255,255,255,255,255,255,255,255,255,255,255,255,255,255,255,255,255,255,255,255,255,255,255,255,255,255,255,255,255,255,255,255],[255,255,255,255,255,255,255,255,255,255,255,255,255,255,255,255,255,255,255,255,255,255,255,255,255,255,255,255,255,255,255,255,255,255,255,255,255,255,255,255,255,255,255,255,255,255,255,255,255,255,255,255,255,255,255,255,255,255,255,255,255,255,255,255,255,255,255,255,255,255,255,255,255,255,255,255,255,255,255,255,255,255,255,255,255,255,255,255,255,255,255,255,255,255,255,255,255,255,255,255,255,255,255,255,255,255,255,255,255,255,255,255,255,255,255,255,255,255,255,255,255,255,255,255,255,255,255,255,255,255,255,255,255,255,255,255,255,255,255,255,255,255,255,255,255,255,255,255,255,255],[255,255,255,255,255,255,255,255,255,255,255,255,255,255,255,255,255,255,255,255,255,255,255,255,255,255,255,255,255,255,255,255,255,255,255,255,255,255,255,255,255,255,255,255,255,255,255,255,255,255,255,255,255,255,255,255,255,255,255,255,255,255,255,255,255,255,255,255,255,255,255,255,255,255,255,255,255,255,255,255,255,255,255,255,255,255,255,255,255,255,255,255,255,255,255,255,255,255,255,255,255,255,255,255,255,255,255,255,255,255,255,255,255,255,255,255,255,255,255,255,255,255,255,255,255,255,255,255,255,255,255,255,255,255,255,255,255,255,255,255,255,255,255,255,255,255,255,255,255,255],[255,255,255,255,255,255,255,255,255,255,255,255,255,255,255,255,255,255,255,255,255,255,255,255,255,255,255,255,255,255,255,255,255,255,255,255,255,255,255,255,255,255,255,255,255,255,255,255,255,255,255,255,255,255,255,255,255,255,255,255,255,255,255,255,255,255,255,255,255,255,255,255,255,255,255,255,255,255,255,255,255,255,255,255,255,255,255,255,255,255,255,255,255,255,255,255,255,255,255,255,255,255,255,255,255,255,255,255,255,255,255,255,255,255,255,255,255,255,255,255,255,255,255,255,255,255,255,255,255,255,255,255,255,255,255,255,255,255,255,255,255,255,255,255,255,255,255,255,255,255],[255,255,255,255,255,255,255,255,255,255,255,255,255,255,255,255,255,255,255,255,255,255,255,255,255,255,255,255,255,255,255,255,255,255,255,255,255,255,255,255,255,255,255,255,255,255,255,255,255,255,255,255,255,255,255,255,255,255,255,255,255,255,255,255,255,255,255,255,255,255,255,255,255,255,255,255,255,255,255,255,255,255,255,255,255,255,255,255,255,255,255,255,255,255,255,255,255,255,255,255,255,255,255,255,255,255,255,255,255,255,255,255,255,255,255,255,255,255,255,255,255,255,255,255,255,255,255,255,255,255,255,255,255,255,255,255,255,255,255,255,255,255,255,255,255,255,255,255,255,255],[255,255,255,255,255,255,255,255,255,255,255,255,255,255,255,255,255,255,255,255,255,255,255,255,255,255,255,255,255,255,255,255,255,255,255,255,255,255,255,255,255,255,255,255,255,255,255,255,255,255,255,255,255,255,255,255,255,255,255,255,255,255,255,255,255,255,255,255,255,255,255,255,255,255,255,255,255,255,255,255,255,255,255,255,255,255,255,255,255,255,255,255,255,255,255,255,255,255,255,255,255,255,255,255,255,255,255,255,255,255,255,255,255,255,255,255,255,255,255,255,255,255,255,255,255,255,255,255,255,255,255,255,255,255,255,255,255,255,255,255,255,255,255,255,255,255,255,255,255,255],[255,255,255,255,255,255,255,255,255,255,255,255,255,255,255,255,255,255,255,255,255,255,255,255,255,255,255,255,255,255,255,255,255,255,255,255,255,255,255,255,255,255,255,255,255,255,255,255,255,255,255,255,255,255,255,255,255,255,255,255,255,255,255,255,255,255,255,255,255,255,255,255,255,255,255,255,255,255,255,255,255,255,255,255,255,255,255,255,255,255,255,255,255,255,255,255,255,255,255,255,255,255,255,255,255,255,255,255,255,255,255,255,255,255,255,255,255,255,255,255,255,255,255,255,255,255,255,255,255,255,255,255,255,255,255,255,255,255,255,255,255,255,255,255,255,255,255,255,255,255]],\"type\":\"heatmap\",\"xaxis\":\"x\",\"yaxis\":\"y\",\"hovertemplate\":\"x: %{x}\\u003cbr\\u003ey: %{y}\\u003cbr\\u003ecolor: %{z}\\u003cextra\\u003e\\u003c\\u002fextra\\u003e\"}],                        {\"template\":{\"data\":{\"histogram2dcontour\":[{\"type\":\"histogram2dcontour\",\"colorbar\":{\"outlinewidth\":0,\"ticks\":\"\"},\"colorscale\":[[0.0,\"#0d0887\"],[0.1111111111111111,\"#46039f\"],[0.2222222222222222,\"#7201a8\"],[0.3333333333333333,\"#9c179e\"],[0.4444444444444444,\"#bd3786\"],[0.5555555555555556,\"#d8576b\"],[0.6666666666666666,\"#ed7953\"],[0.7777777777777778,\"#fb9f3a\"],[0.8888888888888888,\"#fdca26\"],[1.0,\"#f0f921\"]]}],\"choropleth\":[{\"type\":\"choropleth\",\"colorbar\":{\"outlinewidth\":0,\"ticks\":\"\"}}],\"histogram2d\":[{\"type\":\"histogram2d\",\"colorbar\":{\"outlinewidth\":0,\"ticks\":\"\"},\"colorscale\":[[0.0,\"#0d0887\"],[0.1111111111111111,\"#46039f\"],[0.2222222222222222,\"#7201a8\"],[0.3333333333333333,\"#9c179e\"],[0.4444444444444444,\"#bd3786\"],[0.5555555555555556,\"#d8576b\"],[0.6666666666666666,\"#ed7953\"],[0.7777777777777778,\"#fb9f3a\"],[0.8888888888888888,\"#fdca26\"],[1.0,\"#f0f921\"]]}],\"heatmap\":[{\"type\":\"heatmap\",\"colorbar\":{\"outlinewidth\":0,\"ticks\":\"\"},\"colorscale\":[[0.0,\"#0d0887\"],[0.1111111111111111,\"#46039f\"],[0.2222222222222222,\"#7201a8\"],[0.3333333333333333,\"#9c179e\"],[0.4444444444444444,\"#bd3786\"],[0.5555555555555556,\"#d8576b\"],[0.6666666666666666,\"#ed7953\"],[0.7777777777777778,\"#fb9f3a\"],[0.8888888888888888,\"#fdca26\"],[1.0,\"#f0f921\"]]}],\"heatmapgl\":[{\"type\":\"heatmapgl\",\"colorbar\":{\"outlinewidth\":0,\"ticks\":\"\"},\"colorscale\":[[0.0,\"#0d0887\"],[0.1111111111111111,\"#46039f\"],[0.2222222222222222,\"#7201a8\"],[0.3333333333333333,\"#9c179e\"],[0.4444444444444444,\"#bd3786\"],[0.5555555555555556,\"#d8576b\"],[0.6666666666666666,\"#ed7953\"],[0.7777777777777778,\"#fb9f3a\"],[0.8888888888888888,\"#fdca26\"],[1.0,\"#f0f921\"]]}],\"contourcarpet\":[{\"type\":\"contourcarpet\",\"colorbar\":{\"outlinewidth\":0,\"ticks\":\"\"}}],\"contour\":[{\"type\":\"contour\",\"colorbar\":{\"outlinewidth\":0,\"ticks\":\"\"},\"colorscale\":[[0.0,\"#0d0887\"],[0.1111111111111111,\"#46039f\"],[0.2222222222222222,\"#7201a8\"],[0.3333333333333333,\"#9c179e\"],[0.4444444444444444,\"#bd3786\"],[0.5555555555555556,\"#d8576b\"],[0.6666666666666666,\"#ed7953\"],[0.7777777777777778,\"#fb9f3a\"],[0.8888888888888888,\"#fdca26\"],[1.0,\"#f0f921\"]]}],\"surface\":[{\"type\":\"surface\",\"colorbar\":{\"outlinewidth\":0,\"ticks\":\"\"},\"colorscale\":[[0.0,\"#0d0887\"],[0.1111111111111111,\"#46039f\"],[0.2222222222222222,\"#7201a8\"],[0.3333333333333333,\"#9c179e\"],[0.4444444444444444,\"#bd3786\"],[0.5555555555555556,\"#d8576b\"],[0.6666666666666666,\"#ed7953\"],[0.7777777777777778,\"#fb9f3a\"],[0.8888888888888888,\"#fdca26\"],[1.0,\"#f0f921\"]]}],\"mesh3d\":[{\"type\":\"mesh3d\",\"colorbar\":{\"outlinewidth\":0,\"ticks\":\"\"}}],\"scatter\":[{\"fillpattern\":{\"fillmode\":\"overlay\",\"size\":10,\"solidity\":0.2},\"type\":\"scatter\"}],\"parcoords\":[{\"type\":\"parcoords\",\"line\":{\"colorbar\":{\"outlinewidth\":0,\"ticks\":\"\"}}}],\"scatterpolargl\":[{\"type\":\"scatterpolargl\",\"marker\":{\"colorbar\":{\"outlinewidth\":0,\"ticks\":\"\"}}}],\"bar\":[{\"error_x\":{\"color\":\"#2a3f5f\"},\"error_y\":{\"color\":\"#2a3f5f\"},\"marker\":{\"line\":{\"color\":\"#E5ECF6\",\"width\":0.5},\"pattern\":{\"fillmode\":\"overlay\",\"size\":10,\"solidity\":0.2}},\"type\":\"bar\"}],\"scattergeo\":[{\"type\":\"scattergeo\",\"marker\":{\"colorbar\":{\"outlinewidth\":0,\"ticks\":\"\"}}}],\"scatterpolar\":[{\"type\":\"scatterpolar\",\"marker\":{\"colorbar\":{\"outlinewidth\":0,\"ticks\":\"\"}}}],\"histogram\":[{\"marker\":{\"pattern\":{\"fillmode\":\"overlay\",\"size\":10,\"solidity\":0.2}},\"type\":\"histogram\"}],\"scattergl\":[{\"type\":\"scattergl\",\"marker\":{\"colorbar\":{\"outlinewidth\":0,\"ticks\":\"\"}}}],\"scatter3d\":[{\"type\":\"scatter3d\",\"line\":{\"colorbar\":{\"outlinewidth\":0,\"ticks\":\"\"}},\"marker\":{\"colorbar\":{\"outlinewidth\":0,\"ticks\":\"\"}}}],\"scattermapbox\":[{\"type\":\"scattermapbox\",\"marker\":{\"colorbar\":{\"outlinewidth\":0,\"ticks\":\"\"}}}],\"scatterternary\":[{\"type\":\"scatterternary\",\"marker\":{\"colorbar\":{\"outlinewidth\":0,\"ticks\":\"\"}}}],\"scattercarpet\":[{\"type\":\"scattercarpet\",\"marker\":{\"colorbar\":{\"outlinewidth\":0,\"ticks\":\"\"}}}],\"carpet\":[{\"aaxis\":{\"endlinecolor\":\"#2a3f5f\",\"gridcolor\":\"white\",\"linecolor\":\"white\",\"minorgridcolor\":\"white\",\"startlinecolor\":\"#2a3f5f\"},\"baxis\":{\"endlinecolor\":\"#2a3f5f\",\"gridcolor\":\"white\",\"linecolor\":\"white\",\"minorgridcolor\":\"white\",\"startlinecolor\":\"#2a3f5f\"},\"type\":\"carpet\"}],\"table\":[{\"cells\":{\"fill\":{\"color\":\"#EBF0F8\"},\"line\":{\"color\":\"white\"}},\"header\":{\"fill\":{\"color\":\"#C8D4E3\"},\"line\":{\"color\":\"white\"}},\"type\":\"table\"}],\"barpolar\":[{\"marker\":{\"line\":{\"color\":\"#E5ECF6\",\"width\":0.5},\"pattern\":{\"fillmode\":\"overlay\",\"size\":10,\"solidity\":0.2}},\"type\":\"barpolar\"}],\"pie\":[{\"automargin\":true,\"type\":\"pie\"}]},\"layout\":{\"autotypenumbers\":\"strict\",\"colorway\":[\"#636efa\",\"#EF553B\",\"#00cc96\",\"#ab63fa\",\"#FFA15A\",\"#19d3f3\",\"#FF6692\",\"#B6E880\",\"#FF97FF\",\"#FECB52\"],\"font\":{\"color\":\"#2a3f5f\"},\"hovermode\":\"closest\",\"hoverlabel\":{\"align\":\"left\"},\"paper_bgcolor\":\"white\",\"plot_bgcolor\":\"#E5ECF6\",\"polar\":{\"bgcolor\":\"#E5ECF6\",\"angularaxis\":{\"gridcolor\":\"white\",\"linecolor\":\"white\",\"ticks\":\"\"},\"radialaxis\":{\"gridcolor\":\"white\",\"linecolor\":\"white\",\"ticks\":\"\"}},\"ternary\":{\"bgcolor\":\"#E5ECF6\",\"aaxis\":{\"gridcolor\":\"white\",\"linecolor\":\"white\",\"ticks\":\"\"},\"baxis\":{\"gridcolor\":\"white\",\"linecolor\":\"white\",\"ticks\":\"\"},\"caxis\":{\"gridcolor\":\"white\",\"linecolor\":\"white\",\"ticks\":\"\"}},\"coloraxis\":{\"colorbar\":{\"outlinewidth\":0,\"ticks\":\"\"}},\"colorscale\":{\"sequential\":[[0.0,\"#0d0887\"],[0.1111111111111111,\"#46039f\"],[0.2222222222222222,\"#7201a8\"],[0.3333333333333333,\"#9c179e\"],[0.4444444444444444,\"#bd3786\"],[0.5555555555555556,\"#d8576b\"],[0.6666666666666666,\"#ed7953\"],[0.7777777777777778,\"#fb9f3a\"],[0.8888888888888888,\"#fdca26\"],[1.0,\"#f0f921\"]],\"sequentialminus\":[[0.0,\"#0d0887\"],[0.1111111111111111,\"#46039f\"],[0.2222222222222222,\"#7201a8\"],[0.3333333333333333,\"#9c179e\"],[0.4444444444444444,\"#bd3786\"],[0.5555555555555556,\"#d8576b\"],[0.6666666666666666,\"#ed7953\"],[0.7777777777777778,\"#fb9f3a\"],[0.8888888888888888,\"#fdca26\"],[1.0,\"#f0f921\"]],\"diverging\":[[0,\"#8e0152\"],[0.1,\"#c51b7d\"],[0.2,\"#de77ae\"],[0.3,\"#f1b6da\"],[0.4,\"#fde0ef\"],[0.5,\"#f7f7f7\"],[0.6,\"#e6f5d0\"],[0.7,\"#b8e186\"],[0.8,\"#7fbc41\"],[0.9,\"#4d9221\"],[1,\"#276419\"]]},\"xaxis\":{\"gridcolor\":\"white\",\"linecolor\":\"white\",\"ticks\":\"\",\"title\":{\"standoff\":15},\"zerolinecolor\":\"white\",\"automargin\":true,\"zerolinewidth\":2},\"yaxis\":{\"gridcolor\":\"white\",\"linecolor\":\"white\",\"ticks\":\"\",\"title\":{\"standoff\":15},\"zerolinecolor\":\"white\",\"automargin\":true,\"zerolinewidth\":2},\"scene\":{\"xaxis\":{\"backgroundcolor\":\"#E5ECF6\",\"gridcolor\":\"white\",\"linecolor\":\"white\",\"showbackground\":true,\"ticks\":\"\",\"zerolinecolor\":\"white\",\"gridwidth\":2},\"yaxis\":{\"backgroundcolor\":\"#E5ECF6\",\"gridcolor\":\"white\",\"linecolor\":\"white\",\"showbackground\":true,\"ticks\":\"\",\"zerolinecolor\":\"white\",\"gridwidth\":2},\"zaxis\":{\"backgroundcolor\":\"#E5ECF6\",\"gridcolor\":\"white\",\"linecolor\":\"white\",\"showbackground\":true,\"ticks\":\"\",\"zerolinecolor\":\"white\",\"gridwidth\":2}},\"shapedefaults\":{\"line\":{\"color\":\"#2a3f5f\"}},\"annotationdefaults\":{\"arrowcolor\":\"#2a3f5f\",\"arrowhead\":0,\"arrowwidth\":1},\"geo\":{\"bgcolor\":\"white\",\"landcolor\":\"#E5ECF6\",\"subunitcolor\":\"white\",\"showland\":true,\"showlakes\":true,\"lakecolor\":\"white\"},\"title\":{\"x\":0.05},\"mapbox\":{\"style\":\"light\"}}},\"xaxis\":{\"anchor\":\"y\",\"domain\":[0.0,1.0],\"scaleanchor\":\"y\",\"constrain\":\"domain\",\"showticklabels\":false},\"yaxis\":{\"anchor\":\"x\",\"domain\":[0.0,1.0],\"autorange\":\"reversed\",\"constrain\":\"domain\",\"showticklabels\":false},\"coloraxis\":{\"colorscale\":[[0.0,\"rgb(0, 0, 0)\"],[0.09090909090909091,\"rgb(16, 16, 16)\"],[0.18181818181818182,\"rgb(38, 38, 38)\"],[0.2727272727272727,\"rgb(59, 59, 59)\"],[0.36363636363636365,\"rgb(81, 80, 80)\"],[0.45454545454545453,\"rgb(102, 101, 101)\"],[0.5454545454545454,\"rgb(124, 123, 122)\"],[0.6363636363636364,\"rgb(146, 146, 145)\"],[0.7272727272727273,\"rgb(171, 171, 170)\"],[0.8181818181818182,\"rgb(197, 197, 195)\"],[0.9090909090909091,\"rgb(224, 224, 223)\"],[1.0,\"rgb(254, 254, 253)\"]],\"cmin\":0,\"cmax\":255,\"showscale\":false},\"margin\":{\"t\":0,\"b\":0,\"l\":0,\"r\":0},\"height\":150,\"width\":150},                        {\"displayModeBar\": false, \"responsive\": true}                    ).then(function(){\n",
              "                            \n",
              "var gd = document.getElementById('c2a133ef-bff8-4de3-b625-201c23ceac35');\n",
              "var x = new MutationObserver(function (mutations, observer) {{\n",
              "        var display = window.getComputedStyle(gd).display;\n",
              "        if (!display || display === 'none') {{\n",
              "            console.log([gd, 'removed!']);\n",
              "            Plotly.purge(gd);\n",
              "            observer.disconnect();\n",
              "        }}\n",
              "}});\n",
              "\n",
              "// Listen for the removal of the full notebook cells\n",
              "var notebookContainer = gd.closest('#notebook-container');\n",
              "if (notebookContainer) {{\n",
              "    x.observe(notebookContainer, {childList: true});\n",
              "}}\n",
              "\n",
              "// Listen for the clearing of the current output cell\n",
              "var outputEl = gd.closest('.output');\n",
              "if (outputEl) {{\n",
              "    x.observe(outputEl, {childList: true});\n",
              "}}\n",
              "\n",
              "                        })                };                            </script>        </div>\n",
              "</body>\n",
              "</html>"
            ]
          },
          "metadata": {}
        }
      ],
      "source": [
        "print(arr[0, 0].shape)\n",
        "display_array_as_img(arr[0, 0])  # plotting the first channel of the first image, as monochrome"
      ]
    },
    {
      "cell_type": "code",
      "execution_count": 6,
      "metadata": {
        "id": "S7w6o35k0kJ6",
        "outputId": "9ebb45ae-87fd-4894-b298-301782129e76",
        "colab": {
          "base_uri": "https://localhost:8080/",
          "height": 185
        }
      },
      "outputs": [
        {
          "output_type": "stream",
          "name": "stdout",
          "text": [
            "(3, 150, 900)\n"
          ]
        },
        {
          "output_type": "display_data",
          "data": {
            "text/html": [
              "<html>\n",
              "<head><meta charset=\"utf-8\" /></head>\n",
              "<body>\n",
              "    <div>            <script src=\"https://cdnjs.cloudflare.com/ajax/libs/mathjax/2.7.5/MathJax.js?config=TeX-AMS-MML_SVG\"></script><script type=\"text/javascript\">if (window.MathJax && window.MathJax.Hub && window.MathJax.Hub.Config) {window.MathJax.Hub.Config({SVG: {font: \"STIX-Web\"}});}</script>                <script type=\"text/javascript\">window.PlotlyConfig = {MathJaxConfig: 'local'};</script>\n",
              "        <script charset=\"utf-8\" src=\"https://cdn.plot.ly/plotly-2.35.2.min.js\"></script>                <div id=\"5a06e07e-a543-44a8-b128-3ceca232a03a\" class=\"plotly-graph-div\" style=\"height:150px; width:900px;\"></div>            <script type=\"text/javascript\">                                    window.PLOTLYENV=window.PLOTLYENV || {};                                    if (document.getElementById(\"5a06e07e-a543-44a8-b128-3ceca232a03a\")) {                    Plotly.newPlot(                        \"5a06e07e-a543-44a8-b128-3ceca232a03a\",                        [{\"name\":\"0\",\"source\":\"data:image\\u002fpng;base64,iVBORw0KGgoAAAANSUhEUgAAA4QAAACWCAIAAAAJ2tFhAAAqBUlEQVR4Xu3dZ1xUV\\u002fc24D1DH3q1AAqi2FDsir3FbuyJMepjb9GYWGOLvcbYNfbeYom9xa6oARtFRAUE6b0zwAAz7wf\\u002fkxdX5oyUgXNG7uvD8+FeSPjpM8OaffZeW6R4voeBVnvRhCagVV6Me0Ej0C57x9EEtApeg1oPvwe1nJgGAAAAAADlBc0oAAAAAPAGzSgAAAAA8AbNKAAAAADwBs0oAAAAAPAGzSgAAAAA8AbNKAAAAADwBs0oAAAAAPAGzSgAAAAA8AbNKAAAAADwBs0oAAAAAPAGzSgAAAAA8AbNKAAAAADwBs0oAAAAAPAGzSgAAAAA8AbNKAAAAADwBs0oAAAAAPAGzSgAAAAA8AbNKAAAAADwBs0oAAAAAPAGzSgAAAAA8AbNKAAAAADwBs0oAAAAAPAGzSgAAAAA8AbNKAAAAADwBs0oAAAAAPAGzSgAAAAA8AbNKAAAAADwBs0oAAAAAPAGzSgAAAAA8AbNKAAAAADwBs0oAAAAAPAGzSgAAAAA8AbNKAAAAADwBs0oAAAAAPAGzSgAAAAA8AbNKAAAAADwBs0oAAAAAPAGzSgAAAAA8EaXBlorV5b\\u002f8GWQp0+Q77vI91EJ0QmpWdm5srwCiaG+mYmhjYVpvRpV6jlX7dDUtbW7i44YXbj2+Xrbz5d8HxRO7s7a3bF208IJ8CgyJMH\\u002fn\\u002fdvXoaHvYlNiEpJiEnLkcpys2UikcjASF9iYmDnYFnZ0dLFzb5u0+qN2tQ0szKm3wL4I8vLeRn00P\\u002f9P28jfKITw+JTo6Q5GbK8HEN9iYmRuZmxlVOVOjWrutVzbt68did9PUP650F73PvjzLEpq2nK2LqIq5YOlWgKUPa+hGb0sW\\u002fIzrP3\\u002f7rzIis7l9YYy5DmZEhzouJTfd9FfEwszSQDOjX5aVjXBjXtP\\u002f1aEK6br71IJwoC8f519IX9j+5f8IkIjqc1pfy87Kz07ITo1ADv0NtnXzDGxDrihh41un3bvPcIDxNzI\\u002foHoLwoFAqv1zfPPdzj6X81RyalZcakuZnS3Mz41KjgKP9b7DRjzFBf0qreV1+3HdOuYR+xCB\\u002fstUx8UPjpWRtpCuXrxuHfzmyeQ9OyMWv33dpNO9JUYLS7GfV5GzFjw6m7z97Qglop6dL9Fzz3X\\u002fDs2cZt48xva1evTL8CBEYqy5l2Yi1NgW8vHrzbteTSs7vFewF+JC+Q+3gG+3gGb\\u002f3lr4ET2o9d0Mvc2oR+EZSxez4Xdl74NSjSjxbUypFJ7\\u002flcuOdzwcHWZUT3WQPbjReLdegXgSDJ8wv2jlgkk+bQApSv8LcvaVSxaeuH2vwC+YLt55oNX1HcTrSwa49euQ9dumzPJblcQWsgJNNOrHsb+4GmwJ+E6NTZg\\u002f4Y3+G3knWihWVn5R7beLNvjflnd92nNSgz8alRP23tO3N7\\u002f+J2ooVFJoSsPjp52PImL4Me0hoI0pWV+0K9XtEUyl34GzSjn9DKZjRTmtv9h42r9l8tkMtprZhyZfmLd17s89OWtMxsWgNhOO51fb\\u002fnBZoCfx5d9R9Sf\\u002fGdv17QQilkpWevmnT0x95bMtPwSixz3oG3hy1r\\u002fNDvMi2USFCk3\\u002fjfOuy6uEShwKd6QQt7GnB5xV6aQrnLzc6KC39H04pN+5rRtMzsbj9svPO0tOsxhV179Krd2LXJ6Vm0AHzzDPYZe2gpTYE\\u002fxzbe\\u002fKnv1oxUFZsLS+\\u002fRVf\\u002fRrdfEhifTAmjOde8T0zb3TMlIoIVSUCgUuy8t\\u002fXnb17I8PP8VqLzs3H0jFsnzC2gByl3kO19FqZfSvjBa1oxmZed2mfT7E78QWig1\\u002f+ConlM3Z0pVHIECvryOfv\\u002f11p9z8mS0ADw5sv7GhhmnynRby\\u002fvX0RM7r0+MSaMF0ISbz04t2js8vyCPFjThod\\u002flOTuHlNE3h1I6NWtj7FtsdhKED280+Vjpy6BlB5gmrjzyPPAzL6dqla16tW3QyNWxqq2FkYF+elZ2SGTCP\\u002f7vrz9+Jc1R19Z4B4SOXXbwzzUTaQH48C7uQ7eNP6RI02kBeHLrzPNNs8\\u002fQVBWX+lVbdK1r72xraWtiYWOSI5WlJmYmxqb7Pgp++TAoO+szH\\u002fkiQxKm9th08Mk8Q4k+rUEp+IU8+XXfSLniM0syZhLLprU7NqrZxtq8soWJjSw\\u002fNyUjISYx7OnbuwGh3up7zYd+l1cdnfTr\\u002f\\u002fbRAvAq4MaTeztO0xR4EoHTS\\u002f+hTc3orrP3j13zomkhzeo5LZvUr0fr+iKRiNYYy8rO3XX2weoDVxNTM2lN6dTNZ11a1J0wsD0tQPl6FRXSdcOkuHQ8rhWK8KD4JaMO0PRTxmZG3\\u002f\\u002fcdeCE9rZVLWhNKT+v4MEl370rrrx9GU5rhQT5RS4ff3jlsXG0ACWVIU2dv+c7Wb66TwIuVeuP6b2gW7NvVJ6On8xYWmbS0Zsb\\u002fry7LSub81PiBc\\u002f9HvW7f9XsG1oAnmQlpx8cg81OAoLTS\\u002f+lNc1oSGTC9PUnaaokFouWT+7\\u002fy6ieYrGKNvQjYyODGcO\\u002fGt6r1dhlBy8\\u002f5DxAOnPjqT7tGla1taAFKC\\u002feoQG9tkxLysSDWqFQKBQrxh9Sv6I5aGKHqasGfHaOva6eTueBTToPbHLj5NMVEw5LMzi3GF4\\u002f7tV1cNNOAxrTApTIpjOzY5I4HyuJReIJfReP7bNQ\\u002fdxQcxPrHwas\\u002fKbTD3N3DvENeUzLSquOTGpZt6uZsRUtAB+OTlqZGq3JLcJQGvl5suj3ATRljDHm3r7vV8Nn0LTUHF0b0Uh4tKYZnbvlTK4sn6aMMcZ0xOLjq8Z\\u002f81UzWlDFzsr0woapMzb8ufnEbVpjjDGWKc2ds\\u002fnM0RVYkuHHCe\\u002frYw4uxT5RQblx8unz+5xnP3V0xXO3DRs0sQMtqNV9aPM6jR1nDtgRGhhDa0q\\u002f\\u002fXiiTU83fUM9WoBieh327IIn56NzfV2DDVMveNTvTgscbC2q7p59b\\u002fH+\\u002f133PkFrjDHG0qUpB66tmT54HS1AuXty5Mqz07doCvyJfh+Qz\\u002fELzq1NT+FPpy8j6j4EC8cj3+Cztzk3\\u002fG6bO6yInehHYrFo06yhkwZz\\u002fu48ds3rsztTQeMUCsXC8zuG7VmATlRQ5HLF7qWXaFrIqhMTituJflS9duWdt2dWcuRcP4uLTDm3FwMsNWDXJc65SyKRaMmYg0XvRD\\u002fS1dFbMvpgE1fOHU1\\u002f3tmm2QP7UALJ4bEnpuEjgbCoeUbvVK85jSoM7WhGf9lylkZK33ZrrqatVGPrnGEdmrrSVGn1gas0grIUlRrfbeMPK69wLt4AXzyv+H14G0tTpZGzu3cd3JSmRWZTxXzLlR+NjA1oQenYRizqlFZIdICn3xWaKn3XZXr35kNpWgR6uvqrxp8w1JfQAmOMsdy87Bsc66ZQPhQKxYFRi7PTOM9IAC+4Ti\\u002fp6uk71GpI0wpDC5pRv6BIT59gmjLGGDORGPz+cwm3yevqiI8sHysxVH1c99zdl+8+xNEUysaZ57caLvn2VqC602nAl\\u002fPca5O1GjpMWz2QpsVUs4H9qLk9aKoU9T7B97HmR7lVKOcfcs45tzCxmdB3MU2LzNai6vBuM2mqdPWfozSCcnRzw7E3d5\\u002fRFPjGNdfJwdVdV091Q1IRaEEzuuss5yWBPw7tYm9nQdMic6xk9cvonjRljH18NPnXA5qCpkWnJny3e\\u002f6QnXOTszgP5wKPstKzH13jvDxwzPxeYh0NvIcMn9nNzt6CpkoPLvnSCIpMrpBf9zpOU6UxveabSixoWhwD242nkdLrD88ys3EMkR9Rr0LOLdhOU8bEujqVXKvTFMqLQi6PDFJ9ftq5fgsaVSQa+EVSpqQ5sqNXVS+Y6eqIpwzpRNNimvpNZyMD1ccjjl3zKv11o8AlX17w+99H6ywaePLpDVr7lMpBXVA+\\u002frkZmJ+n+soWx5p2XYcUY6+2GoYS\\u002fV7DW9FU6QX32Sn4rIBQ7+SMeJoyxhjT1dHr7TGCpsVUycrR1dGdpowxxhQKxeswrMzxIF+Wt2\\u002f4wvxcFZvvey8Ya9+gJk2hvMRFBOVKVW+ccKpfcTeMMuE3oxfu+aRnqb6ruk8799Isi35kaSb5rkdLmjLGGItNSvv7yWuaQqkpFIqPz+Vnnd6YkfOZWyXbuzaZ1GEQTaG8PL0TSCOlzgObqJmkVlzt+6puaBhjQX6RNIIiexLA+WGvtVsPCxMbmhafqwPnv11YrCbvbYYiurDojwhfFR\\u002fhqjet22chBsXwKTxQ9TN6VrFPLzEtaEbv+9BIaUAnzQwgHNSlCY2U1PzXoWQu+NxrvHzYkJ1zA2NCae0\\u002fBjbpfOOn7WaGJrQA5eX10zAaKTXtWJtGpdDAw0VHV\\u002fXbUXZWLm4HLTG\\u002fkCc0UmrToBeNSsTavDKNlNKzcG9FeQv29Lmx\\u002fghNGdMz1B9zeJlYV8V1BlBuwjlOLxlITKo41aFpRSLoOaMKheLvf1TPhtURi3u3a0DTEuncvI7EUF\\u002flTaFXPf1pBKUQmRLXfzvncYfCRCLR4r4Tfu0zHs\\u002foeSQvkHOtSorFosZtNfmwTywWWdqacjWdKQkZNlXMaQpF0KJuF31dg+Ao\\u002f+ikMDLdqYGz6odCxSUxNKWRUmYO9oKXq5wM6b6RvypUbTAbsGpq1Xo1aArli6sZrV63qUis+tN4BSHoZtQvKDIlXfVj3Ia1HKzNNbNgZqiv18a95k0vFU\\u002fkI+KS\\u002fYOjGtS0pwUoS5XMrA6OXtrDrTUtQPmKi0yR5aq+acLc2kRiakjT0rGuZMbVjEoz1V3+BGqM7D57ZPfZjDFpTkZw1KugSL\\u002fgKP+gSL\\u002fIhJCaDpr5PC\\u002fNyaCRkrEBZ58KZeHEj+sSQ6Noyphrh6ZdfxpGUyh3ERxDRp0r9jN6JvBm9JEv50iX1u4uNCqFFm7OKptRxtjDl0FoRstTn4bt9o361c7Uihag3EWHJdFIycJGMx8FCysoULGc85EGN6dWWBJD04YuHg1dPGih1KIS3tNICTeClqeX5+89PqjifgpDU8mYg0vwlIl3ybHhmWmq31Qr+OklJvBmVM01SK0aaPJxQ0s3Zxop\\u002feP\\u002ffsqQjjSFMmBjYrFp6KzvW6oetgXlr6FHjb\\u002ferkiMTo2PSo2PSkmITk2ISk2ITo2PSlUzianE4qNSaaRkbKbhVVjQoICwpzRSqmnvRiMoG+lxyUcmrKApY4yxbzfOtHaqSlMod7h7SQ1BN6M+b8NppOTmosnVyno1OF+oan4G0BSRSDSqdd91g6fbmFjQGvBHT1+3umul6q6VaKEMJMakpSdn0VTJupIZjUAY3oa\\u002fjElSvWogFuvUc6rov2LLzaFxyzISUmjKWMM+7dqO7U9T4EM4x7h7E3NrG3vOFbEKQtDN6FuOO5BEIpFrdU3+gnSqaq2nq5OXr2Ke4tsPcQVyuU7F3llcplo6u235bk4L5\\u002fq0ABXJs3tvaaRkYWNibq35XQGgEUdvbqCRUvM6nY0MjGkKZeDB7r\\u002f8Lqu4Kc3E2nzknkU0BZ5wnV7CM3om5GY0Kj41K1v1qQXHSpZc13iWjI5Y7Gxvo\\u002fL+T1lefnhMsrO9BqbxAVHTznHlgB++afYVLUDFc+fscxopubo70giE4WXQw2tex2iq1K\\u002ftGBpBGUgIiTw1Q\\u002fVHguE755tXtqYp8ISzGf3PM3ppekpY4LPQV95hr58mx4RnZaRI05Jzs7P0DSWGJmbWlavZOdasXq+Za+P2Dq7uX8ZuYOE2o6HRiTRSql5F868ux0pWKptRxlhYTCKaUc2qZVdtXq\\u002fRIzx664ox9A5Yclz6g0uqr8hjjDXvXKHH7wlWZELI3F3fkHFR\\u002f6pmV6tLE1xXUebkBfJ9IxblqroapuWwHk0Hd6Up8CQjJSElTvWkvH9XRnOlmS\\u002funvO6dizQ65ZcruJRbY40I0eakRofFeL35MmVI4wxq8rVWvT4rsPAidr+oF+4zWhELOe05Kq2FjQqtcrWnJvSImJVbMSBEhCJRJ3qNJva6dt+jTpi5wP86\\u002fjm23ky1TOkGGNteuIQjOD4Bj+as3NIUlosLShNH7xOV0f1TcugQddW7w95ouKDnIW93bBtc2kK\\u002fOFaFmWMOdVvnpYUe+3Amofn9sg+dyshkRwbfv3g2r+P\\u002fN6i+9D+U1ZYV6lOv0JLCLcZjVK1F\\u002fujsmlGOUdqxySqnn0IxWVvYXdn5i6aQsWWFJt2csttmirVqFe1duNqNAX+JKfH7b607OyDXSpXbj7q1Wp4x8b9aQqaFv7izaVle2jKGGNs1L5fJZacKyxQ\\u002frgmjEpMLW4e+f3u6R3FbUMLkxfk\\u002f3P16Is7f\\u002fUd\\u002f2v3kbO1cX6+cJvR+GTOQcqVrDT\\u002fGrOz4hzOnJiaSSMA0JBNs89kZ6neHc4Y6ze2LY2AJyHRAZceHzx7b6c0V91boquj+4IR+MxZ5vKyc\\u002fcOX1iQp+KRQsfJg+t31\\u002fxAWSiNDxxH6aUZqTeOrKdpichypGe3\\u002fvLa6+b4lcdNrexoWdiE24wmp3POeTE3MaJRqZkZc35PNT8JAJTGo6v+V4\\u002f+Q1MlMyvjgRPa0xTKWI5MqqujVyDPT89KSctKCo70Dwh7+vztvbcRPvRL\\u002f6NOtSbbf75hqC+hBdC0M3O3xASG0pQxWxeHwb\\u002f9RFPgm5rH9JoV6H175cgWM3bctKtWi9YETMDNaBpnC2hmovkJ2CYSAxoppavaGw4ApZQcl7507CGaFjJiZjeJCecLE8rI9nMLjt\\u002faRNMiaO\\u002fed\\u002fnYIyZGnFueQFMCb3nd3fYnTRkTicVjDy8z4F5bAV7kSDMSIoJpWmaSYj6sGdt25s7b9i5as+FeuM1oppTzyZ2aVcwSM5VwNrjpmTk0AoDSKciX\\u002f\\u002fLtrqRYzg3ZDi62w2dg7BcPYpOLfdOHxNB0+uB1gztMogUoA9KU9P2jlqicY9B99kiX1u40Bb5FvPVR+e\\u002fFxdbBpVajtg6u7pZ29obGZmIdnVxpZnJseEzYm2CfR1HB\\u002fvQP\\u002fEdGcvymqT3mHXxiVUk7RuMJtxmV5shopKRmFbPEjI04v2eOLI9GAFA6q6ccfX7\\u002fHU0LmbttmL4hjmPzoFjNqL6uwaAOk8b2XmBpaktrUDaOTlmTGhVPU8bsG9TstwyfB4SoiM\\u002fo9QyM2vYb02HQRPuaDWitkMSoUM+L+++e2i5N5zznzRhLjY\\u002faOr3P\\u002fMNeevqca23CIdwjV9m5nM2oro7mh1Pq6HCOjc3JRTMKoEn7Vl45t0fFhTH\\u002fGjy5Y+seWvOA6QvDdb2nSvkFea8\\u002fPLv8+FBkQgitQRnwOn796ckbNGVMV19v7JHluvr4\\u002fCZEam6l\\u002f1fLHsPWXA4dNneb+k6UMWZj79x\\u002f8vLVF993HDxZ\\u002fcT7yCC\\u002f0xtn0VSQhNuMqryc8yNdHc3\\u002f2GoaXDU\\u002fCQAU1+kd93YsPE\\u002fTQmrUqzrj929oCuVClpeTkpFAU25yhdw3+NGmM7P7L6g1a8fAdxG+9CtAc1Ii447\\u002fsIamjDHG+i6Z6OjuSlMQBq5b6T8ylJhO+f3cuJXHzKyKcc+5xNTi+3k7pqw\\u002fZyBRd1vy3VPbg308aSo8mu\\u002fqNKVAzrnBomyaUc7vKS\\u002fOVg8AUOPCfs+1U4\\u002fTtBBTC8n6c1MMjLDAw4+Y4jyjL0yhUNx9eW7Y8saLD4zKzuU8fgolplAoDoxaIk1VMfTQxaNhjzn\\u002foykIQ74sNyY0kKZKplZ28w4+adyxPy0UTaOO\\u002fWbsuGlkrG7e5YnfpivkcpoKDGcHxjs599+dmlXMElPzPQsKOH8SACi6C\\u002fs9l487rGYjv46ueO2pidVdi7E8AJpVrA2j\\u002f6VQKC4\\u002fPjR8RbOQqFe0BqVze\\u002fOJwNveNGVMX2I45tBSMfd6CvArJuyNvEDFOFjGmJGx2cw\\u002fblV1qU8LxVGjQauJa0+Jue\\u002fWDn\\u002fz4uW98zQVGOEeYFLXHXL3qSWWX8D5LF4HL3KAUju9497aqcfVdKKMsV+2f9\\u002fyq3o0hXIUk\\u002fTBQM+obvWmtas1qlbJtbKlo5GhiTQnIyUjISkt9mXQw5fBnrK8zwwYCYt9M2Zt2z2z77s64mS3ZkS\\u002ffv\\u002fXvK00ZYwxNnjddLtauKVMuBxd3Xc8zk6MDk2MCk2Iev9\\u002f\\u002fxsdmhgVOmLBrs\\u002fuEC2K+h7de\\u002fxvztUDq2lB6ebRDU06D6SpkAi3GdXX42xG88tgqVLN91TzBB8AiuLA6qvb5p+j6aemrhqAEfe869Sof+9WI\\u002fR09WlBKTcv+6Hv5d2XloZEB9BaIZnZaVM399g\\u002f19PB1oXWoJgK8vL3jViUp2rCTL2vWnacMoSmIDC6+gaVnepUdqpDC5rTd+ISr+vHk2JUnz4M9n0U++Ft5eq1aUEwhNtm6etxNspqVjFLTM33RDMKUGIKhWLDjFOf7UTH\\u002f9p39LxeNIVyZ25iraYTZYwZ6Bl1bTbk5BK\\u002fZWMOGxup26mWlBY7a8fAArnqB5RQdBcX7wx\\u002f8YamjEksTEftX6z+PDVUELp6+n3G\\u002f0rTQl7cPksjIRFum6Wny70yms+5illiBQWcTw+NDNS9NQMAl\\u002fy8goXf7z228SYtfGrcoj6Tln5NUxAwsUjc22PE4fle1SurW2sJivQ7+vcGmkJxhDz2vb5O9UVl322dY+mADdbwf1r2HGZsZkVTJX\\u002fPqzQSEuE2o2paQDXz8EssK5vzwic18\\u002fABgEtGqnRqj03XT6g4clHYDysHTF7Wj6agDZwq1zk07x+nyuoePu6+tDQhNZqmUDS5mdJ9IxbJVe0iazKwc6vheJgA\\u002f5+evmGjjpzvpR8Cn+fnab530hThNqNW5hIaKWVIP7N9vgTUfM+yuPAJ4MsW8yFpTJu1T++oeLb4L5FINHvz0DHz8QtVi5lKLDZNu2RmzLkekyOTnn+4l6ZQNCd\\u002f+j3hfRRNGTOrZDVi1wKaQoXn1qYnjZTyZDlFuUeUL8JtRq3NOee4ZmRxNo4lpqYZtTTjbIsB4L8CvENHtlz1\\u002frW69TAdXfHSQ6OH\\u002ftiFFkDbONrVXDBiF00LOee5Vy7n3JQPXHwvPfDcd56mjDHGRu5eaGJjQVOo8JzrNadRIQmRwr0mTSub0fSsbBqVmpoGV81PAgDE9RPe4zr8lhyXTguFGEr0N5z\\u002fofcID1oA7dS16eD6Tpy\\u002fBeOSI14Ga8EdMIKSkZByaNxymjLGGGsz+mv3rzvQFIAx66pOai5kSowOo5FgCLgZtTCmkVJ8soorKEopLpnzd6etpSmNAOA\\u002fFArFzsUXFwzbI8vJo7VCLGxMdt2Z1bZ3Q1oAbTax31IaFeIf8oRGoNahccsz4pNpyph19SrfbtKO28aBF5Z2DjRSykpX8f8ogeAcn8Q7e1tLGinFJqXRqNRiEzmbUXtbCxoBwKdys\\u002fMWj9p\\u002f89QzWviUg4vt1ms\\u002fVatlRwug5VrW7SoxNJXmqF4p8A\\u002f1ohFw89x33vfifZoyJhKJRh1YYmTGuVIDYGJuTSMlWbZw7+kVbjNaw8GGRkpqVjFLTE2D61CJsy0GAMZYYkzajH7bAp6G0cKn3Fo6b7o0zdIWjxq+QLo6ei3qdrn38jwtMMYYC4r0oxFw8z5xg0aMMcYUCsXvnSfSVHPmOHKeJnRu6Tb\\u002fH9UTpkBQ9AyNaKSE0\\u002fQl4eJgSyOl8FjNLzWr+Z417Dl\\u002fEgB46xMxovmKz3aiXQY12X13NjrRL1gD55Y0UkrP4nyDBQANUnDf4KNnwNmn8k64zaiZsZEVx8OIkIgEuZxzRn0J5BfIw6ITacoYY8zcxMjOCr8+AVR7eufN+A6\\u002fxUel0sKnRs7uvvb0JAMjPVqAL4ilKefui8zsNLlCxbBMANAsWS7nCW8DQ+GOBhJuM8oYq+9SlUaMMcZyZHkRcZr8nB0alch1N30dp8o0AgDGGGN\\u002f\\u002f\\u002fl0Ws\\u002fNWemc732MMV09nUV7Rk5fNxiXFn7xrM04bwNSKBRc20kBQIMykuNppGRmI9x+Rrh7RhljTetWf\\u002fgyiKaMMcYC3kdXr8K5S7e4AlRNFf6ocZ1qNAIAxk7vuLd26nGFQt0zClMLyW9nJzfvrO6GHvhi6OqoW\\u002fnW18XtIVDh5MtyM1ISMlLi05PjM5LjM1ITMpLj05PjM1MSWvUa3rz7UPoHSkehUKQkcPYzVpUcaSQYgm5Gm9d3opGS96vQXm0a0LSkvPxDaaTUpE51GgFUeMc33fr95z9p+il7Z5vNV350rluFFqAcFcjzY5PCIxPfRyW8j0p4H5kQEpnwPirx\\u002fZllr23MNfxPk5nDebRULNbR1zOkKcCXbt34DqGvVI+SMDa30ngzGhf+Ll\\u002fGebd5pWquNBIMYTej9ZxppOQdwNk+loCa79bG3YVGABXbkfU3Ns0+Q9NPubV03nhxmpUd9lvzaf7u7249P1Mgz6cFxnyCPLs2G0LT0olJDKORkp2FPY0AKgBbhxpczeiHwOc0KrUPrzmH6+kbSio7C\\u002fchlaD3jNaqZsc1VsnzZbAsT8U7bAlIc2RP\\u002fFTfkWVraVrXWcOLBwBa7c9tdz7biXbs33j33dnoRHlnaCBR2Ykyxp4EqB4eVBrvIn1ppFS9knCXZADKjprFyJiwN9mZnDMlSybgCefr2ql+c7FYh6aCIeiVUcZYDw+3vecf0pSxDGnOvedvu7WqTwvFd8srMDtX9YUx3T3q49QFwL\\u002f+\\u002fvPp+uknafqpIVM6ztk6TCzGC4d\\u002fNarUo5HSQ\\u002f8rcoVcLNLYeoRCoXj+9h5NlWo5utMIuM249QeNNOePwXNenL1NU8YYY+sirlo6cJ5CgxJwqs95Ta5CLve5d8Gjz0haKKl8Wa6\\u002f51WaKrm17kEjIdHYO1EZ6dWWc2Po6ZuaWeI+c5vz+\\u002fRtjzdQgP\\u002fz\\u002fP67X0fuVz9VbfLy\\u002fr9s\\u002fx6dqEA0cPGgkVJSWuzTQNUdScn4hTyOS4mkqVLz2p1oBFAB1HBrqWZJy\\u002fvGCRqVwvM7ZzPTkmiq5N6uL42EROjN6Fct6xkbqT6DeeKGd1qmupkyRZGYmnn6puo9FhamEjSjAB\\u002fFRab88s3OPJnqZ76MMZFI9Mv278ct7E0LwJ961ZtJDExoqnT6niaX347f2kQjJUN9SZPaHWgKUAGYWNg41W9BU6XXXrdSE6JpWiIKheLagTU0VXKq16yqiwaeJJcdoTejJhKDIV2b0pQxxlhWdu72U3dpWkxbTtzOkal+Rj+idysjA3WTSgAqiDxZ\\u002fpzBfyTHc86JFIlEC\\u002feMHDKlIy0Ar\\u002fR09ds25Px4cN\\u002fnQmhMIE1LJCDs6Z0Xf9FUqVPjAWp6YoAvW5NOA2ikJC\\u002fIv7hrCU1L5NHFA1HB\\u002fjRVajdgPI0ERujNKGNs\\u002fID2NFJatf9qVHwqTYssLDpp\\u002fRHO3b4TBnL+dwEqlL3LL7\\u002fy4pw4wRibumpA\\u002f7FtaQoC0KvVcBopyRXyzWfm0LT4ZPm5Kw9PUHPB0qAOZXidOoDAefQZKdbhPJ\\u002fz6ML+mNDSfiZMjY86vWkWTZUsbKu27vM\\u002fmgqMFjSjrd1dGtVWPak1Kzt3xKJ9BXLON0E18vILhi\\u002fcy3V0qX0TVzcXzCIBYG9ehB9Yc42mhfQb03bULz1pCsLQpkEvR7uaNFV66Hf5utdxmhbTmmNT3kb40FSpae2OjWu1oylAhWFuU6Vpl0E0VZLLCw4sHpUny6GFIsuT5eyYNVCankILSj1Hz9PVV73dUTi0oBlljC2d2I9GSnefvflp\\u002fWeGb6v0w5pjj3yDaaq0ZtpAGgFUPAqFYuXEIwX5nJ\\u002f3Gnq4zN\\u002fJufYGvBOLxKN7zqNpISuOTFDTSn7WlrNzL3jup6mSWCT+cRDnPjaACqLPuEUiMWe7FRrgfWjpWJoWTb4sd8esgaEB3rSgZF+zQcfBk2gqPJx\\u002fO4LydQf3lm6cA\\u002fC3\\u002fXln9qYz6q8lLEwuV0z\\u002f7eSecyomRn00pGszj4aYdQ\\u002fArh\\u002f3fv0sjKZKRsYGyw6P0dUT7uw6YIz1bTOqlkNDmipl52ZN2fCVX8gTWvgcWX7uskNjD11fRwuFDOk0xc25JU0BKpiqLvXb9B1F00K8rh8\\u002ftGxsfp6MFtTKTEvaOLX7q0ecT67EYp0R83eq2SQgHFrwI360adbQtmPWcj2RX3\\u002fkRmh0wu6FI63MjGntUwkpGWOXHbr0gHM4s6G+3mosiwIwVpAv37HwHE0L+eqbZvGRKfGRnI+HNMW5XlWM0C8xsUj86\\u002f\\u002f2jVrtwTUAPzUzcdy69lP6Lx\\u002fZY04RJ48GhHqvODLhXQTnGyljzMXebdpALIsCMMbYkJ\\u002fW+3teTUuKpQUlzwv7Y8LejF953LpKkS4hf\\u002fX4+uEV41PiOOepMcb6jF\\u002fk4t6apoKkNc1oqwY15o7qsWo\\u002f50DXs7dfeL4MXjS+z9j+bQ31VZyCz87N2\\u002f3Xg5X7riSkcB4KZoxtmfOdi4MtTQEqnttnn0eHcU6tY4xdPPDo4oFHNC0Dq05M6D6Uc3Y0fFY9p2aT+y3bdm4+LSgVyPO3\\u002fjXv8pPDo3rM7dFymK6OirdQxphCofANeXTi1ubbL86qfxhlKrH4fco5I4PPrA4AVBASM8vRyw5tntZTwbGmxhgL8X28cGDtDoMm9Rg528JO9akVhUIR6H3rxqHfXnvdpLVPubXu0XvcQpoKldY0o4yxJRO\\u002fvun1+mlAGC0oxSWnT117fP62c73bNWjpVsOpirWJxCBTmhsanfiP\\u002f\\u002furnv4Z0s\\u002fsER7R22P8AOy1B2CMsZNbNDkUHfg1ute8kOiAa17HaKGQ0JjAxQdGrT0+tUntDo1rtbMxr2Jpaqsr1s3KyYhJ+vA24uWzN3fVTLb\\u002fl8TAZMuPV9UcnAKogOq36jZo2pozm9WNsMiX5d4+sfnOyS3V6jSp79HdpqqTmVUlfUNJjjQjMTos4u3LQO\\u002fbRRlNWq1Ok0lrTwv5\\u002fk9Cm5pRPV2dS5umeYxaHRqVSGuFpGdln7jufeI6535eLs3rO\\u002f0x73uaAlRIEcHxvo9DaArabPGo\\u002fdm5mfd8LtDCp6S5mZ5+Vzz9rtBC0RgbmW2cerEh9+VPABVW95Gzs9KSrx38zPYVhULxIfD5h0DO6yHVs3dx+3HLFQOJNg33LdL2IOGoZGV2Y9vP1atY00KptXZ3ufXHDK7bngAqmvsX1W0HBG2kp6u\\u002fdtJpNZNHS6+SleP+uZ5NXXHfEoBqA6et\\u002fnriEppqTs1Gbefse2huXZkWhE3LmlHGWK1qdk8OzmtcuxotlELn5nX+3v6zmbERLQBUVH6POQefgfbS1dFbPvbIz0PW64g1\\u002f1isg\\u002fvXxxY+r2nfgBYAoJC+ExZPWH3SUKL5Q5mdh06b8cdNiakFLQie9jWjjLEqNuaPD\\u002f7y07CuIpGI1opJRyyeN7rXje0\\u002fY00UoLDQQM5Tn6DthnebeWTh09rVGtNCSVmbV14y+sCGqRcsTXH6E+Dzmnf7dsmffnVbdKGFkrKxd56+9dp3s7fo6RvSmjbQymaUMWaor7dx5rePD\\u002fzSoakrrRVZh6auT48uWDV1gK6Otv49AJSRhOhUGsEXpLZjo6MLny0dc8jBtlQzla3MKk3ut+z8yqC+rUfRGgBws67qNOOPW9M2XXKs3YjWisPMqtK3MzcuP\\u002fvGrXUPWtMemn9SU55aNahxb\\u002ffsBy\\u002fe7T3vefb2c2lOkQbGSgz1B3RqPHlIxzbuOOwJoJqM46Zc+GKIReI+HiN7tRr+JODGxUcHHr+6Ls1RN\\u002fauMH09w1b1vurW\\u002fNsuTQfr6+KxEkAJNWzXp2G7PsE+ng\\u002fP7fV7eDkzTd00vcL09A1rN+\\u002fU9usxjTr209FVPYtNi4gUz\\u002ffQTDvlyPIe+QTff\\u002f7udWh0UHh8bFJapjQ3R5anp6tjYmRY1da8hoNtw5oObRvXbN\\u002fEVeUgUm31oglNQKu8GPeCRqBd9o6jiRbKy5f5Bj96Feb9LtwnKjE0PiUyMyc9V5bNGDM0kJgYmtlZOtjbOLvYuzWo0crNueWXNEMUr0Gt90X8HpTLC8ICnoa+8vrw5kVC5PuUuAhpRqosR6pQKAyMjA0kJhY2Veyq1arsVKdmw9Y1G7fV0ifyKmn3ymhhhvp6XVrU7dKiLi0AAMDn6OnqN6vTqVmdTrQAAOVCLNap0aBVjQataKECwF5JAAAAAOANmlEAAAAA4A2aUQAAAADgDZpRAAAAAOANmlEAAAAA4A2aUQAAAADgDZpRAAAAAOANmlEAAAAA4A2aUQAAAADgDZpRAAAAAOANmlEAAAAA4A2aUQAAAADgDZpRAAAAAOANmlEAAAAA4A2aUQAAAADgDZpRAAAAAOANmlEAAAAA4A2aUQAAAADgDZpRAAAAAOANmlEAAAAA4A2aUQAAAADgDZpRAAAAAOANmlEAAAAA4A2aUQAAAADgDZpRAAAAAOANmlEAAAAA4A2aUQAAAADgDZpRAAAAAOANmlEAAAAA4A2aUQAAAADgDZpRAAAAAOANmlEAAAAA4A2aUQAAAADgDZpRAAAAAOANmlEAAAAA4A2aUQAAAADgzf8D4tYJrMUa3fEAAAAASUVORK5CYII=\",\"type\":\"image\",\"xaxis\":\"x\",\"yaxis\":\"y\",\"hovertemplate\":\"x: %{x}\\u003cbr\\u003ey: %{y}\\u003cbr\\u003ecolor: [%{z[0]}, %{z[1]}, %{z[2]}]\\u003cextra\\u003e\\u003c\\u002fextra\\u003e\"}],                        {\"template\":{\"data\":{\"histogram2dcontour\":[{\"type\":\"histogram2dcontour\",\"colorbar\":{\"outlinewidth\":0,\"ticks\":\"\"},\"colorscale\":[[0.0,\"#0d0887\"],[0.1111111111111111,\"#46039f\"],[0.2222222222222222,\"#7201a8\"],[0.3333333333333333,\"#9c179e\"],[0.4444444444444444,\"#bd3786\"],[0.5555555555555556,\"#d8576b\"],[0.6666666666666666,\"#ed7953\"],[0.7777777777777778,\"#fb9f3a\"],[0.8888888888888888,\"#fdca26\"],[1.0,\"#f0f921\"]]}],\"choropleth\":[{\"type\":\"choropleth\",\"colorbar\":{\"outlinewidth\":0,\"ticks\":\"\"}}],\"histogram2d\":[{\"type\":\"histogram2d\",\"colorbar\":{\"outlinewidth\":0,\"ticks\":\"\"},\"colorscale\":[[0.0,\"#0d0887\"],[0.1111111111111111,\"#46039f\"],[0.2222222222222222,\"#7201a8\"],[0.3333333333333333,\"#9c179e\"],[0.4444444444444444,\"#bd3786\"],[0.5555555555555556,\"#d8576b\"],[0.6666666666666666,\"#ed7953\"],[0.7777777777777778,\"#fb9f3a\"],[0.8888888888888888,\"#fdca26\"],[1.0,\"#f0f921\"]]}],\"heatmap\":[{\"type\":\"heatmap\",\"colorbar\":{\"outlinewidth\":0,\"ticks\":\"\"},\"colorscale\":[[0.0,\"#0d0887\"],[0.1111111111111111,\"#46039f\"],[0.2222222222222222,\"#7201a8\"],[0.3333333333333333,\"#9c179e\"],[0.4444444444444444,\"#bd3786\"],[0.5555555555555556,\"#d8576b\"],[0.6666666666666666,\"#ed7953\"],[0.7777777777777778,\"#fb9f3a\"],[0.8888888888888888,\"#fdca26\"],[1.0,\"#f0f921\"]]}],\"heatmapgl\":[{\"type\":\"heatmapgl\",\"colorbar\":{\"outlinewidth\":0,\"ticks\":\"\"},\"colorscale\":[[0.0,\"#0d0887\"],[0.1111111111111111,\"#46039f\"],[0.2222222222222222,\"#7201a8\"],[0.3333333333333333,\"#9c179e\"],[0.4444444444444444,\"#bd3786\"],[0.5555555555555556,\"#d8576b\"],[0.6666666666666666,\"#ed7953\"],[0.7777777777777778,\"#fb9f3a\"],[0.8888888888888888,\"#fdca26\"],[1.0,\"#f0f921\"]]}],\"contourcarpet\":[{\"type\":\"contourcarpet\",\"colorbar\":{\"outlinewidth\":0,\"ticks\":\"\"}}],\"contour\":[{\"type\":\"contour\",\"colorbar\":{\"outlinewidth\":0,\"ticks\":\"\"},\"colorscale\":[[0.0,\"#0d0887\"],[0.1111111111111111,\"#46039f\"],[0.2222222222222222,\"#7201a8\"],[0.3333333333333333,\"#9c179e\"],[0.4444444444444444,\"#bd3786\"],[0.5555555555555556,\"#d8576b\"],[0.6666666666666666,\"#ed7953\"],[0.7777777777777778,\"#fb9f3a\"],[0.8888888888888888,\"#fdca26\"],[1.0,\"#f0f921\"]]}],\"surface\":[{\"type\":\"surface\",\"colorbar\":{\"outlinewidth\":0,\"ticks\":\"\"},\"colorscale\":[[0.0,\"#0d0887\"],[0.1111111111111111,\"#46039f\"],[0.2222222222222222,\"#7201a8\"],[0.3333333333333333,\"#9c179e\"],[0.4444444444444444,\"#bd3786\"],[0.5555555555555556,\"#d8576b\"],[0.6666666666666666,\"#ed7953\"],[0.7777777777777778,\"#fb9f3a\"],[0.8888888888888888,\"#fdca26\"],[1.0,\"#f0f921\"]]}],\"mesh3d\":[{\"type\":\"mesh3d\",\"colorbar\":{\"outlinewidth\":0,\"ticks\":\"\"}}],\"scatter\":[{\"fillpattern\":{\"fillmode\":\"overlay\",\"size\":10,\"solidity\":0.2},\"type\":\"scatter\"}],\"parcoords\":[{\"type\":\"parcoords\",\"line\":{\"colorbar\":{\"outlinewidth\":0,\"ticks\":\"\"}}}],\"scatterpolargl\":[{\"type\":\"scatterpolargl\",\"marker\":{\"colorbar\":{\"outlinewidth\":0,\"ticks\":\"\"}}}],\"bar\":[{\"error_x\":{\"color\":\"#2a3f5f\"},\"error_y\":{\"color\":\"#2a3f5f\"},\"marker\":{\"line\":{\"color\":\"#E5ECF6\",\"width\":0.5},\"pattern\":{\"fillmode\":\"overlay\",\"size\":10,\"solidity\":0.2}},\"type\":\"bar\"}],\"scattergeo\":[{\"type\":\"scattergeo\",\"marker\":{\"colorbar\":{\"outlinewidth\":0,\"ticks\":\"\"}}}],\"scatterpolar\":[{\"type\":\"scatterpolar\",\"marker\":{\"colorbar\":{\"outlinewidth\":0,\"ticks\":\"\"}}}],\"histogram\":[{\"marker\":{\"pattern\":{\"fillmode\":\"overlay\",\"size\":10,\"solidity\":0.2}},\"type\":\"histogram\"}],\"scattergl\":[{\"type\":\"scattergl\",\"marker\":{\"colorbar\":{\"outlinewidth\":0,\"ticks\":\"\"}}}],\"scatter3d\":[{\"type\":\"scatter3d\",\"line\":{\"colorbar\":{\"outlinewidth\":0,\"ticks\":\"\"}},\"marker\":{\"colorbar\":{\"outlinewidth\":0,\"ticks\":\"\"}}}],\"scattermapbox\":[{\"type\":\"scattermapbox\",\"marker\":{\"colorbar\":{\"outlinewidth\":0,\"ticks\":\"\"}}}],\"scatterternary\":[{\"type\":\"scatterternary\",\"marker\":{\"colorbar\":{\"outlinewidth\":0,\"ticks\":\"\"}}}],\"scattercarpet\":[{\"type\":\"scattercarpet\",\"marker\":{\"colorbar\":{\"outlinewidth\":0,\"ticks\":\"\"}}}],\"carpet\":[{\"aaxis\":{\"endlinecolor\":\"#2a3f5f\",\"gridcolor\":\"white\",\"linecolor\":\"white\",\"minorgridcolor\":\"white\",\"startlinecolor\":\"#2a3f5f\"},\"baxis\":{\"endlinecolor\":\"#2a3f5f\",\"gridcolor\":\"white\",\"linecolor\":\"white\",\"minorgridcolor\":\"white\",\"startlinecolor\":\"#2a3f5f\"},\"type\":\"carpet\"}],\"table\":[{\"cells\":{\"fill\":{\"color\":\"#EBF0F8\"},\"line\":{\"color\":\"white\"}},\"header\":{\"fill\":{\"color\":\"#C8D4E3\"},\"line\":{\"color\":\"white\"}},\"type\":\"table\"}],\"barpolar\":[{\"marker\":{\"line\":{\"color\":\"#E5ECF6\",\"width\":0.5},\"pattern\":{\"fillmode\":\"overlay\",\"size\":10,\"solidity\":0.2}},\"type\":\"barpolar\"}],\"pie\":[{\"automargin\":true,\"type\":\"pie\"}]},\"layout\":{\"autotypenumbers\":\"strict\",\"colorway\":[\"#636efa\",\"#EF553B\",\"#00cc96\",\"#ab63fa\",\"#FFA15A\",\"#19d3f3\",\"#FF6692\",\"#B6E880\",\"#FF97FF\",\"#FECB52\"],\"font\":{\"color\":\"#2a3f5f\"},\"hovermode\":\"closest\",\"hoverlabel\":{\"align\":\"left\"},\"paper_bgcolor\":\"white\",\"plot_bgcolor\":\"#E5ECF6\",\"polar\":{\"bgcolor\":\"#E5ECF6\",\"angularaxis\":{\"gridcolor\":\"white\",\"linecolor\":\"white\",\"ticks\":\"\"},\"radialaxis\":{\"gridcolor\":\"white\",\"linecolor\":\"white\",\"ticks\":\"\"}},\"ternary\":{\"bgcolor\":\"#E5ECF6\",\"aaxis\":{\"gridcolor\":\"white\",\"linecolor\":\"white\",\"ticks\":\"\"},\"baxis\":{\"gridcolor\":\"white\",\"linecolor\":\"white\",\"ticks\":\"\"},\"caxis\":{\"gridcolor\":\"white\",\"linecolor\":\"white\",\"ticks\":\"\"}},\"coloraxis\":{\"colorbar\":{\"outlinewidth\":0,\"ticks\":\"\"}},\"colorscale\":{\"sequential\":[[0.0,\"#0d0887\"],[0.1111111111111111,\"#46039f\"],[0.2222222222222222,\"#7201a8\"],[0.3333333333333333,\"#9c179e\"],[0.4444444444444444,\"#bd3786\"],[0.5555555555555556,\"#d8576b\"],[0.6666666666666666,\"#ed7953\"],[0.7777777777777778,\"#fb9f3a\"],[0.8888888888888888,\"#fdca26\"],[1.0,\"#f0f921\"]],\"sequentialminus\":[[0.0,\"#0d0887\"],[0.1111111111111111,\"#46039f\"],[0.2222222222222222,\"#7201a8\"],[0.3333333333333333,\"#9c179e\"],[0.4444444444444444,\"#bd3786\"],[0.5555555555555556,\"#d8576b\"],[0.6666666666666666,\"#ed7953\"],[0.7777777777777778,\"#fb9f3a\"],[0.8888888888888888,\"#fdca26\"],[1.0,\"#f0f921\"]],\"diverging\":[[0,\"#8e0152\"],[0.1,\"#c51b7d\"],[0.2,\"#de77ae\"],[0.3,\"#f1b6da\"],[0.4,\"#fde0ef\"],[0.5,\"#f7f7f7\"],[0.6,\"#e6f5d0\"],[0.7,\"#b8e186\"],[0.8,\"#7fbc41\"],[0.9,\"#4d9221\"],[1,\"#276419\"]]},\"xaxis\":{\"gridcolor\":\"white\",\"linecolor\":\"white\",\"ticks\":\"\",\"title\":{\"standoff\":15},\"zerolinecolor\":\"white\",\"automargin\":true,\"zerolinewidth\":2},\"yaxis\":{\"gridcolor\":\"white\",\"linecolor\":\"white\",\"ticks\":\"\",\"title\":{\"standoff\":15},\"zerolinecolor\":\"white\",\"automargin\":true,\"zerolinewidth\":2},\"scene\":{\"xaxis\":{\"backgroundcolor\":\"#E5ECF6\",\"gridcolor\":\"white\",\"linecolor\":\"white\",\"showbackground\":true,\"ticks\":\"\",\"zerolinecolor\":\"white\",\"gridwidth\":2},\"yaxis\":{\"backgroundcolor\":\"#E5ECF6\",\"gridcolor\":\"white\",\"linecolor\":\"white\",\"showbackground\":true,\"ticks\":\"\",\"zerolinecolor\":\"white\",\"gridwidth\":2},\"zaxis\":{\"backgroundcolor\":\"#E5ECF6\",\"gridcolor\":\"white\",\"linecolor\":\"white\",\"showbackground\":true,\"ticks\":\"\",\"zerolinecolor\":\"white\",\"gridwidth\":2}},\"shapedefaults\":{\"line\":{\"color\":\"#2a3f5f\"}},\"annotationdefaults\":{\"arrowcolor\":\"#2a3f5f\",\"arrowhead\":0,\"arrowwidth\":1},\"geo\":{\"bgcolor\":\"white\",\"landcolor\":\"#E5ECF6\",\"subunitcolor\":\"white\",\"showland\":true,\"showlakes\":true,\"lakecolor\":\"white\"},\"title\":{\"x\":0.05},\"mapbox\":{\"style\":\"light\"}}},\"xaxis\":{\"anchor\":\"y\",\"domain\":[0.0,1.0],\"showticklabels\":false},\"yaxis\":{\"anchor\":\"x\",\"domain\":[0.0,1.0],\"showticklabels\":false},\"margin\":{\"t\":0,\"b\":0,\"l\":0,\"r\":0},\"coloraxis\":{\"showscale\":false},\"height\":150,\"width\":900},                        {\"displayModeBar\": false, \"responsive\": true}                    ).then(function(){\n",
              "                            \n",
              "var gd = document.getElementById('5a06e07e-a543-44a8-b128-3ceca232a03a');\n",
              "var x = new MutationObserver(function (mutations, observer) {{\n",
              "        var display = window.getComputedStyle(gd).display;\n",
              "        if (!display || display === 'none') {{\n",
              "            console.log([gd, 'removed!']);\n",
              "            Plotly.purge(gd);\n",
              "            observer.disconnect();\n",
              "        }}\n",
              "}});\n",
              "\n",
              "// Listen for the removal of the full notebook cells\n",
              "var notebookContainer = gd.closest('#notebook-container');\n",
              "if (notebookContainer) {{\n",
              "    x.observe(notebookContainer, {childList: true});\n",
              "}}\n",
              "\n",
              "// Listen for the clearing of the current output cell\n",
              "var outputEl = gd.closest('.output');\n",
              "if (outputEl) {{\n",
              "    x.observe(outputEl, {childList: true});\n",
              "}}\n",
              "\n",
              "                        })                };                            </script>        </div>\n",
              "</body>\n",
              "</html>"
            ]
          },
          "metadata": {}
        }
      ],
      "source": [
        "arr_stacked = einops.rearrange(arr, \"b c h w -> c h (b w)\")\n",
        "print(arr_stacked.shape)\n",
        "display_array_as_img(arr_stacked)  # plotting all images, stacked in a row"
      ]
    },
    {
      "cell_type": "markdown",
      "metadata": {
        "id": "8dRVyRxK0kJ6"
      },
      "source": [
        "A series of images follow below, which have been created using einops functions performed on arr. You should work through these and try to produce each of the images yourself. This page also includes solutions, but you should only look at them after you've tried for at least five minutes.\n",
        "\n",
        "**Note - if you find you're comfortable with the first ~half of these, you can skip to later sections if you'd prefer, since these aren't particularly conceptually important.**"
      ]
    },
    {
      "cell_type": "markdown",
      "metadata": {
        "id": "M2H8an100kJ6"
      },
      "source": [
        "### Exercises - einops operations (match images)\n",
        "\n",
        "> ```yaml\n",
        "> Difficulty: 🔴🔴🔴⚪⚪\n",
        "> Importance: 🔵🔵⚪⚪⚪\n",
        ">\n",
        "> You should spend up to ~45 minutes on these exercises collectively.\n",
        "> If you think you get the general idea, then you can skip to the next section.\n",
        "> You shouldn't spend longer than ~10 mins per exercise.\n",
        "> ```"
      ]
    },
    {
      "cell_type": "markdown",
      "metadata": {
        "id": "YXxzHfGU0kJ6"
      },
      "source": [
        "#### (1) Column-stacking"
      ]
    },
    {
      "cell_type": "code",
      "execution_count": 7,
      "metadata": {
        "id": "ZOq9m2py0kJ6",
        "outputId": "e90f95bb-5501-40da-edcf-09d891b0bb38",
        "colab": {
          "base_uri": "https://localhost:8080/",
          "height": 917
        }
      },
      "outputs": [
        {
          "output_type": "display_data",
          "data": {
            "text/html": [
              "<html>\n",
              "<head><meta charset=\"utf-8\" /></head>\n",
              "<body>\n",
              "    <div>            <script src=\"https://cdnjs.cloudflare.com/ajax/libs/mathjax/2.7.5/MathJax.js?config=TeX-AMS-MML_SVG\"></script><script type=\"text/javascript\">if (window.MathJax && window.MathJax.Hub && window.MathJax.Hub.Config) {window.MathJax.Hub.Config({SVG: {font: \"STIX-Web\"}});}</script>                <script type=\"text/javascript\">window.PlotlyConfig = {MathJaxConfig: 'local'};</script>\n",
              "        <script charset=\"utf-8\" src=\"https://cdn.plot.ly/plotly-2.35.2.min.js\"></script>                <div id=\"5bf10bf7-fdc2-4d91-9e72-9187f58c0d42\" class=\"plotly-graph-div\" style=\"height:900px; width:150px;\"></div>            <script type=\"text/javascript\">                                    window.PLOTLYENV=window.PLOTLYENV || {};                                    if (document.getElementById(\"5bf10bf7-fdc2-4d91-9e72-9187f58c0d42\")) {                    Plotly.newPlot(                        \"5bf10bf7-fdc2-4d91-9e72-9187f58c0d42\",                        [{\"name\":\"0\",\"source\":\"data:image\\u002fpng;base64,iVBORw0KGgoAAAANSUhEUgAAAJYAAAOECAIAAADMlV+4AAAtfElEQVR4Xu3deVxUddvH8WuGfVhFBBVcQdxw18xdU3PPvcXU29wzrczd3M01yyX33Uwtl8w0l9wTNxRFFBVlEwEVEJCdAWaeP+z04BXnhCz1u85c7z+e1+v5\\u002fsqb\\u002fDjDDHNm1Bj9NwGjTIsHRg0nJI8TkscJyeOE5HFC8jgheZyQPE5IHickjxOSxwnJ44TkcULyOCF5nJA8TkgeJySPE5LHCcnjhORxQvI4IXmckDxOSB4nJI8TkscJyeOE5HFC8jgheZyQPE5IHickjxOSxwnJ44TkcULyOCF55nggK0ufc+HmQ9+Ah7ceRIVFx8XEJaVlZOmzc3XWlg521i5O9rWqlqtVpXybRt7N63maadXzZ1ejgo8OunQrdP2B8z+fuZGWkYXP8lPKQde7XcPPB3So4+WOzwiinTAg+PEX3+49e\\u002f0+PiiYLi18lk94r3qlsviAFKoJc3INs9cfWrL9eK7BgM9eh5Wl+fShXWcM667VavAZESQTpqZn9fxi9Zlrhbzx\\u002fV2XFj57Fo50tLPBBxTQ+67+IjXj7U+WF2M\\u002fADh28U6rYUsSktPwAQXEEqZlZLUf\\u002fc3lwFB8UGS3Q6K7jF2Zml6gB0RCIfakYtSCnf73HuH1VRXLOndtWae+d4XyZZxsrCyT0zJCo+Ku3A47fulOeqYe\\u002f9N5+AWFD5u3\\u002fafFo\\u002fCB2Cgl3HDg\\u002fK5jV\\u002fGaR+NaleeN7tm5eW2NJp\\u002fHJmkZWRsO\\u002fLFo29H4pFR8Jtl78nr7N2qO7NMaHwiMzMOZ0Ki42v1nZelz8AEAAGi1mvkf95o6pMs\\u002fPrCMTUgZNm\\u002f7kQuB+EBip7MK\\u002fvmr8mWc8IGoyHwvnLJqv1w\\u002fM612z8KR04d2\\u002fcd+AODqbH\\u002fo27GffdAeH0hS07Mmr9yPV4HRSHjxVsiB0zfwKlk9ZcC7HRvjVZ5Wq1kx8f3R\\u002fdrgA8muY1f\\u002f8TuuOGgknLrqAJ4k773dRCGGgu8mD2jTyBuvkkXbjuJJVAQSBj6M8g0IwSsAANjprL4Z\\u002fy5eC8bcTLtz\\u002fjCdtSU+AACAg2dvPnj0DK9CIpBww4HzeJJ8+n57d1cnvBZYBTfnqR91wSsAABgMxo0\\u002f\\u002f4FXIYmeMD1T\\u002f8PR\\u002fJ9ImJtpx\\u002fRvh9fXNPbdt2ysLPAKAAC7jl0t4g9g\\u002fx2iJzx0LiA5LQOvAADQvVW9otwEXyrloPugc1O8AgDA0+cvfr98F6\\u002fiET7h+QA8SXq3a4CnQunbviGeJAr\\u002f6+IQOqHRaPz9ShBeAQDATKvt1qoOXgvlrSY15B7UHPW9jSfxCJ0w8GFUYnI6XgEAoG41j9KOdngtFGtLixb1vPAKAACPnyXcDonGq2CETnjxluwrEs3reeKpCN7wqYInyYWbD\\u002fEkGKETKvyI5M06VfFUBE3lE165HYYnwQidMCA4Ek8SH8\\u002fivHKpVtXyeJIofA2CEDphsMzPRzQajXclN7wWQeXypS3MzfAKAADBj54J\\u002fuxQ3ITRsUlyFxVWcCsl9xiycMy02iruLngFAAB9dk7kkwS8ikTchOEx8XiSVCpXGk9FVsHNGU+SiCeyX4kIxE34+Knsn\\u002f2SeD22bGkHPEkeP03Ek0jETRgdJ\\u002fsbVzIJHfEkeRL\\u002fAk8iETdhbEIKniRuzrK3mEJzdbbHk0ThWhsRiJtQ4arOkrhm18FW9tdU+EpEIHDCF7K\\u002fcQ521ngqMjudFZ4kci+VCELchApX5SrcYgrNXif7xyI5NRNPIhE3ocJluwq3mEKztZH9NTP12XgSibgJM7JkE5qb5f+TlKIwM5O9gDEzixMWSnZOLp4k5mbF\\u002f2Ur\\u002fLFQ+EpEUPy\\u002fF8Ul12DEk6RkEsr+mgaj7FciAtmv+z9nkP\\u002fhssItptAUfs3cXNmvRATiJlT6PZWvW2g5ubL3lmbyN1ARiPvFWVrIJswpgZuFwq+pcB8rAnG\\u002fOEsL2TfOKdxiCk3h1+SEhST3GiwA5OTI3mIKLTdX9jGLjVVxvjZZ7MRNqPAbp\\u002fCsv9DkXl4GxWf9IhA3obOjDk+SlPTi\\u002f4mXwq9ZEj8MKkbiJlS4TDQlTfa3u9AUEpZykP3DJAKSCUvipQOFPxYKX4kIBE7oZIsnicKrwYX2LCEZT5IypWRfDRaBuAndy5TCk+Tp8+K\\u002fEuJpvGxC9xK4zqMYiZuwqkf+VwWC4i2m0BT+WHi4yf5hEoG4CT09yuBJEil\\u002fcVuhKfyaVd1lvxIRiJvQwdbG2SH\\u002fb4ehj+MM8q9jFEJOriFC5rJVRzsbhSujRCBuQgCo7Zn\\u002fWx0y9dmPn8neaAohPDpe7mekNSqL\\u002fmmlQidsVLMSniRBYTF4KoKgMNk3ETaoURFPghE6YZPalfEk8bsTjqciuHpb9ldrWEP2j5EgxE5YS\\u002fZtf35Bsr\\u002fphaDwq7Uo1veilgShE1ar6Cr3gN73Zog+O\\u002f+PZHtd6Zl6uQ84LVPKvmaVcngVjNAJAaBzMx88AQBASnrmOf9gvBbKqav3MmSuUevULP\\u002fPxRSK6Am7tpT9WIt9J\\u002f3xVCj7T8v+Oj1a18OTeERP2LFpLbmX6\\u002fac8HuRWtSfd8cnpe47eR2vAADgZK\\u002fjhMXATmfVv0MjvAIAQFpG1pq9Z\\u002fH6mlbtOS13sfagbm\\u002fKfbaXUERPCAAjerfGk2Th1qPRsUl4LbCImOfLdp7Aq4TKxzsTSNi8nmf96hXwCgAAaRlZg2ZuKdw1idk5uQNnbJZ7INO6oXfxfqhGySGQEADmjuqJJ8nZ6\\u002fc\\u002fX\\u002fYTXgvgk8W7Lt7K\\u002f2NOAWDxuD54EhWNhO+0qafw6T6rfzozacV+Y4EvmzcYjJ99\\u002feOmgxfwgaR\\u002fh8bN6or+jP4vNBICwIqJ7yv8jXXLdp7oP2V9Qd6OG5eY0mvCmlU\\u002fnsYHEmtLi0V0boJAKOGbdapOGdIZr3kcOH2jVt9Za\\u002faelXuEmZGVvXLP6dr9Zx\\u002f+4xY+y2PV5A8UXqoUEJm\\u002fpwIAsnNyWwxdfC0oAh+8ysHWplurOk19qlYuV9pOZ5WanhUeE3\\u002fldthR39sKl6m9NKhbs+\\u002fnDcWr2CglBIBnCcnNhiwKj87\\u002f5dkialK78tkNE+V+kiAsMnekL7k5O5xYPb4kPv2peT3PU+u+INcPyCUEgGoVXS9vn9agenG+EvtWkxq\\u002frxlfEp\\u002fC8C+glxAAyrk4Xto+9fMBHYr+MoKZVjvto64n1oynePt7idj3QuTK7bCp3x047\\u002f8AHxRMm0beyye8V7w36H8f7YQv\\u002fXHjweZffA+c9i\\u002fgO5501pa92zX4uH9buY\\u002fkpkUNCV\\u002fK1GdfDAg57\\u002f\\u002fgbnjMw8jYp89fpKZnZeqzLczN7Gysy5dxrOpRpq6XR8sGXq0beltbEngJooDUk9BkkXw4w\\u002fLihORxQvI4IXmckDxOSB4nJI8TkscJyeOE5HFC8jgheZyQPE5IHickjxOSxwnJ44TkcULyOCF5nJA8TkgeJySPE5LHCcnjhORxQvI4IXmckDxOSB4nJI8TkscJyeOE5HFC8jgheeZwoyHeGCl8KySPE5LHCcnjhORxQvI4IXmckDxOSB4nJI8TkscJyeOE5HFC8jgheZyQPE5IHickjxOSxwnJ44TkcULyOCF5nJA8TkgeJySPE5LHCcnjhORxQvI4IXmckDxOSB4nJI8TkscJyeOE5HFC8jgheZyQPHM8qNc7q8cfvvVH3uXsxI1tqzfKu1BkKrfCk3evon6qYRIJ0\\u002fWZ4\\u002fYswatamETCcXuWBj99hFe1UH\\u002fC3VePb\\u002fU9hFcVUXlC35CAYTvm4lVd1JzwbkzYO9+Nz8zW4wN1UW3CB88evb38k8T0ZHygOup8XngnOrTDt6OfJSfgAzVS4a3QLzyo7bIRJtIP1Jdwj9\\u002fxNl8Pf576Ah+ol3ruSI1G48xD6xb8tgUfqJ1KEkYnxQ7ZOufUvav4wASoIeF+\\u002f1Ojdi5ISFP\\u002fg8980U4YkxQ3Ye\\u002fyH6+dwAemhGrCHEPuylN75h7ekJKZjs9epdFojEYjXlWEXkKj0XjgxulZh9bfexKOz\\u002f6mtXfD2uWrrju3Hx+oCLEnFYcCzjWYP6D\\u002f+ikF6den4VsnPl\\u002fjYG2HD9SF0q0wKvFZrzUT8JofjUYzu8fIWd1HaDQafKY6lBIWkJuD8\\u002faP5nb2aY4PVEptCbvXbbVlyCxXe2d8oF7qSehi57Ti\\u002fYkfNu2CD9RODQk1Gs2Q5j2W9vvMxc4Jn5kA8gmbVvFZ9cHkN6rUxgcmg3BCL9cKC3p\\u002f8m7jjvjAxJBMWM214rSuHw1q1s1ca4bPTA+lhBqNpl2NxmPbvdezflszLbEfSpQcSgndnVzPTNiAV5PHf5bJ44TkcULyOCF5nJA8TkgeJySPE5LHCcnjhORxQvI4IXmckDxOSB4nJI8TkscJyeOE5HFC8jgheZyQPE5IHickjxOSxwnJ44TkcULyOCF5nJA8TkgeJySPE5LHCcnjhORxQvI4IXmckDxOSB4nJI8TkscJyeOE5HFC8jgheRrjJn+8MVL4VkgeJySPE5LHCcnjhORxQvI4IXmckDxOSB4nJI8TkscJyeOE5HFC8jgheZyQPE5IHickjxOSxwnJ44TkcULyOCF5nJA8TkgeJySPE5LHCcnjhORxQvI4IXmckDxOSB4nJI8TkscJyeOE5Gn8jZvwxkjhWyF5nJA8TkgeJySPE5LHCcnjhORxQvI4IXmckDxOSB4nJI8TkscJyeOE5HFC8jgheZyQPE5IHickjxOSxwnJ44TkcULyOCF5nJA8TkgeJySPE5LHCcnjhORxQvI4IXmckDxOSB4nJI8TkscJyeOE5Jnjgayo0LjbV8Lu34yMuP80Ljox7smLzHR9VoZeo9FY2Vjq7KxcPUqVrVDK08e9ZqNK9Vt4OTjb4l+CJvIfHRR2N+bQ1ovnDwU8DonFZ\\u002fK0Ztq6zaq+\\u002fV6TboOa2Tna4GNSCCe88ceDDXMOXz97Hx+8Dhtbqz4jWw\\u002f7sqtjaTt8RgTJhHExSUvH7Tnz8w18UFi2DjafLe3bd1QbfEABvYQXj97+8sPNKUnp+KDIWnSts3D3CHL3q8Qeke5afvLzHt+VRD8AuHj09kfNFz+NTMAHYqOUcOeyE99+sddgMOKD4hN2N2bUW8vin7zABwIjc0d6ar\\u002f\\u002flP7r8Zofz9rl3+hQ071KmVJl7Jxc7DLT9UnxqfFPk29dDLl54WFGWhb+F\\u002f6mWl2P7ZenWess8YGQaCSMfBg7oME85d99WwebD8d36DOydZnyTvhMkpOd+8fhW5u\\u002f+i34ZiQ+e1XnAU0X7BqOVyERSGg0Gke1W+Z\\u002f\\u002fgE+yKPvqDZjF\\u002fYu+LP1Ez9e+2rk9+kpmfggj2U\\u002fj2nXuwFexUPge+GJH68p9DMz105fP3D6+oEF7wcAnd5v8sO1L6vULIcP8vj60z36zGy8ikf0hAaDcePcw3jNY+GekYV7Plepetn1pye4VXDGB5JnUYkHN1\\u002fAq3hET+j7W+Cj4Kd4lQye1KlDv0Z4LTCXco6rfvvUxtYKH0h2LT+FJ\\u002fGInvAX+dtBtboe4xb1wetr8qrjPmRKZ7xKosPibl0KxatghE6Ylpxx8dgdvEqGTu+qNSuGr3\\u002fghLdd3Z3wKvnj8C08CaYYfgtKzpWT93Kyc\\u002fEKAAAVvFw79G+M10Kx1ll2HfgmXiU35B9JCULohNfO3MOT5K0+DbVaDV4Lq3WPeniSPAyMwpNghE5491oEniSN2lbHUxHUaeZpZp7\\u002fb0VGWpbgP2\\u002fL\\u002f+sWgSHXIHcL0Go1DVp64bUItFpNqTL2eJUkxqXgSSTiJnwWlajPysErAAA4lrbT2VvjtWhKuzngSZKeqvSDvf+cuAljIp7jSeLkUvyvsOfmGvAkKcZvuiVB3Muf6jar+nPwV\\u002fExSbHRSbHRiXExSXHRSXExSbHRSQrPAQotNjoJTxJbh2K+xRcvcRNaWJpX8nar5O2GD0pA\\u002fJMXyQlpeJUo3MeKQNw70n\\u002fT9XPBeJI4udgJfmUUJwQAOHPAH08S73oV8CQYTggJz5L\\u002fOByIV0mTt2rgSTCcEHavPJ2tz\\u002f\\u002fZCwC06OKDJ8GYesLnT1\\u002f8uOo0XiVVa5Wv3qAiXgVj6glXTNqvcElOz2Et8SQek0548ejtoz9cwavEwdm2z8jWeBWP6SZMeJY8d9gOvOYxaMLbOjvZF\\u002fTFYaIJc3MMU9\\u002fb8Pyp7EsQHp5lBn7REa9CMtGEi8b8oHBVHABMWT3A0toCr0IyxYRbFvx2cJPsJTkA0O\\u002fjts07i\\u002f5c4i8ml3Df2nNrZ\\u002fyC1zyq1ir\\u002fxTfv4lVgppXw0FbfJWN34zUPeyfdsoNjrGxo3IW+ZEIJD231nT\\u002f8e6NR9o1RZubaJXtH\\u002fTuvjRQjcV9sKl771p5bMna3Qj8AmLrmw6Yda+FVeCaRcNuio6unH8Trq8Yu7E3iifzfqTyh0WhcPmHfruUn8cGrRszq8dG0rnglQs0Jc7JzZ\\u002f9v6\\u002fE9fvjgVcNndh899x280qHahClJ6ZP6rrt25h8+0uSTBb2HTqd6+3tJnQmfPHr+addVYXdj8EEeGo1m4or33v+0PT6gRoUJg\\u002fzCP39ndcKzZHyQh5m5dvbWId0GNcMHBKkt4fE9fnOHbld+d661znLJ3lEtu9XFBzSpJ6HRaNww5\\u002fCmeUpvCQYAJxe7lUc+9WlaBR+QpZKEWRnZs4dsPbn3Oj54lYdnme+OfV6xmis+oEwNCeOfvPii5+og+bdBveTTtMqKw+MU3v5CFPmEwQGPP+++SuFy+pfa9204f+dwWj+\\u002fLiDaCa+duT+h99q05Ax88KrBkzp9uqSvRiP0u1sKjXDC33+6NmvwVoVLQAHA3MJs2toPew1vhQ9UhGrCgrzyYO+k+\\u002frAx+Jfjl1EJBPuXnHqm\\u002fE\\u002f4fVV7lVcVv72qfLnO6kDvYQ7l51YMWk\\u002fXl\\u002fl07TK8l\\u002fHObuq7cFnvogl\\u002fGn1mX\\u002fs17ZXg4W7R6jywWe+KCX8\\u002fadryz77Ea+v6j+m7eTvBgj+1uriRSah\\u002f\\u002fkHswZvVf5I4I\\u002fn9xo+oxte1Y5GwmdRiVPfXa\\u002fw\\u002fEGj0UxZPaD\\u002fmLb4wAQQSJitz5ncb11CrOyHv2g0mhmbBvei8C6kkkDgIsTN84\\u002fcuRqO1zzGLuxtsv1A\\u002fIT3b0RuW3wMr3n0HNpyyNQueDUlQic0Go0LRu3MzZH9UJ+6zTynrx+IVxMjdMLju\\u002f3uXo\\u002fAq8TG1mre90PNLczwgYkR9+FMbo5h7Qyl63c7vts4NioxNioRHxS3KrXKi\\u002fyDHnH\\u002fkoPff7o27f2NeP0vLNwzstP7TfAqDHHvSBU+iILlJWjCxyGx4n+uuSAETXj+V9E\\u002f1FwcgiYMvBSCJyZD0ITh92T\\u002fehGGCJowLiYJT0yGoAn1WUpX1LO8xH1eyApI0FshKzhOSB4nJI8TkscJyeOE5HFC8jgheZyQPE5IHickjxOSxwnJ44TkcULyOCF5nJA8TkgeJySPE5LHCcnjhORxQvI4IXmckDxOSB4nJI8TkscJyeOE5HFC8jgheZyQPE5IHickjxOSxwnJ0\\u002fhvUvrMeSY+vhWSxwnJ44TkcULyOCF5nJA8TkgeJySPE5LHCcnjhORxQvI4IXmckDxOSB4nJI8TkscJyeOE5HFC8jgheZyQPE5IHickjxOSxwnJ44TkcULyOCF5nJA8TkgeJySPE5LHCcnjhORxQvI4IXmckDxOSJ45HmjSZ2fefHjhdtiV4McBMfERsUnR6Zkp+uxMa0udnY2jg61z5XI1vMr71KrSpEn1dpYW1vjfp4z2RwcZjcard08evLDJ9\\u002fbRTH06Ps6PtaXuzVod32k5tFXd7lqNGu6ECCc8F3Bo\\u002faFZD6MC8UHBeJTxHNRpYp9WI7RaM3xGCsmEsUnRC3eOvhB4BB+8vmoedacMWN2gWit8QAe9hH73Tk\\u002ff9EFiShw+KCyNRjOi+6yRPWZrNBp8RgGxbwbH\\u002ffaMW9mlGPsBgNFo3Hh47vjV7+izM\\u002fEZBZQSnry+d+bmgTm52figOFwIPDJ5ff8S+sVLFJk70sDQy6OWtdPnZOGDVznoSjWq3ra+V4vSjmWd7Fz0OVmJKXFP4iOuBZ8NCvf7x0I9Ww6d9b8teBUbjYQp6UkfzKv\\u002f5PkjfJCHZ\\u002fnaQ7t9+Xbjd+UeYb5Iff7DyW9\\u002fOrs6LSMZn+WxeNRPHRu\\u002fi1eB0Ug4\\u002f\\u002fsRv1zYjFeJVqMd2WP2sO4zCvI8Ly4pZsr6\\u002frdCL+EDiYOu1KGFIQ62zvhAVP\\u002f83\\u002fyfuxtx\\u002fZCv7J2bpbnVqs+OjugxqyD9AKCMU\\u002fmNk851fuMDfCBJTk\\u002fcdmwxXgVWoP\\u002fs\\u002f9aGw3OMxvzvKjQazZyh25vV7oQPFJmbWcz5aHtD79b4QPLTmdXF+6C3RImeMDQmyDfwN7xKPmj\\u002fWacm7+O1ACzMLReO2GNtqcMHAACQlZ1xwm8PXkUlekKFb4FOdi4je8zGa4GVcSo\\u002f8O0JeJUcvfIDnkQldEKD0XD86m68SoZ2nW6vc8Lr6+jTagSeJHcfXU\\u002fNeIFXIQmdMCjcLyElFq8AAGBuZtGt2SC8viY35wreFerhFQAAjEbj3YjreBWS0AkvB53Ak6S5T2cnOxe8vj5vj\\u002fwTAkDE0\\u002ft4EpLQCQNDL+NJ0qJOVzwVSmnHsniSJKcl4ElIQr9q\\u002f0bN9pbmViHRt2OeR6DnFXWqNM37\\u002fxaaztoeT5LUTKUf4ohD6ISDO00a3GkSAKRnpoRE33kYFRgSffthVGBUXKiXRx38TxdKemYKniS2VrJ1hSJ0wr\\u002forO3rejar69kMHxRZdFwYniRUfsYm9PfCf0FQxDU8SbzcffAkJJNOGBx5U+7VD63WrFblJngVkkkn\\u002fOHkt3iSNKnxlo2VLV6FZLoJbz68cOzqLrxKerYciidRmWjCqLjQKRvelXsBpKJrtfYN++JVVKaY8FbIxWFLWj1\\u002f8RQfSD7rt9TczAKvoqLxpKK4JCQ\\u002f23h43oE\\u002fNhgMufhM0vXNgW0b9MKrwEwlYWhM0OFL2w+cW5+elYrP8vCuUO\\u002fLQRvwKja1JczUp5ubWeQacpLTEl+kPQ+Juh0Ucc0\\u002f+Fzw4wD8j\\u002f5NjYoN14w\\u002fIfc6sLDUlnDNwS93n1qB1wJoXa\\u002fH\\u002fGE77Wwc8YHw1JbwaUIknv6Jztr+s35L+7UZjQ+IMOmEluZWfduMHtbty1L2ZfAZHWp7UiH3A7N85eRm3310\\u002fcilHVFxofiMDhqXAheQPjuz2RgbvBaARqNpW7\\u002fXyB6z5a7DEJmqboVPXudeNC+j0Xj25sEB8xvM3jYkIysNH4tNVQlf6xvh3xmNxiOXdgz8qnFo9B18JjBVPZx58vyRlYVNzUqNqlesX9HNu2ypCjbWdumZKYkpcc9fPL358MLNEN9\\u002ffBNhxNP7Q5e03DTpPJU7VVV9L3yR+lxnbW9hbokPJFnZGRduHdl4eG5oTBA+e1Vpx7Jbp\\u002fh6lPHEB+JRVcICMhgNx67sWrJnrPK71Kp51N01099MK\\u002fodlaq+FxaQVqPt1mzQ99OvVipbHZ\\u002fl8TAq8IffZV8TFocpJnypctkaO6ZdqVy2Bj7IY+PhuXFJMXgVjOkmBAB7ndOKcYcVrlTL1KcrvC9HECadEAAquHopv7p00HezwouLIjD1hADQoVG\\u002f2vIXqz1LeHwzxBevIuGEAACjes7FUx635d\\u002faIQJOCADQtGYHhTdX3A6\\u002fiieRcEIAAHMzizdqtserpNCf1Pfv4IR\\u002fUnirlODvUuOEfypl74onSWrGC4PRgFdhcMI\\u002flXZww5PEaDQqvIftP8cJ\\u002f6R87a+luRWehCH0z3BzDTlPn0dGxYdFx4VFx4VFxYVGxYVFx4ftn3fXxbEc\\u002fqeLRuE9vVqtmcgf5y1uwukbPzjlvz\\u002fXkIMPAAIe+nZo3B+vRfMkPgJPElcndzyJRNw7UmsrXb79QPGTMArtQdQtPEkquXnjSSTiJqxarhaeJBdu\\u002f1a8DxGNRqN\\u002f8Dm8SqqJ\\u002ffK9uAnryL+z\\u002fvmLp9funcZrEQSGXnqWGIVXSZPq7fAkEnET1qrUWGdlh1fJvnPr8FQECtfwW1vqGlZvg1eRiJvQwtyyZd1ueJWcDzgU\\u002fuQeXgslKOLamRs\\u002f41XSrkFvhT9JIhA3IQB0fXMgniQGo2Hl\\u002fsl4fX36nKwF349U+M7at80oPAlG6IQt6nSt4OqFV8mFwCMKn5NYQIt3jVF431qj6m3F\\u002f1tIhE6o1Wg\\u002f6jINr3l8tXOkQoB\\u002ftOrAlEO+W\\u002fEq0Wq0n\\u002fYl8AnPQicEgB4thlTzqItXSUZW2phvOyp82p4cfU7WvB3Ddhxfig\\u002fy6N9ujI\\u002f8yxfiED2hVqOd9b8tChdzJqXGD1\\u002faevuxxQrfz5CgcL\\u002f\\u002fLWyqcPsDAE93n3F9CNwEgcqlwNuOLlp9cDpeX1WlXM0hnad0bjpA7gfWRqPxVujFPadWnr5xQO7jSl6y1znt\\u002fPKawrdhodBICAAzNg9U+KSfv+is7BpWb9OgWisXx3Kl7MuYa83TMlOePH8U\\u002fPjm9ftnFZ6\\u002f\\u002f0VnZbdm\\u002fO8l8ZF9JYRMwuwc\\u002fdQN754LOIQPipWtjcPysb828hb6uTwi+vfCv1iYWy4ZvU\\u002fhmWLRuTlX2DrFl1Y\\u002fIJQQAMzNLOYP2zm+\\u002fzKFRzeF1qbeO7tm+Hu5F88n1f6byNyR5hX8OGDu9qHBkTfxQaGUdiw7rs+iHs2H4AMiSCYEAIPRcPTKD5sOzyvKJx04O7i91+6TAR3HC\\u002f5TUGVUE75kMBouB5349eK2S3eOF\\u002fwKJUsL6zdrdXy7yXvtG\\u002fUT+aKYAqKd8C\\u002fZOfpbIRfvRPg9iAyIjg+PTYxKzUzO0mcAgLWVzs7awbWUh7tLFU93nzpV3\\u002fSp0pTKx8UWhEoSmjJKj0hZvjgheZyQPE5IHickjxOSxwnJ44TkcULyOCF5nJA8TkgeJySPE5LHCcnjhORxQvI4IXmckDxOSB4nJI8TkscJyeOE5HFC8jgheZyQPE5IHickjxOSxwnJ44TkcULyOCF5nJA8TkieZpPRH2+MFL4VkscJyeOE5HFC8jgheZyQPE5IHickjxOSxwnJ44TkcULyOCF5nJA8TkgeJySPE5LHCcnjhORxQvI4IXmckDxOSB4nJI8TkscJyeOE5HFC8jgheZyQPE5IHickjxOSxwnJ44TkcULyOCF5nJA8TkieOR7U7ty6\\u002fbvGLMIrwNLHR0t5uOGVAtO6FcY+jNw3cTleiTOhhIac3M2DZurTM\\u002fEBcSaU8LcFW8Kv3sErfaaSMOJa0JGvNuNVFUwiYXZG1pZBMw05ufhAFUwi4d6Jy58GP8KrWqg\\u002fYdCJy+fW7sOriqg8YVpC8vahc\\u002fGqLipP+MPoBUkxcXhVFzUnvLzzt+v7TuFVdVSbMCHy6Z5xS\\u002fGqRupMaDQatw2ZnfEiFR+okToTnvx21\\u002f2z1\\u002fGqUipMGH0n9OCXa\\u002fAKoDU3c\\u002fOuhFf61JYwR5+9ZeCMnCw9PgDo9uUw9zpeeKVPbQkPzVz3+NYDvAJUalSz+4zheFUFVSUM8Q04sWwnXgEsrC2Hfj9Pa26GD1RBPQkzU9K3DJ5lNBjwAUDvhWPL16qKV7VQT8I9ny6ND4\\u002fGK4B3m0YdPh+AVxVRScKbv5y7tP0wXgGs7XVDt8\\u002fRaDT4QEXUkDD5WcLOkV\\u002fhFQAA3ls+oXTl8nhVFzUk3DF8XkpcIl4B6nZv1XJYL7yqDvmEf2z8OfDIBbwC2JV2HLxpJl7ViHbCuNCovV98i1cAABi4frpj2dJ4VSPCCQ25hi2DZmalZeADgKYDOjfq1wGvKkU44bFFW0MvB+IVwMnddcDqKXhVL6oJI2\\u002fcPzxvE14BAGDIllm6Ug54VS+SCbMzsjYPnJGbnYMPANp+3K92p2Z4VTWSCfdPWfXkXjheAcp4evT7+nO8qh29hPdOXT27+ie8Ami02mHfz7OytcEHakcsYXpi8tYhc4xGIz4A6DRpsGfzeng1AcQS\\u002fjBmcVJ0LF4B3Ot49Zw3Gq+mgVLCq7uPX\\u002fvxBF4BzC0thu2cb25pgQ9MA5mEiVHPdn+yGK8AANBjzqgK9bzxajJoJDQajduGzElPSsEHAJ7N6nae\\u002fD+8mhIaCU+v3HPvtB9eASx11kN3zNWa0fivKCEE\\u002fuNj7ob9PO07vAIAQL+ln7lWq4hXEyN6wtzsnC2DZmZn5nNRYa2OTduO6Y9X0yN6wl9nr4+8cR+vADon+yFbZ6v7iooCEjph6KVbx5fuwCsAAHzw3WSiHxNT7MRNmJWavmXQTENuPhcVNuzz1psDu+LVVImb8MfPv4kLy+eiQgc350EbvsSrCRM04a3Df\\u002fhu+QWvAAAweOMMOxcnvJowEROmxCXuGD4frwAA0OKjd+q90wavpk3EhDuGz0+JTcArQOlK5d5bMRGvJk+4hL5bfrn163m8Amg0miHb5tg42OIDk6fZZPTH23\\u002fq2w4f5\\u002fuztP9QlaY+06\\u002fk\\u002f9xGBMLdCtnr4oTkcULyOCF5nJA8TkgeJyRPuOeFJWpdv8k3DpzGKwDwX3LA\\u002fkOckDxOSB4nJI8TkscJyeOE5HFC8jgheZyQPE5IHickjxOSxwnJ44TkcULyTOslX1XiWyF5nJA8TkgeJySPE5LHCcnjhORxQvI4IXmckDxOSB4nJI8TkscJyeOE5HFC8jgheZyQPE5IHickjxOSxwnJ44TkcULyOCF5nJA8TkgeJySPE5LHCcnjhORxQvI4IXmckDxOSB4nJI8TkmcONxrijZHCt0LyOCF5nJA8TkgeJySPE5LHCcnjhORxQvI4IXmckDxOSB4nJI8TkscJyeOE5HFC8jgheZyQPE5IHickjxOSxwnJ44TkcULyOCF5nJA8TkgeJySPE5LHCcnjhORxQvI4IXmckDxOSB4nJI8TkscJyeOE5JnjQXgnvv96\\u002f8rJeC0ZEzeerd6oLV4FQ+9WGBl8E0+mjWDC+5zwFcQSZmWkPYt8gFfTRixh1INbRoMBr6aNWMJH92\\u002fgyeQRS\\u002fiYH8v8DbGE\\u002fFjm7yg9L8zJ1seEBeEVAADqte7RceAXeC2yCt718SQeSgljwoJysvV4BQAAnxZdxH8OXkIo3ZEq3ItWrtUETyaDUkK5xzLmFpYe1eri1WRQSij3jMLDu565hSVeTQaZhEaDIephIF4BAKBK7TfwZErIJHz2+GFWeipeAQCgcm3T\\u002fUYIhBJG3sv\\u002fXhRM+7EMUEoo81jGSmdXrnINvJoS8gkr1Wyk0ZL5rygJZP7jH8s8Kaxi2veiQCVhwtPI1BfP8QoAJv9YBqgk5J\\u002fLKKCSMP+Ho3aOpV3cq+DVxBBJKPNYhu9FgcorFbIJ\\u002f3Yvmp6cGHHvevgdv4i71xKeRKalJKa\\u002fSMjKSLO01lnbOZQuW9G1glelWo29G7T28K6n0WjQv04RgYQpiXGJz6LwCgB5boVZ6ak3zh68emzXvaunDIbcV\\u002f8pAIDM9JTM9JSk2OjQwMuXf9sJAM5lK77R+YM2fUZRvyvWbPI34k0wQVd+X\\u002fFJJ7wCAMCy358AwLFtiy8c3KTPTMfHBaA1M3+j0\\u002fu9xnxVulwlfEYEgVuh3DNCnb3TyZ3fnN23tnDxXjLk5lw5+sONMz\\u002f3GDGr0+BJFH9KQOArlnuNKT0l6cTOZUXp9xd9ZvqB76Yu\\u002f+TtlIRYfCY8AgnlHssUu3t+pxcMfiM28iE+EJvoCTPTU+Ieh+C1xDx\\u002f8mjxsJbRoXfwgcBE\\u002f174ODjAaHyNB1xlPDyr1W\\u002fp4V2vlKu7ta2D1swsKz014Wnkk4j7IQEXo0Nu43\\u002fhb1ISYleM7Txt+2Vntwr4TEiiJyzgvaiFlU3LnkPb9B3l7lUHn+URHx3u++vWs3vXpCcn4rM8kmKjv\\u002fus+\\u002fTvr1pYWuMz8Yh+R6rw09G\\u002fNO08YPGR8AFTViv3AwAX9yq9Pp6\\u002f6Newtv0+Vn5eH\\u002fUwcN\\u002fyiXgVkvgJ8384+pK1zn7MNweHL9jl4OyGz+Tp7J0+nLZ2zLKDVjo7fJbH2b1rQgJ88SoeoRPm6LOehN\\u002fDq8Te2XXa9ssN2vbCBwVTv23PL9aetLF1wAd57Pn6M\\u002fHfSCV0wicR9w25OXgFAAAbW4cJ606V96yND15H1TpvjlqyV6s1wweSyPs3bp77Ba+CEf0HbDn6rPiY8Pjo8LjosD\\u002f\\u002fb0x4fHT4oC83NHn7PfxPF8rB1dOPbluEV4lXvRZTtgp9dyp6wn9BTrZ+Rm\\u002fv508e4QPJ\\u002fJ\\u002fvl61UHa\\u002fCEPqO9N9hbmHZfcQsvOZx4\\u002fQBPImEEwIANO0ywNbBGa+S275H8SQSTggAYGFpXb9tT7xKHt3zl3tTnAg44Z98WnTBkyRbn1mQn8z9Vzjhn5SvR42LCsWTMDjhn0qXr6zww5r4mAg8CYMT\\u002fr9Srh54kqQlJ+BJGJzw\\u002f9k5lsaTRJ+RhidhcML\\u002fZ2FtgycJPyKlwZibz9WLL1lYydb9z3HC\\u002f6fPysCTxMpahydhcML\\u002fp3D5moNLWTwJQ9wLL3L0WSmJcSmJsckJsSkJsSlJcSkJsckJsamJcW92Hdik0\\u002fv4Xygao9GYGBeNV4nI19GIm3DpiDbhd67iFQAAbB2diz3hs8gHOfosvErcKnrjSRji3pGW8aiKJ8mje\\u002f54KrJHd6\\u002fjSWJprStbRdy384ubUOEP\\u002fpOI+xmpL\\u002fBaNEGXT+BJUrl2E4VX9v9z4iZUeO+g0WAIOHcIr0WQo89SeEXJp3lnPIlE3IRVfZoqXCfod2IPnorA\\u002f8wBuffyA0C9Vj3wJBJxE9o5uVSW\\u002f2Suu1dPJcXF4LVQjEbjsW2L8SqpXKtxES+yKmniJgSAhu1640liyM35dcMcvBbKxV+3Kbwc2Kr3CDwJRuiEzboP1prJPu25eGirwlWmBZQUG71vhexV205lyjfv\\u002fj+8CkbohI4u5Rq174tXicGQu232kGx9Jj4osGx95tqJfRTeX9Hlo2nmllZ4FYzQCQGg+\\u002fCZCu+8DQ\\u002fy2zF3GF4LJkeftXZin\\u002fAgP3wgcfeq07bfaLyKR\\u002fZ3RxDlPWu36DEEr3lcPb57x7xhr\\u002ftiUOqL58vHdrpz8Rg+kGi1ZoOmr1e4GxeH6AkBoP\\u002fnyxxLK\\u002f2U2ffQ1mWj2ilcy4vcuXR83gf1H\\u002fifxwd5dB8x07Nec7wKicbV3EFXfl85rovyO1TMLa3a9B3defAkJ1d3fAYAAEaj8Z7fqRM7vr579SQ+e5VP887jVh4R+ScyedFICAX+aws1Gk3FGg1rN+vkUr6yg7ObpbUuMz0lPibicfDNe36nC\\u002fJUsmKNhpM3nVe4FEo0ZBICwM\\u002ffTTu2XfY5eLFw9\\u002fQZv+6k8v22aAh8L\\u002fxLn3GL3hk1B6\\u002fFx6t+y8lbLtDqB7QSAkCPkbNHLvrRWmePD4rsrffHfbHupM7eCR8Ij9Id6V+ex0TsmD\\u002f8nt9pfFAoLu5VPpy6VvCXIxSQTPhS4IUjv6yb+Tg4AB8UmIOzW5ePprbtP4b031RCOOFLIQG+Fw5uDrxwROHVIsTC0rp6k3Yt3xlav21PM3MLfEwN+YQvGQy5EUHXwu9cfXT\\u002fRlxUWOKzx+kpSfrMdKPRaGVja6Wzc3Ip51qxWtnKNbzqNvdq0JLEB8oUkEoSmjJij0jZ33FC8jgheZyQPE5IHickjxOSxwnJ44TkcULyOCF5nJA8TkgeJySPE5LHCcnjhORxQvI4IXmckDxOSB4nJI8TkscJyeOE5HFC8jgheZyQPE5IHickjxOSxwnJ44TkcULyOCF5nJC8\\u002fwPXjI8ZXt5tTAAAAABJRU5ErkJggg==\",\"type\":\"image\",\"xaxis\":\"x\",\"yaxis\":\"y\",\"hovertemplate\":\"x: %{x}\\u003cbr\\u003ey: %{y}\\u003cbr\\u003ecolor: [%{z[0]}, %{z[1]}, %{z[2]}]\\u003cextra\\u003e\\u003c\\u002fextra\\u003e\"}],                        {\"template\":{\"data\":{\"histogram2dcontour\":[{\"type\":\"histogram2dcontour\",\"colorbar\":{\"outlinewidth\":0,\"ticks\":\"\"},\"colorscale\":[[0.0,\"#0d0887\"],[0.1111111111111111,\"#46039f\"],[0.2222222222222222,\"#7201a8\"],[0.3333333333333333,\"#9c179e\"],[0.4444444444444444,\"#bd3786\"],[0.5555555555555556,\"#d8576b\"],[0.6666666666666666,\"#ed7953\"],[0.7777777777777778,\"#fb9f3a\"],[0.8888888888888888,\"#fdca26\"],[1.0,\"#f0f921\"]]}],\"choropleth\":[{\"type\":\"choropleth\",\"colorbar\":{\"outlinewidth\":0,\"ticks\":\"\"}}],\"histogram2d\":[{\"type\":\"histogram2d\",\"colorbar\":{\"outlinewidth\":0,\"ticks\":\"\"},\"colorscale\":[[0.0,\"#0d0887\"],[0.1111111111111111,\"#46039f\"],[0.2222222222222222,\"#7201a8\"],[0.3333333333333333,\"#9c179e\"],[0.4444444444444444,\"#bd3786\"],[0.5555555555555556,\"#d8576b\"],[0.6666666666666666,\"#ed7953\"],[0.7777777777777778,\"#fb9f3a\"],[0.8888888888888888,\"#fdca26\"],[1.0,\"#f0f921\"]]}],\"heatmap\":[{\"type\":\"heatmap\",\"colorbar\":{\"outlinewidth\":0,\"ticks\":\"\"},\"colorscale\":[[0.0,\"#0d0887\"],[0.1111111111111111,\"#46039f\"],[0.2222222222222222,\"#7201a8\"],[0.3333333333333333,\"#9c179e\"],[0.4444444444444444,\"#bd3786\"],[0.5555555555555556,\"#d8576b\"],[0.6666666666666666,\"#ed7953\"],[0.7777777777777778,\"#fb9f3a\"],[0.8888888888888888,\"#fdca26\"],[1.0,\"#f0f921\"]]}],\"heatmapgl\":[{\"type\":\"heatmapgl\",\"colorbar\":{\"outlinewidth\":0,\"ticks\":\"\"},\"colorscale\":[[0.0,\"#0d0887\"],[0.1111111111111111,\"#46039f\"],[0.2222222222222222,\"#7201a8\"],[0.3333333333333333,\"#9c179e\"],[0.4444444444444444,\"#bd3786\"],[0.5555555555555556,\"#d8576b\"],[0.6666666666666666,\"#ed7953\"],[0.7777777777777778,\"#fb9f3a\"],[0.8888888888888888,\"#fdca26\"],[1.0,\"#f0f921\"]]}],\"contourcarpet\":[{\"type\":\"contourcarpet\",\"colorbar\":{\"outlinewidth\":0,\"ticks\":\"\"}}],\"contour\":[{\"type\":\"contour\",\"colorbar\":{\"outlinewidth\":0,\"ticks\":\"\"},\"colorscale\":[[0.0,\"#0d0887\"],[0.1111111111111111,\"#46039f\"],[0.2222222222222222,\"#7201a8\"],[0.3333333333333333,\"#9c179e\"],[0.4444444444444444,\"#bd3786\"],[0.5555555555555556,\"#d8576b\"],[0.6666666666666666,\"#ed7953\"],[0.7777777777777778,\"#fb9f3a\"],[0.8888888888888888,\"#fdca26\"],[1.0,\"#f0f921\"]]}],\"surface\":[{\"type\":\"surface\",\"colorbar\":{\"outlinewidth\":0,\"ticks\":\"\"},\"colorscale\":[[0.0,\"#0d0887\"],[0.1111111111111111,\"#46039f\"],[0.2222222222222222,\"#7201a8\"],[0.3333333333333333,\"#9c179e\"],[0.4444444444444444,\"#bd3786\"],[0.5555555555555556,\"#d8576b\"],[0.6666666666666666,\"#ed7953\"],[0.7777777777777778,\"#fb9f3a\"],[0.8888888888888888,\"#fdca26\"],[1.0,\"#f0f921\"]]}],\"mesh3d\":[{\"type\":\"mesh3d\",\"colorbar\":{\"outlinewidth\":0,\"ticks\":\"\"}}],\"scatter\":[{\"fillpattern\":{\"fillmode\":\"overlay\",\"size\":10,\"solidity\":0.2},\"type\":\"scatter\"}],\"parcoords\":[{\"type\":\"parcoords\",\"line\":{\"colorbar\":{\"outlinewidth\":0,\"ticks\":\"\"}}}],\"scatterpolargl\":[{\"type\":\"scatterpolargl\",\"marker\":{\"colorbar\":{\"outlinewidth\":0,\"ticks\":\"\"}}}],\"bar\":[{\"error_x\":{\"color\":\"#2a3f5f\"},\"error_y\":{\"color\":\"#2a3f5f\"},\"marker\":{\"line\":{\"color\":\"#E5ECF6\",\"width\":0.5},\"pattern\":{\"fillmode\":\"overlay\",\"size\":10,\"solidity\":0.2}},\"type\":\"bar\"}],\"scattergeo\":[{\"type\":\"scattergeo\",\"marker\":{\"colorbar\":{\"outlinewidth\":0,\"ticks\":\"\"}}}],\"scatterpolar\":[{\"type\":\"scatterpolar\",\"marker\":{\"colorbar\":{\"outlinewidth\":0,\"ticks\":\"\"}}}],\"histogram\":[{\"marker\":{\"pattern\":{\"fillmode\":\"overlay\",\"size\":10,\"solidity\":0.2}},\"type\":\"histogram\"}],\"scattergl\":[{\"type\":\"scattergl\",\"marker\":{\"colorbar\":{\"outlinewidth\":0,\"ticks\":\"\"}}}],\"scatter3d\":[{\"type\":\"scatter3d\",\"line\":{\"colorbar\":{\"outlinewidth\":0,\"ticks\":\"\"}},\"marker\":{\"colorbar\":{\"outlinewidth\":0,\"ticks\":\"\"}}}],\"scattermapbox\":[{\"type\":\"scattermapbox\",\"marker\":{\"colorbar\":{\"outlinewidth\":0,\"ticks\":\"\"}}}],\"scatterternary\":[{\"type\":\"scatterternary\",\"marker\":{\"colorbar\":{\"outlinewidth\":0,\"ticks\":\"\"}}}],\"scattercarpet\":[{\"type\":\"scattercarpet\",\"marker\":{\"colorbar\":{\"outlinewidth\":0,\"ticks\":\"\"}}}],\"carpet\":[{\"aaxis\":{\"endlinecolor\":\"#2a3f5f\",\"gridcolor\":\"white\",\"linecolor\":\"white\",\"minorgridcolor\":\"white\",\"startlinecolor\":\"#2a3f5f\"},\"baxis\":{\"endlinecolor\":\"#2a3f5f\",\"gridcolor\":\"white\",\"linecolor\":\"white\",\"minorgridcolor\":\"white\",\"startlinecolor\":\"#2a3f5f\"},\"type\":\"carpet\"}],\"table\":[{\"cells\":{\"fill\":{\"color\":\"#EBF0F8\"},\"line\":{\"color\":\"white\"}},\"header\":{\"fill\":{\"color\":\"#C8D4E3\"},\"line\":{\"color\":\"white\"}},\"type\":\"table\"}],\"barpolar\":[{\"marker\":{\"line\":{\"color\":\"#E5ECF6\",\"width\":0.5},\"pattern\":{\"fillmode\":\"overlay\",\"size\":10,\"solidity\":0.2}},\"type\":\"barpolar\"}],\"pie\":[{\"automargin\":true,\"type\":\"pie\"}]},\"layout\":{\"autotypenumbers\":\"strict\",\"colorway\":[\"#636efa\",\"#EF553B\",\"#00cc96\",\"#ab63fa\",\"#FFA15A\",\"#19d3f3\",\"#FF6692\",\"#B6E880\",\"#FF97FF\",\"#FECB52\"],\"font\":{\"color\":\"#2a3f5f\"},\"hovermode\":\"closest\",\"hoverlabel\":{\"align\":\"left\"},\"paper_bgcolor\":\"white\",\"plot_bgcolor\":\"#E5ECF6\",\"polar\":{\"bgcolor\":\"#E5ECF6\",\"angularaxis\":{\"gridcolor\":\"white\",\"linecolor\":\"white\",\"ticks\":\"\"},\"radialaxis\":{\"gridcolor\":\"white\",\"linecolor\":\"white\",\"ticks\":\"\"}},\"ternary\":{\"bgcolor\":\"#E5ECF6\",\"aaxis\":{\"gridcolor\":\"white\",\"linecolor\":\"white\",\"ticks\":\"\"},\"baxis\":{\"gridcolor\":\"white\",\"linecolor\":\"white\",\"ticks\":\"\"},\"caxis\":{\"gridcolor\":\"white\",\"linecolor\":\"white\",\"ticks\":\"\"}},\"coloraxis\":{\"colorbar\":{\"outlinewidth\":0,\"ticks\":\"\"}},\"colorscale\":{\"sequential\":[[0.0,\"#0d0887\"],[0.1111111111111111,\"#46039f\"],[0.2222222222222222,\"#7201a8\"],[0.3333333333333333,\"#9c179e\"],[0.4444444444444444,\"#bd3786\"],[0.5555555555555556,\"#d8576b\"],[0.6666666666666666,\"#ed7953\"],[0.7777777777777778,\"#fb9f3a\"],[0.8888888888888888,\"#fdca26\"],[1.0,\"#f0f921\"]],\"sequentialminus\":[[0.0,\"#0d0887\"],[0.1111111111111111,\"#46039f\"],[0.2222222222222222,\"#7201a8\"],[0.3333333333333333,\"#9c179e\"],[0.4444444444444444,\"#bd3786\"],[0.5555555555555556,\"#d8576b\"],[0.6666666666666666,\"#ed7953\"],[0.7777777777777778,\"#fb9f3a\"],[0.8888888888888888,\"#fdca26\"],[1.0,\"#f0f921\"]],\"diverging\":[[0,\"#8e0152\"],[0.1,\"#c51b7d\"],[0.2,\"#de77ae\"],[0.3,\"#f1b6da\"],[0.4,\"#fde0ef\"],[0.5,\"#f7f7f7\"],[0.6,\"#e6f5d0\"],[0.7,\"#b8e186\"],[0.8,\"#7fbc41\"],[0.9,\"#4d9221\"],[1,\"#276419\"]]},\"xaxis\":{\"gridcolor\":\"white\",\"linecolor\":\"white\",\"ticks\":\"\",\"title\":{\"standoff\":15},\"zerolinecolor\":\"white\",\"automargin\":true,\"zerolinewidth\":2},\"yaxis\":{\"gridcolor\":\"white\",\"linecolor\":\"white\",\"ticks\":\"\",\"title\":{\"standoff\":15},\"zerolinecolor\":\"white\",\"automargin\":true,\"zerolinewidth\":2},\"scene\":{\"xaxis\":{\"backgroundcolor\":\"#E5ECF6\",\"gridcolor\":\"white\",\"linecolor\":\"white\",\"showbackground\":true,\"ticks\":\"\",\"zerolinecolor\":\"white\",\"gridwidth\":2},\"yaxis\":{\"backgroundcolor\":\"#E5ECF6\",\"gridcolor\":\"white\",\"linecolor\":\"white\",\"showbackground\":true,\"ticks\":\"\",\"zerolinecolor\":\"white\",\"gridwidth\":2},\"zaxis\":{\"backgroundcolor\":\"#E5ECF6\",\"gridcolor\":\"white\",\"linecolor\":\"white\",\"showbackground\":true,\"ticks\":\"\",\"zerolinecolor\":\"white\",\"gridwidth\":2}},\"shapedefaults\":{\"line\":{\"color\":\"#2a3f5f\"}},\"annotationdefaults\":{\"arrowcolor\":\"#2a3f5f\",\"arrowhead\":0,\"arrowwidth\":1},\"geo\":{\"bgcolor\":\"white\",\"landcolor\":\"#E5ECF6\",\"subunitcolor\":\"white\",\"showland\":true,\"showlakes\":true,\"lakecolor\":\"white\"},\"title\":{\"x\":0.05},\"mapbox\":{\"style\":\"light\"}}},\"xaxis\":{\"anchor\":\"y\",\"domain\":[0.0,1.0],\"showticklabels\":false},\"yaxis\":{\"anchor\":\"x\",\"domain\":[0.0,1.0],\"showticklabels\":false},\"margin\":{\"t\":0,\"b\":0,\"l\":0,\"r\":0},\"coloraxis\":{\"showscale\":false},\"height\":900,\"width\":150},                        {\"displayModeBar\": false, \"responsive\": true}                    ).then(function(){\n",
              "                            \n",
              "var gd = document.getElementById('5bf10bf7-fdc2-4d91-9e72-9187f58c0d42');\n",
              "var x = new MutationObserver(function (mutations, observer) {{\n",
              "        var display = window.getComputedStyle(gd).display;\n",
              "        if (!display || display === 'none') {{\n",
              "            console.log([gd, 'removed!']);\n",
              "            Plotly.purge(gd);\n",
              "            observer.disconnect();\n",
              "        }}\n",
              "}});\n",
              "\n",
              "// Listen for the removal of the full notebook cells\n",
              "var notebookContainer = gd.closest('#notebook-container');\n",
              "if (notebookContainer) {{\n",
              "    x.observe(notebookContainer, {childList: true});\n",
              "}}\n",
              "\n",
              "// Listen for the clearing of the current output cell\n",
              "var outputEl = gd.closest('.output');\n",
              "if (outputEl) {{\n",
              "    x.observe(outputEl, {childList: true});\n",
              "}}\n",
              "\n",
              "                        })                };                            </script>        </div>\n",
              "</body>\n",
              "</html>"
            ]
          },
          "metadata": {}
        }
      ],
      "source": [
        "display_soln_array_as_img(1)"
      ]
    },
    {
      "cell_type": "code",
      "execution_count": 10,
      "metadata": {
        "id": "XvpIDlPO0kJ6",
        "outputId": "aa035d3c-98eb-45ed-e929-017e458b892b",
        "colab": {
          "base_uri": "https://localhost:8080/",
          "height": 917
        }
      },
      "outputs": [
        {
          "output_type": "display_data",
          "data": {
            "text/html": [
              "<html>\n",
              "<head><meta charset=\"utf-8\" /></head>\n",
              "<body>\n",
              "    <div>            <script src=\"https://cdnjs.cloudflare.com/ajax/libs/mathjax/2.7.5/MathJax.js?config=TeX-AMS-MML_SVG\"></script><script type=\"text/javascript\">if (window.MathJax && window.MathJax.Hub && window.MathJax.Hub.Config) {window.MathJax.Hub.Config({SVG: {font: \"STIX-Web\"}});}</script>                <script type=\"text/javascript\">window.PlotlyConfig = {MathJaxConfig: 'local'};</script>\n",
              "        <script charset=\"utf-8\" src=\"https://cdn.plot.ly/plotly-2.35.2.min.js\"></script>                <div id=\"e00cdd87-fced-480c-8116-a3d2d1aac077\" class=\"plotly-graph-div\" style=\"height:900px; width:150px;\"></div>            <script type=\"text/javascript\">                                    window.PLOTLYENV=window.PLOTLYENV || {};                                    if (document.getElementById(\"e00cdd87-fced-480c-8116-a3d2d1aac077\")) {                    Plotly.newPlot(                        \"e00cdd87-fced-480c-8116-a3d2d1aac077\",                        [{\"name\":\"0\",\"source\":\"data:image\\u002fpng;base64,iVBORw0KGgoAAAANSUhEUgAAAJYAAAOECAIAAADMlV+4AAAtfElEQVR4Xu3deVxUddvH8WuGfVhFBBVcQdxw18xdU3PPvcXU29wzrczd3M01yyX33Uwtl8w0l9wTNxRFFBVlEwEVEJCdAWaeP+z04BXnhCz1u85c7z+e1+v5\\u002fsqb\\u002fDjDDHNm1Bj9NwGjTIsHRg0nJI8TkscJyeOE5HFC8jgheZyQPE5IHickjxOSxwnJ44TkcULyOCF5nJA8TkgeJySPE5LHCcnjhORxQvI4IXmckDxOSB4nJI8TkscJyeOE5HFC8jgheZyQPE5IHickjxOSxwnJ44TkcULyOCF55nggK0ufc+HmQ9+Ah7ceRIVFx8XEJaVlZOmzc3XWlg521i5O9rWqlqtVpXybRt7N63maadXzZ1ejgo8OunQrdP2B8z+fuZGWkYXP8lPKQde7XcPPB3So4+WOzwiinTAg+PEX3+49e\\u002f0+PiiYLi18lk94r3qlsviAFKoJc3INs9cfWrL9eK7BgM9eh5Wl+fShXWcM667VavAZESQTpqZn9fxi9Zlrhbzx\\u002fV2XFj57Fo50tLPBBxTQ+67+IjXj7U+WF2M\\u002fADh28U6rYUsSktPwAQXEEqZlZLUf\\u002fc3lwFB8UGS3Q6K7jF2Zml6gB0RCIfakYtSCnf73HuH1VRXLOndtWae+d4XyZZxsrCyT0zJCo+Ku3A47fulOeqYe\\u002f9N5+AWFD5u3\\u002fafFo\\u002fCB2Cgl3HDg\\u002fK5jV\\u002fGaR+NaleeN7tm5eW2NJp\\u002fHJmkZWRsO\\u002fLFo29H4pFR8Jtl78nr7N2qO7NMaHwiMzMOZ0Ki42v1nZelz8AEAAGi1mvkf95o6pMs\\u002fPrCMTUgZNm\\u002f7kQuB+EBip7MK\\u002fvmr8mWc8IGoyHwvnLJqv1w\\u002fM612z8KR04d2\\u002fcd+AODqbH\\u002fo27GffdAeH0hS07Mmr9yPV4HRSHjxVsiB0zfwKlk9ZcC7HRvjVZ5Wq1kx8f3R\\u002fdrgA8muY1f\\u002f8TuuOGgknLrqAJ4k773dRCGGgu8mD2jTyBuvkkXbjuJJVAQSBj6M8g0IwSsAANjprL4Z\\u002fy5eC8bcTLtz\\u002fjCdtSU+AACAg2dvPnj0DK9CIpBww4HzeJJ8+n57d1cnvBZYBTfnqR91wSsAABgMxo0\\u002f\\u002f4FXIYmeMD1T\\u002f8PR\\u002fJ9ImJtpx\\u002fRvh9fXNPbdt2ysLPAKAAC7jl0t4g9g\\u002fx2iJzx0LiA5LQOvAADQvVW9otwEXyrloPugc1O8AgDA0+cvfr98F6\\u002fiET7h+QA8SXq3a4CnQunbviGeJAr\\u002f6+IQOqHRaPz9ShBeAQDATKvt1qoOXgvlrSY15B7UHPW9jSfxCJ0w8GFUYnI6XgEAoG41j9KOdngtFGtLixb1vPAKAACPnyXcDonGq2CETnjxluwrEs3reeKpCN7wqYInyYWbD\\u002fEkGKETKvyI5M06VfFUBE3lE165HYYnwQidMCA4Ek8SH8\\u002fivHKpVtXyeJIofA2CEDphsMzPRzQajXclN7wWQeXypS3MzfAKAADBj54J\\u002fuxQ3ITRsUlyFxVWcCsl9xiycMy02iruLngFAAB9dk7kkwS8ikTchOEx8XiSVCpXGk9FVsHNGU+SiCeyX4kIxE34+Knsn\\u002f2SeD22bGkHPEkeP03Ek0jETRgdJ\\u002fsbVzIJHfEkeRL\\u002fAk8iETdhbEIKniRuzrK3mEJzdbbHk0ThWhsRiJtQ4arOkrhm18FW9tdU+EpEIHDCF7K\\u002fcQ521ngqMjudFZ4kci+VCELchApX5SrcYgrNXif7xyI5NRNPIhE3ocJluwq3mEKztZH9NTP12XgSibgJM7JkE5qb5f+TlKIwM5O9gDEzixMWSnZOLp4k5mbF\\u002f2Ur\\u002fLFQ+EpEUPy\\u002fF8Ul12DEk6RkEsr+mgaj7FciAtmv+z9nkP\\u002fhssItptAUfs3cXNmvRATiJlT6PZWvW2g5ubL3lmbyN1ARiPvFWVrIJswpgZuFwq+pcB8rAnG\\u002fOEsL2TfOKdxiCk3h1+SEhST3GiwA5OTI3mIKLTdX9jGLjVVxvjZZ7MRNqPAbp\\u002fCsv9DkXl4GxWf9IhA3obOjDk+SlPTi\\u002f4mXwq9ZEj8MKkbiJlS4TDQlTfa3u9AUEpZykP3DJAKSCUvipQOFPxYKX4kIBE7oZIsnicKrwYX2LCEZT5IypWRfDRaBuAndy5TCk+Tp8+K\\u002fEuJpvGxC9xK4zqMYiZuwqkf+VwWC4i2m0BT+WHi4yf5hEoG4CT09yuBJEil\\u002fcVuhKfyaVd1lvxIRiJvQwdbG2SH\\u002fb4ehj+MM8q9jFEJOriFC5rJVRzsbhSujRCBuQgCo7Zn\\u002fWx0y9dmPn8neaAohPDpe7mekNSqL\\u002fmmlQidsVLMSniRBYTF4KoKgMNk3ETaoURFPghE6YZPalfEk8bsTjqciuHpb9ldrWEP2j5EgxE5YS\\u002fZtf35Bsr\\u002fphaDwq7Uo1veilgShE1ar6Cr3gN73Zog+O\\u002f+PZHtd6Zl6uQ84LVPKvmaVcngVjNAJAaBzMx88AQBASnrmOf9gvBbKqav3MmSuUevULP\\u002fPxRSK6Am7tpT9WIt9J\\u002f3xVCj7T8v+Oj1a18OTeERP2LFpLbmX6\\u002fac8HuRWtSfd8cnpe47eR2vAADgZK\\u002fjhMXATmfVv0MjvAIAQFpG1pq9Z\\u002fH6mlbtOS13sfagbm\\u002fKfbaXUERPCAAjerfGk2Th1qPRsUl4LbCImOfLdp7Aq4TKxzsTSNi8nmf96hXwCgAAaRlZg2ZuKdw1idk5uQNnbJZ7INO6oXfxfqhGySGQEADmjuqJJ8nZ6\\u002fc\\u002fX\\u002fYTXgvgk8W7Lt7K\\u002f2NOAWDxuD54EhWNhO+0qafw6T6rfzozacV+Y4EvmzcYjJ99\\u002feOmgxfwgaR\\u002fh8bN6or+jP4vNBICwIqJ7yv8jXXLdp7oP2V9Qd6OG5eY0mvCmlU\\u002fnsYHEmtLi0V0boJAKOGbdapOGdIZr3kcOH2jVt9Za\\u002faelXuEmZGVvXLP6dr9Zx\\u002f+4xY+y2PV5A8UXqoUEJm\\u002fpwIAsnNyWwxdfC0oAh+8ysHWplurOk19qlYuV9pOZ5WanhUeE3\\u002fldthR39sKl6m9NKhbs+\\u002fnDcWr2CglBIBnCcnNhiwKj87\\u002f5dkialK78tkNE+V+kiAsMnekL7k5O5xYPb4kPv2peT3PU+u+INcPyCUEgGoVXS9vn9agenG+EvtWkxq\\u002frxlfEp\\u002fC8C+glxAAyrk4Xto+9fMBHYr+MoKZVjvto64n1oynePt7idj3QuTK7bCp3x047\\u002f8AHxRMm0beyye8V7w36H8f7YQv\\u002fXHjweZffA+c9i\\u002fgO5501pa92zX4uH9buY\\u002fkpkUNCV\\u002fK1GdfDAg57\\u002f\\u002fgbnjMw8jYp89fpKZnZeqzLczN7Gysy5dxrOpRpq6XR8sGXq0beltbEngJooDUk9BkkXw4w\\u002fLihORxQvI4IXmckDxOSB4nJI8TkscJyeOE5HFC8jgheZyQPE5IHickjxOSxwnJ44TkcULyOCF5nJA8TkgeJySPE5LHCcnjhORxQvI4IXmckDxOSB4nJI8TkscJyeOE5HFC8jgheeZwoyHeGCl8KySPE5LHCcnjhORxQvI4IXmckDxOSB4nJI8TkscJyeOE5HFC8jgheZyQPE5IHickjxOSxwnJ44TkcULyOCF5nJA8TkgeJySPE5LHCcnjhORxQvI4IXmckDxOSB4nJI8TkscJyeOE5HFC8jgheZyQPHM8qNc7q8cfvvVH3uXsxI1tqzfKu1BkKrfCk3evon6qYRIJ0\\u002fWZ4\\u002fYswatamETCcXuWBj99hFe1UH\\u002fC3VePb\\u002fU9hFcVUXlC35CAYTvm4lVd1JzwbkzYO9+Nz8zW4wN1UW3CB88evb38k8T0ZHygOup8XngnOrTDt6OfJSfgAzVS4a3QLzyo7bIRJtIP1Jdwj9\\u002fxNl8Pf576Ah+ol3ruSI1G48xD6xb8tgUfqJ1KEkYnxQ7ZOufUvav4wASoIeF+\\u002f1Ojdi5ISFP\\u002fg8980U4YkxQ3Ye\\u002fyH6+dwAemhGrCHEPuylN75h7ekJKZjs9epdFojEYjXlWEXkKj0XjgxulZh9bfexKOz\\u002f6mtXfD2uWrrju3Hx+oCLEnFYcCzjWYP6D\\u002f+ikF6den4VsnPl\\u002fjYG2HD9SF0q0wKvFZrzUT8JofjUYzu8fIWd1HaDQafKY6lBIWkJuD8\\u002faP5nb2aY4PVEptCbvXbbVlyCxXe2d8oF7qSehi57Ti\\u002fYkfNu2CD9RODQk1Gs2Q5j2W9vvMxc4Jn5kA8gmbVvFZ9cHkN6rUxgcmg3BCL9cKC3p\\u002f8m7jjvjAxJBMWM214rSuHw1q1s1ca4bPTA+lhBqNpl2NxmPbvdezflszLbEfSpQcSgndnVzPTNiAV5PHf5bJ44TkcULyOCF5nJA8TkgeJySPE5LHCcnjhORxQvI4IXmckDxOSB4nJI8TkscJyeOE5HFC8jgheZyQPE5IHickjxOSxwnJ44TkcULyOCF5nJA8TkgeJySPE5LHCcnjhORxQvI4IXmckDxOSB4nJI8TkscJyeOE5HFC8jgheRrjJn+8MVL4VkgeJySPE5LHCcnjhORxQvI4IXmckDxOSB4nJI8TkscJyeOE5HFC8jgheZyQPE5IHickjxOSxwnJ44TkcULyOCF5nJA8TkgeJySPE5LHCcnjhORxQvI4IXmckDxOSB4nJI8TkscJyeOE5Gn8jZvwxkjhWyF5nJA8TkgeJySPE5LHCcnjhORxQvI4IXmckDxOSB4nJI8TkscJyeOE5HFC8jgheZyQPE5IHickjxOSxwnJ44TkcULyOCF5nJA8TkgeJySPE5LHCcnjhORxQvI4IXmckDxOSB4nJI8TkscJyeOE5Jnjgayo0LjbV8Lu34yMuP80Ljox7smLzHR9VoZeo9FY2Vjq7KxcPUqVrVDK08e9ZqNK9Vt4OTjb4l+CJvIfHRR2N+bQ1ovnDwU8DonFZ\\u002fK0Ztq6zaq+\\u002fV6TboOa2Tna4GNSCCe88ceDDXMOXz97Hx+8Dhtbqz4jWw\\u002f7sqtjaTt8RgTJhHExSUvH7Tnz8w18UFi2DjafLe3bd1QbfEABvYQXj97+8sPNKUnp+KDIWnSts3D3CHL3q8Qeke5afvLzHt+VRD8AuHj09kfNFz+NTMAHYqOUcOeyE99+sddgMOKD4hN2N2bUW8vin7zABwIjc0d6ar\\u002f\\u002flP7r8Zofz9rl3+hQ071KmVJl7Jxc7DLT9UnxqfFPk29dDLl54WFGWhb+F\\u002f6mWl2P7ZenWess8YGQaCSMfBg7oME85d99WwebD8d36DOydZnyTvhMkpOd+8fhW5u\\u002f+i34ZiQ+e1XnAU0X7BqOVyERSGg0Gke1W+Z\\u002f\\u002fgE+yKPvqDZjF\\u002fYu+LP1Ez9e+2rk9+kpmfggj2U\\u002fj2nXuwFexUPge+GJH68p9DMz105fP3D6+oEF7wcAnd5v8sO1L6vULIcP8vj60z36zGy8ikf0hAaDcePcw3jNY+GekYV7Plepetn1pye4VXDGB5JnUYkHN1\\u002fAq3hET+j7W+Cj4Kd4lQye1KlDv0Z4LTCXco6rfvvUxtYKH0h2LT+FJ\\u002fGInvAX+dtBtboe4xb1wetr8qrjPmRKZ7xKosPibl0KxatghE6Ylpxx8dgdvEqGTu+qNSuGr3\\u002fghLdd3Z3wKvnj8C08CaYYfgtKzpWT93Kyc\\u002fEKAAAVvFw79G+M10Kx1ll2HfgmXiU35B9JCULohNfO3MOT5K0+DbVaDV4Lq3WPeniSPAyMwpNghE5491oEniSN2lbHUxHUaeZpZp7\\u002fb0VGWpbgP2\\u002fL\\u002f+sWgSHXIHcL0Go1DVp64bUItFpNqTL2eJUkxqXgSSTiJnwWlajPysErAAA4lrbT2VvjtWhKuzngSZKeqvSDvf+cuAljIp7jSeLkUvyvsOfmGvAkKcZvuiVB3Muf6jar+nPwV\\u002fExSbHRSbHRiXExSXHRSXExSbHRSQrPAQotNjoJTxJbh2K+xRcvcRNaWJpX8nar5O2GD0pA\\u002fJMXyQlpeJUo3MeKQNw70n\\u002fT9XPBeJI4udgJfmUUJwQAOHPAH08S73oV8CQYTggJz5L\\u002fOByIV0mTt2rgSTCcEHavPJ2tz\\u002f\\u002fZCwC06OKDJ8GYesLnT1\\u002f8uOo0XiVVa5Wv3qAiXgVj6glXTNqvcElOz2Et8SQek0548ejtoz9cwavEwdm2z8jWeBWP6SZMeJY8d9gOvOYxaMLbOjvZF\\u002fTFYaIJc3MMU9\\u002fb8Pyp7EsQHp5lBn7REa9CMtGEi8b8oHBVHABMWT3A0toCr0IyxYRbFvx2cJPsJTkA0O\\u002fjts07i\\u002f5c4i8ml3Df2nNrZ\\u002fyC1zyq1ir\\u002fxTfv4lVgppXw0FbfJWN34zUPeyfdsoNjrGxo3IW+ZEIJD231nT\\u002f8e6NR9o1RZubaJXtH\\u002fTuvjRQjcV9sKl771p5bMna3Qj8AmLrmw6Yda+FVeCaRcNuio6unH8Trq8Yu7E3iifzfqTyh0WhcPmHfruUn8cGrRszq8dG0rnglQs0Jc7JzZ\\u002f9v6\\u002fE9fvjgVcNndh899x280qHahClJ6ZP6rrt25h8+0uSTBb2HTqd6+3tJnQmfPHr+addVYXdj8EEeGo1m4or33v+0PT6gRoUJg\\u002fzCP39ndcKzZHyQh5m5dvbWId0GNcMHBKkt4fE9fnOHbld+d661znLJ3lEtu9XFBzSpJ6HRaNww5\\u002fCmeUpvCQYAJxe7lUc+9WlaBR+QpZKEWRnZs4dsPbn3Oj54lYdnme+OfV6xmis+oEwNCeOfvPii5+og+bdBveTTtMqKw+MU3v5CFPmEwQGPP+++SuFy+pfa9204f+dwWj+\\u002fLiDaCa+duT+h99q05Ax88KrBkzp9uqSvRiP0u1sKjXDC33+6NmvwVoVLQAHA3MJs2toPew1vhQ9UhGrCgrzyYO+k+\\u002frAx+Jfjl1EJBPuXnHqm\\u002fE\\u002f4fVV7lVcVv72qfLnO6kDvYQ7l51YMWk\\u002fXl\\u002fl07TK8l\\u002fHObuq7cFnvogl\\u002fGn1mX\\u002fs17ZXg4W7R6jywWe+KCX8\\u002fadryz77Ea+v6j+m7eTvBgj+1uriRSah\\u002f\\u002fkHswZvVf5I4I\\u002fn9xo+oxte1Y5GwmdRiVPfXa\\u002fw\\u002fEGj0UxZPaD\\u002fmLb4wAQQSJitz5ncb11CrOyHv2g0mhmbBvei8C6kkkDgIsTN84\\u002fcuRqO1zzGLuxtsv1A\\u002fIT3b0RuW3wMr3n0HNpyyNQueDUlQic0Go0LRu3MzZH9UJ+6zTynrx+IVxMjdMLju\\u002f3uXo\\u002fAq8TG1mre90PNLczwgYkR9+FMbo5h7Qyl63c7vts4NioxNioRHxS3KrXKi\\u002fyDHnH\\u002fkoPff7o27f2NeP0vLNwzstP7TfAqDHHvSBU+iILlJWjCxyGx4n+uuSAETXj+V9E\\u002f1FwcgiYMvBSCJyZD0ITh92T\\u002fehGGCJowLiYJT0yGoAn1WUpX1LO8xH1eyApI0FshKzhOSB4nJI8TkscJyeOE5HFC8jgheZyQPE5IHickjxOSxwnJ44TkcULyOCF5nJA8TkgeJySPE5LHCcnjhORxQvI4IXmckDxOSB4nJI8TkscJyeOE5HFC8jgheZyQPE5IHickjxOSxwnJ0\\u002fhvUvrMeSY+vhWSxwnJ44TkcULyOCF5nJA8TkgeJySPE5LHCcnjhORxQvI4IXmckDxOSB4nJI8TkscJyeOE5HFC8jgheZyQPE5IHickjxOSxwnJ44TkcULyOCF5nJA8TkgeJySPE5LHCcnjhORxQvI4IXmckDxOSJ45HmjSZ2fefHjhdtiV4McBMfERsUnR6Zkp+uxMa0udnY2jg61z5XI1vMr71KrSpEn1dpYW1vjfp4z2RwcZjcard08evLDJ9\\u002fbRTH06Ps6PtaXuzVod32k5tFXd7lqNGu6ECCc8F3Bo\\u002faFZD6MC8UHBeJTxHNRpYp9WI7RaM3xGCsmEsUnRC3eOvhB4BB+8vmoedacMWN2gWit8QAe9hH73Tk\\u002ff9EFiShw+KCyNRjOi+6yRPWZrNBp8RgGxbwbH\\u002ffaMW9mlGPsBgNFo3Hh47vjV7+izM\\u002fEZBZQSnry+d+bmgTm52figOFwIPDJ5ff8S+sVLFJk70sDQy6OWtdPnZOGDVznoSjWq3ra+V4vSjmWd7Fz0OVmJKXFP4iOuBZ8NCvf7x0I9Ww6d9b8teBUbjYQp6UkfzKv\\u002f5PkjfJCHZ\\u002fnaQ7t9+Xbjd+UeYb5Iff7DyW9\\u002fOrs6LSMZn+WxeNRPHRu\\u002fi1eB0Ug4\\u002f\\u002fsRv1zYjFeJVqMd2WP2sO4zCvI8Ly4pZsr6\\u002frdCL+EDiYOu1KGFIQ62zvhAVP\\u002f83\\u002fyfuxtx\\u002fZCv7J2bpbnVqs+OjugxqyD9AKCMU\\u002fmNk851fuMDfCBJTk\\u002fcdmwxXgVWoP\\u002fs\\u002f9aGw3OMxvzvKjQazZyh25vV7oQPFJmbWcz5aHtD79b4QPLTmdXF+6C3RImeMDQmyDfwN7xKPmj\\u002fWacm7+O1ACzMLReO2GNtqcMHAACQlZ1xwm8PXkUlekKFb4FOdi4je8zGa4GVcSo\\u002f8O0JeJUcvfIDnkQldEKD0XD86m68SoZ2nW6vc8Lr6+jTagSeJHcfXU\\u002fNeIFXIQmdMCjcLyElFq8AAGBuZtGt2SC8viY35wreFerhFQAAjEbj3YjreBWS0AkvB53Ak6S5T2cnOxe8vj5vj\\u002fwTAkDE0\\u002ft4EpLQCQNDL+NJ0qJOVzwVSmnHsniSJKcl4ElIQr9q\\u002f0bN9pbmViHRt2OeR6DnFXWqNM37\\u002fxaaztoeT5LUTKUf4ohD6ISDO00a3GkSAKRnpoRE33kYFRgSffthVGBUXKiXRx38TxdKemYKniS2VrJ1hSJ0wr\\u002forO3rejar69kMHxRZdFwYniRUfsYm9PfCf0FQxDU8SbzcffAkJJNOGBx5U+7VD63WrFblJngVkkkn\\u002fOHkt3iSNKnxlo2VLV6FZLoJbz68cOzqLrxKerYciidRmWjCqLjQKRvelXsBpKJrtfYN++JVVKaY8FbIxWFLWj1\\u002f8RQfSD7rt9TczAKvoqLxpKK4JCQ\\u002f23h43oE\\u002fNhgMufhM0vXNgW0b9MKrwEwlYWhM0OFL2w+cW5+elYrP8vCuUO\\u002fLQRvwKja1JczUp5ubWeQacpLTEl+kPQ+Juh0Ucc0\\u002f+Fzw4wD8j\\u002f5NjYoN14w\\u002fIfc6sLDUlnDNwS93n1qB1wJoXa\\u002fH\\u002fGE77Wwc8YHw1JbwaUIknv6Jztr+s35L+7UZjQ+IMOmEluZWfduMHtbty1L2ZfAZHWp7UiH3A7N85eRm3310\\u002fcilHVFxofiMDhqXAheQPjuz2RgbvBaARqNpW7\\u002fXyB6z5a7DEJmqboVPXudeNC+j0Xj25sEB8xvM3jYkIysNH4tNVQlf6xvh3xmNxiOXdgz8qnFo9B18JjBVPZx58vyRlYVNzUqNqlesX9HNu2ypCjbWdumZKYkpcc9fPL358MLNEN9\\u002ffBNhxNP7Q5e03DTpPJU7VVV9L3yR+lxnbW9hbokPJFnZGRduHdl4eG5oTBA+e1Vpx7Jbp\\u002fh6lPHEB+JRVcICMhgNx67sWrJnrPK71Kp51N01099MK\\u002fodlaq+FxaQVqPt1mzQ99OvVipbHZ\\u002fl8TAq8IffZV8TFocpJnypctkaO6ZdqVy2Bj7IY+PhuXFJMXgVjOkmBAB7ndOKcYcVrlTL1KcrvC9HECadEAAquHopv7p00HezwouLIjD1hADQoVG\\u002f2vIXqz1LeHwzxBevIuGEAACjes7FUx635d\\u002faIQJOCADQtGYHhTdX3A6\\u002fiieRcEIAAHMzizdqtserpNCf1Pfv4IR\\u002fUnirlODvUuOEfypl74onSWrGC4PRgFdhcMI\\u002flXZww5PEaDQqvIftP8cJ\\u002f6R87a+luRWehCH0z3BzDTlPn0dGxYdFx4VFx4VFxYVGxYVFx4ftn3fXxbEc\\u002fqeLRuE9vVqtmcgf5y1uwukbPzjlvz\\u002fXkIMPAAIe+nZo3B+vRfMkPgJPElcndzyJRNw7UmsrXb79QPGTMArtQdQtPEkquXnjSSTiJqxarhaeJBdu\\u002f1a8DxGNRqN\\u002f8Dm8SqqJ\\u002ffK9uAnryL+z\\u002fvmLp9funcZrEQSGXnqWGIVXSZPq7fAkEnET1qrUWGdlh1fJvnPr8FQECtfwW1vqGlZvg1eRiJvQwtyyZd1ueJWcDzgU\\u002fuQeXgslKOLamRs\\u002f41XSrkFvhT9JIhA3IQB0fXMgniQGo2Hl\\u002fsl4fX36nKwF349U+M7at80oPAlG6IQt6nSt4OqFV8mFwCMKn5NYQIt3jVF431qj6m3F\\u002f1tIhE6o1Wg\\u002f6jINr3l8tXOkQoB\\u002ftOrAlEO+W\\u002fEq0Wq0n\\u002fYl8AnPQicEgB4thlTzqItXSUZW2phvOyp82p4cfU7WvB3Ddhxfig\\u002fy6N9ujI\\u002f8yxfiED2hVqOd9b8tChdzJqXGD1\\u002faevuxxQrfz5CgcL\\u002f\\u002fLWyqcPsDAE93n3F9CNwEgcqlwNuOLlp9cDpeX1WlXM0hnad0bjpA7gfWRqPxVujFPadWnr5xQO7jSl6y1znt\\u002fPKawrdhodBICAAzNg9U+KSfv+is7BpWb9OgWisXx3Kl7MuYa83TMlOePH8U\\u002fPjm9ftnFZ6\\u002f\\u002f0VnZbdm\\u002fO8l8ZF9JYRMwuwc\\u002fdQN754LOIQPipWtjcPysb828hb6uTwi+vfCv1iYWy4ZvU\\u002fhmWLRuTlX2DrFl1Y\\u002fIJQQAMzNLOYP2zm+\\u002fzKFRzeF1qbeO7tm+Hu5F88n1f6byNyR5hX8OGDu9qHBkTfxQaGUdiw7rs+iHs2H4AMiSCYEAIPRcPTKD5sOzyvKJx04O7i91+6TAR3HC\\u002f5TUGVUE75kMBouB5349eK2S3eOF\\u002fwKJUsL6zdrdXy7yXvtG\\u002fUT+aKYAqKd8C\\u002fZOfpbIRfvRPg9iAyIjg+PTYxKzUzO0mcAgLWVzs7awbWUh7tLFU93nzpV3\\u002fSp0pTKx8UWhEoSmjJKj0hZvjgheZyQPE5IHickjxOSxwnJ44TkcULyOCF5nJA8TkgeJySPE5LHCcnjhORxQvI4IXmckDxOSB4nJI8TkscJyeOE5HFC8jgheZyQPE5IHickjxOSxwnJ44TkcULyOCF5nJA8TkieZpPRH2+MFL4VkscJyeOE5HFC8jgheZyQPE5IHickjxOSxwnJ44TkcULyOCF5nJA8TkgeJySPE5LHCcnjhORxQvI4IXmckDxOSB4nJI8TkscJyeOE5HFC8jgheZyQPE5IHickjxOSxwnJ44TkcULyOCF5nJA8TkieOR7U7ty6\\u002fbvGLMIrwNLHR0t5uOGVAtO6FcY+jNw3cTleiTOhhIac3M2DZurTM\\u002fEBcSaU8LcFW8Kv3sErfaaSMOJa0JGvNuNVFUwiYXZG1pZBMw05ufhAFUwi4d6Jy58GP8KrWqg\\u002fYdCJy+fW7sOriqg8YVpC8vahc\\u002fGqLipP+MPoBUkxcXhVFzUnvLzzt+v7TuFVdVSbMCHy6Z5xS\\u002fGqRupMaDQatw2ZnfEiFR+okToTnvx21\\u002f2z1\\u002fGqUipMGH0n9OCXa\\u002fAKoDU3c\\u002fOuhFf61JYwR5+9ZeCMnCw9PgDo9uUw9zpeeKVPbQkPzVz3+NYDvAJUalSz+4zheFUFVSUM8Q04sWwnXgEsrC2Hfj9Pa26GD1RBPQkzU9K3DJ5lNBjwAUDvhWPL16qKV7VQT8I9ny6ND4\\u002fGK4B3m0YdPh+AVxVRScKbv5y7tP0wXgGs7XVDt8\\u002fRaDT4QEXUkDD5WcLOkV\\u002fhFQAA3ls+oXTl8nhVFzUk3DF8XkpcIl4B6nZv1XJYL7yqDvmEf2z8OfDIBbwC2JV2HLxpJl7ViHbCuNCovV98i1cAABi4frpj2dJ4VSPCCQ25hi2DZmalZeADgKYDOjfq1wGvKkU44bFFW0MvB+IVwMnddcDqKXhVL6oJI2\\u002fcPzxvE14BAGDIllm6Ug54VS+SCbMzsjYPnJGbnYMPANp+3K92p2Z4VTWSCfdPWfXkXjheAcp4evT7+nO8qh29hPdOXT27+ie8Ami02mHfz7OytcEHakcsYXpi8tYhc4xGIz4A6DRpsGfzeng1AcQS\\u002fjBmcVJ0LF4B3Ot49Zw3Gq+mgVLCq7uPX\\u002fvxBF4BzC0thu2cb25pgQ9MA5mEiVHPdn+yGK8AANBjzqgK9bzxajJoJDQajduGzElPSsEHAJ7N6nae\\u002fD+8mhIaCU+v3HPvtB9eASx11kN3zNWa0fivKCEE\\u002fuNj7ob9PO07vAIAQL+ln7lWq4hXEyN6wtzsnC2DZmZn5nNRYa2OTduO6Y9X0yN6wl9nr4+8cR+vADon+yFbZ6v7iooCEjph6KVbx5fuwCsAAHzw3WSiHxNT7MRNmJWavmXQTENuPhcVNuzz1psDu+LVVImb8MfPv4kLy+eiQgc350EbvsSrCRM04a3Df\\u002fhu+QWvAAAweOMMOxcnvJowEROmxCXuGD4frwAA0OKjd+q90wavpk3EhDuGz0+JTcArQOlK5d5bMRGvJk+4hL5bfrn163m8Amg0miHb5tg42OIDk6fZZPTH23\\u002fq2w4f5\\u002fuztP9QlaY+06\\u002fk\\u002f9xGBMLdCtnr4oTkcULyOCF5nJA8TkgeJyRPuOeFJWpdv8k3DpzGKwDwX3LA\\u002fkOckDxOSB4nJI8TkscJyeOE5HFC8jgheZyQPE5IHickjxOSxwnJ44TkcULyTOslX1XiWyF5nJA8TkgeJySPE5LHCcnjhORxQvI4IXmckDxOSB4nJI8TkscJyeOE5HFC8jgheZyQPE5IHickjxOSxwnJ44TkcULyOCF5nJA8TkgeJySPE5LHCcnjhORxQvI4IXmckDxOSB4nJI8TkmcONxrijZHCt0LyOCF5nJA8TkgeJySPE5LHCcnjhORxQvI4IXmckDxOSB4nJI8TkscJyeOE5HFC8jgheZyQPE5IHickjxOSxwnJ44TkcULyOCF5nJA8TkgeJySPE5LHCcnjhORxQvI4IXmckDxOSB4nJI8TkscJyeOE5JnjQXgnvv96\\u002f8rJeC0ZEzeerd6oLV4FQ+9WGBl8E0+mjWDC+5zwFcQSZmWkPYt8gFfTRixh1INbRoMBr6aNWMJH92\\u002fgyeQRS\\u002fiYH8v8DbGE\\u002fFjm7yg9L8zJ1seEBeEVAADqte7RceAXeC2yCt718SQeSgljwoJysvV4BQAAnxZdxH8OXkIo3ZEq3ItWrtUETyaDUkK5xzLmFpYe1eri1WRQSij3jMLDu565hSVeTQaZhEaDIephIF4BAKBK7TfwZErIJHz2+GFWeipeAQCgcm3T\\u002fUYIhBJG3sv\\u002fXhRM+7EMUEoo81jGSmdXrnINvJoS8gkr1Wyk0ZL5rygJZP7jH8s8Kaxi2veiQCVhwtPI1BfP8QoAJv9YBqgk5J\\u002fLKKCSMP+Ho3aOpV3cq+DVxBBJKPNYhu9FgcorFbIJ\\u002f3Yvmp6cGHHvevgdv4i71xKeRKalJKa\\u002fSMjKSLO01lnbOZQuW9G1glelWo29G7T28K6n0WjQv04RgYQpiXGJz6LwCgB5boVZ6ak3zh68emzXvaunDIbcV\\u002f8pAIDM9JTM9JSk2OjQwMuXf9sJAM5lK77R+YM2fUZRvyvWbPI34k0wQVd+X\\u002fFJJ7wCAMCy358AwLFtiy8c3KTPTMfHBaA1M3+j0\\u002fu9xnxVulwlfEYEgVuh3DNCnb3TyZ3fnN23tnDxXjLk5lw5+sONMz\\u002f3GDGr0+BJFH9KQOArlnuNKT0l6cTOZUXp9xd9ZvqB76Yu\\u002f+TtlIRYfCY8AgnlHssUu3t+pxcMfiM28iE+EJvoCTPTU+Ieh+C1xDx\\u002f8mjxsJbRoXfwgcBE\\u002f174ODjAaHyNB1xlPDyr1W\\u002fp4V2vlKu7ta2D1swsKz014Wnkk4j7IQEXo0Nu43\\u002fhb1ISYleM7Txt+2Vntwr4TEiiJyzgvaiFlU3LnkPb9B3l7lUHn+URHx3u++vWs3vXpCcn4rM8kmKjv\\u002fus+\\u002fTvr1pYWuMz8Yh+R6rw09G\\u002fNO08YPGR8AFTViv3AwAX9yq9Pp6\\u002f6Newtv0+Vn5eH\\u002fUwcN\\u002fyiXgVkvgJ8384+pK1zn7MNweHL9jl4OyGz+Tp7J0+nLZ2zLKDVjo7fJbH2b1rQgJ88SoeoRPm6LOehN\\u002fDq8Te2XXa9ssN2vbCBwVTv23PL9aetLF1wAd57Pn6M\\u002fHfSCV0wicR9w25OXgFAAAbW4cJ606V96yND15H1TpvjlqyV6s1wweSyPs3bp77Ba+CEf0HbDn6rPiY8Pjo8LjosD\\u002f\\u002fb0x4fHT4oC83NHn7PfxPF8rB1dOPbluEV4lXvRZTtgp9dyp6wn9BTrZ+Rm\\u002fv508e4QPJ\\u002fJ\\u002fvl61UHa\\u002fCEPqO9N9hbmHZfcQsvOZx4\\u002fQBPImEEwIANO0ywNbBGa+S275H8SQSTggAYGFpXb9tT7xKHt3zl3tTnAg44Z98WnTBkyRbn1mQn8z9Vzjhn5SvR42LCsWTMDjhn0qXr6zww5r4mAg8CYMT\\u002fr9Srh54kqQlJ+BJGJzw\\u002f9k5lsaTRJ+RhidhcML\\u002fZ2FtgycJPyKlwZibz9WLL1lYydb9z3HC\\u002f6fPysCTxMpahydhcML\\u002fp3D5moNLWTwJQ9wLL3L0WSmJcSmJsckJsSkJsSlJcSkJsckJsamJcW92Hdik0\\u002fv4Xygao9GYGBeNV4nI19GIm3DpiDbhd67iFQAAbB2diz3hs8gHOfosvErcKnrjSRji3pGW8aiKJ8mje\\u002f54KrJHd6\\u002fjSWJprStbRdy384ubUOEP\\u002fpOI+xmpL\\u002fBaNEGXT+BJUrl2E4VX9v9z4iZUeO+g0WAIOHcIr0WQo89SeEXJp3lnPIlE3IRVfZoqXCfod2IPnorA\\u002f8wBuffyA0C9Vj3wJBJxE9o5uVSW\\u002f2Suu1dPJcXF4LVQjEbjsW2L8SqpXKtxES+yKmniJgSAhu1640liyM35dcMcvBbKxV+3Kbwc2Kr3CDwJRuiEzboP1prJPu25eGirwlWmBZQUG71vhexV205lyjfv\\u002fj+8CkbohI4u5Rq174tXicGQu232kGx9Jj4osGx95tqJfRTeX9Hlo2nmllZ4FYzQCQGg+\\u002fCZCu+8DQ\\u002fy2zF3GF4LJkeftXZin\\u002fAgP3wgcfeq07bfaLyKR\\u002fZ3RxDlPWu36DEEr3lcPb57x7xhr\\u002ftiUOqL58vHdrpz8Rg+kGi1ZoOmr1e4GxeH6AkBoP\\u002fnyxxLK\\u002f2U2ffQ1mWj2ilcy4vcuXR83gf1H\\u002fifxwd5dB8x07Nec7wKicbV3EFXfl85rovyO1TMLa3a9B3defAkJ1d3fAYAAEaj8Z7fqRM7vr579SQ+e5VP887jVh4R+ScyedFICAX+aws1Gk3FGg1rN+vkUr6yg7ObpbUuMz0lPibicfDNe36nC\\u002fJUsmKNhpM3nVe4FEo0ZBICwM\\u002ffTTu2XfY5eLFw9\\u002fQZv+6k8v22aAh8L\\u002fxLn3GL3hk1B6\\u002fFx6t+y8lbLtDqB7QSAkCPkbNHLvrRWmePD4rsrffHfbHupM7eCR8Ij9Id6V+ex0TsmD\\u002f8nt9pfFAoLu5VPpy6VvCXIxSQTPhS4IUjv6yb+Tg4AB8UmIOzW5ePprbtP4b031RCOOFLIQG+Fw5uDrxwROHVIsTC0rp6k3Yt3xlav21PM3MLfEwN+YQvGQy5EUHXwu9cfXT\\u002fRlxUWOKzx+kpSfrMdKPRaGVja6Wzc3Ip51qxWtnKNbzqNvdq0JLEB8oUkEoSmjJij0jZ33FC8jgheZyQPE5IHickjxOSxwnJ44TkcULyOCF5nJA8TkgeJySPE5LHCcnjhORxQvI4IXmckDxOSB4nJI8TkscJyeOE5HFC8jgheZyQPE5IHickjxOSxwnJ44TkcULyOCF5nJC8\\u002fwPXjI8ZXt5tTAAAAABJRU5ErkJggg==\",\"type\":\"image\",\"xaxis\":\"x\",\"yaxis\":\"y\",\"hovertemplate\":\"x: %{x}\\u003cbr\\u003ey: %{y}\\u003cbr\\u003ecolor: [%{z[0]}, %{z[1]}, %{z[2]}]\\u003cextra\\u003e\\u003c\\u002fextra\\u003e\"}],                        {\"template\":{\"data\":{\"histogram2dcontour\":[{\"type\":\"histogram2dcontour\",\"colorbar\":{\"outlinewidth\":0,\"ticks\":\"\"},\"colorscale\":[[0.0,\"#0d0887\"],[0.1111111111111111,\"#46039f\"],[0.2222222222222222,\"#7201a8\"],[0.3333333333333333,\"#9c179e\"],[0.4444444444444444,\"#bd3786\"],[0.5555555555555556,\"#d8576b\"],[0.6666666666666666,\"#ed7953\"],[0.7777777777777778,\"#fb9f3a\"],[0.8888888888888888,\"#fdca26\"],[1.0,\"#f0f921\"]]}],\"choropleth\":[{\"type\":\"choropleth\",\"colorbar\":{\"outlinewidth\":0,\"ticks\":\"\"}}],\"histogram2d\":[{\"type\":\"histogram2d\",\"colorbar\":{\"outlinewidth\":0,\"ticks\":\"\"},\"colorscale\":[[0.0,\"#0d0887\"],[0.1111111111111111,\"#46039f\"],[0.2222222222222222,\"#7201a8\"],[0.3333333333333333,\"#9c179e\"],[0.4444444444444444,\"#bd3786\"],[0.5555555555555556,\"#d8576b\"],[0.6666666666666666,\"#ed7953\"],[0.7777777777777778,\"#fb9f3a\"],[0.8888888888888888,\"#fdca26\"],[1.0,\"#f0f921\"]]}],\"heatmap\":[{\"type\":\"heatmap\",\"colorbar\":{\"outlinewidth\":0,\"ticks\":\"\"},\"colorscale\":[[0.0,\"#0d0887\"],[0.1111111111111111,\"#46039f\"],[0.2222222222222222,\"#7201a8\"],[0.3333333333333333,\"#9c179e\"],[0.4444444444444444,\"#bd3786\"],[0.5555555555555556,\"#d8576b\"],[0.6666666666666666,\"#ed7953\"],[0.7777777777777778,\"#fb9f3a\"],[0.8888888888888888,\"#fdca26\"],[1.0,\"#f0f921\"]]}],\"heatmapgl\":[{\"type\":\"heatmapgl\",\"colorbar\":{\"outlinewidth\":0,\"ticks\":\"\"},\"colorscale\":[[0.0,\"#0d0887\"],[0.1111111111111111,\"#46039f\"],[0.2222222222222222,\"#7201a8\"],[0.3333333333333333,\"#9c179e\"],[0.4444444444444444,\"#bd3786\"],[0.5555555555555556,\"#d8576b\"],[0.6666666666666666,\"#ed7953\"],[0.7777777777777778,\"#fb9f3a\"],[0.8888888888888888,\"#fdca26\"],[1.0,\"#f0f921\"]]}],\"contourcarpet\":[{\"type\":\"contourcarpet\",\"colorbar\":{\"outlinewidth\":0,\"ticks\":\"\"}}],\"contour\":[{\"type\":\"contour\",\"colorbar\":{\"outlinewidth\":0,\"ticks\":\"\"},\"colorscale\":[[0.0,\"#0d0887\"],[0.1111111111111111,\"#46039f\"],[0.2222222222222222,\"#7201a8\"],[0.3333333333333333,\"#9c179e\"],[0.4444444444444444,\"#bd3786\"],[0.5555555555555556,\"#d8576b\"],[0.6666666666666666,\"#ed7953\"],[0.7777777777777778,\"#fb9f3a\"],[0.8888888888888888,\"#fdca26\"],[1.0,\"#f0f921\"]]}],\"surface\":[{\"type\":\"surface\",\"colorbar\":{\"outlinewidth\":0,\"ticks\":\"\"},\"colorscale\":[[0.0,\"#0d0887\"],[0.1111111111111111,\"#46039f\"],[0.2222222222222222,\"#7201a8\"],[0.3333333333333333,\"#9c179e\"],[0.4444444444444444,\"#bd3786\"],[0.5555555555555556,\"#d8576b\"],[0.6666666666666666,\"#ed7953\"],[0.7777777777777778,\"#fb9f3a\"],[0.8888888888888888,\"#fdca26\"],[1.0,\"#f0f921\"]]}],\"mesh3d\":[{\"type\":\"mesh3d\",\"colorbar\":{\"outlinewidth\":0,\"ticks\":\"\"}}],\"scatter\":[{\"fillpattern\":{\"fillmode\":\"overlay\",\"size\":10,\"solidity\":0.2},\"type\":\"scatter\"}],\"parcoords\":[{\"type\":\"parcoords\",\"line\":{\"colorbar\":{\"outlinewidth\":0,\"ticks\":\"\"}}}],\"scatterpolargl\":[{\"type\":\"scatterpolargl\",\"marker\":{\"colorbar\":{\"outlinewidth\":0,\"ticks\":\"\"}}}],\"bar\":[{\"error_x\":{\"color\":\"#2a3f5f\"},\"error_y\":{\"color\":\"#2a3f5f\"},\"marker\":{\"line\":{\"color\":\"#E5ECF6\",\"width\":0.5},\"pattern\":{\"fillmode\":\"overlay\",\"size\":10,\"solidity\":0.2}},\"type\":\"bar\"}],\"scattergeo\":[{\"type\":\"scattergeo\",\"marker\":{\"colorbar\":{\"outlinewidth\":0,\"ticks\":\"\"}}}],\"scatterpolar\":[{\"type\":\"scatterpolar\",\"marker\":{\"colorbar\":{\"outlinewidth\":0,\"ticks\":\"\"}}}],\"histogram\":[{\"marker\":{\"pattern\":{\"fillmode\":\"overlay\",\"size\":10,\"solidity\":0.2}},\"type\":\"histogram\"}],\"scattergl\":[{\"type\":\"scattergl\",\"marker\":{\"colorbar\":{\"outlinewidth\":0,\"ticks\":\"\"}}}],\"scatter3d\":[{\"type\":\"scatter3d\",\"line\":{\"colorbar\":{\"outlinewidth\":0,\"ticks\":\"\"}},\"marker\":{\"colorbar\":{\"outlinewidth\":0,\"ticks\":\"\"}}}],\"scattermapbox\":[{\"type\":\"scattermapbox\",\"marker\":{\"colorbar\":{\"outlinewidth\":0,\"ticks\":\"\"}}}],\"scatterternary\":[{\"type\":\"scatterternary\",\"marker\":{\"colorbar\":{\"outlinewidth\":0,\"ticks\":\"\"}}}],\"scattercarpet\":[{\"type\":\"scattercarpet\",\"marker\":{\"colorbar\":{\"outlinewidth\":0,\"ticks\":\"\"}}}],\"carpet\":[{\"aaxis\":{\"endlinecolor\":\"#2a3f5f\",\"gridcolor\":\"white\",\"linecolor\":\"white\",\"minorgridcolor\":\"white\",\"startlinecolor\":\"#2a3f5f\"},\"baxis\":{\"endlinecolor\":\"#2a3f5f\",\"gridcolor\":\"white\",\"linecolor\":\"white\",\"minorgridcolor\":\"white\",\"startlinecolor\":\"#2a3f5f\"},\"type\":\"carpet\"}],\"table\":[{\"cells\":{\"fill\":{\"color\":\"#EBF0F8\"},\"line\":{\"color\":\"white\"}},\"header\":{\"fill\":{\"color\":\"#C8D4E3\"},\"line\":{\"color\":\"white\"}},\"type\":\"table\"}],\"barpolar\":[{\"marker\":{\"line\":{\"color\":\"#E5ECF6\",\"width\":0.5},\"pattern\":{\"fillmode\":\"overlay\",\"size\":10,\"solidity\":0.2}},\"type\":\"barpolar\"}],\"pie\":[{\"automargin\":true,\"type\":\"pie\"}]},\"layout\":{\"autotypenumbers\":\"strict\",\"colorway\":[\"#636efa\",\"#EF553B\",\"#00cc96\",\"#ab63fa\",\"#FFA15A\",\"#19d3f3\",\"#FF6692\",\"#B6E880\",\"#FF97FF\",\"#FECB52\"],\"font\":{\"color\":\"#2a3f5f\"},\"hovermode\":\"closest\",\"hoverlabel\":{\"align\":\"left\"},\"paper_bgcolor\":\"white\",\"plot_bgcolor\":\"#E5ECF6\",\"polar\":{\"bgcolor\":\"#E5ECF6\",\"angularaxis\":{\"gridcolor\":\"white\",\"linecolor\":\"white\",\"ticks\":\"\"},\"radialaxis\":{\"gridcolor\":\"white\",\"linecolor\":\"white\",\"ticks\":\"\"}},\"ternary\":{\"bgcolor\":\"#E5ECF6\",\"aaxis\":{\"gridcolor\":\"white\",\"linecolor\":\"white\",\"ticks\":\"\"},\"baxis\":{\"gridcolor\":\"white\",\"linecolor\":\"white\",\"ticks\":\"\"},\"caxis\":{\"gridcolor\":\"white\",\"linecolor\":\"white\",\"ticks\":\"\"}},\"coloraxis\":{\"colorbar\":{\"outlinewidth\":0,\"ticks\":\"\"}},\"colorscale\":{\"sequential\":[[0.0,\"#0d0887\"],[0.1111111111111111,\"#46039f\"],[0.2222222222222222,\"#7201a8\"],[0.3333333333333333,\"#9c179e\"],[0.4444444444444444,\"#bd3786\"],[0.5555555555555556,\"#d8576b\"],[0.6666666666666666,\"#ed7953\"],[0.7777777777777778,\"#fb9f3a\"],[0.8888888888888888,\"#fdca26\"],[1.0,\"#f0f921\"]],\"sequentialminus\":[[0.0,\"#0d0887\"],[0.1111111111111111,\"#46039f\"],[0.2222222222222222,\"#7201a8\"],[0.3333333333333333,\"#9c179e\"],[0.4444444444444444,\"#bd3786\"],[0.5555555555555556,\"#d8576b\"],[0.6666666666666666,\"#ed7953\"],[0.7777777777777778,\"#fb9f3a\"],[0.8888888888888888,\"#fdca26\"],[1.0,\"#f0f921\"]],\"diverging\":[[0,\"#8e0152\"],[0.1,\"#c51b7d\"],[0.2,\"#de77ae\"],[0.3,\"#f1b6da\"],[0.4,\"#fde0ef\"],[0.5,\"#f7f7f7\"],[0.6,\"#e6f5d0\"],[0.7,\"#b8e186\"],[0.8,\"#7fbc41\"],[0.9,\"#4d9221\"],[1,\"#276419\"]]},\"xaxis\":{\"gridcolor\":\"white\",\"linecolor\":\"white\",\"ticks\":\"\",\"title\":{\"standoff\":15},\"zerolinecolor\":\"white\",\"automargin\":true,\"zerolinewidth\":2},\"yaxis\":{\"gridcolor\":\"white\",\"linecolor\":\"white\",\"ticks\":\"\",\"title\":{\"standoff\":15},\"zerolinecolor\":\"white\",\"automargin\":true,\"zerolinewidth\":2},\"scene\":{\"xaxis\":{\"backgroundcolor\":\"#E5ECF6\",\"gridcolor\":\"white\",\"linecolor\":\"white\",\"showbackground\":true,\"ticks\":\"\",\"zerolinecolor\":\"white\",\"gridwidth\":2},\"yaxis\":{\"backgroundcolor\":\"#E5ECF6\",\"gridcolor\":\"white\",\"linecolor\":\"white\",\"showbackground\":true,\"ticks\":\"\",\"zerolinecolor\":\"white\",\"gridwidth\":2},\"zaxis\":{\"backgroundcolor\":\"#E5ECF6\",\"gridcolor\":\"white\",\"linecolor\":\"white\",\"showbackground\":true,\"ticks\":\"\",\"zerolinecolor\":\"white\",\"gridwidth\":2}},\"shapedefaults\":{\"line\":{\"color\":\"#2a3f5f\"}},\"annotationdefaults\":{\"arrowcolor\":\"#2a3f5f\",\"arrowhead\":0,\"arrowwidth\":1},\"geo\":{\"bgcolor\":\"white\",\"landcolor\":\"#E5ECF6\",\"subunitcolor\":\"white\",\"showland\":true,\"showlakes\":true,\"lakecolor\":\"white\"},\"title\":{\"x\":0.05},\"mapbox\":{\"style\":\"light\"}}},\"xaxis\":{\"anchor\":\"y\",\"domain\":[0.0,1.0],\"showticklabels\":false},\"yaxis\":{\"anchor\":\"x\",\"domain\":[0.0,1.0],\"showticklabels\":false},\"margin\":{\"t\":0,\"b\":0,\"l\":0,\"r\":0},\"coloraxis\":{\"showscale\":false},\"height\":900,\"width\":150},                        {\"displayModeBar\": false, \"responsive\": true}                    ).then(function(){\n",
              "                            \n",
              "var gd = document.getElementById('e00cdd87-fced-480c-8116-a3d2d1aac077');\n",
              "var x = new MutationObserver(function (mutations, observer) {{\n",
              "        var display = window.getComputedStyle(gd).display;\n",
              "        if (!display || display === 'none') {{\n",
              "            console.log([gd, 'removed!']);\n",
              "            Plotly.purge(gd);\n",
              "            observer.disconnect();\n",
              "        }}\n",
              "}});\n",
              "\n",
              "// Listen for the removal of the full notebook cells\n",
              "var notebookContainer = gd.closest('#notebook-container');\n",
              "if (notebookContainer) {{\n",
              "    x.observe(notebookContainer, {childList: true});\n",
              "}}\n",
              "\n",
              "// Listen for the clearing of the current output cell\n",
              "var outputEl = gd.closest('.output');\n",
              "if (outputEl) {{\n",
              "    x.observe(outputEl, {childList: true});\n",
              "}}\n",
              "\n",
              "                        })                };                            </script>        </div>\n",
              "</body>\n",
              "</html>"
            ]
          },
          "metadata": {}
        }
      ],
      "source": [
        "# Your code here - define arr1\n",
        "arr1 = einops.rearrange(arr, \"b c h w -> c (b h) w\")\n",
        "display_array_as_img(arr1)"
      ]
    },
    {
      "cell_type": "markdown",
      "metadata": {
        "id": "Ne9jTRpg0kJ6"
      },
      "source": [
        "<details><summary>Solution</summary>\n",
        "\n",
        "```python\n",
        "arr1 = einops.rearrange(arr, \"b c h w -> c (b h) w\")\n",
        "```\n",
        "</details>"
      ]
    },
    {
      "cell_type": "markdown",
      "metadata": {
        "id": "8jAinsPt0kJ9"
      },
      "source": [
        "#### (2) Column-stacking and copying\n",
        "\n",
        "In this example we take just the first digit, and copy it along rows using `einops.repeat`."
      ]
    },
    {
      "cell_type": "code",
      "execution_count": null,
      "metadata": {
        "id": "eMWtV5Vl0kJ9",
        "outputId": "5166660f-23c0-443c-899d-39f76d9cfecc"
      },
      "outputs": [
        {
          "data": {
            "text/html": [
              "<div style=\"text-align: left\"><embed src = \"https://info-arena.github.io/ARENA_img/misc/media-00/ex2.html\" width=\"167\" height = \"317\"></div>"
            ],
            "text/plain": [
              "<IPython.core.display.HTML object>"
            ]
          },
          "metadata": {},
          "output_type": "display_data"
        }
      ],
      "source": [
        "display_soln_array_as_img(2)"
      ]
    },
    {
      "cell_type": "code",
      "execution_count": 13,
      "metadata": {
        "id": "C2Mj4PZV0kJ9",
        "outputId": "14673510-8380-4e86-b5a5-9931b8605707",
        "colab": {
          "base_uri": "https://localhost:8080/",
          "height": 317
        }
      },
      "outputs": [
        {
          "output_type": "display_data",
          "data": {
            "text/html": [
              "<html>\n",
              "<head><meta charset=\"utf-8\" /></head>\n",
              "<body>\n",
              "    <div>            <script src=\"https://cdnjs.cloudflare.com/ajax/libs/mathjax/2.7.5/MathJax.js?config=TeX-AMS-MML_SVG\"></script><script type=\"text/javascript\">if (window.MathJax && window.MathJax.Hub && window.MathJax.Hub.Config) {window.MathJax.Hub.Config({SVG: {font: \"STIX-Web\"}});}</script>                <script type=\"text/javascript\">window.PlotlyConfig = {MathJaxConfig: 'local'};</script>\n",
              "        <script charset=\"utf-8\" src=\"https://cdn.plot.ly/plotly-2.35.2.min.js\"></script>                <div id=\"7474c965-f411-4145-ad35-bd79d4ef4634\" class=\"plotly-graph-div\" style=\"height:300px; width:150px;\"></div>            <script type=\"text/javascript\">                                    window.PLOTLYENV=window.PLOTLYENV || {};                                    if (document.getElementById(\"7474c965-f411-4145-ad35-bd79d4ef4634\")) {                    Plotly.newPlot(                        \"7474c965-f411-4145-ad35-bd79d4ef4634\",                        [{\"name\":\"0\",\"source\":\"data:image\\u002fpng;base64,iVBORw0KGgoAAAANSUhEUgAAAJYAAAEsCAIAAACuRd0SAAATl0lEQVR4Xu2deVBV1x3Hf7zH+nw8FkUUUBEUlUXiFnetS1KXtMakuE2dMTpV09jGrWoyaTI1rZppEpfoVJu0cWodoxFTpx2MGiQorhEFkSQIgoogCKJs7\\u002fFW+gdzO+ZXzhXve8\\u002f+fvZ8\\u002fvz+nOOZ+7nn3eWce\\u002fBpzf0YJJzR4UDCDamQPVIhe6RC9kiF7JEK2SMVskcqZI9UyB6pkD1SIXukQvZIheyRCtkjFbJHKmSPVMgeqZA9UiF7pEL2SIXskQrZIxWyRypkj1TIHqmQPVIhe6RC9kiF7JEK2SMVskcqZI9UyB6pkD1SIXukQvZIheyRCtkjFbLHFwdssdocpy4X5+QV51+7XVpRU1nzoNlitdmdhkB\\u002fkzGwS2hwYlz3xN5R44ckjEqN1+uennPX5ynYOuhM\\u002fvWd6dmHTlxqtlhxrT3CTIaZEwYvnzc5pU80rjGEt8K8ovKVHx7Iuvg9LnSMqaOTN6+a3a9XN1xgBVeFDqfrnZ2H39v9pdPlwrXHIcDf982F095a9IJO54NrTGCpsMlsnbFy+4lvNA6+\\u002f2bq6OR9GxaHGINwgQP8rur1TZbnX9vsQX8AcOT01bGL3qtraMYFDjBT2GyxTlr6wdkr13HBbQpKKqYu29pk7tANESmYPVQs+cOe3O9u4vSH9OwWPm1MyjMJPaIiQoMC\\u002fBuaLddv15wrKP3yzFVziw3\\u002f64e4UFi2aP3u\\u002fZuW4AJtOCnclZ6998h5nD7E0MTY9UtnTBmV5OPTzr1Js8W6K\\u002f3kxk8zah804ZrCgeMXJz07YPFL43CBMGxuZ67frklKe9tqc+ACAADodD7vvvriugVTH3ljebeucdH63f86dQUXFIyGgKJDv4+KCMUFqrC5Fq7ddlDkT6\\u002fT7duw+M2F0x7pDwC6hgcf\\u002fnDZ63Mn4YJCk9m6ZutBnBKGh8LT+SXpmZdwqrB97bxZzw3FqRidzmfL6jlLfzYeFxT2Hjn\\u002fyCsuHXgoXLctHUcKs58fpiJDhY\\u002fWzBs\\u002fJAGnChs\\u002fzcARVRgovFJ8OyevBKcAAGA0BHywYhZOO4avXrfn3UWGQH9cAACAL7IuX7tZjVOSMFC4Kz0bRwq\\u002fnjMpumsoTjtMj8jwda9MxSkAALhcrX8+dBKnJKGu0Nxi+3tG+w8SvnrdL9Mm4PQxWTZrYlCAH04BAGDvkfNuvoB9MlBXePjrvIZmC04BAOCFsanuDME2wkyGuVOG4xQAAKru1R87+y1O6UFeYXYejhRmThiEI028PGkwjhRU\\u002fnc6kFbY2tp67FwhTgEAQK\\u002fTTR+bglNNTBzWX3RTk5FTgCN6kFZ4pfj2\\u002fQYzTgEAYGDfmM4hRpxqItDfb3RqH5wCAEB5dV1BSQVOiUFa4el84YzEqNR4HLnBs8m9caRw6nIxjohBWqHKK5IRKXE4coPhYoXnCkpxRAzSCvOKbuFIITnekyuXEuOicKSg0gcikFZYJHg\\u002f4uPjk9ArEqduEBvV2c9Xj1MAACi6WU386ZCuwoq7D0SLCntEhonuIbWh1+l6R3fBKQAA2OyOW3fqcEoJugrLKmtxpNCre2ccuU2PyHAcKdy4I+wJBegqLK8SnvvemI\\u002ft1tmEI4Xyqvs4ogRdhRU1wgPnHYUhOFK4U1uPI0rQVXi3rhFHCpHhwhGjma7hwThSUFlrQwG6ClVWdXpjza6pk7BNlZ5QgLDCeuGBMxkDceQ2RkMAjhREUyVEoKtQZVWuyojRTLBBeFo0NLXgiBJ0Faos21UZMZrpFCRss8VmxxEl6Cq0WIUKffXtv0lxB71euICxxSoVasLucOJIwVfv+W6rnBYqPaGA54+Fp3C6WnGk4B2FwjZdrcKeUEDY7\\u002f85LvHLZZURoxmVNp1OYU8oQFeh2jEV29WMwyn8tdSLBygF6HbO30+o0OGFYaHSpspvLAXods7fT\\u002fjhnMqI0YxKm1KhRkRzsADgcAhHjGacTuE9S1CAJ+cmPQ5dhSoHTuWpXzOi6WVQfeqnAF2F4SEGHCk0mj3\\u002fxkulTW+8DPIgdBWqLBNtbBYebs2oKAwzCU8mCrBU6I2pA5XTQqUnFCCsMLQTjhRUZoM1U13XgCOFiDDhbDAF6CqMjgjDkULVPc+vhKiqFSqM9sI6Dw9CV2FcTPurAkF1xGhG5bSIiRSeTBSgqzA+JgJHCrfEi9s0o9JmXLSwJxSgq9DUKSjc1P7l8Hp5jUs8j6EBh9N1Q7BsNcQYpLIyigJ0FQJAUnz7nzq02Ozl1cJBo4GyilrRO9L+sdR3KyWtcMiAXjhSKCytxJEbFJYKPyIc1L8njohBWuGwpFgcKVy4WoYjNzhfIGxtcH\\u002fhaUQE2goThZ\\u002f9XSgUHnQNqLQ22qPfonoD0gr79uwquqHPuVxis7e\\u002fJdvjYm6xiTY4jQgLHtC7O06JQVohAEwZmYwjAABoNLd8nVuEU018df47i2CN2o9Htr8vJimoK5w2RritxefHc3GkiYOZwnZ+Mi4VR\\u002fSgrvC54Ymi6bp9Ry\\u002fUN7n7vrv2QdPnxy\\u002fiFAAAQoMNUqEHMBoC0iYPwSkAADRbrDsOZOH0Mdm2L1O0WHv+9BGivb1IQV0hAPxi5jgcKWz4a0bF3Qc47TA3Ku+9v+coThW4bO\\u002fMQOGo1Phn+vXAKQAANFus83\\u002f7F21rEu0O58\\u002ff+kR0IzNucIJnN9XwHgwUAsDvlszAkULWxe+Xv78fpx3gtU17T+e3v80pAGz61Us4ogoPhT8dn6qyu8\\u002f2\\u002fSd+s+Vga4eXzbtcra\\u002f\\u002f8bOPvziFCwppk4eOHEj9if4\\u002f8FAIAFtWz1H5i3Xv7zmatnZnRz7Hrbnf+OKqHds+y8QFhUB\\u002fv418hiAwUjgiJW7tgik4fYj0zEuJL7+940CW6A7TYrVv3ZeZlPbOP0\\u002fm49pDbFszV2WqkiBs\\u002fk4FANgdztELN31TeAMXfoipU9D0sSnDk+Niu3c2GgKazNayytpzBaUZOQUqy9TamD995N\\u002fWL8QpbTgpBIDquoaRCzaWVbQ\\u002fPesmw5Jis3atFr1JIAubH9I2IsNNR7ev8MbuT6NS47\\u002f600p2\\u002foCdQgDo27Pr2d1vDOrnyZnYicP6H9uxwhu7MDwB+CkEgO5dQs7sXrd83mT3pxH0Ot0br0w7umMFx\\u002fHXBrNrIeJcQem6j9Kzc6\\u002fhQscYPyRh86rZnh3QTx7eCts4eenaJ\\u002f\\u002fISc\\u002fM7eAXT4ZA\\u002f5kTBr2a9iPRlty8eBoUttFis5\\u002fOK8nOvfZtWWXxrbtV9+qbzNYWm93PV28MCoyKCImLiRjYJ2bMoD7jBicE+jOYguggT4\\u002fC\\u002f1tY3s5IHkYqZI9UyB6pkD1SIXukQvZIheyRCtkjFbJHKmSPVMgeqZA9UiF7pEL2SIXskQrZIxWyRypkj1TIHqmQPVIhe6RC9kiF7JEK2SMVskcqZI9UyB6pkD1SIXukQvZIheyRCtkjFbJHKmSPVMgeqZA9UiF7pEL2SIXskQrZIxWyRypkj1TIHqmQPVIhe6RC9kiF7JEK2SMVskcqZI9UyB6pkD1SIXukQvZIheyRCtkjFbJHKmSPVMgeqZA9UiF7pEL2SIXskQrZIxWyRypkj1TIHqmQPVIhe6RC9kiF7JEK2SMVskcqZI9UyB6pkD2+OGCL1eY4dbk4J684\\u002f9rt0oqaypoHzRarze40BPqbjIFdQoMT47on9o4aPyRhVGq8Xvf0nLs+rbkf44wbZ\\u002fKv70zPPnTiUrPFimvtEWYyzJwwePm8ySl9onGNIbwV5hWVr\\u002fzwQNbF73GhY0wdnbx51ex+vbrhAiu4KnQ4Xe\\u002fsPPze7i+dLheuPQ4B\\u002fr5vLpz21qIXdDofXGMCS4VNZuuMldtPfKNx8P03U0cn79uwOMQYhAsc4HdVr2+yPP\\u002faZg\\u002f6A4Ajp6+OXfReXUMzLnCAmcJmi3XS0g\\u002fOXrmOC25TUFIxddnWJnOHbohIweyhYskf9uR+dxOnP6Rnt\\u002fBpY1KeSegRFREaFODf0Gy5frvmXEHpl2eumlts+F8\\u002fxIXCskXrd+\\u002fftAQXaMNJ4a707L1HzuP0IYYmxq5fOmPKqCQfn3buTZot1l3pJzd+mlH7oAnXFA4cvzjp2QGLXxqHC4Rhcztz\\u002fXZNUtrbVpsDFwAAQKfzeffVF9ctmPrIG8u7dY2L1u\\u002f+16kruKBgNAQUHfp9VEQoLlCFzbVw7baDIn96nW7fhsVvLpz2SH8A0DU8+PCHy16fOwkXFJrM1jVbD+KUMDwUns4vSc+8hFOF7WvnzXpuKE7F6HQ+W1bPWfqz8bigsPfI+UdecenAQ+G6bek4Upj9\\u002fDAVGSp8tGbe+CEJOFXY+GkGjqjCQOGV4ts5eSU4BQAAoyHggxWzcNoxfPW6Pe8uMgT64wIAAHyRdfnazWqckoSBwl3p2ThS+PWcSdFdQ3HaYXpEhq97ZSpOAQDA5Wr986GTOCUJdYXmFtvfM9p\\u002fkPDV636ZNgGnj8myWRODAvxwCgAAe4+cd\\u002fMF7JOBusLDX+c1NFtwCgAAL4xNdWcIthFmMsydMhynAABQda\\u002f+2NlvcUoP8gqz83CkMHPCIBxp4uVJg3GkoPK\\u002f04G0wtbW1mPnCnEKAAB6nW762BScamLisP6im5qMnAIc0YO0wivFt+83mHEKAAAD+8Z0DjHiVBOB\\u002fn6jU\\u002fvgFAAAyqvrCkoqcEoM0gpP5wtnJEalxuPIDZ5N7o0jhVOXi3FEDNIKVV6RjEiJw5EbDBcrPFdQiiNikFaYV3QLRwrJ8Z5cuZQYF4UjBZU+EIG0wiLB+xEfH5+EXpE4dYPYqM5+vnqcAgBA0c1q4k+HdBVW3H0gWlTYIzJMdA+pDb1O1zu6C04BAMBmd9y6U4dTStBVWFZZiyOFXt0748htekSG40jhxh1hTyhAV2F5lfDc98Z8bLfOJhwplFfdxxEl6CqsqBEeOO8oDMGRwp3aehxRgq7Cu3WNOFKIDBeOGM10DQ\\u002fGkYLKWhsK0FWosqrTG2t2TZ2Ebar0hAKEFdYLD5zJGIgjtzEaAnCkIJoqIQJdhSqrclVGjGaCDcLToqGpBUeUoKtQZdmuyojRTKcgYZstNjuOKEFXocUqVOirb\\u002f9Nijvo9cIFjC1WqVATdocTRwq+es93W+W0UOkJBTx\\u002fLDyF09WKIwXvKBS26WoV9oQCwn7\\u002fz3GJXy6rjBjNqLTpdAp7QgG6CtWOqdiuZhxO4a+lXjxAKUC3c\\u002f5+QoUOLwwLlTZVfmMpQLdz\\u002fn7CD+dURoxmVNqUCjUimoMFAIdDOGI043QK71mCAjw5N+lx6CpUOXAqT\\u002f2aEU0vg+pTPwXoKgwPMeBIodHs+TdeKm1642WQB6GrUGWZaGOz8HBrRkVhmEl4MlGApUJvTB2onBYqPaEAYYWhnXCkoDIbrJnqugYcKUSECWeDKUBXYXREGI4Uqu55fiVEVa1QYbQX1nl4ELoK42LaXxUIqiNGMyqnRUyk8GSiAF2F8TEROFK4JV7cphmVNuOihT2hAF2Fpk5B4ab2L4fXy2tc4nkMDTicrhuCZashxiCVlVEUoKsQAJLi2\\u002f\\u002fUocVmL68WDhoNlFXUit6R9o+lvlspaYVDBvTCkUJhaSWO3KCwVPgR4aD+PXFEDNIKhyXF4kjhwtUyHLnB+QJha4P7C08jItBWmCj87O9CofCga0CltdEe\\u002fRbVG5BW2LdnV9ENfc7lEpu9\\u002fS3ZHhdzi020wWlEWPCA3t1xSgzSCgFgyshkHAEAQKO55evcIpxq4qvz31kEa9R+PLL9fTFJQV3htDHCbS0+P56LI00czBS285NxqTiiB3WFzw1PFE3X7Tt6ob7J3ffdtQ+aPj9+EacAABAabJAKPYDREJA2eQhOAQCg2WLdcSALp4\\u002fJtn2ZosXa86ePEO3tRQrqCgHgFzPH4Uhhw18zKu4+wGmHuVF57\\u002f09R3GqwGV7ZwYKR6XGP9OvB04BAKDZYp3\\u002f279oW5Nodzh\\u002f\\u002ftYnohuZcYMTPLuphvdgoBAAfrdkBo4Usi5+v\\u002fz9\\u002fTjtAK9t2ns6v\\u002f1tTgFg069ewhFVeCj86fhUld19tu8\\u002f8ZstB1s7vGze5Wp9\\u002fY+fffzFKVxQSJs8dORA6k\\u002f0\\u002f4GHQgDYsnqOyl+se3\\u002fP0bS1OzvyOW7N\\u002fcYXV+3Y9lkmLigE+vtt5DMEgZHCESlxaxdMwelDpGdeSnz57R0HskR3mBarfeu+zKS0d\\u002f55Mh\\u002fXHmLbmrkqU5UEYfN3KgDA7nCOXrjpm8IbuPBDTJ2Cpo9NGZ4cF9u9s9EQ0GS2llXWnisozcgpUFmm1sb86SP\\u002ftn4hTmnDSSEAVNc1jFywsayi\\u002felZNxmWFJu1a7XoTQJZ2PyQthEZbjq6fYU3dn8alRr\\u002f1Z9WsvMH7BQCQN+eXc\\u002fufmNQP0\\u002fOxE4c1v\\u002fYjhXe2IXhCcBPIQB07xJyZve65fMmuz+NoNfp3nhl2tEdKziOvzaYXQsR5wpK132Unp17DRc6xvghCZtXzfbsgH7y8FbYxslL1z75R056Zm4Hv3gyBPrPnDDo1bQfibbk5sXToLCNFpv9dF5Jdu61b8sqi2\\u002fdrbpX32S2ttjsfr56Y1BgVERIXEzEwD4xYwb1GTc4IdCfwRREB3l6FP7fwvJ2RvIwUiF7pEL2SIXskQrZIxWyRypkj1TIHqmQPVIhe6RC9kiF7JEK2SMVskcqZI9UyB6pkD1SIXukQvZIheyRCtkjFbJHKmSPVMgeqZA9UiF7pEL2SIXskQrZIxWyRypkj1TIHqmQPVIhe6RC9kiF7Pk3hxPmts5smm0AAAAASUVORK5CYII=\",\"type\":\"image\",\"xaxis\":\"x\",\"yaxis\":\"y\",\"hovertemplate\":\"x: %{x}\\u003cbr\\u003ey: %{y}\\u003cbr\\u003ecolor: [%{z[0]}, %{z[1]}, %{z[2]}]\\u003cextra\\u003e\\u003c\\u002fextra\\u003e\"}],                        {\"template\":{\"data\":{\"histogram2dcontour\":[{\"type\":\"histogram2dcontour\",\"colorbar\":{\"outlinewidth\":0,\"ticks\":\"\"},\"colorscale\":[[0.0,\"#0d0887\"],[0.1111111111111111,\"#46039f\"],[0.2222222222222222,\"#7201a8\"],[0.3333333333333333,\"#9c179e\"],[0.4444444444444444,\"#bd3786\"],[0.5555555555555556,\"#d8576b\"],[0.6666666666666666,\"#ed7953\"],[0.7777777777777778,\"#fb9f3a\"],[0.8888888888888888,\"#fdca26\"],[1.0,\"#f0f921\"]]}],\"choropleth\":[{\"type\":\"choropleth\",\"colorbar\":{\"outlinewidth\":0,\"ticks\":\"\"}}],\"histogram2d\":[{\"type\":\"histogram2d\",\"colorbar\":{\"outlinewidth\":0,\"ticks\":\"\"},\"colorscale\":[[0.0,\"#0d0887\"],[0.1111111111111111,\"#46039f\"],[0.2222222222222222,\"#7201a8\"],[0.3333333333333333,\"#9c179e\"],[0.4444444444444444,\"#bd3786\"],[0.5555555555555556,\"#d8576b\"],[0.6666666666666666,\"#ed7953\"],[0.7777777777777778,\"#fb9f3a\"],[0.8888888888888888,\"#fdca26\"],[1.0,\"#f0f921\"]]}],\"heatmap\":[{\"type\":\"heatmap\",\"colorbar\":{\"outlinewidth\":0,\"ticks\":\"\"},\"colorscale\":[[0.0,\"#0d0887\"],[0.1111111111111111,\"#46039f\"],[0.2222222222222222,\"#7201a8\"],[0.3333333333333333,\"#9c179e\"],[0.4444444444444444,\"#bd3786\"],[0.5555555555555556,\"#d8576b\"],[0.6666666666666666,\"#ed7953\"],[0.7777777777777778,\"#fb9f3a\"],[0.8888888888888888,\"#fdca26\"],[1.0,\"#f0f921\"]]}],\"heatmapgl\":[{\"type\":\"heatmapgl\",\"colorbar\":{\"outlinewidth\":0,\"ticks\":\"\"},\"colorscale\":[[0.0,\"#0d0887\"],[0.1111111111111111,\"#46039f\"],[0.2222222222222222,\"#7201a8\"],[0.3333333333333333,\"#9c179e\"],[0.4444444444444444,\"#bd3786\"],[0.5555555555555556,\"#d8576b\"],[0.6666666666666666,\"#ed7953\"],[0.7777777777777778,\"#fb9f3a\"],[0.8888888888888888,\"#fdca26\"],[1.0,\"#f0f921\"]]}],\"contourcarpet\":[{\"type\":\"contourcarpet\",\"colorbar\":{\"outlinewidth\":0,\"ticks\":\"\"}}],\"contour\":[{\"type\":\"contour\",\"colorbar\":{\"outlinewidth\":0,\"ticks\":\"\"},\"colorscale\":[[0.0,\"#0d0887\"],[0.1111111111111111,\"#46039f\"],[0.2222222222222222,\"#7201a8\"],[0.3333333333333333,\"#9c179e\"],[0.4444444444444444,\"#bd3786\"],[0.5555555555555556,\"#d8576b\"],[0.6666666666666666,\"#ed7953\"],[0.7777777777777778,\"#fb9f3a\"],[0.8888888888888888,\"#fdca26\"],[1.0,\"#f0f921\"]]}],\"surface\":[{\"type\":\"surface\",\"colorbar\":{\"outlinewidth\":0,\"ticks\":\"\"},\"colorscale\":[[0.0,\"#0d0887\"],[0.1111111111111111,\"#46039f\"],[0.2222222222222222,\"#7201a8\"],[0.3333333333333333,\"#9c179e\"],[0.4444444444444444,\"#bd3786\"],[0.5555555555555556,\"#d8576b\"],[0.6666666666666666,\"#ed7953\"],[0.7777777777777778,\"#fb9f3a\"],[0.8888888888888888,\"#fdca26\"],[1.0,\"#f0f921\"]]}],\"mesh3d\":[{\"type\":\"mesh3d\",\"colorbar\":{\"outlinewidth\":0,\"ticks\":\"\"}}],\"scatter\":[{\"fillpattern\":{\"fillmode\":\"overlay\",\"size\":10,\"solidity\":0.2},\"type\":\"scatter\"}],\"parcoords\":[{\"type\":\"parcoords\",\"line\":{\"colorbar\":{\"outlinewidth\":0,\"ticks\":\"\"}}}],\"scatterpolargl\":[{\"type\":\"scatterpolargl\",\"marker\":{\"colorbar\":{\"outlinewidth\":0,\"ticks\":\"\"}}}],\"bar\":[{\"error_x\":{\"color\":\"#2a3f5f\"},\"error_y\":{\"color\":\"#2a3f5f\"},\"marker\":{\"line\":{\"color\":\"#E5ECF6\",\"width\":0.5},\"pattern\":{\"fillmode\":\"overlay\",\"size\":10,\"solidity\":0.2}},\"type\":\"bar\"}],\"scattergeo\":[{\"type\":\"scattergeo\",\"marker\":{\"colorbar\":{\"outlinewidth\":0,\"ticks\":\"\"}}}],\"scatterpolar\":[{\"type\":\"scatterpolar\",\"marker\":{\"colorbar\":{\"outlinewidth\":0,\"ticks\":\"\"}}}],\"histogram\":[{\"marker\":{\"pattern\":{\"fillmode\":\"overlay\",\"size\":10,\"solidity\":0.2}},\"type\":\"histogram\"}],\"scattergl\":[{\"type\":\"scattergl\",\"marker\":{\"colorbar\":{\"outlinewidth\":0,\"ticks\":\"\"}}}],\"scatter3d\":[{\"type\":\"scatter3d\",\"line\":{\"colorbar\":{\"outlinewidth\":0,\"ticks\":\"\"}},\"marker\":{\"colorbar\":{\"outlinewidth\":0,\"ticks\":\"\"}}}],\"scattermapbox\":[{\"type\":\"scattermapbox\",\"marker\":{\"colorbar\":{\"outlinewidth\":0,\"ticks\":\"\"}}}],\"scatterternary\":[{\"type\":\"scatterternary\",\"marker\":{\"colorbar\":{\"outlinewidth\":0,\"ticks\":\"\"}}}],\"scattercarpet\":[{\"type\":\"scattercarpet\",\"marker\":{\"colorbar\":{\"outlinewidth\":0,\"ticks\":\"\"}}}],\"carpet\":[{\"aaxis\":{\"endlinecolor\":\"#2a3f5f\",\"gridcolor\":\"white\",\"linecolor\":\"white\",\"minorgridcolor\":\"white\",\"startlinecolor\":\"#2a3f5f\"},\"baxis\":{\"endlinecolor\":\"#2a3f5f\",\"gridcolor\":\"white\",\"linecolor\":\"white\",\"minorgridcolor\":\"white\",\"startlinecolor\":\"#2a3f5f\"},\"type\":\"carpet\"}],\"table\":[{\"cells\":{\"fill\":{\"color\":\"#EBF0F8\"},\"line\":{\"color\":\"white\"}},\"header\":{\"fill\":{\"color\":\"#C8D4E3\"},\"line\":{\"color\":\"white\"}},\"type\":\"table\"}],\"barpolar\":[{\"marker\":{\"line\":{\"color\":\"#E5ECF6\",\"width\":0.5},\"pattern\":{\"fillmode\":\"overlay\",\"size\":10,\"solidity\":0.2}},\"type\":\"barpolar\"}],\"pie\":[{\"automargin\":true,\"type\":\"pie\"}]},\"layout\":{\"autotypenumbers\":\"strict\",\"colorway\":[\"#636efa\",\"#EF553B\",\"#00cc96\",\"#ab63fa\",\"#FFA15A\",\"#19d3f3\",\"#FF6692\",\"#B6E880\",\"#FF97FF\",\"#FECB52\"],\"font\":{\"color\":\"#2a3f5f\"},\"hovermode\":\"closest\",\"hoverlabel\":{\"align\":\"left\"},\"paper_bgcolor\":\"white\",\"plot_bgcolor\":\"#E5ECF6\",\"polar\":{\"bgcolor\":\"#E5ECF6\",\"angularaxis\":{\"gridcolor\":\"white\",\"linecolor\":\"white\",\"ticks\":\"\"},\"radialaxis\":{\"gridcolor\":\"white\",\"linecolor\":\"white\",\"ticks\":\"\"}},\"ternary\":{\"bgcolor\":\"#E5ECF6\",\"aaxis\":{\"gridcolor\":\"white\",\"linecolor\":\"white\",\"ticks\":\"\"},\"baxis\":{\"gridcolor\":\"white\",\"linecolor\":\"white\",\"ticks\":\"\"},\"caxis\":{\"gridcolor\":\"white\",\"linecolor\":\"white\",\"ticks\":\"\"}},\"coloraxis\":{\"colorbar\":{\"outlinewidth\":0,\"ticks\":\"\"}},\"colorscale\":{\"sequential\":[[0.0,\"#0d0887\"],[0.1111111111111111,\"#46039f\"],[0.2222222222222222,\"#7201a8\"],[0.3333333333333333,\"#9c179e\"],[0.4444444444444444,\"#bd3786\"],[0.5555555555555556,\"#d8576b\"],[0.6666666666666666,\"#ed7953\"],[0.7777777777777778,\"#fb9f3a\"],[0.8888888888888888,\"#fdca26\"],[1.0,\"#f0f921\"]],\"sequentialminus\":[[0.0,\"#0d0887\"],[0.1111111111111111,\"#46039f\"],[0.2222222222222222,\"#7201a8\"],[0.3333333333333333,\"#9c179e\"],[0.4444444444444444,\"#bd3786\"],[0.5555555555555556,\"#d8576b\"],[0.6666666666666666,\"#ed7953\"],[0.7777777777777778,\"#fb9f3a\"],[0.8888888888888888,\"#fdca26\"],[1.0,\"#f0f921\"]],\"diverging\":[[0,\"#8e0152\"],[0.1,\"#c51b7d\"],[0.2,\"#de77ae\"],[0.3,\"#f1b6da\"],[0.4,\"#fde0ef\"],[0.5,\"#f7f7f7\"],[0.6,\"#e6f5d0\"],[0.7,\"#b8e186\"],[0.8,\"#7fbc41\"],[0.9,\"#4d9221\"],[1,\"#276419\"]]},\"xaxis\":{\"gridcolor\":\"white\",\"linecolor\":\"white\",\"ticks\":\"\",\"title\":{\"standoff\":15},\"zerolinecolor\":\"white\",\"automargin\":true,\"zerolinewidth\":2},\"yaxis\":{\"gridcolor\":\"white\",\"linecolor\":\"white\",\"ticks\":\"\",\"title\":{\"standoff\":15},\"zerolinecolor\":\"white\",\"automargin\":true,\"zerolinewidth\":2},\"scene\":{\"xaxis\":{\"backgroundcolor\":\"#E5ECF6\",\"gridcolor\":\"white\",\"linecolor\":\"white\",\"showbackground\":true,\"ticks\":\"\",\"zerolinecolor\":\"white\",\"gridwidth\":2},\"yaxis\":{\"backgroundcolor\":\"#E5ECF6\",\"gridcolor\":\"white\",\"linecolor\":\"white\",\"showbackground\":true,\"ticks\":\"\",\"zerolinecolor\":\"white\",\"gridwidth\":2},\"zaxis\":{\"backgroundcolor\":\"#E5ECF6\",\"gridcolor\":\"white\",\"linecolor\":\"white\",\"showbackground\":true,\"ticks\":\"\",\"zerolinecolor\":\"white\",\"gridwidth\":2}},\"shapedefaults\":{\"line\":{\"color\":\"#2a3f5f\"}},\"annotationdefaults\":{\"arrowcolor\":\"#2a3f5f\",\"arrowhead\":0,\"arrowwidth\":1},\"geo\":{\"bgcolor\":\"white\",\"landcolor\":\"#E5ECF6\",\"subunitcolor\":\"white\",\"showland\":true,\"showlakes\":true,\"lakecolor\":\"white\"},\"title\":{\"x\":0.05},\"mapbox\":{\"style\":\"light\"}}},\"xaxis\":{\"anchor\":\"y\",\"domain\":[0.0,1.0],\"showticklabels\":false},\"yaxis\":{\"anchor\":\"x\",\"domain\":[0.0,1.0],\"showticklabels\":false},\"margin\":{\"t\":0,\"b\":0,\"l\":0,\"r\":0},\"coloraxis\":{\"showscale\":false},\"height\":300,\"width\":150},                        {\"displayModeBar\": false, \"responsive\": true}                    ).then(function(){\n",
              "                            \n",
              "var gd = document.getElementById('7474c965-f411-4145-ad35-bd79d4ef4634');\n",
              "var x = new MutationObserver(function (mutations, observer) {{\n",
              "        var display = window.getComputedStyle(gd).display;\n",
              "        if (!display || display === 'none') {{\n",
              "            console.log([gd, 'removed!']);\n",
              "            Plotly.purge(gd);\n",
              "            observer.disconnect();\n",
              "        }}\n",
              "}});\n",
              "\n",
              "// Listen for the removal of the full notebook cells\n",
              "var notebookContainer = gd.closest('#notebook-container');\n",
              "if (notebookContainer) {{\n",
              "    x.observe(notebookContainer, {childList: true});\n",
              "}}\n",
              "\n",
              "// Listen for the clearing of the current output cell\n",
              "var outputEl = gd.closest('.output');\n",
              "if (outputEl) {{\n",
              "    x.observe(outputEl, {childList: true});\n",
              "}}\n",
              "\n",
              "                        })                };                            </script>        </div>\n",
              "</body>\n",
              "</html>"
            ]
          },
          "metadata": {}
        }
      ],
      "source": [
        "# Your code here - define arr2\n",
        "arr2 = einops.repeat(arr[0], \"c h w -> c (2 h) w\")\n",
        "display_array_as_img(arr2)"
      ]
    },
    {
      "cell_type": "markdown",
      "metadata": {
        "id": "Yt2sb7Wp0kJ9"
      },
      "source": [
        "<details><summary>Solution</summary>\n",
        "\n",
        "```python\n",
        "arr2 = einops.repeat(arr[0], \"c h w -> c (2 h) w\")\n",
        "```\n",
        "</details>"
      ]
    },
    {
      "cell_type": "markdown",
      "metadata": {
        "id": "1tCKKQeX0kJ9"
      },
      "source": [
        "#### (3) Row-stacking and double-copying\n",
        "\n",
        "This example is pretty similar to the previous one, except that the part of the original image we need to slice and pass into `einops.repeat` also has a batch dimension of 2 (since it includes the first 2 digits)."
      ]
    },
    {
      "cell_type": "code",
      "execution_count": null,
      "metadata": {
        "id": "fjFApSrR0kJ9",
        "outputId": "bc34058b-8f38-4a5c-a73b-9e1598c92ca5"
      },
      "outputs": [
        {
          "data": {
            "text/html": [
              "<div style=\"text-align: left\"><embed src = \"https://info-arena.github.io/ARENA_img/misc/media-00/ex3.html\" width=\"317\" height = \"317\"></div>"
            ],
            "text/plain": [
              "<IPython.core.display.HTML object>"
            ]
          },
          "metadata": {},
          "output_type": "display_data"
        }
      ],
      "source": [
        "display_soln_array_as_img(3)"
      ]
    },
    {
      "cell_type": "code",
      "execution_count": 15,
      "metadata": {
        "id": "69Lkzn8G0kJ9",
        "outputId": "39d57b41-00d4-408c-f875-24d9288c6ee4",
        "colab": {
          "base_uri": "https://localhost:8080/",
          "height": 317
        }
      },
      "outputs": [
        {
          "output_type": "display_data",
          "data": {
            "text/html": [
              "<html>\n",
              "<head><meta charset=\"utf-8\" /></head>\n",
              "<body>\n",
              "    <div>            <script src=\"https://cdnjs.cloudflare.com/ajax/libs/mathjax/2.7.5/MathJax.js?config=TeX-AMS-MML_SVG\"></script><script type=\"text/javascript\">if (window.MathJax && window.MathJax.Hub && window.MathJax.Hub.Config) {window.MathJax.Hub.Config({SVG: {font: \"STIX-Web\"}});}</script>                <script type=\"text/javascript\">window.PlotlyConfig = {MathJaxConfig: 'local'};</script>\n",
              "        <script charset=\"utf-8\" src=\"https://cdn.plot.ly/plotly-2.35.2.min.js\"></script>                <div id=\"5cd0031b-57ba-4d1f-be6f-b3af578ee556\" class=\"plotly-graph-div\" style=\"height:300px; width:300px;\"></div>            <script type=\"text/javascript\">                                    window.PLOTLYENV=window.PLOTLYENV || {};                                    if (document.getElementById(\"5cd0031b-57ba-4d1f-be6f-b3af578ee556\")) {                    Plotly.newPlot(                        \"5cd0031b-57ba-4d1f-be6f-b3af578ee556\",                        [{\"name\":\"0\",\"source\":\"data:image\\u002fpng;base64,iVBORw0KGgoAAAANSUhEUgAAASwAAAEsCAIAAAD2HxkiAAAPxklEQVR4Xu3deXSU9bnA8d9MQjZCCGGTHQIiQhDZREBBBFsWN2xB5dZzUK9or3oVoYI9Fq9al7ZWBeEIRS2t9UYpsZdji6Igi6iABoGIll2EIGEJW\\u002fZt7h+c1xMf8r68zCQ+7zvz\\u002ffz5\\u002fDzjnHnynZDJzJtAKHehAaAnKAcAflxECCgjQkAZEQLKiBBQRoSAMiIElBEhoIwIAWVECCgjQkAZEQLKiBBQRoSAMiIElBEhoIwIAWVECCgjQkAZEQLKiBBQRoSAMiIElBEhoIwIAWVECCgjQkAZEQLKiBBQRoSAMiIElBEhoIwIAWVECCgjQkAZEQLKiBBQRoSAMiIElMXLgW+VV1R99MXOdZt3btlxYE\\u002f+kYNHThSXlldUVqckJaSlJrVIb9Izs03PLm2H9+8+pE\\u002fXuCDPPp4TsxsMhHIXypnffLJl9\\u002fycNW9\\u002fuKm4tFye1aVZWsr4Ef0enDSqd7d28gwaYnyD\\u002fo5w8\\u002fb9Dz2\\u002feNXn\\u002f5YH7owZmvXCtJsv6nSBPMCPhQ0a\\u002f0ZYVV3z2Pylv1v0XnVNjTw7H4kJ8b++Y+yjd14bDAbkGRoSG\\u002fyeLyMsKim\\u002f4aG5H34W5tPn2cYMzcp+ekrT1GR5gIbBBmvzX4Qni0rH3D\\u002f706275UFkendrt3rhrzLSGssD1Dc2KPjsJabi0vKR9\\u002fyx3vdnjMnblT\\u002fmvtlFJa5eGEDY2ODZfPad8BePvvLGuxvk9Ic6XpAx9orel3bv0LZlenJiwqni0t0HjqzP2\\u002fPeJ1+WlFXI\\u002f\\u002fqHJl4z4K1n75ZT1B82eDY\\u002f\\u002fZ5wQc4a5\\u002f0N6Nn5iXtuGD2kVyBQx8\\u002foxaXlC3LWPvPnZUdPFMkzy+IPPh952cVTbhomD1Af2GCdfPOdcPeBI70mzCqvqJIHxhhjgsHAk7+8cebkMed8iexw4ek7n1j0z4+2ygNLakri9rd\\u002f27ZlujxAZNigHd\\u002f8TDhjzhK7\\u002fcUFg9lPT\\u002fn1HWPPuT9jTKuMJkufv++BW0fKA0tRSfnDs5fIKSLGBu34I8KPt+zKWblJTi1zZ0yaeM0AObUXDAZenH7LPT8fLg8sb7y7IffrfXKKCLBBB\\u002f6IcOacHDmy3PyTgQ7LcPDSw5OG9+8up5Zn\\u002frxMjhABNujABxFu3Xlg3eZdcmqMMSY1JfGPUyfKqTvxccHXn7wzJSlBHhhjjPnHqi927CuQU4SFDTrzQYQLctbIkeW\\u002fbxnZrlW6nLrWoXXGzNvHyKkxxpiamtCf3l4rpwgLG3Tm9QhLyir+tqzuF7Xj44L\\u002fNWGEnJ6n+yZenZzYSE6NMca88e6GCN\\u002fWCMMGXfB6hEtXbz5VXCqnxhhjrr2yTyRPomc0S0u5dfQgOTXGGHPo2Mn3P\\u002f1KTnGe2OA5eT7CNZvlyDJ+RF85CsvPRvaTI4vD\\u002fx0uOTyGbPAMT0cYCoXeX79NTo0xxsQFg+Ou7C2nYbl6YA+7H+6XrcuTI5wPNuiGpyPcuvPA8VMlcmqMMeaSC9s3b5oqp2FJSmg0tE83OTXGGLO\\u002foDBvV76cwjU26IanI\\u002fx4i+177Yf06SpHEbgsq4scWT76YqccwTU26IanI3R408PlvTPlKAKD7Fe4Pm+PHME1NuiGpyPcvP1bObJkda3PK\\u002fz0zGwrRxaH+4Bzcnj02OD3PB3hdpt3PAQCge6dWstpBDq3bd4oPk5OjTHGbN9X4IvfNXkTG3TDuxHmHz5hdwG8Dq2b2b0aFp64YLBLuxZyaowxpqKy6tvvCuUULrBBl7wb4d6DR+XI0qlNczmKWIfWGXJk+eY723sCB2zQJe9GuP+Q7bNXQ3xe84LmaXJk2X\\u002fouBzBBTbokncjzD9i+8A1zAqbypHlu6Mn5QgusEGXvBvh4cLTcmRpnWH7nBe2VhlN5MjicEUTOGCDLnk3wsJTxXJkaYhrvKY1tr1Nh3sCBw6PGxuszcMRnrR94NJSk+QoYqkpiXJksfsQAJyxQZe8G6HDVVwdnvPC1iTF9sviVFGZHMEFNuiSdyN0uMyrw3Ne2Bon295mWUWlHMEFNuiSdyMsLbddYXxc3e+NiERcXECOLGXlnl6hZ7FBl7wbYWVVtRxZ4uPq\\u002f247fFk43BM4cHjc2GBt9f9Y1JfqmpAcWRpmhba3WROyvSdwwAZdsr3f6mrs33Tr8JwXNofbrK62vSdwwAZd8m6ETo+p\\u002fXbDVlVt+y+WOPunWDhggy55984lNLJdYVUDPLE53KbDv3PggA265N07l9DI9s+2OTznhc3hNj2+Qs9igy55987ZfUbTGFNVZfucF7bqatuf3ZMT6\\u002fOTb7GDDbrk3QgdHjiH3wKHze7jp8bxt8BwwAZd8m6EGU1T5MhyuqT+34XkcJsN8faOWMAGXfJuhA4XpTxdbPtwh81hhc3SbL+Y4IANuuTLCBviTfEOXxYO9wQOHB43NlibhyNMbyxHFodPi4atoPCUHFlaNrP9tCgcsEGXvBthu5bN5Mhy6Fj9X63g0FHbFbZrgGsxxAI26JJ3I8xsX\\u002fcV7Izjc17YHL4s2re2\\u002fWKCAzbokncj7Nq+pRxZvrW\\u002fjFfYHG4zs53tPYEDNuiSdyNMa5yckVb3DxW79x+psX+Hfhiqqmu+sblIZtPUZIcrCMEBG3TJuxEaY3p1rfsPDJRVVO4vsH3aC8Pe\\u002fKN27zzs0fkCOYJrbNANT0fY\\u002f+JOcmTZtuegHEVg2x7bP2HXt0dHOYJrbNANT0c4sFdnObJs\\u002fHKvHEVgQ57trfXrYftlhHNig254O8Ketn90buM22wc9DA63NrRe\\u002f5ZlrGGDbng6wgs7trJ7cXndF7sqKqvkNCwlZRWfbt0tp8YYY1o2a3JxlzZyCtfYoBuejtAYM3pwlhwZY4w5XVK2One7nIZlxYavS22uxvXTwb0CAdtreMENNnhOXo9w7BW95cjy9w9y5SgsS1ba3s51w\\u002frIEc4TGzwnr0d4zaCedh8Gy16+8WRRpO8DPnqi6O8ffC6nxhhj0puk+GKFHscGz8nrEaamJE4Y1V9OjTHGFJeWz1u8Sk7P05zslXaXZ75t3OXJiY3kFOeJDZ6T1yM0xtw1fpgcWZ5+bVn+4RNy6to3B4899\\u002fpyObVMucn2\\u002f4vzwgad+SDCIX26XnpRBzk1xhhTXFp+229eDe\\u002f6eZVV1b949BW7H+iH9eue1bWdnCIsbNCZDyI0xjx+9w1yZFn1+b8ffO4tOXXh3mff+HjLLjm1PHv\\u002fTXKECLBBB\\u002f6I8PrhfQZl2f7ad+5bH\\u002f7qxSUh15c6r6kJPfCHNxf+4yN5YJkwasDgS7z+G15\\u002fYYMO\\u002fBGhMebF6bfEBW3v7XOvL58wY76bP8h65PjpG6fNm\\u002fPmSnlgSUpo9Ix\\u002fnkR9hA3asX1QvOby3pkzJo+W01pyVm7q+bNZ8xavsnutrLS8cnb2yl4THntn7RZ5Vsuch291+CAcwsYG7QRCuQvlzKsqq6qH3vHsZ9u+kQc\\u002flNY4edyVvQdlZXZu0zw1JbGopHzvwaPr8\\u002fYsW5fncEGuM24bN\\u002fivT9whp6gnbLBOforQGFNQeGrw5Gf25tf98c0IDezVedWC6Xa\\u002fWUa9YINn880\\u002fR89onZG2fO7UTm2ay4OIDenTdcXLD\\u002fluf77DBs\\u002fmswiNMRd2bPXpokf6XlSfn9S8emCP9+dNTWucLA\\u002fQANig4L8IjTFtWjT9ZNHMByeNivwN8nHB4CO3j10+b6ofn0H9iw3W5rOfCYX1eXtmvpSzJneHPHBneP\\u002fuL0y7uX6fknFe2KDxe4RnrN2045X\\u002fW5ezMtfl3\\u002fpJSUoYP6LvLydcNbRPN3kGDTG+wWiI8IyyisqPN+9ak7vjq70Hd357+NCxk0Ul5WUVlY3i41KTk9q2bJrZvuUl3dpf0bfbsH7dkxJ88Ob6WBOzG4yeCAGf8uULM0A0IUJAGRECyogQUEaEgDIiBJQRIaCMCAFlRAgoI0JAGRECyogQUEaEgDIiBJQRIaCMCAFlRAgoI0JAGRECyogQUEaEgDIiBJQRIaCMCAFlRAgoI0JAGRECyogQUEaEgDIiBJQRIaCMCAFlRAgoI0JAGRECyogQUBZvNvWTMwA\\u002fIr4TAsqIEFBGhIAyIgSUESGgjAgBZUQIKCNCQBkRAsqIEFBGhIAyIgSUESGgjAgBZUQIKCNCQBkRAsqIEFBGhIAyIgSUESGgjAgBZUQIKCNCQBkRAsqIEFBGhIAyIgSUESGgjAgBZUQIKCNCQBkRAsqIEFBGhIAyIgSUESGgjAgBZUQIKIuXg+h1\\u002fdyp72xZW3uyavqfrrqof+0JvCxaNxgr3wk\\u002f+GqD2B\\u002f8JYo3GBMRllSU3Z\\u002f9OzmFf0T3BmMiwvuzf7\\u002f90D45hX9E9wajP8L\\u002f3fDea+uWyin8I+o3GOURrtu1+c6\\u002fPC6n8I9Y2GA0R\\u002fjVwT3XvzS1rLJCHsAnYmSDURvhjoJ9P3nh3uMlp+QBfCJ2Nhidvyf8Mn\\u002f3qOfvKThVKA\\u002fgEzG1wSj8Trhx77arnrsrRvYXlWJtg9EWYfbG94b\\u002f4T+PFZ2UB\\u002fCJGNxg9PxzNBQK\\u002fWbpy0\\u002f961V5AJ+I2Q1GSYT5Jw5Pfu1\\u002fVny9QR7AJ2J5g9EQ4ZLcFXe\\u002f\\u002flRhcfS\\u002fjBatYnyD\\u002fo7w4Ikj0xa\\u002f8OZny+UBfIINGv9GWFVTPXtF9uPvLDhdViLPfigQCIRCITmFNjb4Pf9FGAqFcjatnLV0\\u002ftff7ZVnZxnWvV+vtpkvr14iD6CHDQo++xXF0s2r+z45acL8GW72d1O\\u002fq5c\\u002fOC8tKVUeQA8bPJufvhMeOF5w47xpclqXQCDw2HVTZl17VyAQkGfQwwbr5KcIXWqdlrHo9sdHZw2RB\\u002fCJWNtgtEV47SVXvjp5VqsmGfIAPhGDG4yeCFukpr94y\\u002fT\\u002fGDRGHsAnYnaD0RBhIBCYPOS63\\u002f\\u002f8gRap6fIMfhDjG\\u002fR9hIO6ZM259eHLuvSSB\\u002fAJNujjCLu16vDU+HsnDrhGHsAn2OAZvozwwlYdHxl7+22Dx8UH4+QZ\\u002fIAN1uanCAOBwIgeA+4bcfMNl14VF\\u002fTZ2wxg2KANP0XYLr3Vh9MWyCn8gw3WiWcjQBkRAsqIEFBGhIAyIgSUESGgjAgBZUQIKCNCQBkRAsqIEFBGhIAyIgSUESGgjAgBZUQIKCNCQBkRAsqIEFBGhIAyIgSUESGgjAgBZUQIKCNCQBkRAsqIEFBGhIAyIgSUESGgjAgBZUQIKCNCQBkRAsqIEFBGhIAyIgSUESGgjAgBZUQIKCNCQBkRAsqIEFBGhICyQGhhrpwB+BHxnRBQRoSAMiIElBEhoIwIAWVECCgjQkAZEQLKiBBQRoSAMiIElBEhoIwIAWVECCgjQkAZEQLKiBBQRoSAMiIElBEhoIwIAWVECCgjQkAZEQLKiBBQRoSAMiIElBEhoIwIAWVECCgjQkAZEQLKiBBQRoSAMiIElBEhoIwIAWX\\u002fD0zj8R3Lmns3AAAAAElFTkSuQmCC\",\"type\":\"image\",\"xaxis\":\"x\",\"yaxis\":\"y\",\"hovertemplate\":\"x: %{x}\\u003cbr\\u003ey: %{y}\\u003cbr\\u003ecolor: [%{z[0]}, %{z[1]}, %{z[2]}]\\u003cextra\\u003e\\u003c\\u002fextra\\u003e\"}],                        {\"template\":{\"data\":{\"histogram2dcontour\":[{\"type\":\"histogram2dcontour\",\"colorbar\":{\"outlinewidth\":0,\"ticks\":\"\"},\"colorscale\":[[0.0,\"#0d0887\"],[0.1111111111111111,\"#46039f\"],[0.2222222222222222,\"#7201a8\"],[0.3333333333333333,\"#9c179e\"],[0.4444444444444444,\"#bd3786\"],[0.5555555555555556,\"#d8576b\"],[0.6666666666666666,\"#ed7953\"],[0.7777777777777778,\"#fb9f3a\"],[0.8888888888888888,\"#fdca26\"],[1.0,\"#f0f921\"]]}],\"choropleth\":[{\"type\":\"choropleth\",\"colorbar\":{\"outlinewidth\":0,\"ticks\":\"\"}}],\"histogram2d\":[{\"type\":\"histogram2d\",\"colorbar\":{\"outlinewidth\":0,\"ticks\":\"\"},\"colorscale\":[[0.0,\"#0d0887\"],[0.1111111111111111,\"#46039f\"],[0.2222222222222222,\"#7201a8\"],[0.3333333333333333,\"#9c179e\"],[0.4444444444444444,\"#bd3786\"],[0.5555555555555556,\"#d8576b\"],[0.6666666666666666,\"#ed7953\"],[0.7777777777777778,\"#fb9f3a\"],[0.8888888888888888,\"#fdca26\"],[1.0,\"#f0f921\"]]}],\"heatmap\":[{\"type\":\"heatmap\",\"colorbar\":{\"outlinewidth\":0,\"ticks\":\"\"},\"colorscale\":[[0.0,\"#0d0887\"],[0.1111111111111111,\"#46039f\"],[0.2222222222222222,\"#7201a8\"],[0.3333333333333333,\"#9c179e\"],[0.4444444444444444,\"#bd3786\"],[0.5555555555555556,\"#d8576b\"],[0.6666666666666666,\"#ed7953\"],[0.7777777777777778,\"#fb9f3a\"],[0.8888888888888888,\"#fdca26\"],[1.0,\"#f0f921\"]]}],\"heatmapgl\":[{\"type\":\"heatmapgl\",\"colorbar\":{\"outlinewidth\":0,\"ticks\":\"\"},\"colorscale\":[[0.0,\"#0d0887\"],[0.1111111111111111,\"#46039f\"],[0.2222222222222222,\"#7201a8\"],[0.3333333333333333,\"#9c179e\"],[0.4444444444444444,\"#bd3786\"],[0.5555555555555556,\"#d8576b\"],[0.6666666666666666,\"#ed7953\"],[0.7777777777777778,\"#fb9f3a\"],[0.8888888888888888,\"#fdca26\"],[1.0,\"#f0f921\"]]}],\"contourcarpet\":[{\"type\":\"contourcarpet\",\"colorbar\":{\"outlinewidth\":0,\"ticks\":\"\"}}],\"contour\":[{\"type\":\"contour\",\"colorbar\":{\"outlinewidth\":0,\"ticks\":\"\"},\"colorscale\":[[0.0,\"#0d0887\"],[0.1111111111111111,\"#46039f\"],[0.2222222222222222,\"#7201a8\"],[0.3333333333333333,\"#9c179e\"],[0.4444444444444444,\"#bd3786\"],[0.5555555555555556,\"#d8576b\"],[0.6666666666666666,\"#ed7953\"],[0.7777777777777778,\"#fb9f3a\"],[0.8888888888888888,\"#fdca26\"],[1.0,\"#f0f921\"]]}],\"surface\":[{\"type\":\"surface\",\"colorbar\":{\"outlinewidth\":0,\"ticks\":\"\"},\"colorscale\":[[0.0,\"#0d0887\"],[0.1111111111111111,\"#46039f\"],[0.2222222222222222,\"#7201a8\"],[0.3333333333333333,\"#9c179e\"],[0.4444444444444444,\"#bd3786\"],[0.5555555555555556,\"#d8576b\"],[0.6666666666666666,\"#ed7953\"],[0.7777777777777778,\"#fb9f3a\"],[0.8888888888888888,\"#fdca26\"],[1.0,\"#f0f921\"]]}],\"mesh3d\":[{\"type\":\"mesh3d\",\"colorbar\":{\"outlinewidth\":0,\"ticks\":\"\"}}],\"scatter\":[{\"fillpattern\":{\"fillmode\":\"overlay\",\"size\":10,\"solidity\":0.2},\"type\":\"scatter\"}],\"parcoords\":[{\"type\":\"parcoords\",\"line\":{\"colorbar\":{\"outlinewidth\":0,\"ticks\":\"\"}}}],\"scatterpolargl\":[{\"type\":\"scatterpolargl\",\"marker\":{\"colorbar\":{\"outlinewidth\":0,\"ticks\":\"\"}}}],\"bar\":[{\"error_x\":{\"color\":\"#2a3f5f\"},\"error_y\":{\"color\":\"#2a3f5f\"},\"marker\":{\"line\":{\"color\":\"#E5ECF6\",\"width\":0.5},\"pattern\":{\"fillmode\":\"overlay\",\"size\":10,\"solidity\":0.2}},\"type\":\"bar\"}],\"scattergeo\":[{\"type\":\"scattergeo\",\"marker\":{\"colorbar\":{\"outlinewidth\":0,\"ticks\":\"\"}}}],\"scatterpolar\":[{\"type\":\"scatterpolar\",\"marker\":{\"colorbar\":{\"outlinewidth\":0,\"ticks\":\"\"}}}],\"histogram\":[{\"marker\":{\"pattern\":{\"fillmode\":\"overlay\",\"size\":10,\"solidity\":0.2}},\"type\":\"histogram\"}],\"scattergl\":[{\"type\":\"scattergl\",\"marker\":{\"colorbar\":{\"outlinewidth\":0,\"ticks\":\"\"}}}],\"scatter3d\":[{\"type\":\"scatter3d\",\"line\":{\"colorbar\":{\"outlinewidth\":0,\"ticks\":\"\"}},\"marker\":{\"colorbar\":{\"outlinewidth\":0,\"ticks\":\"\"}}}],\"scattermapbox\":[{\"type\":\"scattermapbox\",\"marker\":{\"colorbar\":{\"outlinewidth\":0,\"ticks\":\"\"}}}],\"scatterternary\":[{\"type\":\"scatterternary\",\"marker\":{\"colorbar\":{\"outlinewidth\":0,\"ticks\":\"\"}}}],\"scattercarpet\":[{\"type\":\"scattercarpet\",\"marker\":{\"colorbar\":{\"outlinewidth\":0,\"ticks\":\"\"}}}],\"carpet\":[{\"aaxis\":{\"endlinecolor\":\"#2a3f5f\",\"gridcolor\":\"white\",\"linecolor\":\"white\",\"minorgridcolor\":\"white\",\"startlinecolor\":\"#2a3f5f\"},\"baxis\":{\"endlinecolor\":\"#2a3f5f\",\"gridcolor\":\"white\",\"linecolor\":\"white\",\"minorgridcolor\":\"white\",\"startlinecolor\":\"#2a3f5f\"},\"type\":\"carpet\"}],\"table\":[{\"cells\":{\"fill\":{\"color\":\"#EBF0F8\"},\"line\":{\"color\":\"white\"}},\"header\":{\"fill\":{\"color\":\"#C8D4E3\"},\"line\":{\"color\":\"white\"}},\"type\":\"table\"}],\"barpolar\":[{\"marker\":{\"line\":{\"color\":\"#E5ECF6\",\"width\":0.5},\"pattern\":{\"fillmode\":\"overlay\",\"size\":10,\"solidity\":0.2}},\"type\":\"barpolar\"}],\"pie\":[{\"automargin\":true,\"type\":\"pie\"}]},\"layout\":{\"autotypenumbers\":\"strict\",\"colorway\":[\"#636efa\",\"#EF553B\",\"#00cc96\",\"#ab63fa\",\"#FFA15A\",\"#19d3f3\",\"#FF6692\",\"#B6E880\",\"#FF97FF\",\"#FECB52\"],\"font\":{\"color\":\"#2a3f5f\"},\"hovermode\":\"closest\",\"hoverlabel\":{\"align\":\"left\"},\"paper_bgcolor\":\"white\",\"plot_bgcolor\":\"#E5ECF6\",\"polar\":{\"bgcolor\":\"#E5ECF6\",\"angularaxis\":{\"gridcolor\":\"white\",\"linecolor\":\"white\",\"ticks\":\"\"},\"radialaxis\":{\"gridcolor\":\"white\",\"linecolor\":\"white\",\"ticks\":\"\"}},\"ternary\":{\"bgcolor\":\"#E5ECF6\",\"aaxis\":{\"gridcolor\":\"white\",\"linecolor\":\"white\",\"ticks\":\"\"},\"baxis\":{\"gridcolor\":\"white\",\"linecolor\":\"white\",\"ticks\":\"\"},\"caxis\":{\"gridcolor\":\"white\",\"linecolor\":\"white\",\"ticks\":\"\"}},\"coloraxis\":{\"colorbar\":{\"outlinewidth\":0,\"ticks\":\"\"}},\"colorscale\":{\"sequential\":[[0.0,\"#0d0887\"],[0.1111111111111111,\"#46039f\"],[0.2222222222222222,\"#7201a8\"],[0.3333333333333333,\"#9c179e\"],[0.4444444444444444,\"#bd3786\"],[0.5555555555555556,\"#d8576b\"],[0.6666666666666666,\"#ed7953\"],[0.7777777777777778,\"#fb9f3a\"],[0.8888888888888888,\"#fdca26\"],[1.0,\"#f0f921\"]],\"sequentialminus\":[[0.0,\"#0d0887\"],[0.1111111111111111,\"#46039f\"],[0.2222222222222222,\"#7201a8\"],[0.3333333333333333,\"#9c179e\"],[0.4444444444444444,\"#bd3786\"],[0.5555555555555556,\"#d8576b\"],[0.6666666666666666,\"#ed7953\"],[0.7777777777777778,\"#fb9f3a\"],[0.8888888888888888,\"#fdca26\"],[1.0,\"#f0f921\"]],\"diverging\":[[0,\"#8e0152\"],[0.1,\"#c51b7d\"],[0.2,\"#de77ae\"],[0.3,\"#f1b6da\"],[0.4,\"#fde0ef\"],[0.5,\"#f7f7f7\"],[0.6,\"#e6f5d0\"],[0.7,\"#b8e186\"],[0.8,\"#7fbc41\"],[0.9,\"#4d9221\"],[1,\"#276419\"]]},\"xaxis\":{\"gridcolor\":\"white\",\"linecolor\":\"white\",\"ticks\":\"\",\"title\":{\"standoff\":15},\"zerolinecolor\":\"white\",\"automargin\":true,\"zerolinewidth\":2},\"yaxis\":{\"gridcolor\":\"white\",\"linecolor\":\"white\",\"ticks\":\"\",\"title\":{\"standoff\":15},\"zerolinecolor\":\"white\",\"automargin\":true,\"zerolinewidth\":2},\"scene\":{\"xaxis\":{\"backgroundcolor\":\"#E5ECF6\",\"gridcolor\":\"white\",\"linecolor\":\"white\",\"showbackground\":true,\"ticks\":\"\",\"zerolinecolor\":\"white\",\"gridwidth\":2},\"yaxis\":{\"backgroundcolor\":\"#E5ECF6\",\"gridcolor\":\"white\",\"linecolor\":\"white\",\"showbackground\":true,\"ticks\":\"\",\"zerolinecolor\":\"white\",\"gridwidth\":2},\"zaxis\":{\"backgroundcolor\":\"#E5ECF6\",\"gridcolor\":\"white\",\"linecolor\":\"white\",\"showbackground\":true,\"ticks\":\"\",\"zerolinecolor\":\"white\",\"gridwidth\":2}},\"shapedefaults\":{\"line\":{\"color\":\"#2a3f5f\"}},\"annotationdefaults\":{\"arrowcolor\":\"#2a3f5f\",\"arrowhead\":0,\"arrowwidth\":1},\"geo\":{\"bgcolor\":\"white\",\"landcolor\":\"#E5ECF6\",\"subunitcolor\":\"white\",\"showland\":true,\"showlakes\":true,\"lakecolor\":\"white\"},\"title\":{\"x\":0.05},\"mapbox\":{\"style\":\"light\"}}},\"xaxis\":{\"anchor\":\"y\",\"domain\":[0.0,1.0],\"showticklabels\":false},\"yaxis\":{\"anchor\":\"x\",\"domain\":[0.0,1.0],\"showticklabels\":false},\"margin\":{\"t\":0,\"b\":0,\"l\":0,\"r\":0},\"coloraxis\":{\"showscale\":false},\"height\":300,\"width\":300},                        {\"displayModeBar\": false, \"responsive\": true}                    ).then(function(){\n",
              "                            \n",
              "var gd = document.getElementById('5cd0031b-57ba-4d1f-be6f-b3af578ee556');\n",
              "var x = new MutationObserver(function (mutations, observer) {{\n",
              "        var display = window.getComputedStyle(gd).display;\n",
              "        if (!display || display === 'none') {{\n",
              "            console.log([gd, 'removed!']);\n",
              "            Plotly.purge(gd);\n",
              "            observer.disconnect();\n",
              "        }}\n",
              "}});\n",
              "\n",
              "// Listen for the removal of the full notebook cells\n",
              "var notebookContainer = gd.closest('#notebook-container');\n",
              "if (notebookContainer) {{\n",
              "    x.observe(notebookContainer, {childList: true});\n",
              "}}\n",
              "\n",
              "// Listen for the clearing of the current output cell\n",
              "var outputEl = gd.closest('.output');\n",
              "if (outputEl) {{\n",
              "    x.observe(outputEl, {childList: true});\n",
              "}}\n",
              "\n",
              "                        })                };                            </script>        </div>\n",
              "</body>\n",
              "</html>"
            ]
          },
          "metadata": {}
        }
      ],
      "source": [
        "# Your code here - define arr3\n",
        "temp = einops.rearrange(arr[0:2], \"b c h w -> c (b h) w\")\n",
        "arr3 = einops.repeat(temp, \"c h w -> c h (2 w)\")\n",
        "display_array_as_img(arr3)"
      ]
    },
    {
      "cell_type": "markdown",
      "metadata": {
        "id": "27J9FaOG0kJ9"
      },
      "source": [
        "<details><summary>Solution</summary>\n",
        "\n",
        "```python\n",
        "arr3 = einops.repeat(arr[0:2], \"b c h w -> c (b h) (2 w)\")\n",
        "```\n",
        "</details>"
      ]
    },
    {
      "cell_type": "markdown",
      "metadata": {
        "id": "9BHoXEAM0kJ9"
      },
      "source": [
        "#### (4) Stretching\n",
        "\n",
        "The image below was stretched vertically by a factor of 2."
      ]
    },
    {
      "cell_type": "code",
      "execution_count": null,
      "metadata": {
        "id": "Usrr5F9f0kJ-",
        "outputId": "93a42f79-d966-4209-f615-a75356ffe86e"
      },
      "outputs": [
        {
          "data": {
            "text/html": [
              "<div style=\"text-align: left\"><embed src = \"https://info-arena.github.io/ARENA_img/misc/media-00/ex4.html\" width=\"167\" height = \"317\"></div>"
            ],
            "text/plain": [
              "<IPython.core.display.HTML object>"
            ]
          },
          "metadata": {},
          "output_type": "display_data"
        }
      ],
      "source": [
        "display_soln_array_as_img(4)"
      ]
    },
    {
      "cell_type": "code",
      "execution_count": null,
      "metadata": {
        "id": "L2yG_r1I0kJ-"
      },
      "outputs": [],
      "source": [
        "# Your code here - define arr4\n",
        "\n",
        "display_array_as_img(arr4)"
      ]
    },
    {
      "cell_type": "markdown",
      "metadata": {
        "id": "lYvTcH7V0kJ-"
      },
      "source": [
        "<details><summary>Solution</summary>\n",
        "\n",
        "```python\n",
        "arr4 = einops.repeat(arr[0], \"c h w -> c (h 2) w\")\n",
        "```\n",
        "</details>"
      ]
    },
    {
      "cell_type": "markdown",
      "metadata": {
        "id": "jkjyZrPg0kJ-"
      },
      "source": [
        "#### (5) Split channels\n",
        "\n",
        "The image below was created by splitting out the 3 channels of the image (i.e. red, green, blue) and turning these into 3 stacked horizontal images. The output is 2D (the display function interprets this as a monochrome image)."
      ]
    },
    {
      "cell_type": "code",
      "execution_count": null,
      "metadata": {
        "id": "8CeZnFOJ0kJ-",
        "outputId": "7f5e2a2b-8d02-4b93-efd0-b51522d221be"
      },
      "outputs": [
        {
          "data": {
            "text/html": [
              "<div style=\"text-align: left\"><embed src = \"https://info-arena.github.io/ARENA_img/misc/media-00/ex5.html\" width=\"467\" height = \"167\"></div>"
            ],
            "text/plain": [
              "<IPython.core.display.HTML object>"
            ]
          },
          "metadata": {},
          "output_type": "display_data"
        }
      ],
      "source": [
        "display_soln_array_as_img(5)"
      ]
    },
    {
      "cell_type": "code",
      "execution_count": null,
      "metadata": {
        "id": "0FKLzvBj0kJ-"
      },
      "outputs": [],
      "source": [
        "# Your code here - define arr5\n",
        "\n",
        "display_array_as_img(arr5)"
      ]
    },
    {
      "cell_type": "markdown",
      "metadata": {
        "id": "UbaJSZcv0kJ-"
      },
      "source": [
        "<details><summary>Solution</summary>\n",
        "\n",
        "```python\n",
        "arr5 = einops.rearrange(arr[0], \"c h w -> h (c w)\")\n",
        "```\n",
        "</details>"
      ]
    },
    {
      "cell_type": "markdown",
      "metadata": {
        "id": "Ta5KV5GW0kJ-"
      },
      "source": [
        "#### (6) Stack into rows & cols\n",
        "\n",
        "This requires a rearrange operation with dimensions for row and column stacking."
      ]
    },
    {
      "cell_type": "code",
      "execution_count": null,
      "metadata": {
        "id": "JX-v0pNk0kJ-",
        "outputId": "a734a128-0f90-4846-d5b9-3826e14c3df6"
      },
      "outputs": [
        {
          "data": {
            "text/html": [
              "<div style=\"text-align: left\"><embed src = \"https://info-arena.github.io/ARENA_img/misc/media-00/ex6.html\" width=\"467\" height = \"317\"></div>"
            ],
            "text/plain": [
              "<IPython.core.display.HTML object>"
            ]
          },
          "metadata": {},
          "output_type": "display_data"
        }
      ],
      "source": [
        "display_soln_array_as_img(6)"
      ]
    },
    {
      "cell_type": "code",
      "execution_count": null,
      "metadata": {
        "id": "pVY5oE-L0kJ-"
      },
      "outputs": [],
      "source": [
        "# Your code here - define arr6\n",
        "\n",
        "display_array_as_img(arr6)"
      ]
    },
    {
      "cell_type": "markdown",
      "metadata": {
        "id": "pUlOjkwd0kJ-"
      },
      "source": [
        "<details><summary>Solution</summary>\n",
        "\n",
        "```python\n",
        "arr6 = einops.rearrange(arr, \"(b1 b2) c h w -> c (b1 h) (b2 w)\", b1=2)\n",
        "```\n",
        "</details>"
      ]
    },
    {
      "cell_type": "markdown",
      "metadata": {
        "id": "zXyy275O0kJ-"
      },
      "source": [
        "#### (7) Transpose\n",
        "\n",
        "Here, we've just flipped the model's horizontal and vertical dimensions. Transposing is a fairly common tensor operation."
      ]
    },
    {
      "cell_type": "code",
      "execution_count": null,
      "metadata": {
        "id": "IY_Vei-X0kJ-",
        "outputId": "7fcae7e4-d611-4a7a-e878-f3cf18985ab9"
      },
      "outputs": [
        {
          "data": {
            "text/html": [
              "<div style=\"text-align: left\"><embed src = \"https://info-arena.github.io/ARENA_img/misc/media-00/ex7.html\" width=\"167\" height = \"167\"></div>"
            ],
            "text/plain": [
              "<IPython.core.display.HTML object>"
            ]
          },
          "metadata": {},
          "output_type": "display_data"
        }
      ],
      "source": [
        "display_soln_array_as_img(7)"
      ]
    },
    {
      "cell_type": "code",
      "execution_count": null,
      "metadata": {
        "id": "ZmVAdRNA0kJ-"
      },
      "outputs": [],
      "source": [
        "# Your code here - define arr7\n",
        "\n",
        "display_array_as_img(arr7)"
      ]
    },
    {
      "cell_type": "markdown",
      "metadata": {
        "id": "L81y7aE_0kJ-"
      },
      "source": [
        "<details><summary>Solution</summary>\n",
        "\n",
        "```python\n",
        "arr7 = einops.rearrange(arr[1], \"c h w -> c w h\")\n",
        "```\n",
        "</details>"
      ]
    },
    {
      "cell_type": "markdown",
      "metadata": {
        "id": "GS5AwR_P0kJ-"
      },
      "source": [
        "#### (8) Shrinking\n",
        "\n",
        "Hint - for this one, you should use **max pooling** - i.e. each pixel value in the output is the maximum of the corresponding 2x2 square in the original image."
      ]
    },
    {
      "cell_type": "code",
      "execution_count": null,
      "metadata": {
        "id": "XISzjmLH0kJ-",
        "outputId": "67510212-ac64-4c74-a200-901c7df6a4dd"
      },
      "outputs": [
        {
          "data": {
            "text/html": [
              "<div style=\"text-align: left\"><embed src = \"https://info-arena.github.io/ARENA_img/misc/media-00/ex8.html\" width=\"242\" height = \"167\"></div>"
            ],
            "text/plain": [
              "<IPython.core.display.HTML object>"
            ]
          },
          "metadata": {},
          "output_type": "display_data"
        }
      ],
      "source": [
        "display_soln_array_as_img(8)"
      ]
    },
    {
      "cell_type": "code",
      "execution_count": null,
      "metadata": {
        "id": "6gsQMRWl0kJ-"
      },
      "outputs": [],
      "source": [
        "# Your code here - define arr8\n",
        "\n",
        "display_array_as_img(arr8)"
      ]
    },
    {
      "cell_type": "markdown",
      "metadata": {
        "id": "A2fazxia0kJ-"
      },
      "source": [
        "<details><summary>Solution</summary>\n",
        "\n",
        "```python\n",
        "arr8 = einops.reduce(arr, \"(b1 b2) c (h h2) (w w2) -> c (b1 h) (b2 w)\", \"max\", h2=2, w2=2, b1=2)\n",
        "```\n",
        "</details>"
      ]
    },
    {
      "cell_type": "markdown",
      "metadata": {
        "id": "TQ_v6vx_0kJ-"
      },
      "source": [
        "### Broadcasting\n",
        "\n",
        "Before we go through the next exercises, we'll need to address one important topic in tensor operations - **broadcasting**.\n",
        "\n",
        "Both NumPy and PyTorch have the same rules for broadcasting. When two tensors are involved in an elementwise operation, NumPy/PyTorch tries to broadcast them (i.e. copying them along dimensions) so that they both have the same shape. The rules of broadcasting are as follows:\n",
        "\n",
        "1. You can prepend dummy dimensions (of size 1) to the start of a tensor until both have the same number of dimensions\n",
        "2. After this point, if some dimension has size 1 in one of the tensors, it can be repeated until it matches the size of the corresponding dimension in the other tensor\n",
        "\n",
        "To give a simple example - suppose we have a 2D batch of data, of shape `data.shape = (N, k)` (i.e. we have `N` separate datapoints, each being a vector of length `k`). Suppose we want to add a vector `vec` of length `k` to each datapoint. This is a valid operation, because when we try and add these two objects together:\n",
        "\n",
        "1. `vec` gets prepended with a dummy dimension so it has shape `(1, k)` and both are 2D\n",
        "2. `vec` gets repeated along the first dimension so it has shape `(N, k)`, matching the shape of `data`\n",
        "\n",
        "Then, our output has shape `(N, k)`, and elements `output[i, j] = data[i, j] + vec[j]`.\n",
        "\n",
        "Broadcasting can be a very easy place to make mistakes, because it's easy to lose track of the exact shape of your tensors involved. As a warm-up exercise, below are some examples of broadcasting. Can you figure out which are valid, and which will raise errors?\n",
        "\n",
        "\n",
        "```python\n",
        "x = t.ones((3, 1, 5))\n",
        "y = t.ones((1, 4, 5))\n",
        "\n",
        "z = x + y\n",
        "```\n",
        "\n",
        "<details>\n",
        "<summary>Answer</summary>\n",
        "\n",
        "This is valid, because the 0th dimension of `y` and the 1st dimension of `x` can both be copied so that `x` and `y` have the same shape: `(3, 4, 5)`. The resulting array `z` will also have shape `(3, 4, 5)`.\n",
        "\n",
        "This example illustrates an important point - it's not always the case that one of the tensors is strictly smaller and the other is strictly bigger. Sometimes, both tensors will get expanded.\n",
        "\n",
        "</details>\n",
        "\n",
        "```python\n",
        "x = t.ones((8, 2, 6))\n",
        "y = t.ones((8, 2))\n",
        "\n",
        "z = x + y\n",
        "```\n",
        "\n",
        "<details>\n",
        "<summary>Answer</summary>\n",
        "\n",
        "This is not valid. We first need to expand `y` by appending a dimension to the front, and the last two dimensions of `x` are `(2, 6)`, which won't broadcast with `y`'s `(8, 2)`.\n",
        "</details>\n",
        "\n",
        "```python\n",
        "x = t.ones((8, 2, 6))\n",
        "y = t.ones((2, 6))\n",
        "\n",
        "z = x + y\n",
        "```\n",
        "\n",
        "<details>\n",
        "<summary>Answer</summary>\n",
        "\n",
        "This is valid. Once PyTorch expands `y` by appending a single dimension to the front, it can then be broadcast with `x`.\n",
        "</details>\n",
        "\n",
        "```python\n",
        "x = t.ones((10, 20, 30))\n",
        "y = t.ones((20, 1))\n",
        "\n",
        "z = x + y\n",
        "```\n",
        "\n",
        "<details>\n",
        "<summary>Answer</summary>\n",
        "\n",
        "This is valid. Once PyTorch expands `y` by appending a single dimension to the front, it can then be broadcast with `x` (this will involve copying along the first and last dimensions).\n",
        "</details>\n",
        "\n",
        "```python\n",
        "x = t.ones((4, 1))\n",
        "y = t.ones((4,))\n",
        "\n",
        "z = x + y\n",
        "```\n",
        "\n",
        "<details>\n",
        "<summary>Answer</summary>\n",
        "\n",
        "This is valid. Numpy will expand the second one to `(1, 4)` then broadcast them both to `(4, 4)`.\n",
        "\n",
        "Although this won't raise an error, it's very possible that this isn't what the person adding these two arrays intended. A common source of mistakes is when you add 2 tensors thinking they're the same shape, but one actually has a dummy dimension you forgot about. Sadly this is something you'll just have to be vigilant for (e.g. adding assert statements where necessary, or making sure you aren't combining too many different tensor operations in a single line), because PyTorch doesn't have built-in ways of statically checking your tensor shapes.\n",
        "\n",
        "</details>"
      ]
    },
    {
      "cell_type": "markdown",
      "metadata": {
        "id": "quaykYZG0kJ-"
      },
      "source": [
        "Einops is a useful tool for reshaping tensors to enable broadcasting. If you just need to add or remove a dummy dimension, you don't need to use einops: `tensor.unsqueeze(dim)` will give you a new tensor with a dummy dimension of size 1 inserted at position `dim` in the new tensor, and `tensor.squeeze(dim)` will give you a tensor with the dimension at position `dim` removed (if it had size 1, otherwise nothing happens).\n",
        "\n",
        "```python\n",
        "x = t.ones((3, 1, 5))\n",
        "\n",
        "print(x.unsqueeze(3).shape)  # (3, 1, 5, 1) because we add a new dummy dimension at idx 3 (the end) in the new tensor\n",
        "\n",
        "print(x.squeeze(1).shape) # (3, 5) because we remove the dimension at idx 1 (it has size 1)\n",
        "\n",
        "print(x.squeeze(0).shape) # (3, 1, 5) because we don't remove the leading dimension (it has size 3)\n",
        "```"
      ]
    },
    {
      "cell_type": "markdown",
      "metadata": {
        "id": "is4keo1T0kJ-"
      },
      "source": [
        "### Exercises - einops operations & broadcasting\n",
        "\n",
        "> ```yaml\n",
        "> Difficulty: 🔴🔴⚪⚪⚪\n",
        "> Importance: 🔵🔵🔵⚪⚪\n",
        ">\n",
        "> You should spend up to ~45 minutes on these exercises collectively.\n",
        "> These are more representative of the kinds of einops operations you'll use in practice.\n",
        "> ```\n",
        "\n",
        "Next, we have a series of functions which you should implement using `einops`. In the dropdown below these exercises, you can find solutions to all of them.\n",
        "\n",
        "First, let's define some functions to help us test our solutions:"
      ]
    },
    {
      "cell_type": "code",
      "execution_count": null,
      "metadata": {
        "id": "zynQqYRw0kJ-"
      },
      "outputs": [],
      "source": [
        "def assert_all_equal(actual: Tensor, expected: Tensor) -> None:\n",
        "    assert actual.shape == expected.shape, f\"Shape mismatch, got: {actual.shape}\"\n",
        "    assert (actual == expected).all(), f\"Value mismatch, got: {actual}\"\n",
        "    print(\"Tests passed!\")\n",
        "\n",
        "\n",
        "def assert_all_close(actual: Tensor, expected: Tensor, atol=1e-3) -> None:\n",
        "    assert actual.shape == expected.shape, f\"Shape mismatch, got: {actual.shape}\"\n",
        "    t.testing.assert_close(actual, expected, atol=atol, rtol=0.0)\n",
        "    print(\"Tests passed!\")"
      ]
    },
    {
      "cell_type": "markdown",
      "metadata": {
        "id": "GvE-rYdD0kJ_"
      },
      "source": [
        "#### (A1) rearrange\n",
        "\n",
        "We'll start with a simple rearrange operation - you're asked to return a particular tensor using only `t.arange` and `einops.rearrange`. The `t.arange` function is similar to the numpy equivalent: `torch.arange(start, end)` will return a 1D tensor containing all the values from `start` to `end - 1` inclusive."
      ]
    },
    {
      "cell_type": "code",
      "execution_count": null,
      "metadata": {
        "id": "35rDXleO0kJ_"
      },
      "outputs": [],
      "source": [
        "def rearrange_1() -> Tensor:\n",
        "    \"\"\"Return the following tensor using only t.arange and einops.rearrange:\n",
        "\n",
        "    [[3, 4],\n",
        "     [5, 6],\n",
        "     [7, 8]]\n",
        "    \"\"\"\n",
        "    raise NotImplementedError()\n",
        "\n",
        "\n",
        "expected = t.tensor([[3, 4], [5, 6], [7, 8]])\n",
        "assert_all_equal(rearrange_1(), expected)"
      ]
    },
    {
      "cell_type": "markdown",
      "metadata": {
        "id": "cCjbM5p00kJ_"
      },
      "source": [
        "<details><summary>Solution</summary>\n",
        "\n",
        "```python\n",
        "def rearrange_1() -> Tensor:\n",
        "    \"\"\"Return the following tensor using only t.arange and einops.rearrange:\n",
        "\n",
        "    [[3, 4],\n",
        "     [5, 6],\n",
        "     [7, 8]]\n",
        "    \"\"\"\n",
        "    return einops.rearrange(t.arange(3, 9), \"(h w) -> h w\", h=3, w=2)\n",
        "```\n",
        "</details>"
      ]
    },
    {
      "cell_type": "markdown",
      "metadata": {
        "id": "uVU2ssdw0kJ_"
      },
      "source": [
        "#### (A2) rearrange\n",
        "\n",
        "This exercise has the same pattern as the previous one."
      ]
    },
    {
      "cell_type": "code",
      "execution_count": null,
      "metadata": {
        "id": "1w15V7ZE0kJ_"
      },
      "outputs": [],
      "source": [
        "def rearrange_2() -> Tensor:\n",
        "    \"\"\"Return the following tensor using only t.arange and einops.rearrange:\n",
        "\n",
        "    [[1, 2, 3],\n",
        "     [4, 5, 6]]\n",
        "    \"\"\"\n",
        "    raise NotImplementedError()\n",
        "\n",
        "\n",
        "assert_all_equal(rearrange_2(), t.tensor([[1, 2, 3], [4, 5, 6]]))"
      ]
    },
    {
      "cell_type": "markdown",
      "metadata": {
        "id": "gU6RKsjP0kJ_"
      },
      "source": [
        "<details><summary>Solution</summary>\n",
        "\n",
        "```python\n",
        "def rearrange_2() -> Tensor:\n",
        "    \"\"\"Return the following tensor using only t.arange and einops.rearrange:\n",
        "\n",
        "    [[1, 2, 3],\n",
        "     [4, 5, 6]]\n",
        "    \"\"\"\n",
        "    return einops.rearrange(t.arange(1, 7), \"(h w) -> h w\", h=2, w=3)\n",
        "```\n",
        "</details>"
      ]
    },
    {
      "cell_type": "markdown",
      "metadata": {
        "id": "UdZYnXQ30kJ_"
      },
      "source": [
        "#### (B1) temperature average\n",
        "\n",
        "Here you're given a 1D tensor containing temperatures for each day. You should return a 1D tensor containing the average temperature for each week.\n",
        "\n",
        "This could be done in 2 separate operations (a reshape from 1D to 2D followed by taking the mean over one of the axes), however we encourage you to try and find a solution with `einops.reduce` in just a single line."
      ]
    },
    {
      "cell_type": "code",
      "execution_count": null,
      "metadata": {
        "id": "2vMFTBWd0kJ_"
      },
      "outputs": [],
      "source": [
        "def temperatures_average(temps: Tensor) -> Tensor:\n",
        "    \"\"\"Return the average temperature for each week.\n",
        "\n",
        "    temps: a 1D temperature containing temperatures for each day.\n",
        "    Length will be a multiple of 7 and the first 7 days are for the first week, second 7 days for the second week, etc.\n",
        "\n",
        "    You can do this with a single call to reduce.\n",
        "    \"\"\"\n",
        "    assert len(temps) % 7 == 0\n",
        "    raise NotImplementedError()\n",
        "\n",
        "\n",
        "temps = t.tensor([71, 72, 70, 75, 71, 72, 70, 75, 80, 85, 80, 78, 72, 83]).float()\n",
        "expected = [71.571, 79.0]\n",
        "assert_all_close(temperatures_average(temps), t.tensor(expected))"
      ]
    },
    {
      "cell_type": "markdown",
      "metadata": {
        "id": "P18l-HCS0kJ_"
      },
      "source": [
        "<details><summary>Solution</summary>\n",
        "\n",
        "```python\n",
        "def temperatures_average(temps: Tensor) -> Tensor:\n",
        "    \"\"\"Return the average temperature for each week.\n",
        "\n",
        "    temps: a 1D temperature containing temperatures for each day.\n",
        "    Length will be a multiple of 7 and the first 7 days are for the first week, second 7 days for the second week, etc.\n",
        "\n",
        "    You can do this with a single call to reduce.\n",
        "    \"\"\"\n",
        "    assert len(temps) % 7 == 0\n",
        "    return einops.reduce(temps, \"(h 7) -> h\", \"mean\")\n",
        "```\n",
        "</details>"
      ]
    },
    {
      "cell_type": "markdown",
      "metadata": {
        "id": "uzY-Xu4m0kJ_"
      },
      "source": [
        "#### (B2) temperature difference\n",
        "\n",
        "Here, we're asking you to subtract the average temperature from each week from the daily temperatures. You'll have to be careful of **broadcasting** here, since your temperatures tensor has shape `(14,)` while your average temperature computed above has shape `(2,)` - these are not broadcastable."
      ]
    },
    {
      "cell_type": "code",
      "execution_count": null,
      "metadata": {
        "id": "cIGGu2hb0kJ_"
      },
      "outputs": [],
      "source": [
        "def temperatures_differences(temps: Tensor) -> Tensor:\n",
        "    \"\"\"For each day, subtract the average for the week the day belongs to.\n",
        "\n",
        "    temps: as above\n",
        "    \"\"\"\n",
        "    assert len(temps) % 7 == 0\n",
        "    raise NotImplementedError()\n",
        "\n",
        "\n",
        "expected = [-0.571, 0.429, -1.571, 3.429, -0.571, 0.429, -1.571, -4.0, 1.0, 6.0, 1.0, -1.0, -7.0, 4.0]\n",
        "actual = temperatures_differences(temps)\n",
        "assert_all_close(actual, t.tensor(expected))"
      ]
    },
    {
      "cell_type": "markdown",
      "metadata": {
        "id": "tCyG8QQX0kJ_"
      },
      "source": [
        "<details>\n",
        "<summary>Hint - how to make the tensors broadcastable</summary>\n",
        "\n",
        "Your averages tensor from earlier was (hopefully) computed using `einops.reduce(temps, \"(h 7) -> h\", \"mean\")`, giving it shape `(2,)`. You have 2 options:\n",
        "\n",
        "- Repeat this averages tensor back to shape `(14,)` so you can subtract it from temps\n",
        "- Rehsape `temps` tensor to have shape `(7, 2)` which would make it broadcastable with `(2,)`, then flatten it back to `(14,)` after subtracting the average\n",
        "\n",
        "\n",
        "</details>\n",
        "\n",
        "\n",
        "<details><summary>Solution</summary>\n",
        "\n",
        "```python\n",
        "def temperatures_differences(temps: Tensor) -> Tensor:\n",
        "    \"\"\"For each day, subtract the average for the week the day belongs to.\n",
        "\n",
        "    temps: as above\n",
        "    \"\"\"\n",
        "    assert len(temps) % 7 == 0\n",
        "    avg = einops.reduce(temps, \"(w 7) -> w\", \"mean\")\n",
        "    return temps - einops.repeat(avg, \"w -> (w 7)\")\n",
        "```\n",
        "</details>"
      ]
    },
    {
      "cell_type": "markdown",
      "metadata": {
        "id": "AB8qxSLH0kJ_"
      },
      "source": [
        "#### (B3) temperature normalized\n",
        "\n",
        "Lastly, you need to subtract the average and divide by the standard deviation. Note that you can pass `t.std` into the `einops.reduce` function to return the std dev of the values you're reducing over."
      ]
    },
    {
      "cell_type": "code",
      "execution_count": null,
      "metadata": {
        "id": "xVUTTGsl0kJ_"
      },
      "outputs": [],
      "source": [
        "def temperatures_normalized(temps: Tensor) -> Tensor:\n",
        "    \"\"\"For each day, subtract the weekly average and divide by the weekly standard deviation.\n",
        "\n",
        "    temps: as above\n",
        "\n",
        "    Pass t.std to reduce.\n",
        "    \"\"\"\n",
        "    raise NotImplementedError()\n",
        "\n",
        "\n",
        "expected = [-0.333, 0.249, -0.915, 1.995, -0.333, 0.249, -0.915, -0.894, 0.224, 1.342, 0.224, -0.224, -1.565, 0.894]\n",
        "actual = temperatures_normalized(temps)\n",
        "assert_all_close(actual, t.tensor(expected))"
      ]
    },
    {
      "cell_type": "markdown",
      "metadata": {
        "id": "mN0GJJ590kJ_"
      },
      "source": [
        "<details><summary>Solution</summary>\n",
        "\n",
        "```python\n",
        "def temperatures_normalized(temps: Tensor) -> Tensor:\n",
        "    \"\"\"For each day, subtract the weekly average and divide by the weekly standard deviation.\n",
        "\n",
        "    temps: as above\n",
        "\n",
        "    Pass t.std to reduce.\n",
        "    \"\"\"\n",
        "    avg = einops.reduce(temps, \"(w 7) -> w\", \"mean\")\n",
        "    std = einops.reduce(temps, \"(h 7) -> h\", t.std)\n",
        "    return (temps - einops.repeat(avg, \"w -> (w 7)\")) / einops.repeat(std, \"w -> (w 7)\")\n",
        "```\n",
        "</details>"
      ]
    },
    {
      "cell_type": "markdown",
      "metadata": {
        "id": "028q1JfL0kJ_"
      },
      "source": [
        "#### (C1) normalize a matrix\n",
        "\n",
        "Here, we're asking you to normalize the rows of a matrix so that each row has L2 norm (sum of squared values) equal to 1. Note - L2 norm and standard deviation are not the same thing; L2 norm leaves out the averaging over size of vector step. We recommend you try and use the torch function `t.norm` directly rather than einops for this task.\n",
        "\n",
        "Two useful things we should highlight here:\n",
        "\n",
        "- Most PyTorch functions like `t.norm(tensor, ...)` which operate on a single tensor are also tensor methods, i.e. they can be used as `tensor.norm(...)` with the same arguments.\n",
        "- Most PyTorch dimensionality-reducing functions have the `keepdim` argument, which is false by default but will cause your output tensor to keep dummy dimensions if set to true. For example, if `tensor` has shape `(3, 4)` then `tensor.sum(dim=1)` has shape `(3,)` but `tensor.sum(dim=1, keepdim=True)` has shape `(3, 1)`."
      ]
    },
    {
      "cell_type": "code",
      "execution_count": null,
      "metadata": {
        "id": "PGffj3Wn0kJ_"
      },
      "outputs": [],
      "source": [
        "def normalize_rows(matrix: Tensor) -> Tensor:\n",
        "    \"\"\"Normalize each row of the given 2D matrix.\n",
        "\n",
        "    matrix: a 2D tensor of shape (m, n).\n",
        "\n",
        "    Returns: a tensor of the same shape where each row is divided by its l2 norm.\n",
        "    \"\"\"\n",
        "    raise NotImplementedError()\n",
        "\n",
        "\n",
        "matrix = t.tensor([[1, 2, 3], [4, 5, 6], [7, 8, 9]]).float()\n",
        "expected = t.tensor([[0.267, 0.535, 0.802], [0.456, 0.570, 0.684], [0.503, 0.574, 0.646]])\n",
        "assert_all_close(normalize_rows(matrix), expected)"
      ]
    },
    {
      "cell_type": "markdown",
      "metadata": {
        "id": "0LYiSk640kJ_"
      },
      "source": [
        "<details><summary>Solution</summary>\n",
        "\n",
        "```python\n",
        "def normalize_rows(matrix: Tensor) -> Tensor:\n",
        "    \"\"\"Normalize each row of the given 2D matrix.\n",
        "\n",
        "    matrix: a 2D tensor of shape (m, n).\n",
        "\n",
        "    Returns: a tensor of the same shape where each row is divided by its l2 norm.\n",
        "    \"\"\"\n",
        "    row_norms = matrix.norm(dim=1, keepdim=True)  # keepdim=True\n",
        "    return matrix / row_norms\n",
        "```\n",
        "</details>"
      ]
    },
    {
      "cell_type": "markdown",
      "metadata": {
        "id": "3vGxXBza0kJ_"
      },
      "source": [
        "#### (C2) pairwise cosine similarity\n",
        "\n",
        "Now, you should compute a matrix of shape `(m, m)` where `out[i, j]` is the cosine similarity between the `i`-th and `j`-th rows of `matrix`.\n",
        "\n",
        "The cosine similarity between two vectors is given by summing the elementwise products of the normalized vectors. We haven't covered `einsum` yet, but you should be able to get this working using normal elementwise multiplication and summing (or even do this in one step - can you see how?)."
      ]
    },
    {
      "cell_type": "code",
      "execution_count": null,
      "metadata": {
        "id": "Q1i71Rpu0kJ_"
      },
      "outputs": [],
      "source": [
        "def cos_sim_matrix(matrix: Tensor) -> Tensor:\n",
        "    \"\"\"Return the cosine similarity matrix for each pair of rows of the given matrix.\n",
        "\n",
        "    matrix: shape (m, n)\n",
        "    \"\"\"\n",
        "    raise NotImplementedError()\n",
        "\n",
        "\n",
        "matrix = t.tensor([[1, 2, 3], [4, 5, 6], [7, 8, 9]]).float()\n",
        "expected = t.tensor([[1.0, 0.975, 0.959], [0.975, 1.0, 0.998], [0.959, 0.998, 1.0]])\n",
        "assert_all_close(cos_sim_matrix(matrix), expected)"
      ]
    },
    {
      "cell_type": "markdown",
      "metadata": {
        "id": "cXK7S9gm0kJ_"
      },
      "source": [
        "<details>\n",
        "<summary>Solution</summary>\n",
        "\n",
        "```python\n",
        "def cos_sim_matrix(matrix: Tensor) -> Tensor:\n",
        "    \"\"\"Return the cosine similarity matrix for each pair of rows of the given matrix.\n",
        "\n",
        "    matrix: shape (m, n)\n",
        "    \"\"\"\n",
        "    matrix_normalized = normalize_rows(matrix)\n",
        "    return matrix_normalized @ matrix_normalized.T\n",
        "```\n",
        "\n",
        "The reason this solution works is that `matrix_normalized @ matrix_normalized.T` multiplies along the columns of `matrix_normalized` and the rows of `matrix_normalized.T` then sums the output - in other words, it computes the dot products!\n",
        "\n",
        "For a more verbose solution using explicit broadcasting, you could also do this:\n",
        "\n",
        "```python\n",
        "left_matrix = matrix_normalized.unsqueeze(-1)  # shape (m, n, 1)\n",
        "right_matrix = matrix_normalized.T.unsqueeze(0)  # shape (1, n, m)\n",
        "products = left_matrix * right_matrix  # shape (m, n, m)\n",
        "return products.sum(dim=1)  # shape (m, m)\n",
        "```\n",
        "\n",
        "</details>"
      ]
    },
    {
      "cell_type": "markdown",
      "metadata": {
        "id": "AsTtcBGT0kJ_"
      },
      "source": [
        "#### (D) sample distribution\n",
        "\n",
        "Here we're having you do something a bit more practical and less artificial. You're given a probability distribution (i.e. a tensor of probabilities that sum to 1) and asked to sample from it.\n",
        "\n",
        "Hint - you can use the torch functions `t.rand` and `t.cumsum` to do this without any explicit loops."
      ]
    },
    {
      "cell_type": "code",
      "execution_count": null,
      "metadata": {
        "id": "_cNDfbnT0kJ_"
      },
      "outputs": [],
      "source": [
        "def sample_distribution(probs: Tensor, n: int) -> Tensor:\n",
        "    \"\"\"Return n random samples from probs, where probs is a normalized probability distribution.\n",
        "\n",
        "    probs: shape (k,) where probs[i] is the probability of event i occurring.\n",
        "    n: number of random samples\n",
        "\n",
        "    Return: shape (n,) where out[i] is an integer indicating which event was sampled.\n",
        "\n",
        "    Use t.rand and t.cumsum to do this without any explicit loops.\n",
        "    \"\"\"\n",
        "    raise NotImplementedError()\n",
        "\n",
        "\n",
        "n = 5_000_000\n",
        "probs = t.tensor([0.05, 0.1, 0.1, 0.2, 0.15, 0.4])\n",
        "freqs = t.bincount(sample_distribution(probs, n)) / n\n",
        "assert_all_close(freqs, probs)"
      ]
    },
    {
      "cell_type": "markdown",
      "metadata": {
        "id": "8OB84VRX0kJ_"
      },
      "source": [
        "<details>\n",
        "<summary>Help - I'm not sure how to use <code>t.rand</code> and <code>t.cumsum</code> in this way.</summary>\n",
        "\n",
        "Suppose our probabilities were `probs = [0.2, 0.3, 0.5]`. Then the cumsum is `probs_cumsum = [0.2, 0.5, 1.0]`. If we generate a random value `v` between 0 and 1, then sum the boolean tensor `v > probs_cumsum`, it will be 0 exactly `0.2` of the time, 1 exactly `0.3` of the time, and 2 exactly `0.5` of the time - exactly what we want.\n",
        "\n",
        "</details>\n",
        "\n",
        "\n",
        "<details><summary>Solution</summary>\n",
        "\n",
        "```python\n",
        "def sample_distribution(probs: Tensor, n: int) -> Tensor:\n",
        "    \"\"\"Return n random samples from probs, where probs is a normalized probability distribution.\n",
        "\n",
        "    probs: shape (k,) where probs[i] is the probability of event i occurring.\n",
        "    n: number of random samples\n",
        "\n",
        "    Return: shape (n,) where out[i] is an integer indicating which event was sampled.\n",
        "\n",
        "    Use t.rand and t.cumsum to do this without any explicit loops.\n",
        "    \"\"\"\n",
        "    assert abs(probs.sum() - 1.0) < 0.001\n",
        "    assert (probs >= 0).all()\n",
        "    return (t.rand(n, 1) > t.cumsum(probs, dim=0)).sum(dim=-1)\n",
        "```\n",
        "</details>"
      ]
    },
    {
      "cell_type": "markdown",
      "metadata": {
        "id": "lQkrBQzm0kKA"
      },
      "source": [
        "#### (E) classifier accuracy\n",
        "\n",
        "Here, we're asking you to compute the accuracy of a classifier. `scores` is a tensor of shape `(batch, n_classes)` where `scores[b, i]` is the score the classifier gave to class `i` for input `b`, and `true_classes` is a tensor of shape `(batch,)` where `true_classes[b]` is the true class for input `b`. We want you to return the fraction of times the maximum score is equal to the true class.\n",
        "\n",
        "You can use the torch function `t.argmax`, it works as follows: `tensor.argmax(dim)` will return a tensor of the index containing the maximum value along the dimension `dim` (i.e. the shape of this output will be the same as the shape of `tensor` except for the dimension `dim`)."
      ]
    },
    {
      "cell_type": "code",
      "execution_count": null,
      "metadata": {
        "id": "ip0BInJn0kKA"
      },
      "outputs": [],
      "source": [
        "def classifier_accuracy(scores: Tensor, true_classes: Tensor) -> Tensor:\n",
        "    \"\"\"Return the fraction of inputs for which the maximum score corresponds to the true class for that input.\n",
        "\n",
        "    scores: shape (batch, n_classes). A higher score[b, i] means that the classifier thinks class i is more likely.\n",
        "    true_classes: shape (batch, ). true_classes[b] is an integer from [0...n_classes).\n",
        "\n",
        "    Use t.argmax.\n",
        "    \"\"\"\n",
        "    raise NotImplementedError()\n",
        "\n",
        "\n",
        "scores = t.tensor([[0.75, 0.5, 0.25], [0.1, 0.5, 0.4], [0.1, 0.7, 0.2]])\n",
        "true_classes = t.tensor([0, 1, 0])\n",
        "expected = 2.0 / 3.0\n",
        "assert classifier_accuracy(scores, true_classes) == expected\n",
        "print(\"Tests passed!\")"
      ]
    },
    {
      "cell_type": "markdown",
      "metadata": {
        "id": "3tBhuuKE0kKA"
      },
      "source": [
        "<details><summary>Solution</summary>\n",
        "\n",
        "```python\n",
        "def classifier_accuracy(scores: Tensor, true_classes: Tensor) -> Tensor:\n",
        "    \"\"\"Return the fraction of inputs for which the maximum score corresponds to the true class for that input.\n",
        "\n",
        "    scores: shape (batch, n_classes). A higher score[b, i] means that the classifier thinks class i is more likely.\n",
        "    true_classes: shape (batch, ). true_classes[b] is an integer from [0...n_classes).\n",
        "\n",
        "    Use t.argmax.\n",
        "    \"\"\"\n",
        "    assert true_classes.max() < scores.shape[1]\n",
        "    return (scores.argmax(dim=1) == true_classes).float().mean()\n",
        "```\n",
        "</details>"
      ]
    },
    {
      "cell_type": "markdown",
      "metadata": {
        "id": "9nJsCIun0kKA"
      },
      "source": [
        "#### (F1) total price indexing\n",
        "\n",
        "The next few exercises involve indexing, often using the `torch.gather` function. You can read about it in the docs [here](https://pytorch.org/docs/stable/generated/torch.gather.html).\n",
        "\n",
        "If you find gather confusing, an alternative is the `eindex` library, which was designed to provide indexing features motivated by how `einops` works. You can read more about that [here](https://www.perfectlynormal.co.uk/blog-eindex), and as a suggested bonus you can try implementing / rewriting the next few functions using `eindex`."
      ]
    },
    {
      "cell_type": "code",
      "execution_count": null,
      "metadata": {
        "id": "r_PmXBLx0kKA"
      },
      "outputs": [],
      "source": [
        "def total_price_indexing(prices: Tensor, items: Tensor) -> float:\n",
        "    \"\"\"Given prices for each kind of item and a tensor of items purchased, return the total price.\n",
        "\n",
        "    prices: shape (k, ). prices[i] is the price of the ith item.\n",
        "    items: shape (n, ). A 1D tensor where each value is an item index from [0..k).\n",
        "\n",
        "    Use integer array indexing. The below document describes this for NumPy but it's the same in PyTorch:\n",
        "\n",
        "    https://numpy.org/doc/stable/user/basics.indexing.html#integer-array-indexing\n",
        "    \"\"\"\n",
        "    raise NotImplementedError()\n",
        "\n",
        "\n",
        "prices = t.tensor([0.5, 1, 1.5, 2, 2.5])\n",
        "items = t.tensor([0, 0, 1, 1, 4, 3, 2])\n",
        "assert total_price_indexing(prices, items) == 9.0\n",
        "print(\"Tests passed!\")"
      ]
    },
    {
      "cell_type": "markdown",
      "metadata": {
        "id": "-gNaIHuV0kKA"
      },
      "source": [
        "<details><summary>Solution</summary>\n",
        "\n",
        "```python\n",
        "def total_price_indexing(prices: Tensor, items: Tensor) -> float:\n",
        "    \"\"\"Given prices for each kind of item and a tensor of items purchased, return the total price.\n",
        "\n",
        "    prices: shape (k, ). prices[i] is the price of the ith item.\n",
        "    items: shape (n, ). A 1D tensor where each value is an item index from [0..k).\n",
        "\n",
        "    Use integer array indexing. The below document describes this for NumPy but it's the same in PyTorch:\n",
        "\n",
        "    https://numpy.org/doc/stable/user/basics.indexing.html#integer-array-indexing\n",
        "    \"\"\"\n",
        "    assert items.max() < prices.shape[0]\n",
        "    return prices[items].sum().item()\n",
        "```\n",
        "</details>"
      ]
    },
    {
      "cell_type": "markdown",
      "metadata": {
        "id": "YQ4Sug3x0kKA"
      },
      "source": [
        "#### (F2) gather 2D"
      ]
    },
    {
      "cell_type": "code",
      "execution_count": null,
      "metadata": {
        "id": "1Qj8r0b50kKA"
      },
      "outputs": [],
      "source": [
        "def gather_2d(matrix: Tensor, indexes: Tensor) -> Tensor:\n",
        "    \"\"\"Perform a gather operation along the second dimension.\n",
        "\n",
        "    matrix: shape (m, n)\n",
        "    indexes: shape (m, k)\n",
        "\n",
        "    Return: shape (m, k). out[i][j] = matrix[i][indexes[i][j]]\n",
        "\n",
        "    For this problem, the test already passes and it's your job to write at least three asserts relating the arguments and the output. This is a tricky function and worth spending some time to wrap your head around its behavior.\n",
        "\n",
        "    See: https://pytorch.org/docs/stable/generated/torch.gather.html?highlight=gather#torch.gather\n",
        "    \"\"\"\n",
        "    # YOUR CODE HERE - add assert statement(s) here for `indices` and `matrix`\n",
        "\n",
        "    out = matrix.gather(1, indexes)\n",
        "    # YOUR CODE HERE - add assert statement(s) here for `out`\n",
        "\n",
        "    return out\n",
        "\n",
        "\n",
        "matrix = t.arange(15).view(3, 5)\n",
        "indexes = t.tensor([[4], [3], [2]])\n",
        "expected = t.tensor([[4], [8], [12]])\n",
        "assert_all_equal(gather_2d(matrix, indexes), expected)\n",
        "\n",
        "indexes2 = t.tensor([[2, 4], [1, 3], [0, 2]])\n",
        "expected2 = t.tensor([[2, 4], [6, 8], [10, 12]])\n",
        "assert_all_equal(gather_2d(matrix, indexes2), expected2)"
      ]
    },
    {
      "cell_type": "markdown",
      "metadata": {
        "id": "qS-VSake0kKA"
      },
      "source": [
        "<details><summary>Solution</summary>\n",
        "\n",
        "```python\n",
        "def gather_2d(matrix: Tensor, indexes: Tensor) -> Tensor:\n",
        "    \"\"\"Perform a gather operation along the second dimension.\n",
        "\n",
        "    matrix: shape (m, n)\n",
        "    indexes: shape (m, k)\n",
        "\n",
        "    Return: shape (m, k). out[i][j] = matrix[i][indexes[i][j]]\n",
        "\n",
        "    For this problem, the test already passes and it's your job to write at least three asserts relating the arguments and the output. This is a tricky function and worth spending some time to wrap your head around its behavior.\n",
        "\n",
        "    See: https://pytorch.org/docs/stable/generated/torch.gather.html?highlight=gather#torch.gather\n",
        "    \"\"\"\n",
        "    assert matrix.ndim == indexes.ndim\n",
        "    assert indexes.shape[0] <= matrix.shape[0]\n",
        "\n",
        "    out = matrix.gather(1, indexes)\n",
        "    assert out.shape == indexes.shape\n",
        "\n",
        "    return out\n",
        "```\n",
        "</details>"
      ]
    },
    {
      "cell_type": "markdown",
      "metadata": {
        "id": "LbBcXaQe0kKA"
      },
      "source": [
        "#### (F3) total price gather"
      ]
    },
    {
      "cell_type": "code",
      "execution_count": null,
      "metadata": {
        "id": "UlZwzlJx0kKA"
      },
      "outputs": [],
      "source": [
        "def total_price_gather(prices: Tensor, items: Tensor) -> float:\n",
        "    \"\"\"Compute the same as total_price_indexing, but use torch.gather.\"\"\"\n",
        "    assert items.max() < prices.shape[0]\n",
        "    raise NotImplementedError()\n",
        "\n",
        "\n",
        "prices = t.tensor([0.5, 1, 1.5, 2, 2.5])\n",
        "items = t.tensor([0, 0, 1, 1, 4, 3, 2])\n",
        "assert total_price_gather(prices, items) == 9.0\n",
        "print(\"Tests passed!\")"
      ]
    },
    {
      "cell_type": "markdown",
      "metadata": {
        "id": "b4PKsxcB0kKA"
      },
      "source": [
        "<details><summary>Solution</summary>\n",
        "\n",
        "```python\n",
        "def total_price_gather(prices: Tensor, items: Tensor) -> float:\n",
        "    \"\"\"Compute the same as total_price_indexing, but use torch.gather.\"\"\"\n",
        "    assert items.max() < prices.shape[0]\n",
        "    return prices.gather(0, items).sum().item()\n",
        "```\n",
        "</details>"
      ]
    },
    {
      "cell_type": "markdown",
      "metadata": {
        "id": "Cl_Tludp0kKA"
      },
      "source": [
        "#### (G) indexing"
      ]
    },
    {
      "cell_type": "code",
      "execution_count": null,
      "metadata": {
        "id": "HHBote3K0kKA"
      },
      "outputs": [],
      "source": [
        "def integer_array_indexing(matrix: Tensor, coords: Tensor) -> Tensor:\n",
        "    \"\"\"Return the values at each coordinate using integer array indexing.\n",
        "\n",
        "    For details on integer array indexing, see:\n",
        "    https://numpy.org/doc/stable/user/basics.indexing.html#integer-array-indexing\n",
        "\n",
        "    matrix: shape (d_0, d_1, ..., d_n)\n",
        "    coords: shape (batch, n)\n",
        "\n",
        "    Return: (batch, )\n",
        "    \"\"\"\n",
        "    raise NotImplementedError()\n",
        "\n",
        "\n",
        "mat_2d = t.arange(15).view(3, 5)\n",
        "coords_2d = t.tensor([[0, 1], [0, 4], [1, 4]])\n",
        "actual = integer_array_indexing(mat_2d, coords_2d)\n",
        "assert_all_equal(actual, t.tensor([1, 4, 9]))\n",
        "\n",
        "mat_3d = t.arange(2 * 3 * 4).view((2, 3, 4))\n",
        "coords_3d = t.tensor([[0, 0, 0], [0, 1, 1], [0, 2, 2], [1, 0, 3], [1, 2, 0]])\n",
        "actual = integer_array_indexing(mat_3d, coords_3d)\n",
        "assert_all_equal(actual, t.tensor([0, 5, 10, 15, 20]))"
      ]
    },
    {
      "cell_type": "markdown",
      "metadata": {
        "id": "TLCsJqfX0kKA"
      },
      "source": [
        "<details><summary>Solution</summary>\n",
        "\n",
        "```python\n",
        "def integer_array_indexing(matrix: Tensor, coords: Tensor) -> Tensor:\n",
        "    \"\"\"Return the values at each coordinate using integer array indexing.\n",
        "\n",
        "    For details on integer array indexing, see:\n",
        "    https://numpy.org/doc/stable/user/basics.indexing.html#integer-array-indexing\n",
        "\n",
        "    matrix: shape (d_0, d_1, ..., d_n)\n",
        "    coords: shape (batch, n)\n",
        "\n",
        "    Return: (batch, )\n",
        "    \"\"\"\n",
        "    return matrix[tuple(coords.T)]\n",
        "```\n",
        "</details>"
      ]
    },
    {
      "cell_type": "markdown",
      "metadata": {
        "id": "vh4AacFc0kKA"
      },
      "source": [
        "#### (H1) batched logsumexp"
      ]
    },
    {
      "cell_type": "code",
      "execution_count": null,
      "metadata": {
        "id": "E-f1YEbb0kKA"
      },
      "outputs": [],
      "source": [
        "def batched_logsumexp(matrix: Tensor) -> Tensor:\n",
        "    \"\"\"For each row of the matrix, compute log(sum(exp(row))) in a numerically stable way.\n",
        "\n",
        "    matrix: shape (batch, n)\n",
        "\n",
        "    Return: (batch, ). For each i, out[i] = log(sum(exp(matrix[i]))).\n",
        "\n",
        "    Do this without using PyTorch's logsumexp function.\n",
        "\n",
        "    A couple useful blogs about this function:\n",
        "    - https://leimao.github.io/blog/LogSumExp/\n",
        "    - https://gregorygundersen.com/blog/2020/02/09/log-sum-exp/\n",
        "    \"\"\"\n",
        "    raise NotImplementedError()\n",
        "\n",
        "\n",
        "matrix = t.tensor([[-1000, -1000, -1000, -1000], [1000, 1000, 1000, 1000]])\n",
        "expected = t.tensor([-1000 + math.log(4), 1000 + math.log(4)])\n",
        "actual = batched_logsumexp(matrix)\n",
        "assert_all_close(actual, expected)\n",
        "\n",
        "matrix2 = t.randn((10, 20))\n",
        "expected2 = t.logsumexp(matrix2, dim=-1)\n",
        "actual2 = batched_logsumexp(matrix2)\n",
        "assert_all_close(actual2, expected2)"
      ]
    },
    {
      "cell_type": "markdown",
      "metadata": {
        "id": "0NDZF2XP0kKA"
      },
      "source": [
        "<details><summary>Solution</summary>\n",
        "\n",
        "```python\n",
        "def batched_logsumexp(matrix: Tensor) -> Tensor:\n",
        "    \"\"\"For each row of the matrix, compute log(sum(exp(row))) in a numerically stable way.\n",
        "\n",
        "    matrix: shape (batch, n)\n",
        "\n",
        "    Return: (batch, ). For each i, out[i] = log(sum(exp(matrix[i]))).\n",
        "\n",
        "    Do this without using PyTorch's logsumexp function.\n",
        "\n",
        "    A couple useful blogs about this function:\n",
        "    - https://leimao.github.io/blog/LogSumExp/\n",
        "    - https://gregorygundersen.com/blog/2020/02/09/log-sum-exp/\n",
        "    \"\"\"\n",
        "    C = matrix.max(dim=-1).values\n",
        "    exps = t.exp(matrix - einops.rearrange(C, \"n -> n 1\"))\n",
        "    return C + t.log(t.sum(exps, dim=-1))\n",
        "```\n",
        "</details>"
      ]
    },
    {
      "cell_type": "markdown",
      "metadata": {
        "id": "DPb3nsMs0kKA"
      },
      "source": [
        "#### (H2) batched softmax"
      ]
    },
    {
      "cell_type": "code",
      "execution_count": null,
      "metadata": {
        "id": "lW7GKk1s0kKA"
      },
      "outputs": [],
      "source": [
        "def batched_softmax(matrix: Tensor) -> Tensor:\n",
        "    \"\"\"For each row of the matrix, compute softmax(row).\n",
        "\n",
        "    Do this without using PyTorch's softmax function.\n",
        "    Instead, use the definition of softmax: https://en.wikipedia.org/wiki/Softmax_function\n",
        "\n",
        "    matrix: shape (batch, n)\n",
        "\n",
        "    Return: (batch, n). For each i, out[i] should sum to 1.\n",
        "    \"\"\"\n",
        "    raise NotImplementedError()\n",
        "\n",
        "\n",
        "matrix = t.arange(1, 6).view((1, 5)).float().log()\n",
        "expected = t.arange(1, 6).view((1, 5)) / 15.0\n",
        "actual = batched_softmax(matrix)\n",
        "assert_all_close(actual, expected)\n",
        "for i in [0.12, 3.4, -5, 6.7]:\n",
        "    assert_all_close(actual, batched_softmax(matrix + i))  # check it's translation-invariant\n",
        "\n",
        "matrix2 = t.rand((10, 20))\n",
        "actual2 = batched_softmax(matrix2)\n",
        "assert actual2.min() >= 0.0\n",
        "assert actual2.max() <= 1.0\n",
        "assert_all_equal(actual2.argsort(), matrix2.argsort())\n",
        "assert_all_close(actual2.sum(dim=-1), t.ones(matrix2.shape[:-1]))"
      ]
    },
    {
      "cell_type": "markdown",
      "metadata": {
        "id": "K4DsznMV0kKA"
      },
      "source": [
        "<details><summary>Solution</summary>\n",
        "\n",
        "```python\n",
        "def batched_softmax(matrix: Tensor) -> Tensor:\n",
        "    \"\"\"For each row of the matrix, compute softmax(row).\n",
        "\n",
        "    Do this without using PyTorch's softmax function.\n",
        "    Instead, use the definition of softmax: https://en.wikipedia.org/wiki/Softmax_function\n",
        "\n",
        "    matrix: shape (batch, n)\n",
        "\n",
        "    Return: (batch, n). For each i, out[i] should sum to 1.\n",
        "    \"\"\"\n",
        "    exp = matrix.exp()\n",
        "    return exp / exp.sum(dim=-1, keepdim=True)\n",
        "```\n",
        "</details>"
      ]
    },
    {
      "cell_type": "markdown",
      "metadata": {
        "id": "Bt38IeOF0kKA"
      },
      "source": [
        "#### (H3) batched logsoftmax"
      ]
    },
    {
      "cell_type": "code",
      "execution_count": null,
      "metadata": {
        "id": "8oMLCGCz0kKA"
      },
      "outputs": [],
      "source": [
        "def batched_logsoftmax(matrix: Tensor) -> Tensor:\n",
        "    \"\"\"Compute log(softmax(row)) for each row of the matrix.\n",
        "\n",
        "    matrix: shape (batch, n)\n",
        "\n",
        "    Return: (batch, n).\n",
        "\n",
        "    Do this without using PyTorch's logsoftmax function.\n",
        "    For each row, subtract the maximum first to avoid overflow if the row contains large values.\n",
        "    \"\"\"\n",
        "    raise NotImplementedError()\n",
        "\n",
        "\n",
        "matrix = t.arange(1, 7).view((2, 3)).float()\n",
        "start = 1000\n",
        "matrix2 = t.arange(start + 1, start + 7).view((2, 3)).float()\n",
        "actual = batched_logsoftmax(matrix2)\n",
        "expected = t.tensor([[-2.4076, -1.4076, -0.4076],\n",
        "                     [-2.4076, -1.4076, -0.4076]])\n",
        "assert_all_close(actual, expected)"
      ]
    },
    {
      "cell_type": "markdown",
      "metadata": {
        "id": "Ovlxq04s0kKA"
      },
      "source": [
        "<details><summary>Solution</summary>\n",
        "\n",
        "```python\n",
        "def batched_logsoftmax(matrix: Tensor) -> Tensor:\n",
        "    \"\"\"Compute log(softmax(row)) for each row of the matrix.\n",
        "\n",
        "    matrix: shape (batch, n)\n",
        "\n",
        "    Return: (batch, n).\n",
        "\n",
        "    Do this without using PyTorch's logsoftmax function.\n",
        "    For each row, subtract the maximum first to avoid overflow if the row contains large values.\n",
        "    \"\"\"\n",
        "    C = matrix.max(dim=1, keepdim=True).values\n",
        "    return matrix - C - (matrix - C).exp().sum(dim=1, keepdim=True).log()\n",
        "```\n",
        "</details>"
      ]
    },
    {
      "cell_type": "markdown",
      "metadata": {
        "id": "4fizT6hF0kKB"
      },
      "source": [
        "#### (H4) batched cross entropy loss"
      ]
    },
    {
      "cell_type": "code",
      "execution_count": null,
      "metadata": {
        "id": "pLby0Em30kKB"
      },
      "outputs": [],
      "source": [
        "def batched_cross_entropy_loss(logits: Tensor, true_labels: Tensor) -> Tensor:\n",
        "    \"\"\"Compute the cross entropy loss for each example in the batch.\n",
        "\n",
        "    logits: shape (batch, classes). logits[i][j] is the unnormalized prediction for example i and class j.\n",
        "    true_labels: shape (batch, ). true_labels[i] is an integer index representing the true class for example i.\n",
        "\n",
        "    Return: shape (batch, ). out[i] is the loss for example i.\n",
        "\n",
        "    Hint: convert the logits to log-probabilities using your batched_logsoftmax from above.\n",
        "    Then the loss for an example is just the negative of the log-probability that the model assigned to the true class. Use torch.gather to perform the indexing.\n",
        "    \"\"\"\n",
        "    assert logits.shape[0] == true_labels.shape[0]\n",
        "    assert true_labels.max() < logits.shape[1]\n",
        "    raise NotImplementedError()\n",
        "\n",
        "\n",
        "logits = t.tensor([[float(\"-inf\"), float(\"-inf\"), 0], [1 / 3, 1 / 3, 1 / 3], [float(\"-inf\"), 0, 0]])\n",
        "true_labels = t.tensor([2, 0, 0])\n",
        "expected = t.tensor([0.0, math.log(3), float(\"inf\")])\n",
        "actual = batched_cross_entropy_loss(logits, true_labels)\n",
        "assert_all_close(actual, expected)"
      ]
    },
    {
      "cell_type": "markdown",
      "metadata": {
        "id": "CzfFwFXb0kKB"
      },
      "source": [
        "<details><summary>Solution</summary>\n",
        "\n",
        "```python\n",
        "def batched_cross_entropy_loss(logits: Tensor, true_labels: Tensor) -> Tensor:\n",
        "    \"\"\"Compute the cross entropy loss for each example in the batch.\n",
        "\n",
        "    logits: shape (batch, classes). logits[i][j] is the unnormalized prediction for example i and class j.\n",
        "    true_labels: shape (batch, ). true_labels[i] is an integer index representing the true class for example i.\n",
        "\n",
        "    Return: shape (batch, ). out[i] is the loss for example i.\n",
        "\n",
        "    Hint: convert the logits to log-probabilities using your batched_logsoftmax from above.\n",
        "    Then the loss for an example is just the negative of the log-probability that the model assigned to the true class. Use torch.gather to perform the indexing.\n",
        "    \"\"\"\n",
        "    assert logits.shape[0] == true_labels.shape[0]\n",
        "    assert true_labels.max() < logits.shape[1]\n",
        "    logprobs = batched_logsoftmax(logits)\n",
        "    indices = einops.rearrange(true_labels, \"n -> n 1\")\n",
        "    pred_at_index = logprobs.gather(1, indices)\n",
        "    return -einops.rearrange(pred_at_index, \"n 1 -> n\")\n",
        "```\n",
        "</details>"
      ]
    },
    {
      "cell_type": "markdown",
      "metadata": {
        "id": "NgprSInL0kKB"
      },
      "source": [
        "#### (I1) collect rows"
      ]
    },
    {
      "cell_type": "code",
      "execution_count": null,
      "metadata": {
        "id": "S-euhihP0kKB"
      },
      "outputs": [],
      "source": [
        "def collect_rows(matrix: Tensor, row_indexes: Tensor) -> Tensor:\n",
        "    \"\"\"Return a 2D matrix whose rows are taken from the input matrix in order according to row_indexes.\n",
        "\n",
        "    matrix: shape (m, n)\n",
        "    row_indexes: shape (k,). Each value is an integer in [0..m).\n",
        "\n",
        "    Return: shape (k, n). out[i] is matrix[row_indexes[i]].\n",
        "    \"\"\"\n",
        "    raise NotImplementedError()\n",
        "\n",
        "\n",
        "matrix = t.arange(15).view((5, 3))\n",
        "row_indexes = t.tensor([0, 2, 1, 0])\n",
        "actual = collect_rows(matrix, row_indexes)\n",
        "expected = t.tensor([[0, 1, 2], [6, 7, 8], [3, 4, 5], [0, 1, 2]])\n",
        "assert_all_equal(actual, expected)"
      ]
    },
    {
      "cell_type": "markdown",
      "metadata": {
        "id": "SoE9xIow0kKB"
      },
      "source": [
        "<details><summary>Solution</summary>\n",
        "\n",
        "```python\n",
        "def collect_rows(matrix: Tensor, row_indexes: Tensor) -> Tensor:\n",
        "    \"\"\"Return a 2D matrix whose rows are taken from the input matrix in order according to row_indexes.\n",
        "\n",
        "    matrix: shape (m, n)\n",
        "    row_indexes: shape (k,). Each value is an integer in [0..m).\n",
        "\n",
        "    Return: shape (k, n). out[i] is matrix[row_indexes[i]].\n",
        "    \"\"\"\n",
        "    assert row_indexes.max() < matrix.shape[0]\n",
        "    return matrix[row_indexes]\n",
        "```\n",
        "</details>"
      ]
    },
    {
      "cell_type": "markdown",
      "metadata": {
        "id": "_J6Un4zC0kKB"
      },
      "source": [
        "#### (I2) collect columns"
      ]
    },
    {
      "cell_type": "code",
      "execution_count": null,
      "metadata": {
        "id": "8JHpeOMd0kKB"
      },
      "outputs": [],
      "source": [
        "def collect_columns(matrix: Tensor, column_indexes: Tensor) -> Tensor:\n",
        "    \"\"\"Return a 2D matrix whose columns are taken from the input matrix in order according to column_indexes.\n",
        "\n",
        "    matrix: shape (m, n)\n",
        "    column_indexes: shape (k,). Each value is an integer in [0..n).\n",
        "\n",
        "    Return: shape (m, k). out[:, i] is matrix[:, column_indexes[i]].\n",
        "    \"\"\"\n",
        "    assert column_indexes.max() < matrix.shape[1]\n",
        "    raise NotImplementedError()\n",
        "\n",
        "\n",
        "matrix = t.arange(15).view((5, 3))\n",
        "column_indexes = t.tensor([0, 2, 1, 0])\n",
        "actual = collect_columns(matrix, column_indexes)\n",
        "expected = t.tensor([[0, 2, 1, 0], [3, 5, 4, 3], [6, 8, 7, 6], [9, 11, 10, 9], [12, 14, 13, 12]])\n",
        "assert_all_equal(actual, expected)"
      ]
    },
    {
      "cell_type": "markdown",
      "metadata": {
        "id": "PWMhvSgl0kKB"
      },
      "source": [
        "<details><summary>Solution</summary>\n",
        "\n",
        "```python\n",
        "def collect_columns(matrix: Tensor, column_indexes: Tensor) -> Tensor:\n",
        "    \"\"\"Return a 2D matrix whose columns are taken from the input matrix in order according to column_indexes.\n",
        "\n",
        "    matrix: shape (m, n)\n",
        "    column_indexes: shape (k,). Each value is an integer in [0..n).\n",
        "\n",
        "    Return: shape (m, k). out[:, i] is matrix[:, column_indexes[i]].\n",
        "    \"\"\"\n",
        "    assert column_indexes.max() < matrix.shape[1]\n",
        "    return matrix[:, column_indexes]\n",
        "```\n",
        "</details>"
      ]
    },
    {
      "cell_type": "markdown",
      "metadata": {
        "id": "TkWZveUR0kKB"
      },
      "source": [
        "## Einsum\n",
        "\n",
        "Einsum is a very useful function for performing linear operations, which you'll probably be using a lot during this programme.\n",
        "\n",
        "> Note - we'll be using the `einops.einsum` version of the function, which works differently to the more conventional `torch.einsum`:\n",
        ">\n",
        "> * `einops.einsum` has the arrays as the first arguments, and uses spaces to separate dimensions in the string.\n",
        "> * `torch.einsum` has the string as its first argument, and doesn't use spaces to separate dimensions (each dim is represented by a single character).\n",
        ">\n",
        "> For instance, `torch.einsum(\"ij,i->j\", A, b)` is equivalent to `einops.einsum(A, b, \"i j, i -> j\")`. (Note, einops doesn't care whether there are spaces either side of `,` and `->`, so you don't need to match this syntax exactly.)\n",
        "\n",
        "Although there are many different kinds of operations you can perform, they are all derived from three key rules:\n",
        "\n",
        "1. Repeating letters in different inputs means those values will be multiplied, and those products will be in the output.\n",
        "    * For example, `M = einops.einsum(A, B, \"i j, i j -> i j\")` just corresponds to the elementwise product `M = A * B` (because $M_{ij} = A_{ij} B_{ij}$).\n",
        "2. Omitting a letter means that the axis will be summed over.\n",
        "    * For example, if `x` is a 2D array with shape `(I, J)`, then `einops.einsum(x, \"i j -> i\")` will be a 1D array of length `I` containing the row sums of `x` (we're summing along the `j`-index, i.e. across rows).\n",
        "3. We can return the unsummed axes in any order.\n",
        "    * For example, `einops.einsum(x, \"i j k -> k j i\")` does the same thing as `einops.rearrange(x, \"i j k -> k j i\")`.\n",
        "\n",
        "*Note - the einops creators supposedly have plans to support shape rearrangement, e.g. with operations like `einops.einsum(x, y, \"i j, j k l -> i (k l)\")` (i.e. combining the features of rearrange and einsum), so we can all look forward to that day!*"
      ]
    },
    {
      "cell_type": "markdown",
      "metadata": {
        "id": "h_FY5u710kKB"
      },
      "source": [
        "### Exercises - einsum\n",
        "\n",
        "> ```yaml\n",
        "> Difficulty: 🔴🔴⚪⚪⚪\n",
        "> Importance: 🔵🔵🔵🔵⚪\n",
        ">\n",
        "> You should spend up to 15-20 minutes on these exercises collectively.\n",
        "> If you think you get the general idea, then you can skip to the next section.\n",
        "> ```\n",
        "\n",
        "In the following exercises, you'll write simple functions using `einsum` which replicate the functionality of standard NumPy functions: trace, matrix multiplication, inner and outer products. We've also included some test functions which you should run.\n",
        "\n",
        "Note - this version of einsum will require that you include `->`, even if you're summing to a scalar (i.e. the right hand side of your string expression is empty)."
      ]
    },
    {
      "cell_type": "code",
      "execution_count": null,
      "metadata": {
        "id": "_9dB3Ook0kKB"
      },
      "outputs": [],
      "source": [
        "def einsum_trace(mat: np.ndarray):\n",
        "    \"\"\"\n",
        "    Returns the same as `np.trace`.\n",
        "    \"\"\"\n",
        "    raise NotImplementedError()\n",
        "\n",
        "\n",
        "def einsum_mv(mat: np.ndarray, vec: np.ndarray):\n",
        "    \"\"\"\n",
        "    Returns the same as `np.matmul`, when `mat` is a 2D array and `vec` is 1D.\n",
        "    \"\"\"\n",
        "    raise NotImplementedError()\n",
        "\n",
        "\n",
        "def einsum_mm(mat1: np.ndarray, mat2: np.ndarray):\n",
        "    \"\"\"\n",
        "    Returns the same as `np.matmul`, when `mat1` and `mat2` are both 2D arrays.\n",
        "    \"\"\"\n",
        "    raise NotImplementedError()\n",
        "\n",
        "\n",
        "def einsum_inner(vec1: np.ndarray, vec2: np.ndarray):\n",
        "    \"\"\"\n",
        "    Returns the same as `np.inner`.\n",
        "    \"\"\"\n",
        "    raise NotImplementedError()\n",
        "\n",
        "\n",
        "def einsum_outer(vec1: np.ndarray, vec2: np.ndarray):\n",
        "    \"\"\"\n",
        "    Returns the same as `np.outer`.\n",
        "    \"\"\"\n",
        "    raise NotImplementedError()\n",
        "\n",
        "\n",
        "tests.test_einsum_trace(einsum_trace)\n",
        "tests.test_einsum_mv(einsum_mv)\n",
        "tests.test_einsum_mm(einsum_mm)\n",
        "tests.test_einsum_inner(einsum_inner)\n",
        "tests.test_einsum_outer(einsum_outer)"
      ]
    }
  ],
  "metadata": {
    "language_info": {
      "name": "python"
    },
    "colab": {
      "provenance": []
    },
    "kernelspec": {
      "name": "python3",
      "display_name": "Python 3"
    }
  },
  "nbformat": 4,
  "nbformat_minor": 0
}