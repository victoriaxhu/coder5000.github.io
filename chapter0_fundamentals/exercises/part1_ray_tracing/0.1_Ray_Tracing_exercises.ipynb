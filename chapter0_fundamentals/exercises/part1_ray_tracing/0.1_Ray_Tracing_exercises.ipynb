{
  "cells": [
    {
      "cell_type": "markdown",
      "metadata": {
        "id": "Y8mgJDr4c7B2"
      },
      "source": [
        "# [0.1] - Ray Tracing (exercises)\n",
        "\n",
        "> **ARENA [Streamlit Page](https://arena-chapter0-fundamentals.streamlit.app/01_[0.1]_Ray_Tracing)**\n",
        ">\n",
        "> **Colab: [exercises](https://colab.research.google.com/github/callummcdougall/ARENA_3.0/blob/main/chapter0_fundamentals/exercises/part1_ray_tracing/0.1_Ray_Tracing_exercises.ipynb?t=20250316) | [solutions](https://colab.research.google.com/github/callummcdougall/ARENA_3.0/blob/main/chapter0_fundamentals/exercises/part1_ray_tracing/0.1_Ray_Tracing_solutions.ipynb?t=20250316)**\n",
        "\n",
        "Please send any problems / bugs on the `#errata` channel in the [Slack group](https://join.slack.com/t/arena-uk/shared_invite/zt-2zick19fl-6GY1yoGaoUozyM3wObwmnQ), and ask any questions on the dedicated channels for this chapter of material.\n",
        "\n",
        "You can collapse each section so only the headers are visible, by clicking the arrow symbol on the left hand side of the markdown header cells.\n",
        "\n",
        "Links to all other chapters: [(0) Fundamentals](https://arena-chapter0-fundamentals.streamlit.app/), [(1) Transformer Interpretability](https://arena-chapter1-transformer-interp.streamlit.app/), [(2) RL](https://arena-chapter2-rl.streamlit.app/)."
      ]
    },
    {
      "cell_type": "markdown",
      "metadata": {
        "id": "800Ms3rEc7B3"
      },
      "source": [
        "<img src=\"https://raw.githubusercontent.com/info-arena/ARENA_img/main/misc/headers/header-01.png\" width=\"350\">"
      ]
    },
    {
      "cell_type": "markdown",
      "metadata": {
        "id": "fN3zNyqzc7B3"
      },
      "source": [
        "# Introduction"
      ]
    },
    {
      "cell_type": "markdown",
      "metadata": {
        "id": "fjVM3Aiec7B3"
      },
      "source": [
        "Today we'll be practicing batched matrix operations in PyTorch by writing a basic graphics renderer. We'll start with an extremely simplified case and work up to rendering your very own 3D Pikachu!\n",
        "\n",
        "We'll also be touching on some general topics which will be important going forwards in this course, such as:\n",
        "\n",
        "* Using GPT systems to assist your learning and coding\n",
        "* Typechecking, and good coding practices\n",
        "* Debugging, with VSCode's built-in run & debug features"
      ]
    },
    {
      "cell_type": "markdown",
      "metadata": {
        "id": "-wOsoirYc7B3"
      },
      "source": [
        "## Content & Learning Objectives\n",
        "\n",
        "### 1️⃣ Rays & Segments\n",
        "\n",
        "This section introduces the key ideas and concepts in today's exercises, and guides you through some basic functions involving creating & using 2D rays.\n",
        "\n",
        "> ##### Learning Objectives\n",
        ">\n",
        "> - Learn how to create PyTorch tensors in a variety of ways\n",
        "> - Understand how to parametrize lines and rays in 2D\n",
        "> - Learn about type annotations and linear operations in PyTorch\n",
        "\n",
        "### 2️⃣ Batched Operations\n",
        "\n",
        "In the next section, you'll extend your work from the first section to perform batched operations, i.e. operations over several different dimensions at once.\n",
        "\n",
        "> ##### Learning Objectives\n",
        ">\n",
        "> - Learn about some important concepts related to batched operations, e.g. broadcasting and logical reductions\n",
        "> - Understand and use the `einops` library\n",
        "> - Apply this knowledge to create & work with a batch of rays\n",
        "\n",
        "### 3️⃣ Triangles\n",
        "\n",
        "In the final section we move into the 2D and 3D realms, and build up to rendering a full 3D mesh as a 2D image.\n",
        "\n",
        "> ##### Learning Objectives\n",
        ">\n",
        "> - Understand how to parametrize triangles in 2D and 3D, and solve for their intersection with rays\n",
        "> - Put everything together, to render your mesh as a 2D image\n",
        "\n",
        "### 4️⃣ Video & Lighting\n",
        "\n",
        "In the last set of exercises, you can implement some more mathematically complex forms of raytracing to get things like dynamic lighting & videos. There's also some optional material at the very end which covers the `pytest` library, and has you write your own tests.\n",
        "\n",
        "> ##### Learning Objectives\n",
        ">\n",
        "> - Learn how surface normal vectors can be used to compute lighting effects\n",
        "> - Render your figures in video form (as an animated camera pan)\n",
        "> - (optional) Learn about the `pytest` library, and write your own tests for the functions you wrote"
      ]
    },
    {
      "cell_type": "markdown",
      "metadata": {
        "id": "1DDtMikec7B4"
      },
      "source": [
        "## Setup code"
      ]
    },
    {
      "cell_type": "code",
      "execution_count": 7,
      "metadata": {
        "colab": {
          "base_uri": "https://localhost:8080/"
        },
        "id": "4Q6MvINSc7B4",
        "outputId": "99da8045-e019-4452-ee53-698a9574ba86"
      },
      "outputs": [
        {
          "output_type": "stream",
          "name": "stdout",
          "text": [
            "Collecting jaxtyping\n",
            "  Downloading jaxtyping-0.3.2-py3-none-any.whl.metadata (7.0 kB)\n",
            "Requirement already satisfied: einops in /usr/local/lib/python3.11/dist-packages (0.8.1)\n",
            "Collecting wadler-lindig>=0.1.3 (from jaxtyping)\n",
            "  Downloading wadler_lindig-0.1.7-py3-none-any.whl.metadata (17 kB)\n",
            "Downloading jaxtyping-0.3.2-py3-none-any.whl (55 kB)\n",
            "\u001b[?25l   \u001b[90m━━━━━━━━━━━━━━━━━━━━━━━━━━━━━━━━━━━━━━━━\u001b[0m \u001b[32m0.0/55.4 kB\u001b[0m \u001b[31m?\u001b[0m eta \u001b[36m-:--:--\u001b[0m\r\u001b[2K   \u001b[90m━━━━━━━━━━━━━━━━━━━━━━━━━━━━━━━━━━━━━━━━\u001b[0m \u001b[32m55.4/55.4 kB\u001b[0m \u001b[31m2.8 MB/s\u001b[0m eta \u001b[36m0:00:00\u001b[0m\n",
            "\u001b[?25hDownloading wadler_lindig-0.1.7-py3-none-any.whl (20 kB)\n",
            "Installing collected packages: wadler-lindig, jaxtyping\n",
            "Successfully installed jaxtyping-0.3.2 wadler-lindig-0.1.7\n",
            "--2025-06-23 01:36:41--  https://github.com/callummcdougall/ARENA_3.0/archive/refs/heads/main.zip\n",
            "Resolving github.com (github.com)... 140.82.113.4\n",
            "Connecting to github.com (github.com)|140.82.113.4|:443... connected.\n",
            "HTTP request sent, awaiting response... 302 Found\n",
            "Location: https://codeload.github.com/callummcdougall/ARENA_3.0/zip/refs/heads/main [following]\n",
            "--2025-06-23 01:36:42--  https://codeload.github.com/callummcdougall/ARENA_3.0/zip/refs/heads/main\n",
            "Resolving codeload.github.com (codeload.github.com)... 140.82.112.10\n",
            "Connecting to codeload.github.com (codeload.github.com)|140.82.112.10|:443... connected.\n",
            "HTTP request sent, awaiting response... 200 OK\n",
            "Length: unspecified [application/zip]\n",
            "Saving to: ‘/content/main.zip’\n",
            "\n",
            "main.zip                [          <=>       ]  21.12M  9.58MB/s    in 2.2s    \n",
            "\n",
            "2025-06-23 01:36:44 (9.58 MB/s) - ‘/content/main.zip’ saved [22148217]\n",
            "\n",
            "Archive:  /content/main.zip\n",
            "3780356ba8b3f4d2d2aaea907d6a024cd63820bc\n",
            "   creating: /content/ARENA_3.0-main/chapter0_fundamentals/exercises/\n",
            "   creating: /content/ARENA_3.0-main/chapter0_fundamentals/exercises/part0_prereqs/\n",
            "  inflating: /content/ARENA_3.0-main/chapter0_fundamentals/exercises/part0_prereqs/0.0_Prerequisites_exercises.ipynb  \n",
            "  inflating: /content/ARENA_3.0-main/chapter0_fundamentals/exercises/part0_prereqs/0.0_Prerequisites_solutions.ipynb  \n",
            "  inflating: /content/ARENA_3.0-main/chapter0_fundamentals/exercises/part0_prereqs/numbers.npy  \n",
            "  inflating: /content/ARENA_3.0-main/chapter0_fundamentals/exercises/part0_prereqs/solutions.py  \n",
            "  inflating: /content/ARENA_3.0-main/chapter0_fundamentals/exercises/part0_prereqs/tests.py  \n",
            "  inflating: /content/ARENA_3.0-main/chapter0_fundamentals/exercises/part0_prereqs/utils.py  \n",
            "   creating: /content/ARENA_3.0-main/chapter0_fundamentals/exercises/part1_ray_tracing/\n",
            "  inflating: /content/ARENA_3.0-main/chapter0_fundamentals/exercises/part1_ray_tracing/0.1_Ray_Tracing_exercises.ipynb  \n",
            "  inflating: /content/ARENA_3.0-main/chapter0_fundamentals/exercises/part1_ray_tracing/0.1_Ray_Tracing_solutions.ipynb  \n",
            "  inflating: /content/ARENA_3.0-main/chapter0_fundamentals/exercises/part1_ray_tracing/pikachu.pt  \n",
            "  inflating: /content/ARENA_3.0-main/chapter0_fundamentals/exercises/part1_ray_tracing/pikachu.stl  \n",
            "  inflating: /content/ARENA_3.0-main/chapter0_fundamentals/exercises/part1_ray_tracing/solutions.py  \n",
            "  inflating: /content/ARENA_3.0-main/chapter0_fundamentals/exercises/part1_ray_tracing/test_with_pytest.py  \n",
            "  inflating: /content/ARENA_3.0-main/chapter0_fundamentals/exercises/part1_ray_tracing/tests.py  \n",
            "  inflating: /content/ARENA_3.0-main/chapter0_fundamentals/exercises/part1_ray_tracing/utils.py  \n",
            "   creating: /content/ARENA_3.0-main/chapter0_fundamentals/exercises/part2_cnns/\n",
            "  inflating: /content/ARENA_3.0-main/chapter0_fundamentals/exercises/part2_cnns/0.2_CNNs_&_ResNets_exercises.ipynb  \n",
            "  inflating: /content/ARENA_3.0-main/chapter0_fundamentals/exercises/part2_cnns/0.2_CNNs_&_ResNets_solutions.ipynb  \n",
            "  inflating: /content/ARENA_3.0-main/chapter0_fundamentals/exercises/part2_cnns/imagenet_labels.json  \n",
            "   creating: /content/ARENA_3.0-main/chapter0_fundamentals/exercises/part2_cnns/resnet_inputs/\n",
            "  inflating: /content/ARENA_3.0-main/chapter0_fundamentals/exercises/part2_cnns/resnet_inputs/astronaut.jpg  \n",
            "  inflating: /content/ARENA_3.0-main/chapter0_fundamentals/exercises/part2_cnns/resnet_inputs/chimpanzee.jpg  \n",
            "  inflating: /content/ARENA_3.0-main/chapter0_fundamentals/exercises/part2_cnns/resnet_inputs/dragonfly.jpg  \n",
            "  inflating: /content/ARENA_3.0-main/chapter0_fundamentals/exercises/part2_cnns/resnet_inputs/fireworks.jpg  \n",
            "  inflating: /content/ARENA_3.0-main/chapter0_fundamentals/exercises/part2_cnns/resnet_inputs/frogs.jpg  \n",
            "  inflating: /content/ARENA_3.0-main/chapter0_fundamentals/exercises/part2_cnns/resnet_inputs/golden_retriever.jpg  \n",
            "  inflating: /content/ARENA_3.0-main/chapter0_fundamentals/exercises/part2_cnns/resnet_inputs/goofy.jpg  \n",
            "  inflating: /content/ARENA_3.0-main/chapter0_fundamentals/exercises/part2_cnns/resnet_inputs/hourglass.jpg  \n",
            "  inflating: /content/ARENA_3.0-main/chapter0_fundamentals/exercises/part2_cnns/resnet_inputs/iguana.jpg  \n",
            "  inflating: /content/ARENA_3.0-main/chapter0_fundamentals/exercises/part2_cnns/resnet_inputs/platypus.jpg  \n",
            "  inflating: /content/ARENA_3.0-main/chapter0_fundamentals/exercises/part2_cnns/resnet_inputs/volcano.jpg  \n",
            "  inflating: /content/ARENA_3.0-main/chapter0_fundamentals/exercises/part2_cnns/solutions.py  \n",
            "  inflating: /content/ARENA_3.0-main/chapter0_fundamentals/exercises/part2_cnns/tests.py  \n",
            "  inflating: /content/ARENA_3.0-main/chapter0_fundamentals/exercises/part2_cnns/utils.py  \n",
            "   creating: /content/ARENA_3.0-main/chapter0_fundamentals/exercises/part3_optimization/\n",
            "  inflating: /content/ARENA_3.0-main/chapter0_fundamentals/exercises/part3_optimization/0.3_Optimization_exercises.ipynb  \n",
            "  inflating: /content/ARENA_3.0-main/chapter0_fundamentals/exercises/part3_optimization/0.3_Optimization_solutions.ipynb  \n",
            "  inflating: /content/ARENA_3.0-main/chapter0_fundamentals/exercises/part3_optimization/solutions.py  \n",
            "  inflating: /content/ARENA_3.0-main/chapter0_fundamentals/exercises/part3_optimization/tests.py  \n",
            "  inflating: /content/ARENA_3.0-main/chapter0_fundamentals/exercises/part3_optimization/utils.py  \n",
            "   creating: /content/ARENA_3.0-main/chapter0_fundamentals/exercises/part4_backprop/\n",
            "  inflating: /content/ARENA_3.0-main/chapter0_fundamentals/exercises/part4_backprop/0.4_Backprop_exercises.ipynb  \n",
            "  inflating: /content/ARENA_3.0-main/chapter0_fundamentals/exercises/part4_backprop/0.4_Backprop_solutions.ipynb  \n",
            "  inflating: /content/ARENA_3.0-main/chapter0_fundamentals/exercises/part4_backprop/solutions.py  \n",
            "  inflating: /content/ARENA_3.0-main/chapter0_fundamentals/exercises/part4_backprop/tests.py  \n",
            "  inflating: /content/ARENA_3.0-main/chapter0_fundamentals/exercises/part4_backprop/utils.py  \n",
            "   creating: /content/ARENA_3.0-main/chapter0_fundamentals/exercises/part5_vaes_and_gans/\n",
            "  inflating: /content/ARENA_3.0-main/chapter0_fundamentals/exercises/part5_vaes_and_gans/0.5_VAEs_&_GANs_exercises.ipynb  \n",
            "  inflating: /content/ARENA_3.0-main/chapter0_fundamentals/exercises/part5_vaes_and_gans/0.5_VAEs_&_GANs_solutions.ipynb  \n",
            "  inflating: /content/ARENA_3.0-main/chapter0_fundamentals/exercises/part5_vaes_and_gans/solutions.py  \n",
            "  inflating: /content/ARENA_3.0-main/chapter0_fundamentals/exercises/part5_vaes_and_gans/tests.py  \n",
            "  inflating: /content/ARENA_3.0-main/chapter0_fundamentals/exercises/part5_vaes_and_gans/utils.py  \n",
            "  inflating: /content/ARENA_3.0-main/chapter0_fundamentals/exercises/plotly_utils.py  \n"
          ]
        }
      ],
      "source": [
        "import os\n",
        "import sys\n",
        "from pathlib import Path\n",
        "\n",
        "IN_COLAB = \"google.colab\" in sys.modules\n",
        "\n",
        "chapter = \"chapter0_fundamentals\"\n",
        "repo = \"ARENA_3.0\"\n",
        "branch = \"main\"\n",
        "\n",
        "# Install dependencies\n",
        "try:\n",
        "    import jaxtyping\n",
        "except:\n",
        "    %pip install jaxtyping einops\n",
        "\n",
        "# Get root directory, handling 3 different cases: (1) Colab, (2) notebook not in ARENA repo, (3) notebook in ARENA repo\n",
        "root = (\n",
        "    \"/content\"\n",
        "    if IN_COLAB\n",
        "    else \"/root\"\n",
        "    if repo not in os.getcwd()\n",
        "    else str(next(p for p in Path.cwd().parents if p.name == repo))\n",
        ")\n",
        "\n",
        "if Path(root).exists() and not Path(f\"{root}/{chapter}\").exists():\n",
        "    if not IN_COLAB:\n",
        "        !sudo apt-get install unzip\n",
        "        %pip install jupyter ipython --upgrade\n",
        "\n",
        "    if not os.path.exists(f\"{root}/{chapter}\"):\n",
        "        !wget -P {root} https://github.com/callummcdougall/ARENA_3.0/archive/refs/heads/{branch}.zip\n",
        "        !unzip {root}/{branch}.zip '{repo}-{branch}/{chapter}/exercises/*' -d {root}\n",
        "        !mv {root}/{repo}-{branch}/{chapter} {root}/{chapter}\n",
        "        !rm {root}/{branch}.zip\n",
        "        !rmdir {root}/{repo}-{branch}\n",
        "\n",
        "\n",
        "if f\"{root}/{chapter}/exercises\" not in sys.path:\n",
        "    sys.path.append(f\"{root}/{chapter}/exercises\")\n",
        "\n",
        "os.chdir(f\"{root}/{chapter}/exercises\")"
      ]
    },
    {
      "cell_type": "code",
      "execution_count": 8,
      "metadata": {
        "id": "LLAv_bdCc7B4"
      },
      "outputs": [],
      "source": [
        "import os\n",
        "import sys\n",
        "from functools import partial\n",
        "from pathlib import Path\n",
        "from typing import Any, Callable\n",
        "\n",
        "import einops\n",
        "import plotly.express as px\n",
        "import plotly.graph_objects as go\n",
        "import torch as t\n",
        "from IPython.display import display\n",
        "from ipywidgets import interact\n",
        "from jaxtyping import Bool, Float\n",
        "from torch import Tensor\n",
        "from tqdm import tqdm\n",
        "\n",
        "# Make sure exercises are in the path\n",
        "chapter = \"chapter0_fundamentals\"\n",
        "section = \"part1_ray_tracing\"\n",
        "root_dir = next(p for p in Path.cwd().parents if (p / chapter).exists())\n",
        "exercises_dir = root_dir / chapter / \"exercises\"\n",
        "section_dir = exercises_dir / section\n",
        "if str(exercises_dir) not in sys.path:\n",
        "    sys.path.append(str(exercises_dir))\n",
        "\n",
        "import part1_ray_tracing.tests as tests\n",
        "from part1_ray_tracing.utils import render_lines_with_plotly, setup_widget_fig_ray, setup_widget_fig_triangle\n",
        "from plotly_utils import imshow\n",
        "\n",
        "MAIN = __name__ == \"__main__\""
      ]
    },
    {
      "cell_type": "markdown",
      "metadata": {
        "id": "QI9NaKspc7B4"
      },
      "source": [
        "<details>\n",
        "<summary>Help - I get a NumPy-related error</summary>\n",
        "\n",
        "This is an annoying colab-related issue which I haven't been able to find a satisfying fix for. If you restart runtime (but don't delete runtime), and run just the imports cell above again (but not the `%pip install` cell), the problem should go away.\n",
        "</details>\n",
        "\n",
        "\n",
        "<details>\n",
        "<summary>Note on <code>pathlib</code></summary>\n",
        "\n",
        "We'll be using the `pathlib` library to define file paths. This is a more modern way of working with file paths than the `os` library, and is more cross-platform. You can read more about it [here](https://realpython.com/python-pathlib/).\n",
        "\n",
        "A major advantage of using `pathlib` rather than just relative path names is that it is more robust to which file / directory you happen to be running your code in. There's nothing more frustrating than failing to import or load a file, even though you can see it right there in your directory! Most of our code to load files will look something like this:\n",
        "\n",
        "```python\n",
        "with open(section_dir / \"pikachu.pt\", \"rb\") as f:\n",
        "    triangles = t.load(f)\n",
        "```\n",
        "\n",
        "since `section_dir` is the name of the `part1_ray_tracing` directory, and forward slashes are used to define files or directories within that directory.\n",
        "</details>"
      ]
    },
    {
      "cell_type": "markdown",
      "metadata": {
        "id": "x7vdR-X2c7B4"
      },
      "source": [
        "# 1️⃣ Rays & Segments\n",
        "\n",
        "> ##### Learning Objectives\n",
        ">\n",
        "> - Learn how to create PyTorch tensors in a variety of ways\n",
        "> - Understand how to parametrize lines and rays in 2D\n",
        "> - Learn about type annotations and linear operations in PyTorch"
      ]
    },
    {
      "cell_type": "markdown",
      "metadata": {
        "id": "swsijtgac7B5"
      },
      "source": [
        "## 1D Image Rendering\n",
        "\n",
        "In our initial setup, the **camera** will be a single point at the origin, and the **screen** will be the plane at x=1.\n",
        "\n",
        "**Objects** in the world consist of triangles, where triangles are represented as 3 points in 3D space (so 9 floating point values per triangle). You can build any shape out of sufficiently many triangles and your Pikachu will be made from 412 triangles.\n",
        "\n",
        "The camera will emit one or more **rays**, where a ray is represented by an **origin** point and a **direction** point. Conceptually, the ray is emitted from the origin and continues in the given direction until it intersects an object.\n",
        "\n",
        "We have no concept of lighting or color yet, so for now we'll say that a pixel on our screen should show a bright color if a ray from the origin through it intersects an object, otherwise our screen should be dark."
      ]
    },
    {
      "cell_type": "markdown",
      "metadata": {
        "id": "8XaS86mrc7B5"
      },
      "source": [
        "<img src=\"https://raw.githubusercontent.com/info-arena/ARENA_img/main/misc/ray_tracing.png\" width=\"400\">"
      ]
    },
    {
      "cell_type": "markdown",
      "metadata": {
        "id": "Sa2Tw_D2c7B5"
      },
      "source": [
        "To start, we'll let the z dimension in our `(x, y, z)` space be zero and work in the remaining two dimensions."
      ]
    },
    {
      "cell_type": "markdown",
      "metadata": {
        "id": "4UvV7nrxc7B5"
      },
      "source": [
        "### Exercise - implement `make_rays_1d`\n",
        "\n",
        "> ```yaml\n",
        "> Difficulty: 🔴🔴⚪⚪⚪\n",
        "> Importance: 🔵🔵🔵⚪⚪\n",
        ">\n",
        "> You should spend up to 10-15 minutes on this exercise.\n",
        "> ```"
      ]
    },
    {
      "cell_type": "markdown",
      "metadata": {
        "id": "nNt1sPpdc7B5"
      },
      "source": [
        "Implement the following `make_rays_1d` function so it generates some rays coming out of the origin, which we'll take to be `(0, 0, 0)`.\n",
        "\n",
        "Calling `render_lines_with_plotly` on your rays will display them in a 3D plot."
      ]
    },
    {
      "cell_type": "code",
      "execution_count": 9,
      "metadata": {
        "colab": {
          "base_uri": "https://localhost:8080/",
          "height": 617
        },
        "id": "MJi_mkuFc7B5",
        "outputId": "103fed2a-d3e9-4aab-cdd0-675b810d748e"
      },
      "outputs": [
        {
          "output_type": "display_data",
          "data": {
            "text/html": [
              "<html>\n",
              "<head><meta charset=\"utf-8\" /></head>\n",
              "<body>\n",
              "    <div>            <script src=\"https://cdnjs.cloudflare.com/ajax/libs/mathjax/2.7.5/MathJax.js?config=TeX-AMS-MML_SVG\"></script><script type=\"text/javascript\">if (window.MathJax && window.MathJax.Hub && window.MathJax.Hub.Config) {window.MathJax.Hub.Config({SVG: {font: \"STIX-Web\"}});}</script>                <script type=\"text/javascript\">window.PlotlyConfig = {MathJaxConfig: 'local'};</script>\n",
              "        <script charset=\"utf-8\" src=\"https://cdn.plot.ly/plotly-2.35.2.min.js\"></script>                <div id=\"c527259c-d556-4cf0-9d4b-3eb625c5ab98\" class=\"plotly-graph-div\" style=\"height:600px; width:600px;\"></div>            <script type=\"text/javascript\">                                    window.PLOTLYENV=window.PLOTLYENV || {};                                    if (document.getElementById(\"c527259c-d556-4cf0-9d4b-3eb625c5ab98\")) {                    Plotly.newPlot(                        \"c527259c-d556-4cf0-9d4b-3eb625c5ab98\",                        [{\"mode\":\"lines\",\"x\":[0.0,1.0],\"y\":[0.0,-10.0],\"z\":[0.0,0.0],\"type\":\"scatter3d\"},{\"mode\":\"lines\",\"x\":[0.0,1.0],\"y\":[0.0,-7.5],\"z\":[0.0,0.0],\"type\":\"scatter3d\"},{\"mode\":\"lines\",\"x\":[0.0,1.0],\"y\":[0.0,-5.0],\"z\":[0.0,0.0],\"type\":\"scatter3d\"},{\"mode\":\"lines\",\"x\":[0.0,1.0],\"y\":[0.0,-2.5],\"z\":[0.0,0.0],\"type\":\"scatter3d\"},{\"mode\":\"lines\",\"x\":[0.0,1.0],\"y\":[0.0,0.0],\"z\":[0.0,0.0],\"type\":\"scatter3d\"},{\"mode\":\"lines\",\"x\":[0.0,1.0],\"y\":[0.0,2.5],\"z\":[0.0,0.0],\"type\":\"scatter3d\"},{\"mode\":\"lines\",\"x\":[0.0,1.0],\"y\":[0.0,5.0],\"z\":[0.0,0.0],\"type\":\"scatter3d\"},{\"mode\":\"lines\",\"x\":[0.0,1.0],\"y\":[0.0,7.5],\"z\":[0.0,0.0],\"type\":\"scatter3d\"},{\"mode\":\"lines\",\"x\":[0.0,1.0],\"y\":[0.0,10.0],\"z\":[0.0,0.0],\"type\":\"scatter3d\"}],                        {\"height\":600,\"showlegend\":false,\"title\":{\"text\":\"3D rays\"},\"width\":600,\"template\":{\"data\":{\"histogram2dcontour\":[{\"type\":\"histogram2dcontour\",\"colorbar\":{\"outlinewidth\":0,\"ticks\":\"\"},\"colorscale\":[[0.0,\"#0d0887\"],[0.1111111111111111,\"#46039f\"],[0.2222222222222222,\"#7201a8\"],[0.3333333333333333,\"#9c179e\"],[0.4444444444444444,\"#bd3786\"],[0.5555555555555556,\"#d8576b\"],[0.6666666666666666,\"#ed7953\"],[0.7777777777777778,\"#fb9f3a\"],[0.8888888888888888,\"#fdca26\"],[1.0,\"#f0f921\"]]}],\"choropleth\":[{\"type\":\"choropleth\",\"colorbar\":{\"outlinewidth\":0,\"ticks\":\"\"}}],\"histogram2d\":[{\"type\":\"histogram2d\",\"colorbar\":{\"outlinewidth\":0,\"ticks\":\"\"},\"colorscale\":[[0.0,\"#0d0887\"],[0.1111111111111111,\"#46039f\"],[0.2222222222222222,\"#7201a8\"],[0.3333333333333333,\"#9c179e\"],[0.4444444444444444,\"#bd3786\"],[0.5555555555555556,\"#d8576b\"],[0.6666666666666666,\"#ed7953\"],[0.7777777777777778,\"#fb9f3a\"],[0.8888888888888888,\"#fdca26\"],[1.0,\"#f0f921\"]]}],\"heatmap\":[{\"type\":\"heatmap\",\"colorbar\":{\"outlinewidth\":0,\"ticks\":\"\"},\"colorscale\":[[0.0,\"#0d0887\"],[0.1111111111111111,\"#46039f\"],[0.2222222222222222,\"#7201a8\"],[0.3333333333333333,\"#9c179e\"],[0.4444444444444444,\"#bd3786\"],[0.5555555555555556,\"#d8576b\"],[0.6666666666666666,\"#ed7953\"],[0.7777777777777778,\"#fb9f3a\"],[0.8888888888888888,\"#fdca26\"],[1.0,\"#f0f921\"]]}],\"heatmapgl\":[{\"type\":\"heatmapgl\",\"colorbar\":{\"outlinewidth\":0,\"ticks\":\"\"},\"colorscale\":[[0.0,\"#0d0887\"],[0.1111111111111111,\"#46039f\"],[0.2222222222222222,\"#7201a8\"],[0.3333333333333333,\"#9c179e\"],[0.4444444444444444,\"#bd3786\"],[0.5555555555555556,\"#d8576b\"],[0.6666666666666666,\"#ed7953\"],[0.7777777777777778,\"#fb9f3a\"],[0.8888888888888888,\"#fdca26\"],[1.0,\"#f0f921\"]]}],\"contourcarpet\":[{\"type\":\"contourcarpet\",\"colorbar\":{\"outlinewidth\":0,\"ticks\":\"\"}}],\"contour\":[{\"type\":\"contour\",\"colorbar\":{\"outlinewidth\":0,\"ticks\":\"\"},\"colorscale\":[[0.0,\"#0d0887\"],[0.1111111111111111,\"#46039f\"],[0.2222222222222222,\"#7201a8\"],[0.3333333333333333,\"#9c179e\"],[0.4444444444444444,\"#bd3786\"],[0.5555555555555556,\"#d8576b\"],[0.6666666666666666,\"#ed7953\"],[0.7777777777777778,\"#fb9f3a\"],[0.8888888888888888,\"#fdca26\"],[1.0,\"#f0f921\"]]}],\"surface\":[{\"type\":\"surface\",\"colorbar\":{\"outlinewidth\":0,\"ticks\":\"\"},\"colorscale\":[[0.0,\"#0d0887\"],[0.1111111111111111,\"#46039f\"],[0.2222222222222222,\"#7201a8\"],[0.3333333333333333,\"#9c179e\"],[0.4444444444444444,\"#bd3786\"],[0.5555555555555556,\"#d8576b\"],[0.6666666666666666,\"#ed7953\"],[0.7777777777777778,\"#fb9f3a\"],[0.8888888888888888,\"#fdca26\"],[1.0,\"#f0f921\"]]}],\"mesh3d\":[{\"type\":\"mesh3d\",\"colorbar\":{\"outlinewidth\":0,\"ticks\":\"\"}}],\"scatter\":[{\"fillpattern\":{\"fillmode\":\"overlay\",\"size\":10,\"solidity\":0.2},\"type\":\"scatter\"}],\"parcoords\":[{\"type\":\"parcoords\",\"line\":{\"colorbar\":{\"outlinewidth\":0,\"ticks\":\"\"}}}],\"scatterpolargl\":[{\"type\":\"scatterpolargl\",\"marker\":{\"colorbar\":{\"outlinewidth\":0,\"ticks\":\"\"}}}],\"bar\":[{\"error_x\":{\"color\":\"#2a3f5f\"},\"error_y\":{\"color\":\"#2a3f5f\"},\"marker\":{\"line\":{\"color\":\"#E5ECF6\",\"width\":0.5},\"pattern\":{\"fillmode\":\"overlay\",\"size\":10,\"solidity\":0.2}},\"type\":\"bar\"}],\"scattergeo\":[{\"type\":\"scattergeo\",\"marker\":{\"colorbar\":{\"outlinewidth\":0,\"ticks\":\"\"}}}],\"scatterpolar\":[{\"type\":\"scatterpolar\",\"marker\":{\"colorbar\":{\"outlinewidth\":0,\"ticks\":\"\"}}}],\"histogram\":[{\"marker\":{\"pattern\":{\"fillmode\":\"overlay\",\"size\":10,\"solidity\":0.2}},\"type\":\"histogram\"}],\"scattergl\":[{\"type\":\"scattergl\",\"marker\":{\"colorbar\":{\"outlinewidth\":0,\"ticks\":\"\"}}}],\"scatter3d\":[{\"type\":\"scatter3d\",\"line\":{\"colorbar\":{\"outlinewidth\":0,\"ticks\":\"\"}},\"marker\":{\"colorbar\":{\"outlinewidth\":0,\"ticks\":\"\"}}}],\"scattermapbox\":[{\"type\":\"scattermapbox\",\"marker\":{\"colorbar\":{\"outlinewidth\":0,\"ticks\":\"\"}}}],\"scatterternary\":[{\"type\":\"scatterternary\",\"marker\":{\"colorbar\":{\"outlinewidth\":0,\"ticks\":\"\"}}}],\"scattercarpet\":[{\"type\":\"scattercarpet\",\"marker\":{\"colorbar\":{\"outlinewidth\":0,\"ticks\":\"\"}}}],\"carpet\":[{\"aaxis\":{\"endlinecolor\":\"#2a3f5f\",\"gridcolor\":\"white\",\"linecolor\":\"white\",\"minorgridcolor\":\"white\",\"startlinecolor\":\"#2a3f5f\"},\"baxis\":{\"endlinecolor\":\"#2a3f5f\",\"gridcolor\":\"white\",\"linecolor\":\"white\",\"minorgridcolor\":\"white\",\"startlinecolor\":\"#2a3f5f\"},\"type\":\"carpet\"}],\"table\":[{\"cells\":{\"fill\":{\"color\":\"#EBF0F8\"},\"line\":{\"color\":\"white\"}},\"header\":{\"fill\":{\"color\":\"#C8D4E3\"},\"line\":{\"color\":\"white\"}},\"type\":\"table\"}],\"barpolar\":[{\"marker\":{\"line\":{\"color\":\"#E5ECF6\",\"width\":0.5},\"pattern\":{\"fillmode\":\"overlay\",\"size\":10,\"solidity\":0.2}},\"type\":\"barpolar\"}],\"pie\":[{\"automargin\":true,\"type\":\"pie\"}]},\"layout\":{\"autotypenumbers\":\"strict\",\"colorway\":[\"#636efa\",\"#EF553B\",\"#00cc96\",\"#ab63fa\",\"#FFA15A\",\"#19d3f3\",\"#FF6692\",\"#B6E880\",\"#FF97FF\",\"#FECB52\"],\"font\":{\"color\":\"#2a3f5f\"},\"hovermode\":\"closest\",\"hoverlabel\":{\"align\":\"left\"},\"paper_bgcolor\":\"white\",\"plot_bgcolor\":\"#E5ECF6\",\"polar\":{\"bgcolor\":\"#E5ECF6\",\"angularaxis\":{\"gridcolor\":\"white\",\"linecolor\":\"white\",\"ticks\":\"\"},\"radialaxis\":{\"gridcolor\":\"white\",\"linecolor\":\"white\",\"ticks\":\"\"}},\"ternary\":{\"bgcolor\":\"#E5ECF6\",\"aaxis\":{\"gridcolor\":\"white\",\"linecolor\":\"white\",\"ticks\":\"\"},\"baxis\":{\"gridcolor\":\"white\",\"linecolor\":\"white\",\"ticks\":\"\"},\"caxis\":{\"gridcolor\":\"white\",\"linecolor\":\"white\",\"ticks\":\"\"}},\"coloraxis\":{\"colorbar\":{\"outlinewidth\":0,\"ticks\":\"\"}},\"colorscale\":{\"sequential\":[[0.0,\"#0d0887\"],[0.1111111111111111,\"#46039f\"],[0.2222222222222222,\"#7201a8\"],[0.3333333333333333,\"#9c179e\"],[0.4444444444444444,\"#bd3786\"],[0.5555555555555556,\"#d8576b\"],[0.6666666666666666,\"#ed7953\"],[0.7777777777777778,\"#fb9f3a\"],[0.8888888888888888,\"#fdca26\"],[1.0,\"#f0f921\"]],\"sequentialminus\":[[0.0,\"#0d0887\"],[0.1111111111111111,\"#46039f\"],[0.2222222222222222,\"#7201a8\"],[0.3333333333333333,\"#9c179e\"],[0.4444444444444444,\"#bd3786\"],[0.5555555555555556,\"#d8576b\"],[0.6666666666666666,\"#ed7953\"],[0.7777777777777778,\"#fb9f3a\"],[0.8888888888888888,\"#fdca26\"],[1.0,\"#f0f921\"]],\"diverging\":[[0,\"#8e0152\"],[0.1,\"#c51b7d\"],[0.2,\"#de77ae\"],[0.3,\"#f1b6da\"],[0.4,\"#fde0ef\"],[0.5,\"#f7f7f7\"],[0.6,\"#e6f5d0\"],[0.7,\"#b8e186\"],[0.8,\"#7fbc41\"],[0.9,\"#4d9221\"],[1,\"#276419\"]]},\"xaxis\":{\"gridcolor\":\"white\",\"linecolor\":\"white\",\"ticks\":\"\",\"title\":{\"standoff\":15},\"zerolinecolor\":\"white\",\"automargin\":true,\"zerolinewidth\":2},\"yaxis\":{\"gridcolor\":\"white\",\"linecolor\":\"white\",\"ticks\":\"\",\"title\":{\"standoff\":15},\"zerolinecolor\":\"white\",\"automargin\":true,\"zerolinewidth\":2},\"scene\":{\"xaxis\":{\"backgroundcolor\":\"#E5ECF6\",\"gridcolor\":\"white\",\"linecolor\":\"white\",\"showbackground\":true,\"ticks\":\"\",\"zerolinecolor\":\"white\",\"gridwidth\":2},\"yaxis\":{\"backgroundcolor\":\"#E5ECF6\",\"gridcolor\":\"white\",\"linecolor\":\"white\",\"showbackground\":true,\"ticks\":\"\",\"zerolinecolor\":\"white\",\"gridwidth\":2},\"zaxis\":{\"backgroundcolor\":\"#E5ECF6\",\"gridcolor\":\"white\",\"linecolor\":\"white\",\"showbackground\":true,\"ticks\":\"\",\"zerolinecolor\":\"white\",\"gridwidth\":2}},\"shapedefaults\":{\"line\":{\"color\":\"#2a3f5f\"}},\"annotationdefaults\":{\"arrowcolor\":\"#2a3f5f\",\"arrowhead\":0,\"arrowwidth\":1},\"geo\":{\"bgcolor\":\"white\",\"landcolor\":\"#E5ECF6\",\"subunitcolor\":\"white\",\"showland\":true,\"showlakes\":true,\"lakecolor\":\"white\"},\"title\":{\"x\":0.05},\"mapbox\":{\"style\":\"light\"}}}},                        {\"responsive\": true}                    ).then(function(){\n",
              "                            \n",
              "var gd = document.getElementById('c527259c-d556-4cf0-9d4b-3eb625c5ab98');\n",
              "var x = new MutationObserver(function (mutations, observer) {{\n",
              "        var display = window.getComputedStyle(gd).display;\n",
              "        if (!display || display === 'none') {{\n",
              "            console.log([gd, 'removed!']);\n",
              "            Plotly.purge(gd);\n",
              "            observer.disconnect();\n",
              "        }}\n",
              "}});\n",
              "\n",
              "// Listen for the removal of the full notebook cells\n",
              "var notebookContainer = gd.closest('#notebook-container');\n",
              "if (notebookContainer) {{\n",
              "    x.observe(notebookContainer, {childList: true});\n",
              "}}\n",
              "\n",
              "// Listen for the clearing of the current output cell\n",
              "var outputEl = gd.closest('.output');\n",
              "if (outputEl) {{\n",
              "    x.observe(outputEl, {childList: true});\n",
              "}}\n",
              "\n",
              "                        })                };                            </script>        </div>\n",
              "</body>\n",
              "</html>"
            ]
          },
          "metadata": {}
        }
      ],
      "source": [
        "def make_rays_1d(num_pixels: int, y_limit: float) -> Tensor:\n",
        "    \"\"\"\n",
        "    num_pixels: The number of pixels in the y dimension. Since there is one ray per pixel, this is also the number of rays.\n",
        "    y_limit: At x=1, the rays should extend from -y_limit to +y_limit, inclusive of both endpoints.\n",
        "\n",
        "    Returns: shape (num_pixels, num_points=2, num_dim=3) where the num_points dimension contains (origin, direction) and the num_dim dimension contains xyz.\n",
        "\n",
        "    Example of make_rays_1d(9, 1.0): [\n",
        "        [[0, 0, 0], [1, -1.0, 0]],\n",
        "        [[0, 0, 0], [1, -0.75, 0]],\n",
        "        [[0, 0, 0], [1, -0.5, 0]],\n",
        "        ...\n",
        "        [[0, 0, 0], [1, 0.75, 0]],\n",
        "        [[0, 0, 0], [1, 1, 0]],\n",
        "    ]\n",
        "    \"\"\"\n",
        "    ans = t.zeros((num_pixels, 2, 3), dtype=t.float32)\n",
        "    ans[:, 1, 0] = 1\n",
        "    ans[:, 1, 1] = t.linspace(-y_limit, y_limit, num_pixels)\n",
        "    return ans\n",
        "\n",
        "\n",
        "rays1d = make_rays_1d(9, 10.0)\n",
        "fig = render_lines_with_plotly(rays1d)"
      ]
    },
    {
      "cell_type": "markdown",
      "metadata": {
        "id": "k_gMmJoAc7B5"
      },
      "source": [
        "<details><summary>Solution</summary>\n",
        "\n",
        "```python\n",
        "def make_rays_1d(num_pixels: int, y_limit: float) -> Tensor:\n",
        "    \"\"\"\n",
        "    num_pixels: The number of pixels in the y dimension. Since there is one ray per pixel, this is also the number of rays.\n",
        "    y_limit: At x=1, the rays should extend from -y_limit to +y_limit, inclusive of both endpoints.\n",
        "\n",
        "    Returns: shape (num_pixels, num_points=2, num_dim=3) where the num_points dimension contains (origin, direction) and the num_dim dimension contains xyz.\n",
        "\n",
        "    Example of make_rays_1d(9, 1.0): [\n",
        "        [[0, 0, 0], [1, -1.0, 0]],\n",
        "        [[0, 0, 0], [1, -0.75, 0]],\n",
        "        [[0, 0, 0], [1, -0.5, 0]],\n",
        "        ...\n",
        "        [[0, 0, 0], [1, 0.75, 0]],\n",
        "        [[0, 0, 0], [1, 1, 0]],\n",
        "    ]\n",
        "    \"\"\"\n",
        "    rays = t.zeros((num_pixels, 2, 3), dtype=t.float32)\n",
        "    t.linspace(-y_limit, y_limit, num_pixels, out=rays[:, 1, 1])\n",
        "    rays[:, 1, 0] = 1\n",
        "    return rays\n",
        "```\n",
        "</details>"
      ]
    },
    {
      "cell_type": "markdown",
      "metadata": {
        "id": "UiP6F8JLc7B5"
      },
      "source": [
        "### Tip - the `out` keyword argument\n",
        "\n",
        "Many PyTorch functions take an optional keyword argument `out`. If provided, instead of allocating a new tensor and returning that, the output is written directly to the `out` tensor.\n",
        "\n",
        "If you used `torch.arange` or `torch.linspace` above, try using the `out` argument. Note that a basic indexing expression like `rays[:, 1, 1]` returns a view that shares storage with `rays`, so writing to the view will modify `rays`. You'll learn more about views later today.\n",
        "\n",
        "## Ray-Object Intersection\n",
        "\n",
        "Suppose we have a line segment defined by points $L_1$ and $L_2$. Then for a given ray, we can test if the ray intersects the line segment like so:\n",
        "\n",
        "- Supposing both the ray and line segment were infinitely long, solve for their intersection point.\n",
        "- If the point exists, check whether that point is inside the line segment and the ray.\n",
        "\n",
        "Our camera ray is defined by the origin $O$ and direction $D$ and our object line is defined by points $L_1$ and $L_2$.\n",
        "\n",
        "We can write the equations for all points on the camera ray as $R(u)=O +u D$ for $u \\in [0, \\infty)$ and on the object line as $O(v)=L_1+v(L_2 - L_1)$ for $v \\in [0, 1]$.\n",
        "\n",
        "The following interactive widget lets you play with this parameterization of the problem. Run the cells one after another:"
      ]
    },
    {
      "cell_type": "code",
      "execution_count": 10,
      "metadata": {
        "colab": {
          "base_uri": "https://localhost:8080/",
          "height": 81,
          "referenced_widgets": [
            "b7961d13e0924023832e6f70c4fd97f9",
            "6a7df6cafb2a4a88b3def190bdbb8bd2",
            "fd58f18389f348878418caa1e4daa655",
            "e4aaf6e6d8da41168b4428b8aac0d361",
            "6a6fd0ea31ce4c88abe8a5d7d886a3d1",
            "2983d9e525fb44a1b5c1beba38d9bb80",
            "c71c08d7314548d5b5d84d8486a6ec00",
            "9e9ff04e7dcf415c94529bde40d02a76",
            "e376afd71fa9474ebe508bfa44bb83d6",
            "fe663087bcde4ed3ad1d02cd61c3a2c3",
            "ff5bec2c96154793adf0f2cc1d16e247"
          ]
        },
        "id": "WnWZ0lmdc7B5",
        "outputId": "05a3b539-cce6-4e2c-fec1-90c862d2b45e"
      },
      "outputs": [
        {
          "output_type": "display_data",
          "data": {
            "application/vnd.jupyter.widget-view+json": {
              "version_major": 2,
              "version_minor": 0,
              "model_id": "b7961d13e0924023832e6f70c4fd97f9"
            },
            "text/plain": [
              "FigureWidget({\n",
              "    'data': [{'type': 'scatter', 'uid': '6c9e5f52-8cca-4dea-8f87-cbd2953f5a55', 'x': [], 'y': []},\n",
              "             {'marker': {'size': 12},\n",
              "              'mode': 'markers',\n",
              "              'name': 'v=0',\n",
              "              'type': 'scatter',\n",
              "              'uid': '51baabbb-2af7-4691-86e2-1a6fe54e8fa2',\n",
              "              'x': [],\n",
              "              'y': []},\n",
              "             {'marker': {'size': 12, 'symbol': 'x'},\n",
              "              'mode': 'markers',\n",
              "              'name': 'v=1',\n",
              "              'type': 'scatter',\n",
              "              'uid': '89fbcf3a-263c-4c6c-9550-2fc8dded16ca',\n",
              "              'x': [],\n",
              "              'y': []}],\n",
              "    'layout': {'height': 400,\n",
              "               'margin': {'b': 10, 'l': 40, 't': 60},\n",
              "               'showlegend': False,\n",
              "               'template': '...',\n",
              "               'title': {'text': 'Ray coordinates illustration'},\n",
              "               'width': 500,\n",
              "               'xaxis': {'range': [-1.5, 2.5]},\n",
              "               'yaxis': {'range': [-1.5, 2.5]}}\n",
              "})"
            ]
          },
          "metadata": {}
        },
        {
          "output_type": "display_data",
          "data": {
            "text/plain": [
              "interactive(children=(FloatSlider(value=0.0, description='v', max=6.0, step=0.01), Dropdown(description='seed'…"
            ],
            "application/vnd.jupyter.widget-view+json": {
              "version_major": 2,
              "version_minor": 0,
              "model_id": "6a7df6cafb2a4a88b3def190bdbb8bd2"
            }
          },
          "metadata": {}
        }
      ],
      "source": [
        "fig: go.FigureWidget = setup_widget_fig_ray()\n",
        "display(fig)\n",
        "\n",
        "\n",
        "@interact(v=(0.0, 6.0, 0.01), seed=list(range(10)))\n",
        "def update(v=0.0, seed=0):\n",
        "    t.manual_seed(seed)\n",
        "    L_1, L_2 = t.rand(2, 2)\n",
        "    P = lambda v: L_1 + v * (L_2 - L_1)\n",
        "    x, y = zip(P(0), P(6))\n",
        "    with fig.batch_update():\n",
        "        fig.update_traces({\"x\": x, \"y\": y}, 0)\n",
        "        fig.update_traces({\"x\": [L_1[0], L_2[0]], \"y\": [L_1[1], L_2[1]]}, 1)\n",
        "        fig.update_traces({\"x\": [P(v)[0]], \"y\": [P(v)[1]]}, 2)"
      ]
    },
    {
      "cell_type": "markdown",
      "metadata": {
        "id": "n7P6mGHzc7B5"
      },
      "source": [
        "Setting the line equations from above equal gives the solution:\n",
        "\n",
        "$$\n",
        "\\begin{aligned}O + u D &= L_1 + v(L_2 - L_1) \\\\ u D - v(L_2 - L_1) &= L_1 - O  \\\\ \\begin{pmatrix} D_x & (L_1 - L_2)_x \\\\ D_y & (L_1 - L_2)_y \\\\ \\end{pmatrix} \\begin{pmatrix} u \\\\ v \\\\ \\end{pmatrix} &=  \\begin{pmatrix} (L_1 - O)_x \\\\ (L_1 - O)_y \\\\ \\end{pmatrix} \\end{aligned}\n",
        "$$\n",
        "\n",
        "Once we've found values of $u$ and $v$ which satisfy this equation, if any (the lines could be parallel) we just need to check that $u \\geq 0$ and $v \\in [0, 1]$."
      ]
    },
    {
      "cell_type": "markdown",
      "metadata": {
        "id": "EhlFp_jGc7B5"
      },
      "source": [
        "### Exercise - implement `intersect_ray_1d`\n",
        "\n",
        "> ```yaml\n",
        "> Difficulty: 🔴🔴🔴⚪⚪\n",
        "> Importance: 🔵🔵🔵🔵⚪\n",
        ">\n",
        "> You should spend up to 20-25 minutes on this exercise.\n",
        "> It involves some of today's core concepts - tensor manipulation, linear operations, etc.\n",
        "> ```\n",
        "\n",
        "Using [`torch.linalg.solve`](https://pytorch.org/docs/stable/generated/torch.linalg.solve.html) and [`torch.stack`](https://pytorch.org/docs/stable/generated/torch.stack.html), implement the `intersect_ray_1d` function to solve the above matrix equation.\n",
        "\n",
        "<details>\n",
        "<summary>Aside - difference between stack and concatenate</summary>\n",
        "\n",
        "`torch.stack` will combine tensors along a new dimension.\n",
        "\n",
        "```python\n",
        ">>> t.stack([t.ones(2, 2), t.zeros(2, 2)], dim=0)\n",
        "tensor([[[1., 1.],\n",
        "         [1., 1.]],\n",
        "\n",
        "        [[0., 0.],\n",
        "         [0., 0.]]])\n",
        "```\n",
        "\n",
        "`torch.concat` (alias `torch.cat`) will combine tensors along an existing dimension.\n",
        "\n",
        "```python\n",
        ">>> t.cat([t.ones(2, 2), t.zeros(2, 2)], dim=0)\n",
        "tensor([[1., 1.],\n",
        "        [1., 1.],\n",
        "        [0., 0.],\n",
        "        [0., 0.]])\n",
        "```\n",
        "\n",
        "Here, you should use `torch.stack` to construct e.g. the matrix on the left hand side, because you want to combine the vectors $D$ and $L_1 - L_2$ to make a matrix.\n",
        "</details>\n",
        "\n",
        "Is it possible for the solve method to fail? Give a sample input where this would happen.\n",
        "\n",
        "<details>\n",
        "<summary>Answer - Failing Solve</summary>\n",
        "\n",
        "If the ray and segment are exactly parallel, then the solve will fail because there is no solution to the system of equations. For this function, handle this by catching the exception and returning False.\n",
        "</details>"
      ]
    },
    {
      "cell_type": "code",
      "execution_count": 11,
      "metadata": {
        "colab": {
          "base_uri": "https://localhost:8080/"
        },
        "id": "0DHLnU2xc7B5",
        "outputId": "7dcc831d-ffe1-4e8c-b822-2025a4d2bc98"
      },
      "outputs": [
        {
          "output_type": "stream",
          "name": "stdout",
          "text": [
            "All tests in `test_intersect_ray_1d` passed!\n",
            "All tests in `test_intersect_ray_1d_special_case` passed!\n"
          ]
        }
      ],
      "source": [
        "def intersect_ray_1d(ray: Float[Tensor, \"points dims\"], segment: Float[Tensor, \"points dims\"]) -> bool:\n",
        "    \"\"\"\n",
        "    ray: shape (n_points=2, n_dim=3)  # O, D points\n",
        "    segment: shape (n_points=2, n_dim=3)  # L_1, L_2 points\n",
        "\n",
        "    Return True if the ray intersects the segment.\n",
        "    \"\"\"\n",
        "    #if it's solving the above matrix equation, then we're ignoring the z axis entirely?\n",
        "    ray = ray[:, :2]\n",
        "    segment = segment[:, :2] #only take x and y coord\n",
        "    L_1 = segment[0]\n",
        "    L_2 = segment[1]\n",
        "    O = ray[0]\n",
        "    D = ray[1]\n",
        "    mat = t.stack([D, L_1-L_2], dim=1)\n",
        "    vec = L_1 - O\n",
        "\n",
        "    try:\n",
        "      sol = t.linalg.solve(mat, vec)\n",
        "    except RuntimeError:\n",
        "      return False\n",
        "\n",
        "    return sol[0] >= 0 and sol[1] >= 0 and sol[1] <= 1\n",
        "\n",
        "tests.test_intersect_ray_1d(intersect_ray_1d)\n",
        "tests.test_intersect_ray_1d_special_case(intersect_ray_1d)"
      ]
    },
    {
      "cell_type": "markdown",
      "metadata": {
        "id": "ivrWRUC_c7B5"
      },
      "source": [
        "<details>\n",
        "<summary>Help! My code is failing with a 'must be batches of square matrices' exception.</summary>\n",
        "\n",
        "Our formula only uses the x and y coordinates - remember to discard the z coordinate for now.\n",
        "\n",
        "It's good practice to write asserts on the shape of things so that your asserts will fail with a helpful error message. In this case, you could assert that the `mat` argument is of shape (2, 2) and the `vec` argument is of shape (2,). Also, see the aside below on typechecking.\n",
        "</details>\n",
        "\n",
        "\n",
        "<details><summary>Solution</summary>\n",
        "\n",
        "```python\n",
        "def intersect_ray_1d(ray: Float[Tensor, \"points dims\"], segment: Float[Tensor, \"points dims\"]) -> bool:\n",
        "    \"\"\"\n",
        "    ray: shape (n_points=2, n_dim=3)  # O, D points\n",
        "    segment: shape (n_points=2, n_dim=3)  # L_1, L_2 points\n",
        "\n",
        "    Return True if the ray intersects the segment.\n",
        "    \"\"\"\n",
        "    # Get the x and y coordinates (ignore z)\n",
        "    ray = ray[:, :2]\n",
        "    segment = segment[:, :2]\n",
        "\n",
        "    # Ray is [[Ox, Oy], [Dx, Dy]]\n",
        "    O, D = ray\n",
        "    # Segment is [[L1x, L1y], [L2x, L2y]]\n",
        "    L_1, L_2 = segment\n",
        "\n",
        "    # Create matrix and vector, and solve equation\n",
        "    mat = t.stack([D, L_1 - L_2], dim=-1)\n",
        "    vec = L_1 - O\n",
        "\n",
        "    # Solve equation (return False if no solution)\n",
        "    try:\n",
        "        sol = t.linalg.solve(mat, vec)\n",
        "    except RuntimeError:\n",
        "        return False\n",
        "\n",
        "    # If there is a solution, check the soln is in the correct range for there to be an intersection\n",
        "    u = sol[0].item()\n",
        "    v = sol[1].item()\n",
        "    return (u >= 0.0) and (v >= 0.0) and (v <= 1.0)\n",
        "```\n",
        "</details>"
      ]
    },
    {
      "cell_type": "markdown",
      "metadata": {
        "id": "Th9rPPpSc7B6"
      },
      "source": [
        "### Aside - type hints\n",
        "\n",
        "Adding type hints to your code is a useful habit to get into. Some advantages of using them:\n",
        "\n",
        "- **They help document your code**, making it more readable (for yourself and for others)\n",
        "- **The improve IDE behaviour**, i.e. getting better code completion\n",
        "- **They encourage better code structure**, since they force you to consider your inputs & outputs explicitly\n",
        "- **They make debugging easier**, since you'll find it easier to spot where a variable might not match the type signature you've given for it\n",
        "\n",
        "As well as simple objects, you can also typecheck iterables of objects, for example:\n",
        "\n",
        "- `list[int]` for a list of integers,\n",
        "- `dict[str, float]` for a dict mapping strings to floats,\n",
        "- `tuple[Tensor, Tensor]` for a length-2 tuple containing tensors,\n",
        "- `tuple[int, ...]` for a tuple containing one or more integers.\n",
        "\n",
        "and you can also use other syntax to extend behaviour, e.g. `x: int | None` for a variable which can either be an integer or `None`.\n",
        "\n",
        "Jaxtyping also gives us useful type hint features, e.g. we have `ray: Float[Tensor, \"points dims\"]` to indicate a tensor of floats with dimensions `points` and `dims`. Unlike the examples above this is unlikely to be captured by syntax highlighting when you make a mistake, instead it's best to view this as an alternative to annotating the tensor shape. You may or may not prefer to use this.\n",
        "\n",
        "When in doubt however, it's best to make assertions on the variable type or tensor shape explicitly, e.g. `assert isinstance(x, Tensor)` or `assert x.shape == ...`. We generally don't recommend static type checking like [mypy](https://mypy-lang.org/) in this course, because there aren't generally standard and robust ways to do it which will fit all IDEs & use-cases."
      ]
    },
    {
      "cell_type": "markdown",
      "metadata": {
        "id": "O-efgy4Mc7B6"
      },
      "source": [
        "# 2️⃣ Batched Operations\n",
        "\n",
        "> ##### Learning Objectives\n",
        ">\n",
        "> - Learn about some important concepts related to batched operations, e.g. broadcasting and logical reductions\n",
        "> - Understand and use the `einops` library\n",
        "> - Apply this knowledge to create & work with a batch of rays"
      ]
    },
    {
      "cell_type": "markdown",
      "metadata": {
        "id": "nvjl5hh9c7B6"
      },
      "source": [
        "In this section, we'll move onto batched operations. First, it's necessary to cover some important tips for working effectively with PyTorch tensors. If you've gone through the prerequisite material then several of these should already be familiar to you."
      ]
    },
    {
      "cell_type": "markdown",
      "metadata": {
        "id": "OrkTuVdBc7B6"
      },
      "source": [
        "## Tensor Operations - 5 Tips"
      ]
    },
    {
      "cell_type": "markdown",
      "metadata": {
        "id": "xKlvPLl4c7B6"
      },
      "source": [
        "### Tip (1/5) - Elementwise Logical Operations on Tensors\n",
        "\n",
        "For regular booleans, the keywords `and`, `or`, and `not` are used to do logical operations and the operators `&`, `|`, and `~` do `and`, `or` and `not` on each bit of the input numbers. Analogously, we use the operators `&`, `|` `~` on tensors to perform these operations on each element of the tensor, e.g. `x & y` returns the tensor with elements `x[i] and y[i]`.\n",
        "\n",
        "A few important gotchas here:\n",
        "\n",
        "- Don't try to use `and`, `or` or `not` on tensors, since Python will try to coerce the tensors to booleans, and you'll get an exception.\n",
        "- Remember about **operator precedence**! For instance, `v >= 0 & v <= 1` will actually throw an error because it's actually evaluated as `(v >= (0 & v)) <= 1` (because `&` has high precedence) and `0 & v` is not a valid operation. When in doubt, use parentheses to force the correct parsing: `(v >= 0) & (v <= 1)`."
      ]
    },
    {
      "cell_type": "markdown",
      "metadata": {
        "id": "_MTq86uKc7B6"
      },
      "source": [
        "### Tip (2/5) - `einops`\n",
        "\n",
        "Einops is a useful library which we'll dive deeper with tomorrow. For now, the only important function you'll need to know is `einops.repeat`. This takes as arguments a tensor and a string, and returns a new tensor which has been repeated along the specified dimensions. For example, the following code shows how we can repeat a 2D tensor along the last dimension:\n",
        "\n",
        "```python\n",
        "x = t.randn(4, 3)\n",
        "x_repeated = einops.repeat(x, 'a b -> a b c', c=2) # copies x along a new dimension at the end\n",
        "\n",
        "assert x_repeated.shape == (4, 3, 2)\n",
        "t.testing.assert_close(x_repeated[:, :, 0], x)\n",
        "t.testing.assert_close(x_repeated[:, :, 1], x)\n",
        "```"
      ]
    },
    {
      "cell_type": "markdown",
      "metadata": {
        "id": "oUgL3Zdjc7B6"
      },
      "source": [
        "### Tip (3/5) - Logical Reductions\n",
        "\n",
        "In plain Python, if you have a list of lists and want to know if any element in a row is `True`, you could use a list comprehension like `[any(row) for row in rows]`. The efficient way to do this in PyTorch is with `torch.any()` or equivalently the `.any()` method of a tensor, which accept the dimension to reduce over. Similarly, `torch.all()` or `.all()` method. Both of these methods accept a `dim` argument, which is the dimension to reduce over.\n",
        "\n",
        "<details>\n",
        "<summary>Aside - tensor methods</summary>\n",
        "\n",
        "Most functions like `torch.any(tensor, ...)` (which take a tensor as first argument) have an equivalent tensor method `tensor.any(...)`. We'll see many more examples of functions like this as we go through the course.\n",
        "</details>"
      ]
    },
    {
      "cell_type": "markdown",
      "metadata": {
        "id": "pvdO9_MIc7B6"
      },
      "source": [
        "### Tip (4/5) - Broadcasting\n",
        "\n",
        "Broadcasting is what happens when you perform an operation on two tensors, and one is a smaller size, but is copied along the dimensions of the larger one in order to apply to it. There are some complicated broadcasting rules which we'll get into later in the course (you can also review the broadcasting section in the prerequisite material which comes before this chapter), but for our purposes the only thing you need to know is this: if you perform an operation on 2 tensors `A, B` where `A.shape == B.shape[-A.ndim:]` (i.e. `A` matches the last dimensions of `B`), then `A` will be copied along its leading dimensions until it has the same shape as `B`. For example:\n",
        "\n",
        "```python\n",
        "B = t.ones(4, 3, 2)\n",
        "A = t.ones(3, 2)\n",
        "C = A + B\n",
        "print(C.shape) # torch.Size([4, 3, 2]), the size of the broadcasted tensor\n",
        "print(C.max(), C.min()) # tensor(2.) tensor(2.), because all elements are 2\n",
        "```"
      ]
    },
    {
      "cell_type": "markdown",
      "metadata": {
        "id": "zCvJtDeXc7B6"
      },
      "source": [
        "### Summary of tips\n",
        "\n",
        "> * Use `...` to avoid repeated `:` in indexing expressions\n",
        "> * Use `&`, `|`, and `~` for elementwise logical operations on tensors\n",
        "> * Use parentheses to force the correct operator precedence\n",
        "> * Use `torch.any()` or `.any()` to do logical reductions (you can do this over a single dimension, with the `dim` argument)\n",
        "> * Tensors can broadcast along leading dimensions to operate together\n",
        ">   * e.g. `t.ones(2) + t.ones(3, 2)` works because the former tensor gets broadcasted to shape `(3, 2)`\n",
        "> * We can index with boolean tensors to select multiple elements\n",
        ">   * e.g. if `A.shape = (3, n1, n2, ...)` then `A[[True, False, True]]` has shape `(2, n1, n2, ...)` and contains the first & third rows of `A`\n",
        "> * We can index with multi-dimensional boolean tensors too\n",
        ">   * e.g. if `A.shape = (2, 2, n1, n2, ...)` then `A[[[True, True], [False, True]], :]` has shape `(3, n1, n2, ...)` and contains the elements `A[0, 0]`, `A[0, 1]` and `A[1, 1]`, stacked along a new leading dimension"
      ]
    },
    {
      "cell_type": "markdown",
      "metadata": {
        "id": "u3GYaKQbc7B6"
      },
      "source": [
        "## Batched Ray-Segment Intersection\n",
        "\n",
        "We'll now move on to implementing a batched version of our previous function which takes multiple rays, multiple line segments, and returns a boolean for each ray indicating whether ***any*** segment intersects with that ray.\n",
        "\n",
        "Note - in the batched version, we don't want the solver to throw an exception just because some of the equations don't have a solution - these should just return False."
      ]
    },
    {
      "cell_type": "markdown",
      "metadata": {
        "id": "TqByfYh4c7B6"
      },
      "source": [
        "### Exercise - implement `intersect_rays_1d`\n",
        "\n",
        "> ```yaml\n",
        "> Difficulty: 🔴🔴🔴🔴⚪\n",
        "> Importance: 🔵🔵🔵🔵⚪\n",
        ">\n",
        "> You should spend up to 25-40 minutes on this exercise.\n",
        "> This will probably be one of the hardest exercises you'll complete today.\n",
        "> ```\n",
        "\n",
        "One part you might find difficult is dealing with the zero determinant cases. Previously we dealt with those by using `try / except`, but here we can't do that because we want to perform all the operations at once. Instead, we can use the following clever trick to find all the pairs of intersecting rays and segments:\n",
        "\n",
        "1. Figure out which matrices have zero determinant (e.g. with `determinants.abs() < 1e-8`)\n",
        "2. Replace those matrices with the identity matrix `t.eye(2)`, since this will certainly not raise an error when solving\n",
        "3. Find the matrices s.t. `u, v` are in the required range **and** our original matrix was non-singular\n",
        "\n",
        "This way, we've identified all pairs of rays and segments where an intersection point exists **and** that intersection point is valid (i.e. it's actually on the positive side of the ray, and somewhere in the middle of the segment).\n",
        "\n",
        "Once we have this 2D array of booleans representing whether each ray intersects with each segment, we can reduce using the torch function `t.any` to find the rays which intersect *any* segment."
      ]
    },
    {
      "cell_type": "code",
      "execution_count": 17,
      "metadata": {
        "colab": {
          "base_uri": "https://localhost:8080/"
        },
        "id": "NFl3Esjsc7B6",
        "outputId": "798c8319-2f1c-4873-eb78-4ad7614a3a17"
      },
      "outputs": [
        {
          "output_type": "stream",
          "name": "stdout",
          "text": [
            "All tests in `test_intersect_rays_1d` passed!\n",
            "All tests in `test_intersect_rays_1d_special_case` passed!\n"
          ]
        }
      ],
      "source": [
        "\n",
        "def intersect_rays_1d(rays: Float[Tensor, \"nrays 2 3\"], segments: Float[Tensor, \"nsegments 2 3\"]) -> Bool[Tensor, \"nrays\"]:\n",
        "    \"\"\"\n",
        "    For each ray, return True if it intersects any segment.\n",
        "    \"\"\"\n",
        "    O = rays[:, 0]\n",
        "    D = rays[:, 1]\n",
        "    L1 = segments[:, 0]\n",
        "    L2 = segments[:, 1]\n",
        "\n",
        "    nrays = rays.shape[0]\n",
        "    nsegments = segments.shape[0]\n",
        "\n",
        "    O_exp = O[:, None, :] + t.zeros((nrays, nsegments, 3), dtype=t.float32) #nrays, 1, 3\n",
        "    D_exp = D[:, None, :] + t.zeros((nrays, nsegments, 3), dtype=t.float32) #nrays, 1, 3\n",
        "    L1_exp = L1[None, :, :] + t.zeros((nrays, nsegments, 3), dtype=t.float32)#1, nsegments, 3\n",
        "    L2_exp = L2[None, :, :] + t.zeros((nrays, nsegments, 3), dtype=t.float32) #1, nsegments, 3\n",
        "    vec = L1_exp[:, :, :2] - O_exp[:, :, :2] #nrays, nsegments, 2\n",
        "    matrix = t.stack([D_exp[..., :2], L1_exp[..., :2] - L2_exp[..., :2]], dim=-1) #nrays, nsegments, 2x2\n",
        "\n",
        "    #use broadcasting to put all pairs in batch so they can run in parallel\n",
        "    #Matrix for x, y: nrays, nsegments, 2x2 matrix for coeff (D, L1-L2) stacked\n",
        "    #Vector: nrays, nsegments, 2x1 vector which is L1-O\n",
        "\n",
        "    boolmask = t.linalg.det(matrix).abs() < 1e-8\n",
        "    #1 for the ones which have zero determinant\n",
        "    matrix[boolmask] = t.eye(2)\n",
        "    sol = t.linalg.solve(matrix, vec) #nrays, nsegments, 2(u, v)\n",
        "    keepresult = ((sol[..., 0] >= 0) & (sol[..., 1] >= 0)) & (sol[..., 1] <= 1)\n",
        "    zdim = t.einsum('ijk, ijk -> ij', t.stack([D_exp[..., 2], L1_exp[..., 2] - L2_exp[..., 2]], dim=-1), sol) == L1_exp[..., 2] - O_exp[..., 2]\n",
        "    #Dz * u + (L1-L2)z * v = L1z - Oz\n",
        "    keepresult = keepresult & zdim\n",
        "    keepresult[boolmask] = 0 #the ones which couldn't pass are false\n",
        "    #keepresult shape should be (nrays, nsegments)\n",
        "\n",
        "    #now reduce\n",
        "    return t.any(keepresult, dim=1)\n",
        "\n",
        "tests.test_intersect_rays_1d(intersect_rays_1d)\n",
        "tests.test_intersect_rays_1d_special_case(intersect_rays_1d)"
      ]
    },
    {
      "cell_type": "markdown",
      "metadata": {
        "id": "--s1c6Jcc7B6"
      },
      "source": [
        "<details>\n",
        "<summary>Help - I don't know how to set all my matrices to the identity</summary>\n",
        "\n",
        "You should have some variable `mat` which is a batch of matrices, i.e. it has shape `(n_rays, n_segments, 2, 2)`. You can then define `is_singular` as a boolean tensor of shape `(n_rays, n_segments)` which is true wherever the matrix is singular. Now, indexing `mat[is_singular]` returns a tensor of shape `(N, 2, 2)` where the `[i, :, :]`-th element is the `i`-th singular matrix. Thanks to broadcasting rules, you can set `mat[is_singular] = t.eye(2)`, and the identity matrix with shape `(2, 2)` will get broadcasted to the left hand shape `(N, 2, 2)`.\n",
        "\n",
        "</details>\n",
        "\n",
        "\n",
        "<details><summary>Solution</summary>\n",
        "\n",
        "```python\n",
        "def intersect_rays_1d(\n",
        "    rays: Float[Tensor, \"nrays 2 3\"], segments: Float[Tensor, \"nsegments 2 3\"]\n",
        ") -> Bool[Tensor, \"nrays\"]:\n",
        "    \"\"\"\n",
        "    For each ray, return True if it intersects any segment.\n",
        "    \"\"\"\n",
        "    NR = rays.size(0)\n",
        "    NS = segments.size(0)\n",
        "\n",
        "    # Get just the x and y coordinates\n",
        "    rays = rays[..., :2]\n",
        "    segments = segments[..., :2]\n",
        "\n",
        "    # Repeat rays and segments so that we can compuate the intersection of every (ray, segment) pair\n",
        "    rays = einops.repeat(rays, \"nrays p d -> nrays nsegments p d\", nsegments=NS)\n",
        "    segments = einops.repeat(segments, \"nsegments p d -> nrays nsegments p d\", nrays=NR)\n",
        "\n",
        "    # Each element of `rays` is [[Ox, Oy], [Dx, Dy]]\n",
        "    O = rays[:, :, 0]\n",
        "    D = rays[:, :, 1]\n",
        "    assert O.shape == (NR, NS, 2)\n",
        "\n",
        "    # Each element of `segments` is [[L1x, L1y], [L2x, L2y]]\n",
        "    L_1 = segments[:, :, 0]\n",
        "    L_2 = segments[:, :, 1]\n",
        "    assert L_1.shape == (NR, NS, 2)\n",
        "\n",
        "    # Define matrix on left hand side of equation\n",
        "    mat = t.stack([D, L_1 - L_2], dim=-1)\n",
        "    # Get boolean of where matrix is singular, and replace it with the identity in these positions\n",
        "    dets = t.linalg.det(mat)\n",
        "    is_singular = dets.abs() < 1e-8\n",
        "    assert is_singular.shape == (NR, NS)\n",
        "    mat[is_singular] = t.eye(2)\n",
        "\n",
        "    # Define vector on the right hand side of equation\n",
        "    vec = L_1 - O\n",
        "\n",
        "    # Solve equation, get results\n",
        "    sol = t.linalg.solve(mat, vec)\n",
        "    u = sol[..., 0]\n",
        "    v = sol[..., 1]\n",
        "\n",
        "    # Return boolean of (matrix is nonsingular, and solution is in correct range implying intersection)\n",
        "    return ((u >= 0) & (v >= 0) & (v <= 1) & ~is_singular).any(dim=-1)\n",
        "```\n",
        "</details>"
      ]
    },
    {
      "cell_type": "markdown",
      "metadata": {
        "id": "BG9RfYXGc7B6"
      },
      "source": [
        "## Using GPT to understand code\n",
        "\n",
        "*Note, the world of LLMs moves fast, so this section is likely to get out of date at some point!*\n",
        "\n",
        "Next week we'll start learning about transformers and how to build them, but it's not too early to start using them to accelerate your own learning!\n",
        "\n",
        "We'll be discussing more advanced ways to use GPT 3 and 4 as coding partners / research assistants in the coming weeks, but for now we'll look at a simple example: **using GPT to understand code**. You're recommended to read the recent [LessWrong post](https://www.lesswrong.com/posts/ptY6X3BdW4kgqpZFo/using-gpt-4-to-understand-code) by Siddharth Hiregowdara in which he explains his process. This works best on GPT-4, but I've found GPT-3.5 works equally well for reasonably straightforward problems (see the section below).\n",
        "\n",
        "Firstly, you should get an account to use GPT with if you haven't already. Next, try asking GPT-3.5 / 4 for an explanation of the function above. You can do this e.g. via the following prompt:\n",
        "\n",
        "> Explain this Python function, line by line. You should break up your explanation by inserting sections of the code.\n",
        ">\n",
        "> ```python\n",
        "> def intersect_rays_1d(rays: Float[Tensor, \"nrays 2 3\"], segments: Float[Tensor, \"nsegments 2 3\"]) -> Bool[Tensor, \"nrays\"]:\n",
        ">     NR = rays.size(0)\n",
        ">     NS = segments.size(0)\n",
        ">     rays = rays[..., :2]\n",
        ">     ...\n",
        "> ```\n",
        "\n",
        "I've found removing comments is often more helpful, because then GPT will answer in its own words rather than just repeating the comments (and the comments can sometimes confuse it).\n",
        "\n",
        "Once you've got a response, here are a few more things you might want to consider asking:\n",
        "\n",
        "* Can you suggest ways to improve the code?\n",
        "    * GPT-4 recommended using a longer docstring and more descriptive variable names, among other things.\n",
        "* Can you explain why the line `mat[is_singular] = t.eye(2)` works?\n",
        "    * GPT-4 gave me a correct and very detailed explanation involving broadcasting and tensor shapes.\n",
        "\n",
        "Is using GPT in this way cheating? It can be, if your first instinct is to jump to GPT rather than trying to understand the code yourself. But it's important here to bring up the distinction of [playing in easy mode](https://www.lesswrong.com/posts/nJPtHHq6L7MAMBvRK/play-in-easy-mode) vs [playing in hard mode](https://www.lesswrong.com/posts/7hLWZf6kFkduecH2g/play-in-hard-mode). There are situations where it's valuable for you to think about a problem for a while before moving forward because that deliberation will directly lead to you becoming a better researcher or engineer (e.g. when you're thinking of a hypothesis for how a circuit works while doing mechanistic interpretability on a transformer, or you're pondering which datastructure best fits your use case while implementing some RL algorithm). But there are also situations (like this one) where you'll get more value from speedrunning towards an understanding of certain code or concepts, and apply your understanding in subsequent exercises. It's important to find a balance!\n",
        "\n",
        "#### When to use GPT-3.5 and GPT-4\n",
        "\n",
        "GPT-3.5 and 4 both have advantages and disadvantages in different situations. GPT-3.5 has a large advantage in speed over GPT-4, and works equally well on simple problems or functions. If it's anything that Copilot is capable of writing, then you're likely better off using it instead of GPT-4.\n",
        "\n",
        "On the other hand, GPT-4 has an advantage at generating coherent code (although we don't expect you to be using it for code generation much at this stage in the program), and is generally better at responding to complex tasks with less prompt engineering.\n",
        "\n",
        "#### Additional notes on using GPT (from Joseph Bloom)\n",
        "\n",
        "* ChatGPT is overly friendly. If you give it bad code it won't tell you it's shit so you need to encourage it to give feedback and/or show you examples of great code. Especially for beginner coders using it, it's important to realise how *under* critical it is.\n",
        "* GPT is great at writing tests (asking it to write a test for a function is often better than asking it if a function is correct), refactoring code (identifying repeated tasks and extracting them) and naming variables well. These are specific things worth doing a few times to see how useful they can be.\n",
        "* GPT-4 does well with whole modules/scripts so don't hesitate to add those. When you start managing repos on GitHub, use tracked files so that when you copy-paste edited code back, all the changes are highlighted for you as if you'd made them. (VSCode highlights changes with small blue bars next to the line numbers in your python files.)\n",
        "\n",
        "Here are some things you can play around with:\n",
        "\n",
        "* Ask GPT it to write tests for the function. You can give more specific instructions (e.g. asking it to use / not to use the `unittests` library, or to print more informative error messages).\n",
        "* Ask GPT how to refactor the function above. (When I did this, it suggested splitting the function up into subfunctions which performed the discrete tasks of \"compute intersection points\")"
      ]
    },
    {
      "cell_type": "markdown",
      "metadata": {
        "id": "lMqHEXzkc7B6"
      },
      "source": [
        "## 2D Rays\n",
        "\n",
        "Now we're going to make use of the z dimension and have rays emitted from the origin in both y and z dimensions."
      ]
    },
    {
      "cell_type": "markdown",
      "metadata": {
        "id": "2gUiq_nXc7B7"
      },
      "source": [
        "### Exercise - implement `make_rays_2d`\n",
        "\n",
        "> ```yaml\n",
        "> Difficulty: 🔴🔴🔴⚪⚪\n",
        "> Importance: 🔵🔵⚪⚪⚪\n",
        ">\n",
        "> You should spend up to 10-20 minutes on this exercise.\n",
        "> ```\n",
        "\n",
        "Implement `make_rays_2d` analogously to `make_rays_1d`. The result should look like a pyramid with the tip at the origin."
      ]
    },
    {
      "cell_type": "code",
      "execution_count": 18,
      "metadata": {
        "colab": {
          "base_uri": "https://localhost:8080/",
          "height": 617
        },
        "id": "hXIuZlVBc7B7",
        "outputId": "d193881d-d44b-4028-82f1-1df3d60a3f56"
      },
      "outputs": [
        {
          "output_type": "display_data",
          "data": {
            "text/html": [
              "<html>\n",
              "<head><meta charset=\"utf-8\" /></head>\n",
              "<body>\n",
              "    <div>            <script src=\"https://cdnjs.cloudflare.com/ajax/libs/mathjax/2.7.5/MathJax.js?config=TeX-AMS-MML_SVG\"></script><script type=\"text/javascript\">if (window.MathJax && window.MathJax.Hub && window.MathJax.Hub.Config) {window.MathJax.Hub.Config({SVG: {font: \"STIX-Web\"}});}</script>                <script type=\"text/javascript\">window.PlotlyConfig = {MathJaxConfig: 'local'};</script>\n",
              "        <script charset=\"utf-8\" src=\"https://cdn.plot.ly/plotly-2.35.2.min.js\"></script>                <div id=\"0522f897-5370-42dc-a786-4d8eeaaea25d\" class=\"plotly-graph-div\" style=\"height:600px; width:600px;\"></div>            <script type=\"text/javascript\">                                    window.PLOTLYENV=window.PLOTLYENV || {};                                    if (document.getElementById(\"0522f897-5370-42dc-a786-4d8eeaaea25d\")) {                    Plotly.newPlot(                        \"0522f897-5370-42dc-a786-4d8eeaaea25d\",                        [{\"mode\":\"lines\",\"x\":[0.0,1.0],\"y\":[0.0,-0.3],\"z\":[0.0,-0.3],\"type\":\"scatter3d\"},{\"mode\":\"lines\",\"x\":[0.0,1.0],\"y\":[0.0,-0.3],\"z\":[0.0,-0.23333335],\"type\":\"scatter3d\"},{\"mode\":\"lines\",\"x\":[0.0,1.0],\"y\":[0.0,-0.3],\"z\":[0.0,-0.16666667],\"type\":\"scatter3d\"},{\"mode\":\"lines\",\"x\":[0.0,1.0],\"y\":[0.0,-0.3],\"z\":[0.0,-0.1],\"type\":\"scatter3d\"},{\"mode\":\"lines\",\"x\":[0.0,1.0],\"y\":[0.0,-0.3],\"z\":[0.0,-0.03333333],\"type\":\"scatter3d\"},{\"mode\":\"lines\",\"x\":[0.0,1.0],\"y\":[0.0,-0.3],\"z\":[0.0,0.03333333],\"type\":\"scatter3d\"},{\"mode\":\"lines\",\"x\":[0.0,1.0],\"y\":[0.0,-0.3],\"z\":[0.0,0.1],\"type\":\"scatter3d\"},{\"mode\":\"lines\",\"x\":[0.0,1.0],\"y\":[0.0,-0.3],\"z\":[0.0,0.16666667],\"type\":\"scatter3d\"},{\"mode\":\"lines\",\"x\":[0.0,1.0],\"y\":[0.0,-0.3],\"z\":[0.0,0.23333335],\"type\":\"scatter3d\"},{\"mode\":\"lines\",\"x\":[0.0,1.0],\"y\":[0.0,-0.3],\"z\":[0.0,0.3],\"type\":\"scatter3d\"},{\"mode\":\"lines\",\"x\":[0.0,1.0],\"y\":[0.0,-0.23333335],\"z\":[0.0,-0.3],\"type\":\"scatter3d\"},{\"mode\":\"lines\",\"x\":[0.0,1.0],\"y\":[0.0,-0.23333335],\"z\":[0.0,-0.23333335],\"type\":\"scatter3d\"},{\"mode\":\"lines\",\"x\":[0.0,1.0],\"y\":[0.0,-0.23333335],\"z\":[0.0,-0.16666667],\"type\":\"scatter3d\"},{\"mode\":\"lines\",\"x\":[0.0,1.0],\"y\":[0.0,-0.23333335],\"z\":[0.0,-0.1],\"type\":\"scatter3d\"},{\"mode\":\"lines\",\"x\":[0.0,1.0],\"y\":[0.0,-0.23333335],\"z\":[0.0,-0.03333333],\"type\":\"scatter3d\"},{\"mode\":\"lines\",\"x\":[0.0,1.0],\"y\":[0.0,-0.23333335],\"z\":[0.0,0.03333333],\"type\":\"scatter3d\"},{\"mode\":\"lines\",\"x\":[0.0,1.0],\"y\":[0.0,-0.23333335],\"z\":[0.0,0.1],\"type\":\"scatter3d\"},{\"mode\":\"lines\",\"x\":[0.0,1.0],\"y\":[0.0,-0.23333335],\"z\":[0.0,0.16666667],\"type\":\"scatter3d\"},{\"mode\":\"lines\",\"x\":[0.0,1.0],\"y\":[0.0,-0.23333335],\"z\":[0.0,0.23333335],\"type\":\"scatter3d\"},{\"mode\":\"lines\",\"x\":[0.0,1.0],\"y\":[0.0,-0.23333335],\"z\":[0.0,0.3],\"type\":\"scatter3d\"},{\"mode\":\"lines\",\"x\":[0.0,1.0],\"y\":[0.0,-0.16666667],\"z\":[0.0,-0.3],\"type\":\"scatter3d\"},{\"mode\":\"lines\",\"x\":[0.0,1.0],\"y\":[0.0,-0.16666667],\"z\":[0.0,-0.23333335],\"type\":\"scatter3d\"},{\"mode\":\"lines\",\"x\":[0.0,1.0],\"y\":[0.0,-0.16666667],\"z\":[0.0,-0.16666667],\"type\":\"scatter3d\"},{\"mode\":\"lines\",\"x\":[0.0,1.0],\"y\":[0.0,-0.16666667],\"z\":[0.0,-0.1],\"type\":\"scatter3d\"},{\"mode\":\"lines\",\"x\":[0.0,1.0],\"y\":[0.0,-0.16666667],\"z\":[0.0,-0.03333333],\"type\":\"scatter3d\"},{\"mode\":\"lines\",\"x\":[0.0,1.0],\"y\":[0.0,-0.16666667],\"z\":[0.0,0.03333333],\"type\":\"scatter3d\"},{\"mode\":\"lines\",\"x\":[0.0,1.0],\"y\":[0.0,-0.16666667],\"z\":[0.0,0.1],\"type\":\"scatter3d\"},{\"mode\":\"lines\",\"x\":[0.0,1.0],\"y\":[0.0,-0.16666667],\"z\":[0.0,0.16666667],\"type\":\"scatter3d\"},{\"mode\":\"lines\",\"x\":[0.0,1.0],\"y\":[0.0,-0.16666667],\"z\":[0.0,0.23333335],\"type\":\"scatter3d\"},{\"mode\":\"lines\",\"x\":[0.0,1.0],\"y\":[0.0,-0.16666667],\"z\":[0.0,0.3],\"type\":\"scatter3d\"},{\"mode\":\"lines\",\"x\":[0.0,1.0],\"y\":[0.0,-0.1],\"z\":[0.0,-0.3],\"type\":\"scatter3d\"},{\"mode\":\"lines\",\"x\":[0.0,1.0],\"y\":[0.0,-0.1],\"z\":[0.0,-0.23333335],\"type\":\"scatter3d\"},{\"mode\":\"lines\",\"x\":[0.0,1.0],\"y\":[0.0,-0.1],\"z\":[0.0,-0.16666667],\"type\":\"scatter3d\"},{\"mode\":\"lines\",\"x\":[0.0,1.0],\"y\":[0.0,-0.1],\"z\":[0.0,-0.1],\"type\":\"scatter3d\"},{\"mode\":\"lines\",\"x\":[0.0,1.0],\"y\":[0.0,-0.1],\"z\":[0.0,-0.03333333],\"type\":\"scatter3d\"},{\"mode\":\"lines\",\"x\":[0.0,1.0],\"y\":[0.0,-0.1],\"z\":[0.0,0.03333333],\"type\":\"scatter3d\"},{\"mode\":\"lines\",\"x\":[0.0,1.0],\"y\":[0.0,-0.1],\"z\":[0.0,0.1],\"type\":\"scatter3d\"},{\"mode\":\"lines\",\"x\":[0.0,1.0],\"y\":[0.0,-0.1],\"z\":[0.0,0.16666667],\"type\":\"scatter3d\"},{\"mode\":\"lines\",\"x\":[0.0,1.0],\"y\":[0.0,-0.1],\"z\":[0.0,0.23333335],\"type\":\"scatter3d\"},{\"mode\":\"lines\",\"x\":[0.0,1.0],\"y\":[0.0,-0.1],\"z\":[0.0,0.3],\"type\":\"scatter3d\"},{\"mode\":\"lines\",\"x\":[0.0,1.0],\"y\":[0.0,-0.03333333],\"z\":[0.0,-0.3],\"type\":\"scatter3d\"},{\"mode\":\"lines\",\"x\":[0.0,1.0],\"y\":[0.0,-0.03333333],\"z\":[0.0,-0.23333335],\"type\":\"scatter3d\"},{\"mode\":\"lines\",\"x\":[0.0,1.0],\"y\":[0.0,-0.03333333],\"z\":[0.0,-0.16666667],\"type\":\"scatter3d\"},{\"mode\":\"lines\",\"x\":[0.0,1.0],\"y\":[0.0,-0.03333333],\"z\":[0.0,-0.1],\"type\":\"scatter3d\"},{\"mode\":\"lines\",\"x\":[0.0,1.0],\"y\":[0.0,-0.03333333],\"z\":[0.0,-0.03333333],\"type\":\"scatter3d\"},{\"mode\":\"lines\",\"x\":[0.0,1.0],\"y\":[0.0,-0.03333333],\"z\":[0.0,0.03333333],\"type\":\"scatter3d\"},{\"mode\":\"lines\",\"x\":[0.0,1.0],\"y\":[0.0,-0.03333333],\"z\":[0.0,0.1],\"type\":\"scatter3d\"},{\"mode\":\"lines\",\"x\":[0.0,1.0],\"y\":[0.0,-0.03333333],\"z\":[0.0,0.16666667],\"type\":\"scatter3d\"},{\"mode\":\"lines\",\"x\":[0.0,1.0],\"y\":[0.0,-0.03333333],\"z\":[0.0,0.23333335],\"type\":\"scatter3d\"},{\"mode\":\"lines\",\"x\":[0.0,1.0],\"y\":[0.0,-0.03333333],\"z\":[0.0,0.3],\"type\":\"scatter3d\"},{\"mode\":\"lines\",\"x\":[0.0,1.0],\"y\":[0.0,0.03333333],\"z\":[0.0,-0.3],\"type\":\"scatter3d\"},{\"mode\":\"lines\",\"x\":[0.0,1.0],\"y\":[0.0,0.03333333],\"z\":[0.0,-0.23333335],\"type\":\"scatter3d\"},{\"mode\":\"lines\",\"x\":[0.0,1.0],\"y\":[0.0,0.03333333],\"z\":[0.0,-0.16666667],\"type\":\"scatter3d\"},{\"mode\":\"lines\",\"x\":[0.0,1.0],\"y\":[0.0,0.03333333],\"z\":[0.0,-0.1],\"type\":\"scatter3d\"},{\"mode\":\"lines\",\"x\":[0.0,1.0],\"y\":[0.0,0.03333333],\"z\":[0.0,-0.03333333],\"type\":\"scatter3d\"},{\"mode\":\"lines\",\"x\":[0.0,1.0],\"y\":[0.0,0.03333333],\"z\":[0.0,0.03333333],\"type\":\"scatter3d\"},{\"mode\":\"lines\",\"x\":[0.0,1.0],\"y\":[0.0,0.03333333],\"z\":[0.0,0.1],\"type\":\"scatter3d\"},{\"mode\":\"lines\",\"x\":[0.0,1.0],\"y\":[0.0,0.03333333],\"z\":[0.0,0.16666667],\"type\":\"scatter3d\"},{\"mode\":\"lines\",\"x\":[0.0,1.0],\"y\":[0.0,0.03333333],\"z\":[0.0,0.23333335],\"type\":\"scatter3d\"},{\"mode\":\"lines\",\"x\":[0.0,1.0],\"y\":[0.0,0.03333333],\"z\":[0.0,0.3],\"type\":\"scatter3d\"},{\"mode\":\"lines\",\"x\":[0.0,1.0],\"y\":[0.0,0.1],\"z\":[0.0,-0.3],\"type\":\"scatter3d\"},{\"mode\":\"lines\",\"x\":[0.0,1.0],\"y\":[0.0,0.1],\"z\":[0.0,-0.23333335],\"type\":\"scatter3d\"},{\"mode\":\"lines\",\"x\":[0.0,1.0],\"y\":[0.0,0.1],\"z\":[0.0,-0.16666667],\"type\":\"scatter3d\"},{\"mode\":\"lines\",\"x\":[0.0,1.0],\"y\":[0.0,0.1],\"z\":[0.0,-0.1],\"type\":\"scatter3d\"},{\"mode\":\"lines\",\"x\":[0.0,1.0],\"y\":[0.0,0.1],\"z\":[0.0,-0.03333333],\"type\":\"scatter3d\"},{\"mode\":\"lines\",\"x\":[0.0,1.0],\"y\":[0.0,0.1],\"z\":[0.0,0.03333333],\"type\":\"scatter3d\"},{\"mode\":\"lines\",\"x\":[0.0,1.0],\"y\":[0.0,0.1],\"z\":[0.0,0.1],\"type\":\"scatter3d\"},{\"mode\":\"lines\",\"x\":[0.0,1.0],\"y\":[0.0,0.1],\"z\":[0.0,0.16666667],\"type\":\"scatter3d\"},{\"mode\":\"lines\",\"x\":[0.0,1.0],\"y\":[0.0,0.1],\"z\":[0.0,0.23333335],\"type\":\"scatter3d\"},{\"mode\":\"lines\",\"x\":[0.0,1.0],\"y\":[0.0,0.1],\"z\":[0.0,0.3],\"type\":\"scatter3d\"},{\"mode\":\"lines\",\"x\":[0.0,1.0],\"y\":[0.0,0.16666667],\"z\":[0.0,-0.3],\"type\":\"scatter3d\"},{\"mode\":\"lines\",\"x\":[0.0,1.0],\"y\":[0.0,0.16666667],\"z\":[0.0,-0.23333335],\"type\":\"scatter3d\"},{\"mode\":\"lines\",\"x\":[0.0,1.0],\"y\":[0.0,0.16666667],\"z\":[0.0,-0.16666667],\"type\":\"scatter3d\"},{\"mode\":\"lines\",\"x\":[0.0,1.0],\"y\":[0.0,0.16666667],\"z\":[0.0,-0.1],\"type\":\"scatter3d\"},{\"mode\":\"lines\",\"x\":[0.0,1.0],\"y\":[0.0,0.16666667],\"z\":[0.0,-0.03333333],\"type\":\"scatter3d\"},{\"mode\":\"lines\",\"x\":[0.0,1.0],\"y\":[0.0,0.16666667],\"z\":[0.0,0.03333333],\"type\":\"scatter3d\"},{\"mode\":\"lines\",\"x\":[0.0,1.0],\"y\":[0.0,0.16666667],\"z\":[0.0,0.1],\"type\":\"scatter3d\"},{\"mode\":\"lines\",\"x\":[0.0,1.0],\"y\":[0.0,0.16666667],\"z\":[0.0,0.16666667],\"type\":\"scatter3d\"},{\"mode\":\"lines\",\"x\":[0.0,1.0],\"y\":[0.0,0.16666667],\"z\":[0.0,0.23333335],\"type\":\"scatter3d\"},{\"mode\":\"lines\",\"x\":[0.0,1.0],\"y\":[0.0,0.16666667],\"z\":[0.0,0.3],\"type\":\"scatter3d\"},{\"mode\":\"lines\",\"x\":[0.0,1.0],\"y\":[0.0,0.23333335],\"z\":[0.0,-0.3],\"type\":\"scatter3d\"},{\"mode\":\"lines\",\"x\":[0.0,1.0],\"y\":[0.0,0.23333335],\"z\":[0.0,-0.23333335],\"type\":\"scatter3d\"},{\"mode\":\"lines\",\"x\":[0.0,1.0],\"y\":[0.0,0.23333335],\"z\":[0.0,-0.16666667],\"type\":\"scatter3d\"},{\"mode\":\"lines\",\"x\":[0.0,1.0],\"y\":[0.0,0.23333335],\"z\":[0.0,-0.1],\"type\":\"scatter3d\"},{\"mode\":\"lines\",\"x\":[0.0,1.0],\"y\":[0.0,0.23333335],\"z\":[0.0,-0.03333333],\"type\":\"scatter3d\"},{\"mode\":\"lines\",\"x\":[0.0,1.0],\"y\":[0.0,0.23333335],\"z\":[0.0,0.03333333],\"type\":\"scatter3d\"},{\"mode\":\"lines\",\"x\":[0.0,1.0],\"y\":[0.0,0.23333335],\"z\":[0.0,0.1],\"type\":\"scatter3d\"},{\"mode\":\"lines\",\"x\":[0.0,1.0],\"y\":[0.0,0.23333335],\"z\":[0.0,0.16666667],\"type\":\"scatter3d\"},{\"mode\":\"lines\",\"x\":[0.0,1.0],\"y\":[0.0,0.23333335],\"z\":[0.0,0.23333335],\"type\":\"scatter3d\"},{\"mode\":\"lines\",\"x\":[0.0,1.0],\"y\":[0.0,0.23333335],\"z\":[0.0,0.3],\"type\":\"scatter3d\"},{\"mode\":\"lines\",\"x\":[0.0,1.0],\"y\":[0.0,0.3],\"z\":[0.0,-0.3],\"type\":\"scatter3d\"},{\"mode\":\"lines\",\"x\":[0.0,1.0],\"y\":[0.0,0.3],\"z\":[0.0,-0.23333335],\"type\":\"scatter3d\"},{\"mode\":\"lines\",\"x\":[0.0,1.0],\"y\":[0.0,0.3],\"z\":[0.0,-0.16666667],\"type\":\"scatter3d\"},{\"mode\":\"lines\",\"x\":[0.0,1.0],\"y\":[0.0,0.3],\"z\":[0.0,-0.1],\"type\":\"scatter3d\"},{\"mode\":\"lines\",\"x\":[0.0,1.0],\"y\":[0.0,0.3],\"z\":[0.0,-0.03333333],\"type\":\"scatter3d\"},{\"mode\":\"lines\",\"x\":[0.0,1.0],\"y\":[0.0,0.3],\"z\":[0.0,0.03333333],\"type\":\"scatter3d\"},{\"mode\":\"lines\",\"x\":[0.0,1.0],\"y\":[0.0,0.3],\"z\":[0.0,0.1],\"type\":\"scatter3d\"},{\"mode\":\"lines\",\"x\":[0.0,1.0],\"y\":[0.0,0.3],\"z\":[0.0,0.16666667],\"type\":\"scatter3d\"},{\"mode\":\"lines\",\"x\":[0.0,1.0],\"y\":[0.0,0.3],\"z\":[0.0,0.23333335],\"type\":\"scatter3d\"},{\"mode\":\"lines\",\"x\":[0.0,1.0],\"y\":[0.0,0.3],\"z\":[0.0,0.3],\"type\":\"scatter3d\"}],                        {\"height\":600,\"showlegend\":false,\"title\":{\"text\":\"3D rays\"},\"width\":600,\"template\":{\"data\":{\"histogram2dcontour\":[{\"type\":\"histogram2dcontour\",\"colorbar\":{\"outlinewidth\":0,\"ticks\":\"\"},\"colorscale\":[[0.0,\"#0d0887\"],[0.1111111111111111,\"#46039f\"],[0.2222222222222222,\"#7201a8\"],[0.3333333333333333,\"#9c179e\"],[0.4444444444444444,\"#bd3786\"],[0.5555555555555556,\"#d8576b\"],[0.6666666666666666,\"#ed7953\"],[0.7777777777777778,\"#fb9f3a\"],[0.8888888888888888,\"#fdca26\"],[1.0,\"#f0f921\"]]}],\"choropleth\":[{\"type\":\"choropleth\",\"colorbar\":{\"outlinewidth\":0,\"ticks\":\"\"}}],\"histogram2d\":[{\"type\":\"histogram2d\",\"colorbar\":{\"outlinewidth\":0,\"ticks\":\"\"},\"colorscale\":[[0.0,\"#0d0887\"],[0.1111111111111111,\"#46039f\"],[0.2222222222222222,\"#7201a8\"],[0.3333333333333333,\"#9c179e\"],[0.4444444444444444,\"#bd3786\"],[0.5555555555555556,\"#d8576b\"],[0.6666666666666666,\"#ed7953\"],[0.7777777777777778,\"#fb9f3a\"],[0.8888888888888888,\"#fdca26\"],[1.0,\"#f0f921\"]]}],\"heatmap\":[{\"type\":\"heatmap\",\"colorbar\":{\"outlinewidth\":0,\"ticks\":\"\"},\"colorscale\":[[0.0,\"#0d0887\"],[0.1111111111111111,\"#46039f\"],[0.2222222222222222,\"#7201a8\"],[0.3333333333333333,\"#9c179e\"],[0.4444444444444444,\"#bd3786\"],[0.5555555555555556,\"#d8576b\"],[0.6666666666666666,\"#ed7953\"],[0.7777777777777778,\"#fb9f3a\"],[0.8888888888888888,\"#fdca26\"],[1.0,\"#f0f921\"]]}],\"heatmapgl\":[{\"type\":\"heatmapgl\",\"colorbar\":{\"outlinewidth\":0,\"ticks\":\"\"},\"colorscale\":[[0.0,\"#0d0887\"],[0.1111111111111111,\"#46039f\"],[0.2222222222222222,\"#7201a8\"],[0.3333333333333333,\"#9c179e\"],[0.4444444444444444,\"#bd3786\"],[0.5555555555555556,\"#d8576b\"],[0.6666666666666666,\"#ed7953\"],[0.7777777777777778,\"#fb9f3a\"],[0.8888888888888888,\"#fdca26\"],[1.0,\"#f0f921\"]]}],\"contourcarpet\":[{\"type\":\"contourcarpet\",\"colorbar\":{\"outlinewidth\":0,\"ticks\":\"\"}}],\"contour\":[{\"type\":\"contour\",\"colorbar\":{\"outlinewidth\":0,\"ticks\":\"\"},\"colorscale\":[[0.0,\"#0d0887\"],[0.1111111111111111,\"#46039f\"],[0.2222222222222222,\"#7201a8\"],[0.3333333333333333,\"#9c179e\"],[0.4444444444444444,\"#bd3786\"],[0.5555555555555556,\"#d8576b\"],[0.6666666666666666,\"#ed7953\"],[0.7777777777777778,\"#fb9f3a\"],[0.8888888888888888,\"#fdca26\"],[1.0,\"#f0f921\"]]}],\"surface\":[{\"type\":\"surface\",\"colorbar\":{\"outlinewidth\":0,\"ticks\":\"\"},\"colorscale\":[[0.0,\"#0d0887\"],[0.1111111111111111,\"#46039f\"],[0.2222222222222222,\"#7201a8\"],[0.3333333333333333,\"#9c179e\"],[0.4444444444444444,\"#bd3786\"],[0.5555555555555556,\"#d8576b\"],[0.6666666666666666,\"#ed7953\"],[0.7777777777777778,\"#fb9f3a\"],[0.8888888888888888,\"#fdca26\"],[1.0,\"#f0f921\"]]}],\"mesh3d\":[{\"type\":\"mesh3d\",\"colorbar\":{\"outlinewidth\":0,\"ticks\":\"\"}}],\"scatter\":[{\"fillpattern\":{\"fillmode\":\"overlay\",\"size\":10,\"solidity\":0.2},\"type\":\"scatter\"}],\"parcoords\":[{\"type\":\"parcoords\",\"line\":{\"colorbar\":{\"outlinewidth\":0,\"ticks\":\"\"}}}],\"scatterpolargl\":[{\"type\":\"scatterpolargl\",\"marker\":{\"colorbar\":{\"outlinewidth\":0,\"ticks\":\"\"}}}],\"bar\":[{\"error_x\":{\"color\":\"#2a3f5f\"},\"error_y\":{\"color\":\"#2a3f5f\"},\"marker\":{\"line\":{\"color\":\"#E5ECF6\",\"width\":0.5},\"pattern\":{\"fillmode\":\"overlay\",\"size\":10,\"solidity\":0.2}},\"type\":\"bar\"}],\"scattergeo\":[{\"type\":\"scattergeo\",\"marker\":{\"colorbar\":{\"outlinewidth\":0,\"ticks\":\"\"}}}],\"scatterpolar\":[{\"type\":\"scatterpolar\",\"marker\":{\"colorbar\":{\"outlinewidth\":0,\"ticks\":\"\"}}}],\"histogram\":[{\"marker\":{\"pattern\":{\"fillmode\":\"overlay\",\"size\":10,\"solidity\":0.2}},\"type\":\"histogram\"}],\"scattergl\":[{\"type\":\"scattergl\",\"marker\":{\"colorbar\":{\"outlinewidth\":0,\"ticks\":\"\"}}}],\"scatter3d\":[{\"type\":\"scatter3d\",\"line\":{\"colorbar\":{\"outlinewidth\":0,\"ticks\":\"\"}},\"marker\":{\"colorbar\":{\"outlinewidth\":0,\"ticks\":\"\"}}}],\"scattermapbox\":[{\"type\":\"scattermapbox\",\"marker\":{\"colorbar\":{\"outlinewidth\":0,\"ticks\":\"\"}}}],\"scatterternary\":[{\"type\":\"scatterternary\",\"marker\":{\"colorbar\":{\"outlinewidth\":0,\"ticks\":\"\"}}}],\"scattercarpet\":[{\"type\":\"scattercarpet\",\"marker\":{\"colorbar\":{\"outlinewidth\":0,\"ticks\":\"\"}}}],\"carpet\":[{\"aaxis\":{\"endlinecolor\":\"#2a3f5f\",\"gridcolor\":\"white\",\"linecolor\":\"white\",\"minorgridcolor\":\"white\",\"startlinecolor\":\"#2a3f5f\"},\"baxis\":{\"endlinecolor\":\"#2a3f5f\",\"gridcolor\":\"white\",\"linecolor\":\"white\",\"minorgridcolor\":\"white\",\"startlinecolor\":\"#2a3f5f\"},\"type\":\"carpet\"}],\"table\":[{\"cells\":{\"fill\":{\"color\":\"#EBF0F8\"},\"line\":{\"color\":\"white\"}},\"header\":{\"fill\":{\"color\":\"#C8D4E3\"},\"line\":{\"color\":\"white\"}},\"type\":\"table\"}],\"barpolar\":[{\"marker\":{\"line\":{\"color\":\"#E5ECF6\",\"width\":0.5},\"pattern\":{\"fillmode\":\"overlay\",\"size\":10,\"solidity\":0.2}},\"type\":\"barpolar\"}],\"pie\":[{\"automargin\":true,\"type\":\"pie\"}]},\"layout\":{\"autotypenumbers\":\"strict\",\"colorway\":[\"#636efa\",\"#EF553B\",\"#00cc96\",\"#ab63fa\",\"#FFA15A\",\"#19d3f3\",\"#FF6692\",\"#B6E880\",\"#FF97FF\",\"#FECB52\"],\"font\":{\"color\":\"#2a3f5f\"},\"hovermode\":\"closest\",\"hoverlabel\":{\"align\":\"left\"},\"paper_bgcolor\":\"white\",\"plot_bgcolor\":\"#E5ECF6\",\"polar\":{\"bgcolor\":\"#E5ECF6\",\"angularaxis\":{\"gridcolor\":\"white\",\"linecolor\":\"white\",\"ticks\":\"\"},\"radialaxis\":{\"gridcolor\":\"white\",\"linecolor\":\"white\",\"ticks\":\"\"}},\"ternary\":{\"bgcolor\":\"#E5ECF6\",\"aaxis\":{\"gridcolor\":\"white\",\"linecolor\":\"white\",\"ticks\":\"\"},\"baxis\":{\"gridcolor\":\"white\",\"linecolor\":\"white\",\"ticks\":\"\"},\"caxis\":{\"gridcolor\":\"white\",\"linecolor\":\"white\",\"ticks\":\"\"}},\"coloraxis\":{\"colorbar\":{\"outlinewidth\":0,\"ticks\":\"\"}},\"colorscale\":{\"sequential\":[[0.0,\"#0d0887\"],[0.1111111111111111,\"#46039f\"],[0.2222222222222222,\"#7201a8\"],[0.3333333333333333,\"#9c179e\"],[0.4444444444444444,\"#bd3786\"],[0.5555555555555556,\"#d8576b\"],[0.6666666666666666,\"#ed7953\"],[0.7777777777777778,\"#fb9f3a\"],[0.8888888888888888,\"#fdca26\"],[1.0,\"#f0f921\"]],\"sequentialminus\":[[0.0,\"#0d0887\"],[0.1111111111111111,\"#46039f\"],[0.2222222222222222,\"#7201a8\"],[0.3333333333333333,\"#9c179e\"],[0.4444444444444444,\"#bd3786\"],[0.5555555555555556,\"#d8576b\"],[0.6666666666666666,\"#ed7953\"],[0.7777777777777778,\"#fb9f3a\"],[0.8888888888888888,\"#fdca26\"],[1.0,\"#f0f921\"]],\"diverging\":[[0,\"#8e0152\"],[0.1,\"#c51b7d\"],[0.2,\"#de77ae\"],[0.3,\"#f1b6da\"],[0.4,\"#fde0ef\"],[0.5,\"#f7f7f7\"],[0.6,\"#e6f5d0\"],[0.7,\"#b8e186\"],[0.8,\"#7fbc41\"],[0.9,\"#4d9221\"],[1,\"#276419\"]]},\"xaxis\":{\"gridcolor\":\"white\",\"linecolor\":\"white\",\"ticks\":\"\",\"title\":{\"standoff\":15},\"zerolinecolor\":\"white\",\"automargin\":true,\"zerolinewidth\":2},\"yaxis\":{\"gridcolor\":\"white\",\"linecolor\":\"white\",\"ticks\":\"\",\"title\":{\"standoff\":15},\"zerolinecolor\":\"white\",\"automargin\":true,\"zerolinewidth\":2},\"scene\":{\"xaxis\":{\"backgroundcolor\":\"#E5ECF6\",\"gridcolor\":\"white\",\"linecolor\":\"white\",\"showbackground\":true,\"ticks\":\"\",\"zerolinecolor\":\"white\",\"gridwidth\":2},\"yaxis\":{\"backgroundcolor\":\"#E5ECF6\",\"gridcolor\":\"white\",\"linecolor\":\"white\",\"showbackground\":true,\"ticks\":\"\",\"zerolinecolor\":\"white\",\"gridwidth\":2},\"zaxis\":{\"backgroundcolor\":\"#E5ECF6\",\"gridcolor\":\"white\",\"linecolor\":\"white\",\"showbackground\":true,\"ticks\":\"\",\"zerolinecolor\":\"white\",\"gridwidth\":2}},\"shapedefaults\":{\"line\":{\"color\":\"#2a3f5f\"}},\"annotationdefaults\":{\"arrowcolor\":\"#2a3f5f\",\"arrowhead\":0,\"arrowwidth\":1},\"geo\":{\"bgcolor\":\"white\",\"landcolor\":\"#E5ECF6\",\"subunitcolor\":\"white\",\"showland\":true,\"showlakes\":true,\"lakecolor\":\"white\"},\"title\":{\"x\":0.05},\"mapbox\":{\"style\":\"light\"}}}},                        {\"responsive\": true}                    ).then(function(){\n",
              "                            \n",
              "var gd = document.getElementById('0522f897-5370-42dc-a786-4d8eeaaea25d');\n",
              "var x = new MutationObserver(function (mutations, observer) {{\n",
              "        var display = window.getComputedStyle(gd).display;\n",
              "        if (!display || display === 'none') {{\n",
              "            console.log([gd, 'removed!']);\n",
              "            Plotly.purge(gd);\n",
              "            observer.disconnect();\n",
              "        }}\n",
              "}});\n",
              "\n",
              "// Listen for the removal of the full notebook cells\n",
              "var notebookContainer = gd.closest('#notebook-container');\n",
              "if (notebookContainer) {{\n",
              "    x.observe(notebookContainer, {childList: true});\n",
              "}}\n",
              "\n",
              "// Listen for the clearing of the current output cell\n",
              "var outputEl = gd.closest('.output');\n",
              "if (outputEl) {{\n",
              "    x.observe(outputEl, {childList: true});\n",
              "}}\n",
              "\n",
              "                        })                };                            </script>        </div>\n",
              "</body>\n",
              "</html>"
            ]
          },
          "metadata": {}
        }
      ],
      "source": [
        "def make_rays_2d(num_pixels_y: int, num_pixels_z: int, y_limit: float, z_limit: float) -> Float[Tensor, \"nrays 2 3\"]:\n",
        "    \"\"\"\n",
        "    num_pixels_y: The number of pixels in the y dimension\n",
        "    num_pixels_z: The number of pixels in the z dimension\n",
        "\n",
        "    y_limit: At x=1, the rays should extend from -y_limit to +y_limit, inclusive of both.\n",
        "    z_limit: At x=1, the rays should extend from -z_limit to +z_limit, inclusive of both.\n",
        "\n",
        "    Returns: shape (num_rays=num_pixels_y * num_pixels_z, num_points=2, num_dims=3).\n",
        "    \"\"\"\n",
        "    arr = t.zeros((num_pixels_y * num_pixels_z, 2, 3), dtype=t.float32)\n",
        "    arr[:, 1, 0] = 1 #x value is 1\n",
        "    ygrid = t.linspace(-y_limit, y_limit, num_pixels_y)\n",
        "    zgrid = t.linspace(-z_limit, z_limit, num_pixels_z)\n",
        "    arr[:, 1, 1] = einops.repeat(ygrid, 'y -> (y z)', z=num_pixels_z)\n",
        "    arr[:, 1, 2] = einops.repeat(zgrid, 'z -> (y z)', y=num_pixels_y)\n",
        "    return arr\n",
        "\n",
        "rays_2d = make_rays_2d(10, 10, 0.3, 0.3)\n",
        "render_lines_with_plotly(rays_2d)"
      ]
    },
    {
      "cell_type": "markdown",
      "metadata": {
        "id": "NHKKkJlBc7B7"
      },
      "source": [
        "<details>\n",
        "<summary>Help - I'm not sure how to implement this function.</summary>\n",
        "\n",
        "Don't write it as a function right away. The most efficient way is to write and test each line individually in the REPL to verify it does what you expect before proceeding.\n",
        "\n",
        "You can either build up the output tensor using `torch.stack`, or you can initialize the output tensor to its final size and then assign to slices like `rays[:, 1, 1] = ...`. It's good practice to be able to do it both ways.\n",
        "\n",
        "Each y coordinate needs a ray with each corresponding z coordinate - in other words this is an outer product. The most elegant way to do this is with two calls to `einops.repeat`. You can also accomplish this with `unsqueeze`, `expand`, and `reshape` combined.\n",
        "</details>\n",
        "\n",
        "\n",
        "<details><summary>Solution</summary>\n",
        "\n",
        "```python\n",
        "def make_rays_2d(num_pixels_y: int, num_pixels_z: int, y_limit: float, z_limit: float) -> Float[Tensor, \"nrays 2 3\"]:\n",
        "    \"\"\"\n",
        "    num_pixels_y: The number of pixels in the y dimension\n",
        "    num_pixels_z: The number of pixels in the z dimension\n",
        "\n",
        "    y_limit: At x=1, the rays should extend from -y_limit to +y_limit, inclusive of both.\n",
        "    z_limit: At x=1, the rays should extend from -z_limit to +z_limit, inclusive of both.\n",
        "\n",
        "    Returns: shape (num_rays=num_pixels_y * num_pixels_z, num_points=2, num_dims=3).\n",
        "    \"\"\"\n",
        "    n_pixels = num_pixels_y * num_pixels_z\n",
        "    ygrid = t.linspace(-y_limit, y_limit, num_pixels_y)\n",
        "    zgrid = t.linspace(-z_limit, z_limit, num_pixels_z)\n",
        "    rays = t.zeros((n_pixels, 2, 3), dtype=t.float32)\n",
        "    rays[:, 1, 0] = 1\n",
        "    rays[:, 1, 1] = einops.repeat(ygrid, \"y -> (y z)\", z=num_pixels_z)\n",
        "    rays[:, 1, 2] = einops.repeat(zgrid, \"z -> (y z)\", y=num_pixels_y)\n",
        "    return rays\n",
        "```\n",
        "</details>"
      ]
    },
    {
      "cell_type": "markdown",
      "metadata": {
        "id": "xJOl8UOxc7B7"
      },
      "source": [
        "# 3️⃣ Triangles\n",
        "\n",
        "> ##### Learning Objectives\n",
        ">\n",
        "> - Understand how to parametrize triangles in 2D and 3D, and solve for their intersection with rays\n",
        "> - Put everything together, to render your mesh as a 2D image"
      ]
    },
    {
      "cell_type": "markdown",
      "metadata": {
        "id": "SxPH3j_Uc7B7"
      },
      "source": [
        "## Triangle Coordinates\n",
        "\n",
        "The area inside a triangle can be defined by three (non-collinear) points $A$, $B$ and $C$, and can be written algebraically as a **convex combination** of those three points:\n",
        "\n",
        "$$\n",
        "\\begin{align*}\n",
        "P(w, u, v) &= wA + uB + vC \\quad\\quad \\\\\n",
        "    \\\\\n",
        "s.t. \\quad 0 &\\leq w,u,v \\\\\n",
        "1 &= w + u + v\n",
        "\\end{align*}\n",
        "$$\n",
        "\n",
        "Or equivalently:\n",
        "\n",
        "$$\n",
        "\\begin{align*}\n",
        "\\quad\\quad\\quad\\quad P(u, v) &= (1 - u - v)A + uB + vC \\\\\n",
        "&= A + u(B - A) + v(C - A) \\\\\n",
        "\\\\\n",
        "s.t. \\quad 0 &\\leq u,v \\\\\n",
        "u + v &\\leq 1\n",
        "\\end{align*}\n",
        "$$\n",
        "\n",
        "These $u, v$ are called \"barycentric coordinates\".\n",
        "\n",
        "If we remove the bounds on $u$ and $v$, we get an equation for the plane containing the triangle. Play with the widget to understand the behavior of $u, v$."
      ]
    },
    {
      "cell_type": "code",
      "execution_count": 20,
      "metadata": {
        "colab": {
          "base_uri": "https://localhost:8080/",
          "height": 81,
          "referenced_widgets": [
            "388706bc8adf4a5e9c7ceeaf758ebefb",
            "05eadfb51ca14a25bf58ed46855672b6",
            "0710b319ca7240778f38e662d402749b",
            "239223d029704a6f97aefaa35bcaddd8",
            "5794e7455604404ea069ce12dec4d931",
            "eac09b261c8a4341ae20b59978d06b2a",
            "7ff43a415b2048c8b2ff25c4b1a4f2d0",
            "0f23bdddff3f4990bacef0e2e17e1d0f",
            "d316f7555bc34517a25b948e73674497",
            "a0680b6021ab40f9b6c2d6045550de92",
            "30d8896e11e34682afe18583224af16c"
          ]
        },
        "id": "tYPH2Z9Qc7B7",
        "outputId": "3a2b9135-bfc5-48e0-ec25-1538024e0741"
      },
      "outputs": [
        {
          "output_type": "display_data",
          "data": {
            "application/vnd.jupyter.widget-view+json": {
              "version_major": 2,
              "version_minor": 0,
              "model_id": "388706bc8adf4a5e9c7ceeaf758ebefb"
            },
            "text/plain": [
              "FigureWidget({\n",
              "    'data': [{'marker': {'size': 12},\n",
              "              'mode': 'markers+text',\n",
              "              'text': [A, B, C],\n",
              "              'textfont': {'size': 18},\n",
              "              'textposition': 'middle left',\n",
              "              'type': 'scatter',\n",
              "              'uid': '71cdff45-952b-4fd1-9b52-ea0d0cb14bc8',\n",
              "              'x': array([0., 4., 2.], dtype=float32),\n",
              "              'y': array([0. , 0.5, 3. ], dtype=float32)},\n",
              "             {'mode': 'lines',\n",
              "              'type': 'scatter',\n",
              "              'uid': '2dc066c4-dfe9-4dd5-83a2-18fcfb46d7d5',\n",
              "              'x': [0.0, 4.0, 2.0, 0.0],\n",
              "              'y': [0.0, 0.5, 3.0, 0.0]},\n",
              "             {'marker': {'size': 12, 'symbol': 'x'},\n",
              "              'mode': 'markers',\n",
              "              'type': 'scatter',\n",
              "              'uid': '8ca2a371-db05-4424-b89b-ed4c9f133755',\n",
              "              'x': [],\n",
              "              'y': []}],\n",
              "    'layout': {'height': 400,\n",
              "               'margin': {'b': 10, 'l': 40, 't': 60},\n",
              "               'showlegend': False,\n",
              "               'template': '...',\n",
              "               'title': {'text': 'Barycentric coordinates illustration'},\n",
              "               'width': 500,\n",
              "               'xaxis': {'range': [-3, 8]},\n",
              "               'yaxis': {'range': [-2, 5.5]}}\n",
              "})"
            ]
          },
          "metadata": {}
        },
        {
          "output_type": "display_data",
          "data": {
            "text/plain": [
              "interactive(children=(FloatSlider(value=0.0, description='u', max=1.5, min=-0.5, step=0.01), FloatSlider(value…"
            ],
            "application/vnd.jupyter.widget-view+json": {
              "version_major": 2,
              "version_minor": 0,
              "model_id": "05eadfb51ca14a25bf58ed46855672b6"
            }
          },
          "metadata": {}
        }
      ],
      "source": [
        "one_triangle = t.tensor([[0, 0, 0], [4, 0.5, 0], [2, 3, 0]])\n",
        "A, B, C = one_triangle\n",
        "x, y, z = one_triangle.T\n",
        "\n",
        "fig: go.FigureWidget = setup_widget_fig_triangle(x, y, z)\n",
        "display(fig)\n",
        "\n",
        "\n",
        "@interact(u=(-0.5, 1.5, 0.01), v=(-0.5, 1.5, 0.01))\n",
        "def update(u=0.0, v=0.0):\n",
        "    P = A + u * (B - A) + v * (C - A)\n",
        "    fig.update_traces({\"x\": [P[0]], \"y\": [P[1]]}, 2)"
      ]
    },
    {
      "cell_type": "code",
      "source": [
        "from google.colab import output\n",
        "output.enable_custom_widget_manager()"
      ],
      "metadata": {
        "id": "6YO1fai3uhls"
      },
      "execution_count": 21,
      "outputs": []
    },
    {
      "cell_type": "markdown",
      "source": [
        "Support for third party widgets will remain active for the duration of the session. To disable support:"
      ],
      "metadata": {
        "id": "uFFdyr3duhls"
      }
    },
    {
      "cell_type": "code",
      "source": [
        "from google.colab import output\n",
        "output.disable_custom_widget_manager()"
      ],
      "metadata": {
        "id": "cpEv8eGWuhls"
      },
      "execution_count": 22,
      "outputs": []
    },
    {
      "cell_type": "markdown",
      "source": [
        "Support for third party widgets will remain active for the duration of the session. To disable support:"
      ],
      "metadata": {
        "id": "FHncg8XcujeI"
      }
    },
    {
      "cell_type": "markdown",
      "metadata": {
        "id": "xGESN7tnc7B7"
      },
      "source": [
        "### Triangle-Ray Intersection\n",
        "\n",
        "Given a ray with origin $O$ and direction $D$, our intersection algorithm will consist of two steps:\n",
        "\n",
        "- Finding the intersection between the line and the plane containing the triangle, by solving the equation $P(u, v) = P(s)$;\n",
        "- Checking if $u$ and $v$ are within the bounds of the triangle.\n",
        "\n",
        "Expanding the equation $P(u, v) = P(s)$, we have:\n",
        "\n",
        "$$\n",
        "\\begin{align*}\n",
        "A + u(B - A) + v(C - A) &= O + sD \\\\\n",
        "\\Rightarrow\n",
        "\\begin{pmatrix}\n",
        "    -D & (B - A) & (C - A) \\\\\n",
        "\\end{pmatrix}\n",
        "\\begin{pmatrix}\n",
        "    s \\\\\n",
        "    u \\\\\n",
        "    v  \n",
        "\\end{pmatrix}\n",
        "&= \\begin{pmatrix} O - A \\end{pmatrix} \\\\\n",
        "\\Rightarrow \\begin{pmatrix}\n",
        "    -D_x & (B - A)_x & (C - A)_x \\\\\n",
        "    -D_y & (B - A)_y & (C - A)_y \\\\\n",
        "    -D_z & (B - A)_z & (C - A)_z \\\\\n",
        "\\end{pmatrix}\n",
        "\\begin{pmatrix}\n",
        "    s \\\\\n",
        "    u \\\\\n",
        "    v  \n",
        "\\end{pmatrix} &= \\begin{pmatrix}\n",
        "    (O - A)_x \\\\\n",
        "    (O - A)_y \\\\\n",
        "    (O - A)_z \\\\\n",
        "\\end{pmatrix}\n",
        "\\end{align*}\n",
        "$$\n",
        "\n",
        "$$\n",
        "$$\n",
        "\n",
        "We can therefore find the coordinates `s`, `u`, `v` of the intersection point by solving the linear system above."
      ]
    },
    {
      "cell_type": "markdown",
      "metadata": {
        "id": "EasUU4FHc7B7"
      },
      "source": [
        "### Exercise - implement `triangle_ray_intersects`\n",
        "\n",
        "> ```yaml\n",
        "> Difficulty: 🔴🔴🔴⚪⚪\n",
        "> Importance: 🔵🔵🔵⚪⚪\n",
        ">\n",
        "> You should spend up to 15-20 minutes on this exercise.\n",
        "> ```\n",
        "\n",
        "Using `torch.linalg.solve` and `torch.stack`, implement `triangle_ray_intersects(A, B, C, O, D)`.\n",
        "\n",
        "A few tips:\n",
        "\n",
        "* If you have a 0-dimensional tensor with shape `()` containing a single value, use the `item()` method to convert it to a plain Python value.\n",
        "* If you have a tensor of shape `tensor.shape = (3, ...)`, then you can unpack it along the first dimension into three separate tensors the same way that you'd unpack a normal python list: `s, u, v = tensor`.\n",
        "    * Note - if the dimension you want to unpack isn't at the start, a nice alternative is `s, u, v = tensor.unbind(dim)`, which does the same thing but along the dimension given by `dim` rather than the first dimension.\n",
        "* If your function isn't working, try making a simple ray and triangle with nice round numbers where you can work out manually if it should intersect or not, then debug from there."
      ]
    },
    {
      "cell_type": "code",
      "execution_count": 27,
      "metadata": {
        "colab": {
          "base_uri": "https://localhost:8080/"
        },
        "id": "AnRP_SDHc7B7",
        "outputId": "a76178ee-8e5d-4e08-d497-2fa3b2c6e1f1"
      },
      "outputs": [
        {
          "output_type": "stream",
          "name": "stdout",
          "text": [
            "All tests in `test_triangle_ray_intersects` passed!\n"
          ]
        }
      ],
      "source": [
        "Point = Float[Tensor, \"points=3\"]\n",
        "\n",
        "\n",
        "def triangle_ray_intersects(A: Point, B: Point, C: Point, O: Point, D: Point) -> bool:\n",
        "    \"\"\"\n",
        "    A: shape (3,), one vertex of the triangle\n",
        "    B: shape (3,), second vertex of the triangle\n",
        "    C: shape (3,), third vertex of the triangle\n",
        "    O: shape (3,), origin point\n",
        "    D: shape (3,), direction point\n",
        "\n",
        "    Return True if the ray and the triangle intersect.\n",
        "    \"\"\"\n",
        "    mat = t.stack([-D, B-A, C-A], dim=-1)\n",
        "    vec = O-A\n",
        "    try:\n",
        "      suv = t.linalg.solve(mat, vec)\n",
        "    except RuntimeError:\n",
        "      return False\n",
        "\n",
        "    return (suv[1] >= 0) and (suv[2] >= 0) and (suv[1]+suv[2] <= 1) and (suv[0] >= 0)\n",
        "\n",
        "\n",
        "\n",
        "tests.test_triangle_ray_intersects(triangle_ray_intersects)"
      ]
    },
    {
      "cell_type": "markdown",
      "metadata": {
        "id": "_9BO_fTVc7B7"
      },
      "source": [
        "<details><summary>Solution</summary>\n",
        "\n",
        "```python\n",
        "def triangle_ray_intersects(A: Point, B: Point, C: Point, O: Point, D: Point) -> bool:\n",
        "    \"\"\"\n",
        "    A: shape (3,), one vertex of the triangle\n",
        "    B: shape (3,), second vertex of the triangle\n",
        "    C: shape (3,), third vertex of the triangle\n",
        "    O: shape (3,), origin point\n",
        "    D: shape (3,), direction point\n",
        "\n",
        "    Return True if the ray and the triangle intersect.\n",
        "    \"\"\"\n",
        "    s, u, v = t.linalg.solve(t.stack([-D, B - A, C - A], dim=1), O - A)\n",
        "    return ((s >= 0) & (u >= 0) & (v >= 0) & (u + v <= 1)).item()\n",
        "```\n",
        "</details>"
      ]
    },
    {
      "cell_type": "markdown",
      "metadata": {
        "id": "M0N8_46gc7B7"
      },
      "source": [
        "## Single-Triangle Rendering\n",
        "\n",
        "Implement `raytrace_triangle` using only one call to `torch.linalg.solve`.\n",
        "\n",
        "Reshape the output and visualize with `plt.imshow`. It's normal for the edges to look pixelated and jagged - using a small number of pixels is a good way to debug quickly.\n",
        "\n",
        "If you think it's working, increase the number of pixels and verify that it looks less pixelated at higher resolution."
      ]
    },
    {
      "cell_type": "markdown",
      "metadata": {
        "id": "DgX_-tiTc7B7"
      },
      "source": [
        "### Views and Copies\n",
        "\n",
        "It's critical to know when you are making a copy of a `Tensor`, versus making a view of it that shares the data with the original tensor. It's preferable to use a view whenever possible to avoid copying memory unnecessarily. On the other hand, modifying a view modifies the original tensor which can be unintended and surprising. Consult [the documentation](https://pytorch.org/docs/stable/tensor_view.html) if you're unsure if a function returns a view. A short reference of common functions:\n",
        "\n",
        "- `torch.expand`: always returns a view\n",
        "- `torch.view`: always returns a view\n",
        "- `torch.detach`: always returns a view\n",
        "- `torch.repeat`: always copies\n",
        "- `torch.clone`: always copies\n",
        "- `torch.flip`: always copies (different than numpy.flip which returns a view)\n",
        "- `torch.tensor`: always copies, but PyTorch recommends using `.clone().detach()` instead.\n",
        "- `torch.Tensor.contiguous`: returns self if possible, otherwise a copy\n",
        "- `torch.transpose`: returns a view if possible, otherwise (sparse tensor) a copy\n",
        "- `torch.reshape`: returns a view if possible, otherwise a copy\n",
        "- `torch.flatten`: returns a view if possible, otherwise a copy (different than numpy.flatten which returns a copy)\n",
        "- `einops.repeat`: returns a view if possible, otherwise a copy\n",
        "- `einops.rearrange`: returns a view if possible, otherwise a copy\n",
        "- Basic indexing returns a view, while advanced indexing returns a copy."
      ]
    },
    {
      "cell_type": "markdown",
      "metadata": {
        "id": "a-iRmILpc7B7"
      },
      "source": [
        "### Storage Objects\n",
        "\n",
        "Calling `storage()` on a `Tensor` returns a Python object wrapping the underlying C++ array. This array is 1D regardless of the dimensionality of the `Tensor`. This allows you to look inside the `Tensor` abstraction and see how the actual data is laid out in RAM.\n",
        "\n",
        "Note that a new Python wrapper object is generated each time you call `storage()`, and both `x.storage() == x.storage()` and `x.storage() is x.storage()` evaluates to False.\n",
        "\n",
        "If you want to check if two `Tensor`s share an underlying C++ array, you can compare their `storage().data_ptr()` fields. This can be useful for debugging."
      ]
    },
    {
      "cell_type": "markdown",
      "metadata": {
        "id": "wRYwim_6c7B7"
      },
      "source": [
        "### `Tensor._base`\n",
        "\n",
        "If `x` is a view, you can access the original `Tensor` with `x._base`. This is an undocumented internal feature that's useful to know. Consider the following code:\n",
        "\n",
        "```python\n",
        "x = t.zeros(1024*1024*1024)\n",
        "y = x[0]\n",
        "del x\n",
        "```\n",
        "\n",
        "Here, `y` was created through basic indexing, so `y` is a view and `y._base` refers to `x`. This means `del x` won't actually deallocate the 4GB of memory, and that memory will remain in use which can be quite surprising. `y = x[0].clone()` would be an alternative here that does allow reclaiming the memory."
      ]
    },
    {
      "cell_type": "markdown",
      "metadata": {
        "id": "T71kCb_lc7B7"
      },
      "source": [
        "### Exercise - implement `raytrace_triangle`\n",
        "\n",
        "> ```yaml\n",
        "> Difficulty: 🔴🔴🔴🔴⚪\n",
        "> Importance: 🔵🔵🔵🔵⚪\n",
        ">\n",
        "> You should spend up to 15-20 minutes on this exercise.\n",
        "> This is about as hard as `intersect_rays_1d`, although hopefully you should find it more familiar.\n",
        "> ```\n",
        "\n",
        "Below, you should implement `raytrace_triangle`, a funtion which checks whether each ray in `ray` intersects a single given triangle."
      ]
    },
    {
      "cell_type": "code",
      "execution_count": 38,
      "metadata": {
        "colab": {
          "base_uri": "https://localhost:8080/",
          "height": 1000
        },
        "id": "tgiwLPPLc7B7",
        "outputId": "c16c566a-bcc0-43db-d96d-adc628ad3c27"
      },
      "outputs": [
        {
          "output_type": "display_data",
          "data": {
            "text/html": [
              "<html>\n",
              "<head><meta charset=\"utf-8\" /></head>\n",
              "<body>\n",
              "    <div>            <script src=\"https://cdnjs.cloudflare.com/ajax/libs/mathjax/2.7.5/MathJax.js?config=TeX-AMS-MML_SVG\"></script><script type=\"text/javascript\">if (window.MathJax && window.MathJax.Hub && window.MathJax.Hub.Config) {window.MathJax.Hub.Config({SVG: {font: \"STIX-Web\"}});}</script>                <script type=\"text/javascript\">window.PlotlyConfig = {MathJaxConfig: 'local'};</script>\n",
              "        <script charset=\"utf-8\" src=\"https://cdn.plot.ly/plotly-2.35.2.min.js\"></script>                <div id=\"b8d34bc6-8091-4470-b301-482c4de5bb0f\" class=\"plotly-graph-div\" style=\"height:600px; width:600px;\"></div>            <script type=\"text/javascript\">                                    window.PLOTLYENV=window.PLOTLYENV || {};                                    if (document.getElementById(\"b8d34bc6-8091-4470-b301-482c4de5bb0f\")) {                    Plotly.newPlot(                        \"b8d34bc6-8091-4470-b301-482c4de5bb0f\",                        [{\"mode\":\"lines\",\"x\":[0.0,1.0],\"y\":[0.0,-0.5],\"z\":[0.0,-0.5],\"type\":\"scatter3d\"},{\"mode\":\"lines\",\"x\":[0.0,1.0],\"y\":[0.0,-0.5],\"z\":[0.0,-0.42857143],\"type\":\"scatter3d\"},{\"mode\":\"lines\",\"x\":[0.0,1.0],\"y\":[0.0,-0.5],\"z\":[0.0,-0.35714287],\"type\":\"scatter3d\"},{\"mode\":\"lines\",\"x\":[0.0,1.0],\"y\":[0.0,-0.5],\"z\":[0.0,-0.28571427],\"type\":\"scatter3d\"},{\"mode\":\"lines\",\"x\":[0.0,1.0],\"y\":[0.0,-0.5],\"z\":[0.0,-0.2142857],\"type\":\"scatter3d\"},{\"mode\":\"lines\",\"x\":[0.0,1.0],\"y\":[0.0,-0.5],\"z\":[0.0,-0.14285713],\"type\":\"scatter3d\"},{\"mode\":\"lines\",\"x\":[0.0,1.0],\"y\":[0.0,-0.5],\"z\":[0.0,-0.07142855],\"type\":\"scatter3d\"},{\"mode\":\"lines\",\"x\":[0.0,1.0],\"y\":[0.0,-0.5],\"z\":[0.0,-2.2351742e-8],\"type\":\"scatter3d\"},{\"mode\":\"lines\",\"x\":[0.0,1.0],\"y\":[0.0,-0.5],\"z\":[0.0,0.07142855],\"type\":\"scatter3d\"},{\"mode\":\"lines\",\"x\":[0.0,1.0],\"y\":[0.0,-0.5],\"z\":[0.0,0.14285713],\"type\":\"scatter3d\"},{\"mode\":\"lines\",\"x\":[0.0,1.0],\"y\":[0.0,-0.5],\"z\":[0.0,0.2142857],\"type\":\"scatter3d\"},{\"mode\":\"lines\",\"x\":[0.0,1.0],\"y\":[0.0,-0.5],\"z\":[0.0,0.28571427],\"type\":\"scatter3d\"},{\"mode\":\"lines\",\"x\":[0.0,1.0],\"y\":[0.0,-0.5],\"z\":[0.0,0.35714287],\"type\":\"scatter3d\"},{\"mode\":\"lines\",\"x\":[0.0,1.0],\"y\":[0.0,-0.5],\"z\":[0.0,0.42857143],\"type\":\"scatter3d\"},{\"mode\":\"lines\",\"x\":[0.0,1.0],\"y\":[0.0,-0.5],\"z\":[0.0,0.5],\"type\":\"scatter3d\"},{\"mode\":\"lines\",\"x\":[0.0,1.0],\"y\":[0.0,-0.42857143],\"z\":[0.0,-0.5],\"type\":\"scatter3d\"},{\"mode\":\"lines\",\"x\":[0.0,1.0],\"y\":[0.0,-0.42857143],\"z\":[0.0,-0.42857143],\"type\":\"scatter3d\"},{\"mode\":\"lines\",\"x\":[0.0,1.0],\"y\":[0.0,-0.42857143],\"z\":[0.0,-0.35714287],\"type\":\"scatter3d\"},{\"mode\":\"lines\",\"x\":[0.0,1.0],\"y\":[0.0,-0.42857143],\"z\":[0.0,-0.28571427],\"type\":\"scatter3d\"},{\"mode\":\"lines\",\"x\":[0.0,1.0],\"y\":[0.0,-0.42857143],\"z\":[0.0,-0.2142857],\"type\":\"scatter3d\"},{\"mode\":\"lines\",\"x\":[0.0,1.0],\"y\":[0.0,-0.42857143],\"z\":[0.0,-0.14285713],\"type\":\"scatter3d\"},{\"mode\":\"lines\",\"x\":[0.0,1.0],\"y\":[0.0,-0.42857143],\"z\":[0.0,-0.07142855],\"type\":\"scatter3d\"},{\"mode\":\"lines\",\"x\":[0.0,1.0],\"y\":[0.0,-0.42857143],\"z\":[0.0,-2.2351742e-8],\"type\":\"scatter3d\"},{\"mode\":\"lines\",\"x\":[0.0,1.0],\"y\":[0.0,-0.42857143],\"z\":[0.0,0.07142855],\"type\":\"scatter3d\"},{\"mode\":\"lines\",\"x\":[0.0,1.0],\"y\":[0.0,-0.42857143],\"z\":[0.0,0.14285713],\"type\":\"scatter3d\"},{\"mode\":\"lines\",\"x\":[0.0,1.0],\"y\":[0.0,-0.42857143],\"z\":[0.0,0.2142857],\"type\":\"scatter3d\"},{\"mode\":\"lines\",\"x\":[0.0,1.0],\"y\":[0.0,-0.42857143],\"z\":[0.0,0.28571427],\"type\":\"scatter3d\"},{\"mode\":\"lines\",\"x\":[0.0,1.0],\"y\":[0.0,-0.42857143],\"z\":[0.0,0.35714287],\"type\":\"scatter3d\"},{\"mode\":\"lines\",\"x\":[0.0,1.0],\"y\":[0.0,-0.42857143],\"z\":[0.0,0.42857143],\"type\":\"scatter3d\"},{\"mode\":\"lines\",\"x\":[0.0,1.0],\"y\":[0.0,-0.42857143],\"z\":[0.0,0.5],\"type\":\"scatter3d\"},{\"mode\":\"lines\",\"x\":[0.0,1.0],\"y\":[0.0,-0.35714287],\"z\":[0.0,-0.5],\"type\":\"scatter3d\"},{\"mode\":\"lines\",\"x\":[0.0,1.0],\"y\":[0.0,-0.35714287],\"z\":[0.0,-0.42857143],\"type\":\"scatter3d\"},{\"mode\":\"lines\",\"x\":[0.0,1.0],\"y\":[0.0,-0.35714287],\"z\":[0.0,-0.35714287],\"type\":\"scatter3d\"},{\"mode\":\"lines\",\"x\":[0.0,1.0],\"y\":[0.0,-0.35714287],\"z\":[0.0,-0.28571427],\"type\":\"scatter3d\"},{\"mode\":\"lines\",\"x\":[0.0,1.0],\"y\":[0.0,-0.35714287],\"z\":[0.0,-0.2142857],\"type\":\"scatter3d\"},{\"mode\":\"lines\",\"x\":[0.0,1.0],\"y\":[0.0,-0.35714287],\"z\":[0.0,-0.14285713],\"type\":\"scatter3d\"},{\"mode\":\"lines\",\"x\":[0.0,1.0],\"y\":[0.0,-0.35714287],\"z\":[0.0,-0.07142855],\"type\":\"scatter3d\"},{\"mode\":\"lines\",\"x\":[0.0,1.0],\"y\":[0.0,-0.35714287],\"z\":[0.0,-2.2351742e-8],\"type\":\"scatter3d\"},{\"mode\":\"lines\",\"x\":[0.0,1.0],\"y\":[0.0,-0.35714287],\"z\":[0.0,0.07142855],\"type\":\"scatter3d\"},{\"mode\":\"lines\",\"x\":[0.0,1.0],\"y\":[0.0,-0.35714287],\"z\":[0.0,0.14285713],\"type\":\"scatter3d\"},{\"mode\":\"lines\",\"x\":[0.0,1.0],\"y\":[0.0,-0.35714287],\"z\":[0.0,0.2142857],\"type\":\"scatter3d\"},{\"mode\":\"lines\",\"x\":[0.0,1.0],\"y\":[0.0,-0.35714287],\"z\":[0.0,0.28571427],\"type\":\"scatter3d\"},{\"mode\":\"lines\",\"x\":[0.0,1.0],\"y\":[0.0,-0.35714287],\"z\":[0.0,0.35714287],\"type\":\"scatter3d\"},{\"mode\":\"lines\",\"x\":[0.0,1.0],\"y\":[0.0,-0.35714287],\"z\":[0.0,0.42857143],\"type\":\"scatter3d\"},{\"mode\":\"lines\",\"x\":[0.0,1.0],\"y\":[0.0,-0.35714287],\"z\":[0.0,0.5],\"type\":\"scatter3d\"},{\"mode\":\"lines\",\"x\":[0.0,1.0],\"y\":[0.0,-0.28571427],\"z\":[0.0,-0.5],\"type\":\"scatter3d\"},{\"mode\":\"lines\",\"x\":[0.0,1.0],\"y\":[0.0,-0.28571427],\"z\":[0.0,-0.42857143],\"type\":\"scatter3d\"},{\"mode\":\"lines\",\"x\":[0.0,1.0],\"y\":[0.0,-0.28571427],\"z\":[0.0,-0.35714287],\"type\":\"scatter3d\"},{\"mode\":\"lines\",\"x\":[0.0,1.0],\"y\":[0.0,-0.28571427],\"z\":[0.0,-0.28571427],\"type\":\"scatter3d\"},{\"mode\":\"lines\",\"x\":[0.0,1.0],\"y\":[0.0,-0.28571427],\"z\":[0.0,-0.2142857],\"type\":\"scatter3d\"},{\"mode\":\"lines\",\"x\":[0.0,1.0],\"y\":[0.0,-0.28571427],\"z\":[0.0,-0.14285713],\"type\":\"scatter3d\"},{\"mode\":\"lines\",\"x\":[0.0,1.0],\"y\":[0.0,-0.28571427],\"z\":[0.0,-0.07142855],\"type\":\"scatter3d\"},{\"mode\":\"lines\",\"x\":[0.0,1.0],\"y\":[0.0,-0.28571427],\"z\":[0.0,-2.2351742e-8],\"type\":\"scatter3d\"},{\"mode\":\"lines\",\"x\":[0.0,1.0],\"y\":[0.0,-0.28571427],\"z\":[0.0,0.07142855],\"type\":\"scatter3d\"},{\"mode\":\"lines\",\"x\":[0.0,1.0],\"y\":[0.0,-0.28571427],\"z\":[0.0,0.14285713],\"type\":\"scatter3d\"},{\"mode\":\"lines\",\"x\":[0.0,1.0],\"y\":[0.0,-0.28571427],\"z\":[0.0,0.2142857],\"type\":\"scatter3d\"},{\"mode\":\"lines\",\"x\":[0.0,1.0],\"y\":[0.0,-0.28571427],\"z\":[0.0,0.28571427],\"type\":\"scatter3d\"},{\"mode\":\"lines\",\"x\":[0.0,1.0],\"y\":[0.0,-0.28571427],\"z\":[0.0,0.35714287],\"type\":\"scatter3d\"},{\"mode\":\"lines\",\"x\":[0.0,1.0],\"y\":[0.0,-0.28571427],\"z\":[0.0,0.42857143],\"type\":\"scatter3d\"},{\"mode\":\"lines\",\"x\":[0.0,1.0],\"y\":[0.0,-0.28571427],\"z\":[0.0,0.5],\"type\":\"scatter3d\"},{\"mode\":\"lines\",\"x\":[0.0,1.0],\"y\":[0.0,-0.2142857],\"z\":[0.0,-0.5],\"type\":\"scatter3d\"},{\"mode\":\"lines\",\"x\":[0.0,1.0],\"y\":[0.0,-0.2142857],\"z\":[0.0,-0.42857143],\"type\":\"scatter3d\"},{\"mode\":\"lines\",\"x\":[0.0,1.0],\"y\":[0.0,-0.2142857],\"z\":[0.0,-0.35714287],\"type\":\"scatter3d\"},{\"mode\":\"lines\",\"x\":[0.0,1.0],\"y\":[0.0,-0.2142857],\"z\":[0.0,-0.28571427],\"type\":\"scatter3d\"},{\"mode\":\"lines\",\"x\":[0.0,1.0],\"y\":[0.0,-0.2142857],\"z\":[0.0,-0.2142857],\"type\":\"scatter3d\"},{\"mode\":\"lines\",\"x\":[0.0,1.0],\"y\":[0.0,-0.2142857],\"z\":[0.0,-0.14285713],\"type\":\"scatter3d\"},{\"mode\":\"lines\",\"x\":[0.0,1.0],\"y\":[0.0,-0.2142857],\"z\":[0.0,-0.07142855],\"type\":\"scatter3d\"},{\"mode\":\"lines\",\"x\":[0.0,1.0],\"y\":[0.0,-0.2142857],\"z\":[0.0,-2.2351742e-8],\"type\":\"scatter3d\"},{\"mode\":\"lines\",\"x\":[0.0,1.0],\"y\":[0.0,-0.2142857],\"z\":[0.0,0.07142855],\"type\":\"scatter3d\"},{\"mode\":\"lines\",\"x\":[0.0,1.0],\"y\":[0.0,-0.2142857],\"z\":[0.0,0.14285713],\"type\":\"scatter3d\"},{\"mode\":\"lines\",\"x\":[0.0,1.0],\"y\":[0.0,-0.2142857],\"z\":[0.0,0.2142857],\"type\":\"scatter3d\"},{\"mode\":\"lines\",\"x\":[0.0,1.0],\"y\":[0.0,-0.2142857],\"z\":[0.0,0.28571427],\"type\":\"scatter3d\"},{\"mode\":\"lines\",\"x\":[0.0,1.0],\"y\":[0.0,-0.2142857],\"z\":[0.0,0.35714287],\"type\":\"scatter3d\"},{\"mode\":\"lines\",\"x\":[0.0,1.0],\"y\":[0.0,-0.2142857],\"z\":[0.0,0.42857143],\"type\":\"scatter3d\"},{\"mode\":\"lines\",\"x\":[0.0,1.0],\"y\":[0.0,-0.2142857],\"z\":[0.0,0.5],\"type\":\"scatter3d\"},{\"mode\":\"lines\",\"x\":[0.0,1.0],\"y\":[0.0,-0.14285713],\"z\":[0.0,-0.5],\"type\":\"scatter3d\"},{\"mode\":\"lines\",\"x\":[0.0,1.0],\"y\":[0.0,-0.14285713],\"z\":[0.0,-0.42857143],\"type\":\"scatter3d\"},{\"mode\":\"lines\",\"x\":[0.0,1.0],\"y\":[0.0,-0.14285713],\"z\":[0.0,-0.35714287],\"type\":\"scatter3d\"},{\"mode\":\"lines\",\"x\":[0.0,1.0],\"y\":[0.0,-0.14285713],\"z\":[0.0,-0.28571427],\"type\":\"scatter3d\"},{\"mode\":\"lines\",\"x\":[0.0,1.0],\"y\":[0.0,-0.14285713],\"z\":[0.0,-0.2142857],\"type\":\"scatter3d\"},{\"mode\":\"lines\",\"x\":[0.0,1.0],\"y\":[0.0,-0.14285713],\"z\":[0.0,-0.14285713],\"type\":\"scatter3d\"},{\"mode\":\"lines\",\"x\":[0.0,1.0],\"y\":[0.0,-0.14285713],\"z\":[0.0,-0.07142855],\"type\":\"scatter3d\"},{\"mode\":\"lines\",\"x\":[0.0,1.0],\"y\":[0.0,-0.14285713],\"z\":[0.0,-2.2351742e-8],\"type\":\"scatter3d\"},{\"mode\":\"lines\",\"x\":[0.0,1.0],\"y\":[0.0,-0.14285713],\"z\":[0.0,0.07142855],\"type\":\"scatter3d\"},{\"mode\":\"lines\",\"x\":[0.0,1.0],\"y\":[0.0,-0.14285713],\"z\":[0.0,0.14285713],\"type\":\"scatter3d\"},{\"mode\":\"lines\",\"x\":[0.0,1.0],\"y\":[0.0,-0.14285713],\"z\":[0.0,0.2142857],\"type\":\"scatter3d\"},{\"mode\":\"lines\",\"x\":[0.0,1.0],\"y\":[0.0,-0.14285713],\"z\":[0.0,0.28571427],\"type\":\"scatter3d\"},{\"mode\":\"lines\",\"x\":[0.0,1.0],\"y\":[0.0,-0.14285713],\"z\":[0.0,0.35714287],\"type\":\"scatter3d\"},{\"mode\":\"lines\",\"x\":[0.0,1.0],\"y\":[0.0,-0.14285713],\"z\":[0.0,0.42857143],\"type\":\"scatter3d\"},{\"mode\":\"lines\",\"x\":[0.0,1.0],\"y\":[0.0,-0.14285713],\"z\":[0.0,0.5],\"type\":\"scatter3d\"},{\"mode\":\"lines\",\"x\":[0.0,1.0],\"y\":[0.0,-0.07142855],\"z\":[0.0,-0.5],\"type\":\"scatter3d\"},{\"mode\":\"lines\",\"x\":[0.0,1.0],\"y\":[0.0,-0.07142855],\"z\":[0.0,-0.42857143],\"type\":\"scatter3d\"},{\"mode\":\"lines\",\"x\":[0.0,1.0],\"y\":[0.0,-0.07142855],\"z\":[0.0,-0.35714287],\"type\":\"scatter3d\"},{\"mode\":\"lines\",\"x\":[0.0,1.0],\"y\":[0.0,-0.07142855],\"z\":[0.0,-0.28571427],\"type\":\"scatter3d\"},{\"mode\":\"lines\",\"x\":[0.0,1.0],\"y\":[0.0,-0.07142855],\"z\":[0.0,-0.2142857],\"type\":\"scatter3d\"},{\"mode\":\"lines\",\"x\":[0.0,1.0],\"y\":[0.0,-0.07142855],\"z\":[0.0,-0.14285713],\"type\":\"scatter3d\"},{\"mode\":\"lines\",\"x\":[0.0,1.0],\"y\":[0.0,-0.07142855],\"z\":[0.0,-0.07142855],\"type\":\"scatter3d\"},{\"mode\":\"lines\",\"x\":[0.0,1.0],\"y\":[0.0,-0.07142855],\"z\":[0.0,-2.2351742e-8],\"type\":\"scatter3d\"},{\"mode\":\"lines\",\"x\":[0.0,1.0],\"y\":[0.0,-0.07142855],\"z\":[0.0,0.07142855],\"type\":\"scatter3d\"},{\"mode\":\"lines\",\"x\":[0.0,1.0],\"y\":[0.0,-0.07142855],\"z\":[0.0,0.14285713],\"type\":\"scatter3d\"},{\"mode\":\"lines\",\"x\":[0.0,1.0],\"y\":[0.0,-0.07142855],\"z\":[0.0,0.2142857],\"type\":\"scatter3d\"},{\"mode\":\"lines\",\"x\":[0.0,1.0],\"y\":[0.0,-0.07142855],\"z\":[0.0,0.28571427],\"type\":\"scatter3d\"},{\"mode\":\"lines\",\"x\":[0.0,1.0],\"y\":[0.0,-0.07142855],\"z\":[0.0,0.35714287],\"type\":\"scatter3d\"},{\"mode\":\"lines\",\"x\":[0.0,1.0],\"y\":[0.0,-0.07142855],\"z\":[0.0,0.42857143],\"type\":\"scatter3d\"},{\"mode\":\"lines\",\"x\":[0.0,1.0],\"y\":[0.0,-0.07142855],\"z\":[0.0,0.5],\"type\":\"scatter3d\"},{\"mode\":\"lines\",\"x\":[0.0,1.0],\"y\":[0.0,-2.2351742e-8],\"z\":[0.0,-0.5],\"type\":\"scatter3d\"},{\"mode\":\"lines\",\"x\":[0.0,1.0],\"y\":[0.0,-2.2351742e-8],\"z\":[0.0,-0.42857143],\"type\":\"scatter3d\"},{\"mode\":\"lines\",\"x\":[0.0,1.0],\"y\":[0.0,-2.2351742e-8],\"z\":[0.0,-0.35714287],\"type\":\"scatter3d\"},{\"mode\":\"lines\",\"x\":[0.0,1.0],\"y\":[0.0,-2.2351742e-8],\"z\":[0.0,-0.28571427],\"type\":\"scatter3d\"},{\"mode\":\"lines\",\"x\":[0.0,1.0],\"y\":[0.0,-2.2351742e-8],\"z\":[0.0,-0.2142857],\"type\":\"scatter3d\"},{\"mode\":\"lines\",\"x\":[0.0,1.0],\"y\":[0.0,-2.2351742e-8],\"z\":[0.0,-0.14285713],\"type\":\"scatter3d\"},{\"mode\":\"lines\",\"x\":[0.0,1.0],\"y\":[0.0,-2.2351742e-8],\"z\":[0.0,-0.07142855],\"type\":\"scatter3d\"},{\"mode\":\"lines\",\"x\":[0.0,1.0],\"y\":[0.0,-2.2351742e-8],\"z\":[0.0,-2.2351742e-8],\"type\":\"scatter3d\"},{\"mode\":\"lines\",\"x\":[0.0,1.0],\"y\":[0.0,-2.2351742e-8],\"z\":[0.0,0.07142855],\"type\":\"scatter3d\"},{\"mode\":\"lines\",\"x\":[0.0,1.0],\"y\":[0.0,-2.2351742e-8],\"z\":[0.0,0.14285713],\"type\":\"scatter3d\"},{\"mode\":\"lines\",\"x\":[0.0,1.0],\"y\":[0.0,-2.2351742e-8],\"z\":[0.0,0.2142857],\"type\":\"scatter3d\"},{\"mode\":\"lines\",\"x\":[0.0,1.0],\"y\":[0.0,-2.2351742e-8],\"z\":[0.0,0.28571427],\"type\":\"scatter3d\"},{\"mode\":\"lines\",\"x\":[0.0,1.0],\"y\":[0.0,-2.2351742e-8],\"z\":[0.0,0.35714287],\"type\":\"scatter3d\"},{\"mode\":\"lines\",\"x\":[0.0,1.0],\"y\":[0.0,-2.2351742e-8],\"z\":[0.0,0.42857143],\"type\":\"scatter3d\"},{\"mode\":\"lines\",\"x\":[0.0,1.0],\"y\":[0.0,-2.2351742e-8],\"z\":[0.0,0.5],\"type\":\"scatter3d\"},{\"mode\":\"lines\",\"x\":[0.0,1.0],\"y\":[0.0,0.07142855],\"z\":[0.0,-0.5],\"type\":\"scatter3d\"},{\"mode\":\"lines\",\"x\":[0.0,1.0],\"y\":[0.0,0.07142855],\"z\":[0.0,-0.42857143],\"type\":\"scatter3d\"},{\"mode\":\"lines\",\"x\":[0.0,1.0],\"y\":[0.0,0.07142855],\"z\":[0.0,-0.35714287],\"type\":\"scatter3d\"},{\"mode\":\"lines\",\"x\":[0.0,1.0],\"y\":[0.0,0.07142855],\"z\":[0.0,-0.28571427],\"type\":\"scatter3d\"},{\"mode\":\"lines\",\"x\":[0.0,1.0],\"y\":[0.0,0.07142855],\"z\":[0.0,-0.2142857],\"type\":\"scatter3d\"},{\"mode\":\"lines\",\"x\":[0.0,1.0],\"y\":[0.0,0.07142855],\"z\":[0.0,-0.14285713],\"type\":\"scatter3d\"},{\"mode\":\"lines\",\"x\":[0.0,1.0],\"y\":[0.0,0.07142855],\"z\":[0.0,-0.07142855],\"type\":\"scatter3d\"},{\"mode\":\"lines\",\"x\":[0.0,1.0],\"y\":[0.0,0.07142855],\"z\":[0.0,-2.2351742e-8],\"type\":\"scatter3d\"},{\"mode\":\"lines\",\"x\":[0.0,1.0],\"y\":[0.0,0.07142855],\"z\":[0.0,0.07142855],\"type\":\"scatter3d\"},{\"mode\":\"lines\",\"x\":[0.0,1.0],\"y\":[0.0,0.07142855],\"z\":[0.0,0.14285713],\"type\":\"scatter3d\"},{\"mode\":\"lines\",\"x\":[0.0,1.0],\"y\":[0.0,0.07142855],\"z\":[0.0,0.2142857],\"type\":\"scatter3d\"},{\"mode\":\"lines\",\"x\":[0.0,1.0],\"y\":[0.0,0.07142855],\"z\":[0.0,0.28571427],\"type\":\"scatter3d\"},{\"mode\":\"lines\",\"x\":[0.0,1.0],\"y\":[0.0,0.07142855],\"z\":[0.0,0.35714287],\"type\":\"scatter3d\"},{\"mode\":\"lines\",\"x\":[0.0,1.0],\"y\":[0.0,0.07142855],\"z\":[0.0,0.42857143],\"type\":\"scatter3d\"},{\"mode\":\"lines\",\"x\":[0.0,1.0],\"y\":[0.0,0.07142855],\"z\":[0.0,0.5],\"type\":\"scatter3d\"},{\"mode\":\"lines\",\"x\":[0.0,1.0],\"y\":[0.0,0.14285713],\"z\":[0.0,-0.5],\"type\":\"scatter3d\"},{\"mode\":\"lines\",\"x\":[0.0,1.0],\"y\":[0.0,0.14285713],\"z\":[0.0,-0.42857143],\"type\":\"scatter3d\"},{\"mode\":\"lines\",\"x\":[0.0,1.0],\"y\":[0.0,0.14285713],\"z\":[0.0,-0.35714287],\"type\":\"scatter3d\"},{\"mode\":\"lines\",\"x\":[0.0,1.0],\"y\":[0.0,0.14285713],\"z\":[0.0,-0.28571427],\"type\":\"scatter3d\"},{\"mode\":\"lines\",\"x\":[0.0,1.0],\"y\":[0.0,0.14285713],\"z\":[0.0,-0.2142857],\"type\":\"scatter3d\"},{\"mode\":\"lines\",\"x\":[0.0,1.0],\"y\":[0.0,0.14285713],\"z\":[0.0,-0.14285713],\"type\":\"scatter3d\"},{\"mode\":\"lines\",\"x\":[0.0,1.0],\"y\":[0.0,0.14285713],\"z\":[0.0,-0.07142855],\"type\":\"scatter3d\"},{\"mode\":\"lines\",\"x\":[0.0,1.0],\"y\":[0.0,0.14285713],\"z\":[0.0,-2.2351742e-8],\"type\":\"scatter3d\"},{\"mode\":\"lines\",\"x\":[0.0,1.0],\"y\":[0.0,0.14285713],\"z\":[0.0,0.07142855],\"type\":\"scatter3d\"},{\"mode\":\"lines\",\"x\":[0.0,1.0],\"y\":[0.0,0.14285713],\"z\":[0.0,0.14285713],\"type\":\"scatter3d\"},{\"mode\":\"lines\",\"x\":[0.0,1.0],\"y\":[0.0,0.14285713],\"z\":[0.0,0.2142857],\"type\":\"scatter3d\"},{\"mode\":\"lines\",\"x\":[0.0,1.0],\"y\":[0.0,0.14285713],\"z\":[0.0,0.28571427],\"type\":\"scatter3d\"},{\"mode\":\"lines\",\"x\":[0.0,1.0],\"y\":[0.0,0.14285713],\"z\":[0.0,0.35714287],\"type\":\"scatter3d\"},{\"mode\":\"lines\",\"x\":[0.0,1.0],\"y\":[0.0,0.14285713],\"z\":[0.0,0.42857143],\"type\":\"scatter3d\"},{\"mode\":\"lines\",\"x\":[0.0,1.0],\"y\":[0.0,0.14285713],\"z\":[0.0,0.5],\"type\":\"scatter3d\"},{\"mode\":\"lines\",\"x\":[0.0,1.0],\"y\":[0.0,0.2142857],\"z\":[0.0,-0.5],\"type\":\"scatter3d\"},{\"mode\":\"lines\",\"x\":[0.0,1.0],\"y\":[0.0,0.2142857],\"z\":[0.0,-0.42857143],\"type\":\"scatter3d\"},{\"mode\":\"lines\",\"x\":[0.0,1.0],\"y\":[0.0,0.2142857],\"z\":[0.0,-0.35714287],\"type\":\"scatter3d\"},{\"mode\":\"lines\",\"x\":[0.0,1.0],\"y\":[0.0,0.2142857],\"z\":[0.0,-0.28571427],\"type\":\"scatter3d\"},{\"mode\":\"lines\",\"x\":[0.0,1.0],\"y\":[0.0,0.2142857],\"z\":[0.0,-0.2142857],\"type\":\"scatter3d\"},{\"mode\":\"lines\",\"x\":[0.0,1.0],\"y\":[0.0,0.2142857],\"z\":[0.0,-0.14285713],\"type\":\"scatter3d\"},{\"mode\":\"lines\",\"x\":[0.0,1.0],\"y\":[0.0,0.2142857],\"z\":[0.0,-0.07142855],\"type\":\"scatter3d\"},{\"mode\":\"lines\",\"x\":[0.0,1.0],\"y\":[0.0,0.2142857],\"z\":[0.0,-2.2351742e-8],\"type\":\"scatter3d\"},{\"mode\":\"lines\",\"x\":[0.0,1.0],\"y\":[0.0,0.2142857],\"z\":[0.0,0.07142855],\"type\":\"scatter3d\"},{\"mode\":\"lines\",\"x\":[0.0,1.0],\"y\":[0.0,0.2142857],\"z\":[0.0,0.14285713],\"type\":\"scatter3d\"},{\"mode\":\"lines\",\"x\":[0.0,1.0],\"y\":[0.0,0.2142857],\"z\":[0.0,0.2142857],\"type\":\"scatter3d\"},{\"mode\":\"lines\",\"x\":[0.0,1.0],\"y\":[0.0,0.2142857],\"z\":[0.0,0.28571427],\"type\":\"scatter3d\"},{\"mode\":\"lines\",\"x\":[0.0,1.0],\"y\":[0.0,0.2142857],\"z\":[0.0,0.35714287],\"type\":\"scatter3d\"},{\"mode\":\"lines\",\"x\":[0.0,1.0],\"y\":[0.0,0.2142857],\"z\":[0.0,0.42857143],\"type\":\"scatter3d\"},{\"mode\":\"lines\",\"x\":[0.0,1.0],\"y\":[0.0,0.2142857],\"z\":[0.0,0.5],\"type\":\"scatter3d\"},{\"mode\":\"lines\",\"x\":[0.0,1.0],\"y\":[0.0,0.28571427],\"z\":[0.0,-0.5],\"type\":\"scatter3d\"},{\"mode\":\"lines\",\"x\":[0.0,1.0],\"y\":[0.0,0.28571427],\"z\":[0.0,-0.42857143],\"type\":\"scatter3d\"},{\"mode\":\"lines\",\"x\":[0.0,1.0],\"y\":[0.0,0.28571427],\"z\":[0.0,-0.35714287],\"type\":\"scatter3d\"},{\"mode\":\"lines\",\"x\":[0.0,1.0],\"y\":[0.0,0.28571427],\"z\":[0.0,-0.28571427],\"type\":\"scatter3d\"},{\"mode\":\"lines\",\"x\":[0.0,1.0],\"y\":[0.0,0.28571427],\"z\":[0.0,-0.2142857],\"type\":\"scatter3d\"},{\"mode\":\"lines\",\"x\":[0.0,1.0],\"y\":[0.0,0.28571427],\"z\":[0.0,-0.14285713],\"type\":\"scatter3d\"},{\"mode\":\"lines\",\"x\":[0.0,1.0],\"y\":[0.0,0.28571427],\"z\":[0.0,-0.07142855],\"type\":\"scatter3d\"},{\"mode\":\"lines\",\"x\":[0.0,1.0],\"y\":[0.0,0.28571427],\"z\":[0.0,-2.2351742e-8],\"type\":\"scatter3d\"},{\"mode\":\"lines\",\"x\":[0.0,1.0],\"y\":[0.0,0.28571427],\"z\":[0.0,0.07142855],\"type\":\"scatter3d\"},{\"mode\":\"lines\",\"x\":[0.0,1.0],\"y\":[0.0,0.28571427],\"z\":[0.0,0.14285713],\"type\":\"scatter3d\"},{\"mode\":\"lines\",\"x\":[0.0,1.0],\"y\":[0.0,0.28571427],\"z\":[0.0,0.2142857],\"type\":\"scatter3d\"},{\"mode\":\"lines\",\"x\":[0.0,1.0],\"y\":[0.0,0.28571427],\"z\":[0.0,0.28571427],\"type\":\"scatter3d\"},{\"mode\":\"lines\",\"x\":[0.0,1.0],\"y\":[0.0,0.28571427],\"z\":[0.0,0.35714287],\"type\":\"scatter3d\"},{\"mode\":\"lines\",\"x\":[0.0,1.0],\"y\":[0.0,0.28571427],\"z\":[0.0,0.42857143],\"type\":\"scatter3d\"},{\"mode\":\"lines\",\"x\":[0.0,1.0],\"y\":[0.0,0.28571427],\"z\":[0.0,0.5],\"type\":\"scatter3d\"},{\"mode\":\"lines\",\"x\":[0.0,1.0],\"y\":[0.0,0.35714287],\"z\":[0.0,-0.5],\"type\":\"scatter3d\"},{\"mode\":\"lines\",\"x\":[0.0,1.0],\"y\":[0.0,0.35714287],\"z\":[0.0,-0.42857143],\"type\":\"scatter3d\"},{\"mode\":\"lines\",\"x\":[0.0,1.0],\"y\":[0.0,0.35714287],\"z\":[0.0,-0.35714287],\"type\":\"scatter3d\"},{\"mode\":\"lines\",\"x\":[0.0,1.0],\"y\":[0.0,0.35714287],\"z\":[0.0,-0.28571427],\"type\":\"scatter3d\"},{\"mode\":\"lines\",\"x\":[0.0,1.0],\"y\":[0.0,0.35714287],\"z\":[0.0,-0.2142857],\"type\":\"scatter3d\"},{\"mode\":\"lines\",\"x\":[0.0,1.0],\"y\":[0.0,0.35714287],\"z\":[0.0,-0.14285713],\"type\":\"scatter3d\"},{\"mode\":\"lines\",\"x\":[0.0,1.0],\"y\":[0.0,0.35714287],\"z\":[0.0,-0.07142855],\"type\":\"scatter3d\"},{\"mode\":\"lines\",\"x\":[0.0,1.0],\"y\":[0.0,0.35714287],\"z\":[0.0,-2.2351742e-8],\"type\":\"scatter3d\"},{\"mode\":\"lines\",\"x\":[0.0,1.0],\"y\":[0.0,0.35714287],\"z\":[0.0,0.07142855],\"type\":\"scatter3d\"},{\"mode\":\"lines\",\"x\":[0.0,1.0],\"y\":[0.0,0.35714287],\"z\":[0.0,0.14285713],\"type\":\"scatter3d\"},{\"mode\":\"lines\",\"x\":[0.0,1.0],\"y\":[0.0,0.35714287],\"z\":[0.0,0.2142857],\"type\":\"scatter3d\"},{\"mode\":\"lines\",\"x\":[0.0,1.0],\"y\":[0.0,0.35714287],\"z\":[0.0,0.28571427],\"type\":\"scatter3d\"},{\"mode\":\"lines\",\"x\":[0.0,1.0],\"y\":[0.0,0.35714287],\"z\":[0.0,0.35714287],\"type\":\"scatter3d\"},{\"mode\":\"lines\",\"x\":[0.0,1.0],\"y\":[0.0,0.35714287],\"z\":[0.0,0.42857143],\"type\":\"scatter3d\"},{\"mode\":\"lines\",\"x\":[0.0,1.0],\"y\":[0.0,0.35714287],\"z\":[0.0,0.5],\"type\":\"scatter3d\"},{\"mode\":\"lines\",\"x\":[0.0,1.0],\"y\":[0.0,0.42857143],\"z\":[0.0,-0.5],\"type\":\"scatter3d\"},{\"mode\":\"lines\",\"x\":[0.0,1.0],\"y\":[0.0,0.42857143],\"z\":[0.0,-0.42857143],\"type\":\"scatter3d\"},{\"mode\":\"lines\",\"x\":[0.0,1.0],\"y\":[0.0,0.42857143],\"z\":[0.0,-0.35714287],\"type\":\"scatter3d\"},{\"mode\":\"lines\",\"x\":[0.0,1.0],\"y\":[0.0,0.42857143],\"z\":[0.0,-0.28571427],\"type\":\"scatter3d\"},{\"mode\":\"lines\",\"x\":[0.0,1.0],\"y\":[0.0,0.42857143],\"z\":[0.0,-0.2142857],\"type\":\"scatter3d\"},{\"mode\":\"lines\",\"x\":[0.0,1.0],\"y\":[0.0,0.42857143],\"z\":[0.0,-0.14285713],\"type\":\"scatter3d\"},{\"mode\":\"lines\",\"x\":[0.0,1.0],\"y\":[0.0,0.42857143],\"z\":[0.0,-0.07142855],\"type\":\"scatter3d\"},{\"mode\":\"lines\",\"x\":[0.0,1.0],\"y\":[0.0,0.42857143],\"z\":[0.0,-2.2351742e-8],\"type\":\"scatter3d\"},{\"mode\":\"lines\",\"x\":[0.0,1.0],\"y\":[0.0,0.42857143],\"z\":[0.0,0.07142855],\"type\":\"scatter3d\"},{\"mode\":\"lines\",\"x\":[0.0,1.0],\"y\":[0.0,0.42857143],\"z\":[0.0,0.14285713],\"type\":\"scatter3d\"},{\"mode\":\"lines\",\"x\":[0.0,1.0],\"y\":[0.0,0.42857143],\"z\":[0.0,0.2142857],\"type\":\"scatter3d\"},{\"mode\":\"lines\",\"x\":[0.0,1.0],\"y\":[0.0,0.42857143],\"z\":[0.0,0.28571427],\"type\":\"scatter3d\"},{\"mode\":\"lines\",\"x\":[0.0,1.0],\"y\":[0.0,0.42857143],\"z\":[0.0,0.35714287],\"type\":\"scatter3d\"},{\"mode\":\"lines\",\"x\":[0.0,1.0],\"y\":[0.0,0.42857143],\"z\":[0.0,0.42857143],\"type\":\"scatter3d\"},{\"mode\":\"lines\",\"x\":[0.0,1.0],\"y\":[0.0,0.42857143],\"z\":[0.0,0.5],\"type\":\"scatter3d\"},{\"mode\":\"lines\",\"x\":[0.0,1.0],\"y\":[0.0,0.5],\"z\":[0.0,-0.5],\"type\":\"scatter3d\"},{\"mode\":\"lines\",\"x\":[0.0,1.0],\"y\":[0.0,0.5],\"z\":[0.0,-0.42857143],\"type\":\"scatter3d\"},{\"mode\":\"lines\",\"x\":[0.0,1.0],\"y\":[0.0,0.5],\"z\":[0.0,-0.35714287],\"type\":\"scatter3d\"},{\"mode\":\"lines\",\"x\":[0.0,1.0],\"y\":[0.0,0.5],\"z\":[0.0,-0.28571427],\"type\":\"scatter3d\"},{\"mode\":\"lines\",\"x\":[0.0,1.0],\"y\":[0.0,0.5],\"z\":[0.0,-0.2142857],\"type\":\"scatter3d\"},{\"mode\":\"lines\",\"x\":[0.0,1.0],\"y\":[0.0,0.5],\"z\":[0.0,-0.14285713],\"type\":\"scatter3d\"},{\"mode\":\"lines\",\"x\":[0.0,1.0],\"y\":[0.0,0.5],\"z\":[0.0,-0.07142855],\"type\":\"scatter3d\"},{\"mode\":\"lines\",\"x\":[0.0,1.0],\"y\":[0.0,0.5],\"z\":[0.0,-2.2351742e-8],\"type\":\"scatter3d\"},{\"mode\":\"lines\",\"x\":[0.0,1.0],\"y\":[0.0,0.5],\"z\":[0.0,0.07142855],\"type\":\"scatter3d\"},{\"mode\":\"lines\",\"x\":[0.0,1.0],\"y\":[0.0,0.5],\"z\":[0.0,0.14285713],\"type\":\"scatter3d\"},{\"mode\":\"lines\",\"x\":[0.0,1.0],\"y\":[0.0,0.5],\"z\":[0.0,0.2142857],\"type\":\"scatter3d\"},{\"mode\":\"lines\",\"x\":[0.0,1.0],\"y\":[0.0,0.5],\"z\":[0.0,0.28571427],\"type\":\"scatter3d\"},{\"mode\":\"lines\",\"x\":[0.0,1.0],\"y\":[0.0,0.5],\"z\":[0.0,0.35714287],\"type\":\"scatter3d\"},{\"mode\":\"lines\",\"x\":[0.0,1.0],\"y\":[0.0,0.5],\"z\":[0.0,0.42857143],\"type\":\"scatter3d\"},{\"mode\":\"lines\",\"x\":[0.0,1.0],\"y\":[0.0,0.5],\"z\":[0.0,0.5],\"type\":\"scatter3d\"},{\"line\":{\"color\":\"black\",\"width\":5},\"mode\":\"lines\",\"x\":[1.0,1.0],\"y\":[0.0,-0.5],\"z\":[-0.5,0.0],\"type\":\"scatter3d\"},{\"line\":{\"color\":\"black\",\"width\":5},\"mode\":\"lines\",\"x\":[1.0,1.0],\"y\":[0.5,0.0],\"z\":[0.5,-0.5],\"type\":\"scatter3d\"},{\"line\":{\"color\":\"black\",\"width\":5},\"mode\":\"lines\",\"x\":[1.0,1.0],\"y\":[-0.5,0.5],\"z\":[0.0,0.5],\"type\":\"scatter3d\"}],                        {\"height\":600,\"showlegend\":false,\"title\":{\"text\":\"3D rays\"},\"width\":600,\"template\":{\"data\":{\"histogram2dcontour\":[{\"type\":\"histogram2dcontour\",\"colorbar\":{\"outlinewidth\":0,\"ticks\":\"\"},\"colorscale\":[[0.0,\"#0d0887\"],[0.1111111111111111,\"#46039f\"],[0.2222222222222222,\"#7201a8\"],[0.3333333333333333,\"#9c179e\"],[0.4444444444444444,\"#bd3786\"],[0.5555555555555556,\"#d8576b\"],[0.6666666666666666,\"#ed7953\"],[0.7777777777777778,\"#fb9f3a\"],[0.8888888888888888,\"#fdca26\"],[1.0,\"#f0f921\"]]}],\"choropleth\":[{\"type\":\"choropleth\",\"colorbar\":{\"outlinewidth\":0,\"ticks\":\"\"}}],\"histogram2d\":[{\"type\":\"histogram2d\",\"colorbar\":{\"outlinewidth\":0,\"ticks\":\"\"},\"colorscale\":[[0.0,\"#0d0887\"],[0.1111111111111111,\"#46039f\"],[0.2222222222222222,\"#7201a8\"],[0.3333333333333333,\"#9c179e\"],[0.4444444444444444,\"#bd3786\"],[0.5555555555555556,\"#d8576b\"],[0.6666666666666666,\"#ed7953\"],[0.7777777777777778,\"#fb9f3a\"],[0.8888888888888888,\"#fdca26\"],[1.0,\"#f0f921\"]]}],\"heatmap\":[{\"type\":\"heatmap\",\"colorbar\":{\"outlinewidth\":0,\"ticks\":\"\"},\"colorscale\":[[0.0,\"#0d0887\"],[0.1111111111111111,\"#46039f\"],[0.2222222222222222,\"#7201a8\"],[0.3333333333333333,\"#9c179e\"],[0.4444444444444444,\"#bd3786\"],[0.5555555555555556,\"#d8576b\"],[0.6666666666666666,\"#ed7953\"],[0.7777777777777778,\"#fb9f3a\"],[0.8888888888888888,\"#fdca26\"],[1.0,\"#f0f921\"]]}],\"heatmapgl\":[{\"type\":\"heatmapgl\",\"colorbar\":{\"outlinewidth\":0,\"ticks\":\"\"},\"colorscale\":[[0.0,\"#0d0887\"],[0.1111111111111111,\"#46039f\"],[0.2222222222222222,\"#7201a8\"],[0.3333333333333333,\"#9c179e\"],[0.4444444444444444,\"#bd3786\"],[0.5555555555555556,\"#d8576b\"],[0.6666666666666666,\"#ed7953\"],[0.7777777777777778,\"#fb9f3a\"],[0.8888888888888888,\"#fdca26\"],[1.0,\"#f0f921\"]]}],\"contourcarpet\":[{\"type\":\"contourcarpet\",\"colorbar\":{\"outlinewidth\":0,\"ticks\":\"\"}}],\"contour\":[{\"type\":\"contour\",\"colorbar\":{\"outlinewidth\":0,\"ticks\":\"\"},\"colorscale\":[[0.0,\"#0d0887\"],[0.1111111111111111,\"#46039f\"],[0.2222222222222222,\"#7201a8\"],[0.3333333333333333,\"#9c179e\"],[0.4444444444444444,\"#bd3786\"],[0.5555555555555556,\"#d8576b\"],[0.6666666666666666,\"#ed7953\"],[0.7777777777777778,\"#fb9f3a\"],[0.8888888888888888,\"#fdca26\"],[1.0,\"#f0f921\"]]}],\"surface\":[{\"type\":\"surface\",\"colorbar\":{\"outlinewidth\":0,\"ticks\":\"\"},\"colorscale\":[[0.0,\"#0d0887\"],[0.1111111111111111,\"#46039f\"],[0.2222222222222222,\"#7201a8\"],[0.3333333333333333,\"#9c179e\"],[0.4444444444444444,\"#bd3786\"],[0.5555555555555556,\"#d8576b\"],[0.6666666666666666,\"#ed7953\"],[0.7777777777777778,\"#fb9f3a\"],[0.8888888888888888,\"#fdca26\"],[1.0,\"#f0f921\"]]}],\"mesh3d\":[{\"type\":\"mesh3d\",\"colorbar\":{\"outlinewidth\":0,\"ticks\":\"\"}}],\"scatter\":[{\"fillpattern\":{\"fillmode\":\"overlay\",\"size\":10,\"solidity\":0.2},\"type\":\"scatter\"}],\"parcoords\":[{\"type\":\"parcoords\",\"line\":{\"colorbar\":{\"outlinewidth\":0,\"ticks\":\"\"}}}],\"scatterpolargl\":[{\"type\":\"scatterpolargl\",\"marker\":{\"colorbar\":{\"outlinewidth\":0,\"ticks\":\"\"}}}],\"bar\":[{\"error_x\":{\"color\":\"#2a3f5f\"},\"error_y\":{\"color\":\"#2a3f5f\"},\"marker\":{\"line\":{\"color\":\"#E5ECF6\",\"width\":0.5},\"pattern\":{\"fillmode\":\"overlay\",\"size\":10,\"solidity\":0.2}},\"type\":\"bar\"}],\"scattergeo\":[{\"type\":\"scattergeo\",\"marker\":{\"colorbar\":{\"outlinewidth\":0,\"ticks\":\"\"}}}],\"scatterpolar\":[{\"type\":\"scatterpolar\",\"marker\":{\"colorbar\":{\"outlinewidth\":0,\"ticks\":\"\"}}}],\"histogram\":[{\"marker\":{\"pattern\":{\"fillmode\":\"overlay\",\"size\":10,\"solidity\":0.2}},\"type\":\"histogram\"}],\"scattergl\":[{\"type\":\"scattergl\",\"marker\":{\"colorbar\":{\"outlinewidth\":0,\"ticks\":\"\"}}}],\"scatter3d\":[{\"type\":\"scatter3d\",\"line\":{\"colorbar\":{\"outlinewidth\":0,\"ticks\":\"\"}},\"marker\":{\"colorbar\":{\"outlinewidth\":0,\"ticks\":\"\"}}}],\"scattermapbox\":[{\"type\":\"scattermapbox\",\"marker\":{\"colorbar\":{\"outlinewidth\":0,\"ticks\":\"\"}}}],\"scatterternary\":[{\"type\":\"scatterternary\",\"marker\":{\"colorbar\":{\"outlinewidth\":0,\"ticks\":\"\"}}}],\"scattercarpet\":[{\"type\":\"scattercarpet\",\"marker\":{\"colorbar\":{\"outlinewidth\":0,\"ticks\":\"\"}}}],\"carpet\":[{\"aaxis\":{\"endlinecolor\":\"#2a3f5f\",\"gridcolor\":\"white\",\"linecolor\":\"white\",\"minorgridcolor\":\"white\",\"startlinecolor\":\"#2a3f5f\"},\"baxis\":{\"endlinecolor\":\"#2a3f5f\",\"gridcolor\":\"white\",\"linecolor\":\"white\",\"minorgridcolor\":\"white\",\"startlinecolor\":\"#2a3f5f\"},\"type\":\"carpet\"}],\"table\":[{\"cells\":{\"fill\":{\"color\":\"#EBF0F8\"},\"line\":{\"color\":\"white\"}},\"header\":{\"fill\":{\"color\":\"#C8D4E3\"},\"line\":{\"color\":\"white\"}},\"type\":\"table\"}],\"barpolar\":[{\"marker\":{\"line\":{\"color\":\"#E5ECF6\",\"width\":0.5},\"pattern\":{\"fillmode\":\"overlay\",\"size\":10,\"solidity\":0.2}},\"type\":\"barpolar\"}],\"pie\":[{\"automargin\":true,\"type\":\"pie\"}]},\"layout\":{\"autotypenumbers\":\"strict\",\"colorway\":[\"#636efa\",\"#EF553B\",\"#00cc96\",\"#ab63fa\",\"#FFA15A\",\"#19d3f3\",\"#FF6692\",\"#B6E880\",\"#FF97FF\",\"#FECB52\"],\"font\":{\"color\":\"#2a3f5f\"},\"hovermode\":\"closest\",\"hoverlabel\":{\"align\":\"left\"},\"paper_bgcolor\":\"white\",\"plot_bgcolor\":\"#E5ECF6\",\"polar\":{\"bgcolor\":\"#E5ECF6\",\"angularaxis\":{\"gridcolor\":\"white\",\"linecolor\":\"white\",\"ticks\":\"\"},\"radialaxis\":{\"gridcolor\":\"white\",\"linecolor\":\"white\",\"ticks\":\"\"}},\"ternary\":{\"bgcolor\":\"#E5ECF6\",\"aaxis\":{\"gridcolor\":\"white\",\"linecolor\":\"white\",\"ticks\":\"\"},\"baxis\":{\"gridcolor\":\"white\",\"linecolor\":\"white\",\"ticks\":\"\"},\"caxis\":{\"gridcolor\":\"white\",\"linecolor\":\"white\",\"ticks\":\"\"}},\"coloraxis\":{\"colorbar\":{\"outlinewidth\":0,\"ticks\":\"\"}},\"colorscale\":{\"sequential\":[[0.0,\"#0d0887\"],[0.1111111111111111,\"#46039f\"],[0.2222222222222222,\"#7201a8\"],[0.3333333333333333,\"#9c179e\"],[0.4444444444444444,\"#bd3786\"],[0.5555555555555556,\"#d8576b\"],[0.6666666666666666,\"#ed7953\"],[0.7777777777777778,\"#fb9f3a\"],[0.8888888888888888,\"#fdca26\"],[1.0,\"#f0f921\"]],\"sequentialminus\":[[0.0,\"#0d0887\"],[0.1111111111111111,\"#46039f\"],[0.2222222222222222,\"#7201a8\"],[0.3333333333333333,\"#9c179e\"],[0.4444444444444444,\"#bd3786\"],[0.5555555555555556,\"#d8576b\"],[0.6666666666666666,\"#ed7953\"],[0.7777777777777778,\"#fb9f3a\"],[0.8888888888888888,\"#fdca26\"],[1.0,\"#f0f921\"]],\"diverging\":[[0,\"#8e0152\"],[0.1,\"#c51b7d\"],[0.2,\"#de77ae\"],[0.3,\"#f1b6da\"],[0.4,\"#fde0ef\"],[0.5,\"#f7f7f7\"],[0.6,\"#e6f5d0\"],[0.7,\"#b8e186\"],[0.8,\"#7fbc41\"],[0.9,\"#4d9221\"],[1,\"#276419\"]]},\"xaxis\":{\"gridcolor\":\"white\",\"linecolor\":\"white\",\"ticks\":\"\",\"title\":{\"standoff\":15},\"zerolinecolor\":\"white\",\"automargin\":true,\"zerolinewidth\":2},\"yaxis\":{\"gridcolor\":\"white\",\"linecolor\":\"white\",\"ticks\":\"\",\"title\":{\"standoff\":15},\"zerolinecolor\":\"white\",\"automargin\":true,\"zerolinewidth\":2},\"scene\":{\"xaxis\":{\"backgroundcolor\":\"#E5ECF6\",\"gridcolor\":\"white\",\"linecolor\":\"white\",\"showbackground\":true,\"ticks\":\"\",\"zerolinecolor\":\"white\",\"gridwidth\":2},\"yaxis\":{\"backgroundcolor\":\"#E5ECF6\",\"gridcolor\":\"white\",\"linecolor\":\"white\",\"showbackground\":true,\"ticks\":\"\",\"zerolinecolor\":\"white\",\"gridwidth\":2},\"zaxis\":{\"backgroundcolor\":\"#E5ECF6\",\"gridcolor\":\"white\",\"linecolor\":\"white\",\"showbackground\":true,\"ticks\":\"\",\"zerolinecolor\":\"white\",\"gridwidth\":2}},\"shapedefaults\":{\"line\":{\"color\":\"#2a3f5f\"}},\"annotationdefaults\":{\"arrowcolor\":\"#2a3f5f\",\"arrowhead\":0,\"arrowwidth\":1},\"geo\":{\"bgcolor\":\"white\",\"landcolor\":\"#E5ECF6\",\"subunitcolor\":\"white\",\"showland\":true,\"showlakes\":true,\"lakecolor\":\"white\"},\"title\":{\"x\":0.05},\"mapbox\":{\"style\":\"light\"}}}},                        {\"responsive\": true}                    ).then(function(){\n",
              "                            \n",
              "var gd = document.getElementById('b8d34bc6-8091-4470-b301-482c4de5bb0f');\n",
              "var x = new MutationObserver(function (mutations, observer) {{\n",
              "        var display = window.getComputedStyle(gd).display;\n",
              "        if (!display || display === 'none') {{\n",
              "            console.log([gd, 'removed!']);\n",
              "            Plotly.purge(gd);\n",
              "            observer.disconnect();\n",
              "        }}\n",
              "}});\n",
              "\n",
              "// Listen for the removal of the full notebook cells\n",
              "var notebookContainer = gd.closest('#notebook-container');\n",
              "if (notebookContainer) {{\n",
              "    x.observe(notebookContainer, {childList: true});\n",
              "}}\n",
              "\n",
              "// Listen for the clearing of the current output cell\n",
              "var outputEl = gd.closest('.output');\n",
              "if (outputEl) {{\n",
              "    x.observe(outputEl, {childList: true});\n",
              "}}\n",
              "\n",
              "                        })                };                            </script>        </div>\n",
              "</body>\n",
              "</html>"
            ]
          },
          "metadata": {}
        },
        {
          "output_type": "stream",
          "name": "stdout",
          "text": [
            "boolmask shape:  torch.Size([225])\n",
            "ans shape:  torch.Size([225])\n"
          ]
        },
        {
          "output_type": "display_data",
          "data": {
            "text/html": [
              "<html>\n",
              "<head><meta charset=\"utf-8\" /></head>\n",
              "<body>\n",
              "    <div>            <script src=\"https://cdnjs.cloudflare.com/ajax/libs/mathjax/2.7.5/MathJax.js?config=TeX-AMS-MML_SVG\"></script><script type=\"text/javascript\">if (window.MathJax && window.MathJax.Hub && window.MathJax.Hub.Config) {window.MathJax.Hub.Config({SVG: {font: \"STIX-Web\"}});}</script>                <script type=\"text/javascript\">window.PlotlyConfig = {MathJaxConfig: 'local'};</script>\n",
              "        <script charset=\"utf-8\" src=\"https://cdn.plot.ly/plotly-2.35.2.min.js\"></script>                <div id=\"ce2aae28-09fe-49c3-9b63-e7384eb34c86\" class=\"plotly-graph-div\" style=\"height:525px; width:600px;\"></div>            <script type=\"text/javascript\">                                    window.PLOTLYENV=window.PLOTLYENV || {};                                    if (document.getElementById(\"ce2aae28-09fe-49c3-9b63-e7384eb34c86\")) {                    Plotly.newPlot(                        \"ce2aae28-09fe-49c3-9b63-e7384eb34c86\",                        [{\"coloraxis\":\"coloraxis\",\"name\":\"0\",\"z\":[[0,0,0,0,0,0,0,1,0,0,0,0,0,0,0],[0,0,0,0,0,0,1,1,0,0,0,0,0,0,0],[0,0,0,0,0,1,1,1,1,0,0,0,0,0,0],[0,0,0,0,1,1,1,1,1,0,0,0,0,0,0],[0,0,0,1,1,1,1,1,1,1,0,0,0,0,0],[0,0,1,1,1,1,1,1,1,1,0,0,0,0,0],[0,1,1,1,1,1,1,1,1,1,1,0,0,0,0],[1,1,1,1,1,1,1,1,1,1,1,0,0,0,0],[0,0,1,1,1,1,1,1,1,1,1,1,0,0,0],[0,0,0,0,1,1,1,1,1,1,1,1,0,0,0],[0,0,0,0,0,0,1,1,1,1,1,1,1,0,0],[0,0,0,0,0,0,0,0,1,1,1,1,1,0,0],[0,0,0,0,0,0,0,0,0,0,1,1,1,1,0],[0,0,0,0,0,0,0,0,0,0,0,0,1,1,0],[0,0,0,0,0,0,0,0,0,0,0,0,0,0,1]],\"type\":\"heatmap\",\"xaxis\":\"x\",\"yaxis\":\"y\",\"hovertemplate\":\"x: %{x}\\u003cbr\\u003ey: %{y}\\u003cbr\\u003ecolor: %{z}\\u003cextra\\u003e\\u003c\\u002fextra\\u003e\"}],                        {\"template\":{\"data\":{\"histogram2dcontour\":[{\"type\":\"histogram2dcontour\",\"colorbar\":{\"outlinewidth\":0,\"ticks\":\"\"},\"colorscale\":[[0.0,\"#0d0887\"],[0.1111111111111111,\"#46039f\"],[0.2222222222222222,\"#7201a8\"],[0.3333333333333333,\"#9c179e\"],[0.4444444444444444,\"#bd3786\"],[0.5555555555555556,\"#d8576b\"],[0.6666666666666666,\"#ed7953\"],[0.7777777777777778,\"#fb9f3a\"],[0.8888888888888888,\"#fdca26\"],[1.0,\"#f0f921\"]]}],\"choropleth\":[{\"type\":\"choropleth\",\"colorbar\":{\"outlinewidth\":0,\"ticks\":\"\"}}],\"histogram2d\":[{\"type\":\"histogram2d\",\"colorbar\":{\"outlinewidth\":0,\"ticks\":\"\"},\"colorscale\":[[0.0,\"#0d0887\"],[0.1111111111111111,\"#46039f\"],[0.2222222222222222,\"#7201a8\"],[0.3333333333333333,\"#9c179e\"],[0.4444444444444444,\"#bd3786\"],[0.5555555555555556,\"#d8576b\"],[0.6666666666666666,\"#ed7953\"],[0.7777777777777778,\"#fb9f3a\"],[0.8888888888888888,\"#fdca26\"],[1.0,\"#f0f921\"]]}],\"heatmap\":[{\"type\":\"heatmap\",\"colorbar\":{\"outlinewidth\":0,\"ticks\":\"\"},\"colorscale\":[[0.0,\"#0d0887\"],[0.1111111111111111,\"#46039f\"],[0.2222222222222222,\"#7201a8\"],[0.3333333333333333,\"#9c179e\"],[0.4444444444444444,\"#bd3786\"],[0.5555555555555556,\"#d8576b\"],[0.6666666666666666,\"#ed7953\"],[0.7777777777777778,\"#fb9f3a\"],[0.8888888888888888,\"#fdca26\"],[1.0,\"#f0f921\"]]}],\"heatmapgl\":[{\"type\":\"heatmapgl\",\"colorbar\":{\"outlinewidth\":0,\"ticks\":\"\"},\"colorscale\":[[0.0,\"#0d0887\"],[0.1111111111111111,\"#46039f\"],[0.2222222222222222,\"#7201a8\"],[0.3333333333333333,\"#9c179e\"],[0.4444444444444444,\"#bd3786\"],[0.5555555555555556,\"#d8576b\"],[0.6666666666666666,\"#ed7953\"],[0.7777777777777778,\"#fb9f3a\"],[0.8888888888888888,\"#fdca26\"],[1.0,\"#f0f921\"]]}],\"contourcarpet\":[{\"type\":\"contourcarpet\",\"colorbar\":{\"outlinewidth\":0,\"ticks\":\"\"}}],\"contour\":[{\"type\":\"contour\",\"colorbar\":{\"outlinewidth\":0,\"ticks\":\"\"},\"colorscale\":[[0.0,\"#0d0887\"],[0.1111111111111111,\"#46039f\"],[0.2222222222222222,\"#7201a8\"],[0.3333333333333333,\"#9c179e\"],[0.4444444444444444,\"#bd3786\"],[0.5555555555555556,\"#d8576b\"],[0.6666666666666666,\"#ed7953\"],[0.7777777777777778,\"#fb9f3a\"],[0.8888888888888888,\"#fdca26\"],[1.0,\"#f0f921\"]]}],\"surface\":[{\"type\":\"surface\",\"colorbar\":{\"outlinewidth\":0,\"ticks\":\"\"},\"colorscale\":[[0.0,\"#0d0887\"],[0.1111111111111111,\"#46039f\"],[0.2222222222222222,\"#7201a8\"],[0.3333333333333333,\"#9c179e\"],[0.4444444444444444,\"#bd3786\"],[0.5555555555555556,\"#d8576b\"],[0.6666666666666666,\"#ed7953\"],[0.7777777777777778,\"#fb9f3a\"],[0.8888888888888888,\"#fdca26\"],[1.0,\"#f0f921\"]]}],\"mesh3d\":[{\"type\":\"mesh3d\",\"colorbar\":{\"outlinewidth\":0,\"ticks\":\"\"}}],\"scatter\":[{\"fillpattern\":{\"fillmode\":\"overlay\",\"size\":10,\"solidity\":0.2},\"type\":\"scatter\"}],\"parcoords\":[{\"type\":\"parcoords\",\"line\":{\"colorbar\":{\"outlinewidth\":0,\"ticks\":\"\"}}}],\"scatterpolargl\":[{\"type\":\"scatterpolargl\",\"marker\":{\"colorbar\":{\"outlinewidth\":0,\"ticks\":\"\"}}}],\"bar\":[{\"error_x\":{\"color\":\"#2a3f5f\"},\"error_y\":{\"color\":\"#2a3f5f\"},\"marker\":{\"line\":{\"color\":\"#E5ECF6\",\"width\":0.5},\"pattern\":{\"fillmode\":\"overlay\",\"size\":10,\"solidity\":0.2}},\"type\":\"bar\"}],\"scattergeo\":[{\"type\":\"scattergeo\",\"marker\":{\"colorbar\":{\"outlinewidth\":0,\"ticks\":\"\"}}}],\"scatterpolar\":[{\"type\":\"scatterpolar\",\"marker\":{\"colorbar\":{\"outlinewidth\":0,\"ticks\":\"\"}}}],\"histogram\":[{\"marker\":{\"pattern\":{\"fillmode\":\"overlay\",\"size\":10,\"solidity\":0.2}},\"type\":\"histogram\"}],\"scattergl\":[{\"type\":\"scattergl\",\"marker\":{\"colorbar\":{\"outlinewidth\":0,\"ticks\":\"\"}}}],\"scatter3d\":[{\"type\":\"scatter3d\",\"line\":{\"colorbar\":{\"outlinewidth\":0,\"ticks\":\"\"}},\"marker\":{\"colorbar\":{\"outlinewidth\":0,\"ticks\":\"\"}}}],\"scattermapbox\":[{\"type\":\"scattermapbox\",\"marker\":{\"colorbar\":{\"outlinewidth\":0,\"ticks\":\"\"}}}],\"scatterternary\":[{\"type\":\"scatterternary\",\"marker\":{\"colorbar\":{\"outlinewidth\":0,\"ticks\":\"\"}}}],\"scattercarpet\":[{\"type\":\"scattercarpet\",\"marker\":{\"colorbar\":{\"outlinewidth\":0,\"ticks\":\"\"}}}],\"carpet\":[{\"aaxis\":{\"endlinecolor\":\"#2a3f5f\",\"gridcolor\":\"white\",\"linecolor\":\"white\",\"minorgridcolor\":\"white\",\"startlinecolor\":\"#2a3f5f\"},\"baxis\":{\"endlinecolor\":\"#2a3f5f\",\"gridcolor\":\"white\",\"linecolor\":\"white\",\"minorgridcolor\":\"white\",\"startlinecolor\":\"#2a3f5f\"},\"type\":\"carpet\"}],\"table\":[{\"cells\":{\"fill\":{\"color\":\"#EBF0F8\"},\"line\":{\"color\":\"white\"}},\"header\":{\"fill\":{\"color\":\"#C8D4E3\"},\"line\":{\"color\":\"white\"}},\"type\":\"table\"}],\"barpolar\":[{\"marker\":{\"line\":{\"color\":\"#E5ECF6\",\"width\":0.5},\"pattern\":{\"fillmode\":\"overlay\",\"size\":10,\"solidity\":0.2}},\"type\":\"barpolar\"}],\"pie\":[{\"automargin\":true,\"type\":\"pie\"}]},\"layout\":{\"autotypenumbers\":\"strict\",\"colorway\":[\"#636efa\",\"#EF553B\",\"#00cc96\",\"#ab63fa\",\"#FFA15A\",\"#19d3f3\",\"#FF6692\",\"#B6E880\",\"#FF97FF\",\"#FECB52\"],\"font\":{\"color\":\"#2a3f5f\"},\"hovermode\":\"closest\",\"hoverlabel\":{\"align\":\"left\"},\"paper_bgcolor\":\"white\",\"plot_bgcolor\":\"#E5ECF6\",\"polar\":{\"bgcolor\":\"#E5ECF6\",\"angularaxis\":{\"gridcolor\":\"white\",\"linecolor\":\"white\",\"ticks\":\"\"},\"radialaxis\":{\"gridcolor\":\"white\",\"linecolor\":\"white\",\"ticks\":\"\"}},\"ternary\":{\"bgcolor\":\"#E5ECF6\",\"aaxis\":{\"gridcolor\":\"white\",\"linecolor\":\"white\",\"ticks\":\"\"},\"baxis\":{\"gridcolor\":\"white\",\"linecolor\":\"white\",\"ticks\":\"\"},\"caxis\":{\"gridcolor\":\"white\",\"linecolor\":\"white\",\"ticks\":\"\"}},\"coloraxis\":{\"colorbar\":{\"outlinewidth\":0,\"ticks\":\"\"}},\"colorscale\":{\"sequential\":[[0.0,\"#0d0887\"],[0.1111111111111111,\"#46039f\"],[0.2222222222222222,\"#7201a8\"],[0.3333333333333333,\"#9c179e\"],[0.4444444444444444,\"#bd3786\"],[0.5555555555555556,\"#d8576b\"],[0.6666666666666666,\"#ed7953\"],[0.7777777777777778,\"#fb9f3a\"],[0.8888888888888888,\"#fdca26\"],[1.0,\"#f0f921\"]],\"sequentialminus\":[[0.0,\"#0d0887\"],[0.1111111111111111,\"#46039f\"],[0.2222222222222222,\"#7201a8\"],[0.3333333333333333,\"#9c179e\"],[0.4444444444444444,\"#bd3786\"],[0.5555555555555556,\"#d8576b\"],[0.6666666666666666,\"#ed7953\"],[0.7777777777777778,\"#fb9f3a\"],[0.8888888888888888,\"#fdca26\"],[1.0,\"#f0f921\"]],\"diverging\":[[0,\"#8e0152\"],[0.1,\"#c51b7d\"],[0.2,\"#de77ae\"],[0.3,\"#f1b6da\"],[0.4,\"#fde0ef\"],[0.5,\"#f7f7f7\"],[0.6,\"#e6f5d0\"],[0.7,\"#b8e186\"],[0.8,\"#7fbc41\"],[0.9,\"#4d9221\"],[1,\"#276419\"]]},\"xaxis\":{\"gridcolor\":\"white\",\"linecolor\":\"white\",\"ticks\":\"\",\"title\":{\"standoff\":15},\"zerolinecolor\":\"white\",\"automargin\":true,\"zerolinewidth\":2},\"yaxis\":{\"gridcolor\":\"white\",\"linecolor\":\"white\",\"ticks\":\"\",\"title\":{\"standoff\":15},\"zerolinecolor\":\"white\",\"automargin\":true,\"zerolinewidth\":2},\"scene\":{\"xaxis\":{\"backgroundcolor\":\"#E5ECF6\",\"gridcolor\":\"white\",\"linecolor\":\"white\",\"showbackground\":true,\"ticks\":\"\",\"zerolinecolor\":\"white\",\"gridwidth\":2},\"yaxis\":{\"backgroundcolor\":\"#E5ECF6\",\"gridcolor\":\"white\",\"linecolor\":\"white\",\"showbackground\":true,\"ticks\":\"\",\"zerolinecolor\":\"white\",\"gridwidth\":2},\"zaxis\":{\"backgroundcolor\":\"#E5ECF6\",\"gridcolor\":\"white\",\"linecolor\":\"white\",\"showbackground\":true,\"ticks\":\"\",\"zerolinecolor\":\"white\",\"gridwidth\":2}},\"shapedefaults\":{\"line\":{\"color\":\"#2a3f5f\"}},\"annotationdefaults\":{\"arrowcolor\":\"#2a3f5f\",\"arrowhead\":0,\"arrowwidth\":1},\"geo\":{\"bgcolor\":\"white\",\"landcolor\":\"#E5ECF6\",\"subunitcolor\":\"white\",\"showland\":true,\"showlakes\":true,\"lakecolor\":\"white\"},\"title\":{\"x\":0.05},\"mapbox\":{\"style\":\"light\"}}},\"xaxis\":{\"anchor\":\"y\",\"domain\":[0.0,1.0],\"scaleanchor\":\"y\",\"constrain\":\"domain\"},\"yaxis\":{\"anchor\":\"x\",\"domain\":[0.0,1.0],\"autorange\":true,\"constrain\":\"domain\"},\"coloraxis\":{\"colorscale\":[[0.0,\"rgb(103,0,31)\"],[0.1,\"rgb(178,24,43)\"],[0.2,\"rgb(214,96,77)\"],[0.3,\"rgb(244,165,130)\"],[0.4,\"rgb(253,219,199)\"],[0.5,\"rgb(247,247,247)\"],[0.6,\"rgb(209,229,240)\"],[0.7,\"rgb(146,197,222)\"],[0.8,\"rgb(67,147,195)\"],[0.9,\"rgb(33,102,172)\"],[1.0,\"rgb(5,48,97)\"]],\"cmid\":0.0},\"title\":{\"text\":\"Triangle (as intersected by rays)\"},\"width\":600},                        {\"displaylogo\": false, \"responsive\": true}                    ).then(function(){\n",
              "                            \n",
              "var gd = document.getElementById('ce2aae28-09fe-49c3-9b63-e7384eb34c86');\n",
              "var x = new MutationObserver(function (mutations, observer) {{\n",
              "        var display = window.getComputedStyle(gd).display;\n",
              "        if (!display || display === 'none') {{\n",
              "            console.log([gd, 'removed!']);\n",
              "            Plotly.purge(gd);\n",
              "            observer.disconnect();\n",
              "        }}\n",
              "}});\n",
              "\n",
              "// Listen for the removal of the full notebook cells\n",
              "var notebookContainer = gd.closest('#notebook-container');\n",
              "if (notebookContainer) {{\n",
              "    x.observe(notebookContainer, {childList: true});\n",
              "}}\n",
              "\n",
              "// Listen for the clearing of the current output cell\n",
              "var outputEl = gd.closest('.output');\n",
              "if (outputEl) {{\n",
              "    x.observe(outputEl, {childList: true});\n",
              "}}\n",
              "\n",
              "                        })                };                            </script>        </div>\n",
              "</body>\n",
              "</html>"
            ]
          },
          "metadata": {}
        }
      ],
      "source": [
        "def raytrace_triangle(\n",
        "    rays: Float[Tensor, \"nrays rayPoints=2 dims=3\"], triangle: Float[Tensor, \"trianglePoints=3 dims=3\"]\n",
        ") -> Bool[Tensor, \"nrays\"]:\n",
        "    \"\"\"\n",
        "    For each ray, return True if the triangle intersects that ray.\n",
        "    \"\"\"\n",
        "    A = triangle[0]\n",
        "    B = triangle[1]\n",
        "    C = triangle[2]\n",
        "    O = rays[:, 0]\n",
        "    D = rays[:, 1]\n",
        "\n",
        "    mats = t.stack([-D, einops.repeat(B-A, 'i -> n i', n=rays.shape[0]), einops.repeat(C-A, 'i -> n i', n=rays.shape[0])], dim=-1)\n",
        "    vecs = O-A #O has shape (nrays, 3) and A has shape (3,) so broadcast\n",
        "    boolmask = t.linalg.det(mats) <= 1e-8 #set to true if breaks because det is 0\n",
        "    print(\"boolmask shape: \", boolmask.shape)\n",
        "    mats[boolmask] = t.eye(3)\n",
        "    sol = t.linalg.solve(mats, vecs) #returns s, u, v for each\n",
        "\n",
        "    ans = (sol[:, 0] >= 0) & (sol[:, 1] >= 0) & (sol[:, 2] >= 0) & (sol[:, 1]+sol[:, 2] <= 1)\n",
        "    print(\"ans shape: \", ans.shape)\n",
        "    ans[boolmask] = 0\n",
        "    return ans\n",
        "\n",
        "\n",
        "A = t.tensor([1, 0.0, -0.5])\n",
        "B = t.tensor([1, -0.5, 0.0])\n",
        "C = t.tensor([1, 0.5, 0.5])\n",
        "num_pixels_y = num_pixels_z = 15\n",
        "y_limit = z_limit = 0.5\n",
        "\n",
        "# Plot triangle & rays\n",
        "test_triangle = t.stack([A, B, C], dim=0)\n",
        "rays2d = make_rays_2d(num_pixels_y, num_pixels_z, y_limit, z_limit)\n",
        "triangle_lines = t.stack([A, B, C, A, B, C], dim=0).reshape(-1, 2, 3)\n",
        "render_lines_with_plotly(rays2d, triangle_lines)\n",
        "\n",
        "# Calculate and display intersections\n",
        "intersects = raytrace_triangle(rays2d, test_triangle)\n",
        "img = intersects.reshape(num_pixels_y, num_pixels_z).int()\n",
        "imshow(img, origin=\"lower\", width=600, title=\"Triangle (as intersected by rays)\")"
      ]
    },
    {
      "cell_type": "markdown",
      "metadata": {
        "id": "tisD18bGc7B7"
      },
      "source": [
        "<details><summary>Solution</summary>\n",
        "\n",
        "```python\n",
        "def raytrace_triangle(\n",
        "    rays: Float[Tensor, \"nrays rayPoints=2 dims=3\"], triangle: Float[Tensor, \"trianglePoints=3 dims=3\"]\n",
        ") -> Bool[Tensor, \"nrays\"]:\n",
        "    \"\"\"\n",
        "    For each ray, return True if the triangle intersects that ray.\n",
        "    \"\"\"\n",
        "    NR = rays.size(0)\n",
        "\n",
        "    # Triangle is [[Ax, Ay, Az], [Bx, By, Bz], [Cx, Cy, Cz]]\n",
        "    A, B, C = einops.repeat(triangle, \"pts dims -> pts NR dims\", NR=NR)\n",
        "    assert A.shape == (NR, 3)\n",
        "\n",
        "    # Each element of `rays` is [[Ox, Oy, Oz], [Dx, Dy, Dz]]\n",
        "    O, D = rays.unbind(dim=1)\n",
        "    assert O.shape == (NR, 3)\n",
        "\n",
        "    # Define matrix on left hand side of equation\n",
        "    mat: Float[Tensor, \"NR 3 3\"] = t.stack([-D, B - A, C - A], dim=-1)\n",
        "\n",
        "    # Get boolean of where matrix is singular, and replace it with the identity in these positions\n",
        "    # Note - this works because mat[is_singular] has shape (NR_where_singular, 3, 3), so we\n",
        "    # can broadcast the identity matrix to that shape.\n",
        "    dets: Float[Tensor, \"NR\"] = t.linalg.det(mat)\n",
        "    is_singular = dets.abs() < 1e-8\n",
        "    mat[is_singular] = t.eye(3)\n",
        "\n",
        "    # Define vector on the right hand side of equation\n",
        "    vec = O - A\n",
        "\n",
        "    # Solve eqns\n",
        "    sol: Float[Tensor, \"NR 3\"] = t.linalg.solve(mat, vec)\n",
        "    s, u, v = sol.unbind(dim=-1)\n",
        "\n",
        "    # Return boolean of (matrix is nonsingular) && (solution is in correct range implying intersection)\n",
        "    return (s >= 0) & (u >= 0) & (v >= 0) & (u + v <= 1) & ~is_singular\n",
        "```\n",
        "</details>"
      ]
    },
    {
      "cell_type": "markdown",
      "metadata": {
        "id": "IsLyrTQcc7B7"
      },
      "source": [
        "## Debugging"
      ]
    },
    {
      "cell_type": "markdown",
      "metadata": {
        "id": "tjDP1ObGc7B8"
      },
      "source": [
        "Debugging code is an extremely important thing to learn. Just like using GPT to assist your coding, it's something that can significantly speedrun your development, and stop you getting hung up on all the frustrating things!\n",
        "\n",
        "To give you practice debugging using VSCode's built-in debugger\\*, we've provided an example function below. This is an implementation of `raytrace_triangle` which has a few mistakes in it. Your task is to use the debugger to find the mistake and fix it. (Note - you're encouraged to actually use the debugger, rather than comparing it to the solution above!)"
      ]
    },
    {
      "cell_type": "markdown",
      "metadata": {
        "id": "Pm1SCVCcc7B8"
      },
      "source": [
        "<details>\n",
        "<summary>Incorrect function</summary>\n",
        "\n",
        "```python\n",
        "def raytrace_triangle_with_bug(\n",
        "    rays: Float[Tensor, \"nrays rayPoints=2 dims=3\"],\n",
        "    triangle: Float[Tensor, \"trianglePoints=3 dims=3\"]\n",
        ") -> Bool[Tensor, \"nrays\"]:\n",
        "    '''\n",
        "    For each ray, return True if the triangle intersects that ray.\n",
        "    '''\n",
        "    NR = rays.size[0]\n",
        "\n",
        "    A, B, C = einops.repeat(triangle, \"pts dims -> pts NR dims\", NR=NR)\n",
        "\n",
        "    O, D = rays.unbind(-1)\n",
        "\n",
        "    mat = t.stack([- D, B - A, C - A])\n",
        "    \n",
        "    dets = t.linalg.det(mat)\n",
        "    is_singular = dets.abs() < 1e-8\n",
        "    mat[is_singular] = t.eye(3)\n",
        "\n",
        "    vec = O - A\n",
        "\n",
        "    sol = t.linalg.solve(mat, vec)\n",
        "    s, u, v = sol.unbind(dim=-1)\n",
        "\n",
        "    return ((u >= 0) & (v >= 0) & (u + v <= 1) & ~is_singular)\n",
        "\n",
        "\n",
        "intersects = raytrace_triangle_with_bug(rays2d, test_triangle)\n",
        "img = intersects.reshape(num_pixels_y, num_pixels_z).int()\n",
        "imshow(img, origin=\"lower\", width=600, title=\"Triangle (as intersected by rays)\")\n",
        "```\n",
        "</details>"
      ]
    },
    {
      "cell_type": "markdown",
      "metadata": {
        "id": "sL1Uf19mc7B8"
      },
      "source": [
        "You can debug a cell by clicking on the **Debug cell** option at the bottom of your cell. Your cell should contain the code that is actually run to cause an error (rather than needing to contain the function which is the source of the error). Before you run your debugger, you can set breakpoints by clicking on the left-hand side of the line number (a red dot will appear). You can then step through your code, using the toolbar of buttons which will appear when you run the debugger (see [here](https://pawelgrzybek.com/continue-step-over-step-into-and-step-out-actions-in-visual-studio-code-debugger-explained/) for an explanation of what each of the buttons does). When you reach a breakpoint, you can use the following tools:\n",
        "\n",
        "* Inspect local and global variables, in the **VARIABLES** window that appears on the left sidebar.\n",
        "* Add variables expressions to watch, in the **WATCH** window that appears on the left sidebar.\n",
        "    * You can just type in any expression here, e.g. the type of a variable or the length of a list, and this will update as you step through the function.\n",
        "* Evaluate expressions on a one-time basis, by typing them into the **DEBUG CONSOLE** (which appears at the bottom of the screen)\n",
        "\n",
        "Note, when you run the debugger, it will stop *before* the breakpoint line is evaluated. So if you've run a cell and got an error on a specific line, then *that* is the line you want to set a breakpoint on.\n",
        "\n",
        "*This all works basically the same if you're in a notebook in VSCode, except for a few changes e.g. the debug button is on the dropdown at the top-left of the cell (if it doesn't appear for you then you'll need to go into user settings and add the line `\"notebook.consolidatedRunButton\": true`).*\n",
        "\n",
        "There's much more detail we could go into about debugging, but this will suffice for most purposes. It's generally a much more efficient way of debugging than using print statements or asserts (although these can also be helpful in some situations)."
      ]
    },
    {
      "cell_type": "markdown",
      "metadata": {
        "id": "Ens_pPEzc7B8"
      },
      "source": [
        "<details>\n",
        "<summary>Answer - what are the bugs, and how can they be fixed?</summary>\n",
        "\n",
        "```python\n",
        "NR = rays.size[0]\n",
        "```\n",
        "\n",
        "This should be `rays.size(0)` (or equivalently, `rays.shape[0]`). `size` is a method which takes an int and returns the size of that dimension; `shape` returns a `torch.Size` object which can be indexed into.\n",
        "\n",
        "This would have been pretty easy to realise without using the debugger, because the error message is informative.\n",
        "\n",
        "```python\n",
        "O, D = rays.unbind(-1)\n",
        "```\n",
        "\n",
        "We're unbinding from the wrong dimension. `rays` has shape `(nrays, points=2, dims=3)`, and we actually want to unbind along the `points` dimension. So we should use `rays.unbind(1)`.\n",
        "\n",
        "We could have found this by inspecting the `rays` object in the variables pane (you can click on the dropdown next to the variable name to look at its attributes, including `shape`), or you could just type `rays.shape` into the debug console. However, this error should also have been apparent given the type signature of the function (a good case for using typing!).\n",
        "\n",
        "```python\n",
        "mat = t.stack([- D, B - A, C - A])\n",
        "```\n",
        "\n",
        "This should have had the argument `dim=-1` on the end, because `torch.stack` by default stacks along the first dimension.\n",
        "\n",
        "This error is a bit harder to diagnose, because the line causing an error is after the line containing the mistake. Again, we could have diagnosed this with the debugger by inspecting the shape of our `mat` tensor in the variables pane.\n",
        "\n",
        "---\n",
        "\n",
        "These were all relatively easy bugs to diagnose (not all bugs will present as actual errors in your code, some might just be an unexpected set of results). But hopefully this has given you a sense for how to use the debugger. It's a very powerful tool, and can save you a lot of time!\n",
        "</details>"
      ]
    },
    {
      "cell_type": "markdown",
      "metadata": {
        "id": "NvdSmcJ3c7B8"
      },
      "source": [
        "\\**If you're using Colab, you'll have to use different strategies for debugging. See [this page](https://zohaib.me/debugging-in-google-collab-notebook/) for one suggested approach.*"
      ]
    },
    {
      "cell_type": "markdown",
      "metadata": {
        "id": "jzNkXUeXc7B8"
      },
      "source": [
        "## Mesh Loading\n",
        "\n",
        "Use the given code to load the triangles for your Pikachu. By convention, files written with `torch.save` end in the `.pt` extension, but these are actually just zip files."
      ]
    },
    {
      "cell_type": "code",
      "execution_count": 39,
      "metadata": {
        "id": "TM9jgp2Sc7B8"
      },
      "outputs": [],
      "source": [
        "triangles = t.load(section_dir / \"pikachu.pt\", weights_only=True)"
      ]
    },
    {
      "cell_type": "markdown",
      "metadata": {
        "id": "7a5NuS_Nc7B8"
      },
      "source": [
        "## Mesh Rendering\n",
        "\n",
        "For our purposes, a mesh is just a group of triangles, so to render it we'll intersect all rays and all triangles at once. We previously just returned a boolean for whether a given ray intersects the triangle, but now it's possible that more than one triangle intersects a given ray.\n",
        "\n",
        "For each ray (pixel) we will return a float representing the minimum distance to a triangle if applicable, otherwise the special value `float('inf')` representing infinity. We won't return which triangle was intersected for now.\n",
        "\n",
        "Note - by distance to a triangle, we specifically mean **distance along the x-dimension**, not Euclidean distance."
      ]
    },
    {
      "cell_type": "markdown",
      "metadata": {
        "id": "B8DS7I-Rc7B8"
      },
      "source": [
        "### Exercise - implement `raytrace_mesh`\n",
        "\n",
        "> ```yaml\n",
        "> Difficulty: 🔴🔴🔴⚪⚪\n",
        "> Importance: 🔵🔵🔵🔵⚪\n",
        ">\n",
        "> You should spend up to 20-25 minutes on this exercise.\n",
        ">\n",
        "> This is the main function we've been building towards, and marks the end of the core exercises. If should involve a lot of repurposed code from the last excercise.\n",
        "> ```\n",
        "\n",
        "Implement `raytrace_mesh` and as before, reshape and visualize the output. Your Pikachu is centered on (0, 0, 0), so you'll want to slide the ray origin back to at least `x=-2` to see it properly.\n",
        "\n",
        "Reminder - `t.linalg.solve` (and most batched operations) can accept multiple dimensions as being batch dims. Previously, you've just used `NR` (the number of rays) as the batch dimension, but you can also use `(NR, NT)` (the number of rays and triangles) as your batch dimensions, so you can solve for all rays and triangles at once."
      ]
    },
    {
      "cell_type": "code",
      "execution_count": 41,
      "metadata": {
        "colab": {
          "base_uri": "https://localhost:8080/",
          "height": 542
        },
        "id": "HbZQY0Byc7B8",
        "outputId": "d3ee5228-f8d5-4842-b615-35463575eaa2"
      },
      "outputs": [
        {
          "output_type": "display_data",
          "data": {
            "text/html": [
              "<html>\n",
              "<head><meta charset=\"utf-8\" /></head>\n",
              "<body>\n",
              "    <div>            <script src=\"https://cdnjs.cloudflare.com/ajax/libs/mathjax/2.7.5/MathJax.js?config=TeX-AMS-MML_SVG\"></script><script type=\"text/javascript\">if (window.MathJax && window.MathJax.Hub && window.MathJax.Hub.Config) {window.MathJax.Hub.Config({SVG: {font: \"STIX-Web\"}});}</script>                <script type=\"text/javascript\">window.PlotlyConfig = {MathJaxConfig: 'local'};</script>\n",
              "        <script charset=\"utf-8\" src=\"https://cdn.plot.ly/plotly-2.35.2.min.js\"></script>                <div id=\"61adbbae-6a9c-44a8-8e59-728490fe8244\" class=\"plotly-graph-div\" style=\"height:525px; width:1000px;\"></div>            <script type=\"text/javascript\">                                    window.PLOTLYENV=window.PLOTLYENV || {};                                    if (document.getElementById(\"61adbbae-6a9c-44a8-8e59-728490fe8244\")) {                    Plotly.newPlot(                        \"61adbbae-6a9c-44a8-8e59-728490fe8244\",                        [{\"coloraxis\":\"coloraxis\",\"name\":\"0\",\"z\":[[1.0,1.0,1.0,1.0,1.0,1.0,1.0,1.0,1.0,1.0,1.0,1.0,1.0,1.0,1.0,1.0,1.0,1.0,1.0,1.0,1.0,1.0,1.0,1.0,1.0,1.0,1.0,1.0,1.0,1.0,1.0,1.0,1.0,1.0,1.0,1.0,1.0,1.0,1.0,1.0,1.0,1.0,1.0,1.0,1.0,1.0,1.0,1.0,1.0,1.0,1.0,1.0,1.0,1.0,1.0,1.0,1.0,1.0,1.0,1.0,1.0,1.0,1.0,1.0,1.0,1.0,1.0,1.0,1.0,1.0,1.0,1.0,1.0,1.0,1.0,1.0,1.0,1.0,1.0,1.0,1.0,1.0,1.0,1.0,1.0,1.0,1.0,1.0,1.0,1.0,1.0,1.0,1.0,1.0,1.0,1.0,1.0,1.0,1.0,1.0,1.0,1.0,1.0,1.0,1.0,1.0,1.0,1.0,1.0,1.0,1.0,1.0,1.0,1.0,1.0,1.0,1.0,1.0,1.0,1.0],[1.0,1.0,1.0,1.0,1.0,1.0,1.0,1.0,1.0,1.0,1.0,1.0,1.0,1.0,1.0,1.0,1.0,1.0,1.0,1.0,1.0,1.0,1.0,1.0,1.0,1.0,1.0,1.0,1.0,1.0,1.0,1.0,1.0,1.0,1.0,1.0,1.0,1.0,1.0,1.0,1.0,1.0,1.0,1.0,1.0,1.0,1.0,1.0,1.0,1.0,1.0,1.0,1.0,1.0,1.0,1.0,1.0,1.0,1.0,1.0,1.0,1.0,1.0,1.0,1.0,1.0,1.0,1.0,1.0,1.0,1.0,1.0,1.0,1.0,1.0,1.0,1.0,1.0,1.0,1.0,1.0,1.0,1.0,1.0,1.0,1.0,1.0,1.0,1.0,1.0,1.0,1.0,1.0,1.0,1.0,1.0,1.0,1.0,1.0,1.0,1.0,1.0,1.0,1.0,1.0,1.0,1.0,1.0,1.0,1.0,1.0,1.0,1.0,1.0,1.0,1.0,1.0,1.0,1.0,1.0],[1.0,1.0,1.0,1.0,1.0,1.0,1.0,1.0,1.0,1.0,1.0,1.0,1.0,1.0,1.0,1.0,1.0,1.0,1.0,1.0,1.0,1.0,1.0,1.0,1.0,1.0,1.0,1.0,1.0,1.0,1.0,1.0,1.0,1.0,1.0,1.0,1.0,1.0,1.0,1.0,1.0,1.0,1.0,1.0,1.0,1.0,1.0,1.0,1.0,1.0,1.0,1.0,1.0,1.0,1.0,1.0,1.0,1.0,1.0,1.0,1.0,1.0,1.0,1.0,1.0,1.0,1.0,1.0,1.0,1.0,1.0,1.0,1.0,1.0,1.0,1.0,1.0,1.0,1.0,1.0,1.0,1.0,1.0,1.0,1.0,1.0,1.0,1.0,1.0,1.0,1.0,1.0,1.0,1.0,1.0,1.0,1.0,1.0,1.0,1.0,1.0,1.0,1.0,1.0,1.0,1.0,1.0,1.0,1.0,1.0,1.0,1.0,1.0,1.0,1.0,1.0,1.0,1.0,1.0,1.0],[1.0,1.0,1.0,1.0,1.0,1.0,1.0,1.0,1.0,1.0,1.0,1.0,1.0,1.0,1.0,1.0,1.0,1.0,1.0,1.0,1.0,1.0,1.0,1.0,1.0,1.0,1.0,1.0,1.0,1.0,1.0,1.0,1.0,1.0,1.0,1.0,1.0,1.0,1.0,1.0,1.0,1.0,1.0,1.0,1.0,1.0,1.0,1.0,1.0,1.0,1.0,1.0,1.0,1.0,1.0,1.0,1.0,1.0,1.0,1.0,1.0,1.0,1.0,1.0,1.0,1.0,1.0,1.0,1.0,1.0,1.0,1.0,1.0,1.0,1.0,1.0,1.0,1.0,1.0,1.0,1.0,1.0,1.0,1.0,1.0,1.0,1.0,1.0,1.0,1.0,1.0,1.0,1.0,1.0,1.0,1.0,1.0,1.0,1.0,1.0,1.0,1.0,1.0,1.0,1.0,1.0,1.0,1.0,1.0,1.0,1.0,1.0,1.0,1.0,1.0,1.0,1.0,1.0,1.0,1.0],[1.0,1.0,1.0,1.0,1.0,1.0,1.0,1.0,1.0,1.0,1.0,1.0,1.0,1.0,1.0,1.0,1.0,1.0,1.0,1.0,1.0,1.0,1.0,1.0,1.0,1.0,1.0,1.0,1.0,1.0,1.0,1.0,1.0,1.0,1.0,1.0,1.0,1.0,1.0,1.0,1.0,1.0,1.0,1.0,1.0,1.0,1.0,1.0,1.0,1.0,1.0,1.0,1.0,1.0,1.0,1.0,1.0,1.0,1.0,1.0,1.0,1.0,1.0,1.0,1.0,1.0,1.0,1.0,1.0,1.0,1.0,1.0,1.0,1.0,1.0,1.0,1.0,1.0,1.0,1.0,1.0,1.0,1.0,1.0,1.0,1.0,1.0,1.0,1.0,1.0,1.0,1.0,1.0,1.0,1.0,1.0,1.0,1.0,1.0,1.0,1.0,1.0,1.0,1.0,1.0,1.0,1.0,1.0,1.0,1.0,1.0,1.0,1.0,1.0,1.0,1.0,1.0,1.0,1.0,1.0],[1.0,1.0,1.0,1.0,1.0,1.0,1.0,1.0,1.0,1.0,1.0,1.0,1.0,1.0,1.0,1.0,1.0,1.0,1.0,1.0,1.0,1.0,1.0,1.0,1.0,1.0,1.0,1.0,1.0,1.0,1.0,1.0,1.0,1.0,1.0,1.0,1.0,1.0,1.0,1.0,1.0,1.0,1.0,1.0,1.0,1.0,1.0,1.0,1.0,1.0,1.0,1.0,1.0,1.0,1.0,1.0,1.0,1.0,1.0,1.0,1.0,1.0,1.0,1.0,1.0,1.0,1.0,1.0,1.0,1.0,1.0,1.0,1.0,1.0,1.0,1.0,1.0,1.0,1.0,1.0,1.0,1.0,1.0,1.0,1.0,1.0,1.0,1.0,1.0,1.0,1.0,1.0,1.0,1.0,1.0,1.0,1.0,1.0,1.0,1.0,1.0,1.0,1.0,1.0,1.0,1.0,1.0,1.0,1.0,1.0,1.0,1.0,1.0,1.0,1.0,1.0,1.0,1.0,1.0,1.0],[1.0,1.0,1.0,1.0,1.0,1.0,1.0,1.0,1.0,1.0,1.0,1.0,1.0,1.0,1.0,1.0,1.0,1.0,1.0,1.0,1.0,1.0,1.0,1.0,1.0,1.0,1.0,1.0,1.0,1.0,1.0,1.0,1.0,1.0,1.0,1.0,1.0,1.0,1.0,1.0,1.0,1.0,1.0,1.0,1.0,1.0,1.0,1.0,1.0,1.0,1.0,1.0,1.0,1.0,1.0,1.0,1.0,1.0,1.0,1.0,1.0,1.0,1.0,1.0,1.0,1.0,1.0,1.0,1.0,1.0,1.0,1.0,1.0,1.0,1.0,1.0,1.0,1.0,1.0,1.0,1.0,1.0,1.0,1.0,1.0,1.0,1.0,1.0,1.0,1.0,1.0,1.0,1.0,1.0,1.0,1.0,1.0,1.0,1.0,1.0,1.0,1.0,1.0,1.0,1.0,1.0,1.0,1.0,1.0,1.0,1.0,1.0,1.0,1.0,1.0,1.0,1.0,1.0,1.0,1.0],[1.0,1.0,1.0,1.0,1.0,1.0,1.0,1.0,1.0,1.0,1.0,1.0,1.0,1.0,1.0,1.0,1.0,1.0,1.0,1.0,1.0,1.0,1.0,1.0,1.0,1.0,1.0,1.0,1.0,1.0,1.0,1.0,1.0,1.0,1.0,1.0,1.0,1.0,1.0,1.0,1.0,1.0,1.0,1.0,1.0,1.0,1.0,1.0,1.0,1.0,1.0,1.0,1.0,1.0,1.0,1.0,1.0,1.0,1.0,1.0,1.0,1.0,1.0,1.0,1.0,1.0,1.0,1.0,1.0,1.0,1.0,1.0,1.0,1.0,1.0,1.0,1.0,1.0,1.0,1.0,1.0,1.0,1.0,1.0,1.0,1.0,1.0,1.0,1.0,1.0,1.0,1.0,1.0,1.0,1.0,1.0,1.0,1.0,1.0,1.0,1.0,1.0,1.0,1.0,1.0,1.0,1.0,1.0,1.0,1.0,1.0,1.0,1.0,1.0,1.0,1.0,1.0,1.0,1.0,1.0],[1.0,1.0,1.0,1.0,1.0,1.0,1.0,1.0,1.0,1.0,1.0,1.0,1.0,1.0,1.0,1.0,1.0,1.0,1.0,1.0,1.0,1.0,1.0,1.0,1.0,1.0,1.0,1.0,1.0,1.0,1.0,1.0,1.0,1.0,1.0,1.0,1.0,1.0,1.0,1.0,1.0,1.0,1.0,1.0,1.0,1.0,1.0,1.0,1.0,1.0,1.0,1.0,1.0,1.0,1.0,1.0,1.0,1.0,1.0,1.0,1.0,1.0,1.0,1.0,1.0,1.0,1.0,1.0,1.0,1.0,1.0,1.0,1.0,1.0,1.0,1.0,1.0,1.0,1.0,1.0,1.0,1.0,1.0,1.0,1.0,1.0,1.0,1.0,1.0,1.0,1.0,1.0,1.0,1.0,1.0,1.0,1.0,1.0,1.0,1.0,1.0,1.0,1.0,1.0,1.0,1.0,1.0,1.0,1.0,1.0,1.0,1.0,1.0,1.0,1.0,1.0,1.0,1.0,1.0,1.0],[1.0,1.0,1.0,1.0,1.0,1.0,1.0,1.0,1.0,1.0,1.0,1.0,1.0,1.0,1.0,1.0,1.0,1.0,1.0,1.0,1.0,1.0,1.0,1.0,1.0,1.0,1.0,1.0,1.0,1.0,1.0,1.0,1.0,1.0,1.0,1.0,1.0,1.0,1.0,1.0,1.0,1.0,1.0,1.0,1.0,1.0,1.0,1.0,1.0,1.0,1.0,1.0,1.0,1.0,1.0,1.0,1.0,1.0,1.0,1.0,1.0,1.0,1.0,1.0,1.0,1.0,1.0,1.0,1.0,1.0,1.0,1.0,1.0,1.0,1.0,1.0,1.0,1.0,1.0,1.0,1.0,1.0,1.0,1.0,1.0,1.0,1.0,1.0,1.0,1.0,1.0,1.0,1.0,1.0,1.0,1.0,1.0,1.0,1.0,1.0,1.0,1.0,1.0,1.0,1.0,1.0,1.0,1.0,1.0,1.0,1.0,1.0,1.0,1.0,1.0,1.0,1.0,1.0,1.0,1.0],[1.0,1.0,1.0,1.0,1.0,1.0,1.0,1.0,1.0,1.0,1.0,1.0,1.0,1.0,1.0,1.0,1.0,1.0,1.0,1.0,1.0,1.0,1.0,1.0,1.0,1.0,1.0,1.0,1.0,1.0,1.0,1.0,1.0,1.0,1.0,1.0,1.0,1.0,1.0,1.0,1.0,1.0,1.0,1.0,1.0,1.0,1.0,1.0,1.0,1.0,1.0,1.0,1.0,1.0,1.0,1.0,1.0,1.0,1.0,1.0,1.0,1.0,1.0,1.0,1.0,1.0,1.0,1.0,1.0,1.0,1.0,1.0,1.0,1.0,1.0,1.0,1.0,1.0,1.0,1.0,1.0,1.0,1.0,1.0,1.0,1.0,1.0,1.0,1.0,1.0,1.0,1.0,1.0,1.0,1.0,1.0,1.0,1.0,1.0,1.0,1.0,1.0,1.0,1.0,1.0,1.0,1.0,1.0,1.0,1.0,1.0,1.0,1.0,1.0,1.0,1.0,1.0,1.0,1.0,1.0],[1.0,1.0,1.0,1.0,1.0,1.0,1.0,1.0,1.0,1.0,1.0,1.0,1.0,1.0,1.0,1.0,1.0,1.0,1.0,1.0,1.0,1.0,1.0,1.0,1.0,1.0,1.0,1.0,1.0,1.0,1.0,1.0,1.0,1.0,1.0,1.0,1.0,1.0,1.0,1.0,1.0,1.0,1.0,1.0,1.0,1.0,1.0,1.0,1.0,1.0,1.0,1.0,1.0,1.0,1.0,1.0,1.0,1.0,1.0,1.0,1.0,1.0,1.0,1.0,1.0,1.0,1.0,1.0,1.0,1.0,1.0,1.0,1.0,1.0,1.0,1.0,1.0,1.0,1.0,1.0,1.0,1.0,1.0,1.0,1.0,1.0,1.0,1.0,1.0,1.0,1.0,1.0,1.0,1.0,1.0,1.0,1.0,1.0,1.0,1.0,1.0,1.0,1.0,1.0,1.0,1.0,1.0,1.0,1.0,1.0,1.0,1.0,1.0,1.0,1.0,1.0,1.0,1.0,1.0,1.0],[1.0,1.0,1.0,1.0,1.0,1.0,1.0,1.0,1.0,1.0,1.0,1.0,1.0,1.0,1.0,1.0,1.0,1.0,1.0,1.0,1.0,1.0,1.0,1.0,1.0,1.0,1.0,1.0,1.0,1.0,1.0,1.0,1.0,1.0,1.0,1.0,1.0,1.0,1.0,1.0,1.0,1.0,1.0,1.0,1.0,1.0,1.0,1.0,1.0,1.0,1.0,1.0,1.0,1.0,1.0,1.0,1.0,1.0,1.0,1.0,1.0,1.0,1.0,1.0,1.0,1.0,1.0,1.0,1.0,1.0,1.0,1.0,1.0,1.0,1.0,1.0,1.0,1.0,1.0,1.0,1.0,1.0,1.0,1.0,1.0,1.0,1.0,1.0,1.0,1.0,1.0,1.0,1.0,1.0,1.0,1.0,1.0,1.0,1.0,1.0,1.0,1.0,1.0,1.0,1.0,1.0,1.0,1.0,1.0,1.0,1.0,1.0,1.0,1.0,1.0,1.0,1.0,1.0,1.0,1.0],[1.0,1.0,1.0,1.0,1.0,1.0,1.0,1.0,1.0,1.0,1.0,1.0,1.0,1.0,1.0,1.0,1.0,1.0,1.0,1.0,1.0,1.0,1.0,1.0,1.0,1.0,1.0,1.0,1.0,1.0,1.0,1.0,1.0,1.0,1.0,1.0,1.0,1.0,1.0,1.0,1.0,1.0,1.0,1.0,1.0,1.0,1.0,1.0,1.0,1.0,1.0,1.0,1.0,1.0,1.0,1.0,1.0,1.0,1.0,1.0,1.0,1.0,1.0,1.0,1.0,1.0,1.0,1.0,1.0,1.0,1.0,1.0,1.0,1.0,1.0,1.0,1.0,1.0,1.0,1.0,1.0,1.0,1.0,1.0,1.0,1.0,1.0,1.0,1.0,1.0,1.0,1.0,1.0,1.0,1.0,1.0,1.0,1.0,1.0,1.0,1.0,1.0,1.0,1.0,1.0,1.0,1.0,1.0,1.0,1.0,1.0,1.0,1.0,1.0,1.0,1.0,1.0,1.0,1.0,1.0],[1.0,1.0,1.0,1.0,1.0,1.0,1.0,1.0,1.0,1.0,1.0,1.0,1.0,1.0,1.0,1.0,1.0,1.0,1.0,1.0,1.0,1.0,1.0,1.0,1.0,1.0,1.0,1.0,1.0,1.0,1.0,1.0,1.0,1.0,1.0,1.0,1.0,1.0,1.0,1.0,1.0,1.0,1.0,1.0,1.0,1.0,1.0,1.0,1.0,1.0,1.0,1.0,1.0,1.0,1.0,1.0,1.0,1.0,1.0,1.0,1.0,1.0,1.0,1.0,1.0,1.0,1.0,1.0,1.0,1.0,1.0,1.0,1.0,1.0,1.0,1.0,1.0,1.0,1.0,1.0,1.0,1.0,1.0,1.0,1.0,1.0,1.0,1.0,1.0,1.0,1.0,1.0,1.0,1.0,1.0,1.0,1.0,1.0,1.0,1.0,1.0,1.0,1.0,1.0,1.0,1.0,1.0,1.0,1.0,1.0,1.0,1.0,1.0,1.0,1.0,1.0,1.0,1.0,1.0,1.0],[1.0,1.0,1.0,1.0,1.0,1.0,1.0,1.0,1.0,1.0,1.0,1.0,1.0,1.0,1.0,1.0,1.0,1.0,1.0,1.0,1.0,1.0,1.0,1.0,1.0,1.0,1.0,1.0,1.0,1.0,1.0,1.0,1.0,1.0,1.0,1.0,1.0,1.0,1.0,1.0,1.0,1.0,1.0,1.0,1.0,1.0,1.0,1.0,1.0,1.0,1.0,1.0,1.0,1.0,1.0,1.0,1.0,1.0,1.0,1.0,1.0,1.0,1.0,1.0,1.0,1.0,1.0,1.0,1.0,1.0,1.0,1.0,1.0,1.0,1.0,1.0,1.0,1.0,1.0,1.0,1.0,1.0,1.0,1.0,1.0,1.0,1.0,1.0,1.0,1.0,1.0,1.0,1.0,1.0,1.0,1.0,1.0,1.0,1.0,1.0,1.0,1.0,1.0,1.0,1.0,1.0,1.0,1.0,1.0,1.0,1.0,1.0,1.0,1.0,1.0,1.0,1.0,1.0,1.0,1.0],[1.0,1.0,1.0,1.0,1.0,1.0,1.0,1.0,1.0,1.0,1.0,1.0,1.0,1.0,1.0,1.0,1.0,1.0,1.0,1.0,1.0,1.0,1.0,1.0,1.0,1.0,1.0,1.0,1.0,1.0,1.0,1.0,1.0,1.0,1.0,1.0,1.0,1.0,1.0,1.0,1.0,1.0,1.0,1.0,1.0,1.0,1.0,1.0,1.0,1.0,1.0,1.0,1.0,1.0,1.0,1.0,1.0,1.0,1.0,1.0,1.0,1.0,1.0,1.0,1.0,1.0,1.0,1.0,1.0,1.0,1.0,1.0,1.0,1.0,1.0,1.0,1.0,1.0,1.0,1.0,1.0,1.0,1.0,1.0,1.0,1.0,1.0,1.0,1.0,1.0,1.0,1.0,1.0,1.0,1.0,1.0,1.0,1.0,1.0,1.0,1.0,1.0,1.0,1.0,1.0,1.0,1.0,1.0,1.0,1.0,1.0,1.0,1.0,1.0,1.0,1.0,1.0,1.0,1.0,1.0],[1.0,1.0,1.0,1.0,1.0,1.0,1.0,1.0,1.0,1.0,1.0,1.0,1.0,1.0,1.0,1.0,1.0,1.0,1.0,1.0,1.0,1.0,1.0,1.0,1.0,1.0,1.0,1.0,1.0,1.0,1.0,1.0,1.0,1.0,1.0,1.0,1.0,1.0,1.0,1.0,1.0,1.0,1.0,1.0,1.0,1.0,1.0,1.0,1.0,1.0,1.0,1.0,1.0,1.0,1.0,1.0,1.0,1.0,1.0,1.0,1.0,1.0,1.0,1.0,1.0,1.0,1.0,1.0,1.0,1.0,1.0,1.0,1.0,1.0,1.0,1.0,1.0,1.0,1.0,1.0,1.0,1.0,1.0,1.0,1.0,1.0,1.0,1.0,1.0,1.0,1.0,1.0,1.0,1.0,1.0,1.0,1.0,1.0,1.0,1.0,1.0,1.0,1.0,1.0,1.0,1.0,1.0,1.0,1.0,1.0,1.0,1.0,1.0,1.0,1.0,1.0,1.0,1.0,1.0,1.0],[1.0,1.0,1.0,1.0,1.0,1.0,1.0,1.0,1.0,1.0,1.0,1.0,1.0,1.0,1.0,1.0,1.0,1.0,1.0,1.0,1.0,1.0,1.0,1.0,1.0,1.0,1.0,1.0,1.0,1.0,1.0,1.0,1.0,1.0,1.0,1.0,1.0,1.0,1.0,1.0,1.0,1.0,1.0,1.0,1.0,1.0,1.0,1.0,1.0,1.0,1.0,1.0,1.0,1.0,1.0,1.0,1.0,1.0,1.0,1.0,1.0,1.0,1.0,1.0,1.0,1.0,1.0,1.0,1.0,1.0,1.0,1.0,1.0,1.0,1.0,1.0,1.0,1.0,1.0,1.0,1.0,1.0,1.0,1.0,1.0,1.0,1.0,1.0,1.0,1.0,1.0,1.0,1.0,1.0,1.0,1.0,1.0,1.0,1.0,1.0,1.0,1.0,1.0,1.0,1.0,1.0,1.0,1.0,1.0,1.0,1.0,1.0,1.0,1.0,1.0,1.0,1.0,1.0,1.0,1.0],[1.0,1.0,1.0,1.0,1.0,1.0,1.0,1.0,1.0,1.0,1.0,1.0,1.0,1.0,1.0,1.0,1.0,1.0,1.0,1.0,1.0,1.0,1.0,1.0,1.0,1.0,1.0,1.0,1.0,1.0,1.0,1.0,1.0,1.0,1.0,1.0,1.0,1.0,1.0,1.0,1.0,1.0,1.0,1.0,1.0,1.0,1.0,1.0,1.0,1.0,1.0,1.0,1.0,1.0,1.0,1.0,1.0,1.0,1.0,1.0,1.0,1.0,1.0,1.0,1.0,1.0,1.0,1.0,1.0,1.0,1.0,1.0,1.0,1.0,1.0,1.0,1.0,1.0,1.0,1.0,1.0,1.0,1.0,1.0,1.0,1.0,1.0,1.0,1.0,1.0,1.0,1.0,1.0,1.0,1.0,1.0,1.0,1.0,1.0,1.0,1.0,1.0,1.0,1.0,1.0,1.0,1.0,1.0,1.0,1.0,1.0,1.0,1.0,1.0,1.0,1.0,1.0,1.0,1.0,1.0],[1.0,1.0,1.0,1.0,1.0,1.0,1.0,1.0,1.0,1.0,1.0,1.0,1.0,1.0,1.0,1.0,1.0,1.0,1.0,1.0,1.0,1.0,1.0,1.0,1.0,1.0,1.0,1.0,1.0,1.0,1.0,1.0,1.0,1.0,1.0,1.0,1.0,1.0,1.0,1.0,1.0,1.0,1.0,1.0,1.0,1.0,1.0,1.0,1.0,1.0,1.0,1.0,1.0,1.0,1.0,1.0,1.0,1.0,1.0,1.0,1.0,1.0,1.0,1.0,1.0,1.0,1.0,1.0,1.0,1.0,1.0,1.0,1.0,1.0,1.0,1.0,1.0,1.0,1.0,1.0,1.0,1.0,1.0,1.0,1.0,1.0,1.0,1.0,1.0,1.0,1.0,1.0,1.0,1.0,1.0,1.0,1.0,1.0,1.0,1.0,1.0,1.0,1.0,1.0,1.0,1.0,1.0,1.0,1.0,1.0,1.0,1.0,1.0,1.0,1.0,1.0,1.0,1.0,1.0,1.0],[1.0,1.0,1.0,1.0,1.0,1.0,1.0,1.0,1.0,1.0,1.0,1.0,1.0,1.0,1.0,1.0,1.0,1.0,1.0,1.0,1.0,1.0,1.0,1.0,1.0,1.0,1.0,1.0,1.0,1.0,1.0,1.0,1.0,1.0,1.0,1.0,1.0,1.0,1.0,1.0,1.0,1.0,1.0,1.0,1.0,1.0,1.0,1.0,1.0,1.0,1.0,1.0,1.0,1.0,1.0,1.0,1.0,1.0,1.0,1.0,1.0,1.0,1.0,1.0,1.0,1.0,1.0,1.0,1.0,1.0,1.0,1.0,1.0,1.0,1.0,1.0,1.0,1.0,1.0,1.0,1.0,1.0,1.0,1.0,1.0,1.0,1.0,1.0,1.0,1.0,1.0,1.0,1.0,1.0,1.0,1.0,1.0,1.0,1.0,1.0,1.0,1.0,1.0,1.0,1.0,1.0,1.0,1.0,1.0,1.0,1.0,1.0,1.0,1.0,1.0,1.0,1.0,1.0,1.0,1.0],[1.0,1.0,1.0,1.0,1.0,1.0,1.0,1.0,1.0,1.0,1.0,1.0,1.0,1.0,1.0,1.0,1.0,1.0,1.0,1.0,1.0,1.0,1.0,1.0,1.0,1.0,1.0,1.0,1.0,1.0,1.0,1.0,1.0,1.0,1.0,1.0,1.0,1.0,1.0,1.0,1.0,1.0,1.0,1.0,1.0,1.0,1.0,1.0,1.0,1.0,1.0,1.0,1.0,1.0,1.0,1.0,1.0,1.0,1.0,1.0,1.0,1.0,1.0,1.0,1.0,1.0,1.0,1.0,1.0,1.0,1.0,1.0,1.0,1.0,1.0,1.0,1.0,1.0,1.0,1.0,1.0,1.0,1.0,1.0,1.0,1.0,1.0,1.0,1.0,1.0,1.0,1.0,1.0,1.0,1.0,1.0,1.0,1.0,1.0,1.0,1.0,1.0,1.0,1.0,1.0,1.0,1.0,1.0,1.0,1.0,1.0,1.0,1.0,1.0,1.0,1.0,1.0,1.0,1.0,1.0],[1.0,1.0,1.0,1.0,1.0,1.0,1.0,1.0,1.0,1.0,1.0,1.0,1.0,1.0,1.0,1.0,1.0,1.0,1.0,1.0,1.0,1.0,1.0,1.0,1.0,1.0,1.0,1.0,1.0,1.0,1.0,1.0,1.0,1.0,1.0,1.0,1.0,1.0,1.0,1.0,1.0,1.0,1.0,1.0,1.0,1.0,1.0,1.0,1.0,1.0,1.0,1.0,1.0,1.0,1.0,1.0,1.0,1.0,1.0,1.0,1.0,1.0,1.0,1.0,1.0,1.0,1.0,1.0,1.0,1.0,1.0,1.0,1.0,1.0,1.0,1.0,1.0,1.0,1.0,1.0,1.0,1.0,1.0,1.0,1.0,1.0,1.0,1.0,1.0,1.0,1.0,1.0,1.0,1.0,1.0,1.0,1.0,1.0,1.0,1.0,1.0,1.0,1.0,1.0,1.0,1.0,1.0,1.0,1.0,1.0,1.0,1.0,1.0,1.0,1.0,1.0,1.0,1.0,1.0,1.0],[1.0,1.0,1.0,1.0,1.0,1.0,1.0,1.0,1.0,1.0,1.0,1.0,1.0,1.0,1.0,1.0,1.0,1.0,1.0,1.0,1.0,1.0,1.0,1.0,1.0,1.0,1.0,1.0,1.0,1.0,1.0,1.0,1.0,1.0,1.0,1.0,1.0,1.0,1.0,1.0,1.0,1.0,1.0,1.0,1.0,1.0,1.0,1.0,1.0,1.0,1.0,1.0,1.0,1.0,1.0,1.0,1.0,1.0,1.0,1.0,1.0,1.0,1.0,1.0,1.0,1.0,1.0,1.0,1.0,1.0,1.0,1.0,1.0,1.0,1.0,1.0,1.0,1.0,1.0,1.0,1.0,1.0,1.0,1.0,1.0,1.0,1.0,1.0,1.0,1.0,1.0,1.0,1.0,1.0,1.0,1.0,1.0,1.0,1.0,1.0,1.0,1.0,1.0,1.0,1.0,1.0,1.0,1.0,1.0,1.0,1.0,1.0,1.0,1.0,1.0,1.0,1.0,1.0,1.0,1.0],[1.0,1.0,1.0,1.0,1.0,1.0,1.0,1.0,1.0,1.0,1.0,1.0,1.0,1.0,1.0,1.0,1.0,1.0,1.0,1.0,1.0,1.0,1.0,1.0,1.0,1.0,1.0,1.0,1.0,1.0,1.0,1.0,1.0,1.0,1.0,1.0,1.0,1.0,1.0,1.0,1.0,1.0,1.0,1.0,1.0,1.0,1.0,1.0,1.0,1.0,1.0,1.0,1.0,1.0,1.0,1.0,1.0,1.0,1.0,1.0,1.0,1.0,1.0,1.0,1.0,1.0,1.0,1.0,1.0,1.0,1.0,1.0,1.0,1.0,1.0,1.0,1.0,1.0,1.0,1.0,1.0,1.0,1.0,1.0,1.0,1.0,1.0,1.0,1.0,1.0,1.0,1.0,1.0,1.0,1.0,1.0,1.0,1.0,1.0,1.0,1.0,1.0,1.0,1.0,1.0,1.0,1.0,1.0,1.0,1.0,1.0,1.0,1.0,1.0,1.0,1.0,1.0,1.0,1.0,1.0],[1.0,1.0,1.0,1.0,1.0,1.0,1.0,1.0,1.0,1.0,1.0,1.0,1.0,1.0,1.0,1.0,1.0,1.0,1.0,1.0,1.0,1.0,1.0,1.0,1.0,1.0,1.0,1.0,1.0,1.0,1.0,1.0,1.0,1.0,1.0,1.0,1.0,1.0,1.0,1.0,1.0,1.0,1.0,1.0,1.0,1.0,1.0,1.0,1.0,1.0,1.0,1.0,1.0,1.0,1.0,1.0,1.0,1.0,1.0,1.0,1.0,1.0,1.0,1.0,1.0,1.0,1.0,1.0,1.0,1.0,1.0,1.0,1.0,1.0,1.0,1.0,1.0,1.0,1.0,1.0,1.0,1.0,1.0,1.0,1.0,1.0,1.0,1.0,1.0,1.0,1.0,1.0,1.0,1.0,1.0,1.0,1.0,1.0,1.0,1.0,1.0,1.0,1.0,1.0,1.0,1.0,1.0,1.0,1.0,1.0,1.0,1.0,1.0,1.0,1.0,1.0,1.0,1.0,1.0,1.0],[1.0,1.0,1.0,1.0,1.0,1.0,1.0,1.0,1.0,1.0,1.0,1.0,1.0,1.0,1.0,1.0,1.0,1.0,1.0,1.0,1.0,1.0,1.0,1.0,1.0,1.0,1.0,1.0,1.0,1.0,1.0,1.0,1.0,1.0,1.0,1.0,1.0,1.0,1.0,1.0,1.0,1.0,1.0,1.0,1.0,1.0,1.0,1.0,1.0,1.0,1.0,1.0,1.0,1.0,1.0,1.0,1.0,1.0,1.0,1.0,1.0,1.0,1.0,1.0,1.0,1.0,1.0,1.0,1.0,1.0,1.0,1.0,1.0,1.0,1.0,1.0,1.0,1.0,1.0,1.0,1.0,1.0,1.0,1.0,1.0,1.0,1.0,1.0,1.0,1.0,1.0,1.0,1.0,1.0,1.0,1.0,1.0,1.0,1.0,1.0,1.0,1.0,1.0,1.0,1.0,1.0,1.0,1.0,1.0,1.0,1.0,1.0,1.0,1.0,1.0,1.0,1.0,1.0,1.0,1.0],[1.0,1.0,1.0,1.0,1.0,1.0,1.0,1.0,1.0,1.0,1.0,1.0,1.0,1.0,1.0,1.0,1.0,1.0,1.0,1.0,1.0,1.0,1.0,1.0,1.0,1.0,1.0,1.0,1.0,1.0,1.0,1.0,1.0,1.0,1.0,1.0,1.0,1.0,1.0,1.0,1.0,1.0,1.0,1.0,1.0,1.0,1.0,1.0,1.0,1.0,1.0,1.0,1.0,1.0,1.0,1.0,1.0,1.0,1.0,1.0,1.0,1.0,1.0,1.0,1.0,1.0,1.0,1.0,1.0,1.0,1.0,1.0,1.0,1.0,1.0,1.0,1.0,1.0,1.0,1.0,1.0,1.0,1.0,1.0,1.0,1.0,1.0,1.0,1.0,1.0,1.0,1.0,1.0,1.0,1.0,1.0,1.0,1.0,1.0,1.0,1.0,1.0,1.0,1.0,1.0,1.0,1.0,1.0,1.0,1.0,1.0,1.0,1.0,1.0,1.0,1.0,1.0,1.0,1.0,1.0],[1.0,1.0,1.0,1.0,1.0,1.0,1.0,1.0,1.0,1.0,1.0,1.0,1.0,1.0,1.0,1.0,1.0,1.0,1.0,1.0,1.0,1.0,1.0,1.0,1.0,1.0,1.0,1.0,1.0,1.0,1.0,1.0,1.0,1.0,1.0,1.0,1.0,1.0,1.0,1.0,1.0,1.0,1.0,1.0,1.0,1.0,1.0,1.0,1.0,1.0,1.0,1.0,1.0,1.0,1.0,1.0,1.0,1.0,1.0,1.0,1.0,1.0,1.0,1.0,1.0,1.0,1.0,1.0,1.0,1.0,1.0,1.0,1.0,1.0,1.0,1.0,1.0,1.0,1.0,1.0,1.0,1.0,1.0,1.0,1.0,1.0,1.0,1.0,1.0,1.0,1.0,1.0,1.0,1.0,1.0,1.0,1.0,1.0,1.0,1.0,1.0,1.0,1.0,1.0,1.0,1.0,1.0,1.0,1.0,1.0,1.0,1.0,1.0,1.0,1.0,1.0,1.0,1.0,1.0,1.0],[1.0,1.0,1.0,1.0,1.0,1.0,1.0,1.0,1.0,1.0,1.0,1.0,1.0,1.0,1.0,1.0,1.0,1.0,1.0,1.0,1.0,1.0,1.0,1.0,1.0,1.0,1.0,1.0,1.0,1.0,1.0,1.0,1.0,1.0,1.0,1.0,1.0,1.0,1.0,1.0,1.0,1.0,1.0,1.0,1.0,1.0,1.0,1.0,1.0,1.0,1.0,1.0,1.0,1.0,1.0,1.0,1.0,1.0,1.0,1.0,1.0,1.0,1.0,1.0,1.0,1.0,1.0,1.0,1.0,1.0,1.0,1.0,1.0,1.0,1.0,1.0,1.0,1.0,1.0,1.0,1.0,1.0,1.0,1.0,1.0,1.0,1.0,1.0,1.0,1.0,1.0,1.0,1.0,1.0,1.0,1.0,1.0,1.0,1.0,1.0,1.0,1.0,1.0,1.0,1.0,1.0,1.0,1.0,1.0,1.0,1.0,1.0,1.0,1.0,1.0,1.0,1.0,1.0,1.0,1.0],[1.0,1.0,1.0,1.0,1.0,1.0,1.0,1.0,1.0,1.0,1.0,1.0,1.0,1.0,1.0,1.0,1.0,1.0,1.0,1.0,1.0,1.0,1.0,1.0,1.0,1.0,1.0,1.0,1.0,1.0,1.0,1.0,1.0,1.0,1.0,1.0,1.0,1.0,1.0,1.0,1.0,1.0,1.0,1.0,1.0,1.0,1.0,1.0,1.0,1.0,1.0,1.0,1.0,1.0,1.0,1.0,1.0,1.0,1.0,1.0,1.0,1.0,1.0,1.0,1.0,1.0,1.0,1.0,1.0,1.0,1.0,1.0,1.0,1.0,1.0,1.0,1.0,1.0,1.0,1.0,1.0,1.0,1.0,1.0,1.0,1.0,1.0,1.0,1.0,1.0,1.0,1.0,1.0,1.0,1.0,1.0,1.0,1.0,1.0,1.0,1.0,1.0,1.0,1.0,1.0,1.0,1.0,1.0,1.0,1.0,1.0,1.0,1.0,1.0,1.0,1.0,1.0,1.0,1.0,1.0],[1.0,1.0,1.0,1.0,1.0,1.0,1.0,1.0,1.0,1.0,1.0,1.0,1.0,1.0,1.0,1.0,1.0,1.0,1.0,1.0,1.0,1.0,1.0,1.0,1.0,1.0,1.0,1.0,1.0,1.0,1.0,1.0,1.0,1.0,1.0,1.0,1.0,1.0,1.0,1.0,1.0,1.0,1.0,1.0,1.0,1.0,1.0,1.0,1.0,1.0,1.0,1.0,1.0,1.0,1.0,1.0,1.0,1.0,1.0,1.0,1.0,1.0,1.0,1.0,1.0,1.0,1.0,1.0,1.0,1.0,1.0,1.0,1.0,1.0,1.0,1.0,1.0,1.0,1.0,1.0,1.0,1.0,1.0,1.0,1.0,1.0,1.0,1.0,1.0,1.0,1.0,1.0,1.0,1.0,1.0,1.0,1.0,1.0,1.0,1.0,1.0,1.0,1.0,1.0,1.0,1.0,1.0,1.0,1.0,1.0,1.0,1.0,1.0,1.0,1.0,1.0,1.0,1.0,1.0,1.0],[1.0,1.0,1.0,1.0,1.0,1.0,1.0,1.0,1.0,1.0,1.0,1.0,1.0,1.0,1.0,1.0,1.0,1.0,1.0,1.0,1.0,1.0,1.0,1.0,1.0,1.0,1.0,1.0,1.0,1.0,1.0,1.0,1.0,1.0,1.0,1.0,1.0,1.0,1.0,1.0,1.0,1.0,1.0,1.0,1.0,1.0,1.0,1.0,1.0,1.0,1.0,1.0,1.0,1.0,1.0,1.0,1.0,1.0,1.0,1.0,1.0,1.0,1.0,1.0,1.0,1.0,1.0,1.0,1.0,1.0,1.0,1.0,1.0,1.0,1.0,1.0,1.0,1.0,1.0,1.0,1.0,1.0,1.0,1.0,1.0,1.0,1.0,1.0,1.0,1.0,1.0,1.0,1.0,1.0,1.0,1.0,1.0,1.0,1.0,1.0,1.0,1.0,1.0,1.0,1.0,1.0,1.0,1.0,1.0,1.0,1.0,1.0,1.0,1.0,1.0,1.0,1.0,1.0,1.0,1.0],[1.0,1.0,1.0,1.0,1.0,1.0,1.0,1.0,1.0,1.0,1.0,1.0,1.0,1.0,1.0,1.0,1.0,1.0,1.0,1.0,1.0,1.0,1.0,1.0,1.0,1.0,1.0,1.0,1.0,1.0,1.0,1.0,1.0,1.0,1.0,1.0,1.0,1.0,1.0,1.0,1.0,1.0,1.0,1.0,1.0,1.0,1.0,1.0,1.0,1.0,1.0,1.0,1.0,1.0,1.0,1.0,1.0,1.0,1.0,1.0,1.0,1.0,1.0,1.0,1.0,1.0,1.0,1.0,1.0,1.0,1.0,1.0,1.0,1.0,1.0,1.0,1.0,1.0,1.0,1.0,1.0,1.0,1.0,1.0,1.0,1.0,1.0,1.0,1.0,1.0,1.0,1.0,1.0,1.0,1.0,1.0,1.0,1.0,1.0,1.0,1.0,1.0,1.0,1.0,1.0,1.0,1.0,1.0,1.0,1.0,1.0,1.0,1.0,1.0,1.0,1.0,1.0,1.0,1.0,1.0],[1.0,1.0,1.0,1.0,1.0,1.0,1.0,1.0,1.0,1.0,1.0,1.0,1.0,1.0,1.0,1.0,1.0,1.0,1.0,1.0,1.0,1.0,1.0,1.0,1.0,1.0,1.0,1.0,1.0,1.0,1.0,1.0,1.0,1.0,1.0,1.0,1.0,1.0,1.0,1.0,1.0,1.0,1.0,1.0,1.0,1.0,1.0,1.0,1.0,1.0,1.0,1.0,1.0,1.0,1.0,1.0,1.0,1.0,1.0,1.0,1.0,1.0,1.0,1.0,1.0,1.0,1.0,1.0,1.0,1.0,1.0,1.0,1.0,1.0,1.0,1.0,1.0,1.0,1.0,1.0,1.0,1.0,1.0,1.0,1.0,1.0,1.0,1.0,1.0,1.0,1.0,1.0,1.0,1.0,1.0,1.0,1.0,1.0,1.0,1.0,1.0,1.0,1.0,1.0,1.0,1.0,1.0,1.0,1.0,1.0,1.0,1.0,1.0,1.0,1.0,1.0,1.0,1.0,1.0,1.0],[1.0,1.0,1.0,1.0,1.0,1.0,1.0,1.0,1.0,1.0,1.0,1.0,1.0,1.0,1.0,1.0,1.0,1.0,1.0,1.0,1.0,1.0,1.0,1.0,1.0,1.0,1.0,1.0,1.0,1.0,1.0,1.0,1.0,1.0,1.0,1.0,1.0,1.0,1.0,1.0,1.0,1.0,1.0,1.0,1.0,1.0,1.0,1.0,1.0,1.0,1.0,1.0,1.0,1.0,1.0,1.0,1.0,1.0,1.0,1.0,1.0,1.0,1.0,1.0,1.0,1.0,1.0,1.0,1.0,1.0,1.0,1.0,1.0,1.0,1.0,1.0,1.0,1.0,1.0,1.0,1.0,1.0,1.0,1.0,1.0,1.0,1.0,1.0,1.0,1.0,1.0,1.0,1.0,1.0,1.0,1.0,1.0,1.0,1.0,1.0,1.0,1.0,1.0,1.0,1.0,1.0,1.0,1.0,1.0,1.0,1.0,1.0,1.0,1.0,1.0,1.0,1.0,1.0,1.0,1.0],[1.0,1.0,1.0,1.0,1.0,1.0,1.0,1.0,1.0,1.0,1.0,1.0,1.0,1.0,1.0,1.0,1.0,1.0,1.0,1.0,1.0,1.0,1.0,1.0,1.0,1.0,1.0,1.0,1.0,1.0,1.0,1.0,1.0,1.0,1.0,1.0,1.0,1.0,1.0,1.0,1.0,1.0,1.0,1.0,1.0,1.0,1.0,1.0,1.0,1.0,1.0,1.0,1.0,1.0,1.0,1.0,1.0,1.0,1.0,1.0,1.0,1.0,1.0,1.0,1.0,1.0,1.0,1.0,1.0,1.0,1.0,1.0,1.0,1.0,1.0,1.0,1.0,1.0,1.0,1.0,1.0,1.0,1.0,1.0,1.0,1.0,1.0,1.0,1.0,1.0,1.0,1.0,1.0,1.0,1.0,1.0,1.0,1.0,1.0,1.0,1.0,1.0,1.0,1.0,1.0,1.0,1.0,1.0,1.0,1.0,1.0,1.0,1.0,1.0,1.0,1.0,1.0,1.0,1.0,1.0],[1.0,1.0,1.0,1.0,1.0,1.0,1.0,1.0,1.0,1.0,1.0,1.0,1.0,1.0,1.0,1.0,1.0,1.0,1.0,1.0,1.0,1.0,1.0,1.0,1.0,1.0,1.0,1.0,1.0,1.0,1.0,1.0,1.0,1.0,1.0,1.0,1.0,1.0,1.0,1.0,1.0,1.0,1.0,1.0,1.0,1.0,1.0,1.0,1.0,1.0,1.0,1.0,1.0,1.0,1.0,1.0,1.0,1.0,1.0,1.0,1.0,1.0,1.0,1.0,1.0,1.0,1.0,1.0,1.0,1.0,1.0,1.0,1.0,1.0,1.0,1.0,1.0,1.0,1.0,1.0,1.0,1.0,1.0,1.0,1.0,1.0,1.0,1.0,1.0,1.0,1.0,1.0,1.0,1.0,1.0,1.0,1.0,1.0,1.0,1.0,1.0,1.0,1.0,1.0,1.0,1.0,1.0,1.0,1.0,1.0,1.0,1.0,1.0,1.0,1.0,1.0,1.0,1.0,1.0,1.0],[1.0,1.0,1.0,1.0,1.0,1.0,1.0,1.0,1.0,1.0,1.0,1.0,1.0,1.0,1.0,1.0,1.0,1.0,1.0,1.0,1.0,1.0,1.0,1.0,1.0,1.0,1.0,1.0,1.0,1.0,1.0,1.0,1.0,1.0,1.0,1.0,1.0,1.0,1.0,1.0,1.0,1.0,1.0,1.0,1.0,1.0,1.0,1.0,1.0,1.0,1.0,1.0,1.0,1.0,1.0,1.0,1.0,1.0,1.0,1.0,1.0,1.0,1.0,1.0,1.0,1.0,1.0,1.0,1.0,1.0,1.0,1.0,1.0,1.0,1.0,1.0,1.0,1.0,1.0,1.0,1.0,1.0,1.0,1.0,1.0,1.0,1.0,1.0,1.0,1.0,1.0,1.0,1.0,1.0,1.0,1.0,1.0,1.0,1.0,1.0,1.0,1.0,1.0,1.0,1.0,1.0,1.0,1.0,1.0,1.0,1.0,1.0,1.0,1.0,1.0,1.0,1.0,1.0,1.0,1.0],[1.0,1.0,1.0,1.0,1.0,1.0,1.0,1.0,1.0,1.0,1.0,1.0,1.0,1.0,1.0,1.0,1.0,1.0,1.0,1.0,1.0,1.0,1.0,1.0,1.0,1.0,1.0,1.0,1.0,1.0,1.0,1.0,1.0,1.0,1.0,1.0,1.0,1.0,1.0,1.0,1.0,1.0,1.0,1.0,1.0,1.0,1.0,1.0,1.0,1.0,1.0,1.0,1.0,1.0,1.0,1.0,1.0,1.0,1.0,1.0,1.0,1.0,1.0,1.0,1.0,1.0,1.0,1.0,1.0,1.0,1.0,1.0,1.0,1.0,1.0,1.0,1.0,1.0,1.0,1.0,1.0,1.0,1.0,1.0,1.0,1.0,1.0,1.0,1.0,1.0,1.0,1.0,1.0,1.0,1.0,1.0,1.0,1.0,1.0,1.0,1.0,1.0,1.0,1.0,1.0,1.0,1.0,1.0,1.0,1.0,1.0,1.0,1.0,1.0,1.0,1.0,1.0,1.0,1.0,1.0],[1.0,1.0,1.0,1.0,1.0,1.0,1.0,1.0,1.0,1.0,1.0,1.0,1.0,1.0,1.0,1.0,1.0,1.0,1.0,1.0,1.0,1.0,1.0,1.0,1.0,1.0,1.0,1.0,1.0,1.0,1.0,1.0,1.0,1.0,1.0,1.0,1.0,1.0,1.0,1.0,1.0,1.0,1.0,1.0,1.0,1.0,1.0,1.0,1.0,1.0,1.0,1.0,1.0,1.0,1.0,1.0,1.0,1.0,1.0,1.0,1.0,1.0,1.0,1.0,1.0,1.0,1.0,1.0,1.0,1.0,1.0,1.0,1.0,1.0,1.0,1.0,1.0,1.0,1.0,1.0,1.0,1.0,1.0,1.0,1.0,1.0,1.0,1.0,1.0,1.0,1.0,1.0,1.0,1.0,1.0,1.0,1.0,1.0,1.0,1.0,1.0,1.0,1.0,1.0,1.0,1.0,1.0,1.0,1.0,1.0,1.0,1.0,1.0,1.0,1.0,1.0,1.0,1.0,1.0,1.0],[1.0,1.0,1.0,1.0,1.0,1.0,1.0,1.0,1.0,1.0,1.0,1.0,1.0,1.0,1.0,1.0,1.0,1.0,1.0,1.0,1.0,1.0,1.0,1.0,1.0,1.0,1.0,1.0,1.0,1.0,1.0,1.0,1.0,1.0,1.0,1.0,1.0,1.0,1.0,1.0,1.0,1.0,1.0,1.0,1.0,1.0,1.0,1.0,1.0,1.0,1.0,1.0,1.0,1.0,1.0,1.0,1.0,1.0,1.0,1.0,1.0,1.0,1.0,1.0,1.0,1.0,1.0,1.0,1.0,1.0,1.0,1.0,1.0,1.0,1.0,1.0,1.0,1.0,1.0,1.0,1.0,1.0,1.0,1.0,1.0,1.0,1.0,1.0,1.0,1.0,1.0,1.0,1.0,1.0,1.0,1.0,1.0,1.0,1.0,1.0,1.0,1.0,1.0,1.0,1.0,1.0,1.0,1.0,1.0,1.0,1.0,1.0,1.0,1.0,1.0,1.0,1.0,1.0,1.0,1.0],[1.0,1.0,1.0,1.0,1.0,1.0,1.0,1.0,1.0,1.0,1.0,1.0,1.0,1.0,1.0,1.0,1.0,1.0,1.0,1.0,1.0,1.0,1.0,1.0,1.0,1.0,1.0,1.0,1.0,1.0,1.0,1.0,1.0,1.0,1.0,1.0,1.0,1.0,1.0,1.0,1.0,1.0,1.0,1.0,1.0,1.0,1.0,1.0,1.0,1.0,1.0,1.0,1.0,1.0,1.0,1.0,1.0,1.0,1.0,1.0,1.0,1.0,1.0,1.0,1.0,1.0,1.0,1.0,1.0,1.0,1.0,1.0,1.0,1.0,1.0,1.0,1.0,1.0,1.0,1.0,1.0,1.0,1.0,1.0,1.0,1.0,1.0,1.0,1.0,1.0,1.0,1.0,1.0,1.0,1.0,1.0,1.0,1.0,1.0,1.0,1.0,1.0,1.0,1.0,1.0,1.0,1.0,1.0,1.0,1.0,1.0,1.0,1.0,1.0,1.0,1.0,1.0,1.0,1.0,1.0],[1.0,1.0,1.0,1.0,1.0,1.0,1.0,1.0,1.0,1.0,1.0,1.0,1.0,1.0,1.0,1.0,1.0,1.0,1.0,1.0,1.0,1.0,1.0,1.0,1.0,1.0,1.0,1.0,1.0,1.0,1.0,1.0,1.0,1.0,1.0,1.0,1.0,1.0,1.0,1.0,1.0,1.0,1.0,1.0,1.0,1.0,1.0,1.0,1.0,1.0,1.0,1.0,1.0,1.0,1.0,1.0,1.0,1.0,1.0,1.0,1.0,1.0,1.0,1.0,1.0,1.0,1.0,1.0,1.0,1.0,1.0,1.0,1.0,1.0,1.0,1.0,1.0,1.0,1.0,1.0,1.0,1.0,1.0,1.0,1.0,1.0,1.0,1.0,1.0,1.0,1.0,1.0,1.0,1.0,1.0,1.0,1.0,1.0,1.0,1.0,1.0,1.0,1.0,1.0,1.0,1.0,1.0,1.0,1.0,1.0,1.0,1.0,1.0,1.0,1.0,1.0,1.0,1.0,1.0,1.0],[1.0,1.0,1.0,1.0,1.0,1.0,1.0,1.0,1.0,1.0,1.0,1.0,1.0,1.0,1.0,1.0,1.0,1.0,1.0,1.0,1.0,1.0,1.0,1.0,1.0,1.0,1.0,1.0,1.0,1.0,1.0,1.0,1.0,1.0,1.0,1.0,1.0,1.0,1.0,1.0,1.0,1.0,1.0,1.0,1.0,1.0,1.0,1.0,1.0,1.0,1.0,1.0,1.0,1.0,1.0,1.0,1.0,1.0,1.0,1.0,1.0,1.0,1.0,1.0,1.0,1.0,1.0,1.0,1.0,1.0,1.0,1.0,1.0,1.0,1.0,1.0,1.0,1.0,1.0,1.0,1.0,1.0,1.0,1.0,1.0,1.0,1.0,1.0,1.0,1.0,1.0,1.0,1.0,1.0,1.0,1.0,1.0,1.0,1.0,1.0,1.0,1.0,1.0,1.0,1.0,1.0,1.0,1.0,1.0,1.0,1.0,1.0,1.0,1.0,1.0,1.0,1.0,1.0,1.0,1.0],[1.0,1.0,1.0,1.0,1.0,1.0,1.0,1.0,1.0,1.0,1.0,1.0,1.0,1.0,1.0,1.0,1.0,1.0,1.0,1.0,1.0,1.0,1.0,1.0,1.0,1.0,1.0,1.0,1.0,1.0,1.0,1.0,1.0,1.0,1.0,1.0,1.0,1.0,1.0,1.0,1.0,1.0,1.0,1.0,1.0,1.0,1.0,1.0,1.0,1.0,1.0,1.0,1.0,1.0,1.0,1.0,1.0,1.0,1.0,1.0,1.0,1.0,1.0,1.0,1.0,1.0,1.0,1.0,1.0,1.0,1.0,1.0,1.0,1.0,1.0,1.0,1.0,1.0,1.0,1.0,1.0,1.0,1.0,1.0,1.0,1.0,1.0,1.0,1.0,1.0,1.0,1.0,1.0,1.0,1.0,1.0,1.0,1.0,1.0,1.0,1.0,1.0,1.0,1.0,1.0,1.0,1.0,1.0,1.0,1.0,1.0,1.0,1.0,1.0,1.0,1.0,1.0,1.0,1.0,1.0],[1.0,1.0,1.0,1.0,1.0,1.0,1.0,1.0,1.0,1.0,1.0,1.0,1.0,1.0,1.0,1.0,1.0,1.0,1.0,1.0,1.0,1.0,1.0,1.0,1.0,1.0,1.0,1.0,1.0,1.0,1.0,1.0,1.0,1.0,1.0,1.0,1.0,1.0,1.0,1.0,1.0,1.0,1.0,1.0,1.0,1.0,1.0,1.0,1.0,1.0,1.0,1.0,1.0,1.0,1.0,1.0,1.0,1.0,1.0,1.0,1.0,1.0,1.0,1.0,1.0,1.0,1.0,1.0,1.0,1.0,1.0,1.0,1.0,1.0,1.0,1.0,1.0,1.0,1.0,1.0,1.0,1.0,1.0,1.0,1.0,1.0,1.0,1.0,1.0,1.0,1.0,1.0,1.0,1.0,1.0,1.0,1.0,1.0,1.0,1.0,1.0,1.0,1.0,1.0,1.0,1.0,1.0,1.0,1.0,1.0,1.0,1.0,1.0,1.0,1.0,1.0,1.0,1.0,1.0,1.0],[1.0,1.0,1.0,1.0,1.0,1.0,1.0,1.0,1.0,1.0,1.0,1.0,1.0,1.0,1.0,1.0,1.0,1.0,1.0,1.0,1.0,1.0,1.0,1.0,1.0,1.0,1.0,1.0,1.0,1.0,1.0,1.0,1.0,1.0,1.0,1.0,1.0,1.0,1.0,1.0,1.0,1.0,1.0,1.0,1.0,1.0,1.0,1.0,1.0,1.0,1.0,1.0,1.0,1.0,1.0,1.0,1.0,1.0,1.0,1.0,1.0,1.0,1.0,1.0,1.0,1.0,1.0,1.0,1.0,1.0,1.0,1.0,1.0,1.0,1.0,1.0,1.0,1.0,1.0,1.0,1.0,1.0,1.0,1.0,1.0,1.0,1.0,1.0,1.0,1.0,1.0,1.0,1.0,1.0,1.0,1.0,1.0,1.0,1.0,1.0,1.0,1.0,1.0,1.0,1.0,1.0,1.0,1.0,1.0,1.0,1.0,1.0,1.0,1.0,1.0,1.0,1.0,1.0,1.0,1.0],[1.0,1.0,1.0,1.0,1.0,1.0,1.0,1.0,1.0,1.0,1.0,1.0,1.0,1.0,1.0,1.0,1.0,1.0,1.0,1.0,1.0,1.0,1.0,1.0,1.0,1.0,1.0,1.0,1.0,1.0,1.0,1.0,1.0,1.0,1.0,1.0,1.0,1.0,1.0,1.0,1.0,1.0,1.0,1.0,1.0,1.0,1.0,1.0,1.0,1.0,1.0,1.0,1.0,1.0,1.0,1.0,1.0,1.0,1.0,1.0,1.0,1.0,1.0,1.0,1.0,1.0,1.0,1.0,1.0,1.0,1.0,1.0,1.0,1.0,1.0,1.0,1.0,1.0,1.0,1.0,1.0,1.0,1.0,1.0,1.0,1.0,1.0,1.0,1.0,1.0,1.0,1.0,1.0,1.0,1.0,1.0,1.0,1.0,1.0,1.0,1.0,1.0,1.0,1.0,1.0,1.0,1.0,1.0,1.0,1.0,1.0,1.0,1.0,1.0,1.0,1.0,1.0,1.0,1.0,1.0],[1.0,1.0,1.0,1.0,1.0,1.0,1.0,1.0,1.0,1.0,1.0,1.0,1.0,1.0,1.0,1.0,1.0,1.0,1.0,1.0,1.0,1.0,1.0,1.0,1.0,1.0,1.0,1.0,1.0,1.0,1.0,1.0,1.0,1.0,1.0,1.0,1.0,1.0,1.0,1.0,1.0,1.0,1.0,1.0,1.0,1.0,1.0,1.0,1.0,1.0,1.0,1.0,1.0,1.0,1.0,1.0,1.0,1.0,1.0,1.0,1.0,1.0,1.0,1.0,1.0,1.0,1.0,1.0,1.0,1.0,1.0,1.0,1.0,1.0,1.0,1.0,1.0,1.0,1.0,1.0,1.0,1.0,1.0,1.0,1.0,1.0,1.0,1.0,1.0,1.0,1.0,1.0,1.0,1.0,1.0,1.0,1.0,1.0,1.0,1.0,1.0,1.0,1.0,1.0,1.0,1.0,1.0,1.0,1.0,1.0,1.0,1.0,1.0,1.0,1.0,1.0,1.0,1.0,1.0,1.0],[1.0,1.0,1.0,1.0,1.0,1.0,1.0,1.0,1.0,1.0,1.0,1.0,1.0,1.0,1.0,1.0,1.0,1.0,1.0,1.0,1.0,1.0,1.0,1.0,1.0,1.0,1.0,1.0,1.0,1.0,1.0,1.0,1.0,1.0,1.0,1.0,1.0,1.0,1.0,1.0,1.0,1.0,1.0,1.0,1.0,1.0,1.0,1.0,1.0,1.0,1.0,1.0,1.0,1.0,1.0,1.0,1.0,1.0,1.0,1.0,1.0,1.0,1.0,1.0,1.0,1.0,1.0,1.0,1.0,1.0,1.0,1.0,1.0,1.0,1.0,1.0,1.0,1.0,1.0,1.0,1.0,1.0,1.0,1.0,1.0,1.0,1.0,1.0,1.0,1.0,1.0,1.0,1.0,1.0,1.0,1.0,1.0,1.0,1.0,1.0,1.0,1.0,1.0,1.0,1.0,1.0,1.0,1.0,1.0,1.0,1.0,1.0,1.0,1.0,1.0,1.0,1.0,1.0,1.0,1.0],[1.0,1.0,1.0,1.0,1.0,1.0,1.0,1.0,1.0,1.0,1.0,1.0,1.0,1.0,1.0,1.0,1.0,1.0,1.0,1.0,1.0,1.0,1.0,1.0,1.0,1.0,1.0,1.0,1.0,1.0,1.0,1.0,1.0,1.0,1.0,1.0,1.0,1.0,1.0,1.0,1.0,1.0,1.0,1.0,1.0,1.0,1.0,1.0,1.0,1.0,1.0,1.0,1.0,1.0,1.0,1.0,1.0,1.0,1.0,1.0,1.0,1.0,1.0,1.0,1.0,1.0,1.0,1.0,1.0,1.0,1.0,1.0,1.0,1.0,1.0,1.0,1.0,1.0,1.0,1.0,1.0,1.0,1.0,1.0,1.0,1.0,1.0,1.0,1.0,1.0,1.0,1.0,1.0,1.0,1.0,1.0,1.0,1.0,1.0,1.0,1.0,1.0,1.0,1.0,1.0,1.0,1.0,1.0,1.0,1.0,1.0,1.0,1.0,1.0,1.0,1.0,1.0,1.0,1.0,1.0],[1.0,1.0,1.0,1.0,1.0,1.0,1.0,1.0,1.0,1.0,1.0,1.0,1.0,1.0,1.0,1.0,1.0,1.0,1.0,1.0,1.0,1.0,1.0,1.0,1.0,1.0,1.0,1.0,1.0,1.0,1.0,1.0,1.0,1.0,1.0,1.0,1.0,1.0,1.0,1.0,1.0,1.0,1.0,1.0,1.0,1.0,1.0,1.0,1.0,1.0,1.0,1.0,1.0,1.0,1.0,1.0,1.0,1.0,1.0,1.0,1.0,1.0,1.0,1.0,1.0,1.0,1.0,1.0,1.0,1.0,1.0,1.0,1.0,1.0,1.0,1.0,1.0,1.0,1.0,1.0,1.0,1.0,1.0,1.0,1.0,1.0,1.0,1.0,1.0,1.0,1.0,1.0,1.0,1.0,1.0,1.0,1.0,1.0,1.0,1.0,1.0,1.0,1.0,1.0,1.0,1.0,1.0,1.0,1.0,1.0,1.0,1.0,1.0,1.0,1.0,1.0,1.0,1.0,1.0,1.0],[1.0,1.0,1.0,1.0,1.0,1.0,1.0,1.0,1.0,1.0,1.0,1.0,1.0,1.0,1.0,1.0,1.0,1.0,1.0,1.0,1.0,1.0,1.0,1.0,1.0,1.0,1.0,1.0,1.0,1.0,1.0,1.0,1.0,1.0,1.0,1.0,1.0,1.0,1.0,1.0,1.0,1.0,1.0,1.0,1.0,1.0,1.0,1.0,1.0,1.0,1.0,1.0,1.0,1.0,1.0,1.0,1.0,1.0,1.0,1.0,1.0,1.0,1.0,1.0,1.0,1.0,1.0,1.0,1.0,1.0,1.0,1.0,1.0,1.0,1.0,1.0,1.0,1.0,1.0,1.0,1.0,1.0,1.0,1.0,1.0,1.0,1.0,1.0,1.0,1.0,1.0,1.0,1.0,1.0,1.0,1.0,1.0,1.0,1.0,1.0,1.0,1.0,1.0,1.0,1.0,1.0,1.0,1.0,1.0,1.0,1.0,1.0,1.0,1.0,1.0,1.0,1.0,1.0,1.0,1.0],[1.0,1.0,1.0,1.0,1.0,1.0,1.0,1.0,1.0,1.0,1.0,1.0,1.0,1.0,1.0,1.0,1.0,1.0,1.0,1.0,1.0,1.0,1.0,1.0,1.0,1.0,1.0,1.0,1.0,1.0,1.0,1.0,1.0,1.0,1.0,1.0,1.0,1.0,1.0,1.0,1.0,1.0,1.0,1.0,1.0,1.0,1.0,1.0,1.0,1.0,1.0,1.0,1.0,1.0,1.0,1.0,1.0,1.0,1.0,1.0,1.0,1.0,1.0,1.0,1.0,1.0,1.0,1.0,1.0,1.0,1.0,1.0,1.0,1.0,1.0,1.0,1.0,1.0,1.0,1.0,1.0,1.0,1.0,1.0,1.0,1.0,1.0,1.0,1.0,1.0,1.0,1.0,1.0,1.0,1.0,1.0,1.0,1.0,1.0,1.0,1.0,1.0,1.0,1.0,1.0,1.0,1.0,1.0,1.0,1.0,1.0,1.0,1.0,1.0,1.0,1.0,1.0,1.0,1.0,1.0],[1.0,1.0,1.0,1.0,1.0,1.0,1.0,1.0,1.0,1.0,1.0,1.0,1.0,1.0,1.0,1.0,1.0,1.0,1.0,1.0,1.0,1.0,1.0,1.0,1.0,1.0,1.0,1.0,1.0,1.0,1.0,1.0,1.0,1.0,1.0,1.0,1.0,1.0,1.0,1.0,1.0,1.0,1.0,1.0,1.0,1.0,1.0,1.0,1.0,1.0,1.0,1.0,1.0,1.0,1.0,1.0,1.0,1.0,1.0,1.0,1.0,1.0,1.0,1.0,1.0,1.0,1.0,1.0,1.0,1.0,1.0,1.0,1.0,1.0,1.0,1.0,1.0,1.0,1.0,1.0,1.0,1.0,1.0,1.0,1.0,1.0,1.0,1.0,1.0,1.0,1.0,1.0,1.0,1.0,1.0,1.0,1.0,1.0,1.0,1.0,1.0,1.0,1.0,1.0,1.0,1.0,1.0,1.0,1.0,1.0,1.0,1.0,1.0,1.0,1.0,1.0,1.0,1.0,1.0,1.0],[1.0,1.0,1.0,1.0,1.0,1.0,1.0,1.0,1.0,1.0,1.0,1.0,1.0,1.0,1.0,1.0,1.0,1.0,1.0,1.0,1.0,1.0,1.0,1.0,1.0,1.0,1.0,1.0,1.0,1.0,1.0,1.0,1.0,1.0,1.0,1.0,1.0,1.0,1.0,1.0,1.0,1.0,1.0,1.0,1.0,1.0,1.0,1.0,1.0,1.0,1.0,1.0,1.0,1.0,1.0,1.0,1.0,1.0,1.0,1.0,1.0,1.0,1.0,1.0,1.0,1.0,1.0,1.0,1.0,1.0,1.0,1.0,1.0,1.0,1.0,1.0,1.0,1.0,1.0,1.0,1.0,1.0,1.0,1.0,1.0,1.0,1.0,1.0,1.0,1.0,1.0,1.0,1.0,1.0,1.0,1.0,1.0,1.0,1.0,1.0,1.0,1.0,1.0,1.0,1.0,1.0,1.0,1.0,1.0,1.0,1.0,1.0,1.0,1.0,1.0,1.0,1.0,1.0,1.0,1.0],[1.0,1.0,1.0,1.0,1.0,1.0,1.0,1.0,1.0,1.0,1.0,1.0,1.0,1.0,1.0,1.0,1.0,1.0,1.0,1.0,1.0,1.0,1.0,1.0,1.0,1.0,1.0,1.0,1.0,1.0,1.0,1.0,1.0,1.0,1.0,1.0,1.0,1.0,1.0,1.0,1.0,1.0,1.0,1.0,1.0,1.0,1.0,1.0,1.0,1.0,1.0,1.0,1.0,1.0,1.0,1.0,1.0,1.0,1.0,1.0,1.0,1.0,1.0,1.0,1.0,1.0,1.0,1.0,1.0,1.0,1.0,1.0,1.0,1.0,1.0,1.0,1.0,1.0,1.0,1.0,1.0,1.0,1.0,1.0,1.0,1.0,1.0,1.0,1.0,1.0,1.0,1.0,1.0,1.0,1.0,1.0,1.0,1.0,1.0,1.0,1.0,1.0,1.0,1.0,1.0,1.0,1.0,1.0,1.0,1.0,1.0,1.0,1.0,1.0,1.0,1.0,1.0,1.0,1.0,1.0],[1.0,1.0,1.0,1.0,1.0,1.0,1.0,1.0,1.0,1.0,1.0,1.0,1.0,1.0,1.0,1.0,1.0,1.0,1.0,1.0,1.0,1.0,1.0,1.0,1.0,1.0,1.0,1.0,1.0,1.0,1.0,1.0,1.0,1.0,1.0,1.0,1.0,1.0,1.0,1.0,1.0,1.0,1.0,1.0,1.0,1.0,1.0,1.0,1.0,1.0,1.0,1.0,1.0,1.0,1.0,1.0,1.0,1.0,1.0,1.0,1.0,1.0,1.0,1.0,1.0,1.0,1.0,1.0,1.0,1.0,1.0,1.0,1.0,1.0,1.0,1.0,1.0,1.0,1.0,1.0,1.0,1.0,1.0,1.0,1.0,1.0,1.0,1.0,1.0,1.0,1.0,1.0,1.0,1.0,1.0,1.0,1.0,1.0,1.0,1.0,1.0,1.0,1.0,1.0,1.0,1.0,1.0,1.0,1.0,1.0,1.0,1.0,1.0,1.0,1.0,1.0,1.0,1.0,1.0,1.0],[1.0,1.0,1.0,1.0,1.0,1.0,1.0,1.0,1.0,1.0,1.0,1.0,1.0,1.0,1.0,1.0,1.0,1.0,1.0,1.0,1.0,1.0,1.0,1.0,1.0,1.0,1.0,1.0,1.0,1.0,1.0,1.0,1.0,1.0,1.0,1.0,1.0,1.0,1.0,1.0,1.0,1.0,1.0,1.0,1.0,1.0,1.0,1.0,1.0,1.0,1.0,1.0,1.0,1.0,1.0,1.0,1.0,1.0,1.0,1.0,1.0,1.0,1.0,1.0,1.0,1.0,1.0,1.0,1.0,1.0,1.0,1.0,1.0,1.0,1.0,1.0,1.0,1.0,1.0,1.0,1.0,1.0,1.0,1.0,1.0,1.0,1.0,1.0,1.0,1.0,1.0,1.0,1.0,1.0,1.0,1.0,1.0,1.0,1.0,1.0,1.0,1.0,1.0,1.0,1.0,1.0,1.0,1.0,1.0,1.0,1.0,1.0,1.0,1.0,1.0,1.0,1.0,1.0,1.0,1.0],[1.0,1.0,1.0,1.0,1.0,1.0,1.0,1.0,1.0,1.0,1.0,1.0,1.0,1.0,1.0,1.0,1.0,1.0,1.0,1.0,1.0,1.0,1.0,1.0,1.0,1.0,1.0,1.0,1.0,1.0,1.0,1.0,1.0,1.0,1.0,1.0,1.0,1.0,1.0,1.0,1.0,1.0,1.0,1.0,1.0,1.0,1.0,1.0,1.0,1.0,1.0,1.0,1.0,1.0,1.0,1.0,1.0,1.0,1.0,1.0,1.0,1.0,1.0,1.0,1.0,1.0,1.0,1.0,1.0,1.0,1.0,1.0,1.0,1.0,1.0,1.0,1.0,1.0,1.0,1.0,1.0,1.0,1.0,1.0,1.0,1.0,1.0,1.0,1.0,1.0,1.0,1.0,1.0,1.0,1.0,1.0,1.0,1.0,1.0,1.0,1.0,1.0,1.0,1.0,1.0,1.0,1.0,1.0,1.0,1.0,1.0,1.0,1.0,1.0,1.0,1.0,1.0,1.0,1.0,1.0],[1.0,1.0,1.0,1.0,1.0,1.0,1.0,1.0,1.0,1.0,1.0,1.0,1.0,1.0,1.0,1.0,1.0,1.0,1.0,1.0,1.0,1.0,1.0,1.0,1.0,1.0,1.0,1.0,1.0,1.0,1.0,1.0,1.0,1.0,1.0,1.0,1.0,1.0,1.0,1.0,1.0,1.0,1.0,1.0,1.0,1.0,1.0,1.0,1.0,1.0,1.0,1.0,1.0,1.0,1.0,1.0,1.0,1.0,1.0,1.0,1.0,1.0,1.0,1.0,1.0,1.0,1.0,1.0,1.0,1.0,1.0,1.0,1.0,1.0,1.0,1.0,1.0,1.0,1.0,1.0,1.0,1.0,1.0,1.0,1.0,1.0,1.0,1.0,1.0,1.0,1.0,1.0,1.0,1.0,1.0,1.0,1.0,1.0,1.0,1.0,1.0,1.0,1.0,1.0,1.0,1.0,1.0,1.0,1.0,1.0,1.0,1.0,1.0,1.0,1.0,1.0,1.0,1.0,1.0,1.0],[1.0,1.0,1.0,1.0,1.0,1.0,1.0,1.0,1.0,1.0,1.0,1.0,1.0,1.0,1.0,1.0,1.0,1.0,1.0,1.0,1.0,1.0,1.0,1.0,1.0,1.0,1.0,1.0,1.0,1.0,1.0,1.0,1.0,1.0,1.0,1.0,1.0,1.0,1.0,1.0,1.0,1.0,1.0,1.0,1.0,1.0,1.0,1.0,1.0,1.0,1.0,1.0,1.0,1.0,1.0,1.0,1.0,1.0,1.0,1.0,1.0,1.0,1.0,1.0,1.0,1.0,1.0,1.0,1.0,1.0,1.0,1.0,1.0,1.0,1.0,1.0,1.0,1.0,1.0,1.0,1.0,1.0,1.0,1.0,1.0,1.0,1.0,1.0,1.0,1.0,1.0,1.0,1.0,1.0,1.0,1.0,1.0,1.0,1.0,1.0,1.0,1.0,1.0,1.0,1.0,1.0,1.0,1.0,1.0,1.0,1.0,1.0,1.0,1.0,1.0,1.0,1.0,1.0,1.0,1.0],[1.0,1.0,1.0,1.0,1.0,1.0,1.0,1.0,1.0,1.0,1.0,1.0,1.0,1.0,1.0,1.0,1.0,1.0,1.0,1.0,1.0,1.0,1.0,1.0,1.0,1.0,1.0,1.0,1.0,1.0,1.0,1.0,1.0,1.0,1.0,1.0,1.0,1.0,1.0,1.0,1.0,1.0,1.0,1.0,1.0,1.0,1.0,1.0,1.0,1.0,1.0,1.0,1.0,1.0,1.0,1.0,1.0,1.0,1.0,1.0,1.0,1.0,1.0,1.0,1.0,1.0,1.0,1.0,1.0,1.0,1.0,1.0,1.0,1.0,1.0,1.0,1.0,1.0,1.0,1.0,1.0,1.0,1.0,1.0,1.0,1.0,1.0,1.0,1.0,1.0,1.0,1.0,1.0,1.0,1.0,1.0,1.0,1.0,1.0,1.0,1.0,1.0,1.0,1.0,1.0,1.0,1.0,1.0,1.0,1.0,1.0,1.0,1.0,1.0,1.0,1.0,1.0,1.0,1.0,1.0],[1.0,1.0,1.0,1.0,1.0,1.0,1.0,1.0,1.0,1.0,1.0,1.0,1.0,1.0,1.0,1.0,1.0,1.0,1.0,1.0,1.0,1.0,1.0,1.0,1.0,1.0,1.0,1.0,1.0,1.0,1.0,1.0,1.0,1.0,1.0,1.0,1.0,1.0,1.0,1.0,1.0,1.0,1.0,1.0,1.0,1.0,1.0,1.0,1.0,1.0,1.0,1.0,1.0,1.0,1.0,1.0,1.0,1.0,1.0,1.0,1.0,1.0,1.0,1.0,1.0,1.0,1.0,1.0,1.0,1.0,1.0,1.0,1.0,1.0,1.0,1.0,1.0,1.0,1.0,1.0,1.0,1.0,1.0,1.0,1.0,1.0,1.0,1.0,1.0,1.0,1.0,1.0,1.0,1.0,1.0,1.0,1.0,1.0,1.0,1.0,1.0,1.0,1.0,1.0,1.0,1.0,1.0,1.0,1.0,1.0,1.0,1.0,1.0,1.0,1.0,1.0,1.0,1.0,1.0,1.0],[1.0,1.0,1.0,1.0,1.0,1.0,1.0,1.0,1.0,1.0,1.0,1.0,1.0,1.0,1.0,1.0,1.0,1.0,1.0,1.0,1.0,1.0,1.0,1.0,1.0,1.0,1.0,1.0,1.0,1.0,1.0,1.0,1.0,1.0,1.0,1.0,1.0,1.0,1.0,1.0,1.0,1.0,1.0,1.0,1.0,1.0,1.0,1.0,1.0,1.0,1.0,1.0,1.0,1.0,1.0,1.0,1.0,1.0,1.0,1.0,1.0,1.0,1.0,1.0,1.0,1.0,1.0,1.0,1.0,1.0,1.0,1.0,1.0,1.0,1.0,1.0,1.0,1.0,1.0,1.0,1.0,1.0,1.0,1.0,1.0,1.0,1.0,1.0,1.0,1.0,1.0,1.0,1.0,1.0,1.0,1.0,1.0,1.0,1.0,1.0,1.0,1.0,1.0,1.0,1.0,1.0,1.0,1.0,1.0,1.0,1.0,1.0,1.0,1.0,1.0,1.0,1.0,1.0,1.0,1.0],[1.0,1.0,1.0,1.0,1.0,1.0,1.0,1.0,1.0,1.0,1.0,1.0,1.0,1.0,1.0,1.0,1.0,1.0,1.0,1.0,1.0,1.0,1.0,1.0,1.0,1.0,1.0,1.0,1.0,1.0,1.0,1.0,1.0,1.0,1.0,1.0,1.0,1.0,1.0,1.0,1.0,1.0,1.0,1.0,1.0,1.0,1.0,1.0,1.0,1.0,1.0,1.0,1.0,1.0,1.0,1.0,1.0,1.0,1.0,1.0,1.0,1.0,1.0,1.0,1.0,1.0,1.0,1.0,1.0,1.0,1.0,1.0,1.0,1.0,1.0,1.0,1.0,1.0,1.0,1.0,1.0,1.0,1.0,1.0,1.0,1.0,1.0,1.0,1.0,1.0,1.0,1.0,1.0,1.0,1.0,1.0,1.0,1.0,1.0,1.0,1.0,1.0,1.0,1.0,1.0,1.0,1.0,1.0,1.0,1.0,1.0,1.0,1.0,1.0,1.0,1.0,1.0,1.0,1.0,1.0],[1.0,1.0,1.0,1.0,1.0,1.0,1.0,1.0,1.0,1.0,1.0,1.0,1.0,1.0,1.0,1.0,1.0,1.0,1.0,1.0,1.0,1.0,1.0,1.0,1.0,1.0,1.0,1.0,1.0,1.0,1.0,1.0,1.0,1.0,1.0,1.0,1.0,1.0,1.0,1.0,1.0,1.0,1.0,1.0,1.0,1.0,1.0,1.0,1.0,1.0,1.0,1.0,1.0,1.0,1.0,1.0,1.0,1.0,1.0,1.0,1.0,1.0,1.0,1.0,1.0,1.0,1.0,1.0,1.0,1.0,1.0,1.0,1.0,1.0,1.0,1.0,1.0,1.0,1.0,1.0,1.0,1.0,1.0,1.0,1.0,1.0,1.0,1.0,1.0,1.0,1.0,1.0,1.0,1.0,1.0,1.0,1.0,1.0,1.0,1.0,1.0,1.0,1.0,1.0,1.0,1.0,1.0,1.0,1.0,1.0,1.0,1.0,1.0,1.0,1.0,1.0,1.0,1.0,1.0,1.0],[1.0,1.0,1.0,1.0,1.0,1.0,1.0,1.0,1.0,1.0,1.0,1.0,1.0,1.0,1.0,1.0,1.0,1.0,1.0,1.0,1.0,1.0,1.0,1.0,1.0,1.0,1.0,1.0,1.0,1.0,1.0,1.0,1.0,1.0,1.0,1.0,1.0,1.0,1.0,1.0,1.0,1.0,1.0,1.0,1.0,1.0,1.0,1.0,1.0,1.0,1.0,1.0,1.0,1.0,1.0,1.0,1.0,1.0,1.0,1.0,1.0,1.0,1.0,1.0,1.0,1.0,1.0,1.0,1.0,1.0,1.0,1.0,1.0,1.0,1.0,1.0,1.0,1.0,1.0,1.0,1.0,1.0,1.0,1.0,1.0,1.0,1.0,1.0,1.0,1.0,1.0,1.0,1.0,1.0,1.0,1.0,1.0,1.0,1.0,1.0,1.0,1.0,1.0,1.0,1.0,1.0,1.0,1.0,1.0,1.0,1.0,1.0,1.0,1.0,1.0,1.0,1.0,1.0,1.0,1.0],[1.0,1.0,1.0,1.0,1.0,1.0,1.0,1.0,1.0,1.0,1.0,1.0,1.0,1.0,1.0,1.0,1.0,1.0,1.0,1.0,1.0,1.0,1.0,1.0,1.0,1.0,1.0,1.0,1.0,1.0,1.0,1.0,1.0,1.0,1.0,1.0,1.0,1.0,1.0,1.0,1.0,1.0,1.0,1.0,1.0,1.0,1.0,1.0,1.0,1.0,1.0,1.0,1.0,1.0,1.0,1.0,1.0,1.0,1.0,1.0,1.0,1.0,1.0,1.0,1.0,1.0,1.0,1.0,1.0,1.0,1.0,1.0,1.0,1.0,1.0,1.0,1.0,1.0,1.0,1.0,1.0,1.0,1.0,1.0,1.0,1.0,1.0,1.0,1.0,1.0,1.0,1.0,1.0,1.0,1.0,1.0,1.0,1.0,1.0,1.0,1.0,1.0,1.0,1.0,1.0,1.0,1.0,1.0,1.0,1.0,1.0,1.0,1.0,1.0,1.0,1.0,1.0,1.0,1.0,1.0],[1.0,1.0,1.0,1.0,1.0,1.0,1.0,1.0,1.0,1.0,1.0,1.0,1.0,1.0,1.0,1.0,1.0,1.0,1.0,1.0,1.0,1.0,1.0,1.0,1.0,1.0,1.0,1.0,1.0,1.0,1.0,1.0,1.0,1.0,1.0,1.0,1.0,1.0,1.0,1.0,1.0,1.0,1.0,1.0,1.0,1.0,1.0,1.0,1.0,1.0,1.0,1.0,1.0,1.0,1.0,1.0,1.0,1.0,1.0,1.0,1.0,1.0,1.0,1.0,1.0,1.0,1.0,1.0,1.0,1.0,1.0,1.0,1.0,1.0,1.0,1.0,1.0,1.0,1.0,1.0,1.0,1.0,1.0,1.0,1.0,1.0,1.0,1.0,1.0,1.0,1.0,1.0,1.0,1.0,1.0,1.0,1.0,1.0,1.0,1.0,1.0,1.0,1.0,1.0,1.0,1.0,1.0,1.0,1.0,1.0,1.0,1.0,1.0,1.0,1.0,1.0,1.0,1.0,1.0,1.0],[1.0,1.0,1.0,1.0,1.0,1.0,1.0,1.0,1.0,1.0,1.0,1.0,1.0,1.0,1.0,1.0,1.0,1.0,1.0,1.0,1.0,1.0,1.0,1.0,1.0,1.0,1.0,1.0,1.0,1.0,1.0,1.0,1.0,1.0,1.0,1.0,1.0,1.0,1.0,1.0,1.0,1.0,1.0,1.0,1.0,1.0,1.0,1.0,1.0,1.0,1.0,1.0,1.0,1.0,1.0,1.0,1.0,1.0,1.0,1.0,1.0,1.0,1.0,1.0,1.0,1.0,1.0,1.0,1.0,1.0,1.0,1.0,1.0,1.0,1.0,1.0,1.0,1.0,1.0,1.0,1.0,1.0,1.0,1.0,1.0,1.0,1.0,1.0,1.0,1.0,1.0,1.0,1.0,1.0,1.0,1.0,1.0,1.0,1.0,1.0,1.0,1.0,1.0,1.0,1.0,1.0,1.0,1.0,1.0,1.0,1.0,1.0,1.0,1.0,1.0,1.0,1.0,1.0,1.0,1.0],[1.0,1.0,1.0,1.0,1.0,1.0,1.0,1.0,1.0,1.0,1.0,1.0,1.0,1.0,1.0,1.0,1.0,1.0,1.0,1.0,1.0,1.0,1.0,1.0,1.0,1.0,1.0,1.0,1.0,1.0,1.0,1.0,1.0,1.0,1.0,1.0,1.0,1.0,1.0,1.0,1.0,1.0,1.0,1.0,1.0,1.0,1.0,1.0,1.0,1.0,1.0,1.0,1.0,1.0,1.0,1.0,1.0,1.0,1.0,1.0,1.0,1.0,1.0,1.0,1.0,1.0,1.0,1.0,1.0,1.0,1.0,1.0,1.0,1.0,1.0,1.0,1.0,1.0,1.0,1.0,1.0,1.0,1.0,1.0,1.0,1.0,1.0,1.0,1.0,1.0,1.0,1.0,1.0,1.0,1.0,1.0,1.0,1.0,1.0,1.0,1.0,1.0,1.0,1.0,1.0,1.0,1.0,1.0,1.0,1.0,1.0,1.0,1.0,1.0,1.0,1.0,1.0,1.0,1.0,1.0],[1.0,1.0,1.0,1.0,1.0,1.0,1.0,1.0,1.0,1.0,1.0,1.0,1.0,1.0,1.0,1.0,1.0,1.0,1.0,1.0,1.0,1.0,1.0,1.0,1.0,1.0,1.0,1.0,1.0,1.0,1.0,1.0,1.0,1.0,1.0,1.0,1.0,1.0,1.0,1.0,1.0,1.0,1.0,1.0,1.0,1.0,1.0,1.0,1.0,1.0,1.0,1.0,1.0,1.0,1.0,1.0,1.0,1.0,1.0,1.0,1.0,1.0,1.0,1.0,1.0,1.0,1.0,1.0,1.0,1.0,1.0,1.0,1.0,1.0,1.0,1.0,1.0,1.0,1.0,1.0,1.0,1.0,1.0,1.0,1.0,1.0,1.0,1.0,1.0,1.0,1.0,1.0,1.0,1.0,1.0,1.0,1.0,1.0,1.0,1.0,1.0,1.0,1.0,1.0,1.0,1.0,1.0,1.0,1.0,1.0,1.0,1.0,1.0,1.0,1.0,1.0,1.0,1.0,1.0,1.0],[1.0,1.0,1.0,1.0,1.0,1.0,1.0,1.0,1.0,1.0,1.0,1.0,1.0,1.0,1.0,1.0,1.0,1.0,1.0,1.0,1.0,1.0,1.0,1.0,1.0,1.0,1.0,1.0,1.0,1.0,1.0,1.0,1.0,1.0,1.0,1.0,1.0,1.0,1.0,1.0,1.0,1.0,1.0,1.0,1.0,1.0,1.0,1.0,1.0,1.0,1.0,1.0,1.0,1.0,1.0,1.0,1.0,1.0,1.0,1.0,1.0,1.0,1.0,1.0,1.0,1.0,1.0,1.0,1.0,1.0,1.0,1.0,1.0,1.0,1.0,1.0,1.0,1.0,1.0,1.0,1.0,1.0,1.0,1.0,1.0,1.0,1.0,1.0,1.0,1.0,1.0,1.0,1.0,1.0,1.0,1.0,1.0,1.0,1.0,1.0,1.0,1.0,1.0,1.0,1.0,1.0,1.0,1.0,1.0,1.0,1.0,1.0,1.0,1.0,1.0,1.0,1.0,1.0,1.0,1.0],[1.0,1.0,1.0,1.0,1.0,1.0,1.0,1.0,1.0,1.0,1.0,1.0,1.0,1.0,1.0,1.0,1.0,1.0,1.0,1.0,1.0,1.0,1.0,1.0,1.0,1.0,1.0,1.0,1.0,1.0,1.0,1.0,1.0,1.0,1.0,1.0,1.0,1.0,1.0,1.0,1.0,1.0,1.0,1.0,1.0,1.0,1.0,1.0,1.0,1.0,1.0,1.0,1.0,1.0,1.0,1.0,1.0,1.0,1.0,1.0,1.0,1.0,1.0,1.0,1.0,1.0,1.0,1.0,1.0,1.0,1.0,1.0,1.0,1.0,1.0,1.0,1.0,1.0,1.0,1.0,1.0,1.0,1.0,1.0,1.0,1.0,1.0,1.0,1.0,1.0,1.0,1.0,1.0,1.0,1.0,1.0,1.0,1.0,1.0,1.0,1.0,1.0,1.0,1.0,1.0,1.0,1.0,1.0,1.0,1.0,1.0,1.0,1.0,1.0,1.0,1.0,1.0,1.0,1.0,1.0],[1.0,1.0,1.0,1.0,1.0,1.0,1.0,1.0,1.0,1.0,1.0,1.0,1.0,1.0,1.0,1.0,1.0,1.0,1.0,1.0,1.0,1.0,1.0,1.0,1.0,1.0,1.0,1.0,1.0,1.0,1.0,1.0,1.0,1.0,1.0,1.0,1.0,1.0,1.0,1.0,1.0,1.0,1.0,1.0,1.0,1.0,1.0,1.0,1.0,1.0,1.0,1.0,1.0,1.0,1.0,1.0,1.0,1.0,1.0,1.0,1.0,1.0,1.0,1.0,1.0,1.0,1.0,1.0,1.0,1.0,1.0,1.0,1.0,1.0,1.0,1.0,1.0,1.0,1.0,1.0,1.0,1.0,1.0,1.0,1.0,1.0,1.0,1.0,1.0,1.0,1.0,1.0,1.0,1.0,1.0,1.0,1.0,1.0,1.0,1.0,1.0,1.0,1.0,1.0,1.0,1.0,1.0,1.0,1.0,1.0,1.0,1.0,1.0,1.0,1.0,1.0,1.0,1.0,1.0,1.0],[1.0,1.0,1.0,1.0,1.0,1.0,1.0,1.0,1.0,1.0,1.0,1.0,1.0,1.0,1.0,1.0,1.0,1.0,1.0,1.0,1.0,1.0,1.0,1.0,1.0,1.0,1.0,1.0,1.0,1.0,1.0,1.0,1.0,1.0,1.0,1.0,1.0,1.0,1.0,1.0,1.0,1.0,1.0,1.0,1.0,1.0,1.0,1.0,1.0,1.0,1.0,1.0,1.0,1.0,1.0,1.0,1.0,1.0,1.0,1.0,1.0,1.0,1.0,1.0,1.0,1.0,1.0,1.0,1.0,1.0,1.0,1.0,1.0,1.0,1.0,1.0,1.0,1.0,1.0,1.0,1.0,1.0,1.0,1.0,1.0,1.0,1.0,1.0,1.0,1.0,1.0,1.0,1.0,1.0,1.0,1.0,1.0,1.0,1.0,1.0,1.0,1.0,1.0,1.0,1.0,1.0,1.0,1.0,1.0,1.0,1.0,1.0,1.0,1.0,1.0,1.0,1.0,1.0,1.0,1.0],[1.0,1.0,1.0,1.0,1.0,1.0,1.0,1.0,1.0,1.0,1.0,1.0,1.0,1.0,1.0,1.0,1.0,1.0,1.0,1.0,1.0,1.0,1.0,1.0,1.0,1.0,1.0,1.0,1.0,1.0,1.0,1.0,1.0,1.0,1.0,1.0,1.0,1.0,1.0,1.0,1.0,1.0,1.0,1.0,1.0,1.0,1.0,1.0,1.0,1.0,1.0,1.0,1.0,1.0,1.0,1.0,1.0,1.0,1.0,1.0,1.0,1.0,1.0,1.0,1.0,1.0,1.0,1.0,1.0,1.0,1.0,1.0,1.0,1.0,1.0,1.0,1.0,1.0,1.0,1.0,1.0,1.0,1.0,1.0,1.0,1.0,1.0,1.0,1.0,1.0,1.0,1.0,1.0,1.0,1.0,1.0,1.0,1.0,1.0,1.0,1.0,1.0,1.0,1.0,1.0,1.0,1.0,1.0,1.0,1.0,1.0,1.0,1.0,1.0,1.0,1.0,1.0,1.0,1.0,1.0],[1.0,1.0,1.0,1.0,1.0,1.0,1.0,1.0,1.0,1.0,1.0,1.0,1.0,1.0,1.0,1.0,1.0,1.0,1.0,1.0,1.0,1.0,1.0,1.0,1.0,1.0,1.0,1.0,1.0,1.0,1.0,1.0,1.0,1.0,1.0,1.0,1.0,1.0,1.0,1.0,1.0,1.0,1.0,1.0,1.0,1.0,1.0,1.0,1.0,1.0,1.0,1.0,1.0,1.0,1.0,1.0,1.0,1.0,1.0,1.0,1.0,1.0,1.0,1.0,1.0,1.0,1.0,1.0,1.0,1.0,1.0,1.0,1.0,1.0,1.0,1.0,1.0,1.0,1.0,1.0,1.0,1.0,1.0,1.0,1.0,1.0,1.0,1.0,1.0,1.0,1.0,1.0,1.0,1.0,1.0,1.0,1.0,1.0,1.0,1.0,1.0,1.0,1.0,1.0,1.0,1.0,1.0,1.0,1.0,1.0,1.0,1.0,1.0,1.0,1.0,1.0,1.0,1.0,1.0,1.0],[1.0,1.0,1.0,1.0,1.0,1.0,1.0,1.0,1.0,1.0,1.0,1.0,1.0,1.0,1.0,1.0,1.0,1.0,1.0,1.0,1.0,1.0,1.0,1.0,1.0,1.0,1.0,1.0,1.0,1.0,1.0,1.0,1.0,1.0,1.0,1.0,1.0,1.0,1.0,1.0,1.0,1.0,1.0,1.0,1.0,1.0,1.0,1.0,1.0,1.0,1.0,1.0,1.0,1.0,1.0,1.0,1.0,1.0,1.0,1.0,1.0,1.0,1.0,1.0,1.0,1.0,1.0,1.0,1.0,1.0,1.0,1.0,1.0,1.0,1.0,1.0,1.0,1.0,1.0,1.0,1.0,1.0,1.0,1.0,1.0,1.0,1.0,1.0,1.0,1.0,1.0,1.0,1.0,1.0,1.0,1.0,1.0,1.0,1.0,1.0,1.0,1.0,1.0,1.0,1.0,1.0,1.0,1.0,1.0,1.0,1.0,1.0,1.0,1.0,1.0,1.0,1.0,1.0,1.0,1.0],[1.0,1.0,1.0,1.0,1.0,1.0,1.0,1.0,1.0,1.0,1.0,1.0,1.0,1.0,1.0,1.0,1.0,1.0,1.0,1.0,1.0,1.0,1.0,1.0,1.0,1.0,1.0,1.0,1.0,1.0,1.0,1.0,1.0,1.0,1.0,1.0,1.0,1.0,1.0,1.0,1.0,1.0,1.0,1.0,1.0,1.0,1.0,1.0,1.0,1.0,1.0,1.0,1.0,1.0,1.0,1.0,1.0,1.0,1.0,1.0,1.0,1.0,1.0,1.0,1.0,1.0,1.0,1.0,1.0,1.0,1.0,1.0,1.0,1.0,1.0,1.0,1.0,1.0,1.0,1.0,1.0,1.0,1.0,1.0,1.0,1.0,1.0,1.0,1.0,1.0,1.0,1.0,1.0,1.0,1.0,1.0,1.0,1.0,1.0,1.0,1.0,1.0,1.0,1.0,1.0,1.0,1.0,1.0,1.0,1.0,1.0,1.0,1.0,1.0,1.0,1.0,1.0,1.0,1.0,1.0],[1.0,1.0,1.0,1.0,1.0,1.0,1.0,1.0,1.0,1.0,1.0,1.0,1.0,1.0,1.0,1.0,1.0,1.0,1.0,1.0,1.0,1.0,1.0,1.0,1.0,1.0,1.0,1.0,1.0,1.0,1.0,1.0,1.0,1.0,1.0,1.0,1.0,1.0,1.0,1.0,1.0,1.0,1.0,1.0,1.0,1.0,1.0,1.0,1.0,1.0,1.0,1.0,1.0,1.0,1.0,1.0,1.0,1.0,1.0,1.0,1.0,1.0,1.0,1.0,1.0,1.0,1.0,1.0,1.0,1.0,1.0,1.0,1.0,1.0,1.0,1.0,1.0,1.0,1.0,1.0,1.0,1.0,1.0,1.0,1.0,1.0,1.0,1.0,1.0,1.0,1.0,1.0,1.0,1.0,1.0,1.0,1.0,1.0,1.0,1.0,1.0,1.0,1.0,1.0,1.0,1.0,1.0,1.0,1.0,1.0,1.0,1.0,1.0,1.0,1.0,1.0,1.0,1.0,1.0,1.0],[1.0,1.0,1.0,1.0,1.0,1.0,1.0,1.0,1.0,1.0,1.0,1.0,1.0,1.0,1.0,1.0,1.0,1.0,1.0,1.0,1.0,1.0,1.0,1.0,1.0,1.0,1.0,1.0,1.0,1.0,1.0,1.0,1.0,1.0,1.0,1.0,1.0,1.0,1.0,1.0,1.0,1.0,1.0,1.0,1.0,1.0,1.0,1.0,1.0,1.0,1.0,1.0,1.0,1.0,1.0,1.0,1.0,1.0,1.0,1.0,1.0,1.0,1.0,1.0,1.0,1.0,1.0,1.0,1.0,1.0,1.0,1.0,1.0,1.0,1.0,1.0,1.0,1.0,1.0,1.0,1.0,1.0,1.0,1.0,1.0,1.0,1.0,1.0,1.0,1.0,1.0,1.0,1.0,1.0,1.0,1.0,1.0,1.0,1.0,1.0,1.0,1.0,1.0,1.0,1.0,1.0,1.0,1.0,1.0,1.0,1.0,1.0,1.0,1.0,1.0,1.0,1.0,1.0,1.0,1.0],[1.0,1.0,1.0,1.0,1.0,1.0,1.0,1.0,1.0,1.0,1.0,1.0,1.0,1.0,1.0,1.0,1.0,1.0,1.0,1.0,1.0,1.0,1.0,1.0,1.0,1.0,1.0,1.0,1.0,1.0,1.0,1.0,1.0,1.0,1.0,1.0,1.0,1.0,1.0,1.0,1.0,1.0,1.0,1.0,1.0,1.0,1.0,1.0,1.0,1.0,1.0,1.0,1.0,1.0,1.0,1.0,1.0,1.0,1.0,1.0,1.0,1.0,1.0,1.0,1.0,1.0,1.0,1.0,1.0,1.0,1.0,1.0,1.0,1.0,1.0,1.0,1.0,1.0,1.0,1.0,1.0,1.0,1.0,1.0,1.0,1.0,1.0,1.0,1.0,1.0,1.0,1.0,1.0,1.0,1.0,1.0,1.0,1.0,1.0,1.0,1.0,1.0,1.0,1.0,1.0,1.0,1.0,1.0,1.0,1.0,1.0,1.0,1.0,1.0,1.0,1.0,1.0,1.0,1.0,1.0],[1.0,1.0,1.0,1.0,1.0,1.0,1.0,1.0,1.0,1.0,1.0,1.0,1.0,1.0,1.0,1.0,1.0,1.0,1.0,1.0,1.0,1.0,1.0,1.0,1.0,1.0,1.0,1.0,1.0,1.0,1.0,1.0,1.0,1.0,1.0,1.0,1.0,1.0,1.0,1.0,1.0,1.0,1.0,1.0,1.0,1.0,1.0,1.0,1.0,1.0,1.0,1.0,1.0,1.0,1.0,1.0,1.0,1.0,1.0,1.0,1.0,1.0,1.0,1.0,1.0,1.0,1.0,1.0,1.0,1.0,1.0,1.0,1.0,1.0,1.0,1.0,1.0,1.0,1.0,1.0,1.0,1.0,1.0,1.0,1.0,1.0,1.0,1.0,1.0,1.0,1.0,1.0,1.0,1.0,1.0,1.0,1.0,1.0,1.0,1.0,1.0,1.0,1.0,1.0,1.0,1.0,1.0,1.0,1.0,1.0,1.0,1.0,1.0,1.0,1.0,1.0,1.0,1.0,1.0,1.0],[1.0,1.0,1.0,1.0,1.0,1.0,1.0,1.0,1.0,1.0,1.0,1.0,1.0,1.0,1.0,1.0,1.0,1.0,1.0,1.0,1.0,1.0,1.0,1.0,1.0,1.0,1.0,1.0,1.0,1.0,1.0,1.0,1.0,1.0,1.0,1.0,1.0,1.0,1.0,1.0,1.0,1.0,1.0,1.0,1.0,1.0,1.0,1.0,1.0,1.0,1.0,1.0,1.0,1.0,1.0,1.0,1.0,1.0,1.0,1.0,1.0,1.0,1.0,1.0,1.0,1.0,1.0,1.0,1.0,1.0,1.0,1.0,1.0,1.0,1.0,1.0,1.0,1.0,1.0,1.0,1.0,1.0,1.0,1.0,1.0,1.0,1.0,1.0,1.0,1.0,1.0,1.0,1.0,1.0,1.0,1.0,1.0,1.0,1.0,1.0,1.0,1.0,1.0,1.0,1.0,1.0,1.0,1.0,1.0,1.0,1.0,1.0,1.0,1.0,1.0,1.0,1.0,1.0,1.0,1.0],[1.0,1.0,1.0,1.0,1.0,1.0,1.0,1.0,1.0,1.0,1.0,1.0,1.0,1.0,1.0,1.0,1.0,1.0,1.0,1.0,1.0,1.0,1.0,1.0,1.0,1.0,1.0,1.0,1.0,1.0,1.0,1.0,1.0,1.0,1.0,1.0,1.0,1.0,1.0,1.0,1.0,1.0,1.0,1.0,1.0,1.0,1.0,1.0,1.0,1.0,1.0,1.0,1.0,1.0,1.0,1.0,1.0,1.0,1.0,1.0,1.0,1.0,1.0,1.0,1.0,1.0,1.0,1.0,1.0,1.0,1.0,1.0,1.0,1.0,1.0,1.0,1.0,1.0,1.0,1.0,1.0,1.0,1.0,1.0,1.0,1.0,1.0,1.0,1.0,1.0,1.0,1.0,1.0,1.0,1.0,1.0,1.0,1.0,1.0,1.0,1.0,1.0,1.0,1.0,1.0,1.0,1.0,1.0,1.0,1.0,1.0,1.0,1.0,1.0,1.0,1.0,1.0,1.0,1.0,1.0],[1.0,1.0,1.0,1.0,1.0,1.0,1.0,1.0,1.0,1.0,1.0,1.0,1.0,1.0,1.0,1.0,1.0,1.0,1.0,1.0,1.0,1.0,1.0,1.0,1.0,1.0,1.0,1.0,1.0,1.0,1.0,1.0,1.0,1.0,1.0,1.0,1.0,1.0,1.0,1.0,1.0,1.0,1.0,1.0,1.0,1.0,1.0,1.0,1.0,1.0,1.0,1.0,1.0,1.0,1.0,1.0,1.0,1.0,1.0,1.0,1.0,1.0,1.0,1.0,1.0,1.0,1.0,1.0,1.0,1.0,1.0,1.0,1.0,1.0,1.0,1.0,1.0,1.0,1.0,1.0,1.0,1.0,1.0,1.0,1.0,1.0,1.0,1.0,1.0,1.0,1.0,1.0,1.0,1.0,1.0,1.0,1.0,1.0,1.0,1.0,1.0,1.0,1.0,1.0,1.0,1.0,1.0,1.0,1.0,1.0,1.0,1.0,1.0,1.0,1.0,1.0,1.0,1.0,1.0,1.0],[1.0,1.0,1.0,1.0,1.0,1.0,1.0,1.0,1.0,1.0,1.0,1.0,1.0,1.0,1.0,1.0,1.0,1.0,1.0,1.0,1.0,1.0,1.0,1.0,1.0,1.0,1.0,1.0,1.0,1.0,1.0,1.0,1.0,1.0,1.0,1.0,1.0,1.0,1.0,1.0,1.0,1.0,1.0,1.0,1.0,1.0,1.0,1.0,1.0,1.0,1.0,1.0,1.0,1.0,1.0,1.0,1.0,1.0,1.0,1.0,1.0,1.0,1.0,1.0,1.0,1.0,1.0,1.0,1.0,1.0,1.0,1.0,1.0,1.0,1.0,1.0,1.0,1.0,1.0,1.0,1.0,1.0,1.0,1.0,1.0,1.0,1.0,1.0,1.0,1.0,1.0,1.0,1.0,1.0,1.0,1.0,1.0,1.0,1.0,1.0,1.0,1.0,1.0,1.0,1.0,1.0,1.0,1.0,1.0,1.0,1.0,1.0,1.0,1.0,1.0,1.0,1.0,1.0,1.0,1.0],[1.0,1.0,1.0,1.0,1.0,1.0,1.0,1.0,1.0,1.0,1.0,1.0,1.0,1.0,1.0,1.0,1.0,1.0,1.0,1.0,1.0,1.0,1.0,1.0,1.0,1.0,1.0,1.0,1.0,1.0,1.0,1.0,1.0,1.0,1.0,1.0,1.0,1.0,1.0,1.0,1.0,1.0,1.0,1.0,1.0,1.0,1.0,1.0,1.0,1.0,1.0,1.0,1.0,1.0,1.0,1.0,1.0,1.0,1.0,1.0,1.0,1.0,1.0,1.0,1.0,1.0,1.0,1.0,1.0,1.0,1.0,1.0,1.0,1.0,1.0,1.0,1.0,1.0,1.0,1.0,1.0,1.0,1.0,1.0,1.0,1.0,1.0,1.0,1.0,1.0,1.0,1.0,1.0,1.0,1.0,1.0,1.0,1.0,1.0,1.0,1.0,1.0,1.0,1.0,1.0,1.0,1.0,1.0,1.0,1.0,1.0,1.0,1.0,1.0,1.0,1.0,1.0,1.0,1.0,1.0],[1.0,1.0,1.0,1.0,1.0,1.0,1.0,1.0,1.0,1.0,1.0,1.0,1.0,1.0,1.0,1.0,1.0,1.0,1.0,1.0,1.0,1.0,1.0,1.0,1.0,1.0,1.0,1.0,1.0,1.0,1.0,1.0,1.0,1.0,1.0,1.0,1.0,1.0,1.0,1.0,1.0,1.0,1.0,1.0,1.0,1.0,1.0,1.0,1.0,1.0,1.0,1.0,1.0,1.0,1.0,1.0,1.0,1.0,1.0,1.0,1.0,1.0,1.0,1.0,1.0,1.0,1.0,1.0,1.0,1.0,1.0,1.0,1.0,1.0,1.0,1.0,1.0,1.0,1.0,1.0,1.0,1.0,1.0,1.0,1.0,1.0,1.0,1.0,1.0,1.0,1.0,1.0,1.0,1.0,1.0,1.0,1.0,1.0,1.0,1.0,1.0,1.0,1.0,1.0,1.0,1.0,1.0,1.0,1.0,1.0,1.0,1.0,1.0,1.0,1.0,1.0,1.0,1.0,1.0,1.0],[1.0,1.0,1.0,1.0,1.0,1.0,1.0,1.0,1.0,1.0,1.0,1.0,1.0,1.0,1.0,1.0,1.0,1.0,1.0,1.0,1.0,1.0,1.0,1.0,1.0,1.0,1.0,1.0,1.0,1.0,1.0,1.0,1.0,1.0,1.0,1.0,1.0,1.0,1.0,1.0,1.0,1.0,1.0,1.0,1.0,1.0,1.0,1.0,1.0,1.0,1.0,1.0,1.0,1.0,1.0,1.0,1.0,1.0,1.0,1.0,1.0,1.0,1.0,1.0,1.0,1.0,1.0,1.0,1.0,1.0,1.0,1.0,1.0,1.0,1.0,1.0,1.0,1.0,1.0,1.0,1.0,1.0,1.0,1.0,1.0,1.0,1.0,1.0,1.0,1.0,1.0,1.0,1.0,1.0,1.0,1.0,1.0,1.0,1.0,1.0,1.0,1.0,1.0,1.0,1.0,1.0,1.0,1.0,1.0,1.0,1.0,1.0,1.0,1.0,1.0,1.0,1.0,1.0,1.0,1.0],[1.0,1.0,1.0,1.0,1.0,1.0,1.0,1.0,1.0,1.0,1.0,1.0,1.0,1.0,1.0,1.0,1.0,1.0,1.0,1.0,1.0,1.0,1.0,1.0,1.0,1.0,1.0,1.0,1.0,1.0,1.0,1.0,1.0,1.0,1.0,1.0,1.0,1.0,1.0,1.0,1.0,1.0,1.0,1.0,1.0,1.0,1.0,1.0,1.0,1.0,1.0,1.0,1.0,1.0,1.0,1.0,1.0,1.0,1.0,1.0,1.0,1.0,1.0,1.0,1.0,1.0,1.0,1.0,1.0,1.0,1.0,1.0,1.0,1.0,1.0,1.0,1.0,1.0,1.0,1.0,1.0,1.0,1.0,1.0,1.0,1.0,1.0,1.0,1.0,1.0,1.0,1.0,1.0,1.0,1.0,1.0,1.0,1.0,1.0,1.0,1.0,1.0,1.0,1.0,1.0,1.0,1.0,1.0,1.0,1.0,1.0,1.0,1.0,1.0,1.0,1.0,1.0,1.0,1.0,1.0],[1.0,1.0,1.0,1.0,1.0,1.0,1.0,1.0,1.0,1.0,1.0,1.0,1.0,1.0,1.0,1.0,1.0,1.0,1.0,1.0,1.0,1.0,1.0,1.0,1.0,1.0,1.0,1.0,1.0,1.0,1.0,1.0,1.0,1.0,1.0,1.0,1.0,1.0,1.0,1.0,1.0,1.0,1.0,1.0,1.0,1.0,1.0,1.0,1.0,1.0,1.0,1.0,1.0,1.0,1.0,1.0,1.0,1.0,1.0,1.0,1.0,1.0,1.0,1.0,1.0,1.0,1.0,1.0,1.0,1.0,1.0,1.0,1.0,1.0,1.0,1.0,1.0,1.0,1.0,1.0,1.0,1.0,1.0,1.0,1.0,1.0,1.0,1.0,1.0,1.0,1.0,1.0,1.0,1.0,1.0,1.0,1.0,1.0,1.0,1.0,1.0,1.0,1.0,1.0,1.0,1.0,1.0,1.0,1.0,1.0,1.0,1.0,1.0,1.0,1.0,1.0,1.0,1.0,1.0,1.0],[1.0,1.0,1.0,1.0,1.0,1.0,1.0,1.0,1.0,1.0,1.0,1.0,1.0,1.0,1.0,1.0,1.0,1.0,1.0,1.0,1.0,1.0,1.0,1.0,1.0,1.0,1.0,1.0,1.0,1.0,1.0,1.0,1.0,1.0,1.0,1.0,1.0,1.0,1.0,1.0,1.0,1.0,1.0,1.0,1.0,1.0,1.0,1.0,1.0,1.0,1.0,1.0,1.0,1.0,1.0,1.0,1.0,1.0,1.0,1.0,1.0,1.0,1.0,1.0,1.0,1.0,1.0,1.0,1.0,1.0,1.0,1.0,1.0,1.0,1.0,1.0,1.0,1.0,1.0,1.0,1.0,1.0,1.0,1.0,1.0,1.0,1.0,1.0,1.0,1.0,1.0,1.0,1.0,1.0,1.0,1.0,1.0,1.0,1.0,1.0,1.0,1.0,1.0,1.0,1.0,1.0,1.0,1.0,1.0,1.0,1.0,1.0,1.0,1.0,1.0,1.0,1.0,1.0,1.0,1.0],[1.0,1.0,1.0,1.0,1.0,1.0,1.0,1.0,1.0,1.0,1.0,1.0,1.0,1.0,1.0,1.0,1.0,1.0,1.0,1.0,1.0,1.0,1.0,1.0,1.0,1.0,1.0,1.0,1.0,1.0,1.0,1.0,1.0,1.0,1.0,1.0,1.0,1.0,1.0,1.0,1.0,1.0,1.0,1.0,1.0,1.0,1.0,1.0,1.0,1.0,1.0,1.0,1.0,1.0,1.0,1.0,1.0,1.0,1.0,1.0,1.0,1.0,1.0,1.0,1.0,1.0,1.0,1.0,1.0,1.0,1.0,1.0,1.0,1.0,1.0,1.0,1.0,1.0,1.0,1.0,1.0,1.0,1.0,1.0,1.0,1.0,1.0,1.0,1.0,1.0,1.0,1.0,1.0,1.0,1.0,1.0,1.0,1.0,1.0,1.0,1.0,1.0,1.0,1.0,1.0,1.0,1.0,1.0,1.0,1.0,1.0,1.0,1.0,1.0,1.0,1.0,1.0,1.0,1.0,1.0],[1.0,1.0,1.0,1.0,1.0,1.0,1.0,1.0,1.0,1.0,1.0,1.0,1.0,1.0,1.0,1.0,1.0,1.0,1.0,1.0,1.0,1.0,1.0,1.0,1.0,1.0,1.0,1.0,1.0,1.0,1.0,1.0,1.0,1.0,1.0,1.0,1.0,1.0,1.0,1.0,1.0,1.0,1.0,1.0,1.0,1.0,1.0,1.0,1.0,1.0,1.0,1.0,1.0,1.0,1.0,1.0,1.0,1.0,1.0,1.0,1.0,1.0,1.0,1.0,1.0,1.0,1.0,1.0,1.0,1.0,1.0,1.0,1.0,1.0,1.0,1.0,1.0,1.0,1.0,1.0,1.0,1.0,1.0,1.0,1.0,1.0,1.0,1.0,1.0,1.0,1.0,1.0,1.0,1.0,1.0,1.0,1.0,1.0,1.0,1.0,1.0,1.0,1.0,1.0,1.0,1.0,1.0,1.0,1.0,1.0,1.0,1.0,1.0,1.0,1.0,1.0,1.0,1.0,1.0,1.0],[1.0,1.0,1.0,1.0,1.0,1.0,1.0,1.0,1.0,1.0,1.0,1.0,1.0,1.0,1.0,1.0,1.0,1.0,1.0,1.0,1.0,1.0,1.0,1.0,1.0,1.0,1.0,1.0,1.0,1.0,1.0,1.0,1.0,1.0,1.0,1.0,1.0,1.0,1.0,1.0,1.0,1.0,1.0,1.0,1.0,1.0,1.0,1.0,1.0,1.0,1.0,1.0,1.0,1.0,1.0,1.0,1.0,1.0,1.0,1.0,1.0,1.0,1.0,1.0,1.0,1.0,1.0,1.0,1.0,1.0,1.0,1.0,1.0,1.0,1.0,1.0,1.0,1.0,1.0,1.0,1.0,1.0,1.0,1.0,1.0,1.0,1.0,1.0,1.0,1.0,1.0,1.0,1.0,1.0,1.0,1.0,1.0,1.0,1.0,1.0,1.0,1.0,1.0,1.0,1.0,1.0,1.0,1.0,1.0,1.0,1.0,1.0,1.0,1.0,1.0,1.0,1.0,1.0,1.0,1.0],[1.0,1.0,1.0,1.0,1.0,1.0,1.0,1.0,1.0,1.0,1.0,1.0,1.0,1.0,1.0,1.0,1.0,1.0,1.0,1.0,1.0,1.0,1.0,1.0,1.0,1.0,1.0,1.0,1.0,1.0,1.0,1.0,1.0,1.0,1.0,1.0,1.0,1.0,1.0,1.0,1.0,1.0,1.0,1.0,1.0,1.0,1.0,1.0,1.0,1.0,1.0,1.0,1.0,1.0,1.0,1.0,1.0,1.0,1.0,1.0,1.0,1.0,1.0,1.0,1.0,1.0,1.0,1.0,1.0,1.0,1.0,1.0,1.0,1.0,1.0,1.0,1.0,1.0,1.0,1.0,1.0,1.0,1.0,1.0,1.0,1.0,1.0,1.0,1.0,1.0,1.0,1.0,1.0,1.0,1.0,1.0,1.0,1.0,1.0,1.0,1.0,1.0,1.0,1.0,1.0,1.0,1.0,1.0,1.0,1.0,1.0,1.0,1.0,1.0,1.0,1.0,1.0,1.0,1.0,1.0],[1.0,1.0,1.0,1.0,1.0,1.0,1.0,1.0,1.0,1.0,1.0,1.0,1.0,1.0,1.0,1.0,1.0,1.0,1.0,1.0,1.0,1.0,1.0,1.0,1.0,1.0,1.0,1.0,1.0,1.0,1.0,1.0,1.0,1.0,1.0,1.0,1.0,1.0,1.0,1.0,1.0,1.0,1.0,1.0,1.0,1.0,1.0,1.0,1.0,1.0,1.0,1.0,1.0,1.0,1.0,1.0,1.0,1.0,1.0,1.0,1.0,1.0,1.0,1.0,1.0,1.0,1.0,1.0,1.0,1.0,1.0,1.0,1.0,1.0,1.0,1.0,1.0,1.0,1.0,1.0,1.0,1.0,1.0,1.0,1.0,1.0,1.0,1.0,1.0,1.0,1.0,1.0,1.0,1.0,1.0,1.0,1.0,1.0,1.0,1.0,1.0,1.0,1.0,1.0,1.0,1.0,1.0,1.0,1.0,1.0,1.0,1.0,1.0,1.0,1.0,1.0,1.0,1.0,1.0,1.0],[1.0,1.0,1.0,1.0,1.0,1.0,1.0,1.0,1.0,1.0,1.0,1.0,1.0,1.0,1.0,1.0,1.0,1.0,1.0,1.0,1.0,1.0,1.0,1.0,1.0,1.0,1.0,1.0,1.0,1.0,1.0,1.0,1.0,1.0,1.0,1.0,1.0,1.0,1.0,1.0,1.0,1.0,1.0,1.0,1.0,1.0,1.0,1.0,1.0,1.0,1.0,1.0,1.0,1.0,1.0,1.0,1.0,1.0,1.0,1.0,1.0,1.0,1.0,1.0,1.0,1.0,1.0,1.0,1.0,1.0,1.0,1.0,1.0,1.0,1.0,1.0,1.0,1.0,1.0,1.0,1.0,1.0,1.0,1.0,1.0,1.0,1.0,1.0,1.0,1.0,1.0,1.0,1.0,1.0,1.0,1.0,1.0,1.0,1.0,1.0,1.0,1.0,1.0,1.0,1.0,1.0,1.0,1.0,1.0,1.0,1.0,1.0,1.0,1.0,1.0,1.0,1.0,1.0,1.0,1.0],[1.0,1.0,1.0,1.0,1.0,1.0,1.0,1.0,1.0,1.0,1.0,1.0,1.0,1.0,1.0,1.0,1.0,1.0,1.0,1.0,1.0,1.0,1.0,1.0,1.0,1.0,1.0,1.0,1.0,1.0,1.0,1.0,1.0,1.0,1.0,1.0,1.0,1.0,1.0,1.0,1.0,1.0,1.0,1.0,1.0,1.0,1.0,1.0,1.0,1.0,1.0,1.0,1.0,1.0,1.0,1.0,1.0,1.0,1.0,1.0,1.0,1.0,1.0,1.0,1.0,1.0,1.0,1.0,1.0,1.0,1.0,1.0,1.0,1.0,1.0,1.0,1.0,1.0,1.0,1.0,1.0,1.0,1.0,1.0,1.0,1.0,1.0,1.0,1.0,1.0,1.0,1.0,1.0,1.0,1.0,1.0,1.0,1.0,1.0,1.0,1.0,1.0,1.0,1.0,1.0,1.0,1.0,1.0,1.0,1.0,1.0,1.0,1.0,1.0,1.0,1.0,1.0,1.0,1.0,1.0],[1.0,1.0,1.0,1.0,1.0,1.0,1.0,1.0,1.0,1.0,1.0,1.0,1.0,1.0,1.0,1.0,1.0,1.0,1.0,1.0,1.0,1.0,1.0,1.0,1.0,1.0,1.0,1.0,1.0,1.0,1.0,1.0,1.0,1.0,1.0,1.0,1.0,1.0,1.0,1.0,1.0,1.0,1.0,1.0,1.0,1.0,1.0,1.0,1.0,1.0,1.0,1.0,1.0,1.0,1.0,1.0,1.0,1.0,1.0,1.0,1.0,1.0,1.0,1.0,1.0,1.0,1.0,1.0,1.0,1.0,1.0,1.0,1.0,1.0,1.0,1.0,1.0,1.0,1.0,1.0,1.0,1.0,1.0,1.0,1.0,1.0,1.0,1.0,1.0,1.0,1.0,1.0,1.0,1.0,1.0,1.0,1.0,1.0,1.0,1.0,1.0,1.0,1.0,1.0,1.0,1.0,1.0,1.0,1.0,1.0,1.0,1.0,1.0,1.0,1.0,1.0,1.0,1.0,1.0,1.0],[1.0,1.0,1.0,1.0,1.0,1.0,1.0,1.0,1.0,1.0,1.0,1.0,1.0,1.0,1.0,1.0,1.0,1.0,1.0,1.0,1.0,1.0,1.0,1.0,1.0,1.0,1.0,1.0,1.0,1.0,1.0,1.0,1.0,1.0,1.0,1.0,1.0,1.0,1.0,1.0,1.0,1.0,1.0,1.0,1.0,1.0,1.0,1.0,1.0,1.0,1.0,1.0,1.0,1.0,1.0,1.0,1.0,1.0,1.0,1.0,1.0,1.0,1.0,1.0,1.0,1.0,1.0,1.0,1.0,1.0,1.0,1.0,1.0,1.0,1.0,1.0,1.0,1.0,1.0,1.0,1.0,1.0,1.0,1.0,1.0,1.0,1.0,1.0,1.0,1.0,1.0,1.0,1.0,1.0,1.0,1.0,1.0,1.0,1.0,1.0,1.0,1.0,1.0,1.0,1.0,1.0,1.0,1.0,1.0,1.0,1.0,1.0,1.0,1.0,1.0,1.0,1.0,1.0,1.0,1.0],[1.0,1.0,1.0,1.0,1.0,1.0,1.0,1.0,1.0,1.0,1.0,1.0,1.0,1.0,1.0,1.0,1.0,1.0,1.0,1.0,1.0,1.0,1.0,1.0,1.0,1.0,1.0,1.0,1.0,1.0,1.0,1.0,1.0,1.0,1.0,1.0,1.0,1.0,1.0,1.0,1.0,1.0,1.0,1.0,1.0,1.0,1.0,1.0,1.0,1.0,1.0,1.0,1.0,1.0,1.0,1.0,1.0,1.0,1.0,1.0,1.0,1.0,1.0,1.0,1.0,1.0,1.0,1.0,1.0,1.0,1.0,1.0,1.0,1.0,1.0,1.0,1.0,1.0,1.0,1.0,1.0,1.0,1.0,1.0,1.0,1.0,1.0,1.0,1.0,1.0,1.0,1.0,1.0,1.0,1.0,1.0,1.0,1.0,1.0,1.0,1.0,1.0,1.0,1.0,1.0,1.0,1.0,1.0,1.0,1.0,1.0,1.0,1.0,1.0,1.0,1.0,1.0,1.0,1.0,1.0],[1.0,1.0,1.0,1.0,1.0,1.0,1.0,1.0,1.0,1.0,1.0,1.0,1.0,1.0,1.0,1.0,1.0,1.0,1.0,1.0,1.0,1.0,1.0,1.0,1.0,1.0,1.0,1.0,1.0,1.0,1.0,1.0,1.0,1.0,1.0,1.0,1.0,1.0,1.0,1.0,1.0,1.0,1.0,1.0,1.0,1.0,1.0,1.0,1.0,1.0,1.0,1.0,1.0,1.0,1.0,1.0,1.0,1.0,1.0,1.0,1.0,1.0,1.0,1.0,1.0,1.0,1.0,1.0,1.0,1.0,1.0,1.0,1.0,1.0,1.0,1.0,1.0,1.0,1.0,1.0,1.0,1.0,1.0,1.0,1.0,1.0,1.0,1.0,1.0,1.0,1.0,1.0,1.0,1.0,1.0,1.0,1.0,1.0,1.0,1.0,1.0,1.0,1.0,1.0,1.0,1.0,1.0,1.0,1.0,1.0,1.0,1.0,1.0,1.0,1.0,1.0,1.0,1.0,1.0,1.0],[1.0,1.0,1.0,1.0,1.0,1.0,1.0,1.0,1.0,1.0,1.0,1.0,1.0,1.0,1.0,1.0,1.0,1.0,1.0,1.0,1.0,1.0,1.0,1.0,1.0,1.0,1.0,1.0,1.0,1.0,1.0,1.0,1.0,1.0,1.0,1.0,1.0,1.0,1.0,1.0,1.0,1.0,1.0,1.0,1.0,1.0,1.0,1.0,1.0,1.0,1.0,1.0,1.0,1.0,1.0,1.0,1.0,1.0,1.0,1.0,1.0,1.0,1.0,1.0,1.0,1.0,1.0,1.0,1.0,1.0,1.0,1.0,1.0,1.0,1.0,1.0,1.0,1.0,1.0,1.0,1.0,1.0,1.0,1.0,1.0,1.0,1.0,1.0,1.0,1.0,1.0,1.0,1.0,1.0,1.0,1.0,1.0,1.0,1.0,1.0,1.0,1.0,1.0,1.0,1.0,1.0,1.0,1.0,1.0,1.0,1.0,1.0,1.0,1.0,1.0,1.0,1.0,1.0,1.0,1.0],[1.0,1.0,1.0,1.0,1.0,1.0,1.0,1.0,1.0,1.0,1.0,1.0,1.0,1.0,1.0,1.0,1.0,1.0,1.0,1.0,1.0,1.0,1.0,1.0,1.0,1.0,1.0,1.0,1.0,1.0,1.0,1.0,1.0,1.0,1.0,1.0,1.0,1.0,1.0,1.0,1.0,1.0,1.0,1.0,1.0,1.0,1.0,1.0,1.0,1.0,1.0,1.0,1.0,1.0,1.0,1.0,1.0,1.0,1.0,1.0,1.0,1.0,1.0,1.0,1.0,1.0,1.0,1.0,1.0,1.0,1.0,1.0,1.0,1.0,1.0,1.0,1.0,1.0,1.0,1.0,1.0,1.0,1.0,1.0,1.0,1.0,1.0,1.0,1.0,1.0,1.0,1.0,1.0,1.0,1.0,1.0,1.0,1.0,1.0,1.0,1.0,1.0,1.0,1.0,1.0,1.0,1.0,1.0,1.0,1.0,1.0,1.0,1.0,1.0,1.0,1.0,1.0,1.0,1.0,1.0],[1.0,1.0,1.0,1.0,1.0,1.0,1.0,1.0,1.0,1.0,1.0,1.0,1.0,1.0,1.0,1.0,1.0,1.0,1.0,1.0,1.0,1.0,1.0,1.0,1.0,1.0,1.0,1.0,1.0,1.0,1.0,1.0,1.0,1.0,1.0,1.0,1.0,1.0,1.0,1.0,1.0,1.0,1.0,1.0,1.0,1.0,1.0,1.0,1.0,1.0,1.0,1.0,1.0,1.0,1.0,1.0,1.0,1.0,1.0,1.0,1.0,1.0,1.0,1.0,1.0,1.0,1.0,1.0,1.0,1.0,1.0,1.0,1.0,1.0,1.0,1.0,1.0,1.0,1.0,1.0,1.0,1.0,1.0,1.0,1.0,1.0,1.0,1.0,1.0,1.0,1.0,1.0,1.0,1.0,1.0,1.0,1.0,1.0,1.0,1.0,1.0,1.0,1.0,1.0,1.0,1.0,1.0,1.0,1.0,1.0,1.0,1.0,1.0,1.0,1.0,1.0,1.0,1.0,1.0,1.0],[1.0,1.0,1.0,1.0,1.0,1.0,1.0,1.0,1.0,1.0,1.0,1.0,1.0,1.0,1.0,1.0,1.0,1.0,1.0,1.0,1.0,1.0,1.0,1.0,1.0,1.0,1.0,1.0,1.0,1.0,1.0,1.0,1.0,1.0,1.0,1.0,1.0,1.0,1.0,1.0,1.0,1.0,1.0,1.0,1.0,1.0,1.0,1.0,1.0,1.0,1.0,1.0,1.0,1.0,1.0,1.0,1.0,1.0,1.0,1.0,1.0,1.0,1.0,1.0,1.0,1.0,1.0,1.0,1.0,1.0,1.0,1.0,1.0,1.0,1.0,1.0,1.0,1.0,1.0,1.0,1.0,1.0,1.0,1.0,1.0,1.0,1.0,1.0,1.0,1.0,1.0,1.0,1.0,1.0,1.0,1.0,1.0,1.0,1.0,1.0,1.0,1.0,1.0,1.0,1.0,1.0,1.0,1.0,1.0,1.0,1.0,1.0,1.0,1.0,1.0,1.0,1.0,1.0,1.0,1.0],[1.0,1.0,1.0,1.0,1.0,1.0,1.0,1.0,1.0,1.0,1.0,1.0,1.0,1.0,1.0,1.0,1.0,1.0,1.0,1.0,1.0,1.0,1.0,1.0,1.0,1.0,1.0,1.0,1.0,1.0,1.0,1.0,1.0,1.0,1.0,1.0,1.0,1.0,1.0,1.0,1.0,1.0,1.0,1.0,1.0,1.0,1.0,1.0,1.0,1.0,1.0,1.0,1.0,1.0,1.0,1.0,1.0,1.0,1.0,1.0,1.0,1.0,1.0,1.0,1.0,1.0,1.0,1.0,1.0,1.0,1.0,1.0,1.0,1.0,1.0,1.0,1.0,1.0,1.0,1.0,1.0,1.0,1.0,1.0,1.0,1.0,1.0,1.0,1.0,1.0,1.0,1.0,1.0,1.0,1.0,1.0,1.0,1.0,1.0,1.0,1.0,1.0,1.0,1.0,1.0,1.0,1.0,1.0,1.0,1.0,1.0,1.0,1.0,1.0,1.0,1.0,1.0,1.0,1.0,1.0],[1.0,1.0,1.0,1.0,1.0,1.0,1.0,1.0,1.0,1.0,1.0,1.0,1.0,1.0,1.0,1.0,1.0,1.0,1.0,1.0,1.0,1.0,1.0,1.0,1.0,1.0,1.0,1.0,1.0,1.0,1.0,1.0,1.0,1.0,1.0,1.0,1.0,1.0,1.0,1.0,1.0,1.0,1.0,1.0,1.0,1.0,1.0,1.0,1.0,1.0,1.0,1.0,1.0,1.0,1.0,1.0,1.0,1.0,1.0,1.0,1.0,1.0,1.0,1.0,1.0,1.0,1.0,1.0,1.0,1.0,1.0,1.0,1.0,1.0,1.0,1.0,1.0,1.0,1.0,1.0,1.0,1.0,1.0,1.0,1.0,1.0,1.0,1.0,1.0,1.0,1.0,1.0,1.0,1.0,1.0,1.0,1.0,1.0,1.0,1.0,1.0,1.0,1.0,1.0,1.0,1.0,1.0,1.0,1.0,1.0,1.0,1.0,1.0,1.0,1.0,1.0,1.0,1.0,1.0,1.0],[1.0,1.0,1.0,1.0,1.0,1.0,1.0,1.0,1.0,1.0,1.0,1.0,1.0,1.0,1.0,1.0,1.0,1.0,1.0,1.0,1.0,1.0,1.0,1.0,1.0,1.0,1.0,1.0,1.0,1.0,1.0,1.0,1.0,1.0,1.0,1.0,1.0,1.0,1.0,1.0,1.0,1.0,1.0,1.0,1.0,1.0,1.0,1.0,1.0,1.0,1.0,1.0,1.0,1.0,1.0,1.0,1.0,1.0,1.0,1.0,1.0,1.0,1.0,1.0,1.0,1.0,1.0,1.0,1.0,1.0,1.0,1.0,1.0,1.0,1.0,1.0,1.0,1.0,1.0,1.0,1.0,1.0,1.0,1.0,1.0,1.0,1.0,1.0,1.0,1.0,1.0,1.0,1.0,1.0,1.0,1.0,1.0,1.0,1.0,1.0,1.0,1.0,1.0,1.0,1.0,1.0,1.0,1.0,1.0,1.0,1.0,1.0,1.0,1.0,1.0,1.0,1.0,1.0,1.0,1.0],[1.0,1.0,1.0,1.0,1.0,1.0,1.0,1.0,1.0,1.0,1.0,1.0,1.0,1.0,1.0,1.0,1.0,1.0,1.0,1.0,1.0,1.0,1.0,1.0,1.0,1.0,1.0,1.0,1.0,1.0,1.0,1.0,1.0,1.0,1.0,1.0,1.0,1.0,1.0,1.0,1.0,1.0,1.0,1.0,1.0,1.0,1.0,1.0,1.0,1.0,1.0,1.0,1.0,1.0,1.0,1.0,1.0,1.0,1.0,1.0,1.0,1.0,1.0,1.0,1.0,1.0,1.0,1.0,1.0,1.0,1.0,1.0,1.0,1.0,1.0,1.0,1.0,1.0,1.0,1.0,1.0,1.0,1.0,1.0,1.0,1.0,1.0,1.0,1.0,1.0,1.0,1.0,1.0,1.0,1.0,1.0,1.0,1.0,1.0,1.0,1.0,1.0,1.0,1.0,1.0,1.0,1.0,1.0,1.0,1.0,1.0,1.0,1.0,1.0,1.0,1.0,1.0,1.0,1.0,1.0],[1.0,1.0,1.0,1.0,1.0,1.0,1.0,1.0,1.0,1.0,1.0,1.0,1.0,1.0,1.0,1.0,1.0,1.0,1.0,1.0,1.0,1.0,1.0,1.0,1.0,1.0,1.0,1.0,1.0,1.0,1.0,1.0,1.0,1.0,1.0,1.0,1.0,1.0,1.0,1.0,1.0,1.0,1.0,1.0,1.0,1.0,1.0,1.0,1.0,1.0,1.0,1.0,1.0,1.0,1.0,1.0,1.0,1.0,1.0,1.0,1.0,1.0,1.0,1.0,1.0,1.0,1.0,1.0,1.0,1.0,1.0,1.0,1.0,1.0,1.0,1.0,1.0,1.0,1.0,1.0,1.0,1.0,1.0,1.0,1.0,1.0,1.0,1.0,1.0,1.0,1.0,1.0,1.0,1.0,1.0,1.0,1.0,1.0,1.0,1.0,1.0,1.0,1.0,1.0,1.0,1.0,1.0,1.0,1.0,1.0,1.0,1.0,1.0,1.0,1.0,1.0,1.0,1.0,1.0,1.0],[1.0,1.0,1.0,1.0,1.0,1.0,1.0,1.0,1.0,1.0,1.0,1.0,1.0,1.0,1.0,1.0,1.0,1.0,1.0,1.0,1.0,1.0,1.0,1.0,1.0,1.0,1.0,1.0,1.0,1.0,1.0,1.0,1.0,1.0,1.0,1.0,1.0,1.0,1.0,1.0,1.0,1.0,1.0,1.0,1.0,1.0,1.0,1.0,1.0,1.0,1.0,1.0,1.0,1.0,1.0,1.0,1.0,1.0,1.0,1.0,1.0,1.0,1.0,1.0,1.0,1.0,1.0,1.0,1.0,1.0,1.0,1.0,1.0,1.0,1.0,1.0,1.0,1.0,1.0,1.0,1.0,1.0,1.0,1.0,1.0,1.0,1.0,1.0,1.0,1.0,1.0,1.0,1.0,1.0,1.0,1.0,1.0,1.0,1.0,1.0,1.0,1.0,1.0,1.0,1.0,1.0,1.0,1.0,1.0,1.0,1.0,1.0,1.0,1.0,1.0,1.0,1.0,1.0,1.0,1.0],[1.0,1.0,1.0,1.0,1.0,1.0,1.0,1.0,1.0,1.0,1.0,1.0,1.0,1.0,1.0,1.0,1.0,1.0,1.0,1.0,1.0,1.0,1.0,1.0,1.0,1.0,1.0,1.0,1.0,1.0,1.0,1.0,1.0,1.0,1.0,1.0,1.0,1.0,1.0,1.0,1.0,1.0,1.0,1.0,1.0,1.0,1.0,1.0,1.0,1.0,1.0,1.0,1.0,1.0,1.0,1.0,1.0,1.0,1.0,1.0,1.0,1.0,1.0,1.0,1.0,1.0,1.0,1.0,1.0,1.0,1.0,1.0,1.0,1.0,1.0,1.0,1.0,1.0,1.0,1.0,1.0,1.0,1.0,1.0,1.0,1.0,1.0,1.0,1.0,1.0,1.0,1.0,1.0,1.0,1.0,1.0,1.0,1.0,1.0,1.0,1.0,1.0,1.0,1.0,1.0,1.0,1.0,1.0,1.0,1.0,1.0,1.0,1.0,1.0,1.0,1.0,1.0,1.0,1.0,1.0],[1.0,1.0,1.0,1.0,1.0,1.0,1.0,1.0,1.0,1.0,1.0,1.0,1.0,1.0,1.0,1.0,1.0,1.0,1.0,1.0,1.0,1.0,1.0,1.0,1.0,1.0,1.0,1.0,1.0,1.0,1.0,1.0,1.0,1.0,1.0,1.0,1.0,1.0,1.0,1.0,1.0,1.0,1.0,1.0,1.0,1.0,1.0,1.0,1.0,1.0,1.0,1.0,1.0,1.0,1.0,1.0,1.0,1.0,1.0,1.0,1.0,1.0,1.0,1.0,1.0,1.0,1.0,1.0,1.0,1.0,1.0,1.0,1.0,1.0,1.0,1.0,1.0,1.0,1.0,1.0,1.0,1.0,1.0,1.0,1.0,1.0,1.0,1.0,1.0,1.0,1.0,1.0,1.0,1.0,1.0,1.0,1.0,1.0,1.0,1.0,1.0,1.0,1.0,1.0,1.0,1.0,1.0,1.0,1.0,1.0,1.0,1.0,1.0,1.0,1.0,1.0,1.0,1.0,1.0,1.0]],\"type\":\"heatmap\",\"xaxis\":\"x\",\"yaxis\":\"y\",\"hovertemplate\":\"x: %{x}\\u003cbr\\u003ey: %{y}\\u003cbr\\u003ecolor: %{z}\\u003cextra\\u003e\\u003c\\u002fextra\\u003e\"},{\"coloraxis\":\"coloraxis\",\"name\":\"1\",\"z\":[[-42.842392,-47.579544,-53.494682,-115.62224,-71.19722,-85.31308,-106.410484,-141.37056,-328.62665,-412.25446,-9830.458,-54.512444,-63.160927,-75.071144,-92.51672,-120.52582,-172.85783,-305.50934,-1313.4346,-810.8556,-249.50198,-1421.4006,-182.29968,-50.325344,-31.86916,-23.433086,-30.639013,-17.286959,-15.282749,-13.694983,-14.003439,-16.064995,-18.838327,-22.768984,-28.77241,-39.07525,-60.872524,-137.667,-61.300884,-171.15408,-93.505264,-46.05111,-30.547976,-22.854113,-19.892445,-20.899548,-74.32356,-1454.8179,-97.47847,-1159.5037,-91.64342,-299.05695,-32.37191,-35.126472,-724.8288,-98.89777,-53.06936,-53.251328,-61.13795,-71.76672,-86.86871,-110.020615,-149.99727,-263.00427,-756.0911,-1886.4531,-33.50787,-326.26675,-249.09436,-70.899124,-409.3782,-176.15446,-55.43544,-58.643997,-258.92184,-75.51659,-107.271034,-106.0197,-602.69,-197.87982,-269.00793,-551.756,-92.478065,-51.640198,-43.80995,-38.041656,-33.615616,-66.226105,-28.361525,-39.46324,-334.40143,-21.252338,-19.796194,-181.48679,-319.22882,-64.00525,-295.9524,-157.42204,-144.78877,-49.51593,-637.1305,-163.73586,-164.43044,-69.78592,-54.228172,-52.59436,-91.41975,-324.1651,-246.87592,-85.08815,-51.402195,-109.03608,-51.735474,-162.60297,-989.15765,-353.65933,-573.4748,-140.24565,-1582.6022,-65.12421],[-53.998928,-61.747646,-72.09308,-86.602425,-108.42425,-175.07202,-218.57439,-444.21997,-151.11066,-54.179474,-62.714386,-74.44122,-91.56195,-118.91057,-169.55382,-295.33688,-1144.0624,-42.510605,-87.20032,-143.18369,-311.66342,-1398.966,-180.0491,-493.52274,-96.934845,-45.821476,-30.00169,-22.302013,-17.747295,-15.347605,-14.404348,-16.594864,-19.571108,-23.848213,-30.517593,-42.365505,-69.25093,-189.52437,-70.55433,-270.0381,-18.465855,-110.41766,-62.415318,-32.157112,-23.742983,-23.785793,-25.240112,-80.45209,-189.1918,-774.65,-117.941,-445.62442,-39.864532,-44.125694,-141.73634,-1102.6969,-103.74877,-77.084076,-94.78288,-123.03137,-175.26643,-304.58295,-1161.7649,-79.53824,-4458.063,-79.55885,-47.0591,-2179.5178,-726.6886,-84.12474,-10016.845,-278.77814,-77.39674,-155.02878,-109.76289,-138.78114,-188.65678,-294.49078,-670.8014,-626.3009,-197.71437,-117.38599,-312.5629,-64.762085,-52.903786,-44.715992,-536.56555,-45.407154,-30.537432,-65.961334,-116.46002,-23.185703,-21.463308,-206.799,-35733.645,-79.877594,-151.51215,-213.82416,-96.70102,-56.912907,-146.09999,-424.16052,-154.59154,-94.520256,-68.06982,-1057.8196,-197.67664,-1282.3434,-209.1896,-80.113716,-58.46967,-108.84028,-51.691353,-74.80773,-33.828213,-732.378,-2773.2546,-173.99837,-89.81669,-60.53134],[-73.0117,-87.93149,-110.51568,-148.70886,-227.24292,-481.55496,-47.434444,-360.3488,-98.11276,-474.72763,-90.62671,-117.33807,-166.37471,-285.824,-1013.374,-17.991785,-22.93259,-31.694977,-51.296227,-134.42163,-342.47034,-348.71353,-238.61646,-568.85974,-980.74664,-1312.9645,-81.50459,-42.05784,-28.341118,-21.37117,-17.152771,-17.160877,-20.363192,-25.034842,-32.488144,-111.75172,-80.30378,-304.05865,-83.09802,-639.51166,-20.68338,-21.774357,-134.79942,-54.23336,-33.94521,-27.596947,-29.574013,-31.856213,-34.5201,-58.37447,-229.3319,-873.9417,-51.87004,-59.32419,-361.46387,-83.25226,-2303.6665,-139.53134,-210.7736,-430.6617,-33.62086,-35.921474,-41.977062,-87.15144,-236.87558,-251.53839,-79.013275,-139.1677,-210.11299,-103.4163,-169.6038,-667.85175,-145.26363,-200.84013,-325.29486,-855.2988,-186.70453,-63.371418,-38.16224,-1108.5441,-881.70123,-217.61568,-124.12517,-86.82447,-66.761925,-54.23081,-113.806656,-39.42916,-36.58939,-200.76488,-27.975725,-25.506063,-23.437042,-240.31627,-55.376183,-106.21808,-339.87482,-2054.4475,-83.60466,-47.638935,-937.56024,-44.166046,-367.7992,-146.41379,-91.39919,-178.51857,-812.69293,-237.9327,-181.48544,-75.688835,-47.815117,-108.64517,-227.71208,-48.57908,-27.1897,-276.33093,-187.53809,-229.1468,-102.55774,-66.06243],[-112.68896,-152.67064,-236.62743,-525.7303,-47.182167,-53.525826,-61.840286,-73.212616,-89.71035,-455.52124,-163.31207,-276.90497,-909.5156,-18.596401,-14.868165,-16.062952,-19.3675,-25.266853,-36.33538,-64.65617,-293.19742,-1322.8478,-395.748,-1501.8022,-226.71458,-52.39231,-37.491188,-368.36597,-70.312035,-38.865276,-26.854626,-20.514877,-21.222107,-26.345741,-34.730755,-50.944893,-95.55494,-768.4557,-101.06647,-22.23981,-23.506187,-24.925491,-26.527206,-172.99985,-59.521183,-35.94388,-35.704773,-127.9186,-43.173004,-91.87525,-276.79858,-22502.727,-91.05197,-90.493515,-115.900406,-161.14291,-264.32278,-734.84454,-115.03306,-57.38892,-42.1819,-45.867546,-50.259003,-96.376335,-323.36307,-70.51141,-246.17009,-222.35457,-435.02292,-152.38612,-287.40692,-363.32074,-1180.0398,-173.6167,-27.633146,-20.707956,-296.4341,-72.47768,-41.286022,-57.659252,-821.5959,-1488.8511,-241.96947,-131.68521,-90.45696,-68.88904,-63.65371,-46.64543,-58.307404,-92.05378,-31.425127,-28.342451,-25.81052,-286.8,-57.524567,-158.47829,-106.404,-754.42975,-96.89417,-3968.781,-57.488953,-32.247944,-42.89022,-324.65842,-139.05833,-4299.962,-64.878845,-210.0009,-160.26108,-71.72715,-46.20299,-108.45078,-86.14113,-35.96817,-25.192545,-460.4592,-258.39227,-335.47757,-119.51092,-72.70603],[-6108.494,-578.84094,-83.270874,-55.767307,-61.41218,-72.61353,-88.81245,-114.314125,-160.36003,-268.5218,-824.935,-15.311001,-96.290054,-41.89494,-26.771479,-19.670687,-17.041794,-21.006298,-28.130522,-42.56478,-87.429276,-140.79518,-124.49959,-457.46484,-274.8854,-1050.8765,-53.162754,-255.88425,-29.426832,-214.23933,-61.82279,-36.123425,-25.516415,-27.801504,-37.30592,-56.68444,-117.957184,-1238.3491,-128.94962,-25.537308,-27.221268,-35.085217,-31.356678,-33.9343,-241.41022,-65.95118,-45.042107,-50.5586,-57.614944,-215.61772,-847.68665,-197.7111,-130.43042,-190.67578,-354.34775,-2502.136,-39.541126,-42.762123,-46.554474,-121.64905,-58.989674,-63.43009,-72.14798,-107.785286,-509.32886,-122.7663,-160.24098,-552.7675,-15905.857,-1902.0676,-941.0401,-204.04652,-128.48982,-49.56982,-29.371782,-21.669186,-719.26886,-84.6439,-44.96787,-99.35229,-123.48341,-4866.1816,-4782.291,-272.4639,-140.22612,-404.22903,-71.15639,-57.094963,-143.44833,-2572.8813,-35.844868,-31.88867,-28.718945,-355.57822,-59.84639,-354.1138,-1344.4017,-135.94836,-115.675026,-180.93004,-44.111797,-40.40491,-58.632908,-106.82765,-3777.242,-132.40654,-85.73717,-187.93822,-143.48125,-68.15956,-44.696022,-379.78278,-53.11656,-33.837563,-25.182081,-1379.9481,-415.28336,-625.9201,-143.17949,-158.42694],[-50.349064,-52.88771,-565.2045,-130.0072,-87.93237,-112.86056,-157.51433,-260.63626,-754.7623,-102.5578,-798.7994,-18.157742,-16.394638,-14.94363,-134.25705,-47.773117,-29.05607,-20.87676,-22.948753,-31.72551,-51.37537,-134.96782,-329.11777,-259.194,-541.9891,-815.46075,-16751.531,-53.955338,-38.284836,-29.668169,-24.217493,-151.03995,-55.16215,-33.742817,-40.293564,-63.881477,-154.08046,-62.166767,-178.07924,-154.0388,-32.331116,-35.078445,-38.336044,-42.260628,-47.080383,-399.32224,-73.93915,-71.56657,-86.575714,-109.55109,-418.56763,-251.76038,-537.37445,-40.050552,-196.67372,-86.34247,-51.938354,-57.64141,-64.75142,-73.86219,-129.07307,-102.787155,-127.81409,-168.94951,-1198.6708,-474.15173,-4900.41,-776.85126,-236.09834,-364.32776,-246.74821,-390.9401,-131.7477,-50.500046,-31.343878,-22.723995,-19.54442,-101.71548,-52.873142,-358.80597,-166.04367,-57.569977,-577.6266,-107.666916,-311.7498,-149.95192,-98.7176,-73.577934,-76.103546,-48.74896,-41.711224,-36.44917,-32.36602,-467.7509,-62.36352,-9911.861,-79.41496,-92.676025,-143.48816,-92.57498,-40.065163,-54.08521,-92.63599,-322.52417,-203.2067,-262.97086,-126.362206,-170.0707,-129.8822,-64.930046,-43.284256,-108.06407,-51.515602,-33.81868,-362.10782,-57.19234,-1057.3038,-4662.173,-201.1017,-91.010994],[-106.35596,-71.44413,-87.06942,-111.44261,-296.34515,-253.19884,-695.61163,-47.298283,-40.831154,-75.04525,-463.06302,-22.30508,-19.702267,-17.64347,-15.974236,-14.593548,-221.65836,-55.569794,-31.766874,-25.286282,-36.374565,-64.78393,-295.81317,-3589.9893,-459.5215,-1591.5886,-324.1519,-93.70988,-54.772457,-38.694386,-29.913424,-24.380735,-24.296564,-116.63524,-49.797447,-73.17183,-222.09436,-71.7038,-287.68863,-36.302437,-39.802673,-44.049915,-49.31186,-56.00148,-64.790955,-76.85312,-1154.5403,-122.44408,-174.07736,-301.01016,-1111.4448,-367.47525,-99.51529,-52.82068,-58.730164,-468.2757,-85.420364,-88.40025,-106.30133,-133.29277,-178.65657,-270.82712,-559.4637,-141.22021,-271.28833,-23.695549,-19.633312,-16.760061,-484.99646,-9417.764,-540.4412,-4651.015,-181.80138,-56.625694,-33.599873,-23.886751,-22.785599,-127.41479,-85.94693,-65.57457,-253.3721,-65.38333,-37.534607,-307.03592,-2497.354,-364.2739,-161.1273,-111.58668,-375.16534,-60.27861,-49.873474,-42.531754,-37.07417,-683.3118,-65.10169,-118.81333,-1068.4469,-79.29279,-188.90622,-69.98544,-50.192802,-81.77178,-220.51929,-3952.9675,-365.33698,-18900.23,-240.15538,-1375.3922,-118.63779,-61.99273,-1143.4778,-107.87174,-51.471863,-4117.3115,-66.81717,-33.681885,-300.07135,-275.2389,-237.08498,-104.118034],[-86.22328,-220.26355,-152.11263,-246.17169,-645.0298,-37.14214,-200.79321,-91.719055,-59.43372,-59.171677,-174.39151,-28.907337,-24.681576,-21.53378,-19.09808,-17.15744,-15.574749,-14.60883,-635.04504,-66.40736,-35.035458,-42.620907,-87.66351,-143.82986,-127.444435,-178.05214,-859.6252,-393.26785,-96.20258,-55.614616,-39.112644,-30.162878,-25.841604,-33.325912,-47.9782,-94.995224,-397.6048,-84.69711,-748.2273,-45.997433,-51.765396,-59.187347,-69.09379,-248.74112,-103.861145,-138.77673,-209.05661,-423.55356,-154.15483,-162.39037,-250.62292,-555.4601,-417.21497,-77.54666,-90.98765,-332.57788,-139.26384,-189.54936,-296.67416,-682.2407,-26.686888,-32.595184,-147.0155,-167.14435,-392.47012,-30.305384,-23.964005,-19.817257,-367.7091,-98.13764,-226.81688,-174.2861,-293.1904,-64.44253,-36.205772,-25.174908,-27.315487,-170.48228,-229.5177,-130.96303,-534.4685,-75.65054,-40.70611,-27.844303,-324.24542,-81.04127,-438.0903,-174.10175,-108.638016,-78.95157,-62.007404,-51.051147,-43.385227,-1267.3832,-68.091354,-80.07956,-228.81064,-56.627472,-276.39664,-79.28307,-73.190704,-167.53468,-1398.6698,-140.37831,-70.25527,-34.622017,-2414.4219,-686.4369,-115.79038,-78.44761,-123.57815,-107.68009,-51.428177,-80.33737,-36.804203,-26.72816,-530.3835,-289.81552,-352.77005,-121.63519],[-149.54909,-239.52534,-601.3085,-189.62646,-92.00098,-60.733494,-45.327854,-1507.9048,-151.84326,-79.9469,-107.423935,-2517.271,-33.029125,-27.62505,-23.740795,-20.814182,-18.529934,-16.697395,-15.413993,-18.306227,-1065.3931,-82.49677,-51.456276,-135.54192,-316.7655,-251.39629,-445.63354,-1439.4017,-394.93167,-98.83161,-56.482597,-39.540215,-30.416544,-35.689877,-53.03557,-103.18427,-1895.6313,-103.44186,-54.475845,-62.757545,-74.00873,-90.175415,-115.37923,-160.1371,-261.62723,-714.3827,-49.520752,-54.678864,-62.49055,-268.46002,-79.53083,-1399.6604,-114.10533,-145.7962,-201.85973,-327.97836,-874.10474,-23.766314,-172.1578,-65.019714,-40.078243,-33.80538,-58.028786,-204.72641,-709.31384,-42.02942,-30.74589,-24.238617,-8820.078,-129.38042,-148.10742,-301.11816,-785.3169,-74.76318,-39.24991,-26.609932,-34.093372,-257.59006,-69.89898,-46066.027,-28.446272,-89.74304,-44.463036,-29.55236,-99.92771,-158.51785,-91.30657,-549.40454,-189.34888,-114.385315,-81.94381,-63.838253,-52.285652,-8726.108,-1020.8416,-131.64644,-305.028,-63.41331,-514.83496,-91.42938,-135.08333,-2220.7766,-86.87916,-235.82014,-52.937946,-29.815487,-20.751543,-1289.5857,-204.64531,-111.14109,-76.28561,-107.48913,-100.7178,-40.56444,-33.837654,-1047.8925,-2281.4163,-502.94662,-688.9412,-146.23961],[-563.14606,-12.895263,-10.20669,-10.983679,-2430.1675,-166.46552,-86.18179,-58.14185,-43.868763,-440.7812,-122.07941,-582.14276,-49.90862,-38.521847,-31.36581,-26.451954,-22.869122,-20.141026,-17.994534,-17.071625,-19.588442,-25.305908,-36.415726,-108.87478,-298.55334,-608.0865,-793.4928,-1692.6549,-2076.646,-443.34125,-101.60582,-57.378574,-39.9772,-40.54682,-59.28479,-129.80504,-3468.7632,-132.84154,-341.84033,-98.733055,-129.77066,-189.26918,-349.52133,-2279.8213,-55.65781,-62.25884,-70.63631,-81.61886,-96.64527,-774.0507,-152.97041,-286.75162,-366.66315,-1216.0205,-24.878738,-17.58324,-62.079674,-26.4633,-16.81632,-349.70425,-80.445435,-45.45022,-61.97885,-264.1116,-3681.114,-68.54827,-42.88152,-31.199411,-150.95345,-189.8062,-243.1109,-1105.8456,-218.23402,-89.01995,-45.57232,-32.654556,-45.345215,-526.4118,-109.71486,-43.960537,-30.146383,-110.28792,-48.98397,-5655.2393,-59.065403,-3603.806,-1294.6658,-64.973694,-736.5923,-207.52374,-120.775475,-85.17215,-176.38423,-53.581486,-196.5159,-52.826183,-5753.091,-78.95782,-3749.043,-113.16424,-875.4313,-62.90669,-27.588564,-112.39909,-42.469254,-26.180737,-2192.2385,-342.90494,-879.72534,-190.55681,-106.85085,-134.9539,-56.879715,-46.0999,-799.5463,-90.14299,-44.302383,-1900.5966,-14630.455,-183.32063],[-54.18587,-24.194921,-15.574626,-11.483312,-11.98278,-13.833692,-873.6234,-148.35211,-81.05963,-55.765293,-60.759705,-258.11902,-102.07324,-63.61545,-46.20615,-36.278454,-29.862095,-25.374287,-22.059147,-19.5102,-19.861647,-21.06383,-28.178766,-42.676792,-87.90004,-160.0532,-144.28519,-218.82011,-252.55049,-7110.075,-505.22934,-104.54233,-58.303463,-53.03119,-67.203354,-174.93729,-86.2845,-185.58812,-148.264,-231.35788,-526.3474,-61.027477,-63.530937,-72.27829,-83.81906,-99.74556,-123.14425,-160.88547,-231.98349,-415.67828,-1997.0203,-299.19965,-1053.3367,-56.732002,-75.52722,-20.23644,-84.599525,-29.850798,-18.123108,-19.200872,-25.168133,-105.46626,-66.5059,-372.02402,-518.2279,-185.74701,-70.844185,-43.768845,-254.04471,-356.13644,-2480.7705,-99.20022,-374.09033,-214.1805,-74.90988,-45.392963,-67.68245,-54.92247,-666.4583,-48.159748,-32.06362,-143.03218,-54.5283,-270.6913,-41.922527,-77.26631,-554.5717,-106.8389,-59.11368,-1117.212,-229.5579,-16597.123,-88.664925,-387.37482,-114.7921,-721.99396,-68.14792,-345.7874,-97.360344,-388.09467,-60.30932,-39.098793,-28.925741,-73.783104,-35.457504,-23.335938,-985.06085,-274.2735,-88.1217,-667.5593,-204.44751,-107.10924,-72.300446,-8735.858,-102.52164,-47.097183,-33.0301,-328.27585,-254.38203,-245.59486],[-66.96165,-195.53073,-35.72667,-19.659412,-13.560761,-13.181835,-15.456866,-18.680988,-532.43225,-133.7981,-76.51062,-112.77564,-41.21674,-182.48761,-87.70053,-57.719883,-43.01507,-34.281315,-28.495693,-24.380947,-22.450583,-23.74178,-25.190548,-31.787857,-51.536827,-136.09444,-344.87454,-302.02335,-835.0032,-6119.038,-49.217285,-587.26215,-107.6544,-76.623634,-94.08766,-268.18314,-172.90442,-307.8089,-1065.2979,-64.856346,-73.99876,-86.141655,-146.38213,-128.2235,-169.666,-250.69081,-479.84024,-5584.367,-114.89907,-193.92377,-72.02142,-156.28738,-270.54883,-85.20916,-38.85458,-27.205418,-132.75954,-34.232155,-19.650135,-19.614504,-25.883602,-38.04272,-153.0785,-629.0434,-1241.717,-28.37156,-203.6281,-73.29918,-801.242,-2879.38,-814.88324,-126.93209,-3028.5928,-143.9021,-210.279,-74.42668,-133.3892,-94.398056,-119.65539,-53.243904,-34.240425,-203.43027,-61.487926,-94.18487,-39.821266,-361.95145,-16.21955,-300.3939,-91.86419,-54.223095,-2311.7417,-256.82678,-13544.463,-92.456406,-83.803955,-207.48662,-55.222675,-154.89812,-249.33548,-169.18936,-67.08899,-41.839855,-280.9035,-54.916195,-30.432934,-21.04877,-635.25195,-228.53348,-218.55463,-421.4962,-537.8479,-167.4952,-99.192764,-118.84195,-54.63434,-44.613846,-37.699394,-625.34534,-329.95178,-371.94382],[-119.48622,-1201.366,-38.191467,-68.26172,-26.64858,-16.555874,-14.64754,-17.51159,-21.767887,-28.757593,-382.92126,-121.840454,-783.6727,-51.5481,-860.09515,-141.13724,-76.87689,-52.824223,-40.236027,-32.493008,-27.249165,-27.537722,-29.506,-31.777317,-36.45564,-65.041245,-301.28433,-873.6128,-2903.8987,-2672.4875,-842.6307,-82.71553,-701.0914,-138.03026,-207.36694,-574.2919,-86.358894,-901.4922,-88.596405,-106.58498,-133.73926,-179.4597,-272.67776,-567.415,-113.83646,-49.280163,-143.30623,-53.914986,-159.48299,-28.22969,-78.21698,-11.193477,-195.32907,-485.8818,-76.46135,-41.495667,-308.16577,-40.121,-21.457884,-20.046349,-26.640947,-39.70153,-77.88353,-2034.9106,-76.01773,-44.002144,-30.962189,-225.32034,-592.2503,-6419.8164,-194.96277,-176.18617,-179.2334,-208.02795,-59.139248,-206.51414,-4573.1826,-335.64334,-156.87463,-59.530045,-36.734478,-352.1193,-907.38367,-57.010715,-66.96721,-105.311,-16.784649,-14.09922,-205.98694,-80.57129,-50.079983,-36.330967,-291.44754,-583.441,-96.58683,-121.15227,-76.109146,-298.39264,-5015.4976,-236.13403,-75.58608,-44.994343,-121.70983,-43.733303,-26.655699,-20.650225,-468.7806,-195.8685,-84.79561,-68.60102,-35.446888,-450.3437,-157.93828,-95.76116,-68.71098,-5472.3877,-74.122475,-6577.8594,-637.4984,-766.04645],[-12.880166,-13.204143,-164.16444,-82.76635,-764.1726,-41.34859,-21.249207,-16.479967,-20.196339,-26.076899,-36.788574,-62.43544,-298.93457,-111.84213,-68.79013,-49.67026,-361.2342,-115.06027,-68.429184,-48.694523,-37.794704,-32.77849,-35.605698,-38.96665,-43.02823,-48.03505,-88.13892,-166.72224,-166.25851,-283.80548,-291.7051,-1604.8572,-258.98715,-869.7017,-114.46892,-578.56494,-110.36903,-139.75146,-190.45407,-298.89502,-694.1047,-265.55798,-14.403906,-15.331659,-18.886795,-24.588387,-93.13139,-62.05527,-260.6069,-29.13422,-85.57872,-14.646541,-371.13065,-483.27176,-2380.8928,-87.40954,-70.591606,-48.460003,-23.632736,-20.497635,-27.44393,-41.511566,-85.16869,-235.26309,-1576.2195,-97.98399,-50.56373,-34.073475,-252.18571,-574.6737,-343.44016,-287.9011,-316.19217,-375.2483,-67.71811,-110.29303,-202.8857,-73.478775,-227.72852,-67.497826,-39.621243,-1308.551,-232.31712,-42.626617,-210.3922,-21.666195,-17.390549,-14.524296,-14.612863,-156.72966,-71.75093,-60.118393,-34.42285,-336.85373,-155.52705,-101.10332,-635.19446,-4053.1553,-78.50574,-390.73868,-86.54813,-48.66332,-77.68424,-36.334255,-24.365953,-22.4709,-371.44296,-354.98364,-82.9301,-47.083084,-34.553112,-174.3491,-387.32782,-149.41316,-201.49944,-67.0467,-52.55954,-43.22061,-9393.314,-180.6554],[-13.966039,-14.3477545,-14.750924,-129.60428,-59.730785,-42.859707,-92.21826,-29.656076,-18.83643,-23.853367,-32.51288,-51.04324,-118.68837,-22.685413,-245.19067,-103.36502,-65.48663,-47.923817,-228.62726,-97.12143,-61.656162,-45.163563,-44.884514,-50.36013,-57.357353,-66.61278,-79.4299,-136.66809,-412.83023,-367.42673,-6611.3647,-2093.749,-93.95141,-114.43151,-1144.9875,-202.88307,-330.68835,-893.6216,-32.03257,-25.770287,-21.556114,-268.75314,-16.24352,-15.925732,-19.796495,-26.152985,-38.52217,-845.29016,-712.1711,-41.325348,-94.47033,-21.18042,-43.99904,-68.77767,-93.10499,-36.47249,-102.01651,-61.170357,-31.403933,-23.329859,-28.296843,-43.49457,-93.95748,-320.36435,-10.207677,-9.175504,-137.8041,-59.424854,-37.8797,-421.22946,-1440.3396,-786.78375,-1340.6785,-1912.8746,-79.2081,-559.0818,-224.3076,-199.37772,-415.18472,-77.926254,-42.999065,-29.691236,-99.64015,-59.090866,-84.94515,-22.68649,-18.041828,-14.975796,-94.3797,-2861.453,-126.48359,-64.67117,-43.441376,-122.60306,-545.19,-653.4046,-1616.5391,-77.582825,-103.805954,-1131.718,-101.22843,-347.2969,-57.04856,-31.07658,-26.94166,-24.643675,-307.57764,-152.32455,-70.09243,-45.519135,-227.4705,-106.35743,-51.12452,-339.78174,-141.76094,-89.56412,-65.46108,-51.580116,-362.33032,-245.50558],[-15.251866,-15.708257,-16.192804,-16.708189,-17.257467,-464.63898,-108.33942,-28.916954,-49.070107,-23.11875,-29.127573,-43.166855,-83.332535,-1198.6027,-27.891857,-29.912949,-207.81262,-96.078186,-62.484272,-17604.285,-167.24213,-84.0184,-60.703987,-71.16952,-85.9953,-108.62342,-147.41223,-229.29037,-515.7675,-1550.5543,-22991.092,-1939.3342,-8923.65,-370.05206,-1254.1265,-1674.9968,-198.12085,-63.414207,-42.816296,-32.318825,-25.955208,-47.61437,-18.62185,-16.567696,-20.798256,-27.930223,-42.506092,-88.90018,-18.260498,-318.8655,-261.37506,-38.238987,-69.69198,-120.58152,-206.20067,-46.453243,-26.175014,-122.4853,-82.84502,-33.107075,-29.204454,-45.676502,-104.768745,-501.9322,-11.72237,-10.381268,-9.315518,-232.14713,-72.05138,-114.26223,-331.15112,-4876.6724,-82.45538,-358.63385,-95.3941,-73.794655,-28.829062,-21.372353,-2350.5134,-92.170265,-47.00675,-493.26578,-125.622345,-148.2934,-770.6057,-23.807621,-18.74379,-200.54552,-26.344847,-86.06733,-533.2752,-106.023384,-182.721,-87.892044,-189.7992,-489.3333,-181.66289,-111.534744,-153.16782,-62.94044,-121.90577,-132.7012,-45.074997,-33.633236,-30.126291,-27.281607,-944.4073,-137.08646,-66.68173,-327.1483,-68.79768,-823.4804,-68.85715,-35.930805,-302.6319,-134.85448,-86.75688,-63.94874,-761.7257,-382.9805],[-16.798475,-17.353804,-17.947104,-18.582401,-19.264332,-19.99822,-141.59042,-78.109314,-48.827477,-142.08089,-33.42886,-37.39632,-64.206314,-226.80965,-33.281487,-36.199993,-39.67956,-43.8992,-180.32477,-89.75415,-64.465385,-601.575,-131.84146,-121.2865,-171.74689,-294.10907,-1022.8304,-123.52514,-161.53606,-233.33878,-420.05063,-2102.0913,-345.2242,-82.51577,-338.40753,-74.11865,-3119.9656,-126.47482,-473.82047,-64.12548,-34.38988,-26.142776,-21.81611,-18.71822,-21.90681,-29.966625,-47.409092,-113.43624,-18.634743,-32.232624,-119.250175,-196.49806,-167.50465,-488.60037,-49.65666,-63.954468,-30.946838,-128.67587,-153.22879,-56.9912,-35.00549,-48.08892,-118.39153,-1158.4779,-13.7649,-11.951869,-10.560852,-9.459868,-736.0605,-164.9197,-173.07869,-392.61237,-105.38187,-2244.9485,-297.7484,-168.43526,-30.726595,-22.397774,-17.621302,-192.71848,-72.10124,-203.47293,-169.93437,-71.17963,-34.989582,-25.045322,-19.502579,-30.913286,-109.756424,-32.58735,-29.185345,-294.03592,-862.8117,-97.05554,-286.80502,-3894.4336,-632.4867,-198.32729,-292.0372,-83.58129,-153.20012,-82.02092,-44.74724,-38.746387,-34.16471,-222.11441,-3100.5078,-124.619965,-582.3078,-75.78077,-166.81978,-105.985466,-51.038406,-33.61239,-25.057148,-272.80566,-128.58965,-84.12028,-62.50473,-870.36],[-18.694155,-19.384464,-20.12771,-20.930222,-21.799383,-22.743862,-23.773893,-24.90164,-46.34304,-156.77695,-31.515936,-60.337814,-52.220703,-125.25543,-41.25296,-45.83316,-51.557438,-58.91568,-68.72381,-1464.1288,-159.26349,-137.29227,-205.70567,-410.0223,-60705.39,-170.39043,-252.27522,-485.67932,-6492.572,-137.23428,-514.1556,-553.7975,-208.40692,-2694.6584,-1033.6184,-88.08733,-1133.6866,-22707.39,-131.05714,-65.7185,-720.8991,-79.00461,-100.93047,-25.236385,-23.140194,-51.469074,-53.59074,-156.67914,-19.024645,-33.41725,-137.25075,-9.716259,-8.784498,-175.942,-71.98489,-102.61424,-37.846397,-287.01166,-39.74218,-204.58131,-62.85992,-50.77039,-136.0867,-269.11624,-16.669447,-14.082451,-12.190548,-10.746775,-1194.4739,-296.2706,-301.46832,-85.64608,-482.11002,-184.47026,-161.32758,-54.642544,-32.891533,-23.526556,-18.360382,-145.27148,-189.55339,-84.47503,-262.54492,-279.7694,-37.7299,-26.41878,-37.397587,-151.43103,-35.48728,-28.012875,-35.709965,-49.238483,-228.2992,-203.22072,-1553.8044,-180.77084,-44.102287,-894.0291,-3128.5122,-124.366516,-454.78333,-72.218544,-54.276745,-45.69294,-504.1639,-59.855972,-950.3314,-2646.252,-84.34158,-92.810715,-41.522938,-105.80046,-50.99547,-33.593758,-25.046793,-19.966797,-248.3322,-122.88134,-81.639435,-255.0584],[-21.072077,-21.953312,-22.911472,-23.957077,-25.10269,-26.363377,-27.75738,-29.307032,-31.039938,-156.02867,-112.82635,-56.726803,-309.35132,-86.51732,-2547.3347,-62.452095,-73.58431,-89.54623,-114.35098,-158.16325,-256.3998,-705.99036,-180.27031,-274.554,-575.59863,-205.19583,-92.627045,-59.81351,-44.16701,-65.29988,-306.96353,-6890.897,-6111.2744,-2091.6921,-826.99866,-108.54383,-14.281179,-13.167446,-199.55043,-135.98488,-66.9349,-44.39285,-63.343166,-102.87446,-43.095093,-35.082336,-61.626095,-253.20117,-19.431215,-34.69228,-161.65228,-18.972546,-9.436256,-32.596424,-130.79897,-259.448,-48.77396,-31.239902,-47.90667,-23.500568,-307.70016,-70.07563,-160.00067,-387.94012,-21.127571,-17.137403,-14.414977,-12.438941,-65.57051,-1455.4993,-1167.5717,-198.74432,-237.39874,-624.4168,-246.52182,-61.886467,-35.97523,-27.375715,-22.094297,-204.05678,-1107.0667,-186.49033,-576.9902,-76.44803,-40.935894,-47.324894,-244.1312,-38.953545,-26.931164,-33.97037,-45.991512,-222.65276,-157.36194,-886.7743,-137.60046,-92.53358,-35.778713,-27.263493,-1524.3522,-242.88875,-314.846,-90.585205,-68.96329,-55.674404,-70.48158,-153.4239,-2143.1484,-445.1958,-64.289406,-40.180466,-30.68462,-105.6161,-50.95259,-33.57514,-25.03645,-19.96022,-3609.0356,-227.88673,-117.65822,-404.27127],[-24.143135,-25.307043,-26.588863,-28.007444,-29.58594,-31.352987,-33.344524,-35.606224,-38.197044,-41.194508,-44.806164,-50.261524,-283.55606,-66.440384,-252.06326,-97.97915,-128.47144,-186.51857,-340.25363,-1935.8812,-301.1502,-706.3905,-10.658857,-465.1537,-129.10336,-74.95293,-1797.5864,-154.34656,-80.63472,-54.572872,-88.61763,-198.28061,-239.06439,-698.92163,-422.7881,-141.37555,-16.727303,-15.2195,-13.96106,-214.1159,-141.2966,-68.19638,-44.944427,-33.51664,-26.722143,-147.41087,-72.496,-659.45734,-21.170519,-36.068474,-196.60619,-400.72916,-10.192472,-44.84451,-714.8649,-51.30709,-68.30223,-91.339264,-60.290855,-29.443459,-33.502846,-620.42236,-194.11105,-694.6544,-28.840849,-21.884996,-17.63239,-226.48586,-33.710587,-478.5408,-16780.375,-138.10124,-635.4176,-1702.1237,-886.0169,-101.41463,-53.78575,-36.597702,-27.73469,-342.76727,-180.99916,-93.24565,-183.52078,-90.86746,-64.42754,-629.5716,-43.170464,-25.929644,-32.392223,-43.145615,-64.58681,-128.3903,-10564.793,-2372.8953,-151.67632,-64.37164,-43.306023,-32.628403,-26.174694,-5168.2466,-666.4227,-140.53406,-94.5462,-85.69462,-57.145943,-72.80457,-398.13187,-97.90865,-55.817444,-39.03589,-30.012589,-105.43237,-50.90979,-33.556557,-25.02611,-19.95365,-16.939844,-1566.5491,-210.55292,-974.2014],[-31.163807,-29.870213,-31.672426,-33.70606,-36.01875,-38.672207,-41.74771,-45.354652,-49.643776,-54.82889,-61.22347,-70.97275,-173.73384,-203.08691,-146.57045,-227.26064,-505.60928,-333.45178,-914.0858,-10.997347,-8.786807,-9.220604,-10.051352,-11.046604,-12.260616,-346.80603,-117.93408,-71.04643,-462.54913,-123.693665,-71.39209,-137.81476,-681.3664,-1123.806,-210.05196,-703.21545,-20.18454,-18.029217,-16.289791,-21.19278,-230.97359,-147.0381,-69.5066,-45.509674,-33.829983,-42.304264,-88.02191,-259.95404,-57.700928,-37.55833,-250.84605,-17.306282,-14.031854,-71.837074,-125.66567,-75.50591,-114.286606,-39.327843,-717.51935,-77.511665,-40.968815,-60.969414,-423.1752,-3317.7456,-45.424423,-30.27094,-22.698706,-365.5656,-22.687134,-18.22265,-615.51245,-199.05933,-196.21666,-112.42747,-1032.6355,-1524.5336,-106.52218,-55.189,-37.242065,-1070.018,-88.04017,-1835.7007,-31.04949,-180.6495,-1049.8411,-48.411057,-31.66853,-30.954235,-40.631477,-59.11156,-108.42612,-1655.6201,-71.20552,-109.26112,-513.5681,-105.220665,-58.61486,-40.622013,-31.081104,-658.6436,-62.545696,-313.27524,-150.30347,-98.86971,-210.10825,-127.58057,-308.5025,-91.3798,-53.632885,-37.95472,-29.369366,-105.249306,-50.867065,-33.537994,-25.01578,-19.947083,-18.145924,-17.073616,-1000.3916,-383.31967],[-93.92256,-36.440964,-39.15935,-42.315964,-46.026123,-50.449413,-55.81328,-62.453438,-70.886856,-81.95355,-97.114914,-120.71619,-170.60567,-290.77814,-983.6348,-2742.6504,-38.422745,-111.5794,-31.40883,-18.276781,-12.888229,-9.953599,-9.7102585,-10.658712,-11.812498,-13.246399,-15.076504,-276.4848,-108.5455,-67.52823,-265.43842,-103.19951,-309.80606,-458.45416,-3532.1936,-2270.077,-842.76764,-22.11131,-19.550976,-34.97915,-15.874619,-250.71297,-153.26973,-70.868614,-46.089645,-47.15816,-112.00997,-22.494442,-20.76232,-1099.0309,-346.41495,-35.870926,-24.17698,-180.45616,-1281.5931,-142.90729,-349.76822,-51.186523,-124.840385,-33.68354,-298.80472,-67.32076,-338.39557,-453.53876,-106.88216,-49.076206,-952.64655,-58.312824,-18.71338,-21.008997,-492.975,-356.3564,-345.5419,-780.8952,-1783.644,-173.74051,-5461.827,-112.17142,-56.667706,-548.5481,-106.656944,-123.03348,-232.39146,-145.90976,-177.86139,-69.916306,-43.509804,-38.39458,-54.492805,-93.83554,-337.55807,-261.42337,-57.920425,-79.44767,-190.68953,-287.94388,-90.665184,-53.8032,-38.251232,-2547.4114,-77.61714,-150.78914,-366.3578,-305.07846,-153.8762,-76.26069,-251.81332,-85.667274,-51.61287,-37.095623,-32.874756,-105.06686,-50.82441,-33.51944,-25.005457,-20.953806,-19.536913,-18.299507,-253.64241,-734.816],[-42.89989,-101.6206,-51.281597,-56.833572,-63.73372,-72.54091,-84.17245,-100.2464,-123.9084,-162.19221,-234.7104,-424.51743,-18029.607,-38.7972,-68.06743,-283.6472,-1015.51605,-83.85878,-26.826685,-54.06153,-24.170124,-15.564351,-11.477712,-10.8894005,-12.096497,-13.604578,-15.542231,-18.123524,-21.732954,-229.86792,-100.5394,-64.34128,-186.11722,-5162.459,-306.0832,-2601.5527,-545.3623,-28.582817,-24.444683,-100.103,-18.95592,-180.07733,-274.14294,-160.05063,-72.28444,-53.270283,-153.97096,-27.32776,-22.635202,-40.940598,-559.63257,-7656.7275,-87.2828,-40.094738,-26.024824,-1331.467,-53.071026,-73.284134,-268.63794,-39.369076,-37.66002,-70.39726,-538.5508,-925.42236,-35.317093,-129.56746,-173.8322,-33.60352,-24.522306,-24.80126,-122.088615,-1698.5527,-1445.9757,-179.17865,-190.02176,-131.75064,-356.29742,-80.78885,-118.45297,-162.99763,-394.50107,-56.128826,-35.410282,-209.3012,-62.013744,-175.16461,-3087.9507,-50.542637,-82.70769,-227.44516,-8565.792,-141.9159,-365.9587,-62.416473,-218.83301,-54.15118,-200.05501,-79.64763,-49.721592,-92.327995,-243.12314,-182.86003,-124.102646,-441.1029,-174.57639,-15753.7295,-212.72385,-80.62693,-51.091816,-43.41462,-37.74321,-104.88505,-50.781822,-33.500916,-24.995146,-22.830853,-21.158867,-189.52113,-60.57214,-36.046394],[-57.891933,-65.067696,-110.69336,-86.51483,-103.58659,-129.05217,-171.12007,-253.87822,-491.65323,-7751.941,-16.077742,-19.536777,-24.892202,-34.29245,-55.10051,-140.84114,-6.4938426,-50.97238,-85.946495,-43.150574,-193.92688,-35.67279,-19.64306,-13.55297,-12.394487,-13.982664,-16.037645,-18.800745,-22.714092,-28.6848,-38.913845,-196.70532,-135.68439,-1449.373,-1009.7861,-218.48874,-211.72353,-2878.9275,-32.606236,-27.328697,-23.521503,-20.645447,-18.807056,-302.39896,-167.46007,-73.75875,-246.20267,-34.806614,-27.535837,-42.87092,-1455.4052,-16.927662,-858.5149,-13.4685135,-117.36956,-60.40864,-79.38889,-128.95526,-40.929955,-47.36523,-39.2849,-76.296196,-1318.3066,-10.489075,-137.87862,-53.3039,-215.8227,-58.4784,-35.56094,-30.264118,-181.73447,-1265.5708,-362.40704,-339.84644,-351.387,-183.55467,-56.979496,-33.724113,-106.05798,-125.47938,-184.85841,-63.15958,-76.140335,-370.08786,-71.17583,-212.30402,-172.54346,-73.937454,-171.5135,-1633.5575,-60.894157,-97.39328,-162.15187,-345.21994,-256.72192,-56.203815,-31.556137,-153.27167,-1193.8268,-627.1929,-149.82135,-263.6389,-261.79834,-97.861206,-554.16254,-1606.4617,-184.13963,-82.04879,-63.90192,-52.328384,-44.30423,-104.70385,-50.73931,-33.482414,-27.46073,-25.077267,-151.28046,-56.044365,-390.79575,-86.270706],[-88.9913,-107.15701,-134.64128,-181.08714,-276.45312,-584.0111,-335.8001,-1800.0541,-11.414455,-13.055527,-15.247696,-18.324621,-22.957312,-30.724964,-46.437035,-95.03668,-6.57875,-7.000811,-224.7426,-29.296207,-110.216805,-29.04905,-68.06486,-26.618486,-16.54429,-14.382359,-16.565681,-19.530537,-23.787992,-30.419048,-42.175804,-68.74557,-4516.474,-171.90164,-312.74918,-375.73022,-2478.3477,-2481.7332,-4411.542,-37.947887,-30.984097,-26.179947,-22.66555,-26.00035,-337.15018,-175.5906,-614.0096,-47.921318,-39.73796,-44.992294,-152.9373,-19.526579,-17.007267,-15.063723,-45.72305,-110.30552,-179.10521,-536.5535,-53.93422,-59.437485,-41.056316,-83.27414,-233.67055,-10.002937,-14.594885,-419.79333,-108.62714,-225.13065,-64.67354,-38.813416,-355.33145,-261.35052,-72.527664,-3289.6626,-2330.1938,-302.4957,-64.901215,-36.35011,-364.5944,-220.97554,-291.83078,-94.10873,-41.19473,-1596.64,-109.93082,-44.143898,-66.849075,-170.00273,-2892.747,-395.4474,-20398.828,-74.135315,-104.1497,-122.37217,-310.4786,-58.418186,-32.242332,-2026.718,-182.01862,-232.0461,-280.1085,-472.2731,-804.7717,-57.352272,-34.3612,-846.3833,-208.19751,-121.003204,-85.285255,-65.84813,-53.62625,-104.523285,-50.69687,-34.44604,-30.776793,-125.879814,-52.146214,-172.71268,-67.46518,-41.920006],[-192.2881,-303.43698,-719.1045,-225.2652,-495.83737,-35.643253,-20.53783,-14.424689,-11.115987,-12.502844,-14.499147,-17.254086,-21.301527,-27.829794,-40.12773,-71.90035,-345.31577,-7.0995975,-7.593637,-8.161577,-52.728325,-129.93982,-49.2058,-740.15405,-41.27623,-21.23006,-17.129673,-20.319288,-24.968494,-32.3765,-46.03472,-79.62513,-294.55304,-65.88929,-1047.349,-244.57901,-425.32706,-234.3581,-767.9414,-62.064884,-45.382633,-35.76868,-29.51585,-28.159592,-45.061565,-380.9329,-184.54803,-76.894135,-161.26903,-47.33454,-183.39363,-23.068262,-19.632557,-17.087597,-74.1184,-707.27203,-9684.265,-54.96051,-377.8797,-79.76869,-42.995033,-91.65701,-317.41736,-14.272288,-11.968915,-141.04222,-29.886055,-19.708895,-356.6593,-72.33706,-7934.528,-732.24915,-86.42756,-89.89309,-104.295135,-859.32916,-75.38123,-39.419586,-148.25284,-78.855415,-692.6924,-142.37172,-63.469166,-74.16729,-101.02832,-61.00109,-114.9555,-995.51404,-167.53423,-111.299835,-305.7887,-59.84419,-76.71017,-74.36715,-392.7106,-60.814205,-32.95903,-22.605095,-495.2556,-104.42961,-2148.2886,-2263.4683,-118.20174,-54.253693,-36.46044,-574.54425,-1137.037,-230.38289,-128.17702,-88.78771,-67.91665,-104.34334,-50.654503,-39.8291,-107.78344,-48.755188,-110.85042,-55.390366,-36.919174,-27.68653],[-312.778,-287.51962,-947.3293,-7.5245104,-7.4064293,-151.1862,-36.69835,-20.88375,-14.594481,-11.995056,-13.820658,-16.301735,-19.86852,-25.433258,-35.327812,-57.823452,-159.19041,-7.2012105,-7.7100015,-8.296154,-8.978764,-263.41766,-29.86774,-160.73862,-31.672842,-91.85926,-29.618906,-21.174416,-26.272272,-34.60319,-50.67087,-94.59553,-710.50256,-76.70206,-389.5347,-138.98232,-1949.5233,-212.91632,-213.41954,-369.0471,-84.78087,-56.440792,-52.058228,-33.826088,-46.90988,-110.619125,-437.7917,-194.46596,-78.56413,-49.933987,-228.99495,-28.179325,-23.216305,-19.981209,-195.5778,-1612.7114,-39.76086,-83.69314,-147.94366,-121.240265,-544.7818,-101.9165,-494.73288,-24.899698,-18.641045,-153.10251,-67.24484,-23.009464,-36.58422,-857.8471,-401.46097,-6849.3086,-106.91822,-112.083496,-143.89188,-1479.5364,-89.89763,-43.055264,-153.47055,-453.17474,-36.78318,-1719.2432,-152.64685,-65.432785,-127.83679,-98.69079,-410.0839,-23.886042,-18.792356,-165.13492,-154.04852,-314.2967,-633.2385,-53.41349,-534.1957,-63.415184,-1782.0886,-6367.7925,-67.53758,-954.20416,-90.077415,-101.501305,-128.84595,-59.6791,-38.832893,-434.87317,-131.236,-2398.2825,-257.85895,-136.25476,-92.58997,-104.164024,-56.425343,-94.23578,-310.5829,-81.61752,-46.982056,-32.984535,-25.981308,-23.837727],[-10588.451,-635.33527,-8.511406,-8.36063,-8.215104,-8.074554,-172.18489,-37.81769,-21.241528,-14.768319,-13.202831,-15.449017,-18.616165,-23.416752,-31.553516,-48.356133,-103.437614,-7.305777,-7.829987,-8.43524,-9.141905,-9.9778,-10.981934,-54.60926,-266.19144,-57.237247,-23.352175,-48.968204,-27.719711,-37.15878,-56.345406,-116.49867,-469.46796,-91.76008,-2338.1597,-65.69578,-315.8358,-211.488,-1913.5309,-2737.0776,-642.89667,-133.72496,-74.623,-51.750904,-52.95371,-151.35512,-26.960571,-514.5697,-205.51738,-80.30904,-304.78015,-36.199974,-28.400608,-23.366291,-19.84799,-26.17791,-55.639046,-175.37904,-1151.4958,-252.53067,-47.47901,-114.7621,-1120.914,-97.500336,-269.21164,-47.743763,-19.720688,-47.898037,-49.860157,-254.4568,-174.91757,-711.15967,-140.14417,-148.82043,-231.9552,-195.91914,-111.33831,-2313.303,-322.25638,-40.52085,-23.616125,-126.56039,-54.56787,-164.51903,-174.01212,-258.2313,-35.159206,-25.13213,-646.1615,-45.669968,-162.80634,-151.14404,-145.8951,-41.67199,-835.0427,-187.2232,-160.18721,-207.75177,-51.37954,-100.59765,-197.21466,-149.21295,-164.32285,-66.31022,-41.53561,-1543.9573,-119.76628,-62.299583,-42.099224,-292.77832,-145.41931,-1403.3516,-83.71437,-155.01283,-64.58478,-41.3527,-36.175076,-32.14972,-28.930523,-26.297329],[-270.15234,-141.79268,-784.6957,-9.405798,-9.22201,-9.04527,-8.875174,-199.95311,-39.007465,-21.611786,-14.946345,-14.681068,-17.512323,-21.69651,-28.507835,-41.55277,-76.60752,-489.90338,-7.9537663,-8.579071,-9.311085,-10.179672,-11.226982,-12.514511,-318.16876,-30.462143,-296.7894,-34.81786,-141.23006,-40.12194,-63.451202,-151.60094,-5857.366,-114.17561,-38.924488,-43.012928,-89.34105,-276.90665,-696.734,-111.505196,-1297.6157,-114.27135,-316.35712,-110.08891,-66.639084,-239.58252,-37.241924,-66.08387,-624.04517,-217.89984,-455.54227,-50.603054,-36.565956,-28.625378,-23.518185,-33.533134,-92.62968,-24.435406,-56.989445,-85.80068,-50.09105,-131.3131,-266.97797,-12.760917,-118.65468,-136.62114,-48.068947,-34.59708,-78.25947,-67.52241,-13.37987,-594.1807,-203.33255,-221.38135,-597.8385,-372.09274,-146.20953,-1678.9724,-223.0484,-23.177057,-37.534237,-168.97513,-61.190487,-76.91745,-272.4063,-10353.816,-43.347977,-31.445559,-124.949646,-35.270905,-77.31622,-160.5412,-82.44526,-42.39108,-1911.6353,-268.52707,-54.208336,-105.59926,-116.263725,-49.801315,-31.687231,-274.50223,-226.76018,-74.59897,-44.642704,-725.9949,-110.14029,-59.590477,-40.844433,-31.070328,-488.6594,-1539.0734,-103.28273,-74.982994,-59.532784,-49.361816,-42.15904,-36.790653,-32.635025,-29.322916],[-108.88319,-447.71542,-184.18382,-10.749615,-10.510231,-10.281273,-10.06208,-9.852037,-238.40056,-40.274593,-21.995182,-15.128728,-16.53206,-20.21172,-25.998362,-36.427654,-60.82933,-184.2603,-8.08152,-8.727894,-9.486645,-10.389885,-11.483217,-12.833723,-14.544218,-16.780787,-56.629566,-24.234083,-68.402824,-43.598663,-72.60785,-216.97922,-58.516254,-151.08104,-24.369446,-32.48321,-52.02765,-139.57693,-28080.867,-250.63664,-215.1457,-571.4576,-257.1581,-105.43402,-209.79584,-574.4194,-60.198147,-44.376553,-35.140694,-792.6322,-901.44025,-84.040054,-51.320816,-36.93928,-28.853626,-46.63666,-276.3744,-29.632431,-88.49069,-173.48912,-58.60264,-153.44244,-383.51212,-13.798167,-118.62915,-20.09161,-26.488518,-228.17172,-181.82301,-138.96959,-22.304281,-131.06548,-370.28598,-432.02673,-54.667965,-3692.5637,-212.8853,-70.03491,-34.599964,-32.228313,-33.53059,-254.1038,-69.639145,-148.34865,-649.1293,-765.8329,-91.93678,-48.90368,-69.15833,-368.29288,-5092.988,-3822.097,-627.80896,-67.1082,-829.6705,-72.74949,-36.17556,-137.70901,-53.36084,-33.091766,-202.28825,-1857.3883,-365.7245,-85.25602,-48.252167,-474.57394,-101.94654,-57.10716,-39.662273,-295.8393,-257.67792,-401.52353,-168.02101,-106.23904,-77.67692,-61.218395,-50.515045,-42.997433,-37.42753,-63.056873],[-68.18153,-129.59845,-1306.2761,-262.72748,-12.216784,-11.90853,-11.61545,-11.336451,-11.070536,-295.15375,-41.626747,-22.392435,-15.655722,-18.917137,-23.894958,-32.427998,-50.440563,-113.46896,-8.967161,-8.881968,-9.668953,-10.608963,-11.751425,-13.169649,-14.977165,-17.359777,-20.643852,-401.6549,-33.208447,-1931.9229,-84.85304,-381.50497,-66.89069,-223.24138,-20.960344,-26.695658,-36.751938,-65.827835,-318.87598,-262.2933,-1619.3259,-3050.8591,-27.670004,-41.906315,-216.3504,-2225.1565,-156.93567,-81.3362,-54.89293,-63.99093,-42622.758,-247.74934,-86.03982,-52.05972,-37.32046,-76.54939,-581.9875,-37.637222,-197.85692,-43.204437,-78.274956,-184.54204,-680.58453,-198.13498,-43.776573,-21.459126,-32.814774,-69.69653,-61.39238,-691.6572,-66.98045,-202.3667,-2069.6453,-8907.454,-177.5008,-120.21622,-959.26666,-147.9267,-47.791744,-31.992474,-42.439053,-512.22394,-122.32852,-2080.9375,-30.098036,-92.02023,-214.59412,-1765.3954,-57.145184,-168.45053,-275.41672,-180.61525,-50.809498,-156.19398,-74.57181,-76.50305,-241.9653,-57.46833,-34.626595,-24.778118,-82.230545,-35.267834,-944.5694,-103.65018,-58.12426,-352.49905,-94.887505,-54.822544,-212.13438,-140.60616,-61.94017,-103.45286,-493.0964,-182.17886,-111.72922,-80.57154,-63.00223,-799.2621,-53.457657,-62.248833],[-49.62953,-75.76497,-160.0484,-107.70299,-458.06894,-14.147753,-13.735996,-13.34753,-12.980431,-12.63299,-387.36206,-43.07285,-22.80428,-17.778406,-22.106422,-29.219744,-43.082645,-81.974815,-842.75464,-9.965519,-9.858406,-10.837482,-12.032459,-13.523632,-15.436682,-17.98015,-21.527115,-26.817463,-35.555206,-58.80493,-102.06644,-1578.1217,-78.06232,-427.35626,-28.022057,-22.658602,-29.512867,-43.06932,-89.5817,-319.0805,-1925.396,-111.97442,-4185.572,-236.05872,-140.08904,-9.516348,-186.71902,-486.61304,-125.35031,-71.94098,-50.44666,-1724.7051,-265.9617,-88.13579,-52.819733,-213.46733,-920.6054,-51.567387,-24.174887,-59.174026,-117.8202,-231.4529,-3019.5505,-12012.493,-26.840775,-25.430986,-43.110947,-141.4467,-115.27898,-9.809682,-33.372894,-1726.783,-230.6558,-62.894184,-70.646805,-250.26697,-3153.8284,-79.902145,-40.898582,-87.95402,-57.79333,-104.07044,-522.3229,-48.036423,-32.00883,-113.74719,-49.65469,-238.82202,-200.84572,-109.198074,-141.53513,-92.49217,-35.772522,-91.817894,-154.10709,-218.20734,-113.77606,-42.664406,-26.254793,-313.97235,-51.603565,-28.111977,-146.61818,-276.48016,-89.49694,-280.3776,-88.74275,-762.97473,-96.68213,-51.611076,-35.201103,-103.276596,-50.40175,-638.7835,-198.94241,-117.81761,-243.9633,-493.8323,-52.991245,-44.778496],[-39.01397,-53.529625,-85.2467,-209.20244,-130.52132,-1786.1244,-16.80375,-16.226038,-15.686729,-15.182127,-14.708958,-563.38666,-44.623104,-23.231592,-20.566986,-26.589153,-37.598106,-64.16528,-218.7002,-11.486979,-11.214047,-11.076056,-12.327265,-13.897167,-15.92528,-18.646502,-22.489336,-28.327322,-38.25884,-58.914036,-544.5356,-620.7872,-153.17297,-4988.017,-20.674458,-52.96996,-24.65626,-32.994785,-52.10998,-140.16362,-806.0769,-339.73767,-216.9,-1265.9171,-148.82727,-9.617,-12.2935,-2027.7692,-164.22903,-273.18414,-104.34958,-64.49202,-4184.2314,-287.06302,-90.33615,-53.602287,-38.106586,-81.86843,-24.83426,-93.871765,-238.12148,-310.3424,-403.20624,-96.82734,-20.759747,-31.207092,-62.822487,-56.28248,-942.8845,-10.45151,-11.511364,-797.04803,-533.37823,-117.015274,-110.42456,-2294.5325,-1623.9869,-97.295364,-45.23296,-53.36988,-550.95026,-298.62866,-118.89585,-53.09283,-34.17783,-148.90518,-55.36076,-74.19465,-381.02087,-492.65247,-95.23911,-62.163063,-119.44068,-43.298107,-308.32404,-152.07538,-74.374146,-41.77693,-30.658672,-96.13011,-37.59956,-23.370192,-269.11606,-149.1981,-194.45355,-232.75555,-220.17725,-73.668495,-44.23449,-31.606237,-24.587025,-103.100914,-50.35987,-33.316765,-906.6743,-219.10368,-193.9975,-87.06028,-66.90127,-54.322742],[-32.13948,-41.38423,-58.09494,-97.44103,-301.93146,-165.60643,-3272.677,-20.687445,-19.818733,-19.020052,-18.283226,-17.601376,-1032.5693,-46.28907,-23.675192,-24.393105,-33.35228,-52.713062,-125.65425,-13.556698,-13.178175,-12.820202,-12.636877,-14.2919235,-16.44582,-19.364143,-23.541605,-30.017334,-41.40746,-66.72731,-171.74782,-52.627323,-117.21603,-21.721756,-112.1612,-29.182478,-111.054146,-31.367006,-37.40824,-65.95763,-322.0257,-24606.443,-1312.4277,-3445.802,-233.30922,-9.719804,-29.005789,-17.359524,-43.788525,-815.2285,-146.57198,-189.89265,-89.37544,-58.44065,-311.8126,-92.65085,-54.408543,-198.51683,-29.80468,-226.94505,-69.09787,-470.81747,-737.5752,-40.418507,-24.454638,-40.3781,-115.74419,-98.48887,-10.297192,-11.183247,-12.236072,-345.7656,-2499.6194,-103.808365,-94.83209,-2482.3926,-395.3966,-1389.7556,-85.1792,-80.14951,-209.09488,-1971.1162,-265.3861,-65.46347,-37.336704,-215.51997,-62.548504,-135.05144,-462.91177,-1549.1774,-237.01595,-170.83354,-54.87472,-525.2427,-74.72424,-289.66193,-150.09802,-65.17749,-700.98785,-56.75356,-29.573923,-19.997177,-1635.8444,-198.93109,-71.316765,-198.96194,-78.566986,-48.94793,-35.54695,-27.906681,-22.969696,-102.92585,-50.31806,-33.298462,-102.09533,-1561.4773,-243.81055,-132.22859,-90.71312,-69.03755],[-49.46584,-44.773144,-44.061035,-63.51143,-113.70607,-542.2963,-226.48576,-28.532536,-26.905935,-25.454823,-24.152184,-22.976385,-21.909761,-6176.7734,-48.08425,-24.13607,-29.968071,-44.72969,-88.15053,-3012.524,-15.976423,-15.453304,-14.963364,-14.709766,-17.001545,-20.139248,-24.697184,-31.921814,-45.120872,-76.93007,-260.7597,-59.304737,-156.45107,-845.20386,-32.396217,-386.1987,-49.589622,-22.90633,-53.937767,-43.184654,-89.824715,-376.41364,-189.77599,-113.49691,-906.8102,-11.675282,-15.612732,-17.697401,-319.42957,-89.06307,-12.303283,-510.18158,-1053.7424,-145.526,-78.16002,-341.22882,-95.08571,-355.05276,-38.926918,-38.877033,-74.77227,-974.9627,-4320.2236,-25.53966,-29.749622,-57.18292,-734.4377,-393.79794,-11.006668,-12.025066,-13.251054,-3381.2927,-842.1399,-498.98788,-119.867256,-116.60688,-8897.117,-178.82327,-314.2518,-160.85623,-975.6723,-31.111258,-224.97705,-67.25584,-174.7903,-389.98627,-165.53752,-39.58906,-185.82327,-245.09921,-361.15536,-86.95148,-1771.7456,-83.03522,-42.513863,-123.32506,-43.940216,-148.17047,-115.68532,-41.47673,-30.496658,-24.11327,-19.939623,-507.1722,-99.51071,-1568.8141,-122.03919,-63.488903,-42.904713,-32.40007,-26.02755,-102.75135,-50.27632,-79.095535,-87.61305,-34.9861,-5620.778,-274.7988,-140.84247,-94.6859],[-144.40137,-110.57138,-89.583115,-75.29208,-70.041824,-136.4891,-2659.5713,-358.1488,-41.88367,-38.469765,-35.570377,-33.07743,-30.911037,-29.010931,-60.65826,-50.02428,-27.207378,-38.84641,-67.88809,-268.97354,-20.283403,-19.44759,-18.677956,-17.966913,-17.596136,-20.978975,-25.972054,-34.084312,-49.5659,-90.81587,-541.29517,-67.92295,-235.16818,-13.013037,-12.989971,-63.698807,-41.743153,-164.90839,-31.831438,-192.3442,-52.19412,-140.78073,-1349.9535,-527.1357,-218.68245,-19.991104,-12.813227,-18.0487,-30.5186,-98.7345,-16.047426,-8.696814,-9.004005,-371.26138,-391.4579,-117.96384,-376.76816,-97.65327,-56.096336,-40.611053,-99.95074,-265.01642,-81.79372,-26.933796,-37.971153,-97.94664,-85.967606,-12.570924,-11.82125,-13.004062,-14.449803,-216.54276,-747.64105,-156.1739,-734.7219,-1192.0159,-141.87341,-307.7649,-130.70691,-1323.2308,-4076.4036,-72.83726,-406.16693,-77.60296,-273.50635,-2047.3346,-130.30663,-52.13275,-116.242966,-1225.2527,-67.7084,-5352.49,-93.426346,-363.12747,-81.13492,-103.10106,-42.379364,-26.67128,-146.29091,-64.44934,-41.328033,-30.416279,-6656.5347,-596.7953,-93.71476,-154.18884,-462.2916,-102.88244,-57.88206,-40.26871,-30.873852,-102.577446,-64.555176,-68.75982,-48.362038,-56.59216,-68.19796,-85.791916,-314.81207,-177.24442],[-21.025146,-24.623566,-29.708054,-37.43872,-474.0269,-236.4961,-170.69077,-120.90935,-855.4773,-78.71779,-67.46515,-59.0274,-52.465622,-47.216732,-42.922596,-59.709953,-52.12772,-34.330902,-55.19982,-140.77147,-27.769623,-26.226467,-24.845806,-23.603245,-22.47905,-21.891787,-27.385714,-36.56109,-54.982426,-110.81858,-327.76398,-79.47198,-473.31448,-15.734354,-15.226725,-14.750832,-1887.1058,-33.096657,-21.388353,-57.757343,-38.088383,-67.868706,-325.28983,-6284.135,-1133.5297,-3957.9497,-12.996369,-18.414223,-31.578506,-110.7618,-23.067362,-9.833439,-9.632736,-10.244314,-11.727886,-291.79688,-240.37688,-420.57703,-100.362915,-56.979763,-266.06778,-314.53333,-68.68207,-32.013107,-52.472286,-341.11804,-248.86578,-14.428146,-13.292286,-14.15652,-473.8432,-42.219193,-141.46745,-207.79262,-441.91644,-47.669785,-226.75537,-1103.3643,-719.191,-40.70668,-27.475681,-146.5043,-2089.0183,-118.53568,-46.88957,-31.495779,-102.45532,-47.375397,-103.872086,-344.64337,-49.889584,-106.79007,-548.4445,-94.7407,-360.78204,-110.80588,-52.77769,-145.22458,-43.328945,-144.45984,-64.09062,-673.8721,-78.636444,-263.9328,-4351.4893,-138.5946,-67.036736,-271.08633,-88.92409,-53.185223,-1132.1843,-1983.6791,-64.78529,-80.46011,-106.14111,-155.90079,-293.4927,-2499.0393,-12.365507,-368.46432],[-18.852047,-21.69477,-25.547047,-31.062778,-39.616062,-54.66967,-88.17494,-227.76437,-150.43251,-1047.374,-652.8952,-273.9387,-173.33235,-126.77295,-99.930954,-82.46962,-70.20259,-61.1122,-54.106247,-95.33251,-759.418,-40.25993,-37.09556,-34.392372,-32.056362,-30.017532,-28.96211,-39.42603,-61.727974,-142.1214,-916.06195,-95.7528,-35269.902,-19.894812,-19.090101,-18.347965,-17.661358,-17.024288,-66.464645,-23.159561,-311.31766,-44.093662,-717.6178,-458.8628,-236.79951,-129.2634,-1690.6298,-221.69957,-32.714703,-126.12605,-41.004898,-11.311835,-11.047062,-10.794403,-11.88092,-13.923637,-16.814621,-1318.2732,-475.9219,-103.22659,-99.21538,-487.7532,-115.35422,-39.453472,-84.89291,-76.27121,-18.815865,-16.929276,-15.386536,-1651.7042,-47.218163,-23.389719,-228.2836,-385.34802,-576.2643,-54.905575,-564.4833,-395.37967,-96.21696,-44.9983,-29.3661,-21.794697,-192.76495,-112.107544,-51.6957,-197.65477,-130.13025,-622.9532,-913.5699,-13754.474,-124.61487,-51.273193,-32.27678,-740.4482,-134.62442,-119.75529,-155.5926,-70.90528,-39.108788,-379.8374,-354.88913,-71.171486,-41.034363,-1461.3905,-4113.2705,-125.865,-63.91031,-52.79087,-191.76915,-268.033,-275.20264,-139.14464,-239.25334,-852.8166,-24.841475,-19.836103,-16.509567,-14.138509,-12.379089,-11.320147],[-17.086063,-19.388634,-22.408443,-26.542492,-32.546944,-42.062317,-59.440086,-101.285515,-342.17554,-199.03174,-8.850649,-9.806442,-10.993662,-12.507942,-14.506016,-17.263817,-1048.5475,-325.46494,-192.62875,-136.79591,-349.25952,-86.5968,-73.1712,-63.349667,-55.85272,-49.942417,-45.163395,-42.778168,-70.36028,-198.07088,-53.26418,-120.42321,-28.690504,-27.046364,-25.580448,-24.265284,-23.078705,-22.002785,-21.022713,-20.33519,-33.827915,-34.53833,-69.146774,-227.35487,-4149.77,-1175.5729,-233.81445,-19.19156,-33.93569,-146.4391,-184.38426,-13.313421,-12.948168,-12.602426,-12.274662,-14.139868,-21.71283,-34.52528,-255.45247,-690.3216,-135.66328,-6669.0757,-359.96414,-51.39957,-222.15193,-181.91699,-23.306255,-20.479393,-127.1837,-53.559998,-24.847094,-24.50514,-590.9245,-4272.161,-62.07646,-83.661545,-234.8223,-2275.49,-124.21951,-50.301487,-213.31398,-55.566715,-31.943918,-281.728,-68.63425,-86.84327,-178.28926,-207.18997,-220.79314,-149.58266,-55.05417,-493.64874,-73.89169,-39.934647,-1139.2196,-130.27742,-195.02917,-287.52237,-170.53633,-240.8754,-65.00096,-140.93164,-63.386784,-51.371304,-1027.9084,-115.27705,-93.55853,-128.82259,-206.75072,-523.3213,-69.94465,-102.05927,-50.110046,-33.207245,-24.831297,-19.82961,-16.768082,-14.882333,-13.377845,-12.149615],[-15.622619,-17.525665,-19.956669,-23.170685,-27.618668,-34.180084,-44.83059,-65.12278,-118.97647,-687.55225,-294.01523,-9.491301,-10.599129,-11.999748,-13.826897,-16.310421,-19.881401,-25.454407,-57.03499,-59.651226,-160.0235,-17.231298,-2661.1746,-400.86887,-216.75945,-148.53905,-112.98128,-91.158936,-81.79934,-326.6734,-60.114803,-162.21768,-46.37378,-42.22485,-38.757374,-35.816196,-33.289883,-57.889843,-29.17427,-27.47585,-25.964308,-69.48115,-70.21076,-2774.3533,-328.46365,-3602.1853,-998.2089,-4649.569,-35.25137,-174.55159,-16.749704,-16.17564,-15.639618,-15.137989,-14.667532,-14.362915,-17.45948,-48.578106,-32.218224,-49.429825,-31747.76,-327.42722,-111.399,-74.90929,-68.54044,-37.3907,-30.611706,-443.75473,-61.86953,-26.498096,-22.642622,-32.64958,-169.78691,-419.45648,-74.6988,-175.66342,-1963.0957,-118.803665,-175.21371,-105.61924,-43.905033,-27.712427,-20.245634,-201.8762,-523.1526,-77.32808,-283.0364,-124.25911,-631.3234,-504.62265,-64.65952,-34.54289,-24.709236,-478.2056,-64.572815,-2469.2964,-15999.277,-109.95061,-1891.0315,-99.00775,-58.603924,-70.73226,-139.23137,-120.68466,-587.34296,-410.79486,-58.457672,-106.081955,-101.08404,-1409.6848,-120.97644,-101.88772,-50.06865,-33.189064,-25.97889,-21.71577,-18.654572,-16.349798,-14.551906,-3937.37],[-14.390073,-15.989318,-17.988472,-20.558979,-23.986588,-28.785786,-35.98574,-47.98879,-72.00668,-144.15425,-112.61595,-562.42316,-10.57243,-11.531239,-13.208527,-15.456818,-18.627474,-23.434673,-31.586067,-56.19584,-103.78872,-1142.792,-17.47414,-17.839027,-21.325144,-26.504734,-35.007553,-51.542778,-97.68004,-931.40857,-247.80495,-248.44305,-120.87407,-96.22891,-79.93158,-68.35507,-59.707478,-53.002228,-47.65098,-43.28113,-39.64549,-41.515736,-84.675514,-45.041668,-90.32117,-587.55237,-314.8052,-150.11604,-12469.503,-216.02144,-21.54629,-20.605593,-19.743591,-18.950829,-18.219261,-17.54209,-17.800817,-81.92354,-42.75971,-66.43307,-621.6506,-786.226,-1307.2893,-214.6085,-143.35187,-60.588066,-149.63231,-73.230415,-29.177671,-25.03978,-26.382275,-48.902977,-303.64203,-3056.0952,-140.31114,-4144.322,-34.237305,-1064.3654,-297.22763,-65.814125,-37.003998,-25.737404,-19.730179,-336.59195,-245.22942,-3657.4158,-686.166,-249.60445,-145.79306,-41.663677,-28.455662,-973.04285,-79.81662,-148.20181,-46.735317,-303.61325,-81.1282,-146.64735,-85.212395,-113.51368,-169.96272,-338.0936,-31355.797,-137.56894,-436.20236,-98.75875,-81.46821,-76.79142,-33.122208,-24.530842,-447.40192,-102.12606,-57.641884,-40.152317,-30.8054,-24.988422,-21.019348,-18.138329,-15.951875,-131.6077],[-16.374939,-15.995062,-16.373661,-18.476395,-21.19878,-24.86206,-30.0559,-37.992836,-51.625797,-80.518105,-182.8496,-137.8062,-6457.5063,-12.51193,-12.643093,-14.68811,-17.522331,-21.711893,-28.534393,-41.60921,-76.79985,-497.86676,-27.943962,-18.49477,-22.269,-27.978613,-37.62547,-57.425613,-121.21233,-394.98178,-80.93332,-530.3462,-10.006279,-9.998796,-9.991325,-747.0202,-289.22794,-179.33064,-129.95277,-101.89598,-83.80316,-71.16652,-106.6469,-54.67715,-72.78502,-141.99905,-703.26825,-188.8309,-312.2726,-283.33752,-30.19246,-28.377111,-26.767673,-25.33102,-24.040709,-22.875488,-21.817987,-261.25876,-63.554134,-126.977715,-175.87234,-667.0721,-1004.64264,-560.9258,-2919.1953,-159.61217,-89.70252,-55.216766,-41.872334,-33.923546,-31.601646,-97.38127,-1434.7996,-1032.0869,-1153.8204,-100.34523,-174.83691,-318.45,-978.9539,-77.81278,-40.516716,-27.388985,-21.110714,-1012.25977,-2341.1965,-66.00469,-952.1347,-647.75397,-82.41257,-37.191048,-41.7322,-47.536564,-55.21642,-87.689445,-153.26003,-176.90858,-156.07788,-287.25858,-1800.8259,-59.090794,-38.9789,-237.98154,-72.60477,-42.83646,-1621.0905,-104.03769,-61.91205,-38.45512,-29.70515,-24.198997,-20.414886,-265.8966,-88.35832,-52.982365,-37.83451,-29.422516,-24.07071,-20.36621,-144.45404,-66.92198],[-22.243654,-21.548468,-20.895414,-20.28079,-19.70128,-21.879688,-25.803852,-31.443268,-40.23704,-55.859276,-91.31138,-249.94089,-177.51247,-15.671175,-15.322901,-14.989771,-16.540977,-20.225069,-26.020454,-36.471024,-60.950554,-185.37561,-69.71354,-28.588287,-23.300285,-29.62608,-40.666615,-64.8244,-159.68216,-1747.0236,-97.88235,-11.121237,-10.944698,-10.864658,-10.855839,-10.847031,-12.405643,-14.634642,-45.007824,-22.843512,-31.747398,-1314.5671,-347.28146,-200.06694,-140.50578,-108.27261,-331.83923,-6716.166,-891.5289,-5633.4644,-301.4377,-163.25731,-41.54953,-38.187695,-35.3291,-32.868702,-30.728668,-28.850273,-123.719635,-1566.3239,-217.97621,-2770.5588,-406.03134,-1390.9418,-120.407074,-115.73595,-513.3177,-127.74979,-74.49493,-52.577168,-44.56526,-11169.897,-287.0839,-1008.04913,-109.38729,-128.81323,-42.002453,-1993.1027,-948.7274,-95.16177,-44.766315,-29.267082,-27.632519,-30.063091,-106.057945,-753.3161,-234.11064,-3753.512,-124.724525,-63.66134,-78.2335,-101.45719,-1382.1155,-249.7117,-927.0012,-200.87556,-150.2652,-49.655373,-29.741804,-129.55908,-60.789135,-39.71074,-798.20605,-1941.834,-473.34802,-134.36433,-62.023685,-40.31705,-29.86517,-23.87601,-20.18454,-101.37646,-189.15776,-77.861855,-49.019764,-35.76969,-28.158447,-160.07794,-70.09205,-44.86899],[-34.668827,-33.00904,-31.500929,-30.124601,-28.863497,-27.703745,-26.633596,-26.819809,-32.96491,-42.763016,-60.849087,-105.446175,-394.80228,-249.36214,-20.346083,-19.762894,-19.212206,-18.928831,-23.91361,-32.462364,-50.523884,-113.89092,-2307.5728,-73.86679,-29.263008,-31.479694,-44.242573,-74.41168,-233.92331,-53.91661,-123.810684,-13.549078,-13.2879505,-13.036701,-12.794779,-12.561672,-12.79174,-15.174974,-18.649572,-24.187855,-34.40493,-59.56595,-221.6974,-23.996,-31.275251,-46.031334,-90.57146,-5471.484,-469.4408,-752.0205,-2540.5352,-115.500015,-92.791565,-77.54564,-66.60245,-58.36603,-51.94242,-46.792625,-2320.546,-285.1432,-286.5842,-362.9302,-2753.7053,-1189.6202,-2259.901,-124.553566,-64.04141,-43.101456,-337.22955,-116.8051,-81.57023,-100.543076,-267.76056,-507.2856,-144.41713,-179.83127,-44.246437,-25.22794,-452.00757,-122.46608,-88.07832,-35.797287,-39.985294,-322.9191,-1492.2424,-87.20924,-133.46327,-180.45746,-134.1571,-220.84462,-624.14435,-252.86153,-164.82726,-48.27065,-113.27296,-232.35405,-54.942192,-31.154522,-268.96063,-58.132904,-3529.1545,-84.81088,-297.3739,-190.75967,-241.37747,-159.72815,-132.81935,-61.69186,-40.176685,-29.78814,-23.66815,-101.20719,-49.903748,-146.79326,-69.59432,-45.60863,-179.49197,-73.57602,-46.271896,-33.747818],[-78.54185,-70.50976,-63.968037,-58.537144,-53.95621,-50.040245,-46.654247,-43.697407,-41.093037,-38.781662,-45.627388,-66.817825,-124.75864,-939.06476,-418.91837,-28.99594,-27.825735,-26.746313,-25.747515,-29.247648,-43.143433,-82.19485,-866.5729,-53.07265,-78.54638,-33.580727,-48.508057,-87.326904,-437.18234,-60.947136,-168.42542,-17.33298,-16.907928,-16.503225,-16.117441,-15.749285,-15.39757,-15.756733,-19.536028,-25.700321,-37.54803,-69.661804,-481.3235,-21.121988,-26.054918,-35.213177,-60.330837,-142.61563,-395.85852,-4348.9116,-470.01468,-169.30296,-31.991758,-17.664871,-580.16986,-260.25195,-167.74988,-123.76134,-98.05,-81.18396,-418.21976,-613.1057,-100.669785,-275.84973,-1269.9105,-6023.4414,-128.99548,-65.19565,-43.621277,-48.64513,-480.78305,-624.2847,-1113.7266,-261.81497,-212.45235,-297.76346,-49.023705,-35.13884,-3800.0032,-171.74423,-56.649456,-59.683605,-131.67801,-104.68493,-183.05296,-197.95976,-470.44354,-1769.1725,-63.092686,-36.768284,-210.9023,-63.44396,-1085.1797,-82.2754,-62.321674,-275.53165,-57.056396,-31.823177,-22.064932,-16.886778,-1280.1309,-161.01259,-447.14908,-72.75888,-212.67996,-254.15028,-73.6372,-131.30898,-61.364403,-40.03754,-29.711578,-101.038475,-49.862694,-1279.8246,-119.93205,-204.27333,-77.425835,-47.765247,-34.53544,-27.044678],[-15.229525,-15.212198,-15.19491,-1029.9882,-413.00833,-258.28925,-187.89964,-147.65895,-121.61407,-103.379555,-89.90008,-79.530266,-74.084854,-152.73126,-127.13504,-1309.0106,-50.439655,-47.001217,-44.001667,-41.361996,-39.02113,-64.30002,-220.27104,-33.35751,-52.345306,-83.85894,-53.683796,-105.66697,-3335.0784,-70.08616,-263.3083,-24.049335,-23.238756,-22.481037,-21.771175,-21.104767,-20.477942,-19.887278,-20.510952,-27.414553,-41.323143,-83.87835,-17.380651,-18.862783,-22.70102,-28.51231,-40.28568,-68.62063,-335.2083,-1943.3558,-805.26733,-7146.1826,-149.55887,-58.287148,-23.525072,-110.533035,-31.325342,-26.084112,-506.15067,-73.308464,-872.8781,-1973.5018,-894.7954,-550.95184,-103.9402,-86.401024,-293.67035,-133.76485,-66.3923,-70.177124,-151.45375,-1187.4556,-225.61742,-883.98364,-401.68738,-865.09467,-54.957542,-57.875496,-221.78271,-287.38416,-117.6356,-197.02646,-377.4895,-747.5832,-287.33908,-2018.9729,-501.7717,-412.1511,-722.2454,-95.996086,-51.41503,-1369.7104,-74.139366,-141.44684,-42.98611,-338.41922,-59.33983,-32.521164,-22.398247,-17.081314,-110.39062,-86.946175,-158.727,-88.27488,-238.69164,-1204.6576,-505.8426,-86.59305,-129.83026,-61.039623,-39.899086,-100.87032,-49.82171,-33.080383,-433.44458,-101.381035,-57.40375,-40.036625,-30.737251,-24.943565],[-33.432037,-17.311155,-17.288773,-17.266445,-17.244179,-17.221966,-17.199814,-18.61034,-21.375301,-25.10521,-30.411976,-38.563602,-52.685387,-83.12546,-1230.55,-441.88852,-1574.2004,-193.6573,-151.19145,-124.00025,-105.09882,-91.1974,-126.1711,-72.11901,-65.28975,-59.64201,-89.942604,-133.75876,-496.8925,-82.44936,-603.0086,-39.263554,-37.148094,-35.248936,-33.53452,-31.979147,-30.561644,-29.264477,-28.072943,-63.817474,-45.942223,-105.38535,-24.1412,-23.324526,-33.452965,-24.535236,-31.74922,-47.065468,-90.93267,-1338.1384,-922.68005,-221.6213,-37.10822,-17.657574,-327.3588,-35.203403,-20.166378,-53.814606,-294.18918,-79.727615,-5140.869,-87.62477,-49.540535,-108.65604,-73.20509,-175.9617,-1761.4603,-372.22946,-208.1017,-333.00357,-2919.98,-90.771706,-75.29791,-408.54782,-3675.9436,-92.92233,-110.81198,-163.97704,-534.6387,-4054.1243,-391.11356,-57.87009,-472.82404,-52.834663,-667.9908,-269.0689,-236.74562,-2852.7026,-85.48314,-44.090294,-278.62125,-185.65154,-682.4168,-80.09131,-42.542057,-438.50314,-61.81364,-33.250458,-22.741783,-83.98941,-68.34856,-31.446665,-20.421194,-171.60258,-171.82355,-810.5426,-162.79944,-56.65667,-116.29114,-128.3858,-60.718315,-100.70273,-49.780777,-282.16516,-86.47395,-260.90277,-87.79989,-52.781063,-37.731754,-29.360325],[-20.112259,-20.082054,-23.924133,-20.021912,-19.991972,-19.962126,-19.932365,-19.902697,-19.873116,-22.067776,-26.065876,-31.83319,-40.877792,-57.101864,-94.67926,-276.90198,-216.48268,-19.610788,-19.582066,-22.54871,-29.997467,-44.795105,-88.404625,-3340.6028,-30.321152,-1528.07,-475.10684,-281.28134,-18808.303,-154.89728,-126.482155,-106.87618,-92.53263,-81.58358,-72.95154,-65.97135,-60.210243,-55.37454,-51.257854,-47.710896,-51.723892,-141.72461,-39.509014,-37.367756,-88.54325,-33.71342,-32.14178,-35.815186,-56.58903,-210.00665,-621.01764,-180.64142,-949.6861,-84.89444,-24.117344,-22.64213,-69.90652,-27.669455,-917.3495,-87.37883,-311.69296,-263.2803,-25.768887,-203.4612,-134.88506,-39.20747,-60.718155,-58.257744,-367.1931,-562.92365,-447.9628,-80.16927,-104.736755,-474.2532,-2311.628,-3297.1855,-169.51405,-94.483765,-78.723816,-26275.715,-94.129745,-163.69724,-116.6746,-42.92451,-39.34604,-144.13965,-127.43922,-59.24391,-103.9234,-203.13002,-61.897552,-99.57448,-188.2727,-46.500946,-92.18567,-622.644,-64.5027,-34.013203,-1690.6843,-56.30493,-28.629183,-19.194466,-17.436943,-17.414232,-186.7543,-71.23132,-140.6042,-183.33598,-123.52383,-176.9897,-126.9727,-100.53569,-348.64188,-91.840866,-52.886196,-37.13531,-186.61687,-77.427956,-48.847416,-35.67783],[-23.951862,-23.90903,-23.866356,-117.09979,-23.781456,-23.739235,-23.697159,-23.655235,-23.61346,-23.57183,-23.530348,-27.102974,-33.393753,-43.48748,-62.3265,-109.963295,-466.55792,-333.7663,-23.20367,-23.163471,-27.231606,-38.89575,-68.0387,-271.3528,-32.265606,-45.810894,-78.95762,-285.62317,-105.206184,-127.39416,-22.730314,-22.691738,-22.653294,-22.614979,-22.576792,-22.538734,-2015.3815,-513.729,-294.38492,-206.30121,-158.7894,-216.31464,-108.71467,-93.90766,-82.6506,-73.80353,-66.66728,-60.78942,-55.864056,-272.0421,-338.65775,-1579.6753,-734.41266,-9768.623,-37.590027,-38.030014,-33.89423,-4921.832,-44.063744,-128.94702,-480.9658,-55.89524,-36.197243,-1592.9103,-856.7078,-53.053764,-94.53001,-91.7028,-311.4726,-419.72894,-236.99922,-773.0648,-1543.7484,-910.5898,-109040.195,-74.23282,-86.291405,-964.55084,-150.76852,-3295.2356,-274.01505,-173.36232,-126.78984,-140.61809,-608.01245,-125.70855,-81.32414,-54.109245,-159.8291,-57.177082,-20190.545,-68.03151,-79.81511,-34.815975,-30.01847,-1073.3918,-6807.552,-268.73502,-47.86969,-26.274948,-21.726986,-20.770798,-20.251524,-1759.6942,-144.13484,-204.83914,-249.52608,-63.001762,-40.2129,-397.20514,-370.24445,-456.06073,-97.917274,-54.846058,-38.090958,-29.177479,-26.643457,-145.25822,-69.24737,-45.459385],[-572.2051,-29.53801,-29.4729,-29.408073,-29.343536,-48.953205,-29.215303,-29.151606,-29.088186,-29.025043,-28.962173,-28.899574,-28.837244,-35.115204,-46.45307,-68.60354,-131.13185,-1480.8315,-728.3442,-28.408358,-28.34813,-34.36942,-55.29934,-141.42033,-34.476566,-50.399857,-93.655014,-660.69196,-61.803013,-175.12636,-34.09074,-27.702066,-27.64479,-27.587753,-27.53095,-27.474377,-27.418037,-27.361929,-27.306051,-37.390446,-69.12123,-456.6524,-27.084797,-27.030043,-26.975512,-26.921198,-26.867102,-2959.0242,-559.1855,-386.09714,-213.26291,-3704.1372,-26738.56,-290.9145,-95.324135,-83.74586,-101.389694,-136.92456,-61.37982,-9682.127,-1052.5933,-696.4929,-60.80374,-73.96177,-94.3875,-247.85379,-213.32135,-550.358,-2694.8826,-31.011557,-489.80402,-156.98584,-71.65279,-46.42003,-1546.7684,-88.8598,-106.53904,-37.841297,-745.32086,-564.89954,-168.41336,-881.81757,-53.88508,-189.5118,-112.467155,-1049.6654,-325.5741,-192.66673,-182.78258,-106.06775,-212.50104,-281.4525,-63.353794,-55.85595,-49.945057,-3888.0708,-145.97206,-53.786953,-35.091106,-32.662582,-30.54845,-28.691364,-27.047121,-770.4078,-133.38742,-65.97703,-1107.3815,-76.09803,-45.71912,-32.674904,-659.235,-2023.8464,-124.23828,-59.77423,-39.354458,-39.275883,-47.52988,-1171.8591,-118.905655,-128.61995],[-38.7456,-38.633644,-166.25722,-38.41167,-38.30164,-38.192234,-38.083454,-37.975292,-37.867737,-37.76079,-37.654453,-37.54871,-37.44356,-37.338993,-37.235012,-49.85276,-76.28652,-162.39412,-145.95305,-778.5057,-36.62308,-36.523045,-46.578186,-95.62973,-320.04544,-56.01052,-115.07558,-289.6355,-71.22032,-280.0606,-126.71,-35.55192,-35.457638,-35.36386,-35.270573,-35.17778,-35.085476,-34.993645,-34.9023,-41.132362,-83.09587,-34.631104,-34.541637,-34.452633,-34.364086,-34.275993,-34.18835,-34.101162,-61.4634,-664.81323,-58.160076,-152.94943,-1440.1705,-176.82375,-243.23738,-70.17857,-43.81816,-50.262085,-5564.596,-613.468,-324.6293,-282.8152,-189.88603,-427.26965,-456.0806,-147.79854,-164.51033,-1084.3854,-158.69217,-349.30496,-56.869507,-587.9878,-164.10939,-73.10093,-168.15941,-110.665504,-139.20207,-138.78975,-478.36273,-11511.795,-339.29742,-399.40857,-123.462494,-73.01632,-316.3027,-250.68977,-112.05359,-49.610374,-294.5303,-67.829315,-106.81237,-2668.5725,-401.0355,-216.80852,-171.15862,-112.99458,-91.16765,-168.53726,-65.76169,-57.719273,-51.429604,-46.37604,-42.22675,-2524.359,-124.131546,-63.630222,-283.5845,-254.04297,-78.938194,-1188.6946,-112.85029,-100.03788,-49.617767,-408.6423,-98.73867,-111.51229,-219.96822,-8026.4043,-420.3286,-100.64636],[-56.05736,-55.82332,-55.59122,-55.361053,-97.25888,-54.906376,-54.681828,-54.459106,-54.238197,-54.01907,-53.80171,-53.586086,-53.37218,-53.15998,-52.949463,-52.740612,-53.789352,-85.907555,-213.22734,-191.26466,-51.720554,-51.521263,-51.323498,-72.23931,-353.2831,-63.026802,-149.20015,-669.67426,-84.02335,-698.73004,-49.794415,-141.13351,-49.426277,-49.24424,-49.063538,-48.88416,-48.70609,-48.52931,-48.353806,-48.179577,-104.15312,-47.834843,-47.664318,-47.495003,-47.326893,-47.15997,-46.994213,-46.82962,-65.919426,-2390.4067,-46.34269,-73.431175,-342.19012,-1330.6305,-674.8908,-15433.528,-215.02412,-1126.9562,-172.71965,-349.17883,-374.9531,-44.64073,-3493.158,-73.55786,-105.92159,-1925.0825,-1535.1635,-104.34754,-43.62127,-46565.85,-679.4237,-342.207,-735.3721,-171.90681,-306.89047,-146.65344,-213.38321,-1331.5308,-81.76832,-1664.9147,-798.77155,-85.185646,-219.64432,-308.9118,-156.6728,-498.47897,-80.453026,-43.756123,-757.86926,-78.9444,-557.2155,-55.592472,-40.453796,-115.06804,-76.278435,-40.089912,-78.09141,-39.85094,-522.02966,-247.86774,-162.51633,-120.889175,-96.238525,-1046.9539,-116.076836,-61.444637,-540.3437,-139.17723,-6042.5747,-122.16471,-68.57813,-99.873055,-174.25044,-759.09937,-291.96075,-227.26167,-139.06549,-48.368084,-37.50361,-256.0938],[-101.33393,-100.571724,-99.8209,-99.0812,-98.35237,-97.63421,-96.92643,-96.22887,-95.54125,-94.8634,-94.19511,-93.53616,-92.88636,-92.24553,-91.61349,-90.99004,-90.37503,-89.768265,-98.30534,-310.38593,-277.3782,-87.420586,-86.85272,-86.29219,-160.86264,-85.19255,-212.09395,-84.1206,-102.438545,-83.07528,-82.562294,-82.05562,-159.26263,-81.06069,-80.57222,-80.08959,-79.61272,-79.141495,-78.67581,-78.21558,-139.50496,-77.31108,-76.86662,-76.42725,-75.99288,-86.56069,-75.13877,-74.71888,-1888.2737,-73.89301,-73.4869,-100170.17,-99.57707,-748.2605,-158.39854,-423.2277,-2167.1921,-1369.32,-70.39185,-167.98267,-654.0871,-197.38153,-68.94009,-68.58645,-194.04413,-798.41425,-139.5597,-270.82138,-66.87134,-81.71954,-66.20907,-65.882835,-65.55979,-981.33575,-1753.6453,-461.33353,-16341.478,-91.8256,-63.68619,-168.41458,-6545.661,-761.26624,-361.7991,-4242.037,-629.3995,-43246.3,-116.7482,-99.842155,-87.21301,-248.42819,-110.96065,-63.222027,-86.66694,-61.578377,-59.176384,-58.915638,-82.432915,-58.400974,-58.147,-376.32465,-73.11174,-57.39815,-57.152805,-660.4305,-747.57526,-289.31287,-5713.018,-245.06685,-144.26556,-398.38254,-85.3051,-99.70876,-54.809967,-54.586212,-54.364265,-2101.0642,-99.5285,-157.40067,-235.07579,-56.376534],[-526.9131,-506.93555,-488.41797,-471.20547,-455.1648,-440.18027,-426.15082,-412.98804,-400.61414,-388.9602,-377.9651,-367.57446,-357.73984,-348.41766,-339.56915,-331.15894,-323.15524,-315.5292,-308.25488,-301.30838,-570.2006,-504.53397,-282.2285,-276.39438,-270.7965,-372.74133,-366.6584,-255.28574,-250.50291,-245.89603,-241.45554,-237.17252,-233.03888,-229.0468,-225.18924,-221.4594,-217.85115,-214.35857,-210.97623,-207.69896,-211.18614,-201.44066,-198.45084,-195.54848,-192.7298,-189.99121,-187.32935,-184.74107,-182.22333,-179.77327,-177.38826,-255.70406,-1015.34265,-665.4684,-213.25354,-1021.39343,-290.69684,-162.3144,-160.36761,-205.98553,-2559.5261,-154.79774,-153.0261,-151.29456,-1156.3121,-330.4337,-163.44754,-144.74329,-286.2632,-141.6759,-140.19044,-138.73582,-137.31107,-135.91528,-1474.6438,-419.47922,-1734.3446,-7330.9478,-129.34143,-128.10225,-589.9688,-125.69375,-590.6862,-123.374146,-345.8705,-543.09875,-128.80128,-212.58034,-117.9332,-27573.34,-115.88888,-454.5497,-865.53467,-383.77066,-246.54305,-181.60483,-143.74365,-118.94572,-108.37433,-107.50298,-981.1541,-105.80167,-104.97103,-482.35175,-123.08573,-270.05664,-101.77497,-1024.6443,-100.24883,-99.5028,-1316.3024,-347.40128,-200.10712,-140.5255,-108.28433,-95.24981,-119.10753,-140.88264,-93.2568,-120.39083],[-19.088806,-19.239658,-19.392914,-19.54863,-19.706867,-19.867683,-20.03115,-20.197334,-20.366291,-20.538097,-43.321438,-20.890564,-21.071373,-21.255337,-28.802738,-23.815578,-28.539852,-35.602253,-47.309246,-70.48744,-138.19151,-3499.6772,-2786.3867,-41.66575,-76.99266,-506.08362,-1351.6774,-62.683178,-182.38354,-24.706581,-24.959877,-25.218426,-25.482376,-46.59806,-214.32542,-39.524548,-27.308357,-29.679787,-37.234177,-68.58908,-434.38348,-45.476387,-52.45608,-61.966682,-75.689674,-97.21997,-135.86844,-225.51999,-662.98413,-439.54132,-31.397816,-31.808025,-42.778873,-76.09854,-8007.812,-1177.5613,-624.4286,-36714.9,-1611.5348,-266.21057,-329.9667,-51.257614,-201.8194,-242.68484,-41.093018,-83.11276,-92.12406,-73.11721,-168.80339,-297.63693,-42.311188,-43.059525,-43.834827,-44.638542,-244.15353,-6007.4297,-296.95047,-80.6447,-49.602932,-50.15629,-244.49577,-330.39264,-16632.979,-7412.2427,-4768.6836,-3515.038,-2783.3296,-2303.7656,-1965.1698,-1713.3488,-1518.736,-1363.8243,-1237.5895,-1132.7433,-1044.2743,-968.62366,-903.19324,-846.0431,-795.6949,-751.0026,-711.0639,-675.15875,-2108.8884,-1002.89844,-586.337,-561.705,-539.05914,-518.16846,-498.83664,-480.89542,-464.19986,-488.94296,-434.06082,-420.41272,-407.59683,-395.53915,-5502.522,-434.6774,-363.29752,-353.68738],[-22.809586,-23.025314,-23.24516,-23.469234,-23.697674,-23.93061,-24.168175,-24.4105,-24.65773,-24.910019,-25.16753,-25.430416,-36.56254,-25.973019,-26.253098,-684.9986,-26.831768,-29.78791,-37.56563,-50.840164,-78.623184,-173.36122,-171.30827,-3169.1492,-61.071922,-186.50293,-340.89893,-72.39164,-299.09363,-31.318962,-31.727104,-32.146034,-32.576157,-33.017967,-46.036438,-259.11832,-40.826042,-44.4189,-51.05414,-82.32799,-72.80519,-92.51208,-126.84694,-201.70808,-492.1741,-328.13684,-24739.287,-40.756294,-92.84347,-42.16813,-42.911377,-43.68129,-70.21147,-50.466885,-104.54643,-1195.2467,-102.223,-776.3326,-66.63824,-376.203,-524.5748,-75.47736,-954.92914,-2459.286,-56.96907,-539.8496,-2629.6868,-1439.1997,-370.75772,-64.5176,-66.273865,-77.55034,-70.08983,-107.12601,-666.9337,-21543.396,-79.21156,-212.25557,-84.72478,-87.77956,-507.79074,-269.53696,-98.42585,-3686.1177,-107.08427,-112.01104,-222.31563,-123.362404,-380.71475,-229.1391,-1738.8512,-162.04788,-165.22203,-177.2511,-191.1692,-207.45938,-226.7845,-250.07968,-599.8912,-314.7395,-361.46976,-424.49557,-514.1417,-651.78796,-890.0806,-1403.0249,-3311.259,-241.36098,-137.779,-50.635,-32.12508,-99.219086,-635.97003,-97.04777,-1192.0776,-436.8256,-267.40793,-192.6791,-150.5947,-833.25244],[-29.060177,-29.060177,-29.060177,-29.356976,-29.715282,-30.082447,-30.458813,-30.844704,-31.240505,-31.646599,-32.063374,-32.49128,-32.93077,-33.38231,-33.846397,-34.323578,-34.8144,-74.91873,-35.839405,-39.758198,-54.94066,-88.88207,-232.54344,-237.28932,-66.25804,-168.67337,-1026.628,-85.65869,-830.6078,-42.76423,-43.528816,-44.32126,-45.14308,-45.995956,-49.725315,-58.19159,-327.5796,-88.238846,-118.94872,-182.44453,-391.35513,-261.78662,-1230.3127,-56.71003,-58.062492,-59.481052,-60.970673,-62.53681,-234.20435,-65.92355,-67.7583,-69.69813,-162.54698,-172.01889,-432.6358,-166.9616,-399.29434,-476.33856,-403.20718,-641.0854,-1278.7858,-143.08502,-7297.1743,-106.17262,-111.01393,-116.31789,-122.15407,-242.4965,-135.77936,-143.79916,-152.82585,-163.06169,-174.76714,-1254.0557,-204.06476,-3321.993,-245.16338,-272.61603,-306.99167,-351.2879,-16097.811,-731.4395,-619.41547,-830.7862,-1261.1395,-2616.533,-397.65988,-182.66626,-181.96982,-436.9848,-1360.0204,-150.19714,-764.19965,-144.83344,-349.68262,-55.25978,-106.00683,-42.862396,-29.060179,-29.06018,-29.060179,-29.06018,-29.060179,-266.6516,-208.03035,-77.959816,-47.96805,-405.2617,-240.76462,-60.079475,-34.322033,-99.05693,-49.375237,-909.4507,-101.71425,-53.869934,-36.636692,-32.77339,-37.199768,-115.52994],[-40.684265,-40.68426,-40.684258,-40.68426,-40.684258,-40.684258,-41.176468,-41.88488,-42.618084,-43.37741,-44.16429,-44.980247,-45.826935,-46.7061,-47.619667,-48.569664,-49.55832,-50.588104,-51.661583,-52.78161,-53.951256,-59.760624,-102.21987,-353.07745,-385.93683,-253.73903,-891.80383,-104.87956,-65.57691,-67.39215,-69.31073,-71.3418,-73.49547,-84.34372,-111.97725,-166.54109,-324.81638,-6544.48,-630.8176,-137.35417,-96.89634,-100.912704,-105.2764,-110.0345,-115.24298,-120.96915,-127.29414,-134.31697,-142.16,-150.97581,-160.95718,-172.35187,-4897.4575,-200.77946,-425.57565,-240.43684,-414.30673,-3696.337,-581.10455,-2166.519,-474.97824,-1372.4127,-778.89716,-1145.3195,-2162.765,-19371.033,-40.684265,-153.0398,-117.471115,-131.70436,-41.202934,-22069.547,-248.22641,-76.56342,-110.01965,-185.67622,-89.701195,-113.547935,-142.2858,-240.47513,-85.14569,-240.73311,-92.131516,-299.36438,-60.134834,-40.684265,-1881.0023,-91.274796,-79.00515,-4702.0713,-246.75984,-90.94555,-427.19647,-121.01439,-489.7154,-130.92519,-114.16927,-53.107273,-40.940407,-40.684265,-40.684265,-40.68426,-40.684258,-242.05264,-83.5488,-182.23886,-60.57781,-1262.8033,-953.40906,-73.85495,-40.684265,-98.89531,-49.335045,-40.684258,-1595.1917,-106.85269,-63.68421,-82.83813,-118.4688,-16141.849],[-67.80717,-67.80717,-67.80716,-67.80716,-67.80716,-67.80717,-67.80716,-67.80717,-67.80716,-68.92767,-70.93599,-73.064865,-75.325485,-77.73044,-80.29404,-83.032486,-85.96427,-89.11076,-92.49635,-96.149315,-100.10266,-104.39507,-109.07206,-120.26743,-733.0247,-1033.1034,-221.86665,-140.55772,-149.16997,-158.90633,-170.00241,-182.7646,-277.61365,-1478.8135,-424.154,-261.19662,-292.58704,-332.5534,-694.642,-457.55127,-563.4433,-733.11096,-1048.9889,-1843.1396,-7586.6216,-67.80716,-76.671646,-67.80717,-133.84381,-3506.755,-67.80716,-85.99873,-67.80717,-140.25623,-76.93764,-245.43906,-279.47305,-2968.6177,-105.08136,-4685.6274,-462.47452,-67.80717,-67.80717,-156.88791,-67.80716,-905.2937,-617.24585,-74.30823,-90.34168,-587.5861,-562.2321,-350.447,-69.773186,-172.46799,-67.80717,-370.71783,-113.213936,-151.41325,-67.80717,-67.80717,-257.60355,-575.60925,-487.43774,-147.60316,-70.980774,-1472.7991,-190.64703,-1213.92,-67.80717,-67.80716,-105.43413,-67.807175,-67.80716,-67.80717,-253.39574,-101.32739,-360.2963,-119.45392,-71.59546,-67.80716,-67.80717,-67.80716,-6109.2144,-205.41328,-79.8208,-67.80717,-259.79294,-67.807175,-123.28424,-95.82687,-67.807175,-98.7342,-84.85698,-122.64121,-221.08473,-6489.539,-112.53789,-1487.4618,-149.7021,-78.816605],[-203.42232,-203.42232,-203.4223,-203.42232,-203.4223,-203.42233,-203.42232,-203.42233,-203.42232,-203.42232,-203.42232,-203.42232,-211.40675,-231.51009,-255.83824,-285.87973,-323.91437,-373.6245,-441.35843,-63435.11,-692.4054,-967.5904,-1605.7815,-4717.026,-203.42232,-228.64821,-1036.3427,-555.75476,-242.39265,-833.5648,-319.4838,-8133.411,-203.42232,-203.42232,-203.42232,-203.42232,-203.42232,-203.42232,-203.42232,-1579.6586,-203.42233,-203.42232,-203.42232,-203.42232,-203.42232,-203.42233,-203.42232,-203.42233,-203.42232,-203.42232,-203.42232,-203.42233,-203.42232,-274.44498,-203.42232,-203.42232,-203.42232,-203.42232,-385.13904,-474.3741,-657.7631,-203.42232,-203.42232,-466.1082,-203.42232,-203.42232,-4518.657,-203.42233,-207.35832,-685.6735,-660.47925,-203.42233,-203.42233,-203.42233,-203.42233,-108456.66,-203.42232,-227.16794,-215.23732,-203.42232,-203.42232,-1058.881,-236.47682,-495.89627,-262.55884,-203.42235,-203.42233,-203.42233,-203.42235,-203.42235,-203.42233,-203.42233,-203.42235,-203.42232,-203.42232,-203.42235,-203.42235,-203.42232,-284.98294,-203.42235,-203.42233,-359.73215,-1119.2932,-203.42238,-203.42233,-203.42233,-203.42235,-452.25348,-203.42233,-236.07423,-1652.416,-203.42238,-203.42238,-203.42233,-203.42238,-203.42235,-260.08438,-203.42232,-203.42232,-203.42238],[-897.8857,-1422.5188,-3421.9739,-128.25922,-128.25922,-128.25922,-128.25922,-128.25922,-128.25923,-128.25922,-128.25922,-128.25922,-128.25922,-128.25923,-128.25923,-128.25923,-128.25923,-128.25922,-128.25923,-128.25922,-128.25922,-233.45839,-128.25923,-132.01418,-215.09715,-580.32263,-256.24353,-3749.5754,-128.25922,-128.25922,-128.25922,-128.25923,-128.25922,-128.25923,-128.25922,-128.25923,-128.25922,-128.25922,-128.25922,-128.25922,-128.25922,-128.25922,-128.25923,-128.25922,-128.25922,-128.25922,-128.25922,-128.25922,-189.68892,-153.90013,-295.74115,-128.25922,-128.25923,-2074.0017,-177.17026,-197.7446,-128.25923,-128.25922,-516.45087,-1312.9723,-543.328,-3324.583,-128.25923,-128.25922,-128.25923,-128.25922,-139.96997,-128.25922,-213.24173,-5729.64,-151.57259,-128.25923,-128.25922,-128.25923,-128.25923,-140.97586,-537.8661,-454.6207,-131.04533,-311.58295,-128.25926,-1429.5947,-2816.6262,-144.13333,-128.25923,-128.25926,-505.3991,-199.71439,-128.25923,-128.25923,-187.50761,-128.25922,-128.25926,-128.25922,-128.25926,-128.25923,-148.46408,-809.76886,-139.7123,-128.25926,-475.25876,-128.25923,-616.08606,-167.04935,-253.23552,-3142.6213,-128.25923,-128.25926,-1744.5945,-236.60963,-295502.6,-128.25922,-128.25926,-128.25926,-990.16815,-142.49936,-128.25923,-128.25923,-128.25923,-128.25923],[-42.752907,-42.752907,-42.752903,-42.752907,-42.752907,-42.752903,-42.752907,-42.752907,-42.7529,-42.752907,-42.752903,-42.752903,-42.752907,-42.752907,-43.99906,-50.500233,-59.255806,-71.68417,-90.70912,-123.48147,-193.33089,-445.1083,-213.90802,-599.58405,-193.99213,-2198.6614,-255.71014,-1023.77795,-42.752903,-42.752903,-42.752907,-42.752903,-42.752903,-42.752903,-42.752903,-42.752903,-42.7529,-45.242317,-101.77337,-42.752903,-42.93153,-42.752903,-50.877575,-42.7529,-42.7529,-42.752903,-42.752903,-42.752903,-254.28922,-122.528305,-46.576946,-42.752903,-42.7529,-446.19647,-70.671814,-45.759724,-70.62577,-154.68849,-749.0772,-3087.6409,-118.457565,-473.13705,-127.825356,-138.68729,-66.79839,-2063.6284,-100.82415,-126.25172,-111.78635,-96.95806,-1415.2197,-57.524235,-56.60348,-884.61096,-138.76086,-227.15866,-689.1835,-52.125423,-79.93968,-42.752903,-676.4352,-548.2401,-674.58997,-327.58862,-93.995705,-54.869633,-504.13797,-330.68198,-74.362495,-42.7529,-306.9959,-68.469574,-42.7529,-127.90703,-45.839268,-54.991623,-164.98367,-91.54867,-137.12732,-700.0706,-32277.766,-68.09331,-425.0105,-152.78217,-70.39726,-45.94801,-42.752903,-42.752907,-324.20163,-891.4218,-50292.652,-98.25405,-49.174927,-239.08873,-98.13266,-61.73624,-45.03346,-42.752907,-42.752907,-133.911],[-25.65172,-25.65172,-25.651718,-25.65172,-25.65172,-26.398727,-28.608437,-31.221836,-34.360695,-38.201355,-43.008553,-49.199677,-57.472965,-69.09117,-86.597046,-115.984406,-175.56308,-361.002,-183.57605,-409.79462,-25.651718,-32.61694,-46.52227,-81.09521,-315.7253,-78.016884,-107.43943,-409.39178,-736.6043,-25.65172,-25.651718,-25.651718,-25.651718,-25.651718,-25.651718,-25.651718,-31.301235,-50.83844,-135.26845,-25.651718,-25.651718,-42.454266,-32.6925,-53.05471,-25.65172,-25.65172,-25.65172,-731.2744,-325.50095,-38.09538,-71.728584,-25.651718,-200.95695,-138.61531,-153.00235,-64.13164,-126.601,-4893.6216,-136.64165,-370.82504,-645.1233,-200.69911,-1784.3906,-25.651718,-128.31992,-1202.7047,-177.5923,-155.59526,-111.42949,-239.53151,-99.8353,-178.73128,-852.177,-73.00853,-40.112633,-526.1369,-16416.295,-272.8943,-67.409294,-181.07869,-195.83853,-668.2071,-250.27293,-91.16341,-360.21075,-4540.934,-150.6039,-960.3625,-87.22361,-46.45075,-846.2909,-79.81308,-94.019875,-142.74968,-296.3316,-777.40875,-185.6399,-51.856743,-1328.5176,-113.988686,-59.54904,-224.92044,-324.39978,-8808.561,-175.14908,-88.45363,-59.16692,-44.449833,-709.79675,-96.11776,-27485.23,-742.1219,-135.95824,-74.834,-51.62441,-39.40369,-31.861265,-26.742388,-25.651722,-25.651718],[-40.2519,-35.09759,-31.113464,-30.719757,-33.753716,-37.4524,-42.061584,-47.964348,-55.794456,-66.68001,-82.842155,-109.345825,-160.787,-303.62317,-2719.8547,-311.26886,-4864.4033,-18.32265,-18.32265,-21.276989,-26.430376,-34.878,-51.262283,-96.67786,-847.6281,-56.694637,-139.50732,-126.17964,-1026.0441,-619.54553,-19.449429,-18.32265,-18.32265,-18.322653,-18.494717,-23.928003,-33.88156,-58.014362,-201.62656,-18.32265,-18.32265,-28.592293,-41.98758,-20.914719,-58.78895,-25.855284,-226.60175,-56.428608,-507.00116,-22.5538,-20.918604,-31.067097,-420.1212,-63.984726,-58.730473,-107.15139,-610.33655,-53.854973,-160.76842,-641.6269,-685.393,-816.0158,-656.4694,-40.859993,-1624.1807,-128.9555,-744.6322,-147.32417,-422.61005,-32.688133,-62.421978,-263.2938,-66.52999,-38.07548,-26.669228,-20.521587,-133.10327,-152.59943,-79.162056,-125.722336,-61.248993,-211.96573,-633.3451,-115.9236,-48.88494,-400.04297,-99.148094,-96.629005,-148.85075,-323.8971,-32.97073,-95.66141,-45.86906,-30.166943,-22.47367,-18.322649,-212.20863,-12983.494,-123.50037,-62.045483,-41.42967,-31.097065,-291112.06,-165.24567,-83.51309,-1180.6927,-155.20874,-83.06427,-56.70618,-114.57007,-18909.766,-97.93652,-149.71555,-56.49803,-35.024937,-28.93624,-24.650892,-21.471092,-19.017946,-18.32265],[-33.167637,-36.732323,-41.15544,-46.78962,-54.211346,-492.5113,-176.09236,-107.21246,-148.30443,-261.99173,-1122.2645,-250.93686,-1022.53766,-32.032913,-28.680962,-25.964066,-23.717361,-21.828506,-20.218319,-22.216492,-27.895763,-37.475838,-57.0776,-119.672874,-259.44995,-64.52083,-198.86314,-74.583626,-357.40558,-184.0816,-15.207846,-55.077427,-15.796994,-15.646048,-19.366169,-25.407152,-36.925533,-67.54899,-395.78552,-326.49695,-25.406,-14.250948,-12237.748,-41.531055,-20.800823,-108.77731,-55.96858,-42.53272,-1146.0292,-20.309547,-24.368593,-40.14407,-113.841774,-124.77128,-258.47568,-325.48862,-33.53638,-57.240643,-195.24222,-2378.7607,-122.95388,-257.99658,-135.73883,-328.56946,-712.131,-719.7057,-159.93793,-56.320004,-34.184883,-24.551111,-194.86156,-61.107403,-61.01775,-30.2425,-25.570555,-28.18747,-207.26614,-84.726776,-437.1764,-51.396988,-57.726257,-1243.4977,-483.5147,-159.14809,-357.11337,-767.4385,-449.79254,-101.94236,-133.35435,-55.79299,-35.27744,-119.363266,-50.695953,-32.182156,-23.57336,-22.820784,-247.65259,-134.74553,-64.760506,-42.62286,-31.764515,-25.315336,-1777.9475,-121.62043,-576.5456,-130.59734,-73.6391,-632.7084,-593.4159,-141.79164,-14412.901,-97.778534,-49.055527,-198.36423,-62.26019,-36.924862,-26.245054,-20.357138,-16.62698,-14.755785],[-52.71524,-62.328873,-76.23082,-107.748886,-137.62236,-230.38997,-706.93774,-210.19641,-571.29944,-15.245718,-13.337349,-11.853586,-11.659866,-11.659865,-11.659864,-12.550262,-902.62634,-210.24634,-118.98,-82.965485,-63.687622,-51.67938,-64.381256,-157.02103,-527.71265,-74.854034,-346.13104,-58.152683,-161.71198,-1091.8905,-262.52188,-39.033276,-16.811558,-33.28453,-20.323797,-27.081224,-40.570442,-80.83404,-10686.3,-22.858568,-12.49294,-11.659865,-11.856902,-2911.123,-71.5659,-65.35071,-60.868706,-44.6199,-118.8466,-23.268002,-29.622332,-158.51552,-664.00616,-2496.2544,-221.91302,-4258.675,-44.567566,-61.08057,-248.53625,-302.50546,-210.44635,-3027.6533,-1985.3202,-255.8917,-693.62427,-205.13147,-61.056847,-69.22504,-27.681974,-154.66379,-283.52426,-46.25649,-95.258224,-41.156624,-48.38704,-58.69933,-468.06326,-184.60516,-162.76596,-397.91727,-627.512,-235.92116,-5159.6553,-253.77454,-215.93115,-167.80278,-48.52267,-513.6536,-181.28706,-62.734478,-40.47695,-158.67874,-56.658226,-34.48588,-24.786203,-19.3451,-297.31082,-67.724174,-43.8868,-32.461254,-25.755907,-21.346483,-891.69635,-113.87818,-60.823025,-41.4921,-299.3941,-205.85356,-92.03412,-432.16467,-11643.903,-97.62105,-52.351276,-40.489643,-293.84476,-69.33104,-39.302082,-27.424051,-21.059397,-17.160542],[-128.37408,-205.59886,-515.99927,-180.83469,-396.38678,-9.866039,-9.866039,-9.866038,-9.866038,-165.14732,-64.76504,-40.280888,-29.23045,-22.937828,-18.874569,-16.03423,-14.5925255,-16.845139,-19.920147,-24.368515,-31.374817,-44.035767,-73.82814,-228.255,-46.10392,-89.127884,-1334.0914,-5394.951,-260.83777,-222.68991,-283.99976,-457.448,-54.266594,-45.298096,-38.873566,-34.045036,-45.013733,-100.62407,-24.802715,-22.744535,-21.001768,-19.507063,-183.66458,-53.324207,-1652.0774,-63.836704,-22.75291,-64.01128,-136.45633,-27.234894,-37.764076,-233.73177,-105.33525,-168.32538,-1220.3916,-96.4686,-168.22125,-656.5837,-341.84848,-458.4187,-615.523,-775.5737,-1018.6632,-744.07324,-2228.9727,-108.55332,-37.73024,-98.44494,-128.21431,-52.54247,-59.705795,-76.23074,-217.06572,-170.74696,-449.25632,-18.301952,-117.00588,-145.31914,-165.97247,-43.355633,-1062.074,-130.3237,-267.56223,-625.93964,-77.538055,-94.20004,-65.438065,-25.053347,-598.6647,-108.03152,-59.37265,-236.61366,-64.20979,-37.144855,-26.130621,-164.74469,-371.87793,-60.503582,-49.153053,-26.212076,-21.658882,-18.453415,-595.07184,-107.06265,-58.822998,-494.3623,-124.52435,-71.23406,-202.19861,-270.17206,-9767.399,-328.14697,-115.69556,-70.22826,-50.415577,-566.54987,-78.21387,-42.00649,-28.713964,-21.811844],[-303.47546,-3471.0469,-8.550566,-8.550566,-8.550566,-8.550567,-8.550567,-8.550566,-8.550567,-8.550567,-8.550566,-8.899963,-9.690285,-10.634647,-11.782948,-353.41174,-81.868065,-46.296207,-32.273388,-25.608843,-33.461456,-48.259644,-86.52473,-417.79672,-51.149242,-110.12796,-28.587652,-41.72251,-77.18672,-514.5839,-111.06552,-487.06793,-1776.5394,-17.663233,-22.554367,-31.191647,-115.30758,-133.24564,-14.484661,-343.49265,-152.44583,-97.96094,-72.16784,-98.31062,-99.44441,-1153.2775,-40.2192,-49.47578,-160.19234,-49.015125,-62.576885,-325.10602,-532.0766,-1828.2611,-19.523613,-25.725615,-37.702396,-70.5455,-4755.929,-945.9613,-71.22116,-60.904026,-134.12561,-471.71097,-158.92072,-491.46548,-77.93673,-170.36508,-179.55037,-515.79913,-23.347258,-109.580185,-36.741226,-64.96294,-529.0498,-85.64455,-133.42911,-226.20416,-261.59683,-47.93255,-240.2247,-90.02745,-606.90784,-260.6031,-1606.4396,-65.47908,-33.420654,-1445.4858,-645.142,-717.40784,-111.35698,-464.9969,-74.083954,-40.24812,-185.38277,-74.54688,-496.37106,-62.846672,-33.54705,-22.880133,-18.686413,-16.25094,-446.53192,-101.01686,-192.47488,-89.26028,-58.102448,-43.068848,-34.215706,-1591.0137,-8411.775,-133.74759,-54.358463,-264.48566,-106.64673,-66.788284,-7874.7134,-89.707016,-45.110508,-30.131197],[-7.5446167,-7.5446167,-7.5446167,-7.5446177,-7.5446167,-7.5446167,-7.5446177,-7.5446167,-7.5446167,-7.7699904,-8.365652,-9.060226,-9.880577,-10.864279,-12.065502,-13.565386,-15.49111,-18.054052,-21.63314,-26.982178,-35.84533,-53.379604,-111.244354,-2463.025,-57.434525,-144.07501,-26.06472,-36.558025,-61.193924,-187.645,-2109.143,-132.70232,-1709.1978,-1549.8842,-23.863922,-48.523624,-57.63903,-197.16518,-48.63769,-589.49976,-66.645226,-35.31908,-131.4634,-224.87616,-38.437645,-46.307766,-885.82654,-78.42143,-193.92555,-255.84709,-502.82996,-177.39362,-897.4245,-77.31522,-60.304543,-49.42926,-41.877136,-290.5771,-1372.302,-276.63602,-280.41776,-79.72101,-1346.8832,-487.37924,-605.48096,-352.95844,-1084.47,-632.2655,-42.99111,-22.642172,-18.051134,-347.31802,-47.68516,-211.05406,-67.54143,-587.5902,-204.15524,-510.16077,-617.1836,-3622.7517,-797.86115,-68.7652,-35.93099,-703.949,-189.43608,-50.600555,-30.863018,-22.608532,-17.837742,-100.086815,-894.8822,-13367.388,-87.546814,-211.93086,-78.50156,-48.17246,-746.1618,-65.628365,-34.323627,-23.238726,-17.565817,-14.518156,-423.64807,-119.50033,-69.56108,-49.059086,-37.891216,-30.865133,-26.037092,-2856.2114,-7386.5874,-447.6161,-122.59927,-71.02606,-49.99528,-221.51727,-98.90961,-63.668873,-398.62717,-149.49919],[-6.750447,-6.750447,-6.750447,-6.7504473,-6.7504473,-6.750448,-6.750447,-6.894626,-7.3596177,-7.891866,-8.507101,-9.226372,-10.078501,-11.10405,-12.361954,-13.941267,-15.983219,-18.726,-22.605076,-28.511177,-38.59502,-59.715065,-131.8852,-299.8438,-65.48074,-208.27429,-23.951002,-32.531273,-173.50278,-114.74368,-246.98613,-76.81539,-164.80899,-226.33313,-40.008144,-36.773117,-67.040695,-378.95325,-154.40602,-50.543674,-36.75263,-198.34824,-54.44871,-71.71341,-105.010254,-196.02599,-1470.9137,-719.062,-245.65347,-55.751324,-215.24646,-392.3904,-37.342045,-43.1989,-51.234722,-62.943405,-149.86694,-115.93073,-306.17526,-732.92444,-27.230394,-937.9057,-212.10591,-119.57332,-1982.7717,-683.791,-454.4306,-43.560028,-52.707664,-33.0538,-29.49668,-26.630762,-1304.8386,-276.88412,-49.28788,-122.58856,-434.43295,-25292.662,-58.028023,-180.14519,-213.31738,-55.62743,-462.39633,-1252.5302,-156.28258,-54.859203,-217.68114,-29.17303,-18.615746,-124.865654,-124.7224,-1189.0328,-247.35071,-109.50343,-49.793327,-35.583202,-1502.0337,-68.66772,-35.13701,-38.208366,-17.776413,-2045.6406,-297.84018,-90.76584,-53.54124,-37.969364,-29.41449,-24.05036,-21.014074,-18.658487,-6584.143,-788.8718,-72.6806,-260.44415,-102.43614,-679.48444,-176.92519,-190.55597,-92.21991,-127.04437],[-6.107547,-6.1075473,-6.107547,-6.107547,-6.1075473,-6.19653,-6.569575,-6.990419,-7.468867,-8.017626,-8.653412,-9.398722,-10.284515,-11.354643,-12.673332,-14.33857,-16.507612,-19.449894,-23.66847,-30.223885,-41.80155,-67.75679,-178.73651,-726.89,-76.14901,-375.68112,-22.154383,-29.303566,-43.2652,-82.63797,-918.51434,-54.051773,-86.578674,-217.41028,-394.01346,-83.87006,-80.10723,-4859.031,-51.128162,-66.062485,-403.79776,-158.87814,-534.0089,-24.381212,-26.749077,-29.62634,-65.482315,-59.127808,-605.154,-85.64247,-251.09192,-83.54639,-119.92316,-212.40677,-1147.7557,-100.971825,-52.808784,-91.908455,-467.9503,-171.15479,-999.6197,-105.36615,-3555.5508,-525.8053,-152.91008,-560.77844,-191.65276,-889.77734,-68.10139,-27.501467,-17.229101,-256.67596,-6958.883,-263.70337,-134.3984,-90.179306,-67.854385,-143.84428,-67.69364,-2586.8452,-123.11671,-46.704388,-106.60762,-630.7755,-246.56348,-62.95026,-36.08104,-25.287495,-52.331524,-165.9641,-60.793774,-296.98816,-1771.3213,-122.688324,-63.544754,-53.56974,-32.352688,-72.002266,-35.989883,-370.63058,-114.865875,-820.6289,-255.32895,-86.382835,-51.985313,-37.180206,-28.938652,-23.687881,-20.049908,-17.380611,-5938.962,-96.84118,-2299.8062,-216.6751,-113.69323,-183.65106,-87.96779,-57.835606,-2595.544,-167.18896],[-5.8451147,-6.000186,-6.163709,-6.3363943,-6.519033,-6.7125144,-6.917834,-7.136108,-7.58141,-8.147459,-8.804848,-9.577635,-10.499125,-11.616814,-13.000805,-14.759188,-17.067602,-20.232012,-24.836843,-32.155487,-45.58921,-78.30155,-277.21667,-46.591988,-90.96991,-1914.4213,-20.608501,-26.65855,-37.73707,-64.57087,-223.48419,-30885.094,-58.71041,-99.18508,-319.3288,-853.2804,-99.50024,-133.56613,-326.21982,-1546.3934,-46.422462,-114.97437,-146.65474,-90.28098,-52.78806,-65.30418,-85.600105,-124.20037,-526.5781,-1265.7333,-3291.1294,-20.037006,-86.2852,-243.7586,-76.13296,-56.655766,-45.18677,-102.22744,-992.1991,-17.53524,-123.25578,-50.977596,-375.6625,-795.7836,-81.8987,-308.0117,-289.5413,-568.6745,-2559.387,-31.177439,-142.33821,-41.33172,-448.14435,-49.205307,-1388.1302,-47.462593,-24.14426,-234.53741,-81.22278,-277.17865,-86.5285,-2473.9224,-60.249268,-217.47324,-583.834,-153.4197,-98.36202,-72.38536,-57.26271,-253.79588,-371.55463,-93.35749,-192.48456,-3470.8235,-126.99527,-64.68096,-187.75917,-75.67719,-170.33527,-84.18566,-55.909008,-513.265,-223.43733,-82.40364,-50.517258,-36.42318,-28.477966,-23.378311,-19.827675,-17.213367,-5408.9375,-128.88805,-132.45563,-62.03685,-49.261463,-40.849274,-886.3975,-141.82913,-77.080734,-7180.7783],[-6.468736,-6.659199,-6.86122,-7.0758815,-7.3044066,-7.548187,-7.808802,-8.088057,-8.388025,-8.7111,-9.06006,-9.7634945,-10.722885,-11.891369,-13.345654,-15.205221,-17.666904,-21.079662,-26.126547,-34.35087,-50.13162,-92.73345,-617.3823,-51.75063,-112.95402,-22.700537,-25.233217,-28.402002,-33.461586,-52.986496,-538.7776,-277.23236,-76.32882,-115.21142,-234.84187,-601.1291,-772.4259,-38.58326,-44.868713,-53.60054,-66.74784,-87.75727,-128.79391,-241.91862,-1988.4744,-43.545834,-44.96535,-182.74951,-1229.7402,-30750.316,-459.53436,-38.207634,-136.35895,-92.73911,-39.372284,-29.957752,-47.546406,-131.65526,-258.759,-148.46077,-54.827675,-218.84615,-104.32818,-155.17596,-55.92646,-112.14477,-37044.89,-632.55304,-430.98718,-98.473175,-36.59783,-22.475443,-16.217459,-71.03964,-382.21866,-51.830494,-27.800167,-634.73425,-236.2115,-587.3699,-66.704926,-131.20316,-41.98989,-280.80756,-271.82175,-89.28819,-43.422546,-28.686691,-21.418232,-496.10568,-99.64347,-55.383537,-320.5666,-69.122086,-85489.03,-513.59314,-329.40656,-110.57705,-77.56503,-60.456467,-49.53131,-373.40683,-198.62787,-78.7749,-49.12985,-35.69637,-28.031708,-393.47946,-148.76927,-91.72459,-4965.7686,-96.5327,-224.96529,-59.044746,-33.981827,-27.789726,-24.89735,-22.550322,-1623.8623,-198.1083],[-7.2413163,-7.4808345,-7.7367406,-8.010774,-8.304931,-8.621517,-8.963198,-9.3330765,-9.734795,-10.17265,-10.651751,-11.178207,-11.759415,-12.404373,-13.709286,-15.679049,-18.309822,-22.001434,-27.557533,-36.86794,-55.679344,-113.68705,-209.41374,-58.19394,-148.95009,-36.28639,-43.22077,-53.431618,-69.9595,-160.1954,-183.45398,-4272.482,-39.01554,-81.37905,-70.93862,-139.9365,-5114.8706,-133.74,-259.9789,-4635.0537,-23.615965,-18.365267,-21.387562,-25.600393,-31.879974,-42.241863,-65.134026,-120.7045,-1694.2001,-158.33086,-652.6311,-410.17578,-51.027557,-445.1711,-100.23658,-47.58099,-50.59255,-131.8298,-366.77737,-59.30658,-169.3991,-1096.7363,-60.57576,-30.7554,-42.460968,-68.55201,-177.81287,-1357.1598,-549.265,-6106.322,-22.134684,-15.434116,-12.201003,-127.71246,-73.35459,-74.6114,-33.24455,-95.30855,-135.3074,-194.66551,-54.271416,-67.38861,-32.22397,-679.62146,-792.2854,-112.90799,-48.34046,-30.753677,-746.2712,-13071.175,-95.23908,-47.791798,-958.10144,-80.70105,-4982.66,-685.76434,-454.481,-84.28036,-44.456738,-657.45764,-40.988987,-293.44635,-178.77725,-75.452286,-664.6608,-175.90405,-975.9549,-213.99338,-120.17088,-83.54272,-4589.7183,-100.380775,-745.95483,-569.6557,-215.35408,-132.7744,-95.972694,-915.45,-181.01942,-9195.296],[-8.223473,-8.533761,-8.868383,-9.230318,-9.623055,-10.050697,-10.518116,-11.03113,-11.596754,-12.223517,-12.9219,-13.704925,-14.588963,-15.594917,-16.749872,-18.089584,-19.662235,-23.007523,-29.154348,-39.78309,-62.607826,-146.87402,-355.1312,-66.46981,-218.61948,-90.37289,-150.51753,-449.99698,-94.08303,-55.30303,-69.197105,-276.24738,-139.08171,-280.9545,-51.074463,-79.18496,-363.49203,-293.75696,-265.70703,-27.2218,-17.893984,-20.751007,-24.693832,-30.48605,-39.82889,-57.427917,-102.89483,-493.927,-1970.249,-209.93315,-72.4853,-43.805077,-370.40546,-37.458267,-22.97159,-109.05324,-104.31691,-251.20709,-629.6038,-138.17752,-118.96501,-305.596,-42.677685,-27.351143,-56.863632,-49.363514,-228.83328,-429.05157,-173.507,-1462.2524,-647.5825,-15.982617,-11.869767,-631.4607,-50.82519,-133.12212,-41.340683,-126.64881,-202.84138,-183.6287,-170.54889,-45.33736,-255.25258,-53.858215,-195.34998,-153.5191,-54.5147,-1505.4163,-115.14922,-59.86423,-117.411095,-52.794987,-34.05428,-296.43597,-106.59719,-64.982185,-895.00006,-141.94536,-74.50442,-45.009857,-33.55305,-2138.543,-215.14691,-117.28584,-76.87113,-58.17614,-46.795578,-39.139046,-1180.5032,-267.7265,-4266.615,-120.67956,-80.64967,-93.22122,-55.01934,-47.475525,-637.3805,-9795.422,-1122.5635,-321.53616],[-9.5299425,-9.931634,-10.387793,-10.887872,-11.438531,-12.04786,-12.7257595,-13.484495,-14.339439,-15.310133,-16.421785,-17.707516,-19.211674,-20.995096,-23.14351,-25.781738,-29.098845,-33.39557,-39.18099,-47.390976,-71.505745,-207.42566,-1167.5151,-292.82593,-410.7374,-70.600044,-94.93452,-144.86765,-305.6118,-34.446663,-117.09895,-142.73792,-315.9215,-31.237892,-40.204292,-79.39332,-3144.1243,-237.5275,-561.4763,-17.446373,-20.151413,-23.849325,-29.209448,-37.677124,-53.05853,-89.6643,-289.1582,-106.88806,-128.29236,-58.729935,-74.180855,-28.496458,-22.663107,-337.66068,-37.094444,-45.964863,-384.133,-185.56432,-2221.4927,-50.49576,-34973.027,-98.08303,-32.943897,-22.802187,-108.612564,-421.07123,-193.0363,-205.22227,-1072.3502,-588.4476,-409.73315,-19.191475,-16.262367,-161.41101,-74.46687,-616.8982,-54.64971,-342.9428,-407.964,-308.32242,-76.44704,-34.15952,-116.6315,-43.05964,-335.92126,-239.7553,-62.497105,-124.86491,-62.387814,-41.582016,-153.04109,-1857.4065,-152.76292,-121.36038,-53.87492,-379.67645,-32.70435,-1287.8854,-147.74321,-276.924,-128.34546,-205.45508,-148.9963,-69.5825,-353.7548,-174.98201,-116.239716,-87.02488,-69.545746,-57.91365,-3986.0107,-151.26831,-64.07858,-131.18861,-49.717113,-488.8827,-154.38318,-6786.702,-253.66505,-129.24825],[-11.56181,-12.068418,-12.6214485,-13.27104,-14.098299,-15.035555,-16.106308,-17.341248,-18.7813,-20.482174,-22.521795,-25.012558,-28.122744,-32.11624,-37.431618,-44.85538,-55.952343,-74.344925,-110.75048,-217.02373,-5368.753,-352.9226,-151.15573,-335.01218,-3387.9543,-13.077814,-51.541603,-18.368568,-87781.47,-75.07586,-46.72025,-96.230606,-148.3679,-28.804014,-44.56343,-114.73493,-60.084633,-103.17153,-364.69635,-6335.333,-23.060514,-28.034988,-35.745594,-49.306656,-79.44834,-204.39204,-1598.9896,-481.36014,-5536.025,-34.140503,-31.789442,-21.116777,-39.419403,-18.627619,-310.23737,-1635.6488,-78.908516,-233.06316,-279.25244,-30.892572,-648.4513,-58.415802,-26.825594,-20.191473,-1207.5077,-44.104538,-44.179108,-73.14457,-212.40524,-100.54253,-325.90887,-320.10336,-511.61713,-88.184425,-139.23071,-39.56647,-80.59659,-369.9475,-114643.375,-960.67285,-55.307102,-28.473167,-75.58377,-35.868088,-1197.9543,-547.0493,-136.37088,-65.13371,-42.784138,-31.854004,-269.46536,-102.89364,-63.58704,-162.22778,-57.10427,-34.650665,-388.4685,-148.04724,-2295.8865,-521.2482,-208.05075,-178.66786,-137.54048,-74.23522,-137.92352,-51.956654,-1077.9219,-39.963375,-35.828213,-32.46856,-3740.038,-202.62776,-71.786476,-221.33487,-396.5023,-143.80269,-1020.94855,-209.453,-116.697235,-80.8797],[-14.69489,-15.523093,-16.45023,-17.49515,-18.681824,-20.041187,-21.93261,-24.287943,-27.210014,-30.931345,-35.83182,-42.577396,-52.451782,-68.28916,-97.827255,-172.39636,-725.1261,-158.01436,-370.67026,-52.154762,-99.90192,-1182.1267,-52.366352,-115.929726,-11.005512,-42.037697,-16.64272,-208.70546,-55.248833,-31.838602,-40.339035,-72.58158,-361.6225,-30.97477,-162.58536,-129.37572,-50.231968,-65.89717,-121.58696,-784.94806,-3069.772,-34.002922,-46.051,-71.322266,-158.06583,-811.5565,-91.52892,-619.4443,-73.88478,-24.06484,-77.77641,-16.77307,-15.400322,-27.170055,-2768.712,-176176.42,-454.89908,-313.24396,-407.05414,-36.516193,-257.57303,-41.59445,-22.623995,-115.82052,-72.62962,-29.48526,-35.328766,-51.70105,-96.35403,-706.7998,-170.0115,-194.9275,-968.15015,-52.337166,-1068.5306,-52.55564,-153.45476,-9372.405,-483.73727,-123.239174,-62.978436,-308.91568,-55.90751,-30.734928,-182.6622,-284.0521,-88.378975,-44.057877,-1141.5072,-145.26987,-389.3821,-76.97048,-42.705418,-650.4866,-989.9782,-256.53055,-147.35725,-109.08169,-504.88434,-10561.557,-160.88545,-5890.284,-127.72046,-160.37494,-43.197884,-32.457928,-59.574696,-25.937086,-24.129595,-22.557608,-3522.6587,-306.79642,-81.602234,-707.4754,-134.5801,-551.9979,-178.36592,-106.36815,-655.11414,-156.08762],[-20.157192,-21.748886,-23.613514,-25.827835,-28.500427,-31.78997,-35.937958,-41.330845,-49.363453,-63.14571,-87.60498,-142.99277,-388.82565,-414.82327,-15.871611,-18.572964,-22.382471,-28.157993,-37.950603,-58.18634,-124.65273,-234.96396,-58.973595,-154.1681,-35.49291,-15.510436,-104.47633,-43.70638,-27.633135,-25.517988,-35.49148,-58.263206,-162.57013,-367.16208,-56.902775,-188.80809,-36.22099,-48.408062,-72.95479,-148.0051,-249.17596,-43.19779,-64.70365,-128.85226,-15021.481,-56.535187,-274.1698,-602.6089,-22.328623,-18.581125,-15.910761,-13.911488,-17.162657,-850.0464,-746.5686,-250.19669,-266.87878,-477.52905,-750.5624,-1048.342,-92.54444,-32.294582,-85.0079,-34.563133,-163.48827,-39.159832,-30.534523,-39.9802,-74.24352,-486.01596,-2310.8877,-550.09576,-592.7392,-39.119904,-21.781263,-78.24133,-1598.2268,-57.79313,-426.1536,-79.786095,-73.12054,-126.6872,-44.35966,-26.887075,-295.43506,-1114.4939,-111.457954,-246.99321,-99.438965,-9826.18,-1998.3562,-213.63867,-114.07801,-496.84875,-74.848434,-57.372032,-49.217068,-117.74386,-44.6625,-34.5038,-60.62014,-1372.1515,-119.20926,-62.311245,-131.50005,-59.219833,-56.489117,-290.2916,-37.992744,-20.326689,-3329.16,-631.34985,-287.7559,-5247.2725,-378.2538,-155.31386,-955.0417,-168.71161,-92.52871,-63.74438],[-32.08289,-36.312744,-41.827316,-49.31673,-60.073143,-76.83058,-106.55405,-173.78653,-470.92865,-9.360016,-10.238188,-11.298206,-12.603064,-14.248692,-16.3886,-19.284853,-23.42453,-29.827267,-41.046654,-65.795425,-165.70692,-435.42844,-67.48883,-230.04654,-958.6929,-69.678734,-36.15315,-24.408976,-18.661514,-23.48855,-31.683998,-48.663273,-979.96075,-158.7732,-115.07791,-349.24316,-30.219803,-38.255127,-52.111298,-81.70534,-189.08936,-418.3982,-350.34912,-666.4351,-47.80278,-80.02954,-93.00319,-142.56693,-17.528713,-15.132776,-13.313058,-14.510811,-20.79589,-374.0722,-295.2277,-223.47478,-74.93955,-1004.19073,-4806.957,-460.2206,-866.5398,-67.14459,-31.18941,-20.312353,-17.369093,-58.28364,-25.22298,-32.591557,-158.93729,-78.396576,-263.70718,-99.35871,-501.55554,-385.73703,-19.096031,-153.03284,-145.48763,-400.35583,-985.76355,-100.419014,-87.15632,-79.68254,-36.765568,-188.47238,-772.15106,-823.9354,-201.22502,-127.265045,-274.42905,-127.8068,-83.30071,-601.3514,-90.51321,-48.939724,-88.616455,-44.184765,-29.542,-127.900475,-46.04961,-28.07973,-11864.173,-776.5211,-176.5946,-75.47808,-47.995903,-35.184875,-435.49423,-66.32548,-20.512278,-77.04097,-3155.8123,-253.05324,-1028.1328,-287.69977,-1761.5682,-183.5575,-96.82362,-65.753784,-49.779873,-40.050255],[-78.564224,-109.91765,-182.9158,-544.5809,-201.7206,-1866.2405,-7.556209,-8.118357,-8.77087,-9.537443,-10.450848,-11.557737,-12.926867,-14.663965,-16.940388,-20.053484,-24.56835,-31.706928,-44.692745,-75.69381,-247.08162,-2965.0935,-78.878365,-453.01712,-52.269695,-30.826113,-21.858599,-16.932793,-17.552452,-21.758144,-28.614315,-41.77938,-77.38163,-523.37054,-78.69219,-2324.023,-25.924572,-31.622707,-40.53136,-56.428116,-92.84128,-261.74847,-1303.9303,-41.407097,-46.852886,-191.67111,-318.64926,-169.0771,-14.427328,-24.67402,-12.105679,-19.873938,-249.5589,-65.617424,-88.43732,-40.660225,-81.66062,-303.48807,-234.16327,-1220.0433,-55.48526,-230.92772,-40.05558,-21.929722,-15.811789,-113.91379,-22.066868,-27.507877,-2656.6782,-54.270874,-105.680214,-2004.2645,-166.65454,-239.7942,-1918.2858,-3472.0747,-82.31479,-1700.0685,-91.798386,-135.44525,-852.39496,-246.23149,-215.97725,-101.65361,-227.97832,-383.57855,-233.3104,-91.17602,-66.0145,-51.736893,-42.536987,-141.97887,-57.25002,-35.85362,-108.59131,-48.64643,-31.343872,-139.97469,-127.832634,-58.112553,-1228.4701,-541.47516,-105.1897,-185.6581,-77.08637,-48.6413,-35.53051,-212.95947,-77.23945,-50.036102,-2999.623,-1948.8209,-11327.432,-201.26978,-217.81917,-67.89391,-51.315224,-42.95117,-36.931576,-32.391857],[-162.5983,-578.49963,-5.987682,-6.3353057,-6.7257733,-7.167542,-7.6714187,-8.251501,-8.926479,-9.721729,-10.672529,-11.829475,-13.26775,-15.104179,-17.530642,-20.885933,-25.829632,-33.839447,-49.04979,-89.0981,-485.50858,-47.59967,-94.892456,-14723.26,-26.86722,-19.79079,-15.6648655,-14.011444,-16.56782,-20.2652,-26.086903,-57.077236,-61.31641,-188.80103,-438.23746,-19.788612,-23.342781,-28.452988,-36.428055,-3519.6316,-107.33521,-228.90524,-10146.032,-1025.5421,-71.09696,-81.75849,-72.62721,-207.70003,-12.258425,-130.75102,-13.807103,-364.82614,-60.336754,-185.95268,-148.1126,-42.560844,-89.706055,-461.7006,-532.15356,-220.6356,-35.052303,-196.60002,-283.77823,-41.392822,-22.324566,-2501.967,-23.88591,-23.796135,-30.247988,-45.319557,-91.96884,-236.2798,-1030.9512,-516.43585,-1374.3715,-3776.2026,-317.17105,-165.69205,-120.52465,-207.99425,-141.4665,-252.88298,-644.60657,-173.89734,-100.695816,-449.17706,-514.61273,-72.605545,-39.0581,-32.432964,-28.560646,-197.63469,-64.582436,-38.598232,-140.1916,-54.110367,-33.525074,-154.56621,-49.099396,-29.185137,-647.7713,-415.65894,-99.347824,-56.41588,-1482.9458,-78.76485,-49.304325,-35.882923,-2114.5051,-203.87955,-2858.1658,-222.76375,-180.11407,-78.55575,-672.7698,-71.54313,-41.46905,-35.830444,-31.541681,-28.169865],[-5.454058,-5.740996,-6.0597987,-6.4160943,-6.8169,-7.2711253,-7.7901998,-8.389082,-9.087711,-9.913277,-10.903822,-12.114304,-13.627096,-15.571638,-18.163504,-21.790495,-27.227394,-36.2795,-54.34799,-108.271324,-13855.67,-65.00565,-119.06565,-23.809422,-18.080359,-14.573622,-12.20619,-13.376825,-15.687784,-18.963968,-66.86695,-32.56585,-50.774975,-115.174675,-170.74858,-22.58671,-27.337648,-34.619602,-284.47238,-79.69541,-172.33438,-1395.4146,-127.63249,-1130.7,-147.33667,-216.5879,-37.945545,-269.18997,-10.656412,-11.8208885,-4497.9634,-76.228195,-56.988323,-51.27423,-28.780495,-44.647854,-99.51004,-964.5112,-356.71683,-54.528217,-208.59268,-34.733486,-156.23647,-368.0179,-42.82252,-47.40983,-29.862518,-31.827507,-25.81946,-67.16741,-151.85648,-445.52884,-347.68237,-124.678406,-1088.0773,-485.22943,-169.8741,-105.59883,-175.41798,-1875.314,-304.99927,-211.68413,-93.18154,-59.73912,-46.652306,-11882.146,-441.31958,-87.488075,-42.99235,-28.498302,-21.497293,-324.9798,-74.06715,-41.79729,-197.73215,-60.957035,-36.032566,-172.55397,-50.78096,-29.771133,-439.85275,-337.28745,-94.120674,-54.691086,-38.54404,-206.89478,-80.518234,-1053.2002,-1610.0735,-459.26587,-2729.4487,-111.01583,-257.97073,-77.6914,-53.448063,-91.97075,-42.800503,-30.734987,-27.524662,-24.921555],[-5.513828,-5.807261,-6.133673,-6.4989715,-6.9105306,-7.377747,-7.9127116,-8.531326,-9.254873,-10.112522,-11.145361,-12.413181,-14.006451,-16.068958,-18.843765,-22.77694,-28.785099,-39.09877,-72.41838,-145.88155,-267.61157,-59.77443,-159.76376,-16.64206,-13.624508,-11.533279,-11.216511,-12.797211,-14.896524,-80.71087,-29.39461,-52.01697,-43.32639,-82.86124,-946.88367,-26.306343,-32.982204,-148.22594,-66.97539,-138.18651,-2259.906,-49.3385,-75.08883,-157.0607,-333.4286,-797.74084,-39.59808,-382.4033,-10.334166,-323.9789,-80.47048,-38.32424,-135.7206,-110.76304,-118.6038,-46.950104,-111.71996,-256.78134,-195.96748,-164.22165,-22.01609,-197.79115,-34.420395,-18.850405,-523.3613,-74.4002,-748.39545,-236.72865,-140.60146,-129.68794,-435.31342,-63.385567,-117.00579,-590.5371,-163.42732,-311.4745,-99291.164,-271.98047,-322.13577,-1930.6414,-375.377,-71.91962,-50.220646,-38.58048,-31.320894,-188.74115,-1057.7546,-110.04485,-47.807922,-30.537262,-22.433239,-913.8178,-86.817924,-45.57384,-335.38992,-69.78731,-38.945465,-195.27977,-52.581802,-30.381138,-332.97574,-283.7812,-89.41609,-53.06862,-37.73107,-29.271278,-40675.656,-49469.734,-332.28015,-146.96451,-17619.121,-94.87063,-454.387,-89.31917,-49.527355,-186.25813,-49.3592,-132.78453,-59.11513,-38.02097],[-5.574926,-5.875071,-6.20937,-6.584018,-7.0067687,-7.48754,-8.0391445,-8.678486,-9.428301,-10.319944,-11.39785,-12.727182,-14.407536,-16.599104,-19.576992,-23.856953,-30.531898,-54.960056,-85.94802,-190.07921,-562.60956,-68.53985,-242.73315,-12.791452,-10.930681,-9.65694,-10.806116,-12.265738,-101.78325,-31.791708,-73.44733,-26.68175,-37.78359,-65.56071,-336.06976,-1058.06,-100.22431,-61.105396,-115.33028,-1024.0231,-30.579803,-38.833878,-53.19116,-119.65868,-204.12598,-726.758,-41.401108,-659.9675,-585.10645,-100.92682,-84.75777,-51.182392,-45.914124,-22.272984,-30.722736,-74.7815,-127.345314,-1361.8895,-83.15285,-31.070017,-19.104183,-2337.3154,-301.5777,-161.1876,-109.986786,-905.6619,-67.25803,-56.318466,-48.439705,-1874.5801,-307.6277,-50.793045,-70.33828,-190.35172,-386.603,-486.65872,-357.19592,-87.066605,-1968.9457,-22504.266,-2166.47,-57.137947,-34.373066,-28.489824,-24.326178,-311.67072,-126.54871,-148.27394,-53.838417,-32.890476,-23.677742,-18.496727,-104.87263,-50.101894,-1103.9236,-81.60927,-42.37075,-224.89966,-54.515045,-31.01667,-267.88422,-244.92671,-85.15944,-51.53965,-36.95168,-525.5925,-21378.21,-260.30634,-130.95041,-87.47883,-2503.9224,-94.722374,-1904.2794,-105.04005,-197.30386,-214.41353,-58.291782,-67.095566,-26.468845,-20.251173],[-5.6373887,-5.944484,-6.286961,-6.6713185,-7.105723,-7.6006513,-8.169678,-8.830805,-9.608351,-10.536051,-11.662027,-13.05748,-14.832264,-17.165401,-20.369564,-25.04446,-321.90778,-60.91993,-80.4031,-305.4875,-43.628456,-80.31765,-504.98535,-10.387915,-9.126242,-9.762179,-10.554995,-137.74619,-34.614517,-124.90651,-24.40359,-26.75591,-39.844673,-78.00314,-1843.2145,-184.67911,-56.183098,-98.964066,-414.86768,-22.156013,-26.189064,-32.01714,-58.122234,-926.80316,-1101.5021,-291.46844,-615.62286,-3015.304,-135.3284,-45.222748,-31.537819,-106.85687,-88.45508,-1272.293,-60.599327,-52.348793,-148.05206,-618.0235,-188.83488,-122.19432,-90.32016,-71.63438,-59.35482,-179.22786,-44.200962,-39.19725,-3359.816,-47.77235,-29.260164,-45.136013,-103.026085,-623.85406,-172.91093,-100.36424,-510.13193,-233.15553,-449.10834,-799.0078,-107.85578,-509.76242,-81.2023,-65.36338,-30.922413,-22.583227,-19.885313,-893.8412,-173.61246,-227.20201,-61.60973,-35.636585,-25.068394,-19.33461,-132.40971,-55.62795,-35.210747,-98.25343,-46.45667,-265.11145,-56.595886,-31.67936,-224.08018,-215.43065,-81.28963,-388.88248,-420.3153,-1137.7802,-213.96053,-118.08308,-249.74937,-86.279884,-2404.5806,-94.57458,-48.235657,-127.47657,-59.38372,-641.304,-71.1718,-37.676598,-639.64026,-40.91743],[-5.7012687,-6.015557,-6.3665147,-6.760965,-7.2075152,-7.717232,-8.304523,-8.988569,-9.795414,-10.761398,-11.938753,-13.405376,-15.282795,-17.771717,-21.229015,-126.79817,-47.181057,-50.98491,-95.69561,-777.64856,-48.120087,-96.9831,-9.896507,-8.963433,-9.627404,-10.397613,-213.01189,-37.9874,-417.1326,-28.273668,-21.177761,-28.618958,-44.12204,-134.99886,-89.17622,-4963.574,-86.66456,-260.11237,-19.022287,-19.756195,-23.708286,-38.38304,-100.73524,-132.01836,-317.28857,-1286.8939,-509.4574,-164117.78,-51.035957,-29.882982,-46.45028,-41.56874,-1204.2976,-227.93275,-137.4511,-98.39258,-176.8004,-2083.7231,-53.113712,-46.049877,-40.64442,-36.374653,-32.916687,-30.059107,-171.19241,-33.514328,-27.724827,-24.132908,-1766.7119,-210.6853,-112.02224,-89.99102,-57.845036,-60.26174,-131.0495,-822.34393,-1736.6135,-444.30243,-836.5099,-2205.271,-102.672714,-76.35526,-33.18225,-21.196983,-16.815552,-15.272659,-276.4091,-485.80716,-72.00327,-38.88312,-26.632633,-20.25203,-179.54646,-62.52608,-37.853718,-123.42604,-51.414692,-322.83408,-58.841892,-32.370983,-192.58833,-478.00067,-143.42612,-350.1754,-584.45135,-181.62418,-107.51838,-76.36163,-59.20511,-268.27164,-2312.8208,-94.42723,-72.030846,-162.10226,-65.94564,-41.39237,-91.35797,-885.76825,-37.92342,-20.65284],[-5.7666116,-6.088347,-6.4481044,-6.8530517,-7.312262,-7.837441,-8.443892,-9.152069,-9.9899025,-10.996601,-12.228928,-13.77232,-15.761547,-18.422424,-78.94824,-38.49835,-37.32725,-56.73389,-118.17118,-193.16768,-53.64285,-122.37578,-8.849665,-9.496291,-10.244861,-469.60397,-42.08862,-22.0316,-33.602467,-17.524258,-22.328259,-622.6125,-93.997215,-125.72448,-68.49503,-278.76004,-715.092,-4973.013,-15.860379,-19.597326,-28.652283,-53.26213,-377.51627,-35.33918,-473.73944,-74.942055,-425.18042,-2020.857,-287.44534,-157.06044,-108.049355,-178.82574,-74.74519,-55.806084,-48.060173,-59.15036,-604.6269,-259.32053,-47.487873,-28.370789,-55.075462,-24.376204,-22.77299,-21.367647,-20.125673,-163.85098,-269.5758,-126.74404,-82.84797,-440.57086,-109.53072,-146.54099,-35.084312,-389.9745,-395.16272,-15484.135,-391.3629,-460.1296,-342.53168,-88.53695,-139.57819,-91.79136,-35.798428,-22.235012,-16.125381,-13.394615,-677.64764,-1003.8804,-86.61492,-42.780407,-28.405037,-21.260826,-278.83292,-71.377556,-40.926502,-165.93999,-57.55743,-412.68796,-61.27351,-620.10364,-168.85739,-173.61447,-300.09668,-393.21582,-157.77895,-98.68888,-71.79931,-56.42526,-46.474003,-39.506535,-2227.8062,-94.28036,-53.69564,-222.55359,-74.137985,-44.477245,-127.528534,-49.18224,-139.0594,-84.89504],[-5.833471,-6.1629243,-6.531816,-6.947684,-7.4201026,-7.9614596,-8.588022,-9.3216305,-10.192276,-11.242317,-12.533562,-14.159922,-241.64835,-57.31771,-32.514957,-29.44088,-40.31847,-63.94442,-154.44592,-310.80145,-60.597492,-165.78064,-9.368694,-10.096515,-855.7065,-47.182518,-23.351269,-41.406292,-17.50625,-18.911348,-206.72664,-72.099174,-56.185066,-181.13123,-69.411224,-148.9752,-607.89886,-14.691896,-16.70135,-22.857529,-36.20156,-86.97963,-110.45387,-446.3683,-183.1958,-129.82979,-89.00956,-167.29669,-503.7658,-50.254005,-855.16254,-321.84125,-35.01024,-31.795355,-35.51635,-63.749058,-289.05682,-366.044,-739.8417,-20.500431,-19.354525,-18.329937,-17.408377,-374.1637,-145.92122,-90.63389,-157.11092,-51.561874,-42.418602,-114.60828,-512.16187,-394.32727,-174.30797,-342.37747,-102.58357,-285.78882,-957.506,-123.87485,-217.81203,-1002.02594,-217.90157,-115.05026,-38.86245,-23.37994,-16.719158,-13.012098,-138.66316,-1270.6058,-108.667305,-47.546047,-30.430222,-22.375408,-623.6369,-83.143265,-44.540707,-253.13074,-65.36714,-882.4228,-166.29424,-91.79689,-150.33318,-2823.4915,-296.27423,-139.46782,-91.19955,-67.75147,-53.89473,-44.743645,-38.249126,-33.400967,-2148.8203,-314.9937,-92.929474,-354.90155,-220.18745,-75.58702,-211.11201,-58.04513,-33.648323,-23.69086],[-5.901899,-6.239351,-6.617727,-7.0449643,-7.5311685,-8.089462,-8.737154,-9.497589,-10.403011,-11.499254,-12.85376,-261.14355,-44.990993,-28.141249,-24.305603,-31.270634,-43.830807,-73.25434,-222.85419,-794.8051,-69.624084,-256.89862,-9.952438,-10.777767,-53.679234,-24.839127,-53.930958,-19.412333,-18.412092,-123.93925,-58.476257,-38.265137,-65.08181,-323.85367,-122.7508,-2211.9514,-116.98913,-14.55108,-601.59735,-219.7659,-134.43837,-237.03334,-694.70496,-198.02689,-158.10545,-83.07142,-54.316673,-180.13141,-221.7604,-2763.2905,-63.057503,-25.505686,-23.755787,-25.376831,-36.957977,-67.983284,-423.50607,-622.04626,-46.996807,-16.048431,-611.3447,-171.93584,-100.03493,-70.53729,-54.474297,-44.370163,-76.259,-150.90407,-32.654865,-65.87129,-344.59753,-112.2379,-67.035965,-1294.9803,-152.23492,-144.22514,-148.92485,-1942.1753,-216.75706,-774.75415,-496.52722,-154.09644,-42.50009,-24.649189,-17.358334,-13.396,-195.23726,-107.60064,-145.78348,-53.50643,-32.7663,-23.613297,-18.457394,-99.55825,-48.855278,-1529.4263,-180.7001,-930.8582,-66.79399,-49.56729,-2424.1501,-237.67796,-124.9652,-84.76667,-64.13568,-51.581474,-43.137535,-37.069283,-32.49774,-28.929976,-2075.2434,-93.987946,-345.0398,-875.615,-98.64751,-52.268032,-612.6523,-70.80445,-37.573364,-25.571663],[-5.971952,-6.317697,-6.705931,-7.1450114,-7.645615,-8.221655,-8.8915615,-9.680328,-10.622652,-2565.4094,-121.72097,-37.027824,-24.804556,-20.695778,-25.53939,-33.342987,-48.013557,-85.73751,-400.05255,-44.065266,-81.810844,-570.43427,-10.613697,-62.250755,-26.529415,-77.32338,-21.784494,-441.08606,-88.49859,-49.183266,-34.054596,-40.049053,-77.32614,-1527.2511,-530.0707,-153.13907,-365.93912,-1045.3153,-65.81468,-55.302917,-76.529396,-163.60542,-57.653362,-202.1261,-105.052,-41.24998,-56.96341,-223.93243,-100.08072,-328.80215,-1525.944,-18.96134,-19.740993,-26.104385,-38.521584,-388.5668,-791.7933,-2069.1875,-432.13043,-111.611725,-76.10354,-57.73547,-46.509975,-38.939068,-172.96405,-29.375544,-183.10442,-126.23649,-14949.584,-164.6196,-82.76554,-56.413593,-63.944206,-169.69064,-71.8743,-96.449486,-89.21675,-292.25815,-396.00302,-866.3435,-973.58826,-233.26157,-46.889015,-26.064148,-18.048328,-13.803245,-329.96936,-139.83083,-221.40756,-61.1756,-35.490925,-24.996208,-19.291656,-5732.449,-197.83813,-100.65603,-89.71257,-2500.9626,-3030.2449,-2442.305,-198.43283,-134.46416,-79.18162,-60.886288,-49.45865,-41.642757,-35.96005,-31.642084,-28.24992,-25.514635,-2006.5386,-93.84243,-48.04447,-381.4257,-118.18253,-57.285122,-39.40059,-1758.5404,-79.50925,-27.776834],[-6.0436873,-6.3980336,-6.796517,-7.2479424,-7.7635894,-8.358236,-9.051525,-9.87023,-193.43108,-79.35435,-31.459768,-22.175318,-18.019512,-21.58358,-26.9051,-35.70945,-53.0788,-103.34868,-1952.6274,-48.651974,-99.16862,-10.454557,-74.07982,-28.466595,-136.54808,-24.816957,-181.87369,-68.81933,-42.43891,-365.8144,-177.88272,-117.51244,-95.245445,-301.1453,-58.227924,-58.374187,-163.43623,-220.68445,-34.81154,-45.631035,-172.7484,-342.66513,-280.12012,-142.85007,-46.0327,-27.528297,-2393.2083,-295.8775,-65.23333,-117.31723,-635.6044,-16.15353,-99.37593,-31.01697,-40.22334,-97057.9,-6072.738,-82.6232,-61.41176,-48.866512,-40.57738,-34.692524,-30.298397,-26.892256,-24.174553,-21.955727,-20.109966,-308.6803,-129.13545,-139.85411,-47.030624,-94.7969,-623.7513,-75.54312,-1946.5267,-72.44998,-55.3844,-109.98618,-7783.5093,-1099.9307,-7813.7017,-2144.7869,-52.28884,-27.651451,-18.79544,-14.236026,-1068.1582,-199.6262,-460.0584,-71.410835,-38.7097,-5829.4663,-218.56775,-164.50511,-69.75632,-52.0405,-110.24182,-1239.8278,-481.51752,-877.8216,-2975.2256,-125.06353,-63.87424,-47.503597,-40.248104,-34.91528,-30.830313,-27.601086,-24.984194,-22.820541,-1942.237,-93.697365,-48.006416,-32.270203,-426.37866,-100.68958,-57.08512,-1437.0782,-257.73727,-141.56317],[-6.117167,-6.4804387,-6.889582,-7.3538766,-7.88526,-8.499428,-9.217342,-100.502655,-58.864918,-27.34716,-20.050016,-15.956152,-18.688831,-22.55096,-28.425117,-38.437492,-59.338715,-130.06494,-214.70042,-54.30471,-125.87607,-91.45914,-30.70901,-583.2556,-547.8715,-212.16531,-131.55539,-95.334206,-74.752594,-61.479755,-52.209587,-80.32771,-210.32298,-2044.2804,-32.567154,-48.740692,-105.21356,-123.36491,-32.506657,-113.897385,-83.25567,-456.11615,-223.13344,-52.069927,-29.473919,-306.20908,-65.12314,-435.93463,-194.1745,-130.53838,-141.72606,-9498.637,-369.62396,-145.22562,-90.365036,-144.22743,-455.59726,-42.35963,-35.98705,-34.767323,-27.663652,-24.796112,-22.46722,-20.538235,-18.914297,-2471.8735,-155.95094,-80.51536,-70.42568,-40.924202,-134.91644,-296.6027,-160.47826,-48.586506,-253.27667,-58.01426,-42.147774,-69.04227,-172.44685,-6381.5073,-387.4938,-3023.332,-259.1299,-29.444622,-19.607079,-14.696822,-11.774827,-348.7681,-328.36548,-85.84417,-244.15054,-111.40787,-72.16978,-244.16731,-68.873085,-40.090816,-779.3408,-343.77393,-149.17047,-535.0691,-1117.1677,-116.89141,-61.672146,-41.885456,-33.929512,-30.05916,-26.981382,-24.475348,-22.395271,-20.641052,-1881.9283,-93.552734,-47.968422,-32.25303,-6836.497,-616.6322,-208.08287,-207.91335,-549.4919,-238.55843],[-6.192454,-6.564999,-6.985234,-7.462954,-8.010809,-703.50385,-67.88942,-46.78439,-24.185627,-18.296507,-14.713751,-16.47875,-19.409805,-23.609154,-30.127182,-41.616863,-67.27276,-175.40977,-370.60217,-1090.6213,-262.81476,-149.40938,-104.372574,-341.51447,-83.60781,-54.808838,-47.318726,-41.629642,-37.16175,-46.345337,-72.03199,-161.58444,-885.4081,-24.183989,-28.64106,-41.836426,-77.57732,-532.46063,-1942.0459,-135.8939,-1227.2969,-509.45703,-59.929707,-31.83746,-163.57002,-42.428753,-70.147415,-827.7774,-48.990345,-599.31464,-170.97063,-178.96014,-1029.9198,-54.377037,-286.27396,-96.933426,-938.3239,-42.289303,-25.450438,-110.42009,-20.985128,-19.292664,-17.852818,-16.612965,-279.54648,-104.33035,-64.13275,-3260.6553,-48.413704,-29.747911,-258.66867,-130.30804,-360.432,-40.894646,-137.45245,-69.06003,-222.68416,-52.245983,-87.189316,-399.08627,-538.7521,-12567.496,-316.5412,-34.478016,-84.1116,-17.764366,-12.652452,-1379.1123,-1590.6862,-117.69379,-74.75622,-54.773506,-43.220455,-473.35022,-79.767746,-2293.6985,-267.30722,-132.69878,-88.25569,-384.81522,-687.6953,-109.72181,-59.616833,-40.92717,-31.158981,-26.38891,-23.986822,-21.985552,-20.292511,-18.841576,-1825.2523,-93.408554,-529.2532,-392.5312,-291.1556,-1770.0717,-557.9082,-586.4631,-130.19424,-99.474686],[-6.2696195,-6.651791,-7.0835767,-7.575318,-161.25276,-51.25583,-38.819157,-21.6793,-16.824968,-13.746876,-14.736092,-17.036732,-20.188631,-24.77152,-116785.125,-345.2325,-172.87097,-269.29465,-1353.2512,-172.30478,-272.8278,-49.443886,-162.35617,-65.824974,-41.280907,-31.469145,-28.847364,-32.567783,-43.457363,-65.28729,-131.18945,-1172.8802,-312.4945,-20.278605,-26.109133,-36.645473,-4659.481,-189.97214,-244.52216,-12414.312,-91.40275,-203.86624,-34.613106,-111.58878,-37.854683,-27.93713,-1583.1189,-8182.2866,-111.20455,-75.91388,-57.626244,-90.331024,-242.73001,-766.4628,-1611.3818,-108.48253,-254.83415,-21.451902,-19.686474,-20.269495,-16.904158,-15.788452,-1347.3694,-148.1503,-78.38452,-53.28975,-40.366436,-147.87181,-63.003727,-313.45694,-89.203514,-3500.8604,-126.0141,-49.590996,-95.27023,-41.777557,-109.32547,-42.022884,-58.343998,-122.30724,-402.79605,-168.8222,-355.39264,-566.6593,-25.131676,-17.70921,-318.77234,-142.53215,-93.58759,-156.93639,-54.660656,-36.313477,-30.846897,-7717.433,-1284.8765,-218.66833,-351.65057,-82.21763,-86.212456,-300.4461,-496.7354,-103.38086,-57.694096,-40.01175,-30.625538,-24.806316,-21.590559,-19.955544,-18.550726,-1512.054,-3456.0881,-287.90152,-150.20718,-594.5373,-568.51434,-155.61972,-113.66363,-659.65485,-109.864,-62.838604],[-6.3487315,-6.740911,-7.18473,-91.06143,-41.169094,-33.170666,-19.643667,-15.572573,-12.899231,-13.326775,-502.94653,-205.0719,-128.79308,-93.875114,-73.85249,-60.86966,-91.828995,-579.4209,-308.78442,-83.36007,-2793.3123,-106.49057,-54.28006,-36.422607,-27.406311,-25.104353,-31.114544,-40.907967,-59.698215,-110.415245,-734.0462,-76.66081,-1303.7529,-18.975706,-23.98846,-645.81006,-78.239746,-115.608734,-130.47488,-170.18489,-85.84629,-113.045334,-84.67888,-34.170918,-264.88855,-125.69827,-82.94543,-61.28829,-48.788296,-40.523403,-42.54677,-60.412174,-104.14101,-377.1071,-132.55902,-123.155945,-358.94128,-17.205727,-16.051216,-32.925804,-14.152016,-255.43497,-417.20535,-62.773388,-45.582928,-35.783615,-29.452072,-78.21325,-397.68814,-94.92501,-53.894627,-179.83423,-83.5567,-3599.3264,-72.89868,-36.822235,-72.4463,-77.71775,-43.84015,-72.22018,-204.79341,-972.40924,-1835.4305,-142.93898,-376.27322,-132.66425,-80.52816,-203.18709,-117.05438,-267.84482,-63.87251,-36.25959,-25.315456,-620.9607,-185.00504,-108.69432,-1302.1023,-82.53795,-91.534676,-246.41966,-388.77893,-97.73277,-55.891495,-39.136387,-30.110058,-24.46703,-20.60532,-415.87845,-822.9102,-227.3108,-2341.6265,-357.2662,-193.38678,-132.57414,-12001.633,-110.1519,-68.218155,-58.717087,-806.7709,-113.305534],[-6.4298644,-407.63205,-63.44473,-34.39947,-28.95688,-925.95654,-252.01712,-145.85689,-102.626205,-79.16299,-64.4321,-54.32342,-46.95648,-41.348995,-36.937923,-55.352127,-112.330635,-1485.0275,-49.1958,-278.6172,-81.638504,-46.180557,-32.58751,-25.176798,-24.232075,-29.785442,-38.64127,-54.991344,-95.324265,-357.6107,-43.689278,-94.23797,-14.90377,-17.830128,-346.95514,-70.84662,-43.387627,-83.08584,-977.0708,-13661.238,-41.922905,-365.1956,-144.53693,-90.097946,-65.44752,-51.387978,-109.52074,-81.87172,-31.249054,-27.826702,-34.499283,-45.381287,-66.29135,-226.60985,-844.7793,-142.4197,-606.8616,-14.36277,-15.167104,-926.03,-141.09232,-76.36343,-52.347813,-39.823654,-32.135303,-26.935202,-23.183641,-543.82745,-101.4311,-55.931507,-368.37787,-92.28734,-209.67805,-285.79214,-118.21227,-262.4619,-54.172188,-30.203068,-82.91514,-51.23745,-153.7706,-629.0003,-474.37366,-395.45987,-312.518,-59.457256,-46.085087,-353.70956,-156.22777,-913.22705,-76.818436,-40.095543,-409.41132,-160.32356,-151.80075,-72.32181,-56.74742,-99.60268,-97.55726,-208.86194,-319.3697,-92.669876,-54.19813,-38.298504,-850.0148,-241.09483,-467.05908,-187.7891,-647.62555,-255.35724,-1674.0098,-115.47323,-90.64565,-74.60492,-63.38783,-135.08527,-60.98386,-43.683746,-204.80772,-1038.3589],[-5826.5566,-326.83398,-381.33038,-113.17603,-85.29619,-68.43738,-57.1431,-49.04852,-42.962654,-38.220295,-34.42086,-31.308493,-28.712318,-29.064388,-39.615715,-62.194397,-5688.991,-241.63899,-146.62047,-150.60503,-40.184357,-29.483034,-23.282736,-23.418074,-28.565077,-36.611927,-50.970425,-83.85937,-236.36974,-30.549911,-48.885746,-122.27348,-14.187824,-237.1916,-64.729965,-37.479065,-37.830254,-146.88217,-587.77277,-20126.037,-2130.4917,-70.21239,-54.280296,-44.241375,-37.336185,-46.94663,-101.45598,-574.8749,-22.985752,-24.143353,-29.011845,-36.339737,-48.620415,-812.4694,-150.00821,-632.9087,-1962.0579,-15.191687,-235.1525,-97.46328,-61.47053,-44.89203,-35.35644,-29.16209,-24.814627,-21.595228,-859.7707,-108.89452,-58.128384,-39.64574,-100.683174,-62.070282,-30.072048,-148.80391,-49.60295,-118.11381,-43.260086,-26.47916,-29.281755,-88.85761,-661.5767,-1198.712,-696.2569,-206.2469,-539.4072,-797.8899,-32.27892,-1364.6466,-242.19196,-346.37885,-96.346664,-305.37564,-141.45259,-92.04409,-217.17249,-66.53893,-44.946007,-125.56273,-104.42816,-181.23875,-270.9895,-88.10568,-342.507,-169.75159,-326.05908,-3458.086,-375.77924,-198.6846,-135.04291,-102.28049,-1629.0156,-92.836266,-59.1964,-51.907894,-46.217445,-174.60837,-67.92487,-42.163506,-562.4034,-70.08066],[-72.97403,-142.6695,-51.335724,-44.707397,-39.594994,-35.53184,-32.225014,-29.481249,-27.168062,-25.19146,-23.482979,-21.99151,-24.04846,-30.846287,-43.001534,-70.96683,-981.4062,-458.91312,-969.63245,-179.28772,-26.91867,-21.653719,-22.657171,-27.441166,-34.78587,-47.498676,-74.85759,-176.54121,-1628.9703,-33.002995,-55.485203,-174.05386,-180.18494,-59.585354,-35.694607,-1504.9669,-206.40471,-310.5212,-345.11334,-138.45474,-93.07473,-38.839798,-33.414448,-29.319017,-29.876886,-89.91942,-114.19853,-19.673767,-18.569267,-21.321133,-25.030514,-30.30244,-3475.3972,-122.63908,-120.110085,-207.25665,-705.44995,-134.67554,-115.29303,-51.43852,-59.664673,-31.790358,-26.692436,-23.003572,-20.2105,-2051.7637,-117.54356,-60.504906,-40.73705,-1045.8011,-235.67532,-46.759995,-25.954813,-331.9345,-42.769203,-76.2036,-111.32404,-30.32179,-1092.8566,-171.40779,-763.1124,-25862.71,-269.7115,-1891.7731,-719.7223,-154.6945,-264.27747,-22.152739,-472.4473,-3205.8738,-243.49974,-126.55614,-85.49578,-64.55221,-381.44406,-76.6563,-42.608906,-169.8255,-112.340225,-591.17584,-235.33891,-1236.5425,-250.45276,-711.1231,-264.67688,-162.59727,-117.34155,-91.79283,-75.3804,-63.946674,-1586.377,-92.6943,-47.741714,-39.79959,-36.36649,-246.82556,-76.64889,-45.368874,-32.22002,-89.56807],[-87.758736,-33.196716,-30.292433,-27.855469,-25.781403,-23.994797,-22.43977,-21.074018,-19.864977,-18.787132,-17.82024,-20.509003,-25.255596,-32.860886,-47.02015,-235.28755,-340.16925,-4551.4663,-71.898705,-290.85562,-20.23775,-21.944263,-26.402115,-33.133114,-44.47005,-67.60044,-140.87364,-2957.7195,-24.909885,-35.884426,-64.144585,-301.9042,-55.1985,-262.60925,-125.182816,-246.72069,-635.406,-174.05125,-89.43678,-5922.636,-39.74945,-26.844894,-24.136272,-21.924149,-42.934414,-1062.0232,-248.98822,-16.042776,-16.853466,-19.08966,-22.010052,-25.985367,-187.53069,-66.3255,-62.20874,-268.3375,-332.5434,-2977.2734,-44.221645,-34.93929,-28.877733,-24.608435,-21.438898,-117.108765,-17.047503,-127.68496,-63.084034,-41.890133,-36.020954,-122.34283,-105.06215,-37.508186,-708.1896,-76.17627,-319.53613,-56.24583,-3139.3872,-190.92958,-98.4588,-66.33261,-50.013657,-495.13287,-664.3392,-1483.8296,-410.86523,-377.7604,-374.76105,-18.374878,-5344.52,-216.49582,-195.9938,-79.81734,-61.261528,-49.705956,-1566.1022,-90.39593,-2157.8015,-291.14282,-156.10269,-576.51587,-6610.2563,-396.3142,-204.28116,-137.605,-103.74362,-83.256134,-69.52612,-59.68348,-52.28211,-46.513832,-1545.9133,-92.55276,-47.704132,-32.271763,-29.977097,-420.90417,-87.94385,-49.10162,-34.05879,-124.067024],[-24.52942,-22.90666,-21.485275,-20.229992,-19.11329,-18.113428,-17.212982,-16.397814,-15.6563635,-15.361153,-17.877764,-21.380535,-26.590347,-35.1571,-133.66702,-98.853035,-1050.2582,-44.96554,-84.96923,-770.0288,-21.274754,-25.43913,-31.630127,-41.804092,-61.62651,-117.19943,-1193.1066,-20.004356,-26.517004,-39.317158,-360.8715,-1137.3173,-89.83238,-65.307274,-373.7378,-70.52691,-208.75635,-819.9678,-68.648575,-420.38644,-311.90308,-20.510584,-18.89084,-28.199785,-76.26634,-59.638405,-152.50659,-13.933763,-15.427922,-17.281021,-19.640057,-22.744972,-543.2163,-569.7438,-128.81792,-380.46472,-531.11945,-442.04645,-31.452719,-26.453997,-22.826284,-20.073523,-17.913256,-16.17278,-139.7416,-208.32321,-43.110424,-32.034492,-49.727127,-141.5484,-67.59855,-31.312729,-339.66693,-170.43353,-3836.711,-215.46962,-104.60217,-69.0654,-105.19353,-41.123432,-34.204357,-252.01556,-500.02145,-157.62064,-2565.0146,-264.97357,-1118.3762,-1506.7498,-196.24767,-104.959114,-405.89496,-69.51003,-47.731705,-40.41173,-453.1786,-193.12721,-122.711044,-575.7365,-204977.28,-274.70255,-186.31636,-119.27141,-92.969604,-76.17209,-64.51555,-55.9531,-49.397182,-44.216396,-40.019222,-36.54974,-1507.4626,-92.411644,-47.66661,-32.11631,-25.49733,-1428.1571,-103.14307,-53.503693,-36.120163,-201.79323],[-18.416433,-17.486383,-16.645735,-15.88222,-15.185672,-14.547656,-13.961095,-13.419992,-13.835928,-15.844912,-18.536413,-22.329424,-595.24634,-105.5111,-57.828945,-123.02428,-179.25806,-49.751915,-103.84826,-20.644924,-24.543644,-30.257702,-39.439426,-56.622566,-100.33621,-440.06503,-16.713032,-576.6507,-169.0749,-104.69898,-93.25149,-54.183807,-44.177265,-770.3035,-78.116745,-88.812454,-96.97033,-34.524254,-55.701504,-144.07968,-147.4747,-16.594877,-20.99482,-39.5549,-341.06226,-158.90799,-183.24144,-12.944872,-14.224732,-15.785441,-17.730839,-824.4188,-202.92789,-91.444664,-72.05472,-653.5605,-1318.3511,-129.11946,-1259.1729,-21.284807,-25.33962,-16.949938,-15.383436,-154.31265,-68.96337,-88.83888,-32.74326,-25.933113,-155.87546,-341.81268,-49.82991,-26.873814,-162.19876,-247.24753,-111.56322,-72.03299,-53.18715,-42.15757,-34.91677,-102.371124,-29.616285,-571.2457,-148.64867,-124.5679,-327.741,-34716.215,-3176.4192,-179.46335,-266.92728,-128.32951,-415.96118,-1021.9368,-253.17525,-144.48505,-2486.291,-74476.07,-419.2177,-210.20087,-1361.2655,-616.20856,-168.74146,-73.6049,-60.178646,-52.661633,-46.814014,-42.13524,-38.306736,-35.116016,-32.415974,-30.101475,-1470.8782,-92.27096,-47.62915,-32.099304,-24.2065,-21.07359,-124.69417,-58.77284,-38.44716,-540.24866],[-14.742465,-14.140412,-13.585595,-13.072677,-12.597079,-12.154875,-11.742665,-12.5862255,-14.227167,-16.360134,-19.24545,-203.61832,-144.6641,-43.523445,-65.33887,-162.84113,-276.3032,-55.67853,-133.51256,-23.708948,-28.999004,-37.32807,-52.369022,-87.713036,-1434.1757,-205.01591,-110.39893,-75.53757,-91.86963,-48.61897,-120.61787,-33.37785,-1221.3722,-971.9715,-114.40464,-157.22762,-370.59616,-30.910881,-46.863083,-96.838,-96.56684,-16.722176,-26.701317,-66.21711,-52.508606,-37.042255,-229.49184,-12.087038,-13.19563,-14.528111,-477.825,-4505.6567,-70.88049,-49.711746,-78.246925,-2315.9307,-49.559124,-75.601074,-159.3186,-1767.0692,-48.780525,-22.639156,-172.27586,-72.334076,-45.777393,-56.45909,-26.395653,-21.784058,-208.06935,-121.94213,-39.45816,-290.02054,-119.51674,-408.33484,-132.63818,-43.245056,-35.659477,-30.337933,-26.398434,-23.36446,-99.69771,-105.25514,-240.84503,-131.60219,-138.48141,-618.50635,-416.05716,-361.57455,-468.03674,-367.41385,-16352.0625,-115.415695,-752.97534,-884.59454,-285.5166,-195.55612,-121.26573,-94.176926,-682.89935,-109.09584,-154.19635,-169.76483,-45.861275,-40.24126,-36.734882,-33.79056,-31.283215,-29.122269,-27.240578,-25.587276,-1436.0277,-92.1307,-47.59176,-32.082314,-24.196833,-19.42291,-157.62914,-65.19314,-41.094578,-30.003773],[-12.29057,-11.869265,-11.47588,-11.107732,-10.762474,-10.439272,-11.543575,-12.909153,-14.641167,-16.909983,-122.814644,-230.0158,-38.494873,-44.48166,-167.88564,-240.76485,-602.45514,-63.20821,-186.90012,-27.841173,-35.431435,-48.711,-260.3603,-194.52682,-10171.511,-61.042645,-1014.12177,-81.8408,-42.640984,-55.14182,-170.71863,-24.11713,-240.46873,-160.71399,-65.75403,-84.80888,-21.390709,-27.982231,-7880.382,-72.92653,-370.35184,-361.74268,-36.667526,-203.14876,-116.68799,-38.615395,-306.96878,-11.3358345,-12.305384,-189.91418,-88.70559,-407.9639,-44.227467,-41.61459,-85.60348,-449.67206,-38.970398,-53.44761,-85.03896,-207.95534,-1015.00073,-194.97185,-76.05121,-47.238586,-261.83868,-41.37757,-22.46337,-214.73026,-47.960526,-350.6855,-128.69089,-537.28595,-79.31656,-140.7396,-307.52817,-40.111412,-26.820755,-23.694683,-21.221256,-19.215408,-19.901966,-144.83643,-634.19104,-1667.7365,-477.69952,-289.8714,-669.4978,-370.46838,-1888.9049,-4336.887,-3205.9507,-444.93765,-216.47455,-143.0319,-106.79869,-319.4337,-73.77462,-60.68218,-455.7717,-101.05105,-141.95972,-68.00835,-44.71491,-98.45418,-30.22694,-28.204727,-26.436142,-24.876255,-23.490208,-22.250454,-1402.7898,-91.99087,-47.554405,-32.065346,-24.187178,-19.416689,-214.20702,-73.18809,-44.133602,-31.59207],[-10.537944,-10.2267065,-9.933318,-9.656302,-9.711702,-10.660456,-11.814638,-13.24909,-427.15753,-87.92352,-561.06506,-42.712673,-33.71826,-2870.9722,-88.262886,-461.69986,-41.405163,-73.09285,-311.436,-356.64777,-143.17848,-89.5684,-152.09477,-648.41327,-42.18377,-431.061,-73.786415,-40.346287,-35.740486,-63.686115,-292.00912,-395.324,-270.01508,-54.26873,-126.102104,-239.39821,-19.94612,-25.560568,-70.1866,-58.485504,-164.31299,-157.7518,-58.506588,-46.902122,-21.081326,-40.328117,-463.42538,-411.4364,-118.50832,-69.223595,-15571.054,-106.67414,-33.85981,-43.607674,-94.4869,-913.51294,-32.109882,-41.335175,-548.56506,-97.1696,-299.33575,-210.15016,-48.796154,-35.07108,-97.32349,-32.65425,-19.618322,-443.4486,-621.8772,-82.69215,-66.599525,-418.57138,-63.17548,-85.02206,-143.56342,-48.44265,-23.628954,-19.438213,-17.741806,-16.317722,-17.883741,-232.12877,-2046.1005,-3765.5293,-308.9408,-161.07841,-468.31998,-156.22215,-1007.4547,-732.04443,-269.62833,-260.93268,-95.415596,-77.80627,-65.68404,-871.23505,-86.41599,-45.463524,-342.01895,-94.11124,-131.52248,-65.51754,-43.624466,-32.69814,-26.14885,-69.327805,-22.889584,-21.710827,-20.647541,-19.683529,-1371.0564,-91.85146,-47.517128,-32.048386,-24.177528,-19.410471,-334.1408,-83.418236,-47.657993,-33.357937],[-9.222798,-8.983514,-8.75633,-9.078957,-9.902853,-10.891224,-12.098747,-179.46303,-68.47117,-591.5137,-47.968174,-27.148947,-36.140297,-54.036366,-107.04084,-5607.2974,-565.93365,-168.14082,-933.32916,-69.89016,-63.6822,-124.8655,-3179.9128,-32.22718,-273.70215,-67.17526,-38.286015,-26.772331,-39.144413,-75.36383,-1008.56683,-844.05316,-62.861057,-59.60136,-1533.8132,-16.645002,-18.684256,-23.524595,-34.81382,-48.818203,-105.5757,-100.86979,-144.66132,-92.19636,-21.581688,-42.19979,-945.11456,-86.12584,-56.758083,-42.32562,-1173.4868,-61.359146,-29.255392,-45.80125,-105.42745,-252.91661,-151.81683,-33.69836,-44.005486,-264.72006,-113.33634,-533.9879,-35.922363,-27.887848,-59.770554,-602.9383,-344.9934,-86.982605,-145.28383,-46.872337,-150.68802,-178.24403,-565.4735,-60.908802,-2216.2397,-61.14602,-26.293165,-16.746939,-15.24261,-14.179456,-16.237162,-584.257,-3210.5283,-187.59209,-143.86925,-1085.0746,-474.0111,-599.0156,-421.4739,-413.64996,-623.03253,-837.5868,-76.239685,-53.437576,-47.42621,-42.630558,-104.29069,-49.96854,-369.56857,-1990.2493,-122.51485,-63.202724,-111.8981,-32.11119,-25.772121,-21.523224,-20.182045,-53.50033,-18.41861,-17.647614,-1340.7267,-91.7125,-47.479904,-32.03145,-24.167889,-19.404257,-759.236,-96.972916,-51.794094,-35.332886],[-8.199477,-8.009805,-8.523613,-9.245796,-10.101683,-11.132198,-113.593216,-56.066864,-37.2185,-54.69812,-25.05513,-28.697464,-45.246204,-1369.633,-203.64493,-197.65558,-75.3508,-106.35769,-46.22766,-58.353367,-105.903206,-572.01605,-26.073166,-200.50304,-61.651543,-36.42586,-25.849281,-28.255894,-43.26498,-169.0913,-57.414444,-74.686226,-39.0226,-105.26289,-176.80492,-14.723389,-17.572565,-901.9824,-28.667822,-41.89346,-77.77396,-541.87317,-430.53458,-2690.171,-361.2512,-113.948715,-97.183876,-48.097023,-37.314793,-30.481543,-326.653,-43.065224,-30.2266,-48.227222,-119.233406,-355.14795,-30.28476,-28.443356,-322.38623,-89.91214,-69.90145,-135.95709,-2471.1677,-941.5737,-167.19481,-145.32787,-98.85183,-48.220524,-82.249535,-50.55077,-28.17294,-113.231064,-155.64787,-47.45112,-27.992483,-82.87052,-29.63381,-18.042484,-1280.9976,-266.52863,-339.4684,-283.84482,-685.53894,-1169.9705,-1419.8086,-178.61444,-407.4101,-221.60425,-689.44916,-615.52673,-115.38872,-396.93735,-95.437515,-44.6413,-37.110786,-34.10838,-131.47531,-55.463493,-1587.0424,-942.09784,-114.66197,-61.04591,-41.595715,-31.54494,-48.019962,-21.267342,-18.288128,-17.306454,-16.624039,-43.55618,-1311.7102,-91.573906,-47.442734,-32.014526,-24.158255,-19.398046,-16.204985,-115.78732,-56.716427,-37.556385],[-7.4815907,-8.0322895,-8.670494,-9.418879,-333.1115,-83.09439,-47.46765,-33.223167,-63.625248,-26.77592,-23.79669,-258.15924,-124.162636,-81.73723,-186.31813,-322.5844,-56.391792,-137.68947,-53.84789,-91.93957,-314.23068,-21.892654,-158.197,-56.966976,-34.73816,-24.987759,-22.106644,-30.341835,-220.43019,-119.006874,-91.991486,-39.071762,-54.50164,-450.06158,-14.334051,-14.024261,-16.585747,-64.16358,-26.131386,-36.689278,-61.562603,-191.15666,-169.56767,-168.32611,-83.69212,-55.690826,-108.64936,-33.364803,-27.793669,-1016.46045,-100.15463,-33.174274,-31.264503,-50.924553,-137.20009,-596.0995,-69.339,-412.1739,-95.7281,-54.15256,-135.94962,-2148.015,-185.71646,-611.777,-65.69202,-877.0127,-57.69106,-3442.5215,-57.361908,-82.438736,-432.83444,-82.9689,-90.243805,-38.86415,-24.764606,-128.55644,-396.22302,-181.97931,-4731.3354,-268.2524,-250.02373,-507.15665,-230.21622,-1080.0485,-110.03918,-88.19365,-72.29821,-98.20338,-820.0882,-313.61847,-204.0577,-5670.1733,-272.38892,-50.601376,-31.560757,-28.425812,-177.84367,-62.31821,-353.1508,-617.10376,-107.75517,-59.031437,-40.650486,-30.998318,-25.050327,-21.017471,-30.569557,-15.898473,-15.148107,-14.622701,-1283.9224,-91.43577,-47.40564,-31.99763,-24.14863,-19.39184,-16.200657,-143.65994,-62.67257,-40.078583],[-7.594521,-8.162601,-8.822533,-160.43117,-65.50642,-41.155334,-30.002413,-76.03443,-352.52988,-142.51042,-91.886246,-65.02874,-51.129482,-79.72259,-295.8887,-876.72546,-64.12896,-195.18976,-81.23135,-216.61308,-2833.8384,-130.63397,-52.94419,-33.19988,-24.18183,-19.016409,-379.1468,-316.55594,-68.20234,-167.509,-43.336605,-36.77005,-90.334915,-140.15846,-12.199804,-13.388515,-15.703859,-33.26497,-24.00728,-32.63515,-50.94373,-321.9759,-377.57407,-66.132065,-47.328392,-49.025932,-123.1818,-25.541405,-22.143574,-674.4292,-59.14444,-26.978157,-32.376217,-53.941494,-161.54213,-1853.8347,-571.2813,-102.3484,-56.209324,-765.87976,-208.85312,-103.01794,-87.95238,-226.28532,-61043.48,-119.648926,-40.73112,-179.67746,-44.03692,-223.29459,-545.23175,-919.23083,-63.54279,-771.75995,-234.35468,-286.53854,-97.94673,-1467.5153,-22603.984,-323.74948,-183.12428,-127.66928,-258.90317,-153.64116,-66.89576,-158.65451,-86.20032,-136.05222,-145.14175,-1605.1194,-426.97052,-6512.323,-931.26624,-58.398197,-34.42761,-24.408607,-274.7423,-71.10447,-463.5591,-458.82343,-101.63312,-57.14567,-39.74726,-30.470318,-24.704376,-20.773403,-17.921692,-15.75842,-22.421574,-13.468419,-1257.2881,-91.29804,-47.368576,-31.980745,-24.139015,-19.385633,-16.196325,-189.20558,-70.02642,-42.963905],[-7.7109103,-2315.6052,-105.659904,-54.063324,-36.324936,-555.60834,-167.2186,-98.41932,-69.73025,-189.61232,-44.049496,-37.19938,-50.710354,-94.733185,-718.32983,-41.79836,-74.326965,-335.1512,-165.27843,-974.04266,-111.249916,-49.452213,-31.792074,-23.426233,-18.546013,-173.40053,-561.34436,-75.27407,-171.43452,-282.74292,-28.344837,-50.205887,-263.72534,-12.586563,-11.22472,-12.807901,-408.81403,-22.452658,-22.20251,-3693.125,-159.27412,-83.31174,-1009.2453,-531.6566,-32.99312,-51.820045,-142.20348,-20.69001,-18.402576,-272.36563,-41.962322,-23.7322,-33.569904,-57.338387,-196.38425,-930.4774,-109.95279,-1210.2416,-238.57349,-110.15722,-71.27813,-94.07996,-538.85944,-100.99215,-338.84903,-64.20425,-31.477467,-92.246254,-35.735683,-22.160215,-14785.081,-329.06253,-166.38281,-111.3395,-83.662186,-1244.1838,-693.9886,-1920.0913,-201.90889,-111.734406,-88.32549,-73.02615,-607.9,-254.23024,-73.740944,-17678.83,-55.101654,-685.2943,-79.61646,-3067.4177,-1027.6718,-1818.1589,-390.23956,-125.72511,-37.86746,-26.088802,-603.5099,-82.77538,-674.4047,-365.16367,-96.16934,-55.37666,-38.88331,-29.96,-24.367863,-20.534939,-17.743927,-15.620816,-13.951474,-88.17615,-1231.7358,-91.16072,-47.33158,-31.96388,-24.129402,-27.964544,-16.192,-277.0371,-79.33563,-46.296913],[-439.60648,-78.76794,-1310.7775,-202.29404,-109.60502,-124.663704,-57.193733,-46.157722,-38.69187,-33.3049,-29.23465,-37.18,-56.394234,-116.70749,-153.85873,-45.90334,-88.38147,-1184.4877,-1336.8582,-96.87471,-46.392193,-30.498846,-22.716446,-18.098318,-462.66138,-2475.704,-83.98377,-301.71765,-74.73168,-906.00433,-34.763256,-79.11496,-116.09564,-10.910551,-10.813742,-12.275568,-59.09264,-16.944946,-290.40604,-105.80694,-1400.3615,-203.03436,-228.48383,-183.29729,-25.323027,-54.95179,-168.17073,-17.387405,-525.32117,-94.38707,-32.516068,-24.367325,-34.85498,-61.191883,-2506.2188,-2882.7302,-278.15927,-117.4526,-74.44315,-54.48977,-42.971855,-35.47351,-120.30987,-65.00125,-151.52963,-674.2472,-52.780888,-62.051712,-552.234,-209.11229,-128.9754,-161.08904,-73.0139,-1727.2429,-422.51138,-445.329,-1002.65436,-184.18657,-101.40758,-69.96371,-58.197994,-51.138634,-136.88187,-736.25977,-88.039185,-35.213108,-84.02103,-36.772537,-82.47749,-107.909096,-3295.0732,-157.7159,-1300.7017,-230.50363,-275.20715,-28.017376,-21.001888,-99.03059,-1237.0732,-303.2591,-91.26308,-53.713886,-38.05611,-29.466496,-24.040386,-20.301891,-17.569653,-15.485591,-13.843509,-12.5162945,-1207.2015,-91.02383,-47.294647,-31.947031,-24.1198,-19.373247,-16.187674,-517.066,-91.49929,-50.190506],[-255.98964,-13569.162,-81.51853,-60.799263,-183.26898,-40.30907,-34.496197,-30.148521,-37.000874,-24.079044,-29.349144,-40.146664,-63.51304,-151.9551,-220.25847,-60.19431,-112.1248,-2360.7146,-85.7898,-43.68881,-29.306667,-22.048422,-17.671741,-199.62865,-28857.908,-94.968704,-1256.81,-64.43723,-91.33953,-26.58583,-46.537857,-186.5071,-1000.4671,-9.750779,-10.431793,-11.785707,-1643.551,-151.1453,-79.215065,-77.61654,-56.57154,-53.262844,-128.82338,-110.73824,-25.165632,-58.48649,-205.74104,-14.994007,-473.22476,-57.084602,-26.541235,-25.037386,-36.24237,-65.60065,-345.36554,-463.38055,-77.90241,-56.32035,-44.10225,-36.24032,-30.757359,-47.592453,-67.714226,-47.92283,-72.37508,-1716.0604,-66223.875,-153.24908,-105.300606,-362.38196,-2455.2273,-9208.89,-303.7062,-155.28094,-330.2966,-678.4628,-169.32391,-96.73271,-67.70625,-52.07896,-43.395794,-39.3458,-212.35059,-6982.274,-109.21604,-38.173634,-176.82498,-42.11082,-157.36096,-80.7344,-167.39502,-245.6142,-432.46408,-2009.7874,-1843.9689,-30.253834,-22.233944,-3029.9236,-7466.602,-625.3879,-86.833084,-52.148052,-37.263382,-28.988983,-23.721592,-20.074066,-17.398766,-15.352689,-13.737203,-12.429328,-1183.626,-90.88734,-47.257774,-31.9302,-24.1102,-19.367056,-16.183352,-3870.4346,-108.06803,-54.799103],[-139.71738,-397.61905,-42.067375,-345.84552,-40.780876,-27.538681,-24.695686,-46.68906,-20.469276,-24.243086,-31.167198,-43.627888,-72.68906,-217.70659,-387.4829,-96.59521,-569.02625,-76.98102,-41.28307,-28.204165,-21.418547,-17.264805,-127.27223,-39.506172,-109.26129,-48.413277,-76.92151,-48.09409,-117.43817,-32.964268,-70.37405,-99.08443,-9.883545,-9.069555,-10.075899,-264.4735,-102.157364,-63.305035,-45.86263,-369.74445,-138.85164,-45.124817,-89.6984,-7342.902,-694.8372,-62.50717,-264.92603,-13.179798,-233.55533,-40.915028,-22.421408,-25.745335,-416.30817,-141.48903,-556.42004,-967.36914,-45.293808,-68.108734,-206.02112,-27.148037,-23.949776,-1142.9894,-47.117325,-429.93732,-188.77835,-120.94063,-181.89554,-1502.5837,-2267.1775,-966.7035,-237.05054,-135.0881,-1732.7286,-262.4923,-512.69714,-156.68115,-124.74232,-65.58996,-50.81778,-41.47643,-35.036083,-31.972744,-473.29886,-10632.68,-143.80707,-41.677624,-24.370262,-57.14179,-2155.4897,-58.338676,-156.10902,-373.0309,-3429.7104,-155.6798,-131.51993,-126.321815,-24.736856,-943.59656,-114.13332,-226.47307,-91.988144,-50.670914,-36.502995,-28.526707,-23.41114,-19.851303,-17.231174,-15.222047,-13.632512,-12.343565,-1160.9534,-90.751236,-47.220955,-31.91339,-538.53827,-21.274933,-16.179033,-13.895401,-131.9646,-60.339703],[-104.18209,-201.7658,-3185.741,-45.54504,-22.943077,-20.913115,-63.257496,-20.500216,-20.650385,-25.470337,-33.225346,-47.770054,-84.963715,-383.75293,-1609.2029,-323.4955,-204.24437,-39.128483,-27.18158,-20.823608,-895.7692,-93.41444,-35.510906,-128.62088,-51.87255,-95.405304,-39.67482,-54.4676,-164.41739,-43.36937,-144.26636,-403.4977,-8.984408,-1057.002,-143.80641,-77.151535,-52.716957,-40.036926,-67.229706,-50.116425,-27.353075,-39.144077,-68.80231,-283.92056,-199.44566,-67.1215,-371.91452,-354.2101,-89.24695,-31.883554,-553.8397,-148.70842,-156.44618,-76.64491,-1430.7886,-37.877956,-31.92891,-27.594898,-24.29686,-21.703,-910.88043,-245.75273,-142.0367,-99.882805,-77.02363,-62.6789,-641.7948,-510.1187,-194.38632,-222.20688,-102.88091,-1310.2161,-217.78487,-412.0251,-145.79477,-88.56707,-525.7804,-49.61616,-40.672497,-34.460697,-29.894928,-26.926865,-25.310314,-1113.9633,-210.46692,-45.889935,-25.752491,-88.85838,-34.076885,-88.8856,-231.9441,-158.95174,-525.6118,-254.37195,-335.48248,-262.6902,-278.0774,-558.81287,-105.358345,-201.02332,-113.698105,-49.64536,-35.77302,-28.078938,-23.108719,-19.63343,-17.06678,-15.093614,-13.529408,-12.258976,-1139.1329,-90.61558,-47.184196,-31.896593,-24.091036,-19.354685,-72.75588,-16.98045,-169.42934,-67.12665],[-83.057526,-1433.0945,-362.95416,-24.37768,-18.135393,-98.043686,-23.163408,-17.985104,-21.534218,-26.828472,-35.57459,-52.781406,-102.226654,-1617.3319,-225.98721,-1956.4843,-362.7721,-26.230597,-20.260878,-235.51845,-73.78488,-32.249535,-156.31499,-55.863617,-125.5843,-44.079735,-35.456005,-62.788464,-274.04507,-63.372704,-86.42106,-9.096982,-242.79237,-98.75132,-61.98026,-45.16327,-35.52448,-36.976692,-213.01859,-105.49955,-25.034536,-34.563194,-55.80286,-144.76082,-116.43377,-72.47141,-623.86786,-364.4871,-827.0867,-163.18333,-90.52166,-174.93929,-72.79947,-83.689735,-443.89285,-28.056728,-24.654182,-21.987652,-351.9838,-172.04793,-113.84823,-85.07077,-324.39993,-3298.1821,-373.80923,-346.47864,-164.73785,-108.0577,-417.8586,-129.5081,-647.1322,-186.09024,-344.40155,-136.32324,-84.98035,-61.730892,-48.470123,-47.348785,-33.903927,-29.475016,-26.069532,-23.369467,-22.040733,-122.07383,-392.32022,-51.049404,-27.300926,-199.7014,-43.29189,-186.58414,-451.06134,-241.01735,-197.707,-773.52014,-537.6608,-308.677,-94881.73,-461.6684,-97.83633,-180.71548,-148.82108,-55.34914,-35.071682,-27.645008,-22.814003,-19.420284,-16.90549,-14.967326,-13.427854,-12.175536,-1118.1178,-90.48031,-47.14749,-31.87982,-24.081465,-19.348509,-16.170399,-13.889032,-236.60031,-75.63399],[-69.05545,-101.63862,-192.43967,-1804.7488,-217.83858,-26.622858,-16.44173,-18.823036,-22.497108,-28.339619,-38.281296,-58.96742,-128.29317,-173.64697,-4279.417,-90.19244,-1620.4713,-19.727753,-135.58298,-60.972733,-29.536764,-199.20839,-60.521492,-183.68518,-49.58503,-28.660866,-38.803417,-74.11003,-822.3757,-117.62595,-778.9693,-137.14658,-75.192566,-51.794983,-195.27907,-31.926115,-26.788078,-59.295795,-44.98415,-18.401634,-23.078325,-30.942146,-46.934868,-97.14555,-82.21473,-1002.5441,-1934.0632,-204.41531,-95.6887,-65.06364,-198.39053,-76.56582,-47.436634,-92.16068,-889.9666,-619.98566,-218.13876,-132.35324,-94.99526,-74.084305,-60.71859,-704.1015,-1592.4274,-2166.9062,-142.93675,-121.8704,-75.30075,-66.78512,-311.65533,-1298.7126,-162.44865,-295.84436,-173.03181,-81.67268,-59.966724,-47.375774,-39.154648,-59.41111,-29.066725,-25.749617,-23.112064,-20.964638,-19.519226,-167.383,-2885.7957,-57.51604,-29.047493,-19.430176,-59.338463,-28.617134,-8156.1714,-498.26587,-93.21056,-566.631,-54475.88,-183.02629,-141.40738,-5472.4307,-94.28217,-164.13434,-215.34395,-62.533665,-36.577736,-27.224289,-22.526718,-19.21172,-16.747223,-14.843135,-13.327811,-12.093226,-1097.864,-90.345436,-47.11084,-31.863058,-24.071901,-19.34233,-16.166086,-13.88585,-392.02072,-86.61056],[-70.1219,-81.43295,-130.92952,-333.8504,-31.295778,-16.063093,-18.328314,-21.33742,-25.52851,-31.768692,-42.046146,-66.79586,-172.20229,-1427.488,-51.498196,-111.75806,-19.221981,-557.6088,-51.951756,-27.244978,-274.56314,-66.026024,-341.83762,-56.661457,-30.890888,-28.07779,-42.848797,-90.412605,-57.638214,-817.3592,-95.56467,-60.709663,-44.48485,-35.1034,-51.027252,-24.689713,-34.44117,-149.58153,-85.06647,-17.322351,-21.405672,-28.007847,-40.498913,-73.10085,-62216.33,-218.71521,-267.16776,-84.63794,-50.781868,-229.10469,-80.7434,-49.00757,-2598.4478,-297.96103,-251.02722,-107.54141,-81.49931,-65.61103,-6048.672,-394.12134,-643.57324,-755.16455,-1318.0715,-90.04126,-69.978584,-74.18141,-52.24377,-9027.725,-1380.9681,-160.03748,-760.48303,-120.64729,-78.61301,-58.300667,-46.329792,-38.437435,-32.842644,-97.46436,-29.220713,-22.860281,-20.757263,-19.008577,-17.634272,-266.1783,-269.19022,-65.85864,-31.03281,-20.298832,-94.28582,-34.84611,-97.51233,-96.235466,-83.5631,-363.67715,-1168.0621,-235.60814,-494.8612,-305.31573,-281.01733,-150.34018,-389.4096,-71.86159,-39.58313,-27.314207,-22.246574,-19.007587,-16.591892,-14.720986,-13.229248,-12.012021,-1078.3309,-90.21097,-47.074257,-31.84632,-24.062338,-19.33616,-16.161776,-13.8826685,-1142.5032,-101.314026],[-51.64316,-67.928734,-99.216515,-183.93767,-1258.9655,-17.858976,-20.703909,-24.627127,-30.384365,-39.65542,-57.06774,-118.67426,-468.51416,-485.07883,-57.874893,-146.87769,-215.46793,-45.256046,-25.283308,-441.5489,-72.63271,-2459.7502,-66.09396,-33.497147,-22.43332,-30.136555,-47.83582,-616.7692,-131.07748,-183.96146,-50.904835,-38.982983,-31.585657,-1194.9773,-29.348022,-24.269241,-53.03612,-40.805096,-780.86804,-16.36267,-19.9591,-25.581907,-534.393,-230.49184,-165.19833,-122.74723,-296.3577,-53.366817,-271.0676,-85.40289,-469.92114,-196.1048,-123.906334,-115.552956,-351.43454,-58.877174,-779.8,-273.6471,-403.27518,-176.56113,-113.02232,-117.07191,-65.720535,-55.909264,-620.0326,-53.317673,-15877.057,-256.9742,-253.46478,-230.77277,-216.19865,-75.77417,-56.724606,-45.328957,-37.746002,-32.336517,-28.283175,-333.32214,-33.40566,-20.553936,-18.837927,-17.394386,-16.308357,-649.59155,-877.4746,-77.03187,-33.309395,-21.248787,-229.37953,-44.540955,-229.13344,-120.528595,-101.782326,-2458.4277,-241.4245,-320.8413,-1273.4073,-297.78732,-678.3623,-138.68486,-2031.551,-84.46028,-43.126625,-28.955938,-21.973312,-18.807747,-16.439419,-14.600835,-13.132131,-11.931902,-1059.4805,-90.0769,-47.037712,-31.829596,-24.052795,-19.329992,-16.157467,-13.87949,-12.164478,-122.030334],[-45.861214,-58.2663,-79.87069,-126.93744,-309.06436,-20.106964,-23.786972,-29.115974,-37.521736,-52.75088,-102.457115,-280.23566,-545.82965,-9789.286,-66.05386,-214.18431,-40.089317,-23.58505,-1127.1223,-80.707214,-41.852013,-79.29484,-36.5837,-23.776737,-23.241379,-32.521114,-208.5898,-161.43842,-357.99225,-43.82651,-34.69217,-28.708689,-24.485569,-154.83952,-20.597164,-32.231846,-115.26284,-71.264435,-13.242781,-15.503725,-718.4654,-267.23157,-115.459206,-73.637375,-105.940865,-106.39047,-1799.4867,-1111.2097,-258.31644,-146.14508,-101.89716,-78.21595,-63.466217,-36431.14,-585.70703,-4514.968,-293.63824,-151.75392,-102.315575,-77.17391,-61.950974,-63.454594,-46.783348,-42.110416,-145.18265,-1183.3829,-213.9728,-4478.1533,-270.08862,-108.2048,-98.97147,-333.08698,-44.370502,-45.23126,-31.84578,-27.907038,-51.427322,-252.0295,-38.9923,-21.130192,-17.243502,-16.10298,-15.167885,-195.67845,-400.8322,-92.771065,-35.946465,-22.292023,-16.15535,-61.71079,-29.15754,-161.22783,-130.16171,-53.259247,-375.7362,-1177.9451,-1601.2379,-222.0308,-9109.071,-128.70665,-64.8112,-102.41553,-47.3669,-30.807625,-22.827332,-18.612064,-16.289715,-14.482625,-13.036429,-11.852843,-1041.2778,-89.94322,-47.001236,-31.812887,-24.043251,-19.323832,-16.153162,-13.876313,-12.162039,-153.39673],[-41.243595,-66.11052,-66.83819,-96.90706,-176.15428,-966.6496,-27.949038,-35.60609,-49.041283,-90.1386,-199.907,-1345.0325,-134.7644,-366.9842,-96.74096,-395.35043,-22.100664,-1623.3275,-90.802185,-44.412506,-99.08421,-40.296997,-25.291384,-18.913914,-510.45706,-125.521736,-71.55909,-265.86743,-144.61682,-31.252333,-26.312107,-22.72054,-19.991703,-47.767384,-23.150866,-47.972355,-37.335968,-281.0902,-1095.9452,-317.90997,-123.99952,-77.02044,-55.85792,-43.818222,-77.971954,-551.6227,-427.77048,-116.47242,-86.52746,-68.831085,-57.144104,-873.7457,-284.3768,-871.5815,-1756.9242,-133.05885,-93.46198,-72.02742,-58.59031,-186.27809,-321.19687,-43.522083,-36.71597,-33.77457,-614.5962,-183.2998,-1170.3287,-273.38715,-119.63418,-70.670265,-64.174706,-117.91399,-725.1322,-72.83483,-27.540756,-24.544851,-22.136791,-20.15902,-53.71024,-23.235357,-15.90271,-14.990072,-14.176498,-397.76514,-151768.61,-116.59351,-39.036987,-23.442986,-16.751377,-100.41949,-35.650616,-243.42671,-180.48526,-56.680283,-43633.117,-153.38943,-160.89728,-315.47656,-1495.2339,-364.4044,-284.0142,-130.06606,-70.698044,-32.91233,-23.962772,-18.839825,-16.14272,-14.366317,-12.942113,-11.774823,-1023.6901,-89.80995,-46.964813,-31.796202,-24.033716,-19.317675,-16.148855,-13.873136,-12.159597,-206.46559]],\"type\":\"heatmap\",\"xaxis\":\"x2\",\"yaxis\":\"y2\",\"hovertemplate\":\"x: %{x}\\u003cbr\\u003ey: %{y}\\u003cbr\\u003ecolor: %{z}\\u003cextra\\u003e\\u003c\\u002fextra\\u003e\"}],                        {\"template\":{\"data\":{\"histogram2dcontour\":[{\"type\":\"histogram2dcontour\",\"colorbar\":{\"outlinewidth\":0,\"ticks\":\"\"},\"colorscale\":[[0.0,\"#0d0887\"],[0.1111111111111111,\"#46039f\"],[0.2222222222222222,\"#7201a8\"],[0.3333333333333333,\"#9c179e\"],[0.4444444444444444,\"#bd3786\"],[0.5555555555555556,\"#d8576b\"],[0.6666666666666666,\"#ed7953\"],[0.7777777777777778,\"#fb9f3a\"],[0.8888888888888888,\"#fdca26\"],[1.0,\"#f0f921\"]]}],\"choropleth\":[{\"type\":\"choropleth\",\"colorbar\":{\"outlinewidth\":0,\"ticks\":\"\"}}],\"histogram2d\":[{\"type\":\"histogram2d\",\"colorbar\":{\"outlinewidth\":0,\"ticks\":\"\"},\"colorscale\":[[0.0,\"#0d0887\"],[0.1111111111111111,\"#46039f\"],[0.2222222222222222,\"#7201a8\"],[0.3333333333333333,\"#9c179e\"],[0.4444444444444444,\"#bd3786\"],[0.5555555555555556,\"#d8576b\"],[0.6666666666666666,\"#ed7953\"],[0.7777777777777778,\"#fb9f3a\"],[0.8888888888888888,\"#fdca26\"],[1.0,\"#f0f921\"]]}],\"heatmap\":[{\"type\":\"heatmap\",\"colorbar\":{\"outlinewidth\":0,\"ticks\":\"\"},\"colorscale\":[[0.0,\"#0d0887\"],[0.1111111111111111,\"#46039f\"],[0.2222222222222222,\"#7201a8\"],[0.3333333333333333,\"#9c179e\"],[0.4444444444444444,\"#bd3786\"],[0.5555555555555556,\"#d8576b\"],[0.6666666666666666,\"#ed7953\"],[0.7777777777777778,\"#fb9f3a\"],[0.8888888888888888,\"#fdca26\"],[1.0,\"#f0f921\"]]}],\"heatmapgl\":[{\"type\":\"heatmapgl\",\"colorbar\":{\"outlinewidth\":0,\"ticks\":\"\"},\"colorscale\":[[0.0,\"#0d0887\"],[0.1111111111111111,\"#46039f\"],[0.2222222222222222,\"#7201a8\"],[0.3333333333333333,\"#9c179e\"],[0.4444444444444444,\"#bd3786\"],[0.5555555555555556,\"#d8576b\"],[0.6666666666666666,\"#ed7953\"],[0.7777777777777778,\"#fb9f3a\"],[0.8888888888888888,\"#fdca26\"],[1.0,\"#f0f921\"]]}],\"contourcarpet\":[{\"type\":\"contourcarpet\",\"colorbar\":{\"outlinewidth\":0,\"ticks\":\"\"}}],\"contour\":[{\"type\":\"contour\",\"colorbar\":{\"outlinewidth\":0,\"ticks\":\"\"},\"colorscale\":[[0.0,\"#0d0887\"],[0.1111111111111111,\"#46039f\"],[0.2222222222222222,\"#7201a8\"],[0.3333333333333333,\"#9c179e\"],[0.4444444444444444,\"#bd3786\"],[0.5555555555555556,\"#d8576b\"],[0.6666666666666666,\"#ed7953\"],[0.7777777777777778,\"#fb9f3a\"],[0.8888888888888888,\"#fdca26\"],[1.0,\"#f0f921\"]]}],\"surface\":[{\"type\":\"surface\",\"colorbar\":{\"outlinewidth\":0,\"ticks\":\"\"},\"colorscale\":[[0.0,\"#0d0887\"],[0.1111111111111111,\"#46039f\"],[0.2222222222222222,\"#7201a8\"],[0.3333333333333333,\"#9c179e\"],[0.4444444444444444,\"#bd3786\"],[0.5555555555555556,\"#d8576b\"],[0.6666666666666666,\"#ed7953\"],[0.7777777777777778,\"#fb9f3a\"],[0.8888888888888888,\"#fdca26\"],[1.0,\"#f0f921\"]]}],\"mesh3d\":[{\"type\":\"mesh3d\",\"colorbar\":{\"outlinewidth\":0,\"ticks\":\"\"}}],\"scatter\":[{\"fillpattern\":{\"fillmode\":\"overlay\",\"size\":10,\"solidity\":0.2},\"type\":\"scatter\"}],\"parcoords\":[{\"type\":\"parcoords\",\"line\":{\"colorbar\":{\"outlinewidth\":0,\"ticks\":\"\"}}}],\"scatterpolargl\":[{\"type\":\"scatterpolargl\",\"marker\":{\"colorbar\":{\"outlinewidth\":0,\"ticks\":\"\"}}}],\"bar\":[{\"error_x\":{\"color\":\"#2a3f5f\"},\"error_y\":{\"color\":\"#2a3f5f\"},\"marker\":{\"line\":{\"color\":\"#E5ECF6\",\"width\":0.5},\"pattern\":{\"fillmode\":\"overlay\",\"size\":10,\"solidity\":0.2}},\"type\":\"bar\"}],\"scattergeo\":[{\"type\":\"scattergeo\",\"marker\":{\"colorbar\":{\"outlinewidth\":0,\"ticks\":\"\"}}}],\"scatterpolar\":[{\"type\":\"scatterpolar\",\"marker\":{\"colorbar\":{\"outlinewidth\":0,\"ticks\":\"\"}}}],\"histogram\":[{\"marker\":{\"pattern\":{\"fillmode\":\"overlay\",\"size\":10,\"solidity\":0.2}},\"type\":\"histogram\"}],\"scattergl\":[{\"type\":\"scattergl\",\"marker\":{\"colorbar\":{\"outlinewidth\":0,\"ticks\":\"\"}}}],\"scatter3d\":[{\"type\":\"scatter3d\",\"line\":{\"colorbar\":{\"outlinewidth\":0,\"ticks\":\"\"}},\"marker\":{\"colorbar\":{\"outlinewidth\":0,\"ticks\":\"\"}}}],\"scattermapbox\":[{\"type\":\"scattermapbox\",\"marker\":{\"colorbar\":{\"outlinewidth\":0,\"ticks\":\"\"}}}],\"scatterternary\":[{\"type\":\"scatterternary\",\"marker\":{\"colorbar\":{\"outlinewidth\":0,\"ticks\":\"\"}}}],\"scattercarpet\":[{\"type\":\"scattercarpet\",\"marker\":{\"colorbar\":{\"outlinewidth\":0,\"ticks\":\"\"}}}],\"carpet\":[{\"aaxis\":{\"endlinecolor\":\"#2a3f5f\",\"gridcolor\":\"white\",\"linecolor\":\"white\",\"minorgridcolor\":\"white\",\"startlinecolor\":\"#2a3f5f\"},\"baxis\":{\"endlinecolor\":\"#2a3f5f\",\"gridcolor\":\"white\",\"linecolor\":\"white\",\"minorgridcolor\":\"white\",\"startlinecolor\":\"#2a3f5f\"},\"type\":\"carpet\"}],\"table\":[{\"cells\":{\"fill\":{\"color\":\"#EBF0F8\"},\"line\":{\"color\":\"white\"}},\"header\":{\"fill\":{\"color\":\"#C8D4E3\"},\"line\":{\"color\":\"white\"}},\"type\":\"table\"}],\"barpolar\":[{\"marker\":{\"line\":{\"color\":\"#E5ECF6\",\"width\":0.5},\"pattern\":{\"fillmode\":\"overlay\",\"size\":10,\"solidity\":0.2}},\"type\":\"barpolar\"}],\"pie\":[{\"automargin\":true,\"type\":\"pie\"}]},\"layout\":{\"autotypenumbers\":\"strict\",\"colorway\":[\"#636efa\",\"#EF553B\",\"#00cc96\",\"#ab63fa\",\"#FFA15A\",\"#19d3f3\",\"#FF6692\",\"#B6E880\",\"#FF97FF\",\"#FECB52\"],\"font\":{\"color\":\"#2a3f5f\"},\"hovermode\":\"closest\",\"hoverlabel\":{\"align\":\"left\"},\"paper_bgcolor\":\"white\",\"plot_bgcolor\":\"#E5ECF6\",\"polar\":{\"bgcolor\":\"#E5ECF6\",\"angularaxis\":{\"gridcolor\":\"white\",\"linecolor\":\"white\",\"ticks\":\"\"},\"radialaxis\":{\"gridcolor\":\"white\",\"linecolor\":\"white\",\"ticks\":\"\"}},\"ternary\":{\"bgcolor\":\"#E5ECF6\",\"aaxis\":{\"gridcolor\":\"white\",\"linecolor\":\"white\",\"ticks\":\"\"},\"baxis\":{\"gridcolor\":\"white\",\"linecolor\":\"white\",\"ticks\":\"\"},\"caxis\":{\"gridcolor\":\"white\",\"linecolor\":\"white\",\"ticks\":\"\"}},\"coloraxis\":{\"colorbar\":{\"outlinewidth\":0,\"ticks\":\"\"}},\"colorscale\":{\"sequential\":[[0.0,\"#0d0887\"],[0.1111111111111111,\"#46039f\"],[0.2222222222222222,\"#7201a8\"],[0.3333333333333333,\"#9c179e\"],[0.4444444444444444,\"#bd3786\"],[0.5555555555555556,\"#d8576b\"],[0.6666666666666666,\"#ed7953\"],[0.7777777777777778,\"#fb9f3a\"],[0.8888888888888888,\"#fdca26\"],[1.0,\"#f0f921\"]],\"sequentialminus\":[[0.0,\"#0d0887\"],[0.1111111111111111,\"#46039f\"],[0.2222222222222222,\"#7201a8\"],[0.3333333333333333,\"#9c179e\"],[0.4444444444444444,\"#bd3786\"],[0.5555555555555556,\"#d8576b\"],[0.6666666666666666,\"#ed7953\"],[0.7777777777777778,\"#fb9f3a\"],[0.8888888888888888,\"#fdca26\"],[1.0,\"#f0f921\"]],\"diverging\":[[0,\"#8e0152\"],[0.1,\"#c51b7d\"],[0.2,\"#de77ae\"],[0.3,\"#f1b6da\"],[0.4,\"#fde0ef\"],[0.5,\"#f7f7f7\"],[0.6,\"#e6f5d0\"],[0.7,\"#b8e186\"],[0.8,\"#7fbc41\"],[0.9,\"#4d9221\"],[1,\"#276419\"]]},\"xaxis\":{\"gridcolor\":\"white\",\"linecolor\":\"white\",\"ticks\":\"\",\"title\":{\"standoff\":15},\"zerolinecolor\":\"white\",\"automargin\":true,\"zerolinewidth\":2},\"yaxis\":{\"gridcolor\":\"white\",\"linecolor\":\"white\",\"ticks\":\"\",\"title\":{\"standoff\":15},\"zerolinecolor\":\"white\",\"automargin\":true,\"zerolinewidth\":2},\"scene\":{\"xaxis\":{\"backgroundcolor\":\"#E5ECF6\",\"gridcolor\":\"white\",\"linecolor\":\"white\",\"showbackground\":true,\"ticks\":\"\",\"zerolinecolor\":\"white\",\"gridwidth\":2},\"yaxis\":{\"backgroundcolor\":\"#E5ECF6\",\"gridcolor\":\"white\",\"linecolor\":\"white\",\"showbackground\":true,\"ticks\":\"\",\"zerolinecolor\":\"white\",\"gridwidth\":2},\"zaxis\":{\"backgroundcolor\":\"#E5ECF6\",\"gridcolor\":\"white\",\"linecolor\":\"white\",\"showbackground\":true,\"ticks\":\"\",\"zerolinecolor\":\"white\",\"gridwidth\":2}},\"shapedefaults\":{\"line\":{\"color\":\"#2a3f5f\"}},\"annotationdefaults\":{\"arrowcolor\":\"#2a3f5f\",\"arrowhead\":0,\"arrowwidth\":1},\"geo\":{\"bgcolor\":\"white\",\"landcolor\":\"#E5ECF6\",\"subunitcolor\":\"white\",\"showland\":true,\"showlakes\":true,\"lakecolor\":\"white\"},\"title\":{\"x\":0.05},\"mapbox\":{\"style\":\"light\"}}},\"xaxis\":{\"anchor\":\"y\",\"domain\":[0.0,0.49],\"scaleanchor\":\"y\",\"constrain\":\"domain\"},\"yaxis\":{\"anchor\":\"x\",\"domain\":[0.0,1.0],\"autorange\":true,\"constrain\":\"domain\"},\"xaxis2\":{\"anchor\":\"y2\",\"domain\":[0.51,1.0],\"matches\":\"x\"},\"yaxis2\":{\"anchor\":\"x2\",\"domain\":[0.0,1.0],\"matches\":\"y\",\"showticklabels\":false},\"annotations\":[{\"font\":{},\"showarrow\":false,\"text\":\"Intersects\",\"x\":0.245,\"xanchor\":\"center\",\"xref\":\"paper\",\"y\":1.0,\"yanchor\":\"bottom\",\"yref\":\"paper\"},{\"font\":{},\"showarrow\":false,\"text\":\"Distance\",\"x\":0.755,\"xanchor\":\"center\",\"xref\":\"paper\",\"y\":1.0,\"yanchor\":\"bottom\",\"yref\":\"paper\"}],\"coloraxis\":{\"colorscale\":[[0.0,\"#000004\"],[0.1111111111111111,\"#180f3d\"],[0.2222222222222222,\"#440f76\"],[0.3333333333333333,\"#721f81\"],[0.4444444444444444,\"#9e2f7f\"],[0.5555555555555556,\"#cd4071\"],[0.6666666666666666,\"#f1605d\"],[0.7777777777777778,\"#fd9668\"],[0.8888888888888888,\"#feca8d\"],[1.0,\"#fcfdbf\"]],\"showscale\":false},\"margin\":{\"t\":60},\"width\":1000},                        {\"responsive\": true}                    ).then(function(){\n",
              "                            \n",
              "var gd = document.getElementById('61adbbae-6a9c-44a8-8e59-728490fe8244');\n",
              "var x = new MutationObserver(function (mutations, observer) {{\n",
              "        var display = window.getComputedStyle(gd).display;\n",
              "        if (!display || display === 'none') {{\n",
              "            console.log([gd, 'removed!']);\n",
              "            Plotly.purge(gd);\n",
              "            observer.disconnect();\n",
              "        }}\n",
              "}});\n",
              "\n",
              "// Listen for the removal of the full notebook cells\n",
              "var notebookContainer = gd.closest('#notebook-container');\n",
              "if (notebookContainer) {{\n",
              "    x.observe(notebookContainer, {childList: true});\n",
              "}}\n",
              "\n",
              "// Listen for the clearing of the current output cell\n",
              "var outputEl = gd.closest('.output');\n",
              "if (outputEl) {{\n",
              "    x.observe(outputEl, {childList: true});\n",
              "}}\n",
              "\n",
              "                        })                };                            </script>        </div>\n",
              "</body>\n",
              "</html>"
            ]
          },
          "metadata": {}
        }
      ],
      "source": [
        "def raytrace_mesh(\n",
        "    rays: Float[Tensor, \"nrays rayPoints=2 dims=3\"], triangles: Float[Tensor, \"ntriangles trianglePoints=3 dims=3\"]\n",
        ") -> Float[Tensor, \"nrays\"]:\n",
        "    \"\"\"\n",
        "    For each ray, return the distance to the closest intersecting triangle, or infinity.\n",
        "    \"\"\"\n",
        "    NR = rays.shape[0]\n",
        "    NT = triangles.shape[0]\n",
        "    #batched for multiple rays and multiple triangles at once\n",
        "    A = triangles[:, 0]\n",
        "    B = triangles[:, 1]\n",
        "    C = triangles[:, 2]\n",
        "    O = rays[:, 0] #origin\n",
        "    D = rays[:, 1] #direction point\n",
        "\n",
        "    #get ready to broadcast\n",
        "    A = A[None, ...]\n",
        "    B = B[None, ...]\n",
        "    C = C[None, ...]\n",
        "    O = O[:, None, ...]\n",
        "    D = einops.repeat(D, 'i k -> i j k', j = NT)\n",
        "\n",
        "    #-D, B-A, C-A\n",
        "    #O-A\n",
        "    #need broadcasting to run all pairs\n",
        "    vecs = O-A #every possible pair\n",
        "    mats = t.stack([-D, einops.repeat(B-A, 'i j k -> (a i) j k', a=NR), einops.repeat(C-A, 'i j k -> (a i) j k', a=NR)], dim=-1)\n",
        "\n",
        "    #check for determinant\n",
        "    is_singular = t.linalg.det(mats) <= 1e-8\n",
        "    mats[is_singular] = t.eye(3)\n",
        "    sol = t.linalg.solve(mats, vecs)\n",
        "\n",
        "    s, u, v = sol.unbind(-1)\n",
        "    ans = (s >= 0) & (u >= 0) & (v >= 0) & (u+v <= 1)\n",
        "    s[is_singular] = float('inf')\n",
        "    # min pooling\n",
        "    return einops.reduce(s, 'i j -> i', 'min', j=NT)\n",
        "\n",
        "num_pixels_y = 120\n",
        "num_pixels_z = 120\n",
        "y_limit = z_limit = 1\n",
        "\n",
        "rays = make_rays_2d(num_pixels_y, num_pixels_z, y_limit, z_limit)\n",
        "rays[:, 0] = t.tensor([-2, 0.0, 0.0])\n",
        "dists = raytrace_mesh(rays, triangles)\n",
        "intersects = t.isfinite(dists).view(num_pixels_y, num_pixels_z)\n",
        "dists_square = dists.view(num_pixels_y, num_pixels_z)\n",
        "img = t.stack([intersects, dists_square], dim=0)\n",
        "\n",
        "fig = px.imshow(img, facet_col=0, origin=\"lower\", color_continuous_scale=\"magma\", width=1000)\n",
        "fig.update_layout(coloraxis_showscale=False)\n",
        "for i, text in enumerate([\"Intersects\", \"Distance\"]):\n",
        "    fig.layout.annotations[i][\"text\"] = text\n",
        "fig.show()"
      ]
    },
    {
      "cell_type": "markdown",
      "metadata": {
        "id": "bXZlRgEac7B8"
      },
      "source": [
        "<details><summary>Solution</summary>\n",
        "\n",
        "```python\n",
        "def raytrace_mesh(\n",
        "    rays: Float[Tensor, \"nrays rayPoints=2 dims=3\"], triangles: Float[Tensor, \"ntriangles trianglePoints=3 dims=3\"]\n",
        ") -> Float[Tensor, \"nrays\"]:\n",
        "    \"\"\"\n",
        "    For each ray, return the distance to the closest intersecting triangle, or infinity.\n",
        "    \"\"\"\n",
        "    NR = rays.size(0)\n",
        "    NT = triangles.size(0)\n",
        "\n",
        "    # Each triangle is [[Ax, Ay, Az], [Bx, By, Bz], [Cx, Cy, Cz]]\n",
        "    triangles = einops.repeat(triangles, \"NT pts dims -> pts NR NT dims\", NR=NR)\n",
        "    A, B, C = triangles\n",
        "    assert A.shape == (NR, NT, 3)\n",
        "\n",
        "    # Each ray is [[Ox, Oy, Oz], [Dx, Dy, Dz]]\n",
        "    rays = einops.repeat(rays, \"NR pts dims -> pts NR NT dims\", NT=NT)\n",
        "    O, D = rays\n",
        "    assert O.shape == (NR, NT, 3)\n",
        "\n",
        "    # Define matrix on left hand side of equation\n",
        "    mat: Float[Tensor, \"NR NT 3 3\"] = t.stack([-D, B - A, C - A], dim=-1)\n",
        "    # Get boolean of where matrix is singular, and replace it with the identity in these positions\n",
        "    dets: Float[Tensor, \"NR NT\"] = t.linalg.det(mat)\n",
        "    is_singular = dets.abs() < 1e-8\n",
        "    mat[is_singular] = t.eye(3)\n",
        "\n",
        "    # Define vector on the right hand side of equation\n",
        "    vec: Float[Tensor, \"NR NT 3\"] = O - A\n",
        "\n",
        "    # Solve eqns (note, s is the distance along ray)\n",
        "    sol: Float[Tensor, \"NR NT 3\"] = t.linalg.solve(mat, vec)\n",
        "    s, u, v = sol.unbind(-1)\n",
        "\n",
        "    # Get boolean of intersects, and use it to set distance to infinity wherever there is no intersection\n",
        "    intersects = (u >= 0) & (v >= 0) & (u + v <= 1) & ~is_singular\n",
        "    s[~intersects] = float(\"inf\")  # t.inf\n",
        "\n",
        "    # Get the minimum distance (over all triangles) for each ray\n",
        "    return einops.reduce(s, \"NR NT -> NR\", \"min\")\n",
        "\n",
        "\n",
        "num_pixels_y = 120\n",
        "num_pixels_z = 120\n",
        "y_limit = z_limit = 1\n",
        "\n",
        "rays = make_rays_2d(num_pixels_y, num_pixels_z, y_limit, z_limit)\n",
        "rays[:, 0] = t.tensor([-2, 0.0, 0.0])\n",
        "dists = raytrace_mesh(rays, triangles)\n",
        "intersects = t.isfinite(dists).view(num_pixels_y, num_pixels_z)\n",
        "dists_square = dists.view(num_pixels_y, num_pixels_z)\n",
        "img = t.stack([intersects, dists_square], dim=0)\n",
        "\n",
        "fig = px.imshow(img, facet_col=0, origin=\"lower\", color_continuous_scale=\"magma\", width=1000)\n",
        "fig.update_layout(coloraxis_showscale=False)\n",
        "for i, text in enumerate([\"Intersects\", \"Distance\"]):\n",
        "    fig.layout.annotations[i][\"text\"] = text\n",
        "fig.show()\n",
        "```\n",
        "</details>"
      ]
    },
    {
      "cell_type": "markdown",
      "metadata": {
        "id": "nKTaJFgdc7B8"
      },
      "source": [
        "Congratulations, you've now got to the end of the exercises! Read on for some more bonus material."
      ]
    },
    {
      "cell_type": "markdown",
      "metadata": {
        "id": "epG6ixxSc7B8"
      },
      "source": [
        "# 4️⃣ Video & Lighting\n",
        "\n",
        "> ##### Learning Objectives\n",
        ">\n",
        "> - Learn how surface normal vectors can be used to compute lighting effects\n",
        "> - Render your figures in video form (as an animated camera pan)\n",
        "> - (optional) Learn about the `pytest` library, and write your own tests for the functions you wrote"
      ]
    },
    {
      "cell_type": "markdown",
      "metadata": {
        "id": "Sy3IpSZic7B8"
      },
      "source": [
        "Here, we've included some more raytracing exercises, which extend the previous animation by providing video and lighting."
      ]
    },
    {
      "cell_type": "markdown",
      "metadata": {
        "id": "Lu-5TtjDc7B8"
      },
      "source": [
        "### Exercise - rotation matrix\n",
        "\n",
        "> ```yaml\n",
        "> Difficulty: 🔴🔴⚪⚪⚪\n",
        "> Importance: 🔵🔵🔵⚪⚪\n",
        ">\n",
        "> You should spend up to 10-15 minutes on this exercise.\n",
        "> ```\n",
        "\n",
        "Below is some code to iterate through a range of angles, rotating the pikachu model around the y-axis and raytracing the mesh at each angle. These frames are then concatenated together and animated into some dramatic footage! Your job is to fill in the `rotation_matrix` function, which should give you a matrix that rotates counterclockwise around the y-axis by a given angle `theta` (which is a scalar tensor). If you're stuck, see [this Wikipedia page](https://en.wikipedia.org/wiki/Rotation_matrix#Basic_3D_rotations) on basic 3D rotations."
      ]
    },
    {
      "cell_type": "code",
      "execution_count": 42,
      "metadata": {
        "colab": {
          "base_uri": "https://localhost:8080/",
          "height": 329
        },
        "id": "Nh_LiTXCc7B8",
        "outputId": "4115e868-4781-46e8-f78c-a64bc2310ca2"
      },
      "outputs": [
        {
          "output_type": "error",
          "ename": "NotImplementedError",
          "evalue": "",
          "traceback": [
            "\u001b[0;31m---------------------------------------------------------------------------\u001b[0m",
            "\u001b[0;31mNotImplementedError\u001b[0m                       Traceback (most recent call last)",
            "\u001b[0;32m/tmp/ipython-input-42-3046110796.py\u001b[0m in \u001b[0;36m<cell line: 0>\u001b[0;34m()\u001b[0m\n\u001b[1;32m      6\u001b[0m \u001b[0;34m\u001b[0m\u001b[0m\n\u001b[1;32m      7\u001b[0m \u001b[0;34m\u001b[0m\u001b[0m\n\u001b[0;32m----> 8\u001b[0;31m \u001b[0mtests\u001b[0m\u001b[0;34m.\u001b[0m\u001b[0mtest_rotation_matrix\u001b[0m\u001b[0;34m(\u001b[0m\u001b[0mrotation_matrix\u001b[0m\u001b[0;34m)\u001b[0m\u001b[0;34m\u001b[0m\u001b[0;34m\u001b[0m\u001b[0m\n\u001b[0m",
            "\u001b[0;32m/content/chapter0_fundamentals/exercises/part1_ray_tracing/tests.py\u001b[0m in \u001b[0;36mtest_rotation_matrix\u001b[0;34m(rotation_matrix)\u001b[0m\n\u001b[1;32m     76\u001b[0m \u001b[0;34m\u001b[0m\u001b[0m\n\u001b[1;32m     77\u001b[0m \u001b[0;32mdef\u001b[0m \u001b[0mtest_rotation_matrix\u001b[0m\u001b[0;34m(\u001b[0m\u001b[0mrotation_matrix\u001b[0m\u001b[0;34m)\u001b[0m\u001b[0;34m:\u001b[0m\u001b[0;34m\u001b[0m\u001b[0;34m\u001b[0m\u001b[0m\n\u001b[0;32m---> 78\u001b[0;31m     \u001b[0mid\u001b[0m \u001b[0;34m=\u001b[0m \u001b[0mrotation_matrix\u001b[0m\u001b[0;34m(\u001b[0m\u001b[0mt\u001b[0m\u001b[0;34m.\u001b[0m\u001b[0mtensor\u001b[0m\u001b[0;34m(\u001b[0m\u001b[0;36m0.0\u001b[0m\u001b[0;34m)\u001b[0m\u001b[0;34m)\u001b[0m\u001b[0;34m\u001b[0m\u001b[0;34m\u001b[0m\u001b[0m\n\u001b[0m\u001b[1;32m     79\u001b[0m     \u001b[0mid_expected\u001b[0m \u001b[0;34m=\u001b[0m \u001b[0mt\u001b[0m\u001b[0;34m.\u001b[0m\u001b[0meye\u001b[0m\u001b[0;34m(\u001b[0m\u001b[0;36m3\u001b[0m\u001b[0;34m)\u001b[0m\u001b[0;34m\u001b[0m\u001b[0;34m\u001b[0m\u001b[0m\n\u001b[1;32m     80\u001b[0m     \u001b[0mt\u001b[0m\u001b[0;34m.\u001b[0m\u001b[0mtesting\u001b[0m\u001b[0;34m.\u001b[0m\u001b[0massert_close\u001b[0m\u001b[0;34m(\u001b[0m\u001b[0mid\u001b[0m\u001b[0;34m,\u001b[0m \u001b[0mid_expected\u001b[0m\u001b[0;34m)\u001b[0m\u001b[0;34m\u001b[0m\u001b[0;34m\u001b[0m\u001b[0m\n",
            "\u001b[0;32m/tmp/ipython-input-42-3046110796.py\u001b[0m in \u001b[0;36mrotation_matrix\u001b[0;34m(theta)\u001b[0m\n\u001b[1;32m      3\u001b[0m     \u001b[0mCreates\u001b[0m \u001b[0ma\u001b[0m \u001b[0mrotation\u001b[0m \u001b[0mmatrix\u001b[0m \u001b[0mrepresenting\u001b[0m \u001b[0ma\u001b[0m \u001b[0mcounterclockwise\u001b[0m \u001b[0mrotation\u001b[0m \u001b[0mof\u001b[0m\u001b[0;31m \u001b[0m\u001b[0;31m`\u001b[0m\u001b[0mtheta\u001b[0m\u001b[0;31m`\u001b[0m \u001b[0maround\u001b[0m \u001b[0mthe\u001b[0m \u001b[0my\u001b[0m\u001b[0;34m-\u001b[0m\u001b[0maxis\u001b[0m\u001b[0;34m.\u001b[0m\u001b[0;34m\u001b[0m\u001b[0;34m\u001b[0m\u001b[0m\n\u001b[1;32m      4\u001b[0m     \"\"\"\n\u001b[0;32m----> 5\u001b[0;31m     \u001b[0;32mraise\u001b[0m \u001b[0mNotImplementedError\u001b[0m\u001b[0;34m(\u001b[0m\u001b[0;34m)\u001b[0m\u001b[0;34m\u001b[0m\u001b[0;34m\u001b[0m\u001b[0m\n\u001b[0m\u001b[1;32m      6\u001b[0m \u001b[0;34m\u001b[0m\u001b[0m\n\u001b[1;32m      7\u001b[0m \u001b[0;34m\u001b[0m\u001b[0m\n",
            "\u001b[0;31mNotImplementedError\u001b[0m: "
          ]
        }
      ],
      "source": [
        "def rotation_matrix(theta: Float[Tensor, \"\"]) -> Float[Tensor, \"rows cols\"]:\n",
        "    \"\"\"\n",
        "    Creates a rotation matrix representing a counterclockwise rotation of `theta` around the y-axis.\n",
        "    \"\"\"\n",
        "    raise NotImplementedError()\n",
        "\n",
        "\n",
        "tests.test_rotation_matrix(rotation_matrix)"
      ]
    },
    {
      "cell_type": "markdown",
      "metadata": {
        "id": "TTBWvqaNc7B8"
      },
      "source": [
        "<details><summary>Solution</summary>\n",
        "\n",
        "```python\n",
        "def rotation_matrix(theta: Float[Tensor, \"\"]) -> Float[Tensor, \"rows cols\"]:\n",
        "    \"\"\"\n",
        "    Creates a rotation matrix representing a counterclockwise rotation of `theta` around the y-axis.\n",
        "    \"\"\"\n",
        "    return t.tensor(\n",
        "        [\n",
        "            [t.cos(theta), 0.0, t.sin(theta)],\n",
        "            [0.0, 1.0, 0.0],\n",
        "            [-t.sin(theta), 0.0, t.cos(theta)],\n",
        "        ]\n",
        "    )\n",
        "```\n",
        "</details>"
      ]
    },
    {
      "cell_type": "markdown",
      "metadata": {
        "id": "zOXGhcPGc7B8"
      },
      "source": [
        "Once you've passed the tests, you can run the code below to create an animation! It might take a while to run, but should be no longer than 2 minutes."
      ]
    },
    {
      "cell_type": "code",
      "execution_count": 43,
      "metadata": {
        "colab": {
          "base_uri": "https://localhost:8080/",
          "height": 365
        },
        "id": "QcN4FJtBc7B8",
        "outputId": "4d0ec0cc-e525-4140-c1e9-f0b7abfe1826"
      },
      "outputs": [
        {
          "output_type": "error",
          "ename": "NotImplementedError",
          "evalue": "",
          "traceback": [
            "\u001b[0;31m---------------------------------------------------------------------------\u001b[0m",
            "\u001b[0;31mNotImplementedError\u001b[0m                       Traceback (most recent call last)",
            "\u001b[0;32m/tmp/ipython-input-43-2234949098.py\u001b[0m in \u001b[0;36m<cell line: 0>\u001b[0;34m()\u001b[0m\n\u001b[1;32m     41\u001b[0m \u001b[0mrays\u001b[0m \u001b[0;34m=\u001b[0m \u001b[0mmake_rays_2d\u001b[0m\u001b[0;34m(\u001b[0m\u001b[0mnum_pixels_y\u001b[0m\u001b[0;34m,\u001b[0m \u001b[0mnum_pixels_z\u001b[0m\u001b[0;34m,\u001b[0m \u001b[0my_limit\u001b[0m\u001b[0;34m,\u001b[0m \u001b[0mz_limit\u001b[0m\u001b[0;34m)\u001b[0m\u001b[0;34m\u001b[0m\u001b[0;34m\u001b[0m\u001b[0m\n\u001b[1;32m     42\u001b[0m \u001b[0mrays\u001b[0m\u001b[0;34m[\u001b[0m\u001b[0;34m:\u001b[0m\u001b[0;34m,\u001b[0m \u001b[0;36m0\u001b[0m\u001b[0;34m]\u001b[0m \u001b[0;34m=\u001b[0m \u001b[0mt\u001b[0m\u001b[0;34m.\u001b[0m\u001b[0mtensor\u001b[0m\u001b[0;34m(\u001b[0m\u001b[0;34m[\u001b[0m\u001b[0;34m-\u001b[0m\u001b[0;36m3.0\u001b[0m\u001b[0;34m,\u001b[0m \u001b[0;36m0.0\u001b[0m\u001b[0;34m,\u001b[0m \u001b[0;36m0.0\u001b[0m\u001b[0;34m]\u001b[0m\u001b[0;34m)\u001b[0m\u001b[0;34m\u001b[0m\u001b[0;34m\u001b[0m\u001b[0m\n\u001b[0;32m---> 43\u001b[0;31m \u001b[0mdists\u001b[0m \u001b[0;34m=\u001b[0m \u001b[0mraytrace_mesh_video\u001b[0m\u001b[0;34m(\u001b[0m\u001b[0mrays\u001b[0m\u001b[0;34m,\u001b[0m \u001b[0mtriangles\u001b[0m\u001b[0;34m,\u001b[0m \u001b[0mrotation_matrix\u001b[0m\u001b[0;34m,\u001b[0m \u001b[0mraytrace_mesh\u001b[0m\u001b[0;34m,\u001b[0m \u001b[0mnum_frames\u001b[0m\u001b[0;34m)\u001b[0m\u001b[0;34m\u001b[0m\u001b[0;34m\u001b[0m\u001b[0m\n\u001b[0m\u001b[1;32m     44\u001b[0m \u001b[0mdists\u001b[0m \u001b[0;34m=\u001b[0m \u001b[0meinops\u001b[0m\u001b[0;34m.\u001b[0m\u001b[0mrearrange\u001b[0m\u001b[0;34m(\u001b[0m\u001b[0mdists\u001b[0m\u001b[0;34m,\u001b[0m \u001b[0;34m\"frames (y z) -> frames y z\"\u001b[0m\u001b[0;34m,\u001b[0m \u001b[0my\u001b[0m\u001b[0;34m=\u001b[0m\u001b[0mnum_pixels_y\u001b[0m\u001b[0;34m)\u001b[0m\u001b[0;34m\u001b[0m\u001b[0;34m\u001b[0m\u001b[0m\n\u001b[1;32m     45\u001b[0m \u001b[0;34m\u001b[0m\u001b[0m\n",
            "\u001b[0;32m/tmp/ipython-input-43-2234949098.py\u001b[0m in \u001b[0;36mraytrace_mesh_video\u001b[0;34m(rays, triangles, rotation_matrix, raytrace_function, num_frames)\u001b[0m\n\u001b[1;32m     11\u001b[0m     \u001b[0mresult\u001b[0m \u001b[0;34m=\u001b[0m \u001b[0;34m[\u001b[0m\u001b[0;34m]\u001b[0m\u001b[0;34m\u001b[0m\u001b[0;34m\u001b[0m\u001b[0m\n\u001b[1;32m     12\u001b[0m     \u001b[0mtheta\u001b[0m \u001b[0;34m=\u001b[0m \u001b[0mt\u001b[0m\u001b[0;34m.\u001b[0m\u001b[0mtensor\u001b[0m\u001b[0;34m(\u001b[0m\u001b[0;36m2\u001b[0m \u001b[0;34m*\u001b[0m \u001b[0mt\u001b[0m\u001b[0;34m.\u001b[0m\u001b[0mpi\u001b[0m\u001b[0;34m)\u001b[0m \u001b[0;34m/\u001b[0m \u001b[0mnum_frames\u001b[0m\u001b[0;34m\u001b[0m\u001b[0;34m\u001b[0m\u001b[0m\n\u001b[0;32m---> 13\u001b[0;31m     \u001b[0mR\u001b[0m \u001b[0;34m=\u001b[0m \u001b[0mrotation_matrix\u001b[0m\u001b[0;34m(\u001b[0m\u001b[0mtheta\u001b[0m\u001b[0;34m)\u001b[0m\u001b[0;34m\u001b[0m\u001b[0;34m\u001b[0m\u001b[0m\n\u001b[0m\u001b[1;32m     14\u001b[0m     \u001b[0;32mfor\u001b[0m \u001b[0mtheta\u001b[0m \u001b[0;32min\u001b[0m \u001b[0mtqdm\u001b[0m\u001b[0;34m(\u001b[0m\u001b[0mrange\u001b[0m\u001b[0;34m(\u001b[0m\u001b[0mnum_frames\u001b[0m\u001b[0;34m)\u001b[0m\u001b[0;34m)\u001b[0m\u001b[0;34m:\u001b[0m\u001b[0;34m\u001b[0m\u001b[0;34m\u001b[0m\u001b[0m\n\u001b[1;32m     15\u001b[0m         \u001b[0mtriangles\u001b[0m \u001b[0;34m=\u001b[0m \u001b[0mtriangles\u001b[0m \u001b[0;34m@\u001b[0m \u001b[0mR\u001b[0m\u001b[0;34m\u001b[0m\u001b[0;34m\u001b[0m\u001b[0m\n",
            "\u001b[0;32m/tmp/ipython-input-42-3046110796.py\u001b[0m in \u001b[0;36mrotation_matrix\u001b[0;34m(theta)\u001b[0m\n\u001b[1;32m      3\u001b[0m     \u001b[0mCreates\u001b[0m \u001b[0ma\u001b[0m \u001b[0mrotation\u001b[0m \u001b[0mmatrix\u001b[0m \u001b[0mrepresenting\u001b[0m \u001b[0ma\u001b[0m \u001b[0mcounterclockwise\u001b[0m \u001b[0mrotation\u001b[0m \u001b[0mof\u001b[0m\u001b[0;31m \u001b[0m\u001b[0;31m`\u001b[0m\u001b[0mtheta\u001b[0m\u001b[0;31m`\u001b[0m \u001b[0maround\u001b[0m \u001b[0mthe\u001b[0m \u001b[0my\u001b[0m\u001b[0;34m-\u001b[0m\u001b[0maxis\u001b[0m\u001b[0;34m.\u001b[0m\u001b[0;34m\u001b[0m\u001b[0;34m\u001b[0m\u001b[0m\n\u001b[1;32m      4\u001b[0m     \"\"\"\n\u001b[0;32m----> 5\u001b[0;31m     \u001b[0;32mraise\u001b[0m \u001b[0mNotImplementedError\u001b[0m\u001b[0;34m(\u001b[0m\u001b[0;34m)\u001b[0m\u001b[0;34m\u001b[0m\u001b[0;34m\u001b[0m\u001b[0m\n\u001b[0m\u001b[1;32m      6\u001b[0m \u001b[0;34m\u001b[0m\u001b[0m\n\u001b[1;32m      7\u001b[0m \u001b[0;34m\u001b[0m\u001b[0m\n",
            "\u001b[0;31mNotImplementedError\u001b[0m: "
          ]
        }
      ],
      "source": [
        "def raytrace_mesh_video(\n",
        "    rays: Float[Tensor, \"nrays points dim\"],\n",
        "    triangles: Float[Tensor, \"ntriangles points dims\"],\n",
        "    rotation_matrix: Callable[[float], Float[Tensor, \"rows cols\"]],\n",
        "    raytrace_function: Callable,\n",
        "    num_frames: int,\n",
        ") -> Bool[Tensor, \"nframes nrays\"]:\n",
        "    \"\"\"\n",
        "    Creates a stack of raytracing results, rotating the triangles by `rotation_matrix` each frame.\n",
        "    \"\"\"\n",
        "    result = []\n",
        "    theta = t.tensor(2 * t.pi) / num_frames\n",
        "    R = rotation_matrix(theta)\n",
        "    for theta in tqdm(range(num_frames)):\n",
        "        triangles = triangles @ R\n",
        "        result.append(raytrace_function(rays, triangles))\n",
        "        t.cuda.empty_cache()  # clears GPU memory (this line will be more important later on!)\n",
        "    return t.stack(result, dim=0)\n",
        "\n",
        "\n",
        "def display_video(distances: Float[Tensor, \"frames y z\"]):\n",
        "    \"\"\"\n",
        "    Displays video of raytracing results, using Plotly. `distances` is a tensor where the [i, y, z] element is distance\n",
        "    to the closest triangle for the i-th frame & the [y, z]-th ray in our 2D grid of rays.\n",
        "    \"\"\"\n",
        "    px.imshow(\n",
        "        distances,\n",
        "        animation_frame=0,\n",
        "        origin=\"lower\",\n",
        "        zmin=0.0,\n",
        "        zmax=distances[distances.isfinite()].quantile(0.99).item(),\n",
        "        color_continuous_scale=\"viridis_r\",  # \"Brwnyl\"\n",
        "    ).update_layout(coloraxis_showscale=False, width=550, height=600, title=\"Raytrace mesh video\").show()\n",
        "\n",
        "\n",
        "num_pixels_y = 250\n",
        "num_pixels_z = 250\n",
        "y_limit = z_limit = 0.8\n",
        "num_frames = 50\n",
        "\n",
        "rays = make_rays_2d(num_pixels_y, num_pixels_z, y_limit, z_limit)\n",
        "rays[:, 0] = t.tensor([-3.0, 0.0, 0.0])\n",
        "dists = raytrace_mesh_video(rays, triangles, rotation_matrix, raytrace_mesh, num_frames)\n",
        "dists = einops.rearrange(dists, \"frames (y z) -> frames y z\", y=num_pixels_y)\n",
        "\n",
        "display_video(dists)"
      ]
    },
    {
      "cell_type": "markdown",
      "metadata": {
        "id": "AgKMoG4Dc7B8"
      },
      "source": [
        "### Exercise - use GPUs\n",
        "\n",
        "> ```yaml\n",
        "> Difficulty: 🔴⚪⚪⚪⚪\n",
        "> Importance: 🔵🔵🔵⚪⚪\n",
        ">\n",
        "> You should spend up to 10-15 minutes on this exercise.\n",
        "> ```\n",
        "\n",
        "We'll discuss GPUs a lot more in later sections and exercises. For now, One last thing to discuss before we move onto training our model: **GPUs**. Essentially, the GPU (graphics processing unit) is a specialized processor for rendering graphics and doing other kinds of parallel processing. Although we are actually using it for graphics in this section, it's much better known today for its role in deep learning, since it allows for efficient parallelized computations.\n",
        "\n",
        "When you create a tensor, by default it's located on the CPU. You can use the `to` method to move your tensor between devices, e.g. `x = x.to(\"cuda\")` to move to the GPU, and `x = x.to(\"cpu\")` to move back to the CPU (or `x = x.cuda()` and `x = x.cpu()` as a shorthand). **CUDA** stands for Compute Unified Device Architecture, a parallel computing platform and programming model developed by NVIDIA which is supported by PyTorch. Note that this method returns a copy of the tensor rather than the tensor itself (unless the `to` command doesn't change its device). You can check whether CUDA is available by calling `t.cuda.is_available()` - if it's not, you can try installing a CUDA-supporting version of PyTorch from the [homepage](https://pytorch.org/).\n",
        "\n",
        "Below, you should write the `raytrace_mesh_gpu` function to be identical to `raytrace_mesh`, except that the computation should be done on the GPU. This means `triangles` and `rays` should be moved to the GPU before the computation is done, and the returned object should be moved back to the CPU before finishing."
      ]
    },
    {
      "cell_type": "code",
      "execution_count": null,
      "metadata": {
        "id": "_RaB0UQ0c7B8"
      },
      "outputs": [],
      "source": [
        "def raytrace_mesh_gpu(\n",
        "    rays: Float[Tensor, \"nrays rayPoints=2 dims=3\"], triangles: Float[Tensor, \"ntriangles trianglePoints=3 dims=3\"]\n",
        ") -> Float[Tensor, \"nrays\"]:\n",
        "    \"\"\"\n",
        "    For each ray, return the distance to the closest intersecting triangle, or infinity.\n",
        "\n",
        "    All computations should be performed on the GPU.\n",
        "    \"\"\"\n",
        "    raise NotImplementedError()\n",
        "\n",
        "\n",
        "dists = raytrace_mesh_video(rays, triangles, rotation_matrix, raytrace_mesh_gpu, num_frames)\n",
        "dists = einops.rearrange(dists, \"frames (y z) -> frames y z\", y=num_pixels_y)\n",
        "display_video(dists)"
      ]
    },
    {
      "cell_type": "markdown",
      "metadata": {
        "id": "PCStdXayc7B9"
      },
      "source": [
        "<details><summary>Solution</summary>\n",
        "\n",
        "```python\n",
        "def raytrace_mesh_gpu(\n",
        "    rays: Float[Tensor, \"nrays rayPoints=2 dims=3\"], triangles: Float[Tensor, \"ntriangles trianglePoints=3 dims=3\"]\n",
        ") -> Float[Tensor, \"nrays\"]:\n",
        "    \"\"\"\n",
        "    For each ray, return the distance to the closest intersecting triangle, or infinity.\n",
        "\n",
        "    All computations should be performed on the GPU.\n",
        "    \"\"\"\n",
        "    NR = rays.size(0)\n",
        "    NT = triangles.size(0)\n",
        "    device = \"cuda\"\n",
        "    triangles = triangles.to(device)\n",
        "    rays = rays.to(device)\n",
        "\n",
        "    # Each triangle is [[Ax, Ay, Az], [Bx, By, Bz], [Cx, Cy, Cz]]\n",
        "    triangles = einops.repeat(triangles, \"NT pts dims -> pts NR NT dims\", NR=NR)\n",
        "    A, B, C = triangles\n",
        "    assert A.shape == (NR, NT, 3)\n",
        "\n",
        "    # Each ray is [[Ox, Oy, Oz], [Dx, Dy, Dz]]\n",
        "    rays = einops.repeat(rays, \"NR pts dims -> pts NR NT dims\", NT=NT)\n",
        "    O, D = rays\n",
        "    assert O.shape == (NR, NT, 3)\n",
        "\n",
        "    # Define matrix on left hand side of equation\n",
        "    mat: Float[Tensor, \"NR NT 3 3\"] = t.stack([-D, B - A, C - A], dim=-1)\n",
        "    # Get boolean of where matrix is singular, and replace it with the identity in these positions\n",
        "    dets: Float[Tensor, \"NR NT\"] = t.linalg.det(mat)\n",
        "    is_singular = dets.abs() < 1e-8\n",
        "    mat[is_singular] = t.eye(3).to(device)\n",
        "\n",
        "    # Define vector on the right hand side of equation\n",
        "    vec: Float[Tensor, \"NR NT 3\"] = O - A\n",
        "\n",
        "    # Solve eqns (note, s is the distance along ray)\n",
        "    sol: Float[Tensor, \"NR NT 3\"] = t.linalg.solve(mat, vec)\n",
        "    s, u, v = sol.unbind(-1)\n",
        "\n",
        "    # Get boolean of intersects, and use it to set distance to infinity wherever there is no intersection\n",
        "    intersects = (s >= 0) & (u >= 0) & (v >= 0) & (u + v <= 1) & ~is_singular\n",
        "    s[~intersects] = t.inf\n",
        "\n",
        "    # Get the minimum distance (over all triangles) for each ray\n",
        "    return einops.reduce(s, \"NR NT -> NR\", \"min\").cpu()\n",
        "\n",
        "\n",
        "dists = raytrace_mesh_video(rays, triangles, rotation_matrix, raytrace_mesh_gpu, num_frames)\n",
        "dists = einops.rearrange(dists, \"frames (y z) -> frames y z\", y=num_pixels_y)\n",
        "display_video(dists)\n",
        "```\n",
        "</details>"
      ]
    },
    {
      "cell_type": "markdown",
      "metadata": {
        "id": "-bL6Yk3Zc7B9"
      },
      "source": [
        "### Exercise (bonus) - add lighting\n",
        "\n",
        "> ```yaml\n",
        "> Difficulty: 🔴🔴🔴🔴🔴\n",
        "> Importance: 🔵🔵⚪⚪⚪\n",
        ">\n",
        "> You've done all the essential content for today at this point.\n",
        "> You can complete this exercise for fun if you have time, or just read & run the solution!\n",
        "> ```\n",
        "\n",
        "We can improve our images by adding lighting, i.e. coloring triangles based on the angle of some light source rather than just from distance from the origin. The most common way to do this is using the [Lambertian reflection model](https://en.wikipedia.org/wiki/Lambertian_reflectance), which says that the intensity of the light that reflects off a surface is proportional to the cosine of the angle between the light vector and the surface normal (or equivalently, proportional to their dot product, assuming both vectors are normalized).\n",
        "\n",
        "<img src=\"https://raw.githubusercontent.com/info-arena/ARENA_img/main/misc/raytracing-lighting-2.png\" width=\"750\">\n",
        "\n",
        "You should implement the `raytrace_mesh_lambert` function below, which puts this into practice. In other words, your function should return the following for each ray:\n",
        "\n",
        "- Zero if there is no intersection, i.e. distance to every triangle is infinite\n",
        "- `intensity + ambient_intensity` if there is an interesection, where `ambient_intensity` is a value we give you (minimum brightness for a triangle, to distinguish it from the black background) and `intensity` is the intensity of light hitting the triangle, i.e. the dot product of the triangle's normal vector and the light vector, set to zero if this dot product is negative.\n",
        "\n",
        "To emphasize - unlike in your previous functions where you used the distance of each ray to the nearest triangle to determine the color of a given ray/pixel, here every triangle has a unique intensity value and the color of a given ray/pixel is determined only by what its nearest triangle is. The only reason we still need to compute distances is to compute what (if any) the first triangle is that the ray intersects with."
      ]
    },
    {
      "cell_type": "code",
      "execution_count": null,
      "metadata": {
        "id": "WwaS9O8kc7B9"
      },
      "outputs": [],
      "source": [
        "def raytrace_mesh_lambert(\n",
        "    rays: Float[Tensor, \"nrays points=2 dims=3\"],\n",
        "    triangles: Float[Tensor, \"ntriangles points=3 dims=3\"],\n",
        "    light: Float[Tensor, \"dims=3\"],\n",
        "    ambient_intensity: float,\n",
        "    device: str = \"cuda\",\n",
        ") -> Float[Tensor, \"nrays\"]:\n",
        "    \"\"\"\n",
        "    For each ray, return the intensity of light hitting the triangle it intersects with (or zero if no intersection).\n",
        "\n",
        "    Args:\n",
        "        rays:               A tensor of rays, with shape `[nrays, 2, 3]`.\n",
        "        triangles:          A tensor of triangles, with shape `[ntriangles, 3, 3]`.\n",
        "        light:              A tensor representing the light vector, with shape `[3]`. We compue the intensity as the dot\n",
        "                            product of the triangle normals & the light vector, then set it to be zero if the sign is\n",
        "                            negative.\n",
        "        ambient_intensity:  A float representing the ambient intensity. This is the minimum brightness for a triangle,\n",
        "                            to differentiate it from the black background (rays that don't hit any triangle).\n",
        "        device:             The device to perform the computation on.\n",
        "\n",
        "    Returns:\n",
        "        A tensor of intensities for each of the rays, flattened over the [y, z] dimensions. The values are zero when\n",
        "        there is no intersection, and `ambient_intensity + intensity` when there is an interesection (where `intensity`\n",
        "        is the dot product of the triangle's normal vector and the light vector, truncated at zero).\n",
        "    \"\"\"\n",
        "    raise NotImplementedError()\n",
        "\n",
        "\n",
        "def display_video_with_lighting(intensity: Float[Tensor, \"frames y z\"]):\n",
        "    \"\"\"\n",
        "    Displays video of raytracing results, using Plotly. `distances` is a tensor where the [i, y, z] element is the\n",
        "    lighting intensity based on the angle of light & the surface of the triangle which this ray hits first.\n",
        "    \"\"\"\n",
        "    px.imshow(\n",
        "        intensity,\n",
        "        animation_frame=0,\n",
        "        origin=\"lower\",\n",
        "        color_continuous_scale=\"magma\",\n",
        "    ).update_layout(coloraxis_showscale=False, width=550, height=600, title=\"Raytrace mesh video (lighting)\").show()\n",
        "\n",
        "\n",
        "ambient_intensity = 0.5\n",
        "light = t.tensor([0.0, -1.0, 1.0])\n",
        "raytrace_function = partial(raytrace_mesh_lambert, ambient_intensity=ambient_intensity, light=light)\n",
        "\n",
        "intensity = raytrace_mesh_video(rays, triangles, rotation_matrix, raytrace_function, num_frames)\n",
        "intensity = einops.rearrange(intensity, \"frames (y z) -> frames y z\", y=num_pixels_y)\n",
        "display_video_with_lighting(intensity)"
      ]
    },
    {
      "cell_type": "markdown",
      "metadata": {
        "id": "scJ8DFSjc7B9"
      },
      "source": [
        "<details>\n",
        "<summary>Help - I'm not sure how to compute the normal vectors.</summary>\n",
        "\n",
        "You can use the `torch.cross` function, using two edges of the triangle as arguments. For example, you can compute the un-normalized vectors as:\n",
        "\n",
        "```python\n",
        "normals = t.cross(triangles[:, 2] - triangles[:, 0], triangles[:, 1] - triangles[:, 0], dim=1)\n",
        "```\n",
        "\n",
        "which will have the same shape as each of `triangles[:, i]`.\n",
        "\n",
        "</details>\n",
        "\n",
        "<details>\n",
        "<summary>Help - I'm not sure how to set the intensity to zero if the light is coming from the wrong side of the triangle.</summary>\n",
        "\n",
        "The `pikachu.stl` file stores triangles in a consistent orientation based on the right hand rule. Assuming you chose a consistent method for computing normal vectors like the one in the dropdown above, your computed intensity values per triangle will either all be the correct sign or all be the opposite sign to the true signed values. This means you can either use `t.where(intensity > 0, intensity, 0.0)` or `t.where(intensity < 0, -intensity, 0.0)` as your final zeroed intensity values and both should look fine (although one will look like the light source is coming from the opposite direction to the other). It doesn't matter which orientation you choose.\n",
        "\n",
        "</details>\n",
        "\n",
        "\n",
        "<details><summary>Solution</summary>\n",
        "\n",
        "```python\n",
        "def raytrace_mesh_lambert(\n",
        "    rays: Float[Tensor, \"nrays points=2 dims=3\"],\n",
        "    triangles: Float[Tensor, \"ntriangles points=3 dims=3\"],\n",
        "    light: Float[Tensor, \"dims=3\"],\n",
        "    ambient_intensity: float,\n",
        "    device: str = \"cuda\",\n",
        ") -> Float[Tensor, \"nrays\"]:\n",
        "    \"\"\"\n",
        "    For each ray, return the intensity of light hitting the triangle it intersects with (or zero if no intersection).\n",
        "\n",
        "    Args:\n",
        "        rays:               A tensor of rays, with shape `[nrays, 2, 3]`.\n",
        "        triangles:          A tensor of triangles, with shape `[ntriangles, 3, 3]`.\n",
        "        light:              A tensor representing the light vector, with shape `[3]`. We compue the intensity as the dot\n",
        "                            product of the triangle normals & the light vector, then set it to be zero if the sign is\n",
        "                            negative.\n",
        "        ambient_intensity:  A float representing the ambient intensity. This is the minimum brightness for a triangle,\n",
        "                            to differentiate it from the black background (rays that don't hit any triangle).\n",
        "        device:             The device to perform the computation on.\n",
        "\n",
        "    Returns:\n",
        "        A tensor of intensities for each of the rays, flattened over the [y, z] dimensions. The values are zero when\n",
        "        there is no intersection, and `ambient_intensity + intensity` when there is an interesection (where `intensity`\n",
        "        is the dot product of the triangle's normal vector and the light vector, truncated at zero).\n",
        "    \"\"\"\n",
        "    NR = rays.size(0)\n",
        "    NT = triangles.size(0)\n",
        "    triangles = triangles.to(device)\n",
        "    rays = rays.to(device)\n",
        "\n",
        "    # Each triangle is [[Ax, Ay, Az], [Bx, By, Bz], [Cx, Cy, Cz]]\n",
        "    triangles_repeated = einops.repeat(triangles, \"NT pts dims -> pts NR NT dims\", NR=NR)\n",
        "    A, B, C = triangles_repeated\n",
        "    assert A.shape == (NR, NT, 3)\n",
        "\n",
        "    # Each ray is [[Ox, Oy, Oz], [Dx, Dy, Dz]]\n",
        "    rays_repeated = einops.repeat(rays, \"NR pts dims -> pts NR NT dims\", NT=NT)\n",
        "    O, D = rays_repeated\n",
        "    assert O.shape == (NR, NT, 3)\n",
        "\n",
        "    # Define matrix on left hand side of equation\n",
        "    mat: Float[Tensor, \"NR NT 3 3\"] = t.stack([-D, B - A, C - A], dim=-1)\n",
        "    # Get boolean of where matrix is singular, and replace it with the identity in these positions\n",
        "    dets: Float[Tensor, \"NR NT\"] = t.linalg.det(mat)\n",
        "    is_singular = dets.abs() < 1e-8\n",
        "    mat[is_singular] = t.eye(3).to(device)\n",
        "\n",
        "    # Define vector on the right hand side of equation\n",
        "    vec: Float[Tensor, \"NR NT 3\"] = O - A\n",
        "\n",
        "    # Solve eqns (note, s is the distance along ray)\n",
        "    sol: Float[Tensor, \"NR NT 3\"] = t.linalg.solve(mat, vec)\n",
        "    s, u, v = sol.unbind(-1)  # each shape [NR, NT]\n",
        "\n",
        "    # Get boolean of intersects, and use it to set distance to infinity wherever there is no intersection\n",
        "    intersects = (s >= 0) & (u >= 0) & (v >= 0) & (u + v <= 1) & ~is_singular\n",
        "    s[~intersects] = float(\"inf\")\n",
        "\n",
        "    # Get the minimum distance (over all triangles) for each ray\n",
        "    closest_distances, closest_triangles_for_each_ray = s.min(dim=-1)  # both shape [NR]\n",
        "\n",
        "    # Get the intensity by taking dot product of triangle normals & light vector\n",
        "    normals = t.cross(triangles[:, 2] - triangles[:, 0], triangles[:, 1] - triangles[:, 0], dim=1)  # shape [NT dims]\n",
        "    normals /= normals.norm(dim=1, keepdim=True)\n",
        "    intensity_per_triangle = einops.einsum(normals, light.to(device), \"nt dims, dims -> nt\")\n",
        "    intensity_per_triangle_signed = t.where(intensity_per_triangle > 0, intensity_per_triangle, 0.0)\n",
        "\n",
        "    # Get intensity for each ray, and add ambient intensity where there's an intersection\n",
        "    intensity = intensity_per_triangle_signed[closest_triangles_for_each_ray] + ambient_intensity\n",
        "\n",
        "    # Set to zero if the ray doesn't intersect with any triangle\n",
        "    intensity = t.where(closest_distances.isfinite(), intensity, 0.0)\n",
        "\n",
        "    return intensity.cpu()\n",
        "\n",
        "\n",
        "def display_video_with_lighting(intensity: Float[Tensor, \"frames y z\"]):\n",
        "    \"\"\"\n",
        "    Displays video of raytracing results, using Plotly. `distances` is a tensor where the [i, y, z] element is the\n",
        "    lighting intensity based on the angle of light & the surface of the triangle which this ray hits first.\n",
        "    \"\"\"\n",
        "    px.imshow(\n",
        "        intensity,\n",
        "        animation_frame=0,\n",
        "        origin=\"lower\",\n",
        "        color_continuous_scale=\"magma\",\n",
        "    ).update_layout(coloraxis_showscale=False, width=550, height=600, title=\"Raytrace mesh video (lighting)\").show()\n",
        "\n",
        "\n",
        "ambient_intensity = 0.5\n",
        "light = t.tensor([0.0, -1.0, 1.0])\n",
        "raytrace_function = partial(raytrace_mesh_lambert, ambient_intensity=ambient_intensity, light=light)\n",
        "\n",
        "intensity = raytrace_mesh_video(rays, triangles, rotation_matrix, raytrace_function, num_frames)\n",
        "intensity = einops.rearrange(intensity, \"frames (y z) -> frames y z\", y=num_pixels_y)\n",
        "display_video_with_lighting(intensity)\n",
        "```\n",
        "</details>"
      ]
    },
    {
      "cell_type": "markdown",
      "metadata": {
        "id": "ddxVzF7Jc7B9"
      },
      "source": [
        "As a final bonus exercise before we conclude, you can try rendering with a **wireframe**, i.e. only including the edges of the triangles rather than the full triangle. All you have to do here is change your `triangle_ray_intersects` function, so that it only detects intersection at a certain subset of the parameter values `u` and `v` (can you see how to do this?)."
      ]
    },
    {
      "cell_type": "markdown",
      "metadata": {
        "id": "ggykB7JVc7B9"
      },
      "source": [
        "## Bonus - testing with `pytest`"
      ]
    },
    {
      "cell_type": "markdown",
      "metadata": {
        "id": "7eEqFUDfc7B9"
      },
      "source": [
        "> *Note - this section was also just written with VSCode in mind, so it might be less suitable for Colab, and you might consider skipping it.*"
      ]
    },
    {
      "cell_type": "markdown",
      "metadata": {
        "id": "uZoYe0Epc7B9"
      },
      "source": [
        "To wrap up today, we're going to have a further discussion of **testing**. So far, our test functions have been pretty simple - we imported a test from the `part1_ray_tracing/tests.py` file, and ran it to compare our answers to the answers in `part1_ray_tracing/solutions.py`. This works perfectly fine, but there are other Python libraries which can make testing easier and more powerful. In particular, two such libraries are `unittest` and `pytest`. Both these libraries provide extensive features for modularizing and running test functions, and have nice integrations with VSCode. `unittest` is very powerful, but also has a steep learning curve and isn't worth the trouble of learning during a 6 week course. However, `pytest` is very useful and easy to learn, so we'll spend some time here discussing it.\n",
        "\n",
        "The pytest framework makes it easy to write small, readable tests, and can scale to support complex functional testing for applications and libraries. Today we'll just discuss a few features which will be particularly useful for the kinds of tests we'll be writing, but you're welcome to explore more tests later on.\n",
        "\n",
        "*Important note - if you're working on Colab or a notebook for these exercises, your tests won't work, because in this setup we'll be importing answers from our test file, rather than importing tests from our answers file. For this reason, we won't be using pytest for the structured exercises in this course (in case anybody is following these exercises in a notebook), but you're strongly recommended to use pytest when you're working from `.py` files instead - which is strongly recommended during much of the bonus content.*\n",
        "\n",
        "First, look at `part1_ray_tracing/tests.py`. The tests in this file all follow a similar pattern: evaluate your function on some input, check it equals the solution. This is a clear sign that we can use modularization to simplify our code! Compare this file to `part1_ray_tracing/test_with_pytest.py`, which contains the same tests but refactored using pytest. The latter is clearly separated into three sections: one for library imports, one for defining the inputs we'll use for our test functions, and one where we define our test functions.\n",
        "\n",
        "### Parametrization\n",
        "\n",
        "We use `pytest.mark.parametrize` to parametrize our tests. This means we can run the same test a bunch of different times on different inputs. In the non-pytest version, we did this by defining different functions (e.g. `test_intersect_ray_1d` and `test_intersect_ray_1d_special_case`), but this isn't necessary here.\n",
        "\n",
        "The syntax of a function decorated by `pytest.mark.parametrize` is:\n",
        "\n",
        "```python\n",
        "@pytest.mark.parametrize(\"arg1, arg2, arg3\", [\n",
        "    (val1, val2, val3),\n",
        "    (val4, val5, val6),\n",
        "    ...\n",
        "])\n",
        "def test_function(arg1, arg2, arg3):\n",
        "    ...\n",
        "```\n",
        "\n",
        "This will result in running `test_function` multiple times, the first time with `arg1=val1, arg2=val2, arg3=val3`, and the second time with `arg1=val4, arg2=val5, arg3=val6`, etc. This is a much better way to write tests, because it makes it easy for us to add new test cases without having to write new functions.\n",
        "\n",
        "### How to run these tests?\n",
        "\n",
        "There are three ways to run the above tests:\n",
        "\n",
        "1. **From the terminal**\n",
        "\n",
        "You can run them from the command line using the pytest command. Open your terminal in VSCode at the bottom of the screen, make sure you're in the directory `chapter0_fundamentals`, then enter the command `pytest`. This will search the current directory (or subdirectories) for any python files with the prefix `test_`, and within that file run all functions with the prefix `test_` (i.e. all the tests for these exercises).\n",
        "\n",
        "You can also add more complicated commands, like:\n",
        "\n",
        "* `pytest test_intersect_ray_1d` to specify the file to run tests from\n",
        "* `pytest test_intersect_ray_1d::test_intersect_ray_1d` to specify the file and test function\n",
        "\n",
        "2. **From your Python file**\n",
        "\n",
        "To do this, you need to call `pytest.main` (make sure this is wrapped in an `if MAIN` block). The first argument of this function is a list of args to `pytest`. This has analogous syntax to the command line option, for instance here are a few ways you can do this:\n",
        "\n",
        "```python\n",
        "pytest.main([])\n",
        "pytest.main([\"test_part1_ray_tracing.py\"])\n",
        "pytest.main([\"test_part1_ray_tracing.py::test_intersect_ray_1d\"])\n",
        "```\n",
        "\n",
        "3. **From VSCode's testing display**\n",
        "\n",
        "This is by far the most useful way to run test functions. VSCode provides a helpful interface to run all test functions in your directory, and see which of them have passed. First, press the test icon on the left hand sidebar (it will look like a triangular flask). If this is your first time, then you'll need to click on the **Configure Python Tests** button, then select `pytest` as your framework (you may have to install pytest when prompted). This should automatically perform test discovery for you, showing you all the test files & functions in your current directory in the left hand window (it detects this the same way pytest does, using the `test_` prefix). You can hover over tests or files to see options like \"run test(s)\" or debug test(s)\". When you run them, you'll see a tick or cross appear next to the test, indicating whether it passed or failed.\n",
        "\n",
        "This is a very useful interface when you're working on a large project, because as you make updates you can easily re-run all tests, then identify & fix problems.\n",
        "\n",
        "<details>\n",
        "<summary>Help - I get <code>Error discovering pytest tests</code></summary>\n",
        "\n",
        "Try opening your terminal (at the bottom of the screen) and running `pytest --collect-only`. This should print output that helps you diagnose the problem.\n",
        "\n",
        "One possible issue is changing directories within your python files (e.g. with `os.chdir`), because this can often confuse PyTest's search for tests.\n",
        "</details>"
      ]
    },
    {
      "cell_type": "markdown",
      "metadata": {
        "id": "9RNpVsV2c7B9"
      },
      "source": [
        "<details>\n",
        "<summary>Aside - <code># type: ignore</code></summary>\n",
        "\n",
        "Note that the test file has the annotation `# type: ignore` at the end of an import line, at the top of the file. This is because VSCode's typechecker will complain when you try and import a file that doesn't exist yet! This line removes the type error, and allows you to write functions without all those annoying squiggly red lines! However, don't overuse this annotation, because it can often be a signal that you've made a mistake in your code, or else have followed a bad coding practice.\n",
        "\n",
        "</details>\n",
        "\n",
        "<details>\n",
        "<summary>Aside - named tuples</summary>\n",
        "\n",
        "Another way you can clean this code up is to use **named tuples**. These are an especially nice and Pythonic structure which maintains the features of a tuple, but also allows you to define instances & access elements by name. For instance, instead of:\n",
        "\n",
        "```python\n",
        "ray_segment_batch = (\n",
        "    solutions.rays1d,\n",
        "    solutions.segments\n",
        ")\n",
        "```\n",
        "\n",
        "you could have:\n",
        "\n",
        "```python\n",
        "from collections import namedtuple\n",
        "TestCase = namedtuple(\"TestCase\", \"rays segments\")\n",
        "\n",
        "ray_segment_batch = TestCase(\n",
        "    rays = solutions.rays1d,\n",
        "    segments = solutions.segments\n",
        ")\n",
        "```\n",
        "\n",
        "and this `ray_segment_batch` object would still be treated like a tensor when it's used in a parameterized test.\n",
        "\n",
        "</details>"
      ]
    }
  ],
  "metadata": {
    "language_info": {
      "name": "python"
    },
    "colab": {
      "provenance": []
    },
    "kernelspec": {
      "name": "python3",
      "display_name": "Python 3"
    },
    "widgets": {
      "application/vnd.jupyter.widget-state+json": {
        "b7961d13e0924023832e6f70c4fd97f9": {
          "model_module": "jupyterlab-plotly",
          "model_name": "FigureModel",
          "model_module_version": "^5.24.1",
          "state": {
            "_config": {
              "plotlyServerURL": "https://plot.ly"
            },
            "_data": [
              {
                "x": [],
                "y": [],
                "type": "scatter",
                "uid": "6c9e5f52-8cca-4dea-8f87-cbd2953f5a55"
              }
            ],
            "_dom_classes": [],
            "_js2py_layoutDelta": {},
            "_js2py_pointsCallback": {},
            "_js2py_relayout": {},
            "_js2py_restyle": {},
            "_js2py_traceDeltas": {},
            "_js2py_update": {},
            "_last_layout_edit_id": 4,
            "_last_trace_edit_id": 4,
            "_layout": {},
            "_model_module": "jupyterlab-plotly",
            "_model_module_version": "^5.24.1",
            "_model_name": "FigureModel",
            "_py2js_addTraces": null,
            "_py2js_animate": {},
            "_py2js_deleteTraces": {},
            "_py2js_moveTraces": {},
            "_py2js_relayout": null,
            "_py2js_removeLayoutProps": {},
            "_py2js_removeTraceProps": {},
            "_py2js_restyle": {},
            "_py2js_update": null,
            "_view_count": 0,
            "_view_module": "jupyterlab-plotly",
            "_view_module_version": "^5.24.1",
            "_view_name": "FigureView"
          }
        },
        "6a7df6cafb2a4a88b3def190bdbb8bd2": {
          "model_module": "@jupyter-widgets/controls",
          "model_name": "VBoxModel",
          "model_module_version": "1.5.0",
          "state": {
            "_dom_classes": [
              "widget-interact"
            ],
            "_model_module": "@jupyter-widgets/controls",
            "_model_module_version": "1.5.0",
            "_model_name": "VBoxModel",
            "_view_count": null,
            "_view_module": "@jupyter-widgets/controls",
            "_view_module_version": "1.5.0",
            "_view_name": "VBoxView",
            "box_style": "",
            "children": [
              "IPY_MODEL_fd58f18389f348878418caa1e4daa655",
              "IPY_MODEL_e4aaf6e6d8da41168b4428b8aac0d361",
              "IPY_MODEL_6a6fd0ea31ce4c88abe8a5d7d886a3d1"
            ],
            "layout": "IPY_MODEL_2983d9e525fb44a1b5c1beba38d9bb80"
          }
        },
        "fd58f18389f348878418caa1e4daa655": {
          "model_module": "@jupyter-widgets/controls",
          "model_name": "FloatSliderModel",
          "model_module_version": "1.5.0",
          "state": {
            "_dom_classes": [],
            "_model_module": "@jupyter-widgets/controls",
            "_model_module_version": "1.5.0",
            "_model_name": "FloatSliderModel",
            "_view_count": null,
            "_view_module": "@jupyter-widgets/controls",
            "_view_module_version": "1.5.0",
            "_view_name": "FloatSliderView",
            "continuous_update": true,
            "description": "v",
            "description_tooltip": null,
            "disabled": false,
            "layout": "IPY_MODEL_c71c08d7314548d5b5d84d8486a6ec00",
            "max": 6,
            "min": 0,
            "orientation": "horizontal",
            "readout": true,
            "readout_format": ".2f",
            "step": 0.01,
            "style": "IPY_MODEL_9e9ff04e7dcf415c94529bde40d02a76",
            "value": 0
          }
        },
        "e4aaf6e6d8da41168b4428b8aac0d361": {
          "model_module": "@jupyter-widgets/controls",
          "model_name": "DropdownModel",
          "model_module_version": "1.5.0",
          "state": {
            "_dom_classes": [],
            "_model_module": "@jupyter-widgets/controls",
            "_model_module_version": "1.5.0",
            "_model_name": "DropdownModel",
            "_options_labels": [
              "0",
              "1",
              "2",
              "3",
              "4",
              "5",
              "6",
              "7",
              "8",
              "9"
            ],
            "_view_count": null,
            "_view_module": "@jupyter-widgets/controls",
            "_view_module_version": "1.5.0",
            "_view_name": "DropdownView",
            "description": "seed",
            "description_tooltip": null,
            "disabled": false,
            "index": 0,
            "layout": "IPY_MODEL_e376afd71fa9474ebe508bfa44bb83d6",
            "style": "IPY_MODEL_fe663087bcde4ed3ad1d02cd61c3a2c3"
          }
        },
        "6a6fd0ea31ce4c88abe8a5d7d886a3d1": {
          "model_module": "@jupyter-widgets/output",
          "model_name": "OutputModel",
          "model_module_version": "1.0.0",
          "state": {
            "_dom_classes": [],
            "_model_module": "@jupyter-widgets/output",
            "_model_module_version": "1.0.0",
            "_model_name": "OutputModel",
            "_view_count": null,
            "_view_module": "@jupyter-widgets/output",
            "_view_module_version": "1.0.0",
            "_view_name": "OutputView",
            "layout": "IPY_MODEL_ff5bec2c96154793adf0f2cc1d16e247",
            "msg_id": "",
            "outputs": []
          }
        },
        "2983d9e525fb44a1b5c1beba38d9bb80": {
          "model_module": "@jupyter-widgets/base",
          "model_name": "LayoutModel",
          "model_module_version": "1.2.0",
          "state": {
            "_model_module": "@jupyter-widgets/base",
            "_model_module_version": "1.2.0",
            "_model_name": "LayoutModel",
            "_view_count": null,
            "_view_module": "@jupyter-widgets/base",
            "_view_module_version": "1.2.0",
            "_view_name": "LayoutView",
            "align_content": null,
            "align_items": null,
            "align_self": null,
            "border": null,
            "bottom": null,
            "display": null,
            "flex": null,
            "flex_flow": null,
            "grid_area": null,
            "grid_auto_columns": null,
            "grid_auto_flow": null,
            "grid_auto_rows": null,
            "grid_column": null,
            "grid_gap": null,
            "grid_row": null,
            "grid_template_areas": null,
            "grid_template_columns": null,
            "grid_template_rows": null,
            "height": null,
            "justify_content": null,
            "justify_items": null,
            "left": null,
            "margin": null,
            "max_height": null,
            "max_width": null,
            "min_height": null,
            "min_width": null,
            "object_fit": null,
            "object_position": null,
            "order": null,
            "overflow": null,
            "overflow_x": null,
            "overflow_y": null,
            "padding": null,
            "right": null,
            "top": null,
            "visibility": null,
            "width": null
          }
        },
        "c71c08d7314548d5b5d84d8486a6ec00": {
          "model_module": "@jupyter-widgets/base",
          "model_name": "LayoutModel",
          "model_module_version": "1.2.0",
          "state": {
            "_model_module": "@jupyter-widgets/base",
            "_model_module_version": "1.2.0",
            "_model_name": "LayoutModel",
            "_view_count": null,
            "_view_module": "@jupyter-widgets/base",
            "_view_module_version": "1.2.0",
            "_view_name": "LayoutView",
            "align_content": null,
            "align_items": null,
            "align_self": null,
            "border": null,
            "bottom": null,
            "display": null,
            "flex": null,
            "flex_flow": null,
            "grid_area": null,
            "grid_auto_columns": null,
            "grid_auto_flow": null,
            "grid_auto_rows": null,
            "grid_column": null,
            "grid_gap": null,
            "grid_row": null,
            "grid_template_areas": null,
            "grid_template_columns": null,
            "grid_template_rows": null,
            "height": null,
            "justify_content": null,
            "justify_items": null,
            "left": null,
            "margin": null,
            "max_height": null,
            "max_width": null,
            "min_height": null,
            "min_width": null,
            "object_fit": null,
            "object_position": null,
            "order": null,
            "overflow": null,
            "overflow_x": null,
            "overflow_y": null,
            "padding": null,
            "right": null,
            "top": null,
            "visibility": null,
            "width": null
          }
        },
        "9e9ff04e7dcf415c94529bde40d02a76": {
          "model_module": "@jupyter-widgets/controls",
          "model_name": "SliderStyleModel",
          "model_module_version": "1.5.0",
          "state": {
            "_model_module": "@jupyter-widgets/controls",
            "_model_module_version": "1.5.0",
            "_model_name": "SliderStyleModel",
            "_view_count": null,
            "_view_module": "@jupyter-widgets/base",
            "_view_module_version": "1.2.0",
            "_view_name": "StyleView",
            "description_width": "",
            "handle_color": null
          }
        },
        "e376afd71fa9474ebe508bfa44bb83d6": {
          "model_module": "@jupyter-widgets/base",
          "model_name": "LayoutModel",
          "model_module_version": "1.2.0",
          "state": {
            "_model_module": "@jupyter-widgets/base",
            "_model_module_version": "1.2.0",
            "_model_name": "LayoutModel",
            "_view_count": null,
            "_view_module": "@jupyter-widgets/base",
            "_view_module_version": "1.2.0",
            "_view_name": "LayoutView",
            "align_content": null,
            "align_items": null,
            "align_self": null,
            "border": null,
            "bottom": null,
            "display": null,
            "flex": null,
            "flex_flow": null,
            "grid_area": null,
            "grid_auto_columns": null,
            "grid_auto_flow": null,
            "grid_auto_rows": null,
            "grid_column": null,
            "grid_gap": null,
            "grid_row": null,
            "grid_template_areas": null,
            "grid_template_columns": null,
            "grid_template_rows": null,
            "height": null,
            "justify_content": null,
            "justify_items": null,
            "left": null,
            "margin": null,
            "max_height": null,
            "max_width": null,
            "min_height": null,
            "min_width": null,
            "object_fit": null,
            "object_position": null,
            "order": null,
            "overflow": null,
            "overflow_x": null,
            "overflow_y": null,
            "padding": null,
            "right": null,
            "top": null,
            "visibility": null,
            "width": null
          }
        },
        "fe663087bcde4ed3ad1d02cd61c3a2c3": {
          "model_module": "@jupyter-widgets/controls",
          "model_name": "DescriptionStyleModel",
          "model_module_version": "1.5.0",
          "state": {
            "_model_module": "@jupyter-widgets/controls",
            "_model_module_version": "1.5.0",
            "_model_name": "DescriptionStyleModel",
            "_view_count": null,
            "_view_module": "@jupyter-widgets/base",
            "_view_module_version": "1.2.0",
            "_view_name": "StyleView",
            "description_width": ""
          }
        },
        "ff5bec2c96154793adf0f2cc1d16e247": {
          "model_module": "@jupyter-widgets/base",
          "model_name": "LayoutModel",
          "model_module_version": "1.2.0",
          "state": {
            "_model_module": "@jupyter-widgets/base",
            "_model_module_version": "1.2.0",
            "_model_name": "LayoutModel",
            "_view_count": null,
            "_view_module": "@jupyter-widgets/base",
            "_view_module_version": "1.2.0",
            "_view_name": "LayoutView",
            "align_content": null,
            "align_items": null,
            "align_self": null,
            "border": null,
            "bottom": null,
            "display": null,
            "flex": null,
            "flex_flow": null,
            "grid_area": null,
            "grid_auto_columns": null,
            "grid_auto_flow": null,
            "grid_auto_rows": null,
            "grid_column": null,
            "grid_gap": null,
            "grid_row": null,
            "grid_template_areas": null,
            "grid_template_columns": null,
            "grid_template_rows": null,
            "height": null,
            "justify_content": null,
            "justify_items": null,
            "left": null,
            "margin": null,
            "max_height": null,
            "max_width": null,
            "min_height": null,
            "min_width": null,
            "object_fit": null,
            "object_position": null,
            "order": null,
            "overflow": null,
            "overflow_x": null,
            "overflow_y": null,
            "padding": null,
            "right": null,
            "top": null,
            "visibility": null,
            "width": null
          }
        },
        "388706bc8adf4a5e9c7ceeaf758ebefb": {
          "model_module": "jupyterlab-plotly",
          "model_name": "FigureModel",
          "model_module_version": "^5.24.1",
          "state": {
            "_config": {
              "plotlyServerURL": "https://plot.ly"
            },
            "_data": [
              {
                "marker": {
                  "size": 12
                },
                "mode": "markers+text",
                "text": [
                  "A",
                  "B",
                  "C"
                ],
                "textfont": {
                  "size": 18
                },
                "textposition": "middle left",
                "x": {
                  "dtype": "float32",
                  "shape": [
                    3
                  ]
                },
                "y": {
                  "dtype": "float32",
                  "shape": [
                    3
                  ]
                },
                "type": "scatter",
                "uid": "71cdff45-952b-4fd1-9b52-ea0d0cb14bc8"
              },
              {
                "mode": "lines",
                "x": [
                  0,
                  4,
                  2,
                  0
                ],
                "y": [
                  0,
                  0.5,
                  3,
                  0
                ],
                "type": "scatter",
                "uid": "2dc066c4-dfe9-4dd5-83a2-18fcfb46d7d5"
              },
              {
                "marker": {
                  "size": 12,
                  "symbol": "x"
                },
                "mode": "markers",
                "x": [],
                "y": [],
                "type": "scatter",
                "uid": "8ca2a371-db05-4424-b89b-ed4c9f133755"
              }
            ],
            "_dom_classes": [],
            "_js2py_layoutDelta": {},
            "_js2py_pointsCallback": {},
            "_js2py_relayout": {},
            "_js2py_restyle": {},
            "_js2py_traceDeltas": {},
            "_js2py_update": {},
            "_last_layout_edit_id": 1,
            "_last_trace_edit_id": 1,
            "_layout": {
              "height": 400,
              "margin": {
                "b": 10,
                "l": 40,
                "t": 60
              },
              "showlegend": false,
              "template": {
                "data": {
                  "barpolar": [
                    {
                      "marker": {
                        "line": {
                          "color": "white",
                          "width": 0.5
                        },
                        "pattern": {
                          "fillmode": "overlay",
                          "size": 10,
                          "solidity": 0.2
                        }
                      },
                      "type": "barpolar"
                    }
                  ],
                  "bar": [
                    {
                      "error_x": {
                        "color": "rgb(36,36,36)"
                      },
                      "error_y": {
                        "color": "rgb(36,36,36)"
                      },
                      "marker": {
                        "line": {
                          "color": "white",
                          "width": 0.5
                        },
                        "pattern": {
                          "fillmode": "overlay",
                          "size": 10,
                          "solidity": 0.2
                        }
                      },
                      "type": "bar"
                    }
                  ],
                  "carpet": [
                    {
                      "aaxis": {
                        "endlinecolor": "rgb(36,36,36)",
                        "gridcolor": "white",
                        "linecolor": "white",
                        "minorgridcolor": "white",
                        "startlinecolor": "rgb(36,36,36)"
                      },
                      "baxis": {
                        "endlinecolor": "rgb(36,36,36)",
                        "gridcolor": "white",
                        "linecolor": "white",
                        "minorgridcolor": "white",
                        "startlinecolor": "rgb(36,36,36)"
                      },
                      "type": "carpet"
                    }
                  ],
                  "choropleth": [
                    {
                      "colorbar": {
                        "outlinewidth": 1,
                        "tickcolor": "rgb(36,36,36)",
                        "ticks": "outside"
                      },
                      "type": "choropleth"
                    }
                  ],
                  "contourcarpet": [
                    {
                      "colorbar": {
                        "outlinewidth": 1,
                        "tickcolor": "rgb(36,36,36)",
                        "ticks": "outside"
                      },
                      "type": "contourcarpet"
                    }
                  ],
                  "contour": [
                    {
                      "colorbar": {
                        "outlinewidth": 1,
                        "tickcolor": "rgb(36,36,36)",
                        "ticks": "outside"
                      },
                      "colorscale": [
                        [
                          0,
                          "#440154"
                        ],
                        [
                          0.1111111111111111,
                          "#482878"
                        ],
                        [
                          0.2222222222222222,
                          "#3e4989"
                        ],
                        [
                          0.3333333333333333,
                          "#31688e"
                        ],
                        [
                          0.4444444444444444,
                          "#26828e"
                        ],
                        [
                          0.5555555555555556,
                          "#1f9e89"
                        ],
                        [
                          0.6666666666666666,
                          "#35b779"
                        ],
                        [
                          0.7777777777777778,
                          "#6ece58"
                        ],
                        [
                          0.8888888888888888,
                          "#b5de2b"
                        ],
                        [
                          1,
                          "#fde725"
                        ]
                      ],
                      "type": "contour"
                    }
                  ],
                  "heatmapgl": [
                    {
                      "colorbar": {
                        "outlinewidth": 1,
                        "tickcolor": "rgb(36,36,36)",
                        "ticks": "outside"
                      },
                      "colorscale": [
                        [
                          0,
                          "#440154"
                        ],
                        [
                          0.1111111111111111,
                          "#482878"
                        ],
                        [
                          0.2222222222222222,
                          "#3e4989"
                        ],
                        [
                          0.3333333333333333,
                          "#31688e"
                        ],
                        [
                          0.4444444444444444,
                          "#26828e"
                        ],
                        [
                          0.5555555555555556,
                          "#1f9e89"
                        ],
                        [
                          0.6666666666666666,
                          "#35b779"
                        ],
                        [
                          0.7777777777777778,
                          "#6ece58"
                        ],
                        [
                          0.8888888888888888,
                          "#b5de2b"
                        ],
                        [
                          1,
                          "#fde725"
                        ]
                      ],
                      "type": "heatmapgl"
                    }
                  ],
                  "heatmap": [
                    {
                      "colorbar": {
                        "outlinewidth": 1,
                        "tickcolor": "rgb(36,36,36)",
                        "ticks": "outside"
                      },
                      "colorscale": [
                        [
                          0,
                          "#440154"
                        ],
                        [
                          0.1111111111111111,
                          "#482878"
                        ],
                        [
                          0.2222222222222222,
                          "#3e4989"
                        ],
                        [
                          0.3333333333333333,
                          "#31688e"
                        ],
                        [
                          0.4444444444444444,
                          "#26828e"
                        ],
                        [
                          0.5555555555555556,
                          "#1f9e89"
                        ],
                        [
                          0.6666666666666666,
                          "#35b779"
                        ],
                        [
                          0.7777777777777778,
                          "#6ece58"
                        ],
                        [
                          0.8888888888888888,
                          "#b5de2b"
                        ],
                        [
                          1,
                          "#fde725"
                        ]
                      ],
                      "type": "heatmap"
                    }
                  ],
                  "histogram2dcontour": [
                    {
                      "colorbar": {
                        "outlinewidth": 1,
                        "tickcolor": "rgb(36,36,36)",
                        "ticks": "outside"
                      },
                      "colorscale": [
                        [
                          0,
                          "#440154"
                        ],
                        [
                          0.1111111111111111,
                          "#482878"
                        ],
                        [
                          0.2222222222222222,
                          "#3e4989"
                        ],
                        [
                          0.3333333333333333,
                          "#31688e"
                        ],
                        [
                          0.4444444444444444,
                          "#26828e"
                        ],
                        [
                          0.5555555555555556,
                          "#1f9e89"
                        ],
                        [
                          0.6666666666666666,
                          "#35b779"
                        ],
                        [
                          0.7777777777777778,
                          "#6ece58"
                        ],
                        [
                          0.8888888888888888,
                          "#b5de2b"
                        ],
                        [
                          1,
                          "#fde725"
                        ]
                      ],
                      "type": "histogram2dcontour"
                    }
                  ],
                  "histogram2d": [
                    {
                      "colorbar": {
                        "outlinewidth": 1,
                        "tickcolor": "rgb(36,36,36)",
                        "ticks": "outside"
                      },
                      "colorscale": [
                        [
                          0,
                          "#440154"
                        ],
                        [
                          0.1111111111111111,
                          "#482878"
                        ],
                        [
                          0.2222222222222222,
                          "#3e4989"
                        ],
                        [
                          0.3333333333333333,
                          "#31688e"
                        ],
                        [
                          0.4444444444444444,
                          "#26828e"
                        ],
                        [
                          0.5555555555555556,
                          "#1f9e89"
                        ],
                        [
                          0.6666666666666666,
                          "#35b779"
                        ],
                        [
                          0.7777777777777778,
                          "#6ece58"
                        ],
                        [
                          0.8888888888888888,
                          "#b5de2b"
                        ],
                        [
                          1,
                          "#fde725"
                        ]
                      ],
                      "type": "histogram2d"
                    }
                  ],
                  "histogram": [
                    {
                      "marker": {
                        "line": {
                          "color": "white",
                          "width": 0.6
                        }
                      },
                      "type": "histogram"
                    }
                  ],
                  "mesh3d": [
                    {
                      "colorbar": {
                        "outlinewidth": 1,
                        "tickcolor": "rgb(36,36,36)",
                        "ticks": "outside"
                      },
                      "type": "mesh3d"
                    }
                  ],
                  "parcoords": [
                    {
                      "line": {
                        "colorbar": {
                          "outlinewidth": 1,
                          "tickcolor": "rgb(36,36,36)",
                          "ticks": "outside"
                        }
                      },
                      "type": "parcoords"
                    }
                  ],
                  "pie": [
                    {
                      "automargin": true,
                      "type": "pie"
                    }
                  ],
                  "scatter3d": [
                    {
                      "line": {
                        "colorbar": {
                          "outlinewidth": 1,
                          "tickcolor": "rgb(36,36,36)",
                          "ticks": "outside"
                        }
                      },
                      "marker": {
                        "colorbar": {
                          "outlinewidth": 1,
                          "tickcolor": "rgb(36,36,36)",
                          "ticks": "outside"
                        }
                      },
                      "type": "scatter3d"
                    }
                  ],
                  "scattercarpet": [
                    {
                      "marker": {
                        "colorbar": {
                          "outlinewidth": 1,
                          "tickcolor": "rgb(36,36,36)",
                          "ticks": "outside"
                        }
                      },
                      "type": "scattercarpet"
                    }
                  ],
                  "scattergeo": [
                    {
                      "marker": {
                        "colorbar": {
                          "outlinewidth": 1,
                          "tickcolor": "rgb(36,36,36)",
                          "ticks": "outside"
                        }
                      },
                      "type": "scattergeo"
                    }
                  ],
                  "scattergl": [
                    {
                      "marker": {
                        "colorbar": {
                          "outlinewidth": 1,
                          "tickcolor": "rgb(36,36,36)",
                          "ticks": "outside"
                        }
                      },
                      "type": "scattergl"
                    }
                  ],
                  "scattermapbox": [
                    {
                      "marker": {
                        "colorbar": {
                          "outlinewidth": 1,
                          "tickcolor": "rgb(36,36,36)",
                          "ticks": "outside"
                        }
                      },
                      "type": "scattermapbox"
                    }
                  ],
                  "scatterpolargl": [
                    {
                      "marker": {
                        "colorbar": {
                          "outlinewidth": 1,
                          "tickcolor": "rgb(36,36,36)",
                          "ticks": "outside"
                        }
                      },
                      "type": "scatterpolargl"
                    }
                  ],
                  "scatterpolar": [
                    {
                      "marker": {
                        "colorbar": {
                          "outlinewidth": 1,
                          "tickcolor": "rgb(36,36,36)",
                          "ticks": "outside"
                        }
                      },
                      "type": "scatterpolar"
                    }
                  ],
                  "scatter": [
                    {
                      "fillpattern": {
                        "fillmode": "overlay",
                        "size": 10,
                        "solidity": 0.2
                      },
                      "type": "scatter"
                    }
                  ],
                  "scatterternary": [
                    {
                      "marker": {
                        "colorbar": {
                          "outlinewidth": 1,
                          "tickcolor": "rgb(36,36,36)",
                          "ticks": "outside"
                        }
                      },
                      "type": "scatterternary"
                    }
                  ],
                  "surface": [
                    {
                      "colorbar": {
                        "outlinewidth": 1,
                        "tickcolor": "rgb(36,36,36)",
                        "ticks": "outside"
                      },
                      "colorscale": [
                        [
                          0,
                          "#440154"
                        ],
                        [
                          0.1111111111111111,
                          "#482878"
                        ],
                        [
                          0.2222222222222222,
                          "#3e4989"
                        ],
                        [
                          0.3333333333333333,
                          "#31688e"
                        ],
                        [
                          0.4444444444444444,
                          "#26828e"
                        ],
                        [
                          0.5555555555555556,
                          "#1f9e89"
                        ],
                        [
                          0.6666666666666666,
                          "#35b779"
                        ],
                        [
                          0.7777777777777778,
                          "#6ece58"
                        ],
                        [
                          0.8888888888888888,
                          "#b5de2b"
                        ],
                        [
                          1,
                          "#fde725"
                        ]
                      ],
                      "type": "surface"
                    }
                  ],
                  "table": [
                    {
                      "cells": {
                        "fill": {
                          "color": "rgb(237,237,237)"
                        },
                        "line": {
                          "color": "white"
                        }
                      },
                      "header": {
                        "fill": {
                          "color": "rgb(217,217,217)"
                        },
                        "line": {
                          "color": "white"
                        }
                      },
                      "type": "table"
                    }
                  ]
                },
                "layout": {
                  "annotationdefaults": {
                    "arrowhead": 0,
                    "arrowwidth": 1
                  },
                  "autotypenumbers": "strict",
                  "coloraxis": {
                    "colorbar": {
                      "outlinewidth": 1,
                      "tickcolor": "rgb(36,36,36)",
                      "ticks": "outside"
                    }
                  },
                  "colorscale": {
                    "diverging": [
                      [
                        0,
                        "rgb(103,0,31)"
                      ],
                      [
                        0.1,
                        "rgb(178,24,43)"
                      ],
                      [
                        0.2,
                        "rgb(214,96,77)"
                      ],
                      [
                        0.3,
                        "rgb(244,165,130)"
                      ],
                      [
                        0.4,
                        "rgb(253,219,199)"
                      ],
                      [
                        0.5,
                        "rgb(247,247,247)"
                      ],
                      [
                        0.6,
                        "rgb(209,229,240)"
                      ],
                      [
                        0.7,
                        "rgb(146,197,222)"
                      ],
                      [
                        0.8,
                        "rgb(67,147,195)"
                      ],
                      [
                        0.9,
                        "rgb(33,102,172)"
                      ],
                      [
                        1,
                        "rgb(5,48,97)"
                      ]
                    ],
                    "sequential": [
                      [
                        0,
                        "#440154"
                      ],
                      [
                        0.1111111111111111,
                        "#482878"
                      ],
                      [
                        0.2222222222222222,
                        "#3e4989"
                      ],
                      [
                        0.3333333333333333,
                        "#31688e"
                      ],
                      [
                        0.4444444444444444,
                        "#26828e"
                      ],
                      [
                        0.5555555555555556,
                        "#1f9e89"
                      ],
                      [
                        0.6666666666666666,
                        "#35b779"
                      ],
                      [
                        0.7777777777777778,
                        "#6ece58"
                      ],
                      [
                        0.8888888888888888,
                        "#b5de2b"
                      ],
                      [
                        1,
                        "#fde725"
                      ]
                    ],
                    "sequentialminus": [
                      [
                        0,
                        "#440154"
                      ],
                      [
                        0.1111111111111111,
                        "#482878"
                      ],
                      [
                        0.2222222222222222,
                        "#3e4989"
                      ],
                      [
                        0.3333333333333333,
                        "#31688e"
                      ],
                      [
                        0.4444444444444444,
                        "#26828e"
                      ],
                      [
                        0.5555555555555556,
                        "#1f9e89"
                      ],
                      [
                        0.6666666666666666,
                        "#35b779"
                      ],
                      [
                        0.7777777777777778,
                        "#6ece58"
                      ],
                      [
                        0.8888888888888888,
                        "#b5de2b"
                      ],
                      [
                        1,
                        "#fde725"
                      ]
                    ]
                  },
                  "colorway": [
                    "#1F77B4",
                    "#FF7F0E",
                    "#2CA02C",
                    "#D62728",
                    "#9467BD",
                    "#8C564B",
                    "#E377C2",
                    "#7F7F7F",
                    "#BCBD22",
                    "#17BECF"
                  ],
                  "font": {
                    "color": "rgb(36,36,36)"
                  },
                  "geo": {
                    "bgcolor": "white",
                    "lakecolor": "white",
                    "landcolor": "white",
                    "showlakes": true,
                    "showland": true,
                    "subunitcolor": "white"
                  },
                  "hoverlabel": {
                    "align": "left"
                  },
                  "hovermode": "closest",
                  "mapbox": {
                    "style": "light"
                  },
                  "paper_bgcolor": "white",
                  "plot_bgcolor": "white",
                  "polar": {
                    "angularaxis": {
                      "gridcolor": "rgb(232,232,232)",
                      "linecolor": "rgb(36,36,36)",
                      "showgrid": false,
                      "showline": true,
                      "ticks": "outside"
                    },
                    "bgcolor": "white",
                    "radialaxis": {
                      "gridcolor": "rgb(232,232,232)",
                      "linecolor": "rgb(36,36,36)",
                      "showgrid": false,
                      "showline": true,
                      "ticks": "outside"
                    }
                  },
                  "scene": {
                    "xaxis": {
                      "backgroundcolor": "white",
                      "gridcolor": "rgb(232,232,232)",
                      "gridwidth": 2,
                      "linecolor": "rgb(36,36,36)",
                      "showbackground": true,
                      "showgrid": false,
                      "showline": true,
                      "ticks": "outside",
                      "zeroline": false,
                      "zerolinecolor": "rgb(36,36,36)"
                    },
                    "yaxis": {
                      "backgroundcolor": "white",
                      "gridcolor": "rgb(232,232,232)",
                      "gridwidth": 2,
                      "linecolor": "rgb(36,36,36)",
                      "showbackground": true,
                      "showgrid": false,
                      "showline": true,
                      "ticks": "outside",
                      "zeroline": false,
                      "zerolinecolor": "rgb(36,36,36)"
                    },
                    "zaxis": {
                      "backgroundcolor": "white",
                      "gridcolor": "rgb(232,232,232)",
                      "gridwidth": 2,
                      "linecolor": "rgb(36,36,36)",
                      "showbackground": true,
                      "showgrid": false,
                      "showline": true,
                      "ticks": "outside",
                      "zeroline": false,
                      "zerolinecolor": "rgb(36,36,36)"
                    }
                  },
                  "shapedefaults": {
                    "fillcolor": "black",
                    "line": {
                      "width": 0
                    },
                    "opacity": 0.3
                  },
                  "ternary": {
                    "aaxis": {
                      "gridcolor": "rgb(232,232,232)",
                      "linecolor": "rgb(36,36,36)",
                      "showgrid": false,
                      "showline": true,
                      "ticks": "outside"
                    },
                    "baxis": {
                      "gridcolor": "rgb(232,232,232)",
                      "linecolor": "rgb(36,36,36)",
                      "showgrid": false,
                      "showline": true,
                      "ticks": "outside"
                    },
                    "bgcolor": "white",
                    "caxis": {
                      "gridcolor": "rgb(232,232,232)",
                      "linecolor": "rgb(36,36,36)",
                      "showgrid": false,
                      "showline": true,
                      "ticks": "outside"
                    }
                  },
                  "title": {
                    "x": 0.05
                  },
                  "xaxis": {
                    "automargin": true,
                    "gridcolor": "rgb(232,232,232)",
                    "linecolor": "rgb(36,36,36)",
                    "showgrid": false,
                    "showline": true,
                    "ticks": "outside",
                    "title": {
                      "standoff": 15
                    },
                    "zeroline": false,
                    "zerolinecolor": "rgb(36,36,36)"
                  },
                  "yaxis": {
                    "automargin": true,
                    "gridcolor": "rgb(232,232,232)",
                    "linecolor": "rgb(36,36,36)",
                    "showgrid": false,
                    "showline": true,
                    "ticks": "outside",
                    "title": {
                      "standoff": 15
                    },
                    "zeroline": false,
                    "zerolinecolor": "rgb(36,36,36)"
                  }
                }
              },
              "title": {
                "text": "Barycentric coordinates illustration"
              },
              "width": 500,
              "xaxis": {
                "range": [
                  -3,
                  8
                ]
              },
              "yaxis": {
                "range": [
                  -2,
                  5.5
                ]
              }
            },
            "_model_module": "jupyterlab-plotly",
            "_model_module_version": "^5.24.1",
            "_model_name": "FigureModel",
            "_py2js_addTraces": {},
            "_py2js_animate": {},
            "_py2js_deleteTraces": {},
            "_py2js_moveTraces": {},
            "_py2js_relayout": {},
            "_py2js_removeLayoutProps": {},
            "_py2js_removeTraceProps": {},
            "_py2js_restyle": {},
            "_py2js_update": null,
            "_view_count": 0,
            "_view_module": "jupyterlab-plotly",
            "_view_module_version": "^5.24.1",
            "_view_name": "FigureView"
          }
        },
        "05eadfb51ca14a25bf58ed46855672b6": {
          "model_module": "@jupyter-widgets/controls",
          "model_name": "VBoxModel",
          "model_module_version": "1.5.0",
          "state": {
            "_dom_classes": [
              "widget-interact"
            ],
            "_model_module": "@jupyter-widgets/controls",
            "_model_module_version": "1.5.0",
            "_model_name": "VBoxModel",
            "_view_count": null,
            "_view_module": "@jupyter-widgets/controls",
            "_view_module_version": "1.5.0",
            "_view_name": "VBoxView",
            "box_style": "",
            "children": [
              "IPY_MODEL_0710b319ca7240778f38e662d402749b",
              "IPY_MODEL_239223d029704a6f97aefaa35bcaddd8",
              "IPY_MODEL_5794e7455604404ea069ce12dec4d931"
            ],
            "layout": "IPY_MODEL_eac09b261c8a4341ae20b59978d06b2a"
          }
        },
        "0710b319ca7240778f38e662d402749b": {
          "model_module": "@jupyter-widgets/controls",
          "model_name": "FloatSliderModel",
          "model_module_version": "1.5.0",
          "state": {
            "_dom_classes": [],
            "_model_module": "@jupyter-widgets/controls",
            "_model_module_version": "1.5.0",
            "_model_name": "FloatSliderModel",
            "_view_count": null,
            "_view_module": "@jupyter-widgets/controls",
            "_view_module_version": "1.5.0",
            "_view_name": "FloatSliderView",
            "continuous_update": true,
            "description": "u",
            "description_tooltip": null,
            "disabled": false,
            "layout": "IPY_MODEL_7ff43a415b2048c8b2ff25c4b1a4f2d0",
            "max": 1.5,
            "min": -0.5,
            "orientation": "horizontal",
            "readout": true,
            "readout_format": ".2f",
            "step": 0.01,
            "style": "IPY_MODEL_0f23bdddff3f4990bacef0e2e17e1d0f",
            "value": 0
          }
        },
        "239223d029704a6f97aefaa35bcaddd8": {
          "model_module": "@jupyter-widgets/controls",
          "model_name": "FloatSliderModel",
          "model_module_version": "1.5.0",
          "state": {
            "_dom_classes": [],
            "_model_module": "@jupyter-widgets/controls",
            "_model_module_version": "1.5.0",
            "_model_name": "FloatSliderModel",
            "_view_count": null,
            "_view_module": "@jupyter-widgets/controls",
            "_view_module_version": "1.5.0",
            "_view_name": "FloatSliderView",
            "continuous_update": true,
            "description": "v",
            "description_tooltip": null,
            "disabled": false,
            "layout": "IPY_MODEL_d316f7555bc34517a25b948e73674497",
            "max": 1.5,
            "min": -0.5,
            "orientation": "horizontal",
            "readout": true,
            "readout_format": ".2f",
            "step": 0.01,
            "style": "IPY_MODEL_a0680b6021ab40f9b6c2d6045550de92",
            "value": 0
          }
        },
        "5794e7455604404ea069ce12dec4d931": {
          "model_module": "@jupyter-widgets/output",
          "model_name": "OutputModel",
          "model_module_version": "1.0.0",
          "state": {
            "_dom_classes": [],
            "_model_module": "@jupyter-widgets/output",
            "_model_module_version": "1.0.0",
            "_model_name": "OutputModel",
            "_view_count": null,
            "_view_module": "@jupyter-widgets/output",
            "_view_module_version": "1.0.0",
            "_view_name": "OutputView",
            "layout": "IPY_MODEL_30d8896e11e34682afe18583224af16c",
            "msg_id": "",
            "outputs": []
          }
        },
        "eac09b261c8a4341ae20b59978d06b2a": {
          "model_module": "@jupyter-widgets/base",
          "model_name": "LayoutModel",
          "model_module_version": "1.2.0",
          "state": {
            "_model_module": "@jupyter-widgets/base",
            "_model_module_version": "1.2.0",
            "_model_name": "LayoutModel",
            "_view_count": null,
            "_view_module": "@jupyter-widgets/base",
            "_view_module_version": "1.2.0",
            "_view_name": "LayoutView",
            "align_content": null,
            "align_items": null,
            "align_self": null,
            "border": null,
            "bottom": null,
            "display": null,
            "flex": null,
            "flex_flow": null,
            "grid_area": null,
            "grid_auto_columns": null,
            "grid_auto_flow": null,
            "grid_auto_rows": null,
            "grid_column": null,
            "grid_gap": null,
            "grid_row": null,
            "grid_template_areas": null,
            "grid_template_columns": null,
            "grid_template_rows": null,
            "height": null,
            "justify_content": null,
            "justify_items": null,
            "left": null,
            "margin": null,
            "max_height": null,
            "max_width": null,
            "min_height": null,
            "min_width": null,
            "object_fit": null,
            "object_position": null,
            "order": null,
            "overflow": null,
            "overflow_x": null,
            "overflow_y": null,
            "padding": null,
            "right": null,
            "top": null,
            "visibility": null,
            "width": null
          }
        },
        "7ff43a415b2048c8b2ff25c4b1a4f2d0": {
          "model_module": "@jupyter-widgets/base",
          "model_name": "LayoutModel",
          "model_module_version": "1.2.0",
          "state": {
            "_model_module": "@jupyter-widgets/base",
            "_model_module_version": "1.2.0",
            "_model_name": "LayoutModel",
            "_view_count": null,
            "_view_module": "@jupyter-widgets/base",
            "_view_module_version": "1.2.0",
            "_view_name": "LayoutView",
            "align_content": null,
            "align_items": null,
            "align_self": null,
            "border": null,
            "bottom": null,
            "display": null,
            "flex": null,
            "flex_flow": null,
            "grid_area": null,
            "grid_auto_columns": null,
            "grid_auto_flow": null,
            "grid_auto_rows": null,
            "grid_column": null,
            "grid_gap": null,
            "grid_row": null,
            "grid_template_areas": null,
            "grid_template_columns": null,
            "grid_template_rows": null,
            "height": null,
            "justify_content": null,
            "justify_items": null,
            "left": null,
            "margin": null,
            "max_height": null,
            "max_width": null,
            "min_height": null,
            "min_width": null,
            "object_fit": null,
            "object_position": null,
            "order": null,
            "overflow": null,
            "overflow_x": null,
            "overflow_y": null,
            "padding": null,
            "right": null,
            "top": null,
            "visibility": null,
            "width": null
          }
        },
        "0f23bdddff3f4990bacef0e2e17e1d0f": {
          "model_module": "@jupyter-widgets/controls",
          "model_name": "SliderStyleModel",
          "model_module_version": "1.5.0",
          "state": {
            "_model_module": "@jupyter-widgets/controls",
            "_model_module_version": "1.5.0",
            "_model_name": "SliderStyleModel",
            "_view_count": null,
            "_view_module": "@jupyter-widgets/base",
            "_view_module_version": "1.2.0",
            "_view_name": "StyleView",
            "description_width": "",
            "handle_color": null
          }
        },
        "d316f7555bc34517a25b948e73674497": {
          "model_module": "@jupyter-widgets/base",
          "model_name": "LayoutModel",
          "model_module_version": "1.2.0",
          "state": {
            "_model_module": "@jupyter-widgets/base",
            "_model_module_version": "1.2.0",
            "_model_name": "LayoutModel",
            "_view_count": null,
            "_view_module": "@jupyter-widgets/base",
            "_view_module_version": "1.2.0",
            "_view_name": "LayoutView",
            "align_content": null,
            "align_items": null,
            "align_self": null,
            "border": null,
            "bottom": null,
            "display": null,
            "flex": null,
            "flex_flow": null,
            "grid_area": null,
            "grid_auto_columns": null,
            "grid_auto_flow": null,
            "grid_auto_rows": null,
            "grid_column": null,
            "grid_gap": null,
            "grid_row": null,
            "grid_template_areas": null,
            "grid_template_columns": null,
            "grid_template_rows": null,
            "height": null,
            "justify_content": null,
            "justify_items": null,
            "left": null,
            "margin": null,
            "max_height": null,
            "max_width": null,
            "min_height": null,
            "min_width": null,
            "object_fit": null,
            "object_position": null,
            "order": null,
            "overflow": null,
            "overflow_x": null,
            "overflow_y": null,
            "padding": null,
            "right": null,
            "top": null,
            "visibility": null,
            "width": null
          }
        },
        "a0680b6021ab40f9b6c2d6045550de92": {
          "model_module": "@jupyter-widgets/controls",
          "model_name": "SliderStyleModel",
          "model_module_version": "1.5.0",
          "state": {
            "_model_module": "@jupyter-widgets/controls",
            "_model_module_version": "1.5.0",
            "_model_name": "SliderStyleModel",
            "_view_count": null,
            "_view_module": "@jupyter-widgets/base",
            "_view_module_version": "1.2.0",
            "_view_name": "StyleView",
            "description_width": "",
            "handle_color": null
          }
        },
        "30d8896e11e34682afe18583224af16c": {
          "model_module": "@jupyter-widgets/base",
          "model_name": "LayoutModel",
          "model_module_version": "1.2.0",
          "state": {
            "_model_module": "@jupyter-widgets/base",
            "_model_module_version": "1.2.0",
            "_model_name": "LayoutModel",
            "_view_count": null,
            "_view_module": "@jupyter-widgets/base",
            "_view_module_version": "1.2.0",
            "_view_name": "LayoutView",
            "align_content": null,
            "align_items": null,
            "align_self": null,
            "border": null,
            "bottom": null,
            "display": null,
            "flex": null,
            "flex_flow": null,
            "grid_area": null,
            "grid_auto_columns": null,
            "grid_auto_flow": null,
            "grid_auto_rows": null,
            "grid_column": null,
            "grid_gap": null,
            "grid_row": null,
            "grid_template_areas": null,
            "grid_template_columns": null,
            "grid_template_rows": null,
            "height": null,
            "justify_content": null,
            "justify_items": null,
            "left": null,
            "margin": null,
            "max_height": null,
            "max_width": null,
            "min_height": null,
            "min_width": null,
            "object_fit": null,
            "object_position": null,
            "order": null,
            "overflow": null,
            "overflow_x": null,
            "overflow_y": null,
            "padding": null,
            "right": null,
            "top": null,
            "visibility": null,
            "width": null
          }
        }
      }
    }
  },
  "nbformat": 4,
  "nbformat_minor": 0
}